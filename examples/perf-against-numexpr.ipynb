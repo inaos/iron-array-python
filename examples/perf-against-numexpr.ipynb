{
 "cells": [
  {
   "cell_type": "markdown",
   "metadata": {},
   "source": [
    "# Performance comparison between *iarray* and *numexpr*"
   ]
  },
  {
   "cell_type": "code",
   "execution_count": 1,
   "metadata": {},
   "outputs": [],
   "source": [
    "import iarray as ia\n",
    "import numpy as np\n",
    "import numexpr as ne"
   ]
  },
  {
   "cell_type": "code",
   "execution_count": 2,
   "metadata": {},
   "outputs": [],
   "source": [
    "# In order to compare pears with pears we set the number of threads in numexpr to 1\n",
    "_ = ne.set_num_threads(1)"
   ]
  },
  {
   "cell_type": "code",
   "execution_count": 3,
   "metadata": {},
   "outputs": [],
   "source": [
    "ia.init()\n",
    "\n",
    "cfg = ia.config_new(eval_flags=\"iterblock\", blocksize=16*1024, compression_level=0, compression_codec=1)\n",
    "ctx = ia.context_new(cfg)"
   ]
  },
  {
   "cell_type": "code",
   "execution_count": 4,
   "metadata": {},
   "outputs": [],
   "source": [
    "# Vectors properties\n",
    "shape = [10 * 200 * 1000]\n",
    "pshape = [200 * 1000]\n",
    "size = int(np.prod(shape))"
   ]
  },
  {
   "cell_type": "code",
   "execution_count": 5,
   "metadata": {},
   "outputs": [
    {
     "name": "stdout",
     "output_type": "stream",
     "text": [
      "22.8 ms ± 1.25 ms per loop (mean ± std. dev. of 7 runs, 10 loops each)\n"
     ]
    }
   ],
   "source": [
    "# Create iarray containers\n",
    "a = ia.linspace(ctx, size, 0, 10, pshape=pshape)\n",
    "out = ia.container_new(ctx, shape, pshape)\n",
    "\n",
    "# Create iarray expression\n",
    "expr = ia.expr_new(ctx)\n",
    "\n",
    "# Bind iarray containers\n",
    "ia.expr_bind(expr, b'x', a)\n",
    "\n",
    "# Compile a+b expression\n",
    "ia.expr_compile(expr, b'(x - 1.35) * (x - 4.45) * (x - 8.5)')\n",
    "\n",
    "# Eval expression\n",
    "%timeit ia.expr_eval(expr, out)"
   ]
  },
  {
   "cell_type": "code",
   "execution_count": 6,
   "metadata": {},
   "outputs": [
    {
     "name": "stdout",
     "output_type": "stream",
     "text": [
      "7.73 ms ± 688 µs per loop (mean ± std. dev. of 7 runs, 100 loops each)\n"
     ]
    }
   ],
   "source": [
    "# Create a numpy array for numexpr\n",
    "x = ia.iarray2numpy(ctx, a)\n",
    "out2 = np.empty(x.shape, dtype=x.dtype)\n",
    "\n",
    "# Eval numexpr expression\n",
    "%timeit ne.evaluate(\"(x - 1.35) * (x - 4.45) * (x - 8.5)\", out=out2)"
   ]
  },
  {
   "cell_type": "code",
   "execution_count": 7,
   "metadata": {},
   "outputs": [],
   "source": [
    "np.testing.assert_almost_equal(ia.iarray2numpy(ctx, out), out2)"
   ]
  },
  {
   "cell_type": "code",
   "execution_count": 8,
   "metadata": {},
   "outputs": [],
   "source": [
    "# Free data\n",
    "ia.expr_free(ctx, expr)\n",
    "ia.container_free(ctx, a)\n",
    "ia.container_free(ctx, out)\n",
    "ia.context_free(ctx)\n",
    "\n",
    "# Destroy iarray\n",
    "ia.destroy()"
   ]
  }
 ],
 "metadata": {
  "kernelspec": {
   "display_name": "Python 3",
   "language": "python",
   "name": "python3"
  },
  "language_info": {
   "codemirror_mode": {
    "name": "ipython",
    "version": 3
   },
   "file_extension": ".py",
   "mimetype": "text/x-python",
   "name": "python",
   "nbconvert_exporter": "python",
   "pygments_lexer": "ipython3",
   "version": "3.6.8"
  }
 },
 "nbformat": 4,
 "nbformat_minor": 2
}
