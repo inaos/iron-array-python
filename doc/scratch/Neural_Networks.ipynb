{
 "cells": [
  {
   "cell_type": "markdown",
   "metadata": {
    "pycharm": {
     "name": "#%% md\n"
    }
   },
   "source": [
    "# Neural Networks"
   ]
  },
  {
   "cell_type": "markdown",
   "metadata": {},
   "source": [
    "We are going to see an example of what we can do with the functions described in the [Linear Algebra tutorial](https://ironarray.io/docs/html/tutorials/linear-algebra.html). We are going to implement a simple neural network using these functions and some other *ironArray* modules like expressions or random generators."
   ]
  },
  {
   "cell_type": "markdown",
   "metadata": {},
   "source": [
    "First of all, we have to generate the dataset that we use in our Neural Network."
   ]
  },
  {
   "cell_type": "code",
   "execution_count": 17,
   "metadata": {},
   "outputs": [],
   "source": [
    "import iarray as ia\n",
    "import numpy as np\n",
    "from sklearn.datasets import make_classification\n",
    "from sklearn.model_selection import train_test_split\n",
    "from sklearn.metrics import accuracy_score\n",
    "\n",
    "coord, cl = make_classification(20000, 1000)\n",
    "X, Xt, y, yt = train_test_split(coord, cl, test_size=0.3)\n",
    "\n",
    "training_inputs = ia.numpy2iarray(X.astype(np.float64))\n",
    "training_labels = ia.numpy2iarray(y.astype(np.float64).reshape(-1, 1))\n",
    "inputs = ia.numpy2iarray(Xt.astype(np.float64))"
   ]
  },
  {
   "cell_type": "markdown",
   "metadata": {},
   "source": [
    "Now, we create a class implementing a neural network with a hidden layer."
   ]
  },
  {
   "cell_type": "code",
   "execution_count": 18,
   "metadata": {},
   "outputs": [],
   "source": [
    "class NN(object):\n",
    "    \n",
    "    def __init__(self, input_layer, hidden_layer, output_layer, random_seed=1):\n",
    "        ia.set_config_defaults(seed=random_seed)\n",
    "        self.l1_weights = ia.random.standard_normal((input_layer, hidden_layer))\n",
    "        self.l2_weights = ia.random.standard_normal((hidden_layer, output_layer))\n",
    "\n",
    "    def _sigmoid(self, x):\n",
    "        return ia.expr_from_string(\"1 / (1 + exp(-x))\", {\"x\": x}).eval()\n",
    "\n",
    "    def _sigmoid_prime(self, x):\n",
    "        return ia.expr_from_string(\"x * (1 - x)\", {\"x\": x}).eval()\n",
    "    \n",
    "    def feed_forward(self, X):\n",
    "        l1_output = ia.matmul(X, self.l1_weights)\n",
    "        l1_output = self._sigmoid(l1_output)\n",
    "\n",
    "        l2_output = ia.matmul(l1_output, self.l2_weights)\n",
    "        l2_output = self._sigmoid(l2_output)\n",
    "\n",
    "        return l1_output, l2_output\n",
    "    \n",
    "    def backpropagation(self, l1, l2, y):\n",
    "        \n",
    "        l2_error = (y - l2).eval()\n",
    "        \n",
    "        l2_delta = (l2_error * self._sigmoid_prime(l2)).eval()\n",
    "\n",
    "        l1_error = ia.matmul(l2_delta, self.l2_weights.T)\n",
    "\n",
    "        l1_delta = (l1_error * self._sigmoid_prime(l1)).eval()\n",
    "        \n",
    "        return l2_error, l1_delta, l2_delta\n",
    "\n",
    "    def update_weights(self, X, l1, l1_delta, l2_delta, alpha=0.01):\n",
    "        expr = f\"w + {alpha} * d\"\n",
    "        d2 = ia.matmul(l1.T, l2_delta)\n",
    "        d1 = ia.matmul(X.T, l1_delta)\n",
    "\n",
    "        self.l2_weights = ia.expr_from_string(expr, {\"w\": self.l2_weights, \"d\": d2}).eval()\n",
    "        self.l1_weights = ia.expr_from_string(expr, {\"w\": self.l1_weights, \"d\": d1}).eval()\n",
    "\n",
    "    def predict(self, X):\n",
    "        _, l2 = self.feed_forward(X)\n",
    "        return l2\n",
    "\n",
    "    def train(self, X, y, threshold=400, alpha=0.01):\n",
    "        for j in range(threshold + 1):\n",
    "            l1, l2 = self.feed_forward(X)\n",
    "            l2_error, l1_delta, l2_delta = self.backpropagation(l1, l2, y)\n",
    "            self.update_weights(X, l1, l1_delta, l2_delta, alpha=alpha)\n",
    "            if(j % 100 == 0):\n",
    "                train_error = ia.mean(ia.abs(l2_error).eval())\n",
    "                print(\"epoch {:5} \".format(j),end='-')\n",
    "                print(' error: {:0.4f} '.format(train_error))"
   ]
  },
  {
   "cell_type": "markdown",
   "metadata": {},
   "source": [
    "Once the NN is created, we create a NN and train it with our dataset."
   ]
  },
  {
   "cell_type": "code",
   "execution_count": null,
   "metadata": {},
   "outputs": [
    {
     "name": "stdout",
     "output_type": "stream",
     "text": [
      "epoch     0 - error: 0.4954 \n",
      "epoch   100 - error: 0.0725 \n",
      "epoch   200 - error: 0.0465 \n",
      "epoch   300 - error: 0.0441 \n",
      "epoch   400 - error: 0.0434 \n"
     ]
    }
   ],
   "source": [
    "nn = NN(X.shape[1], 5, 1)\n",
    "\n",
    "nn.train(training_inputs, training_labels, threshold=500, alpha=0.1)"
   ]
  },
  {
   "cell_type": "markdown",
   "metadata": {},
   "source": [
    "Finally, we predict the test part of our dataset and print the accuracy score :)"
   ]
  },
  {
   "cell_type": "code",
   "execution_count": null,
   "metadata": {
    "pycharm": {
     "name": "#%%\n"
    }
   },
   "outputs": [],
   "source": [
    "labels = nn.predict(inputs)\n",
    "labels = np.ravel((labels.data > 0.5).astype(int))\n",
    "accuracy_score(labels, yt)\n"
   ]
  }
 ],
 "metadata": {
  "kernelspec": {
   "display_name": "Python 3 (ipykernel)",
   "language": "python",
   "name": "python3"
  },
  "language_info": {
   "codemirror_mode": {
    "name": "ipython",
    "version": 3
   },
   "file_extension": ".py",
   "mimetype": "text/x-python",
   "name": "python",
   "nbconvert_exporter": "python",
   "pygments_lexer": "ipython3",
   "version": "3.9.6"
  }
 },
 "nbformat": 4,
 "nbformat_minor": 1
}