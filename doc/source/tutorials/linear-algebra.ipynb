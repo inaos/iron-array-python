{
 "cells": [
  {
   "cell_type": "markdown",
   "metadata": {
    "pycharm": {
     "name": "#%% md\n"
    }
   },
   "source": [
    "# Linear Algebra"
   ]
  },
  {
   "cell_type": "code",
   "execution_count": 1,
   "metadata": {},
   "outputs": [],
   "source": [
    "import iarray as ia\n",
    "import numpy as np"
   ]
  },
  {
   "cell_type": "markdown",
   "metadata": {},
   "source": [
    "## Matrix multiplication"
   ]
  },
  {
   "cell_type": "markdown",
   "metadata": {},
   "source": [
    "Matrix multiplication is a binary operation that produces a matrix from two matrices.\n",
    "Computing matrix products is a central operation in all computational applications of\n",
    "linear algebra.\n",
    "\n",
    "In this part of the tutorial we will see how matrix multiplication works in *ironArray*."
   ]
  },
  {
   "cell_type": "markdown",
   "metadata": {
    "pycharm": {
     "name": "#%% md\n"
    }
   },
   "source": [
    "### Matrix-Matrix multiplication\n",
    "\n",
    "First, we are going to create two chunked, compressed matrices using *ironArray*."
   ]
  },
  {
   "cell_type": "code",
   "execution_count": 2,
   "metadata": {
    "pycharm": {
     "name": "#%%\n"
    }
   },
   "outputs": [],
   "source": [
    "chunkshape=(1000, 1000)\n",
    "blockshape=(250, 250)\n",
    "\n",
    "adtshape = ia.DTShape((3000, 5000), dtype=np.float64)\n",
    "a = ia.linspace(adtshape, 0, 1, chunkshape=chunkshape, blockshape=blockshape)\n",
    "\n",
    "bdtshape = ia.DTShape((5000, 4000), dtype=np.float64)\n",
    "b = ia.linspace(bdtshape, 0, 1, chunkshape=chunkshape, blockshape=blockshape)\n"
   ]
  },
  {
   "cell_type": "markdown",
   "metadata": {},
   "source": [
    "Unlike numpy, *ironArray* performs the matrix-matrix multiplication using blocks. In this way, instead\n",
    "of decompressing all the data from the two arrays, we only have to decompress the data needed in\n",
    "each block operation (allowing larger operations with less memory).\n",
    "\n",
    "If we use the operator `@` to permorm the multiplications in Iron Array, all the params of the output array will be those defined in the global configuration."
   ]
  },
  {
   "cell_type": "code",
   "execution_count": 3,
   "metadata": {
    "pycharm": {
     "name": "#%%\n"
    }
   },
   "outputs": [
    {
     "name": "stdout",
     "output_type": "stream",
     "text": [
      "type                : IArray\n",
      "shape               : (3000, 4000)\n",
      "chunkshape          : (2048, 2048)\n",
      "blockshape          : (128, 256)\n"
     ]
    }
   ],
   "source": [
    "c = a @ b\n",
    "c.info"
   ]
  },
  {
   "cell_type": "markdown",
   "metadata": {},
   "source": [
    "As the chunkshape and the blockshape are not defined in the global configuration, they are automatically defined in the output array."
   ]
  },
  {
   "cell_type": "markdown",
   "metadata": {
    "pycharm": {
     "name": "#%% md\n"
    }
   },
   "source": [
    "### Matrix-Vector multiplication\n",
    "\n",
    "*ironArray* also allows users to perform matrix-vector multiplication in the same way that\n",
    "matrix-matrix multiplication is performed.\n",
    "\n",
    "However, if we want to set some parameters in the out array (for example, the chunkshape and the blockshape), we must use the `ia.matmul` function to perform the multiplication."
   ]
  },
  {
   "cell_type": "code",
   "execution_count": 4,
   "metadata": {
    "pycharm": {
     "name": "#%%\n"
    }
   },
   "outputs": [
    {
     "name": "stdout",
     "output_type": "stream",
     "text": [
      "type                : IArray\n",
      "shape               : (3000,)\n",
      "chunkshape          : (1000,)\n",
      "blockshape          : (200,)\n"
     ]
    }
   ],
   "source": [
    "adtshape = ia.DTShape((3000, 5000), dtype=np.float64)\n",
    "a = ia.linspace(adtshape, -2, -1, chunkshape=(1000, 1000), blockshape=(250, 250))\n",
    "\n",
    "bdtshape = ia.DTShape((5000,), dtype=np.float64)\n",
    "b = ia.linspace(bdtshape, 5, 10, chunkshape=(1000,), blockshape=(250,))\n",
    "\n",
    "c = ia.matmul(a, b, chunkshape=(1000,), blockshape=(200,))\n",
    "\n",
    "c.info"
   ]
  },
  {
   "cell_type": "markdown",
   "metadata": {},
   "source": [
    "Now, the array output has the chunkshape and the blockshape that we have specified in the `ia.matmul`function."
   ]
  },
  {
   "cell_type": "markdown",
   "metadata": {},
   "source": [
    "### Transpose"
   ]
  },
  {
   "cell_type": "markdown",
   "metadata": {},
   "source": [
    "In Iron Array, the transpose of an array is computed using views. It can be obtained using different methods/functions:"
   ]
  },
  {
   "cell_type": "code",
   "execution_count": 5,
   "metadata": {},
   "outputs": [
    {
     "data": {
      "text/plain": [
       "(True, True, True)"
      ]
     },
     "execution_count": 5,
     "metadata": {},
     "output_type": "execute_result"
    }
   ],
   "source": [
    "at0 = a.T\n",
    "at1 = a.transpose()\n",
    "at2 = ia.transpose(a)\n",
    "\n",
    "at0.is_view(), at1.is_view(), at2.is_view()"
   ]
  },
  {
   "cell_type": "markdown",
   "metadata": {},
   "source": [
    "If we do not want a view, we just copy the transposed array."
   ]
  },
  {
   "cell_type": "code",
   "execution_count": 6,
   "metadata": {},
   "outputs": [],
   "source": [
    "at = a.T.copy()"
   ]
  },
  {
   "cell_type": "markdown",
   "metadata": {},
   "source": [
    "### Basic example:  Neural Networks"
   ]
  },
  {
   "cell_type": "markdown",
   "metadata": {},
   "source": [
    "Finally, we are going to see a simple example of what we can do with the functions described above. We are going to implement an simple neural network using these functions and some other Iron Array modules like expressions or random generators."
   ]
  },
  {
   "cell_type": "markdown",
   "metadata": {},
   "source": [
    "First of all, we have to generate the dataset that we use in our NN."
   ]
  },
  {
   "cell_type": "code",
   "execution_count": 7,
   "metadata": {},
   "outputs": [],
   "source": [
    "from sklearn.datasets import make_classification\n",
    "from sklearn.model_selection import train_test_split\n",
    "from sklearn.metrics import accuracy_score\n",
    "\n",
    "coord, cl = make_classification(20000, 1000)\n",
    "X, Xt, y, yt = train_test_split(coord, cl, test_size=0.3)\n",
    "\n",
    "training_inputs = ia.numpy2iarray(X.astype(np.float64))\n",
    "training_labels = ia.numpy2iarray(y.astype(np.float64).reshape(-1, 1))\n",
    "inputs = ia.numpy2iarray(Xt.astype(np.float64))"
   ]
  },
  {
   "cell_type": "markdown",
   "metadata": {},
   "source": [
    "Now, we create a class implementing a neural network with a hidden layer."
   ]
  },
  {
   "cell_type": "code",
   "execution_count": 8,
   "metadata": {},
   "outputs": [],
   "source": [
    "class NN(object):\n",
    "    \n",
    "    def __init__(self, input_layer, hidden_layer, output_layer, random_seed=1):\n",
    "        ia.set_config(seed=random_seed)\n",
    "        self.l1_weights = ia.irandom.standard_normal(ia.DTShape((input_layer, hidden_layer)))\n",
    "        self.l2_weights = ia.irandom.standard_normal(ia.DTShape((hidden_layer, output_layer)))\n",
    "\n",
    "    def _sigmoid(self, x):\n",
    "        return ia.expr_from_string(\"1 / (1 + exp(-x))\", {\"x\": x}).eval()\n",
    "\n",
    "    def _sigmoid_prime(self, x):\n",
    "        return ia.expr_from_string(\"x * (1 - x)\", {\"x\": x}).eval()\n",
    "    \n",
    "    def feed_forward(self, X):\n",
    "        l1_output = ia.matmul(X, self.l1_weights)\n",
    "        l1_output = self._sigmoid(l1_output)\n",
    "\n",
    "        l2_output = ia.matmul(l1_output, self.l2_weights)\n",
    "        l2_output = self._sigmoid(l2_output)\n",
    "\n",
    "        return l1_output, l2_output\n",
    "    \n",
    "    def backpropagation(self, l1, l2, y):\n",
    "        \n",
    "        l2_error = (y - l2).eval()\n",
    "        \n",
    "        l2_delta = (l2_error * self._sigmoid_prime(l2)).eval()\n",
    "\n",
    "        l1_error = ia.matmul(l2_delta, self.l2_weights.T)\n",
    "\n",
    "        l1_delta = (l1_error * self._sigmoid_prime(l1)).eval()\n",
    "        \n",
    "        return l2_error, l1_delta, l2_delta\n",
    "\n",
    "    def update_weights(self, X, l1, l1_delta, l2_delta, alpha=0.01):\n",
    "        expr = f\"w + {alpha} * d\"\n",
    "        d2 = ia.matmul(l1.T, l2_delta)\n",
    "        d1 = ia.matmul(X.T, l1_delta)\n",
    "\n",
    "        self.l2_weights = ia.expr_from_string(expr, {\"w\": self.l2_weights, \"d\": d2}).eval()\n",
    "        self.l1_weights = ia.expr_from_string(expr, {\"w\": self.l1_weights, \"d\": d1}).eval()\n",
    "\n",
    "    def predict(self, X):\n",
    "        _, l2 = self.feed_forward(X)\n",
    "        return l2\n",
    "\n",
    "    def train(self, X, y, threshold=400, alpha=0.01):\n",
    "        for j in range(threshold + 1):\n",
    "            l1, l2 = self.feed_forward(X)\n",
    "            l2_error, l1_delta, l2_delta = self.backpropagation(l1, l2, y)\n",
    "            self.update_weights(X, l1, l1_delta, l2_delta, alpha=alpha)\n",
    "            if(j % 100 == 0):\n",
    "                train_error = ia.mean(ia.abs(l2_error).eval())\n",
    "                print(\"epoch {:5} \".format(j),end='-')\n",
    "                print(' error: {:0.4f} '.format(train_error))"
   ]
  },
  {
   "cell_type": "markdown",
   "metadata": {},
   "source": [
    "Once the NN is created, we create a NN and train it with our dataset."
   ]
  },
  {
   "cell_type": "code",
   "execution_count": null,
   "metadata": {},
   "outputs": [
    {
     "name": "stdout",
     "output_type": "stream",
     "text": [
      "epoch     0 - error: 0.5080 \n",
      "epoch   100 - error: 0.1206 \n",
      "epoch   200 - error: 0.1010 \n",
      "epoch   300 - error: 0.0999 \n",
      "epoch   400 - error: 0.0995 \n"
     ]
    }
   ],
   "source": [
    "nn = NN(X.shape[1], 5, 1)\n",
    "\n",
    "nn.train(training_inputs, training_labels, threshold=500, alpha=0.1)"
   ]
  },
  {
   "cell_type": "markdown",
   "metadata": {},
   "source": [
    "Finally, we predict the test part of our dataset and print the accuracy score :)"
   ]
  },
  {
   "cell_type": "code",
   "execution_count": null,
   "metadata": {},
   "outputs": [],
   "source": [
    "labels = nn.predict(inputs)\n",
    "labels = np.ravel((labels.data > 0.5).astype(int))\n",
    "accuracy_score(labels, yt)"
   ]
  },
  {
   "cell_type": "code",
   "execution_count": null,
   "metadata": {},
   "outputs": [],
   "source": []
  }
 ],
 "metadata": {
  "kernelspec": {
   "display_name": "Python 3",
   "language": "python",
   "name": "python3"
  },
  "language_info": {
   "codemirror_mode": {
    "name": "ipython",
    "version": 3
   },
   "file_extension": ".py",
   "mimetype": "text/x-python",
   "name": "python",
   "nbconvert_exporter": "python",
   "pygments_lexer": "ipython3",
   "version": "3.8.8"
  }
 },
 "nbformat": 4,
 "nbformat_minor": 1
}
