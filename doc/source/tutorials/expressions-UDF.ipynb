{
 "cells": [
  {
   "cell_type": "markdown",
   "metadata": {},
   "source": [
    "# Expression Evaluation (User Defined Functions)\n",
    "\n",
    "So far we have seen that ironArray has support for evaluating expressions that are passedas strings or as simple Python statements.  There is another, more flexible way for evaluating expressions called User Defined Functions, or UDFs for short.\n",
    "\n",
    "UDFs are small functions that can be expressed in a simple subset of Python.  These functions are then passed to the internal LLVM compiler in ironArray and a binary specific and optimized for the local machine is generated.  This binary is optimized for the CPU and in addition, it will make use of the [Intel MKL library](https://software.intel.com/content/www/us/en/develop/tools/oneapi/components/onemkl.html) for accelerating transcendental functions.\n",
    "\n",
    "Let's see how this works."
   ]
  },
  {
   "cell_type": "code",
   "execution_count": 1,
   "metadata": {
    "pycharm": {
     "name": "#%%\n"
    }
   },
   "outputs": [],
   "source": [
    "%load_ext memprofiler\n",
    "%matplotlib inline\n",
    "import matplotlib.pyplot as plt\n",
    "import numpy as np\n",
    "import iarray as ia"
   ]
  },
  {
   "cell_type": "code",
   "execution_count": 8,
   "metadata": {
    "pycharm": {
     "name": "#%%\n"
    }
   },
   "outputs": [
    {
     "name": "stdout",
     "output_type": "stream",
     "text": [
      "CPU times: user 57.2 ms, sys: 242 ms, total: 300 ms\n",
      "Wall time: 679 ms\n"
     ]
    }
   ],
   "source": [
    "%%time\n",
    "precip1 = ia.load(\"precip1.iarr\")\n",
    "precip2 = ia.load(\"precip2.iarr\")\n",
    "precip3 = ia.load(\"precip3.iarr\")"
   ]
  },
  {
   "cell_type": "markdown",
   "metadata": {
    "pycharm": {
     "name": "#%% md\n"
    }
   },
   "source": [
    "Now, let's define a simple function that computes the mean for this data:"
   ]
  },
  {
   "cell_type": "code",
   "execution_count": 3,
   "metadata": {
    "pycharm": {
     "name": "#%%\n"
    }
   },
   "outputs": [],
   "source": [
    "from iarray.udf import jit, Array, float32\n",
    "\n",
    "@jit()\n",
    "def mean(out: Array(float32, 3),\n",
    "         p1: Array(float32, 3),\n",
    "         p2: Array(float32, 3),\n",
    "         p3: Array(float32, 3)) -> int:\n",
    "\n",
    "    l = p1.window_shape[0]\n",
    "    m = p1.window_shape[1]\n",
    "    n = p1.window_shape[2]\n",
    "\n",
    "    for i in range(l):\n",
    "        for j in range(m):\n",
    "            for k in range(n):\n",
    "                value = p1[i,j,k] + p2[i,j,k] + p3[i,j,k]\n",
    "                out[i,j,k] = value / 3\n",
    "\n",
    "    return 0"
   ]
  },
  {
   "cell_type": "markdown",
   "metadata": {},
   "source": [
    "and create the ironArray expression from this User Defined Function with:"
   ]
  },
  {
   "cell_type": "code",
   "execution_count": 4,
   "metadata": {},
   "outputs": [
    {
     "name": "stdout",
     "output_type": "stream",
     "text": [
      "CPU times: user 23.3 ms, sys: 3.96 ms, total: 27.2 ms\n",
      "Wall time: 26.6 ms\n"
     ]
    }
   ],
   "source": [
    "%%time\n",
    "precip_expr = ia.expr_from_udf(mean, [precip1, precip2, precip3])"
   ]
  },
  {
   "cell_type": "markdown",
   "metadata": {
    "pycharm": {
     "name": "#%% md\n"
    }
   },
   "source": [
    "As can be seen, converting the user defined function into a native ironArray expression is pretty fast.  And as always, in order to do the actual evaluation, we have to call `.eval()` on the expression:"
   ]
  },
  {
   "cell_type": "code",
   "execution_count": 5,
   "metadata": {
    "pycharm": {
     "name": "#%%\n"
    }
   },
   "outputs": [
    {
     "data": {
      "text/plain": [
       "<IArray (720, 721, 1440) np.float32>"
      ]
     },
     "execution_count": 5,
     "metadata": {},
     "output_type": "execute_result"
    },
    {
     "name": "stdout",
     "output_type": "stream",
     "text": [
      "memprofiler: used 3519.80 MiB RAM (peak of 3519.80 MiB) in 3.3559 s, total RAM usage 4571.38 MiB\n"
     ]
    }
   ],
   "source": [
    "%%mprof_run iarray-mean\n",
    "precip_mean = precip_expr.eval()\n",
    "precip_mean"
   ]
  },
  {
   "cell_type": "markdown",
   "metadata": {},
   "source": [
    "Let's compare this time with the evaluation via a regular lazy expression:"
   ]
  },
  {
   "cell_type": "code",
   "execution_count": 6,
   "metadata": {},
   "outputs": [],
   "source": [
    "precip_expr2 = (precip1 + precip2 + precip3) / 3"
   ]
  },
  {
   "cell_type": "code",
   "execution_count": 7,
   "metadata": {},
   "outputs": [
    {
     "data": {
      "text/plain": [
       "<IArray (720, 721, 1440) np.float32>"
      ]
     },
     "execution_count": 7,
     "metadata": {},
     "output_type": "execute_result"
    },
    {
     "name": "stdout",
     "output_type": "stream",
     "text": [
      "memprofiler: used 1524.80 MiB RAM (peak of 1557.42 MiB) in 3.1394 s, total RAM usage 6096.05 MiB\n"
     ]
    }
   ],
   "source": [
    "%%mprof_run iarray-mean2\n",
    "precip_mean2 = precip_expr2.eval()\n",
    "precip_mean2"
   ]
  },
  {
   "cell_type": "markdown",
   "metadata": {},
   "source": [
    "Ok, so the times are very close.  It turns out that UDFs compile and execute in ironArray using the very same LLVM machinery, which explains times being similar.  It is up to the user to use one or the other depending on the needs."
   ]
  },
  {
   "cell_type": "markdown",
   "metadata": {},
   "source": [
    "TODO:\n",
    "* Use the transcendental functions\n",
    "* Compare with numba"
   ]
  },
  {
   "cell_type": "markdown",
   "metadata": {
    "pycharm": {
     "name": "#%% md\n"
    }
   },
   "source": [
    "Now, let's use expressions with some transcendental functions.  This does not make sense for this case (precipitation data), but we are doing this just as an indication of the efficiency of the computational engine inside ironArray:"
   ]
  },
  {
   "cell_type": "code",
   "execution_count": 2,
   "metadata": {},
   "outputs": [
    {
     "ename": "TypeError",
     "evalue": "cannot store double to float*: mismatching types",
     "output_type": "error",
     "traceback": [
      "\u001b[0;31m---------------------------------------------------------------------------\u001b[0m",
      "\u001b[0;31mTypeError\u001b[0m                                 Traceback (most recent call last)",
      "\u001b[0;32m<ipython-input-2-ec875a442dae>\u001b[0m in \u001b[0;36m<module>\u001b[0;34m\u001b[0m\n\u001b[1;32m      2\u001b[0m \u001b[0;34m\u001b[0m\u001b[0m\n\u001b[1;32m      3\u001b[0m \u001b[0;34m@\u001b[0m\u001b[0mjit\u001b[0m\u001b[0;34m(\u001b[0m\u001b[0;34m)\u001b[0m\u001b[0;34m\u001b[0m\u001b[0;34m\u001b[0m\u001b[0m\n\u001b[0;32m----> 4\u001b[0;31m def trans(out: Array(float32, 3),\n\u001b[0m\u001b[1;32m      5\u001b[0m           \u001b[0mp1\u001b[0m\u001b[0;34m:\u001b[0m \u001b[0mArray\u001b[0m\u001b[0;34m(\u001b[0m\u001b[0mfloat32\u001b[0m\u001b[0;34m,\u001b[0m \u001b[0;36m3\u001b[0m\u001b[0;34m)\u001b[0m\u001b[0;34m,\u001b[0m\u001b[0;34m\u001b[0m\u001b[0;34m\u001b[0m\u001b[0m\n\u001b[1;32m      6\u001b[0m           \u001b[0mp2\u001b[0m\u001b[0;34m:\u001b[0m \u001b[0mArray\u001b[0m\u001b[0;34m(\u001b[0m\u001b[0mfloat32\u001b[0m\u001b[0;34m,\u001b[0m \u001b[0;36m3\u001b[0m\u001b[0;34m)\u001b[0m\u001b[0;34m,\u001b[0m\u001b[0;34m\u001b[0m\u001b[0;34m\u001b[0m\u001b[0m\n",
      "\u001b[0;32m~/inaos/iron-array-python/iarray/py2llvm/py2llvm.py\u001b[0m in \u001b[0;36mwrapper\u001b[0;34m(py_function)\u001b[0m\n\u001b[1;32m   1275\u001b[0m             \u001b[0;32mif\u001b[0m \u001b[0mfunction\u001b[0m\u001b[0;34m.\u001b[0m\u001b[0mcan_be_compiled\u001b[0m\u001b[0;34m(\u001b[0m\u001b[0;34m)\u001b[0m\u001b[0;34m:\u001b[0m\u001b[0;34m\u001b[0m\u001b[0;34m\u001b[0m\u001b[0m\n\u001b[1;32m   1276\u001b[0m                 \u001b[0mfunction\u001b[0m\u001b[0;34m.\u001b[0m\u001b[0mcompile\u001b[0m\u001b[0;34m(\u001b[0m\u001b[0mverbose\u001b[0m\u001b[0;34m)\u001b[0m\u001b[0;34m\u001b[0m\u001b[0;34m\u001b[0m\u001b[0m\n\u001b[0;32m-> 1277\u001b[0;31m             \u001b[0;32mreturn\u001b[0m \u001b[0mfunction\u001b[0m\u001b[0;34m\u001b[0m\u001b[0;34m\u001b[0m\u001b[0m\n\u001b[0m\u001b[1;32m   1278\u001b[0m \u001b[0;34m\u001b[0m\u001b[0m\n\u001b[1;32m   1279\u001b[0m         \u001b[0;32mreturn\u001b[0m \u001b[0mwrapper\u001b[0m\u001b[0;34m\u001b[0m\u001b[0;34m\u001b[0m\u001b[0m\n",
      "\u001b[0;32m~/inaos/iron-array-python/iarray/py2llvm/py2llvm.py\u001b[0m in \u001b[0;36mcompile\u001b[0;34m(self, verbose, *args)\u001b[0m\n\u001b[1;32m   1194\u001b[0m             \u001b[0mprint\u001b[0m\u001b[0;34m(\u001b[0m\u001b[0;34m\"====== Debug: 2nd pass ======\"\u001b[0m\u001b[0;34m)\u001b[0m\u001b[0;34m\u001b[0m\u001b[0;34m\u001b[0m\u001b[0m\n\u001b[1;32m   1195\u001b[0m         \u001b[0mGenVisitor\u001b[0m\u001b[0;34m(\u001b[0m\u001b[0mverbose\u001b[0m\u001b[0;34m)\u001b[0m\u001b[0;34m.\u001b[0m\u001b[0mtraverse\u001b[0m\u001b[0;34m(\u001b[0m\u001b[0mnode\u001b[0m\u001b[0;34m)\u001b[0m\u001b[0;34m\u001b[0m\u001b[0;34m\u001b[0m\u001b[0m\n\u001b[0;32m-> 1196\u001b[0;31m \u001b[0;34m\u001b[0m\u001b[0m\n\u001b[0m\u001b[1;32m   1197\u001b[0m         \u001b[0;31m# (9) IR code\u001b[0m\u001b[0;34m\u001b[0m\u001b[0;34m\u001b[0m\u001b[0;34m\u001b[0m\u001b[0m\n\u001b[1;32m   1198\u001b[0m         \u001b[0;32mif\u001b[0m \u001b[0mverbose\u001b[0m\u001b[0;34m:\u001b[0m\u001b[0;34m\u001b[0m\u001b[0;34m\u001b[0m\u001b[0m\n",
      "\u001b[0;32m~/inaos/iron-array-python/iarray/py2llvm/py2llvm.py\u001b[0m in \u001b[0;36mtraverse\u001b[0;34m(self, node, parent)\u001b[0m\n\u001b[1;32m    206\u001b[0m         \u001b[0;32mfor\u001b[0m \u001b[0mname\u001b[0m\u001b[0;34m,\u001b[0m \u001b[0mfield\u001b[0m \u001b[0;32min\u001b[0m \u001b[0mself\u001b[0m\u001b[0;34m.\u001b[0m\u001b[0miter_fields\u001b[0m\u001b[0;34m(\u001b[0m\u001b[0mnode\u001b[0m\u001b[0;34m)\u001b[0m\u001b[0;34m:\u001b[0m\u001b[0;34m\u001b[0m\u001b[0;34m\u001b[0m\u001b[0m\n\u001b[1;32m    207\u001b[0m             \u001b[0;32mif\u001b[0m \u001b[0misinstance\u001b[0m\u001b[0;34m(\u001b[0m\u001b[0mfield\u001b[0m\u001b[0;34m,\u001b[0m \u001b[0mlist\u001b[0m\u001b[0;34m)\u001b[0m\u001b[0;34m:\u001b[0m\u001b[0;34m\u001b[0m\u001b[0;34m\u001b[0m\u001b[0m\n\u001b[0;32m--> 208\u001b[0;31m                 \u001b[0mvalue\u001b[0m \u001b[0;34m=\u001b[0m \u001b[0;34m[\u001b[0m\u001b[0mself\u001b[0m\u001b[0;34m.\u001b[0m\u001b[0mtraverse\u001b[0m\u001b[0;34m(\u001b[0m\u001b[0mx\u001b[0m\u001b[0;34m,\u001b[0m \u001b[0mnode\u001b[0m\u001b[0;34m)\u001b[0m \u001b[0;32mfor\u001b[0m \u001b[0mx\u001b[0m \u001b[0;32min\u001b[0m \u001b[0mfield\u001b[0m \u001b[0;32mif\u001b[0m \u001b[0misinstance\u001b[0m\u001b[0;34m(\u001b[0m\u001b[0mx\u001b[0m\u001b[0;34m,\u001b[0m \u001b[0mast\u001b[0m\u001b[0;34m.\u001b[0m\u001b[0mAST\u001b[0m\u001b[0;34m)\u001b[0m\u001b[0;34m]\u001b[0m\u001b[0;34m\u001b[0m\u001b[0;34m\u001b[0m\u001b[0m\n\u001b[0m\u001b[1;32m    209\u001b[0m             \u001b[0;32melif\u001b[0m \u001b[0misinstance\u001b[0m\u001b[0;34m(\u001b[0m\u001b[0mfield\u001b[0m\u001b[0;34m,\u001b[0m \u001b[0mast\u001b[0m\u001b[0;34m.\u001b[0m\u001b[0mAST\u001b[0m\u001b[0;34m)\u001b[0m\u001b[0;34m:\u001b[0m\u001b[0;34m\u001b[0m\u001b[0;34m\u001b[0m\u001b[0m\n\u001b[1;32m    210\u001b[0m                 \u001b[0mvalue\u001b[0m \u001b[0;34m=\u001b[0m \u001b[0mself\u001b[0m\u001b[0;34m.\u001b[0m\u001b[0mtraverse\u001b[0m\u001b[0;34m(\u001b[0m\u001b[0mfield\u001b[0m\u001b[0;34m,\u001b[0m \u001b[0mnode\u001b[0m\u001b[0;34m)\u001b[0m\u001b[0;34m\u001b[0m\u001b[0;34m\u001b[0m\u001b[0m\n",
      "\u001b[0;32m~/inaos/iron-array-python/iarray/py2llvm/py2llvm.py\u001b[0m in \u001b[0;36m<listcomp>\u001b[0;34m(.0)\u001b[0m\n\u001b[1;32m    206\u001b[0m         \u001b[0;32mfor\u001b[0m \u001b[0mname\u001b[0m\u001b[0;34m,\u001b[0m \u001b[0mfield\u001b[0m \u001b[0;32min\u001b[0m \u001b[0mself\u001b[0m\u001b[0;34m.\u001b[0m\u001b[0miter_fields\u001b[0m\u001b[0;34m(\u001b[0m\u001b[0mnode\u001b[0m\u001b[0;34m)\u001b[0m\u001b[0;34m:\u001b[0m\u001b[0;34m\u001b[0m\u001b[0;34m\u001b[0m\u001b[0m\n\u001b[1;32m    207\u001b[0m             \u001b[0;32mif\u001b[0m \u001b[0misinstance\u001b[0m\u001b[0;34m(\u001b[0m\u001b[0mfield\u001b[0m\u001b[0;34m,\u001b[0m \u001b[0mlist\u001b[0m\u001b[0;34m)\u001b[0m\u001b[0;34m:\u001b[0m\u001b[0;34m\u001b[0m\u001b[0;34m\u001b[0m\u001b[0m\n\u001b[0;32m--> 208\u001b[0;31m                 \u001b[0mvalue\u001b[0m \u001b[0;34m=\u001b[0m \u001b[0;34m[\u001b[0m\u001b[0mself\u001b[0m\u001b[0;34m.\u001b[0m\u001b[0mtraverse\u001b[0m\u001b[0;34m(\u001b[0m\u001b[0mx\u001b[0m\u001b[0;34m,\u001b[0m \u001b[0mnode\u001b[0m\u001b[0;34m)\u001b[0m \u001b[0;32mfor\u001b[0m \u001b[0mx\u001b[0m \u001b[0;32min\u001b[0m \u001b[0mfield\u001b[0m \u001b[0;32mif\u001b[0m \u001b[0misinstance\u001b[0m\u001b[0;34m(\u001b[0m\u001b[0mx\u001b[0m\u001b[0;34m,\u001b[0m \u001b[0mast\u001b[0m\u001b[0;34m.\u001b[0m\u001b[0mAST\u001b[0m\u001b[0;34m)\u001b[0m\u001b[0;34m]\u001b[0m\u001b[0;34m\u001b[0m\u001b[0;34m\u001b[0m\u001b[0m\n\u001b[0m\u001b[1;32m    209\u001b[0m             \u001b[0;32melif\u001b[0m \u001b[0misinstance\u001b[0m\u001b[0;34m(\u001b[0m\u001b[0mfield\u001b[0m\u001b[0;34m,\u001b[0m \u001b[0mast\u001b[0m\u001b[0;34m.\u001b[0m\u001b[0mAST\u001b[0m\u001b[0;34m)\u001b[0m\u001b[0;34m:\u001b[0m\u001b[0;34m\u001b[0m\u001b[0;34m\u001b[0m\u001b[0m\n\u001b[1;32m    210\u001b[0m                 \u001b[0mvalue\u001b[0m \u001b[0;34m=\u001b[0m \u001b[0mself\u001b[0m\u001b[0;34m.\u001b[0m\u001b[0mtraverse\u001b[0m\u001b[0;34m(\u001b[0m\u001b[0mfield\u001b[0m\u001b[0;34m,\u001b[0m \u001b[0mnode\u001b[0m\u001b[0;34m)\u001b[0m\u001b[0;34m\u001b[0m\u001b[0;34m\u001b[0m\u001b[0m\n",
      "\u001b[0;32m~/inaos/iron-array-python/iarray/py2llvm/py2llvm.py\u001b[0m in \u001b[0;36mtraverse\u001b[0;34m(self, node, parent)\u001b[0m\n\u001b[1;32m    206\u001b[0m         \u001b[0;32mfor\u001b[0m \u001b[0mname\u001b[0m\u001b[0;34m,\u001b[0m \u001b[0mfield\u001b[0m \u001b[0;32min\u001b[0m \u001b[0mself\u001b[0m\u001b[0;34m.\u001b[0m\u001b[0miter_fields\u001b[0m\u001b[0;34m(\u001b[0m\u001b[0mnode\u001b[0m\u001b[0;34m)\u001b[0m\u001b[0;34m:\u001b[0m\u001b[0;34m\u001b[0m\u001b[0;34m\u001b[0m\u001b[0m\n\u001b[1;32m    207\u001b[0m             \u001b[0;32mif\u001b[0m \u001b[0misinstance\u001b[0m\u001b[0;34m(\u001b[0m\u001b[0mfield\u001b[0m\u001b[0;34m,\u001b[0m \u001b[0mlist\u001b[0m\u001b[0;34m)\u001b[0m\u001b[0;34m:\u001b[0m\u001b[0;34m\u001b[0m\u001b[0;34m\u001b[0m\u001b[0m\n\u001b[0;32m--> 208\u001b[0;31m                 \u001b[0mvalue\u001b[0m \u001b[0;34m=\u001b[0m \u001b[0;34m[\u001b[0m\u001b[0mself\u001b[0m\u001b[0;34m.\u001b[0m\u001b[0mtraverse\u001b[0m\u001b[0;34m(\u001b[0m\u001b[0mx\u001b[0m\u001b[0;34m,\u001b[0m \u001b[0mnode\u001b[0m\u001b[0;34m)\u001b[0m \u001b[0;32mfor\u001b[0m \u001b[0mx\u001b[0m \u001b[0;32min\u001b[0m \u001b[0mfield\u001b[0m \u001b[0;32mif\u001b[0m \u001b[0misinstance\u001b[0m\u001b[0;34m(\u001b[0m\u001b[0mx\u001b[0m\u001b[0;34m,\u001b[0m \u001b[0mast\u001b[0m\u001b[0;34m.\u001b[0m\u001b[0mAST\u001b[0m\u001b[0;34m)\u001b[0m\u001b[0;34m]\u001b[0m\u001b[0;34m\u001b[0m\u001b[0;34m\u001b[0m\u001b[0m\n\u001b[0m\u001b[1;32m    209\u001b[0m             \u001b[0;32melif\u001b[0m \u001b[0misinstance\u001b[0m\u001b[0;34m(\u001b[0m\u001b[0mfield\u001b[0m\u001b[0;34m,\u001b[0m \u001b[0mast\u001b[0m\u001b[0;34m.\u001b[0m\u001b[0mAST\u001b[0m\u001b[0;34m)\u001b[0m\u001b[0;34m:\u001b[0m\u001b[0;34m\u001b[0m\u001b[0;34m\u001b[0m\u001b[0m\n\u001b[1;32m    210\u001b[0m                 \u001b[0mvalue\u001b[0m \u001b[0;34m=\u001b[0m \u001b[0mself\u001b[0m\u001b[0;34m.\u001b[0m\u001b[0mtraverse\u001b[0m\u001b[0;34m(\u001b[0m\u001b[0mfield\u001b[0m\u001b[0;34m,\u001b[0m \u001b[0mnode\u001b[0m\u001b[0;34m)\u001b[0m\u001b[0;34m\u001b[0m\u001b[0;34m\u001b[0m\u001b[0m\n",
      "\u001b[0;32m~/inaos/iron-array-python/iarray/py2llvm/py2llvm.py\u001b[0m in \u001b[0;36m<listcomp>\u001b[0;34m(.0)\u001b[0m\n\u001b[1;32m    206\u001b[0m         \u001b[0;32mfor\u001b[0m \u001b[0mname\u001b[0m\u001b[0;34m,\u001b[0m \u001b[0mfield\u001b[0m \u001b[0;32min\u001b[0m \u001b[0mself\u001b[0m\u001b[0;34m.\u001b[0m\u001b[0miter_fields\u001b[0m\u001b[0;34m(\u001b[0m\u001b[0mnode\u001b[0m\u001b[0;34m)\u001b[0m\u001b[0;34m:\u001b[0m\u001b[0;34m\u001b[0m\u001b[0;34m\u001b[0m\u001b[0m\n\u001b[1;32m    207\u001b[0m             \u001b[0;32mif\u001b[0m \u001b[0misinstance\u001b[0m\u001b[0;34m(\u001b[0m\u001b[0mfield\u001b[0m\u001b[0;34m,\u001b[0m \u001b[0mlist\u001b[0m\u001b[0;34m)\u001b[0m\u001b[0;34m:\u001b[0m\u001b[0;34m\u001b[0m\u001b[0;34m\u001b[0m\u001b[0m\n\u001b[0;32m--> 208\u001b[0;31m                 \u001b[0mvalue\u001b[0m \u001b[0;34m=\u001b[0m \u001b[0;34m[\u001b[0m\u001b[0mself\u001b[0m\u001b[0;34m.\u001b[0m\u001b[0mtraverse\u001b[0m\u001b[0;34m(\u001b[0m\u001b[0mx\u001b[0m\u001b[0;34m,\u001b[0m \u001b[0mnode\u001b[0m\u001b[0;34m)\u001b[0m \u001b[0;32mfor\u001b[0m \u001b[0mx\u001b[0m \u001b[0;32min\u001b[0m \u001b[0mfield\u001b[0m \u001b[0;32mif\u001b[0m \u001b[0misinstance\u001b[0m\u001b[0;34m(\u001b[0m\u001b[0mx\u001b[0m\u001b[0;34m,\u001b[0m \u001b[0mast\u001b[0m\u001b[0;34m.\u001b[0m\u001b[0mAST\u001b[0m\u001b[0;34m)\u001b[0m\u001b[0;34m]\u001b[0m\u001b[0;34m\u001b[0m\u001b[0;34m\u001b[0m\u001b[0m\n\u001b[0m\u001b[1;32m    209\u001b[0m             \u001b[0;32melif\u001b[0m \u001b[0misinstance\u001b[0m\u001b[0;34m(\u001b[0m\u001b[0mfield\u001b[0m\u001b[0;34m,\u001b[0m \u001b[0mast\u001b[0m\u001b[0;34m.\u001b[0m\u001b[0mAST\u001b[0m\u001b[0;34m)\u001b[0m\u001b[0;34m:\u001b[0m\u001b[0;34m\u001b[0m\u001b[0;34m\u001b[0m\u001b[0m\n\u001b[1;32m    210\u001b[0m                 \u001b[0mvalue\u001b[0m \u001b[0;34m=\u001b[0m \u001b[0mself\u001b[0m\u001b[0;34m.\u001b[0m\u001b[0mtraverse\u001b[0m\u001b[0;34m(\u001b[0m\u001b[0mfield\u001b[0m\u001b[0;34m,\u001b[0m \u001b[0mnode\u001b[0m\u001b[0;34m)\u001b[0m\u001b[0;34m\u001b[0m\u001b[0;34m\u001b[0m\u001b[0m\n",
      "\u001b[0;32m~/inaos/iron-array-python/iarray/py2llvm/py2llvm.py\u001b[0m in \u001b[0;36mtraverse\u001b[0;34m(self, node, parent)\u001b[0m\n\u001b[1;32m    206\u001b[0m         \u001b[0;32mfor\u001b[0m \u001b[0mname\u001b[0m\u001b[0;34m,\u001b[0m \u001b[0mfield\u001b[0m \u001b[0;32min\u001b[0m \u001b[0mself\u001b[0m\u001b[0;34m.\u001b[0m\u001b[0miter_fields\u001b[0m\u001b[0;34m(\u001b[0m\u001b[0mnode\u001b[0m\u001b[0;34m)\u001b[0m\u001b[0;34m:\u001b[0m\u001b[0;34m\u001b[0m\u001b[0;34m\u001b[0m\u001b[0m\n\u001b[1;32m    207\u001b[0m             \u001b[0;32mif\u001b[0m \u001b[0misinstance\u001b[0m\u001b[0;34m(\u001b[0m\u001b[0mfield\u001b[0m\u001b[0;34m,\u001b[0m \u001b[0mlist\u001b[0m\u001b[0;34m)\u001b[0m\u001b[0;34m:\u001b[0m\u001b[0;34m\u001b[0m\u001b[0;34m\u001b[0m\u001b[0m\n\u001b[0;32m--> 208\u001b[0;31m                 \u001b[0mvalue\u001b[0m \u001b[0;34m=\u001b[0m \u001b[0;34m[\u001b[0m\u001b[0mself\u001b[0m\u001b[0;34m.\u001b[0m\u001b[0mtraverse\u001b[0m\u001b[0;34m(\u001b[0m\u001b[0mx\u001b[0m\u001b[0;34m,\u001b[0m \u001b[0mnode\u001b[0m\u001b[0;34m)\u001b[0m \u001b[0;32mfor\u001b[0m \u001b[0mx\u001b[0m \u001b[0;32min\u001b[0m \u001b[0mfield\u001b[0m \u001b[0;32mif\u001b[0m \u001b[0misinstance\u001b[0m\u001b[0;34m(\u001b[0m\u001b[0mx\u001b[0m\u001b[0;34m,\u001b[0m \u001b[0mast\u001b[0m\u001b[0;34m.\u001b[0m\u001b[0mAST\u001b[0m\u001b[0;34m)\u001b[0m\u001b[0;34m]\u001b[0m\u001b[0;34m\u001b[0m\u001b[0;34m\u001b[0m\u001b[0m\n\u001b[0m\u001b[1;32m    209\u001b[0m             \u001b[0;32melif\u001b[0m \u001b[0misinstance\u001b[0m\u001b[0;34m(\u001b[0m\u001b[0mfield\u001b[0m\u001b[0;34m,\u001b[0m \u001b[0mast\u001b[0m\u001b[0;34m.\u001b[0m\u001b[0mAST\u001b[0m\u001b[0;34m)\u001b[0m\u001b[0;34m:\u001b[0m\u001b[0;34m\u001b[0m\u001b[0;34m\u001b[0m\u001b[0m\n\u001b[1;32m    210\u001b[0m                 \u001b[0mvalue\u001b[0m \u001b[0;34m=\u001b[0m \u001b[0mself\u001b[0m\u001b[0;34m.\u001b[0m\u001b[0mtraverse\u001b[0m\u001b[0;34m(\u001b[0m\u001b[0mfield\u001b[0m\u001b[0;34m,\u001b[0m \u001b[0mnode\u001b[0m\u001b[0;34m)\u001b[0m\u001b[0;34m\u001b[0m\u001b[0;34m\u001b[0m\u001b[0m\n",
      "\u001b[0;32m~/inaos/iron-array-python/iarray/py2llvm/py2llvm.py\u001b[0m in \u001b[0;36m<listcomp>\u001b[0;34m(.0)\u001b[0m\n\u001b[1;32m    206\u001b[0m         \u001b[0;32mfor\u001b[0m \u001b[0mname\u001b[0m\u001b[0;34m,\u001b[0m \u001b[0mfield\u001b[0m \u001b[0;32min\u001b[0m \u001b[0mself\u001b[0m\u001b[0;34m.\u001b[0m\u001b[0miter_fields\u001b[0m\u001b[0;34m(\u001b[0m\u001b[0mnode\u001b[0m\u001b[0;34m)\u001b[0m\u001b[0;34m:\u001b[0m\u001b[0;34m\u001b[0m\u001b[0;34m\u001b[0m\u001b[0m\n\u001b[1;32m    207\u001b[0m             \u001b[0;32mif\u001b[0m \u001b[0misinstance\u001b[0m\u001b[0;34m(\u001b[0m\u001b[0mfield\u001b[0m\u001b[0;34m,\u001b[0m \u001b[0mlist\u001b[0m\u001b[0;34m)\u001b[0m\u001b[0;34m:\u001b[0m\u001b[0;34m\u001b[0m\u001b[0;34m\u001b[0m\u001b[0m\n\u001b[0;32m--> 208\u001b[0;31m                 \u001b[0mvalue\u001b[0m \u001b[0;34m=\u001b[0m \u001b[0;34m[\u001b[0m\u001b[0mself\u001b[0m\u001b[0;34m.\u001b[0m\u001b[0mtraverse\u001b[0m\u001b[0;34m(\u001b[0m\u001b[0mx\u001b[0m\u001b[0;34m,\u001b[0m \u001b[0mnode\u001b[0m\u001b[0;34m)\u001b[0m \u001b[0;32mfor\u001b[0m \u001b[0mx\u001b[0m \u001b[0;32min\u001b[0m \u001b[0mfield\u001b[0m \u001b[0;32mif\u001b[0m \u001b[0misinstance\u001b[0m\u001b[0;34m(\u001b[0m\u001b[0mx\u001b[0m\u001b[0;34m,\u001b[0m \u001b[0mast\u001b[0m\u001b[0;34m.\u001b[0m\u001b[0mAST\u001b[0m\u001b[0;34m)\u001b[0m\u001b[0;34m]\u001b[0m\u001b[0;34m\u001b[0m\u001b[0;34m\u001b[0m\u001b[0m\n\u001b[0m\u001b[1;32m    209\u001b[0m             \u001b[0;32melif\u001b[0m \u001b[0misinstance\u001b[0m\u001b[0;34m(\u001b[0m\u001b[0mfield\u001b[0m\u001b[0;34m,\u001b[0m \u001b[0mast\u001b[0m\u001b[0;34m.\u001b[0m\u001b[0mAST\u001b[0m\u001b[0;34m)\u001b[0m\u001b[0;34m:\u001b[0m\u001b[0;34m\u001b[0m\u001b[0;34m\u001b[0m\u001b[0m\n\u001b[1;32m    210\u001b[0m                 \u001b[0mvalue\u001b[0m \u001b[0;34m=\u001b[0m \u001b[0mself\u001b[0m\u001b[0;34m.\u001b[0m\u001b[0mtraverse\u001b[0m\u001b[0;34m(\u001b[0m\u001b[0mfield\u001b[0m\u001b[0;34m,\u001b[0m \u001b[0mnode\u001b[0m\u001b[0;34m)\u001b[0m\u001b[0;34m\u001b[0m\u001b[0;34m\u001b[0m\u001b[0m\n",
      "\u001b[0;32m~/inaos/iron-array-python/iarray/py2llvm/py2llvm.py\u001b[0m in \u001b[0;36mtraverse\u001b[0;34m(self, node, parent)\u001b[0m\n\u001b[1;32m    206\u001b[0m         \u001b[0;32mfor\u001b[0m \u001b[0mname\u001b[0m\u001b[0;34m,\u001b[0m \u001b[0mfield\u001b[0m \u001b[0;32min\u001b[0m \u001b[0mself\u001b[0m\u001b[0;34m.\u001b[0m\u001b[0miter_fields\u001b[0m\u001b[0;34m(\u001b[0m\u001b[0mnode\u001b[0m\u001b[0;34m)\u001b[0m\u001b[0;34m:\u001b[0m\u001b[0;34m\u001b[0m\u001b[0;34m\u001b[0m\u001b[0m\n\u001b[1;32m    207\u001b[0m             \u001b[0;32mif\u001b[0m \u001b[0misinstance\u001b[0m\u001b[0;34m(\u001b[0m\u001b[0mfield\u001b[0m\u001b[0;34m,\u001b[0m \u001b[0mlist\u001b[0m\u001b[0;34m)\u001b[0m\u001b[0;34m:\u001b[0m\u001b[0;34m\u001b[0m\u001b[0;34m\u001b[0m\u001b[0m\n\u001b[0;32m--> 208\u001b[0;31m                 \u001b[0mvalue\u001b[0m \u001b[0;34m=\u001b[0m \u001b[0;34m[\u001b[0m\u001b[0mself\u001b[0m\u001b[0;34m.\u001b[0m\u001b[0mtraverse\u001b[0m\u001b[0;34m(\u001b[0m\u001b[0mx\u001b[0m\u001b[0;34m,\u001b[0m \u001b[0mnode\u001b[0m\u001b[0;34m)\u001b[0m \u001b[0;32mfor\u001b[0m \u001b[0mx\u001b[0m \u001b[0;32min\u001b[0m \u001b[0mfield\u001b[0m \u001b[0;32mif\u001b[0m \u001b[0misinstance\u001b[0m\u001b[0;34m(\u001b[0m\u001b[0mx\u001b[0m\u001b[0;34m,\u001b[0m \u001b[0mast\u001b[0m\u001b[0;34m.\u001b[0m\u001b[0mAST\u001b[0m\u001b[0;34m)\u001b[0m\u001b[0;34m]\u001b[0m\u001b[0;34m\u001b[0m\u001b[0;34m\u001b[0m\u001b[0m\n\u001b[0m\u001b[1;32m    209\u001b[0m             \u001b[0;32melif\u001b[0m \u001b[0misinstance\u001b[0m\u001b[0;34m(\u001b[0m\u001b[0mfield\u001b[0m\u001b[0;34m,\u001b[0m \u001b[0mast\u001b[0m\u001b[0;34m.\u001b[0m\u001b[0mAST\u001b[0m\u001b[0;34m)\u001b[0m\u001b[0;34m:\u001b[0m\u001b[0;34m\u001b[0m\u001b[0;34m\u001b[0m\u001b[0m\n\u001b[1;32m    210\u001b[0m                 \u001b[0mvalue\u001b[0m \u001b[0;34m=\u001b[0m \u001b[0mself\u001b[0m\u001b[0;34m.\u001b[0m\u001b[0mtraverse\u001b[0m\u001b[0;34m(\u001b[0m\u001b[0mfield\u001b[0m\u001b[0;34m,\u001b[0m \u001b[0mnode\u001b[0m\u001b[0;34m)\u001b[0m\u001b[0;34m\u001b[0m\u001b[0;34m\u001b[0m\u001b[0m\n",
      "\u001b[0;32m~/inaos/iron-array-python/iarray/py2llvm/py2llvm.py\u001b[0m in \u001b[0;36m<listcomp>\u001b[0;34m(.0)\u001b[0m\n\u001b[1;32m    206\u001b[0m         \u001b[0;32mfor\u001b[0m \u001b[0mname\u001b[0m\u001b[0;34m,\u001b[0m \u001b[0mfield\u001b[0m \u001b[0;32min\u001b[0m \u001b[0mself\u001b[0m\u001b[0;34m.\u001b[0m\u001b[0miter_fields\u001b[0m\u001b[0;34m(\u001b[0m\u001b[0mnode\u001b[0m\u001b[0;34m)\u001b[0m\u001b[0;34m:\u001b[0m\u001b[0;34m\u001b[0m\u001b[0;34m\u001b[0m\u001b[0m\n\u001b[1;32m    207\u001b[0m             \u001b[0;32mif\u001b[0m \u001b[0misinstance\u001b[0m\u001b[0;34m(\u001b[0m\u001b[0mfield\u001b[0m\u001b[0;34m,\u001b[0m \u001b[0mlist\u001b[0m\u001b[0;34m)\u001b[0m\u001b[0;34m:\u001b[0m\u001b[0;34m\u001b[0m\u001b[0;34m\u001b[0m\u001b[0m\n\u001b[0;32m--> 208\u001b[0;31m                 \u001b[0mvalue\u001b[0m \u001b[0;34m=\u001b[0m \u001b[0;34m[\u001b[0m\u001b[0mself\u001b[0m\u001b[0;34m.\u001b[0m\u001b[0mtraverse\u001b[0m\u001b[0;34m(\u001b[0m\u001b[0mx\u001b[0m\u001b[0;34m,\u001b[0m \u001b[0mnode\u001b[0m\u001b[0;34m)\u001b[0m \u001b[0;32mfor\u001b[0m \u001b[0mx\u001b[0m \u001b[0;32min\u001b[0m \u001b[0mfield\u001b[0m \u001b[0;32mif\u001b[0m \u001b[0misinstance\u001b[0m\u001b[0;34m(\u001b[0m\u001b[0mx\u001b[0m\u001b[0;34m,\u001b[0m \u001b[0mast\u001b[0m\u001b[0;34m.\u001b[0m\u001b[0mAST\u001b[0m\u001b[0;34m)\u001b[0m\u001b[0;34m]\u001b[0m\u001b[0;34m\u001b[0m\u001b[0;34m\u001b[0m\u001b[0m\n\u001b[0m\u001b[1;32m    209\u001b[0m             \u001b[0;32melif\u001b[0m \u001b[0misinstance\u001b[0m\u001b[0;34m(\u001b[0m\u001b[0mfield\u001b[0m\u001b[0;34m,\u001b[0m \u001b[0mast\u001b[0m\u001b[0;34m.\u001b[0m\u001b[0mAST\u001b[0m\u001b[0;34m)\u001b[0m\u001b[0;34m:\u001b[0m\u001b[0;34m\u001b[0m\u001b[0;34m\u001b[0m\u001b[0m\n\u001b[1;32m    210\u001b[0m                 \u001b[0mvalue\u001b[0m \u001b[0;34m=\u001b[0m \u001b[0mself\u001b[0m\u001b[0;34m.\u001b[0m\u001b[0mtraverse\u001b[0m\u001b[0;34m(\u001b[0m\u001b[0mfield\u001b[0m\u001b[0;34m,\u001b[0m \u001b[0mnode\u001b[0m\u001b[0;34m)\u001b[0m\u001b[0;34m\u001b[0m\u001b[0;34m\u001b[0m\u001b[0m\n",
      "\u001b[0;32m~/inaos/iron-array-python/iarray/py2llvm/py2llvm.py\u001b[0m in \u001b[0;36mtraverse\u001b[0;34m(self, node, parent)\u001b[0m\n\u001b[1;32m    206\u001b[0m         \u001b[0;32mfor\u001b[0m \u001b[0mname\u001b[0m\u001b[0;34m,\u001b[0m \u001b[0mfield\u001b[0m \u001b[0;32min\u001b[0m \u001b[0mself\u001b[0m\u001b[0;34m.\u001b[0m\u001b[0miter_fields\u001b[0m\u001b[0;34m(\u001b[0m\u001b[0mnode\u001b[0m\u001b[0;34m)\u001b[0m\u001b[0;34m:\u001b[0m\u001b[0;34m\u001b[0m\u001b[0;34m\u001b[0m\u001b[0m\n\u001b[1;32m    207\u001b[0m             \u001b[0;32mif\u001b[0m \u001b[0misinstance\u001b[0m\u001b[0;34m(\u001b[0m\u001b[0mfield\u001b[0m\u001b[0;34m,\u001b[0m \u001b[0mlist\u001b[0m\u001b[0;34m)\u001b[0m\u001b[0;34m:\u001b[0m\u001b[0;34m\u001b[0m\u001b[0;34m\u001b[0m\u001b[0m\n\u001b[0;32m--> 208\u001b[0;31m                 \u001b[0mvalue\u001b[0m \u001b[0;34m=\u001b[0m \u001b[0;34m[\u001b[0m\u001b[0mself\u001b[0m\u001b[0;34m.\u001b[0m\u001b[0mtraverse\u001b[0m\u001b[0;34m(\u001b[0m\u001b[0mx\u001b[0m\u001b[0;34m,\u001b[0m \u001b[0mnode\u001b[0m\u001b[0;34m)\u001b[0m \u001b[0;32mfor\u001b[0m \u001b[0mx\u001b[0m \u001b[0;32min\u001b[0m \u001b[0mfield\u001b[0m \u001b[0;32mif\u001b[0m \u001b[0misinstance\u001b[0m\u001b[0;34m(\u001b[0m\u001b[0mx\u001b[0m\u001b[0;34m,\u001b[0m \u001b[0mast\u001b[0m\u001b[0;34m.\u001b[0m\u001b[0mAST\u001b[0m\u001b[0;34m)\u001b[0m\u001b[0;34m]\u001b[0m\u001b[0;34m\u001b[0m\u001b[0;34m\u001b[0m\u001b[0m\n\u001b[0m\u001b[1;32m    209\u001b[0m             \u001b[0;32melif\u001b[0m \u001b[0misinstance\u001b[0m\u001b[0;34m(\u001b[0m\u001b[0mfield\u001b[0m\u001b[0;34m,\u001b[0m \u001b[0mast\u001b[0m\u001b[0;34m.\u001b[0m\u001b[0mAST\u001b[0m\u001b[0;34m)\u001b[0m\u001b[0;34m:\u001b[0m\u001b[0;34m\u001b[0m\u001b[0;34m\u001b[0m\u001b[0m\n\u001b[1;32m    210\u001b[0m                 \u001b[0mvalue\u001b[0m \u001b[0;34m=\u001b[0m \u001b[0mself\u001b[0m\u001b[0;34m.\u001b[0m\u001b[0mtraverse\u001b[0m\u001b[0;34m(\u001b[0m\u001b[0mfield\u001b[0m\u001b[0;34m,\u001b[0m \u001b[0mnode\u001b[0m\u001b[0;34m)\u001b[0m\u001b[0;34m\u001b[0m\u001b[0;34m\u001b[0m\u001b[0m\n",
      "\u001b[0;32m~/inaos/iron-array-python/iarray/py2llvm/py2llvm.py\u001b[0m in \u001b[0;36m<listcomp>\u001b[0;34m(.0)\u001b[0m\n\u001b[1;32m    206\u001b[0m         \u001b[0;32mfor\u001b[0m \u001b[0mname\u001b[0m\u001b[0;34m,\u001b[0m \u001b[0mfield\u001b[0m \u001b[0;32min\u001b[0m \u001b[0mself\u001b[0m\u001b[0;34m.\u001b[0m\u001b[0miter_fields\u001b[0m\u001b[0;34m(\u001b[0m\u001b[0mnode\u001b[0m\u001b[0;34m)\u001b[0m\u001b[0;34m:\u001b[0m\u001b[0;34m\u001b[0m\u001b[0;34m\u001b[0m\u001b[0m\n\u001b[1;32m    207\u001b[0m             \u001b[0;32mif\u001b[0m \u001b[0misinstance\u001b[0m\u001b[0;34m(\u001b[0m\u001b[0mfield\u001b[0m\u001b[0;34m,\u001b[0m \u001b[0mlist\u001b[0m\u001b[0;34m)\u001b[0m\u001b[0;34m:\u001b[0m\u001b[0;34m\u001b[0m\u001b[0;34m\u001b[0m\u001b[0m\n\u001b[0;32m--> 208\u001b[0;31m                 \u001b[0mvalue\u001b[0m \u001b[0;34m=\u001b[0m \u001b[0;34m[\u001b[0m\u001b[0mself\u001b[0m\u001b[0;34m.\u001b[0m\u001b[0mtraverse\u001b[0m\u001b[0;34m(\u001b[0m\u001b[0mx\u001b[0m\u001b[0;34m,\u001b[0m \u001b[0mnode\u001b[0m\u001b[0;34m)\u001b[0m \u001b[0;32mfor\u001b[0m \u001b[0mx\u001b[0m \u001b[0;32min\u001b[0m \u001b[0mfield\u001b[0m \u001b[0;32mif\u001b[0m \u001b[0misinstance\u001b[0m\u001b[0;34m(\u001b[0m\u001b[0mx\u001b[0m\u001b[0;34m,\u001b[0m \u001b[0mast\u001b[0m\u001b[0;34m.\u001b[0m\u001b[0mAST\u001b[0m\u001b[0;34m)\u001b[0m\u001b[0;34m]\u001b[0m\u001b[0;34m\u001b[0m\u001b[0;34m\u001b[0m\u001b[0m\n\u001b[0m\u001b[1;32m    209\u001b[0m             \u001b[0;32melif\u001b[0m \u001b[0misinstance\u001b[0m\u001b[0;34m(\u001b[0m\u001b[0mfield\u001b[0m\u001b[0;34m,\u001b[0m \u001b[0mast\u001b[0m\u001b[0;34m.\u001b[0m\u001b[0mAST\u001b[0m\u001b[0;34m)\u001b[0m\u001b[0;34m:\u001b[0m\u001b[0;34m\u001b[0m\u001b[0;34m\u001b[0m\u001b[0m\n\u001b[1;32m    210\u001b[0m                 \u001b[0mvalue\u001b[0m \u001b[0;34m=\u001b[0m \u001b[0mself\u001b[0m\u001b[0;34m.\u001b[0m\u001b[0mtraverse\u001b[0m\u001b[0;34m(\u001b[0m\u001b[0mfield\u001b[0m\u001b[0;34m,\u001b[0m \u001b[0mnode\u001b[0m\u001b[0;34m)\u001b[0m\u001b[0;34m\u001b[0m\u001b[0;34m\u001b[0m\u001b[0m\n",
      "\u001b[0;32m~/inaos/iron-array-python/iarray/py2llvm/py2llvm.py\u001b[0m in \u001b[0;36mtraverse\u001b[0;34m(self, node, parent)\u001b[0m\n\u001b[1;32m    217\u001b[0m         \u001b[0;31m# Exit\u001b[0m\u001b[0;34m\u001b[0m\u001b[0;34m\u001b[0m\u001b[0;34m\u001b[0m\u001b[0m\n\u001b[1;32m    218\u001b[0m         \u001b[0mself\u001b[0m\u001b[0;34m.\u001b[0m\u001b[0mdepth\u001b[0m \u001b[0;34m-=\u001b[0m \u001b[0;36m1\u001b[0m\u001b[0;34m\u001b[0m\u001b[0;34m\u001b[0m\u001b[0m\n\u001b[0;32m--> 219\u001b[0;31m         \u001b[0;32mreturn\u001b[0m \u001b[0mself\u001b[0m\u001b[0;34m.\u001b[0m\u001b[0mcallback\u001b[0m\u001b[0;34m(\u001b[0m\u001b[0;34m\"exit\"\u001b[0m\u001b[0;34m,\u001b[0m \u001b[0mnode\u001b[0m\u001b[0;34m,\u001b[0m \u001b[0mparent\u001b[0m\u001b[0;34m,\u001b[0m \u001b[0;34m*\u001b[0m\u001b[0margs\u001b[0m\u001b[0;34m)\u001b[0m\u001b[0;34m\u001b[0m\u001b[0;34m\u001b[0m\u001b[0m\n\u001b[0m\u001b[1;32m    220\u001b[0m \u001b[0;34m\u001b[0m\u001b[0m\n\u001b[1;32m    221\u001b[0m     \u001b[0;32mdef\u001b[0m \u001b[0mcallback\u001b[0m\u001b[0;34m(\u001b[0m\u001b[0mself\u001b[0m\u001b[0;34m,\u001b[0m \u001b[0mevent\u001b[0m\u001b[0;34m,\u001b[0m \u001b[0mnode\u001b[0m\u001b[0;34m,\u001b[0m \u001b[0mparent\u001b[0m\u001b[0;34m,\u001b[0m \u001b[0;34m*\u001b[0m\u001b[0margs\u001b[0m\u001b[0;34m)\u001b[0m\u001b[0;34m:\u001b[0m\u001b[0;34m\u001b[0m\u001b[0;34m\u001b[0m\u001b[0m\n",
      "\u001b[0;32m~/inaos/iron-array-python/iarray/py2llvm/py2llvm.py\u001b[0m in \u001b[0;36mcallback\u001b[0;34m(self, event, node, parent, *args)\u001b[0m\n\u001b[1;32m    227\u001b[0m \u001b[0;34m\u001b[0m\u001b[0m\n\u001b[1;32m    228\u001b[0m         \u001b[0;31m# Call\u001b[0m\u001b[0;34m\u001b[0m\u001b[0;34m\u001b[0m\u001b[0;34m\u001b[0m\u001b[0m\n\u001b[0;32m--> 229\u001b[0;31m         \u001b[0mvalue\u001b[0m \u001b[0;34m=\u001b[0m \u001b[0mcb\u001b[0m\u001b[0;34m(\u001b[0m\u001b[0mnode\u001b[0m\u001b[0;34m,\u001b[0m \u001b[0mparent\u001b[0m\u001b[0;34m,\u001b[0m \u001b[0;34m*\u001b[0m\u001b[0margs\u001b[0m\u001b[0;34m)\u001b[0m \u001b[0;32mif\u001b[0m \u001b[0mcb\u001b[0m \u001b[0;32mis\u001b[0m \u001b[0;32mnot\u001b[0m \u001b[0;32mNone\u001b[0m \u001b[0;32melse\u001b[0m \u001b[0;32mNone\u001b[0m\u001b[0;34m\u001b[0m\u001b[0;34m\u001b[0m\u001b[0m\n\u001b[0m\u001b[1;32m    230\u001b[0m \u001b[0;34m\u001b[0m\u001b[0m\n\u001b[1;32m    231\u001b[0m         \u001b[0;31m# Debug\u001b[0m\u001b[0;34m\u001b[0m\u001b[0;34m\u001b[0m\u001b[0;34m\u001b[0m\u001b[0m\n",
      "\u001b[0;32m~/inaos/iron-array-python/iarray/py2llvm/py2llvm.py\u001b[0m in \u001b[0;36mAssign_exit\u001b[0;34m(self, node, parent, targets, value, *args)\u001b[0m\n\u001b[1;32m    949\u001b[0m             \u001b[0mptr\u001b[0m \u001b[0;34m=\u001b[0m \u001b[0mtarget\u001b[0m\u001b[0;34m\u001b[0m\u001b[0;34m\u001b[0m\u001b[0m\n\u001b[1;32m    950\u001b[0m \u001b[0;34m\u001b[0m\u001b[0m\n\u001b[0;32m--> 951\u001b[0;31m         \u001b[0;32mreturn\u001b[0m \u001b[0mbuilder\u001b[0m\u001b[0;34m.\u001b[0m\u001b[0mstore\u001b[0m\u001b[0;34m(\u001b[0m\u001b[0mvalue\u001b[0m\u001b[0;34m,\u001b[0m \u001b[0mptr\u001b[0m\u001b[0;34m)\u001b[0m\u001b[0;34m\u001b[0m\u001b[0;34m\u001b[0m\u001b[0m\n\u001b[0m\u001b[1;32m    952\u001b[0m \u001b[0;34m\u001b[0m\u001b[0m\n\u001b[1;32m    953\u001b[0m     \u001b[0;32mdef\u001b[0m \u001b[0mAugAssign_exit\u001b[0m\u001b[0;34m(\u001b[0m\u001b[0mself\u001b[0m\u001b[0;34m,\u001b[0m \u001b[0mnode\u001b[0m\u001b[0;34m,\u001b[0m \u001b[0mparent\u001b[0m\u001b[0;34m,\u001b[0m \u001b[0mtarget\u001b[0m\u001b[0;34m,\u001b[0m \u001b[0mop\u001b[0m\u001b[0;34m,\u001b[0m \u001b[0mvalue\u001b[0m\u001b[0;34m)\u001b[0m\u001b[0;34m:\u001b[0m\u001b[0;34m\u001b[0m\u001b[0;34m\u001b[0m\u001b[0m\n",
      "\u001b[0;32m~/miniconda3/lib/python3.8/site-packages/llvmlite/ir/builder.py\u001b[0m in \u001b[0;36mstore\u001b[0;34m(self, value, ptr, align)\u001b[0m\n\u001b[1;32m    746\u001b[0m             \u001b[0;32mraise\u001b[0m \u001b[0mTypeError\u001b[0m\u001b[0;34m(\u001b[0m\u001b[0mmsg\u001b[0m \u001b[0;34m%\u001b[0m \u001b[0;34m(\u001b[0m\u001b[0mptr\u001b[0m\u001b[0;34m.\u001b[0m\u001b[0mtype\u001b[0m\u001b[0;34m,\u001b[0m \u001b[0mstr\u001b[0m\u001b[0;34m(\u001b[0m\u001b[0mptr\u001b[0m\u001b[0;34m)\u001b[0m\u001b[0;34m)\u001b[0m\u001b[0;34m)\u001b[0m\u001b[0;34m\u001b[0m\u001b[0;34m\u001b[0m\u001b[0m\n\u001b[1;32m    747\u001b[0m         \u001b[0;32mif\u001b[0m \u001b[0mptr\u001b[0m\u001b[0;34m.\u001b[0m\u001b[0mtype\u001b[0m\u001b[0;34m.\u001b[0m\u001b[0mpointee\u001b[0m \u001b[0;34m!=\u001b[0m \u001b[0mvalue\u001b[0m\u001b[0;34m.\u001b[0m\u001b[0mtype\u001b[0m\u001b[0;34m:\u001b[0m\u001b[0;34m\u001b[0m\u001b[0;34m\u001b[0m\u001b[0m\n\u001b[0;32m--> 748\u001b[0;31m             raise TypeError(\"cannot store %s to %s: mismatching types\"\n\u001b[0m\u001b[1;32m    749\u001b[0m                             % (value.type, ptr.type))\n\u001b[1;32m    750\u001b[0m         \u001b[0mst\u001b[0m \u001b[0;34m=\u001b[0m \u001b[0minstructions\u001b[0m\u001b[0;34m.\u001b[0m\u001b[0mStoreInstr\u001b[0m\u001b[0;34m(\u001b[0m\u001b[0mself\u001b[0m\u001b[0;34m.\u001b[0m\u001b[0mblock\u001b[0m\u001b[0;34m,\u001b[0m \u001b[0mvalue\u001b[0m\u001b[0;34m,\u001b[0m \u001b[0mptr\u001b[0m\u001b[0;34m)\u001b[0m\u001b[0;34m\u001b[0m\u001b[0;34m\u001b[0m\u001b[0m\n",
      "\u001b[0;31mTypeError\u001b[0m: cannot store double to float*: mismatching types"
     ]
    }
   ],
   "source": [
    "\n",
    "import math\n",
    "\n",
    "@jit()\n",
    "def trans(out: Array(float32, 3),\n",
    "          p1: Array(float32, 3),\n",
    "          p2: Array(float32, 3),\n",
    "          p3: Array(float32, 3)) -> int:\n",
    "\n",
    "    l = p1.window_shape[0]\n",
    "    m = p1.window_shape[1]\n",
    "    n = p1.window_shape[2]\n",
    "\n",
    "    for i in range(l):\n",
    "        for j in range(m):\n",
    "            for k in range(n):\n",
    "                value = math.sin(p1[i,j,k]) * math.sin(p2[i,j,k]) + math.cos(p2[i,j,k])\n",
    "                value *= math.tan(p1[i,j,k])\n",
    "                value += math.cosh(p3[i,j,k]) * 2\n",
    "                out[i,j,k] = value\n",
    "\n",
    "    return 0"
   ]
  },
  {
   "cell_type": "code",
   "execution_count": null,
   "metadata": {},
   "outputs": [],
   "source": [
    "%%time\n",
    "precip_expr = ia.expr_from_udf(trans, [precip1, precip2, precip3])"
   ]
  },
  {
   "cell_type": "code",
   "execution_count": 8,
   "metadata": {
    "pycharm": {
     "name": "#%%\n"
    }
   },
   "outputs": [
    {
     "data": {
      "text/plain": [
       "<IArray (720, 721, 1440) np.float32>"
      ]
     },
     "execution_count": 8,
     "metadata": {},
     "output_type": "execute_result"
    },
    {
     "name": "stdout",
     "output_type": "stream",
     "text": [
      "memprofiler: used 674.53 MiB RAM (peak of 676.89 MiB) in 1.3874 s, total RAM usage 13221.93 MiB\n"
     ]
    }
   ],
   "source": [
    "%%mprof_run iarray-trans\n",
    "precip_mean = precip_expr.eval()\n",
    "precip_mean"
   ]
  },
  {
   "cell_type": "markdown",
   "metadata": {
    "pycharm": {
     "name": "#%% md\n"
    }
   },
   "source": [
    "In this case we see that the overhead of using transcendental functions is pretty low compared with plain arithmetic operations (sum, rest, mult, division...). Let's compare this against NumPy:"
   ]
  },
  {
   "cell_type": "code",
   "execution_count": 9,
   "metadata": {
    "pycharm": {
     "name": "#%%\n"
    }
   },
   "outputs": [
    {
     "name": "stdout",
     "output_type": "stream",
     "text": [
      "memprofiler: used 2851.63 MiB RAM (peak of 8554.86 MiB) in 9.7094 s, total RAM usage 16073.58 MiB\n"
     ]
    }
   ],
   "source": [
    "%%mprof_run np_trans\n",
    "p1_ = np_precip1\n",
    "p2_ = np_precip2\n",
    "p3_ = np_precip3\n",
    "np_result = (np.tan(p1_) * (np.sin(p1_) * np.sin(p2_) + np.cos(p2_)) + np.sqrt(p3_) * 2)"
   ]
  },
  {
   "cell_type": "markdown",
   "metadata": {
    "pycharm": {
     "name": "#%% md\n"
    }
   },
   "source": [
    "Ok, this is really slow, but this is kind of expected, as ironArray comes with support for evaluating transcendental functions via MKL, as well other optimizations courtesy of the internal LLVM compiler."
   ]
  },
  {
   "cell_type": "markdown",
   "metadata": {
    "pycharm": {
     "name": "#%% md\n"
    }
   },
   "source": [
    "## Lazy expressions\n",
    "\n",
    "So far we have been using strings as the way to build expressions.  However, there is a handier (and perhaps more elegant) way to build expressions via the so-called lazy expressions.  With lazy expressions you just express your computations in terms of `IArray` objects.\n",
    "\n",
    "For example, the mean of the precipitation would be expressed as:"
   ]
  },
  {
   "cell_type": "code",
   "execution_count": 10,
   "metadata": {
    "pycharm": {
     "name": "#%%\n"
    }
   },
   "outputs": [
    {
     "ename": "AttributeError",
     "evalue": "The memory profile label is incorrect!",
     "output_type": "error",
     "traceback": [
      "\u001b[0;31m---------------------------------------------------------------------------\u001b[0m",
      "\u001b[0;31mAttributeError\u001b[0m                            Traceback (most recent call last)",
      "\u001b[0;32m<ipython-input-10-3f118d071c94>\u001b[0m in \u001b[0;36m<module>\u001b[0;34m\u001b[0m\n\u001b[0;32m----> 1\u001b[0;31m \u001b[0mget_ipython\u001b[0m\u001b[0;34m(\u001b[0m\u001b[0;34m)\u001b[0m\u001b[0;34m.\u001b[0m\u001b[0mrun_cell_magic\u001b[0m\u001b[0;34m(\u001b[0m\u001b[0;34m'mprof_run'\u001b[0m\u001b[0;34m,\u001b[0m \u001b[0;34m'_'\u001b[0m\u001b[0;34m,\u001b[0m \u001b[0;34m'precip_expr = (precip1 + precip2 + precip3) / 3\\nprecip_mean = precip_expr.eval()\\nprecip_mean\\n'\u001b[0m\u001b[0;34m)\u001b[0m\u001b[0;34m\u001b[0m\u001b[0;34m\u001b[0m\u001b[0m\n\u001b[0m",
      "\u001b[0;32m~/miniconda3/lib/python3.8/site-packages/IPython/core/interactiveshell.py\u001b[0m in \u001b[0;36mrun_cell_magic\u001b[0;34m(self, magic_name, line, cell)\u001b[0m\n\u001b[1;32m   2389\u001b[0m             \u001b[0;32mwith\u001b[0m \u001b[0mself\u001b[0m\u001b[0;34m.\u001b[0m\u001b[0mbuiltin_trap\u001b[0m\u001b[0;34m:\u001b[0m\u001b[0;34m\u001b[0m\u001b[0;34m\u001b[0m\u001b[0m\n\u001b[1;32m   2390\u001b[0m                 \u001b[0margs\u001b[0m \u001b[0;34m=\u001b[0m \u001b[0;34m(\u001b[0m\u001b[0mmagic_arg_s\u001b[0m\u001b[0;34m,\u001b[0m \u001b[0mcell\u001b[0m\u001b[0;34m)\u001b[0m\u001b[0;34m\u001b[0m\u001b[0;34m\u001b[0m\u001b[0m\n\u001b[0;32m-> 2391\u001b[0;31m                 \u001b[0mresult\u001b[0m \u001b[0;34m=\u001b[0m \u001b[0mfn\u001b[0m\u001b[0;34m(\u001b[0m\u001b[0;34m*\u001b[0m\u001b[0margs\u001b[0m\u001b[0;34m,\u001b[0m \u001b[0;34m**\u001b[0m\u001b[0mkwargs\u001b[0m\u001b[0;34m)\u001b[0m\u001b[0;34m\u001b[0m\u001b[0;34m\u001b[0m\u001b[0m\n\u001b[0m\u001b[1;32m   2392\u001b[0m             \u001b[0;32mreturn\u001b[0m \u001b[0mresult\u001b[0m\u001b[0;34m\u001b[0m\u001b[0;34m\u001b[0m\u001b[0m\n\u001b[1;32m   2393\u001b[0m \u001b[0;34m\u001b[0m\u001b[0m\n",
      "\u001b[0;32m<decorator-gen-117>\u001b[0m in \u001b[0;36mmprof_run\u001b[0;34m(self, line, cell)\u001b[0m\n",
      "\u001b[0;32m~/miniconda3/lib/python3.8/site-packages/IPython/core/magic.py\u001b[0m in \u001b[0;36m<lambda>\u001b[0;34m(f, *a, **k)\u001b[0m\n\u001b[1;32m    185\u001b[0m     \u001b[0;31m# but it's overkill for just that one bit of state.\u001b[0m\u001b[0;34m\u001b[0m\u001b[0;34m\u001b[0m\u001b[0;34m\u001b[0m\u001b[0m\n\u001b[1;32m    186\u001b[0m     \u001b[0;32mdef\u001b[0m \u001b[0mmagic_deco\u001b[0m\u001b[0;34m(\u001b[0m\u001b[0marg\u001b[0m\u001b[0;34m)\u001b[0m\u001b[0;34m:\u001b[0m\u001b[0;34m\u001b[0m\u001b[0;34m\u001b[0m\u001b[0m\n\u001b[0;32m--> 187\u001b[0;31m         \u001b[0mcall\u001b[0m \u001b[0;34m=\u001b[0m \u001b[0;32mlambda\u001b[0m \u001b[0mf\u001b[0m\u001b[0;34m,\u001b[0m \u001b[0;34m*\u001b[0m\u001b[0ma\u001b[0m\u001b[0;34m,\u001b[0m \u001b[0;34m**\u001b[0m\u001b[0mk\u001b[0m\u001b[0;34m:\u001b[0m \u001b[0mf\u001b[0m\u001b[0;34m(\u001b[0m\u001b[0;34m*\u001b[0m\u001b[0ma\u001b[0m\u001b[0;34m,\u001b[0m \u001b[0;34m**\u001b[0m\u001b[0mk\u001b[0m\u001b[0;34m)\u001b[0m\u001b[0;34m\u001b[0m\u001b[0;34m\u001b[0m\u001b[0m\n\u001b[0m\u001b[1;32m    188\u001b[0m \u001b[0;34m\u001b[0m\u001b[0m\n\u001b[1;32m    189\u001b[0m         \u001b[0;32mif\u001b[0m \u001b[0mcallable\u001b[0m\u001b[0;34m(\u001b[0m\u001b[0marg\u001b[0m\u001b[0;34m)\u001b[0m\u001b[0;34m:\u001b[0m\u001b[0;34m\u001b[0m\u001b[0;34m\u001b[0m\u001b[0m\n",
      "\u001b[0;32m~/miniconda3/lib/python3.8/site-packages/memprofiler/memprofiler.py\u001b[0m in \u001b[0;36mmprof_run\u001b[0;34m(self, line, cell)\u001b[0m\n\u001b[1;32m    172\u001b[0m         \u001b[0mline\u001b[0m \u001b[0;34m=\u001b[0m \u001b[0margs\u001b[0m\u001b[0;34m.\u001b[0m\u001b[0mprofile_id\u001b[0m\u001b[0;34m.\u001b[0m\u001b[0mreplace\u001b[0m\u001b[0;34m(\u001b[0m\u001b[0;34m\"\\\"\"\u001b[0m\u001b[0;34m,\u001b[0m \u001b[0;34m\"\"\u001b[0m\u001b[0;34m)\u001b[0m\u001b[0;34m.\u001b[0m\u001b[0mreplace\u001b[0m\u001b[0;34m(\u001b[0m\u001b[0;34m\"\\'\"\u001b[0m\u001b[0;34m,\u001b[0m \u001b[0;34m\"\"\u001b[0m\u001b[0;34m)\u001b[0m\u001b[0;34m\u001b[0m\u001b[0;34m\u001b[0m\u001b[0m\n\u001b[1;32m    173\u001b[0m         \u001b[0;32mif\u001b[0m \u001b[0mline\u001b[0m\u001b[0;34m.\u001b[0m\u001b[0mcount\u001b[0m\u001b[0;34m(\u001b[0m\u001b[0msep\u001b[0m\u001b[0;34m)\u001b[0m \u001b[0;34m!=\u001b[0m \u001b[0;36m1\u001b[0m\u001b[0;34m:\u001b[0m\u001b[0;34m\u001b[0m\u001b[0;34m\u001b[0m\u001b[0m\n\u001b[0;32m--> 174\u001b[0;31m             \u001b[0;32mraise\u001b[0m \u001b[0mAttributeError\u001b[0m\u001b[0;34m(\u001b[0m\u001b[0;34m\"The memory profile label is incorrect!\"\u001b[0m\u001b[0;34m)\u001b[0m\u001b[0;34m\u001b[0m\u001b[0;34m\u001b[0m\u001b[0m\n\u001b[0m\u001b[1;32m    175\u001b[0m \u001b[0;34m\u001b[0m\u001b[0m\n\u001b[1;32m    176\u001b[0m         \u001b[0mchild_conn\u001b[0m\u001b[0;34m,\u001b[0m \u001b[0mparent_conn\u001b[0m \u001b[0;34m=\u001b[0m \u001b[0mPipe\u001b[0m\u001b[0;34m(\u001b[0m\u001b[0;34m)\u001b[0m\u001b[0;34m\u001b[0m\u001b[0;34m\u001b[0m\u001b[0m\n",
      "\u001b[0;31mAttributeError\u001b[0m: The memory profile label is incorrect!"
     ]
    }
   ],
   "source": [
    "%%mprof_run _\n",
    "precip_expr = (precip1 + precip2 + precip3) / 3\n",
    "precip_mean = precip_expr.eval()\n",
    "precip_mean"
   ]
  },
  {
   "cell_type": "markdown",
   "metadata": {
    "pycharm": {
     "name": "#%% md\n"
    }
   },
   "source": [
    "Lazy expressions are similar to how you use NumPy to evaluate expressions with some differences:\n",
    "\n",
    "1. You need to be explicit when you want to `.eval()`-uate the expressions.\n",
    "\n",
    "2. There are no big temporaries involved.  The expression is compiled on the flight and large temporaries are avoided.  This means not only that we require less memory, but more importantly, that expressions evaluate faster (memory access is always expensive).\n",
    "\n",
    "For evaluating expressions with transcendental functions you need to use ironArray methods:"
   ]
  },
  {
   "cell_type": "code",
   "execution_count": 11,
   "metadata": {
    "pycharm": {
     "name": "#%%\n"
    }
   },
   "outputs": [
    {
     "data": {
      "text/plain": [
       "<IArray (720, 721, 1440) np.float32>"
      ]
     },
     "execution_count": 11,
     "metadata": {},
     "output_type": "execute_result"
    },
    {
     "name": "stdout",
     "output_type": "stream",
     "text": [
      "memprofiler: used 568.72 MiB RAM (peak of 571.09 MiB) in 1.4722 s, total RAM usage 17034.63 MiB\n"
     ]
    }
   ],
   "source": [
    "%%mprof_run _\n",
    "lazy_expr = ia.tan(precip1) * (ia.sin(precip1) * ia.sin(precip2) + ia.cos(precip2)) + ia.sqrt(precip3) * 2\n",
    "# You can also use the next idiom, which is not as close to NumPy, but a hair more concise\n",
    "#lazy_expr = precip1.tan() * (precip1.sin() * precip2.sin() + precip2.cos()) + precip3.sqrt() * 2\n",
    "lazy_result = lazy_expr.eval()\n",
    "lazy_result"
   ]
  },
  {
   "cell_type": "markdown",
   "metadata": {
    "pycharm": {
     "name": "#%% md\n"
    }
   },
   "source": [
    "Note how execution times and memory usage are very similar to the string expressions evaluator.\n",
    "\n",
    "As you can see, lazy expressions allow for a more Pythonic way to integrate ironArray operands in expressions, just like NumPy (only more memory efficient and faster).  In general, you can use the method you like the most, although evaluation of string expressions tends to be a hair faster, especially when using small arrays."
   ]
  },
  {
   "cell_type": "markdown",
   "metadata": {
    "pycharm": {
     "name": "#%% md\n"
    }
   },
   "source": [
    "## Resource consumption\n",
    "\n",
    "As a summary, let's do a plot on the speed for the different kind of computations:"
   ]
  },
  {
   "cell_type": "code",
   "execution_count": 12,
   "metadata": {},
   "outputs": [
    {
     "data": {
      "application/vnd.plotly.v1+json": {
       "config": {
        "plotlyServerURL": "https://plot.ly"
       },
       "data": [
        {
         "mode": "lines",
         "name": "ia_mean",
         "type": "scatter",
         "x": [
          0.0003695487976074219,
          0.011218786239624023,
          0.022401094436645508,
          0.03365302085876465,
          0.04471540451049805,
          0.056205034255981445,
          0.06738686561584473,
          0.07847142219543457,
          0.08945631980895996,
          0.10082721710205078,
          0.11211752891540527,
          0.12304091453552246,
          0.13408398628234863,
          0.14549899101257324,
          0.15659761428833008,
          0.16756272315979004,
          0.17860674858093262,
          0.1890270709991455,
          0.2000293731689453,
          0.21110010147094727,
          0.22191429138183594,
          0.23320579528808594,
          0.24469399452209473,
          0.2558920383453369,
          0.2669055461883545,
          0.27788233757019043,
          0.2883157730102539,
          0.3012888431549072,
          0.31182861328125,
          0.3229854106903076,
          0.33423280715942383,
          0.34546732902526855,
          0.3567044734954834,
          0.36765074729919434,
          0.3785421848297119,
          0.38979482650756836,
          0.4008605480194092,
          0.4120640754699707,
          0.42331910133361816,
          0.43385958671569824,
          0.44500064849853516,
          0.456404447555542,
          0.4676179885864258,
          0.47876644134521484,
          0.48980712890625,
          0.500777006149292,
          0.5118377208709717,
          0.5230674743652344,
          0.5340001583099365,
          0.545062780380249,
          0.556117057800293,
          0.5668444633483887,
          0.5776195526123047,
          0.5891106128692627,
          0.6002402305603027,
          0.6110105514526367,
          0.6214847564697266,
          0.6320865154266357,
          0.6429052352905273,
          0.6543521881103516,
          0.6656758785247803,
          0.6767480373382568,
          0.688246488571167,
          0.6993272304534912,
          0.7105631828308105,
          0.72188401222229,
          0.7330458164215088,
          0.7440869808197021,
          0.7553720474243164,
          0.7668170928955078,
          0.7779076099395752,
          0.7886025905609131,
          0.799048900604248,
          0.8102309703826904,
          0.8213307857513428,
          0.8325080871582031,
          0.843803882598877,
          0.854874849319458,
          0.8657331466674805,
          0.8768701553344727,
          0.8881206512451172,
          0.8991191387176514,
          0.910362720489502,
          0.9217488765716553,
          0.9329483509063721,
          0.9440052509307861,
          0.9550604820251465,
          0.9663927555084229,
          0.9776883125305176,
          0.9886713027954102,
          0.9997577667236328,
          1.0109508037567139,
          1.0221083164215088,
          1.0333094596862793,
          1.044449806213379,
          1.055696964263916,
          1.0663304328918457,
          1.077479362487793,
          1.088646411895752,
          1.0990879535675049,
          1.1096746921539307,
          1.1208245754241943,
          1.1323115825653076,
          1.1432912349700928,
          1.1544620990753174,
          1.1649274826049805,
          1.165330410003662
         ],
         "y": [
          0,
          85.3046875,
          95.234375,
          99.984375,
          104.19140625,
          108.0078125,
          112.0078125,
          116.0078125,
          120.05078125,
          124.6328125,
          127.140625,
          131.140625,
          135.140625,
          139.65625,
          143.65625,
          149.65625,
          155.65625,
          159.65625,
          163.98828125,
          169.98828125,
          175.98828125,
          181.98828125,
          185.5390625,
          190.046875,
          196.046875,
          200.046875,
          206.046875,
          208.68359375,
          210.68359375,
          214.68359375,
          217.09765625,
          221.09765625,
          223.09765625,
          227.09765625,
          228.82421875,
          232.82421875,
          234.82421875,
          237.5625,
          239.5625,
          243.5625,
          247.5625,
          249.8671875,
          253.8671875,
          257.8671875,
          261.8671875,
          265.61328125,
          269.8671875,
          273.8671875,
          277.8671875,
          281.546875,
          287.546875,
          291.546875,
          297.546875,
          301.09765625,
          307.09765625,
          313.09765625,
          319.09765625,
          325.09765625,
          328.5625,
          334.81640625,
          338.81640625,
          344.81640625,
          347.1640625,
          349.1640625,
          353.1640625,
          354.83203125,
          358.83203125,
          362.83203125,
          364.83203125,
          367.84765625,
          369.84765625,
          373.84765625,
          376.09375,
          377.3515625,
          381.3515625,
          385.3515625,
          386.94140625,
          390.94140625,
          394.94140625,
          398.94140625,
          399.19140625,
          403.69140625,
          407.69140625,
          408.70703125,
          414.70703125,
          418.70703125,
          424.70703125,
          427.4609375,
          433.4609375,
          439.4609375,
          445.4609375,
          447.0078125,
          451.26171875,
          457.26171875,
          461.26171875,
          462.2109375,
          466.2109375,
          470.2109375,
          472.2109375,
          472.55078125,
          476.55078125,
          480.55078125,
          481.66015625,
          483.9140625,
          487.9140625,
          485.421875,
          485.421875
         ]
        },
        {
         "mode": "lines",
         "name": "np_mean",
         "type": "scatter",
         "x": [
          0.0003724098205566406,
          0.010831356048583984,
          0.02123427391052246,
          0.031672000885009766,
          0.042014360427856445,
          0.05242609977722168,
          0.06277775764465332,
          0.0731809139251709,
          0.08358311653137207,
          0.0940251350402832,
          0.1044607162475586,
          0.11479902267456055,
          0.1252150535583496,
          0.13565564155578613,
          0.14600062370300293,
          0.15642237663269043,
          0.16677522659301758,
          0.1771841049194336,
          0.18759989738464355,
          0.19802403450012207,
          0.20843219757080078,
          0.21879124641418457,
          0.2292025089263916,
          0.2396378517150879,
          0.2499864101409912,
          0.2604033946990967,
          0.27076077461242676,
          0.2811713218688965,
          0.2915761470794678,
          0.3019852638244629,
          0.3123958110809326,
          0.3227560520172119,
          0.33316826820373535,
          0.34360218048095703,
          0.35402584075927734,
          0.3644399642944336,
          0.3748018741607666,
          0.38521456718444824,
          0.3956429958343506,
          0.4059910774230957,
          0.4163937568664551,
          0.42675113677978516,
          0.4371664524078369,
          0.4475703239440918,
          0.45799970626831055,
          0.46841979026794434,
          0.4787728786468506,
          0.489194393157959,
          0.49961256980895996,
          0.509974479675293,
          0.5203871726989746,
          0.530735969543457,
          0.541151762008667,
          0.5515627861022949,
          0.5619792938232422,
          0.5723845958709717,
          0.5827436447143555,
          0.5931456089019775,
          0.6035406589508057,
          0.6139583587646484,
          0.6243762969970703,
          0.6347293853759766,
          0.6451401710510254,
          0.6555476188659668,
          0.6659657955169678,
          0.6763784885406494,
          0.6867353916168213,
          0.6971430778503418,
          0.7075483798980713,
          0.7179524898529053,
          0.7283632755279541,
          0.7387216091156006,
          0.7491276264190674,
          0.7595477104187012,
          0.7699398994445801,
          0.7802021503448486,
          0.7903625965118408,
          0.800584077835083,
          0.8108053207397461,
          0.8210196495056152,
          0.8312397003173828,
          0.8414537906646729,
          0.8516919612884521,
          0.8618459701538086,
          0.8720619678497314,
          0.8822164535522461,
          0.8924312591552734,
          0.9026584625244141,
          0.9128742218017578,
          0.9230303764343262,
          0.9332449436187744,
          0.9434587955474854,
          0.9536921977996826,
          0.9638607501983643,
          0.9740128517150879,
          0.9842259883880615,
          0.9943792819976807,
          1.0045974254608154,
          1.014754295349121,
          1.0249648094177246,
          1.0351812839508057,
          1.0453941822052002,
          1.0556142330169678,
          1.0657832622528076,
          1.0759975910186768,
          1.086151361465454,
          1.0963685512542725,
          1.1065268516540527,
          1.1167428493499756,
          1.1268928050994873,
          1.1371057033538818,
          1.1473228931427002,
          1.1575355529785156,
          1.1677489280700684,
          1.1779015064239502,
          1.1881153583526611,
          1.1982669830322266,
          1.2084801197052002,
          1.2186377048492432,
          1.2288475036621094,
          1.238997220993042,
          1.2491483688354492,
          1.259364366531372,
          1.2695775032043457,
          1.2797954082489014,
          1.2899482250213623,
          1.300161600112915,
          1.310314416885376,
          1.3205311298370361,
          1.3306884765625,
          1.340900182723999,
          1.3510496616363525,
          1.3612639904022217,
          1.3714799880981445,
          1.381711721420288,
          1.3919265270233154,
          1.4020800590515137,
          1.4122989177703857,
          1.4224514961242676,
          1.4326837062835693,
          1.4428510665893555,
          1.4530677795410156,
          1.4632837772369385,
          1.4678831100463867
         ],
         "y": [
          0,
          35.42578125,
          73.61328125,
          113.61328125,
          151.61328125,
          189.61328125,
          229.61328125,
          267.61328125,
          305.61328125,
          345.61328125,
          385.61328125,
          423.61328125,
          463.61328125,
          501.61328125,
          539.61328125,
          579.61328125,
          617.61328125,
          655.61328125,
          695.61328125,
          733.6171875,
          771.6171875,
          811.6171875,
          849.6171875,
          889.6171875,
          927.6171875,
          967.6171875,
          1005.6171875,
          1045.6171875,
          1083.6171875,
          1123.6171875,
          1161.6171875,
          1201.6171875,
          1239.6171875,
          1277.6171875,
          1317.6171875,
          1355.6171875,
          1393.6171875,
          1433.6171875,
          1471.6171875,
          1511.6171875,
          1549.6171875,
          1589.6171875,
          1627.6171875,
          1667.6171875,
          1705.6171875,
          1745.6171875,
          1783.6171875,
          1823.6171875,
          1861.6171875,
          1901.6171875,
          1939.6171875,
          1977.6171875,
          2017.6171875,
          2055.6171875,
          2095.6171875,
          2133.6171875,
          2173.6171875,
          2211.6171875,
          2249.6171875,
          2289.6171875,
          2327.6171875,
          2367.6171875,
          2405.6171875,
          2445.6171875,
          2485.6171875,
          2523.6171875,
          2561.6171875,
          2601.6171875,
          2641.6171875,
          2679.6171875,
          2719.6171875,
          2757.6171875,
          2797.6171875,
          2835.6171875,
          2851.6171875,
          2851.6171875,
          2851.6171875,
          2851.6171875,
          2851.6171875,
          2851.6171875,
          2851.6171875,
          2851.6171875,
          2851.6171875,
          2851.6171875,
          2851.6171875,
          2851.6171875,
          2851.6171875,
          2851.6171875,
          2851.6171875,
          2851.6171875,
          2851.6171875,
          2851.6171875,
          2851.6171875,
          2851.6171875,
          2851.6171875,
          2851.6171875,
          2851.6171875,
          2851.6171875,
          2851.6171875,
          2851.6171875,
          2851.6171875,
          2851.6171875,
          2851.6171875,
          2851.6171875,
          2851.6171875,
          2851.6171875,
          2851.6171875,
          2851.6171875,
          2851.6171875,
          2851.6171875,
          2851.6171875,
          2851.6171875,
          2851.6171875,
          2851.6171875,
          2851.6171875,
          2851.6171875,
          2851.6171875,
          2851.6171875,
          2851.6171875,
          2851.6171875,
          2851.6171875,
          2851.6171875,
          2851.6171875,
          2851.6171875,
          2851.6171875,
          2851.6171875,
          2851.6171875,
          2851.6171875,
          2851.6171875,
          2851.6171875,
          2851.6171875,
          2851.6171875,
          2851.6171875,
          2851.6171875,
          2851.6171875,
          2851.6171875,
          2851.6171875,
          2851.6171875,
          2851.6171875,
          2851.6171875,
          2851.6171875,
          2851.6171875,
          2851.6171875,
          2852.11328125
         ]
        }
       ],
       "layout": {
        "template": {
         "data": {
          "bar": [
           {
            "error_x": {
             "color": "#2a3f5f"
            },
            "error_y": {
             "color": "#2a3f5f"
            },
            "marker": {
             "line": {
              "color": "#E5ECF6",
              "width": 0.5
             }
            },
            "type": "bar"
           }
          ],
          "barpolar": [
           {
            "marker": {
             "line": {
              "color": "#E5ECF6",
              "width": 0.5
             }
            },
            "type": "barpolar"
           }
          ],
          "carpet": [
           {
            "aaxis": {
             "endlinecolor": "#2a3f5f",
             "gridcolor": "white",
             "linecolor": "white",
             "minorgridcolor": "white",
             "startlinecolor": "#2a3f5f"
            },
            "baxis": {
             "endlinecolor": "#2a3f5f",
             "gridcolor": "white",
             "linecolor": "white",
             "minorgridcolor": "white",
             "startlinecolor": "#2a3f5f"
            },
            "type": "carpet"
           }
          ],
          "choropleth": [
           {
            "colorbar": {
             "outlinewidth": 0,
             "ticks": ""
            },
            "type": "choropleth"
           }
          ],
          "contour": [
           {
            "colorbar": {
             "outlinewidth": 0,
             "ticks": ""
            },
            "colorscale": [
             [
              0,
              "#0d0887"
             ],
             [
              0.1111111111111111,
              "#46039f"
             ],
             [
              0.2222222222222222,
              "#7201a8"
             ],
             [
              0.3333333333333333,
              "#9c179e"
             ],
             [
              0.4444444444444444,
              "#bd3786"
             ],
             [
              0.5555555555555556,
              "#d8576b"
             ],
             [
              0.6666666666666666,
              "#ed7953"
             ],
             [
              0.7777777777777778,
              "#fb9f3a"
             ],
             [
              0.8888888888888888,
              "#fdca26"
             ],
             [
              1,
              "#f0f921"
             ]
            ],
            "type": "contour"
           }
          ],
          "contourcarpet": [
           {
            "colorbar": {
             "outlinewidth": 0,
             "ticks": ""
            },
            "type": "contourcarpet"
           }
          ],
          "heatmap": [
           {
            "colorbar": {
             "outlinewidth": 0,
             "ticks": ""
            },
            "colorscale": [
             [
              0,
              "#0d0887"
             ],
             [
              0.1111111111111111,
              "#46039f"
             ],
             [
              0.2222222222222222,
              "#7201a8"
             ],
             [
              0.3333333333333333,
              "#9c179e"
             ],
             [
              0.4444444444444444,
              "#bd3786"
             ],
             [
              0.5555555555555556,
              "#d8576b"
             ],
             [
              0.6666666666666666,
              "#ed7953"
             ],
             [
              0.7777777777777778,
              "#fb9f3a"
             ],
             [
              0.8888888888888888,
              "#fdca26"
             ],
             [
              1,
              "#f0f921"
             ]
            ],
            "type": "heatmap"
           }
          ],
          "heatmapgl": [
           {
            "colorbar": {
             "outlinewidth": 0,
             "ticks": ""
            },
            "colorscale": [
             [
              0,
              "#0d0887"
             ],
             [
              0.1111111111111111,
              "#46039f"
             ],
             [
              0.2222222222222222,
              "#7201a8"
             ],
             [
              0.3333333333333333,
              "#9c179e"
             ],
             [
              0.4444444444444444,
              "#bd3786"
             ],
             [
              0.5555555555555556,
              "#d8576b"
             ],
             [
              0.6666666666666666,
              "#ed7953"
             ],
             [
              0.7777777777777778,
              "#fb9f3a"
             ],
             [
              0.8888888888888888,
              "#fdca26"
             ],
             [
              1,
              "#f0f921"
             ]
            ],
            "type": "heatmapgl"
           }
          ],
          "histogram": [
           {
            "marker": {
             "colorbar": {
              "outlinewidth": 0,
              "ticks": ""
             }
            },
            "type": "histogram"
           }
          ],
          "histogram2d": [
           {
            "colorbar": {
             "outlinewidth": 0,
             "ticks": ""
            },
            "colorscale": [
             [
              0,
              "#0d0887"
             ],
             [
              0.1111111111111111,
              "#46039f"
             ],
             [
              0.2222222222222222,
              "#7201a8"
             ],
             [
              0.3333333333333333,
              "#9c179e"
             ],
             [
              0.4444444444444444,
              "#bd3786"
             ],
             [
              0.5555555555555556,
              "#d8576b"
             ],
             [
              0.6666666666666666,
              "#ed7953"
             ],
             [
              0.7777777777777778,
              "#fb9f3a"
             ],
             [
              0.8888888888888888,
              "#fdca26"
             ],
             [
              1,
              "#f0f921"
             ]
            ],
            "type": "histogram2d"
           }
          ],
          "histogram2dcontour": [
           {
            "colorbar": {
             "outlinewidth": 0,
             "ticks": ""
            },
            "colorscale": [
             [
              0,
              "#0d0887"
             ],
             [
              0.1111111111111111,
              "#46039f"
             ],
             [
              0.2222222222222222,
              "#7201a8"
             ],
             [
              0.3333333333333333,
              "#9c179e"
             ],
             [
              0.4444444444444444,
              "#bd3786"
             ],
             [
              0.5555555555555556,
              "#d8576b"
             ],
             [
              0.6666666666666666,
              "#ed7953"
             ],
             [
              0.7777777777777778,
              "#fb9f3a"
             ],
             [
              0.8888888888888888,
              "#fdca26"
             ],
             [
              1,
              "#f0f921"
             ]
            ],
            "type": "histogram2dcontour"
           }
          ],
          "mesh3d": [
           {
            "colorbar": {
             "outlinewidth": 0,
             "ticks": ""
            },
            "type": "mesh3d"
           }
          ],
          "parcoords": [
           {
            "line": {
             "colorbar": {
              "outlinewidth": 0,
              "ticks": ""
             }
            },
            "type": "parcoords"
           }
          ],
          "pie": [
           {
            "automargin": true,
            "type": "pie"
           }
          ],
          "scatter": [
           {
            "marker": {
             "colorbar": {
              "outlinewidth": 0,
              "ticks": ""
             }
            },
            "type": "scatter"
           }
          ],
          "scatter3d": [
           {
            "line": {
             "colorbar": {
              "outlinewidth": 0,
              "ticks": ""
             }
            },
            "marker": {
             "colorbar": {
              "outlinewidth": 0,
              "ticks": ""
             }
            },
            "type": "scatter3d"
           }
          ],
          "scattercarpet": [
           {
            "marker": {
             "colorbar": {
              "outlinewidth": 0,
              "ticks": ""
             }
            },
            "type": "scattercarpet"
           }
          ],
          "scattergeo": [
           {
            "marker": {
             "colorbar": {
              "outlinewidth": 0,
              "ticks": ""
             }
            },
            "type": "scattergeo"
           }
          ],
          "scattergl": [
           {
            "marker": {
             "colorbar": {
              "outlinewidth": 0,
              "ticks": ""
             }
            },
            "type": "scattergl"
           }
          ],
          "scattermapbox": [
           {
            "marker": {
             "colorbar": {
              "outlinewidth": 0,
              "ticks": ""
             }
            },
            "type": "scattermapbox"
           }
          ],
          "scatterpolar": [
           {
            "marker": {
             "colorbar": {
              "outlinewidth": 0,
              "ticks": ""
             }
            },
            "type": "scatterpolar"
           }
          ],
          "scatterpolargl": [
           {
            "marker": {
             "colorbar": {
              "outlinewidth": 0,
              "ticks": ""
             }
            },
            "type": "scatterpolargl"
           }
          ],
          "scatterternary": [
           {
            "marker": {
             "colorbar": {
              "outlinewidth": 0,
              "ticks": ""
             }
            },
            "type": "scatterternary"
           }
          ],
          "surface": [
           {
            "colorbar": {
             "outlinewidth": 0,
             "ticks": ""
            },
            "colorscale": [
             [
              0,
              "#0d0887"
             ],
             [
              0.1111111111111111,
              "#46039f"
             ],
             [
              0.2222222222222222,
              "#7201a8"
             ],
             [
              0.3333333333333333,
              "#9c179e"
             ],
             [
              0.4444444444444444,
              "#bd3786"
             ],
             [
              0.5555555555555556,
              "#d8576b"
             ],
             [
              0.6666666666666666,
              "#ed7953"
             ],
             [
              0.7777777777777778,
              "#fb9f3a"
             ],
             [
              0.8888888888888888,
              "#fdca26"
             ],
             [
              1,
              "#f0f921"
             ]
            ],
            "type": "surface"
           }
          ],
          "table": [
           {
            "cells": {
             "fill": {
              "color": "#EBF0F8"
             },
             "line": {
              "color": "white"
             }
            },
            "header": {
             "fill": {
              "color": "#C8D4E3"
             },
             "line": {
              "color": "white"
             }
            },
            "type": "table"
           }
          ]
         },
         "layout": {
          "annotationdefaults": {
           "arrowcolor": "#2a3f5f",
           "arrowhead": 0,
           "arrowwidth": 1
          },
          "autotypenumbers": "strict",
          "coloraxis": {
           "colorbar": {
            "outlinewidth": 0,
            "ticks": ""
           }
          },
          "colorscale": {
           "diverging": [
            [
             0,
             "#8e0152"
            ],
            [
             0.1,
             "#c51b7d"
            ],
            [
             0.2,
             "#de77ae"
            ],
            [
             0.3,
             "#f1b6da"
            ],
            [
             0.4,
             "#fde0ef"
            ],
            [
             0.5,
             "#f7f7f7"
            ],
            [
             0.6,
             "#e6f5d0"
            ],
            [
             0.7,
             "#b8e186"
            ],
            [
             0.8,
             "#7fbc41"
            ],
            [
             0.9,
             "#4d9221"
            ],
            [
             1,
             "#276419"
            ]
           ],
           "sequential": [
            [
             0,
             "#0d0887"
            ],
            [
             0.1111111111111111,
             "#46039f"
            ],
            [
             0.2222222222222222,
             "#7201a8"
            ],
            [
             0.3333333333333333,
             "#9c179e"
            ],
            [
             0.4444444444444444,
             "#bd3786"
            ],
            [
             0.5555555555555556,
             "#d8576b"
            ],
            [
             0.6666666666666666,
             "#ed7953"
            ],
            [
             0.7777777777777778,
             "#fb9f3a"
            ],
            [
             0.8888888888888888,
             "#fdca26"
            ],
            [
             1,
             "#f0f921"
            ]
           ],
           "sequentialminus": [
            [
             0,
             "#0d0887"
            ],
            [
             0.1111111111111111,
             "#46039f"
            ],
            [
             0.2222222222222222,
             "#7201a8"
            ],
            [
             0.3333333333333333,
             "#9c179e"
            ],
            [
             0.4444444444444444,
             "#bd3786"
            ],
            [
             0.5555555555555556,
             "#d8576b"
            ],
            [
             0.6666666666666666,
             "#ed7953"
            ],
            [
             0.7777777777777778,
             "#fb9f3a"
            ],
            [
             0.8888888888888888,
             "#fdca26"
            ],
            [
             1,
             "#f0f921"
            ]
           ]
          },
          "colorway": [
           "#636efa",
           "#EF553B",
           "#00cc96",
           "#ab63fa",
           "#FFA15A",
           "#19d3f3",
           "#FF6692",
           "#B6E880",
           "#FF97FF",
           "#FECB52"
          ],
          "font": {
           "color": "#2a3f5f"
          },
          "geo": {
           "bgcolor": "white",
           "lakecolor": "white",
           "landcolor": "#E5ECF6",
           "showlakes": true,
           "showland": true,
           "subunitcolor": "white"
          },
          "hoverlabel": {
           "align": "left"
          },
          "hovermode": "closest",
          "mapbox": {
           "style": "light"
          },
          "paper_bgcolor": "white",
          "plot_bgcolor": "#E5ECF6",
          "polar": {
           "angularaxis": {
            "gridcolor": "white",
            "linecolor": "white",
            "ticks": ""
           },
           "bgcolor": "#E5ECF6",
           "radialaxis": {
            "gridcolor": "white",
            "linecolor": "white",
            "ticks": ""
           }
          },
          "scene": {
           "xaxis": {
            "backgroundcolor": "#E5ECF6",
            "gridcolor": "white",
            "gridwidth": 2,
            "linecolor": "white",
            "showbackground": true,
            "ticks": "",
            "zerolinecolor": "white"
           },
           "yaxis": {
            "backgroundcolor": "#E5ECF6",
            "gridcolor": "white",
            "gridwidth": 2,
            "linecolor": "white",
            "showbackground": true,
            "ticks": "",
            "zerolinecolor": "white"
           },
           "zaxis": {
            "backgroundcolor": "#E5ECF6",
            "gridcolor": "white",
            "gridwidth": 2,
            "linecolor": "white",
            "showbackground": true,
            "ticks": "",
            "zerolinecolor": "white"
           }
          },
          "shapedefaults": {
           "line": {
            "color": "#2a3f5f"
           }
          },
          "ternary": {
           "aaxis": {
            "gridcolor": "white",
            "linecolor": "white",
            "ticks": ""
           },
           "baxis": {
            "gridcolor": "white",
            "linecolor": "white",
            "ticks": ""
           },
           "bgcolor": "#E5ECF6",
           "caxis": {
            "gridcolor": "white",
            "linecolor": "white",
            "ticks": ""
           }
          },
          "title": {
           "x": 0.05
          },
          "xaxis": {
           "automargin": true,
           "gridcolor": "white",
           "linecolor": "white",
           "ticks": "",
           "title": {
            "standoff": 15
           },
           "zerolinecolor": "white",
           "zerolinewidth": 2
          },
          "yaxis": {
           "automargin": true,
           "gridcolor": "white",
           "linecolor": "white",
           "ticks": "",
           "title": {
            "standoff": 15
           },
           "zerolinecolor": "white",
           "zerolinewidth": 2
          }
         }
        },
        "title": {
         "text": "Mean computation",
         "x": 0.5,
         "xanchor": "center",
         "y": 0.9,
         "yanchor": "top"
        },
        "xaxis": {
         "title": {
          "text": "Time (in seconds)"
         }
        },
        "yaxis": {
         "title": {
          "text": "Memory used (in MiB)"
         }
        }
       }
      },
      "text/html": [
       "<div>                            <div id=\"4d2d5f33-c757-4dc5-a2ee-ca15b5f214fc\" class=\"plotly-graph-div\" style=\"height:525px; width:100%;\"></div>            <script type=\"text/javascript\">                require([\"plotly\"], function(Plotly) {                    window.PLOTLYENV=window.PLOTLYENV || {};                                    if (document.getElementById(\"4d2d5f33-c757-4dc5-a2ee-ca15b5f214fc\")) {                    Plotly.newPlot(                        \"4d2d5f33-c757-4dc5-a2ee-ca15b5f214fc\",                        [{\"mode\": \"lines\", \"name\": \"ia_mean\", \"type\": \"scatter\", \"x\": [0.0003695487976074219, 0.011218786239624023, 0.022401094436645508, 0.03365302085876465, 0.04471540451049805, 0.056205034255981445, 0.06738686561584473, 0.07847142219543457, 0.08945631980895996, 0.10082721710205078, 0.11211752891540527, 0.12304091453552246, 0.13408398628234863, 0.14549899101257324, 0.15659761428833008, 0.16756272315979004, 0.17860674858093262, 0.1890270709991455, 0.2000293731689453, 0.21110010147094727, 0.22191429138183594, 0.23320579528808594, 0.24469399452209473, 0.2558920383453369, 0.2669055461883545, 0.27788233757019043, 0.2883157730102539, 0.3012888431549072, 0.31182861328125, 0.3229854106903076, 0.33423280715942383, 0.34546732902526855, 0.3567044734954834, 0.36765074729919434, 0.3785421848297119, 0.38979482650756836, 0.4008605480194092, 0.4120640754699707, 0.42331910133361816, 0.43385958671569824, 0.44500064849853516, 0.456404447555542, 0.4676179885864258, 0.47876644134521484, 0.48980712890625, 0.500777006149292, 0.5118377208709717, 0.5230674743652344, 0.5340001583099365, 0.545062780380249, 0.556117057800293, 0.5668444633483887, 0.5776195526123047, 0.5891106128692627, 0.6002402305603027, 0.6110105514526367, 0.6214847564697266, 0.6320865154266357, 0.6429052352905273, 0.6543521881103516, 0.6656758785247803, 0.6767480373382568, 0.688246488571167, 0.6993272304534912, 0.7105631828308105, 0.72188401222229, 0.7330458164215088, 0.7440869808197021, 0.7553720474243164, 0.7668170928955078, 0.7779076099395752, 0.7886025905609131, 0.799048900604248, 0.8102309703826904, 0.8213307857513428, 0.8325080871582031, 0.843803882598877, 0.854874849319458, 0.8657331466674805, 0.8768701553344727, 0.8881206512451172, 0.8991191387176514, 0.910362720489502, 0.9217488765716553, 0.9329483509063721, 0.9440052509307861, 0.9550604820251465, 0.9663927555084229, 0.9776883125305176, 0.9886713027954102, 0.9997577667236328, 1.0109508037567139, 1.0221083164215088, 1.0333094596862793, 1.044449806213379, 1.055696964263916, 1.0663304328918457, 1.077479362487793, 1.088646411895752, 1.0990879535675049, 1.1096746921539307, 1.1208245754241943, 1.1323115825653076, 1.1432912349700928, 1.1544620990753174, 1.1649274826049805, 1.165330410003662], \"y\": [0.0, 85.3046875, 95.234375, 99.984375, 104.19140625, 108.0078125, 112.0078125, 116.0078125, 120.05078125, 124.6328125, 127.140625, 131.140625, 135.140625, 139.65625, 143.65625, 149.65625, 155.65625, 159.65625, 163.98828125, 169.98828125, 175.98828125, 181.98828125, 185.5390625, 190.046875, 196.046875, 200.046875, 206.046875, 208.68359375, 210.68359375, 214.68359375, 217.09765625, 221.09765625, 223.09765625, 227.09765625, 228.82421875, 232.82421875, 234.82421875, 237.5625, 239.5625, 243.5625, 247.5625, 249.8671875, 253.8671875, 257.8671875, 261.8671875, 265.61328125, 269.8671875, 273.8671875, 277.8671875, 281.546875, 287.546875, 291.546875, 297.546875, 301.09765625, 307.09765625, 313.09765625, 319.09765625, 325.09765625, 328.5625, 334.81640625, 338.81640625, 344.81640625, 347.1640625, 349.1640625, 353.1640625, 354.83203125, 358.83203125, 362.83203125, 364.83203125, 367.84765625, 369.84765625, 373.84765625, 376.09375, 377.3515625, 381.3515625, 385.3515625, 386.94140625, 390.94140625, 394.94140625, 398.94140625, 399.19140625, 403.69140625, 407.69140625, 408.70703125, 414.70703125, 418.70703125, 424.70703125, 427.4609375, 433.4609375, 439.4609375, 445.4609375, 447.0078125, 451.26171875, 457.26171875, 461.26171875, 462.2109375, 466.2109375, 470.2109375, 472.2109375, 472.55078125, 476.55078125, 480.55078125, 481.66015625, 483.9140625, 487.9140625, 485.421875, 485.421875]}, {\"mode\": \"lines\", \"name\": \"np_mean\", \"type\": \"scatter\", \"x\": [0.0003724098205566406, 0.010831356048583984, 0.02123427391052246, 0.031672000885009766, 0.042014360427856445, 0.05242609977722168, 0.06277775764465332, 0.0731809139251709, 0.08358311653137207, 0.0940251350402832, 0.1044607162475586, 0.11479902267456055, 0.1252150535583496, 0.13565564155578613, 0.14600062370300293, 0.15642237663269043, 0.16677522659301758, 0.1771841049194336, 0.18759989738464355, 0.19802403450012207, 0.20843219757080078, 0.21879124641418457, 0.2292025089263916, 0.2396378517150879, 0.2499864101409912, 0.2604033946990967, 0.27076077461242676, 0.2811713218688965, 0.2915761470794678, 0.3019852638244629, 0.3123958110809326, 0.3227560520172119, 0.33316826820373535, 0.34360218048095703, 0.35402584075927734, 0.3644399642944336, 0.3748018741607666, 0.38521456718444824, 0.3956429958343506, 0.4059910774230957, 0.4163937568664551, 0.42675113677978516, 0.4371664524078369, 0.4475703239440918, 0.45799970626831055, 0.46841979026794434, 0.4787728786468506, 0.489194393157959, 0.49961256980895996, 0.509974479675293, 0.5203871726989746, 0.530735969543457, 0.541151762008667, 0.5515627861022949, 0.5619792938232422, 0.5723845958709717, 0.5827436447143555, 0.5931456089019775, 0.6035406589508057, 0.6139583587646484, 0.6243762969970703, 0.6347293853759766, 0.6451401710510254, 0.6555476188659668, 0.6659657955169678, 0.6763784885406494, 0.6867353916168213, 0.6971430778503418, 0.7075483798980713, 0.7179524898529053, 0.7283632755279541, 0.7387216091156006, 0.7491276264190674, 0.7595477104187012, 0.7699398994445801, 0.7802021503448486, 0.7903625965118408, 0.800584077835083, 0.8108053207397461, 0.8210196495056152, 0.8312397003173828, 0.8414537906646729, 0.8516919612884521, 0.8618459701538086, 0.8720619678497314, 0.8822164535522461, 0.8924312591552734, 0.9026584625244141, 0.9128742218017578, 0.9230303764343262, 0.9332449436187744, 0.9434587955474854, 0.9536921977996826, 0.9638607501983643, 0.9740128517150879, 0.9842259883880615, 0.9943792819976807, 1.0045974254608154, 1.014754295349121, 1.0249648094177246, 1.0351812839508057, 1.0453941822052002, 1.0556142330169678, 1.0657832622528076, 1.0759975910186768, 1.086151361465454, 1.0963685512542725, 1.1065268516540527, 1.1167428493499756, 1.1268928050994873, 1.1371057033538818, 1.1473228931427002, 1.1575355529785156, 1.1677489280700684, 1.1779015064239502, 1.1881153583526611, 1.1982669830322266, 1.2084801197052002, 1.2186377048492432, 1.2288475036621094, 1.238997220993042, 1.2491483688354492, 1.259364366531372, 1.2695775032043457, 1.2797954082489014, 1.2899482250213623, 1.300161600112915, 1.310314416885376, 1.3205311298370361, 1.3306884765625, 1.340900182723999, 1.3510496616363525, 1.3612639904022217, 1.3714799880981445, 1.381711721420288, 1.3919265270233154, 1.4020800590515137, 1.4122989177703857, 1.4224514961242676, 1.4326837062835693, 1.4428510665893555, 1.4530677795410156, 1.4632837772369385, 1.4678831100463867], \"y\": [0.0, 35.42578125, 73.61328125, 113.61328125, 151.61328125, 189.61328125, 229.61328125, 267.61328125, 305.61328125, 345.61328125, 385.61328125, 423.61328125, 463.61328125, 501.61328125, 539.61328125, 579.61328125, 617.61328125, 655.61328125, 695.61328125, 733.6171875, 771.6171875, 811.6171875, 849.6171875, 889.6171875, 927.6171875, 967.6171875, 1005.6171875, 1045.6171875, 1083.6171875, 1123.6171875, 1161.6171875, 1201.6171875, 1239.6171875, 1277.6171875, 1317.6171875, 1355.6171875, 1393.6171875, 1433.6171875, 1471.6171875, 1511.6171875, 1549.6171875, 1589.6171875, 1627.6171875, 1667.6171875, 1705.6171875, 1745.6171875, 1783.6171875, 1823.6171875, 1861.6171875, 1901.6171875, 1939.6171875, 1977.6171875, 2017.6171875, 2055.6171875, 2095.6171875, 2133.6171875, 2173.6171875, 2211.6171875, 2249.6171875, 2289.6171875, 2327.6171875, 2367.6171875, 2405.6171875, 2445.6171875, 2485.6171875, 2523.6171875, 2561.6171875, 2601.6171875, 2641.6171875, 2679.6171875, 2719.6171875, 2757.6171875, 2797.6171875, 2835.6171875, 2851.6171875, 2851.6171875, 2851.6171875, 2851.6171875, 2851.6171875, 2851.6171875, 2851.6171875, 2851.6171875, 2851.6171875, 2851.6171875, 2851.6171875, 2851.6171875, 2851.6171875, 2851.6171875, 2851.6171875, 2851.6171875, 2851.6171875, 2851.6171875, 2851.6171875, 2851.6171875, 2851.6171875, 2851.6171875, 2851.6171875, 2851.6171875, 2851.6171875, 2851.6171875, 2851.6171875, 2851.6171875, 2851.6171875, 2851.6171875, 2851.6171875, 2851.6171875, 2851.6171875, 2851.6171875, 2851.6171875, 2851.6171875, 2851.6171875, 2851.6171875, 2851.6171875, 2851.6171875, 2851.6171875, 2851.6171875, 2851.6171875, 2851.6171875, 2851.6171875, 2851.6171875, 2851.6171875, 2851.6171875, 2851.6171875, 2851.6171875, 2851.6171875, 2851.6171875, 2851.6171875, 2851.6171875, 2851.6171875, 2851.6171875, 2851.6171875, 2851.6171875, 2851.6171875, 2851.6171875, 2851.6171875, 2851.6171875, 2851.6171875, 2851.6171875, 2851.6171875, 2851.6171875, 2851.6171875, 2851.6171875, 2851.6171875, 2852.11328125]}],                        {\"template\": {\"data\": {\"bar\": [{\"error_x\": {\"color\": \"#2a3f5f\"}, \"error_y\": {\"color\": \"#2a3f5f\"}, \"marker\": {\"line\": {\"color\": \"#E5ECF6\", \"width\": 0.5}}, \"type\": \"bar\"}], \"barpolar\": [{\"marker\": {\"line\": {\"color\": \"#E5ECF6\", \"width\": 0.5}}, \"type\": \"barpolar\"}], \"carpet\": [{\"aaxis\": {\"endlinecolor\": \"#2a3f5f\", \"gridcolor\": \"white\", \"linecolor\": \"white\", \"minorgridcolor\": \"white\", \"startlinecolor\": \"#2a3f5f\"}, \"baxis\": {\"endlinecolor\": \"#2a3f5f\", \"gridcolor\": \"white\", \"linecolor\": \"white\", \"minorgridcolor\": \"white\", \"startlinecolor\": \"#2a3f5f\"}, \"type\": \"carpet\"}], \"choropleth\": [{\"colorbar\": {\"outlinewidth\": 0, \"ticks\": \"\"}, \"type\": \"choropleth\"}], \"contour\": [{\"colorbar\": {\"outlinewidth\": 0, \"ticks\": \"\"}, \"colorscale\": [[0.0, \"#0d0887\"], [0.1111111111111111, \"#46039f\"], [0.2222222222222222, \"#7201a8\"], [0.3333333333333333, \"#9c179e\"], [0.4444444444444444, \"#bd3786\"], [0.5555555555555556, \"#d8576b\"], [0.6666666666666666, \"#ed7953\"], [0.7777777777777778, \"#fb9f3a\"], [0.8888888888888888, \"#fdca26\"], [1.0, \"#f0f921\"]], \"type\": \"contour\"}], \"contourcarpet\": [{\"colorbar\": {\"outlinewidth\": 0, \"ticks\": \"\"}, \"type\": \"contourcarpet\"}], \"heatmap\": [{\"colorbar\": {\"outlinewidth\": 0, \"ticks\": \"\"}, \"colorscale\": [[0.0, \"#0d0887\"], [0.1111111111111111, \"#46039f\"], [0.2222222222222222, \"#7201a8\"], [0.3333333333333333, \"#9c179e\"], [0.4444444444444444, \"#bd3786\"], [0.5555555555555556, \"#d8576b\"], [0.6666666666666666, \"#ed7953\"], [0.7777777777777778, \"#fb9f3a\"], [0.8888888888888888, \"#fdca26\"], [1.0, \"#f0f921\"]], \"type\": \"heatmap\"}], \"heatmapgl\": [{\"colorbar\": {\"outlinewidth\": 0, \"ticks\": \"\"}, \"colorscale\": [[0.0, \"#0d0887\"], [0.1111111111111111, \"#46039f\"], [0.2222222222222222, \"#7201a8\"], [0.3333333333333333, \"#9c179e\"], [0.4444444444444444, \"#bd3786\"], [0.5555555555555556, \"#d8576b\"], [0.6666666666666666, \"#ed7953\"], [0.7777777777777778, \"#fb9f3a\"], [0.8888888888888888, \"#fdca26\"], [1.0, \"#f0f921\"]], \"type\": \"heatmapgl\"}], \"histogram\": [{\"marker\": {\"colorbar\": {\"outlinewidth\": 0, \"ticks\": \"\"}}, \"type\": \"histogram\"}], \"histogram2d\": [{\"colorbar\": {\"outlinewidth\": 0, \"ticks\": \"\"}, \"colorscale\": [[0.0, \"#0d0887\"], [0.1111111111111111, \"#46039f\"], [0.2222222222222222, \"#7201a8\"], [0.3333333333333333, \"#9c179e\"], [0.4444444444444444, \"#bd3786\"], [0.5555555555555556, \"#d8576b\"], [0.6666666666666666, \"#ed7953\"], [0.7777777777777778, \"#fb9f3a\"], [0.8888888888888888, \"#fdca26\"], [1.0, \"#f0f921\"]], \"type\": \"histogram2d\"}], \"histogram2dcontour\": [{\"colorbar\": {\"outlinewidth\": 0, \"ticks\": \"\"}, \"colorscale\": [[0.0, \"#0d0887\"], [0.1111111111111111, \"#46039f\"], [0.2222222222222222, \"#7201a8\"], [0.3333333333333333, \"#9c179e\"], [0.4444444444444444, \"#bd3786\"], [0.5555555555555556, \"#d8576b\"], [0.6666666666666666, \"#ed7953\"], [0.7777777777777778, \"#fb9f3a\"], [0.8888888888888888, \"#fdca26\"], [1.0, \"#f0f921\"]], \"type\": \"histogram2dcontour\"}], \"mesh3d\": [{\"colorbar\": {\"outlinewidth\": 0, \"ticks\": \"\"}, \"type\": \"mesh3d\"}], \"parcoords\": [{\"line\": {\"colorbar\": {\"outlinewidth\": 0, \"ticks\": \"\"}}, \"type\": \"parcoords\"}], \"pie\": [{\"automargin\": true, \"type\": \"pie\"}], \"scatter\": [{\"marker\": {\"colorbar\": {\"outlinewidth\": 0, \"ticks\": \"\"}}, \"type\": \"scatter\"}], \"scatter3d\": [{\"line\": {\"colorbar\": {\"outlinewidth\": 0, \"ticks\": \"\"}}, \"marker\": {\"colorbar\": {\"outlinewidth\": 0, \"ticks\": \"\"}}, \"type\": \"scatter3d\"}], \"scattercarpet\": [{\"marker\": {\"colorbar\": {\"outlinewidth\": 0, \"ticks\": \"\"}}, \"type\": \"scattercarpet\"}], \"scattergeo\": [{\"marker\": {\"colorbar\": {\"outlinewidth\": 0, \"ticks\": \"\"}}, \"type\": \"scattergeo\"}], \"scattergl\": [{\"marker\": {\"colorbar\": {\"outlinewidth\": 0, \"ticks\": \"\"}}, \"type\": \"scattergl\"}], \"scattermapbox\": [{\"marker\": {\"colorbar\": {\"outlinewidth\": 0, \"ticks\": \"\"}}, \"type\": \"scattermapbox\"}], \"scatterpolar\": [{\"marker\": {\"colorbar\": {\"outlinewidth\": 0, \"ticks\": \"\"}}, \"type\": \"scatterpolar\"}], \"scatterpolargl\": [{\"marker\": {\"colorbar\": {\"outlinewidth\": 0, \"ticks\": \"\"}}, \"type\": \"scatterpolargl\"}], \"scatterternary\": [{\"marker\": {\"colorbar\": {\"outlinewidth\": 0, \"ticks\": \"\"}}, \"type\": \"scatterternary\"}], \"surface\": [{\"colorbar\": {\"outlinewidth\": 0, \"ticks\": \"\"}, \"colorscale\": [[0.0, \"#0d0887\"], [0.1111111111111111, \"#46039f\"], [0.2222222222222222, \"#7201a8\"], [0.3333333333333333, \"#9c179e\"], [0.4444444444444444, \"#bd3786\"], [0.5555555555555556, \"#d8576b\"], [0.6666666666666666, \"#ed7953\"], [0.7777777777777778, \"#fb9f3a\"], [0.8888888888888888, \"#fdca26\"], [1.0, \"#f0f921\"]], \"type\": \"surface\"}], \"table\": [{\"cells\": {\"fill\": {\"color\": \"#EBF0F8\"}, \"line\": {\"color\": \"white\"}}, \"header\": {\"fill\": {\"color\": \"#C8D4E3\"}, \"line\": {\"color\": \"white\"}}, \"type\": \"table\"}]}, \"layout\": {\"annotationdefaults\": {\"arrowcolor\": \"#2a3f5f\", \"arrowhead\": 0, \"arrowwidth\": 1}, \"autotypenumbers\": \"strict\", \"coloraxis\": {\"colorbar\": {\"outlinewidth\": 0, \"ticks\": \"\"}}, \"colorscale\": {\"diverging\": [[0, \"#8e0152\"], [0.1, \"#c51b7d\"], [0.2, \"#de77ae\"], [0.3, \"#f1b6da\"], [0.4, \"#fde0ef\"], [0.5, \"#f7f7f7\"], [0.6, \"#e6f5d0\"], [0.7, \"#b8e186\"], [0.8, \"#7fbc41\"], [0.9, \"#4d9221\"], [1, \"#276419\"]], \"sequential\": [[0.0, \"#0d0887\"], [0.1111111111111111, \"#46039f\"], [0.2222222222222222, \"#7201a8\"], [0.3333333333333333, \"#9c179e\"], [0.4444444444444444, \"#bd3786\"], [0.5555555555555556, \"#d8576b\"], [0.6666666666666666, \"#ed7953\"], [0.7777777777777778, \"#fb9f3a\"], [0.8888888888888888, \"#fdca26\"], [1.0, \"#f0f921\"]], \"sequentialminus\": [[0.0, \"#0d0887\"], [0.1111111111111111, \"#46039f\"], [0.2222222222222222, \"#7201a8\"], [0.3333333333333333, \"#9c179e\"], [0.4444444444444444, \"#bd3786\"], [0.5555555555555556, \"#d8576b\"], [0.6666666666666666, \"#ed7953\"], [0.7777777777777778, \"#fb9f3a\"], [0.8888888888888888, \"#fdca26\"], [1.0, \"#f0f921\"]]}, \"colorway\": [\"#636efa\", \"#EF553B\", \"#00cc96\", \"#ab63fa\", \"#FFA15A\", \"#19d3f3\", \"#FF6692\", \"#B6E880\", \"#FF97FF\", \"#FECB52\"], \"font\": {\"color\": \"#2a3f5f\"}, \"geo\": {\"bgcolor\": \"white\", \"lakecolor\": \"white\", \"landcolor\": \"#E5ECF6\", \"showlakes\": true, \"showland\": true, \"subunitcolor\": \"white\"}, \"hoverlabel\": {\"align\": \"left\"}, \"hovermode\": \"closest\", \"mapbox\": {\"style\": \"light\"}, \"paper_bgcolor\": \"white\", \"plot_bgcolor\": \"#E5ECF6\", \"polar\": {\"angularaxis\": {\"gridcolor\": \"white\", \"linecolor\": \"white\", \"ticks\": \"\"}, \"bgcolor\": \"#E5ECF6\", \"radialaxis\": {\"gridcolor\": \"white\", \"linecolor\": \"white\", \"ticks\": \"\"}}, \"scene\": {\"xaxis\": {\"backgroundcolor\": \"#E5ECF6\", \"gridcolor\": \"white\", \"gridwidth\": 2, \"linecolor\": \"white\", \"showbackground\": true, \"ticks\": \"\", \"zerolinecolor\": \"white\"}, \"yaxis\": {\"backgroundcolor\": \"#E5ECF6\", \"gridcolor\": \"white\", \"gridwidth\": 2, \"linecolor\": \"white\", \"showbackground\": true, \"ticks\": \"\", \"zerolinecolor\": \"white\"}, \"zaxis\": {\"backgroundcolor\": \"#E5ECF6\", \"gridcolor\": \"white\", \"gridwidth\": 2, \"linecolor\": \"white\", \"showbackground\": true, \"ticks\": \"\", \"zerolinecolor\": \"white\"}}, \"shapedefaults\": {\"line\": {\"color\": \"#2a3f5f\"}}, \"ternary\": {\"aaxis\": {\"gridcolor\": \"white\", \"linecolor\": \"white\", \"ticks\": \"\"}, \"baxis\": {\"gridcolor\": \"white\", \"linecolor\": \"white\", \"ticks\": \"\"}, \"bgcolor\": \"#E5ECF6\", \"caxis\": {\"gridcolor\": \"white\", \"linecolor\": \"white\", \"ticks\": \"\"}}, \"title\": {\"x\": 0.05}, \"xaxis\": {\"automargin\": true, \"gridcolor\": \"white\", \"linecolor\": \"white\", \"ticks\": \"\", \"title\": {\"standoff\": 15}, \"zerolinecolor\": \"white\", \"zerolinewidth\": 2}, \"yaxis\": {\"automargin\": true, \"gridcolor\": \"white\", \"linecolor\": \"white\", \"ticks\": \"\", \"title\": {\"standoff\": 15}, \"zerolinecolor\": \"white\", \"zerolinewidth\": 2}}}, \"title\": {\"text\": \"Mean computation\", \"x\": 0.5, \"xanchor\": \"center\", \"y\": 0.9, \"yanchor\": \"top\"}, \"xaxis\": {\"title\": {\"text\": \"Time (in seconds)\"}}, \"yaxis\": {\"title\": {\"text\": \"Memory used (in MiB)\"}}},                        {\"responsive\": true}                    ).then(function(){\n",
       "                            \n",
       "var gd = document.getElementById('4d2d5f33-c757-4dc5-a2ee-ca15b5f214fc');\n",
       "var x = new MutationObserver(function (mutations, observer) {{\n",
       "        var display = window.getComputedStyle(gd).display;\n",
       "        if (!display || display === 'none') {{\n",
       "            console.log([gd, 'removed!']);\n",
       "            Plotly.purge(gd);\n",
       "            observer.disconnect();\n",
       "        }}\n",
       "}});\n",
       "\n",
       "// Listen for the removal of the full notebook cells\n",
       "var notebookContainer = gd.closest('#notebook-container');\n",
       "if (notebookContainer) {{\n",
       "    x.observe(notebookContainer, {childList: true});\n",
       "}}\n",
       "\n",
       "// Listen for the clearing of the current output cell\n",
       "var outputEl = gd.closest('.output');\n",
       "if (outputEl) {{\n",
       "    x.observe(outputEl, {childList: true});\n",
       "}}\n",
       "\n",
       "                        })                };                });            </script>        </div>"
      ]
     },
     "metadata": {},
     "output_type": "display_data"
    }
   ],
   "source": [
    "%mprof_plot ia_mean np_mean -t \"Mean computation\""
   ]
  },
  {
   "cell_type": "markdown",
   "metadata": {},
   "source": [
    "As we can see iron_array not only makes computations fast, but specially requiring much less memory.\n",
    "\n",
    "And let's see the resouce consumption for the transcendental expression:"
   ]
  },
  {
   "cell_type": "code",
   "execution_count": 13,
   "metadata": {},
   "outputs": [
    {
     "data": {
      "application/vnd.plotly.v1+json": {
       "config": {
        "plotlyServerURL": "https://plot.ly"
       },
       "data": [
        {
         "mode": "lines",
         "name": "ia_trans",
         "type": "scatter",
         "x": [
          0.0003597736358642578,
          0.010820627212524414,
          0.02101421356201172,
          0.031218528747558594,
          0.041573286056518555,
          0.05222439765930176,
          0.06315279006958008,
          0.07383513450622559,
          0.084442138671875,
          0.09567999839782715,
          0.10658836364746094,
          0.11723184585571289,
          0.12796664237976074,
          0.13867855072021484,
          0.1495652198791504,
          0.16032743453979492,
          0.17101740837097168,
          0.1816272735595703,
          0.19207119941711426,
          0.20265460014343262,
          0.21342825889587402,
          0.22409677505493164,
          0.23476314544677734,
          0.24537301063537598,
          0.25582194328308105,
          0.26642656326293945,
          0.2771432399749756,
          0.28823041915893555,
          0.2988014221191406,
          0.30942773818969727,
          0.3206803798675537,
          0.3314247131347656,
          0.34237098693847656,
          0.35303258895874023,
          0.36399412155151367,
          0.37497735023498535,
          0.3856525421142578,
          0.39632177352905273,
          0.4069974422454834,
          0.4183046817779541,
          0.42893433570861816,
          0.43958258628845215,
          0.45012784004211426,
          0.46045422554016113,
          0.47274160385131836,
          0.4834411144256592,
          0.49430108070373535,
          0.5055005550384521,
          0.5162363052368164,
          0.5268704891204834,
          0.5376596450805664,
          0.548215389251709,
          0.5588533878326416,
          0.569695234298706,
          0.5805768966674805,
          0.5911738872528076,
          0.6017153263092041,
          0.6123335361480713,
          0.6229934692382812,
          0.6336071491241455,
          0.6443443298339844,
          0.6547243595123291,
          0.6654438972473145,
          0.6759624481201172,
          0.6865012645721436,
          0.6972372531890869,
          0.7079341411590576,
          0.7190780639648438,
          0.7299671173095703,
          0.7405331134796143,
          0.7510852813720703,
          0.7616875171661377,
          0.7721579074859619,
          0.7829339504241943,
          0.7934608459472656,
          0.8040115833282471,
          0.8146665096282959,
          0.8255734443664551,
          0.8363900184631348,
          0.8472180366516113,
          0.8579120635986328,
          0.868567943572998,
          0.8797457218170166,
          0.8903627395629883,
          0.9012603759765625,
          0.9121289253234863,
          0.9232790470123291,
          0.9338090419769287,
          0.9443800449371338,
          0.9548380374908447,
          0.9661357402801514,
          0.9768176078796387,
          0.9874780178070068,
          0.9981284141540527,
          1.009181261062622,
          1.0197460651397705,
          1.0301995277404785,
          1.040693998336792,
          1.051133155822754,
          1.0623629093170166,
          1.0730879306793213,
          1.0838017463684082,
          1.0948801040649414,
          1.1061453819274902,
          1.1168475151062012,
          1.127568006515503,
          1.1382544040679932,
          1.14898681640625,
          1.1603412628173828,
          1.1711504459381104,
          1.1818146705627441,
          1.1922857761383057,
          1.2031569480895996,
          1.2141554355621338,
          1.2250275611877441,
          1.235755205154419,
          1.2463104724884033,
          1.257068157196045,
          1.267756700515747,
          1.2785420417785645,
          1.2891006469726562,
          1.2998392581939697,
          1.3105854988098145,
          1.3213937282562256,
          1.3320989608764648,
          1.3430135250091553,
          1.353884220123291,
          1.3645286560058594,
          1.375032901763916,
          1.3853578567504883,
          1.3873844146728516
         ],
         "y": [
          0,
          0.00390625,
          0.00390625,
          0.01171875,
          51.34765625,
          106.17578125,
          110.68359375,
          112.9375,
          116.9375,
          122.75,
          126.75,
          132.75,
          136.75,
          142.75,
          148.05078125,
          152.3046875,
          156.3046875,
          162.3046875,
          166.3046875,
          171.40234375,
          179.40234375,
          185.40234375,
          193.40234375,
          199.40234375,
          206.29296875,
          212.29296875,
          220.29296875,
          228.29296875,
          234.29296875,
          242.29296875,
          248.33203125,
          254.58203125,
          260.58203125,
          266.58203125,
          272.58203125,
          274.68359375,
          278.68359375,
          282.68359375,
          286.68359375,
          288.65625,
          292.65625,
          296.65625,
          300.65625,
          301,
          307.25390625,
          309.25390625,
          313.25390625,
          314.84375,
          318.84375,
          322.84375,
          326.84375,
          328.84375,
          331.9296875,
          335.9296875,
          341.9296875,
          345.9296875,
          349.9296875,
          354.33203125,
          358.8359375,
          362.8359375,
          368.8359375,
          372.8359375,
          376.84375,
          382.84375,
          390.84375,
          396.84375,
          402.84375,
          408.03515625,
          416.03515625,
          424.03515625,
          432.03515625,
          440.03515625,
          448.03515625,
          452.5234375,
          458.5234375,
          464.5234375,
          470.5234375,
          476.5234375,
          478.890625,
          482.890625,
          484.890625,
          488.890625,
          490.75390625,
          494.75390625,
          498.75390625,
          502.75390625,
          506.40234375,
          508.6484375,
          512.6484375,
          514.6484375,
          516.79296875,
          520.79296875,
          524.79296875,
          526.79296875,
          528.296875,
          532.296875,
          538.296875,
          542.296875,
          546.296875,
          548.265625,
          552.51953125,
          556.51953125,
          562.51953125,
          564.265625,
          570.51953125,
          576.51953125,
          582.51953125,
          588.51953125,
          592.1640625,
          598.1640625,
          606.1640625,
          614.1640625,
          622.1640625,
          623.99609375,
          630.49609375,
          634.49609375,
          640.49609375,
          646.49609375,
          646.98046875,
          650.98046875,
          654.98046875,
          656.98046875,
          658.47265625,
          662.47265625,
          668.47265625,
          670.47265625,
          670.89453125,
          674.89453125,
          676.89453125,
          674.53125,
          674.53125
         ]
        },
        {
         "mode": "lines",
         "name": "np_trans",
         "type": "scatter",
         "x": [
          0.0003795623779296875,
          0.010702371597290039,
          0.020943403244018555,
          0.03131365776062012,
          0.04155135154724121,
          0.05185413360595703,
          0.062087297439575195,
          0.07240176200866699,
          0.0827333927154541,
          0.09297871589660645,
          0.10329055786132812,
          0.11353683471679688,
          0.12385940551757812,
          0.1341099739074707,
          0.14441609382629395,
          0.1547541618347168,
          0.1650066375732422,
          0.17531824111938477,
          0.18557357788085938,
          0.1958913803100586,
          0.2061307430267334,
          0.21638011932373047,
          0.2266995906829834,
          0.2369687557220459,
          0.247283935546875,
          0.25754284858703613,
          0.2678711414337158,
          0.27813053131103516,
          0.2884490489959717,
          0.2987797260284424,
          0.3090360164642334,
          0.3193471431732178,
          0.3296029567718506,
          0.3399205207824707,
          0.35016894340515137,
          0.3604767322540283,
          0.37081217765808105,
          0.3811161518096924,
          0.39142847061157227,
          0.4016761779785156,
          0.41199254989624023,
          0.42230796813964844,
          0.4326143264770508,
          0.44292712211608887,
          0.4531748294830322,
          0.46349024772644043,
          0.47374701499938965,
          0.4840657711029053,
          0.4943821430206299,
          0.504723072052002,
          0.5150439739227295,
          0.525299072265625,
          0.5356130599975586,
          0.5459120273590088,
          0.5562276840209961,
          0.566535234451294,
          0.5768678188323975,
          0.5871787071228027,
          0.5974242687225342,
          0.6077775955200195,
          0.6180369853973389,
          0.628354549407959,
          0.6386687755584717,
          0.6489968299865723,
          0.6593124866485596,
          0.6695477962493896,
          0.6798818111419678,
          0.6901276111602783,
          0.7004501819610596,
          0.710787296295166,
          0.7210409641265869,
          0.7313616275787354,
          0.7416172027587891,
          0.7519359588623047,
          0.762176513671875,
          0.7724854946136475,
          0.7828159332275391,
          0.7930660247802734,
          0.803380012512207,
          0.8136250972747803,
          0.8239400386810303,
          0.8341948986053467,
          0.8445243835449219,
          0.8548626899719238,
          0.8651115894317627,
          0.8754348754882812,
          0.8856961727142334,
          0.8960256576538086,
          0.9063529968261719,
          0.9166646003723145,
          0.9269859790802002,
          0.9372453689575195,
          0.9475622177124023,
          0.9578111171722412,
          0.9681596755981445,
          0.9784753322601318,
          0.9888129234313965,
          0.9991202354431152,
          1.009371280670166,
          1.019690752029419,
          1.0300164222717285,
          1.0403311252593994,
          1.0506458282470703,
          1.0609614849090576,
          1.0712740421295166,
          1.081533670425415,
          1.0918803215026855,
          1.1021347045898438,
          1.1124448776245117,
          1.1227893829345703,
          1.133040428161621,
          1.14335036277771,
          1.153599500656128,
          1.1639182567596436,
          1.1741726398468018,
          1.184483528137207,
          1.1948227882385254,
          1.2050707340240479,
          1.2153935432434082,
          1.225642442703247,
          1.2359585762023926,
          1.246216058731079,
          1.2565300464630127,
          1.266857385635376,
          1.2771100997924805,
          1.2874276638031006,
          1.2977066040039062,
          1.308037519454956,
          1.3183600902557373,
          1.3286857604980469,
          1.3390140533447266,
          1.3492660522460938,
          1.3595786094665527,
          1.369837999343872,
          1.3801546096801758,
          1.3904662132263184,
          1.400804042816162,
          1.4111390113830566,
          1.421391487121582,
          1.4317376613616943,
          1.4419937133789062,
          1.4523146152496338,
          1.462625503540039,
          1.4729530811309814,
          1.4832706451416016,
          1.4935321807861328,
          1.5038564205169678,
          1.5141160488128662,
          1.5244359970092773,
          1.5346949100494385,
          1.5450317859649658,
          1.5553545951843262,
          1.5656182765960693,
          1.575927495956421,
          1.5861825942993164,
          1.5964908599853516,
          1.6068243980407715,
          1.6170783042907715,
          1.627394676208496,
          1.6376361846923828,
          1.6479535102844238,
          1.6582021713256836,
          1.668513536453247,
          1.67885422706604,
          1.6891131401062012,
          1.6994318962097168,
          1.709691047668457,
          1.7200088500976562,
          1.730323314666748,
          1.740630865097046,
          1.750941514968872,
          1.7612016201019287,
          1.7715106010437012,
          1.7817838191986084,
          1.792102336883545,
          1.8024110794067383,
          1.8127515316009521,
          1.8230690956115723,
          1.8333261013031006,
          1.8436245918273926,
          1.8538739681243896,
          1.864185094833374,
          1.8744988441467285,
          1.884833574295044,
          1.8951404094696045,
          1.9053897857666016,
          1.9157261848449707,
          1.925987958908081,
          1.9362950325012207,
          1.9466092586517334,
          1.9569149017333984,
          1.9672248363494873,
          1.9774837493896484,
          1.9878201484680176,
          1.9981286525726318,
          2.0084376335144043,
          2.018773317337036,
          2.0290942192077637,
          2.0394155979156494,
          2.0496718883514404,
          2.059994697570801,
          2.0703094005584717,
          2.0806169509887695,
          2.0909340381622314,
          2.101189613342285,
          2.111501932144165,
          2.121762752532959,
          2.1320719718933105,
          2.1424050331115723,
          2.152738332748413,
          2.1630501747131348,
          2.1732993125915527,
          2.1836154460906982,
          2.193868637084961,
          2.2041893005371094,
          2.2144935131073,
          2.2248263359069824,
          2.2351491451263428,
          2.2454094886779785,
          2.2557480335235596,
          2.266011953353882,
          2.2763283252716064,
          2.2866363525390625,
          2.2969470024108887,
          2.3072640895843506,
          2.317521333694458,
          2.3278636932373047,
          2.3381612300872803,
          2.3484692573547363,
          2.3588151931762695,
          2.369126081466675,
          2.3794374465942383,
          2.3897104263305664,
          2.400041103363037,
          2.4103636741638184,
          2.4206743240356445,
          2.430997133255005,
          2.441260576248169,
          2.451561450958252,
          2.4618208408355713,
          2.4721341133117676,
          2.482442617416382,
          2.4927866458892822,
          2.503103733062744,
          2.513359785079956,
          2.5236754417419434,
          2.534010648727417,
          2.544325351715088,
          2.554640293121338,
          2.564932107925415,
          2.575244903564453,
          2.5855047702789307,
          2.595837354660034,
          2.6061112880706787,
          2.6164186000823975,
          2.626753330230713,
          2.637007474899292,
          2.64731764793396,
          2.657575845718384,
          2.6678872108459473,
          2.6781327724456787,
          2.6884515285491943,
          2.6987838745117188,
          2.7090394496917725,
          2.719353675842285,
          2.729611396789551,
          2.739922523498535,
          2.7501742839813232,
          2.7604830265045166,
          2.770817756652832,
          2.7810933589935303,
          2.7914183139801025,
          2.8016867637634277,
          2.812000036239624,
          2.822322368621826,
          2.832634449005127,
          2.8429458141326904,
          2.853200674057007,
          2.8635244369506836,
          2.8737900257110596,
          2.8840999603271484,
          2.894421339035034,
          2.904768466949463,
          2.9150843620300293,
          2.9253385066986084,
          2.9356577396392822,
          2.9459750652313232,
          2.9562888145446777,
          2.9665961265563965,
          2.9769115447998047,
          2.987229108810425,
          2.9974896907806396,
          3.0078279972076416,
          3.0180866718292236,
          3.0284032821655273,
          3.0387609004974365,
          3.0490214824676514,
          3.0593440532684326,
          3.0695865154266357,
          3.0798940658569336,
          3.0901432037353516,
          3.1004579067230225,
          3.110788583755493,
          3.121034860610962,
          3.1313514709472656,
          3.1415975093841553,
          3.1519155502319336,
          3.162166118621826,
          3.1724765300750732,
          3.1828200817108154,
          3.1930758953094482,
          3.2033884525299072,
          3.2136483192443848,
          3.223968505859375,
          3.2342944145202637,
          3.2446281909942627,
          3.255018472671509,
          3.265366554260254,
          3.275818347930908,
          3.286160945892334,
          3.2965517044067383,
          3.306952953338623,
          3.3172926902770996,
          3.3277018070220947,
          3.3380722999572754,
          3.348465919494629,
          3.358886480331421,
          3.369224786758423,
          3.37962007522583,
          3.38997483253479,
          3.400383710861206,
          3.410806894302368,
          3.421144485473633,
          3.431541681289673,
          3.4418959617614746,
          3.4522969722747803,
          3.462705135345459,
          3.4730453491210938,
          3.4834482669830322,
          3.4937984943389893,
          3.504194736480713,
          3.5145881175994873,
          3.5250113010406494,
          3.535414695739746,
          3.545755624771118,
          3.5561439990997314,
          3.5665512084960938,
          3.5769712924957275,
          3.5873711109161377,
          3.5977370738983154,
          3.608128070831299,
          3.6185216903686523,
          3.6288809776306152,
          3.6392812728881836,
          3.649634838104248,
          3.660043716430664,
          3.6704351902008057,
          3.680870532989502,
          3.6912662982940674,
          3.7016055583953857,
          3.7119927406311035,
          3.722383499145508,
          3.7328033447265625,
          3.74318790435791,
          3.7535204887390137,
          3.7639381885528564,
          3.77426815032959,
          3.7846717834472656,
          3.7950375080108643,
          3.80525279045105,
          3.8155786991119385,
          3.8259270191192627,
          3.836388111114502,
          3.8467702865600586,
          3.857126235961914,
          3.867532730102539,
          3.8778696060180664,
          3.8882498741149902,
          3.898660898208618,
          3.9090118408203125,
          3.9193148612976074,
          3.9295289516448975,
          3.9399657249450684,
          3.950289487838745,
          3.960700273513794,
          3.971100091934204,
          3.9814751148223877,
          3.9917824268341064,
          4.002120733261108,
          4.012444019317627,
          4.022768974304199,
          4.033075571060181,
          4.0434112548828125,
          4.053757429122925,
          4.06415057182312,
          4.07455849647522,
          4.084961414337158,
          4.095251083374023,
          4.105559587478638,
          4.115888595581055,
          4.12611985206604,
          4.136443614959717,
          4.146888017654419,
          4.1572206020355225,
          4.167561054229736,
          4.177936553955078,
          4.188333749771118,
          4.198633193969727,
          4.209009885787964,
          4.2193169593811035,
          4.229537010192871,
          4.239910125732422,
          4.2502121925354,
          4.260551691055298,
          4.27090859413147,
          4.281204462051392,
          4.291506767272949,
          4.301811933517456,
          4.31218147277832,
          4.322476625442505,
          4.332773923873901,
          4.343088388442993,
          4.3534040451049805,
          4.36374044418335,
          4.374147415161133,
          4.384453296661377,
          4.394793748855591,
          4.4051008224487305,
          4.415482997894287,
          4.425833225250244,
          4.436166524887085,
          4.446491003036499,
          4.456830263137817,
          4.467030763626099,
          4.477319717407227,
          4.487605094909668,
          4.497938871383667,
          4.508257865905762,
          4.518580198287964,
          4.528919696807861,
          4.539238929748535,
          4.54954195022583,
          4.559860467910767,
          4.570058822631836,
          4.580358982086182,
          4.590670347213745,
          4.6009321212768555,
          4.611242771148682,
          4.621572732925415,
          4.63191819190979,
          4.642239570617676,
          4.6525232791900635,
          4.662861585617065,
          4.673212766647339,
          4.683567762374878,
          4.693918943405151,
          4.704128742218018,
          4.714498519897461,
          4.724898099899292,
          4.735267877578735,
          4.745590448379517,
          4.755929470062256,
          4.766240835189819,
          4.7765772342681885,
          4.786933898925781,
          4.797225475311279,
          4.807621479034424,
          4.817952394485474,
          4.8282928466796875,
          4.838606357574463,
          4.848878860473633,
          4.859110355377197,
          4.869474172592163,
          4.879802465438843,
          4.890125513076782,
          4.900514841079712,
          4.9109086990356445,
          4.921209335327148,
          4.931484222412109,
          4.941728353500366,
          4.952041864395142,
          4.962398290634155,
          4.972694158554077,
          4.982959270477295,
          4.993143320083618,
          5.003500938415527,
          5.013817310333252,
          5.024181127548218,
          5.034563064575195,
          5.044948101043701,
          5.0552778244018555,
          5.065598726272583,
          5.075850963592529,
          5.08606743812561,
          5.0963287353515625,
          5.106648921966553,
          5.1168763637542725,
          5.127086877822876,
          5.137292385101318,
          5.147665977478027,
          5.158053398132324,
          5.168470859527588,
          5.1788718700408936,
          5.1892030239105225,
          5.199592113494873,
          5.209926605224609,
          5.220273494720459,
          5.230636835098267,
          5.240969657897949,
          5.2512428760528564,
          5.261514663696289,
          5.271825790405273,
          5.282058477401733,
          5.29237174987793,
          5.302797079086304,
          5.313040733337402,
          5.323411226272583,
          5.333818435668945,
          5.344107627868652,
          5.354490756988525,
          5.364905595779419,
          5.3752055168151855,
          5.385528326034546,
          5.395862817764282,
          5.406175851821899,
          5.4164862632751465,
          5.42685079574585,
          5.43717098236084,
          5.447493076324463,
          5.457830429077148,
          5.4681077003479,
          5.47843337059021,
          5.488779067993164,
          5.4991655349731445,
          5.509413957595825,
          5.519742250442505,
          5.530035495758057,
          5.540334463119507,
          5.55060076713562,
          5.560964107513428,
          5.571260929107666,
          5.581465721130371,
          5.591841220855713,
          5.60216498374939,
          5.612530946731567,
          5.6229212284088135,
          5.633203744888306,
          5.643524169921875,
          5.6538214683532715,
          5.664110422134399,
          5.674419164657593,
          5.684805870056152,
          5.695091962814331,
          5.7053728103637695,
          5.715647459030151,
          5.7258079051971436,
          5.736101150512695,
          5.746382713317871,
          5.756623029708862,
          5.7669358253479,
          5.777290105819702,
          5.787765264511108,
          5.7980852127075195,
          5.808396339416504,
          5.81872820854187,
          5.829022407531738,
          5.8393096923828125,
          5.849549770355225,
          5.8598527908325195,
          5.8701701164245605,
          5.880367040634155,
          5.890668153762817,
          5.900980234146118,
          5.911283016204834,
          5.92162823677063,
          5.931988716125488,
          5.942176342010498,
          5.9524829387664795,
          5.962804794311523,
          5.973003387451172,
          5.98328709602356,
          5.993481159210205,
          6.003814697265625,
          6.014045000076294,
          6.024282693862915,
          6.034510850906372,
          6.044772386550903,
          6.054992914199829,
          6.065154075622559,
          6.075375556945801,
          6.085536479949951,
          6.095779180526733,
          6.106053113937378,
          6.116274356842041,
          6.126495838165283,
          6.136733293533325,
          6.146954774856567,
          6.157113313674927,
          6.167344331741333,
          6.177506923675537,
          6.187748908996582,
          6.197921276092529,
          6.208138704299927,
          6.218360185623169,
          6.228594779968262,
          6.238816499710083,
          6.248974561691284,
          6.259195566177368,
          6.269354343414307,
          6.2795751094818115,
          6.289755582809448,
          6.29993748664856,
          6.310070276260376,
          6.320207834243774,
          6.3304526805877686,
          6.3407323360443115,
          6.350952625274658,
          6.361111164093018,
          6.371331453323364,
          6.3814873695373535,
          6.39173150062561,
          6.4019036293029785,
          6.412121057510376,
          6.422341823577881,
          6.432563066482544,
          6.442782640457153,
          6.452940225601196,
          6.4631617069244385,
          6.473319053649902,
          6.4835381507873535,
          6.493704319000244,
          6.503920078277588,
          6.514075756072998,
          6.524293899536133,
          6.534516096115112,
          6.544893026351929,
          6.555285215377808,
          6.565621614456177,
          6.576030015945435,
          6.586427211761475,
          6.596864700317383,
          6.607263565063477,
          6.617589473724365,
          6.6279895305633545,
          6.638386011123657,
          6.648818016052246,
          6.6592116355896,
          6.6695475578308105,
          6.6799609661102295,
          6.6903135776519775,
          6.700733661651611,
          6.711128234863281,
          6.721461534500122,
          6.731882333755493,
          6.742219686508179,
          6.75262713432312,
          6.763025283813477,
          6.7733659744262695,
          6.783792734146118,
          6.794193267822266,
          6.804530143737793,
          6.814946174621582,
          6.8252854347229,
          6.835692644119263,
          6.846107006072998,
          6.856502532958984,
          6.866932153701782,
          6.877269268035889,
          6.887675523757935,
          6.898106098175049,
          6.9085071086883545,
          6.918921709060669,
          6.929262399673462,
          6.939664125442505,
          6.950048446655273,
          6.960452079772949,
          6.970867156982422,
          6.981271028518677,
          6.991671085357666,
          7.002108335494995,
          7.012522459030151,
          7.022936820983887,
          7.033275365829468,
          7.043691873550415,
          7.054107189178467,
          7.064508438110352,
          7.074923038482666,
          7.085259437561035,
          7.095667839050293,
          7.106096982955933,
          7.116499662399292,
          7.126930475234985,
          7.13727879524231,
          7.147706508636475,
          7.158074855804443,
          7.168477535247803,
          7.178900480270386,
          7.189301490783691,
          7.199643850326538,
          7.209996938705444,
          7.220403432846069,
          7.23084020614624,
          7.241187810897827,
          7.251592636108398,
          7.262007236480713,
          7.272389888763428,
          7.282694101333618,
          7.293011903762817,
          7.303201198577881,
          7.313333511352539,
          7.323690891265869,
          7.3340160846710205,
          7.3442559242248535,
          7.3545002937316895,
          7.364836931228638,
          7.375072956085205,
          7.385262966156006,
          7.395413875579834,
          7.405729532241821,
          7.416082859039307,
          7.426329135894775,
          7.4365622997283936,
          7.446852922439575,
          7.457007646560669,
          7.467225790023804,
          7.47737979888916,
          7.487596750259399,
          7.497754096984863,
          7.507967948913574,
          7.518117666244507,
          7.528268814086914,
          7.538481950759888,
          7.548705101013184,
          7.558930397033691,
          7.569084882736206,
          7.579299688339233,
          7.589452743530273,
          7.599665880203247,
          7.609882593154907,
          7.6200971603393555,
          7.630312919616699,
          7.6405229568481445,
          7.6507651805877686,
          7.660918951034546,
          7.671133756637573,
          7.681287050247192,
          7.691500902175903,
          7.701655149459839,
          7.711867332458496,
          7.72201681137085,
          7.732229948043823,
          7.742442846298218,
          7.7526538372039795,
          7.762872695922852,
          7.773025989532471,
          7.783240556716919,
          7.793393135070801,
          7.803607940673828,
          7.813761472702026,
          7.823975563049316,
          7.834126949310303,
          7.844339847564697,
          7.854553937911987,
          7.864788055419922,
          7.874998092651367,
          7.885152578353882,
          7.89536714553833,
          7.905520439147949,
          7.915754795074463,
          7.925920724868774,
          7.936062335968018,
          7.946290969848633,
          7.956452369689941,
          7.966670513153076,
          7.976889371871948,
          7.987110376358032,
          7.997265577316284,
          8.007479429244995,
          8.017631530761719,
          8.02784276008606,
          8.037991046905518,
          8.048205852508545,
          8.058419942855835,
          8.068633317947388,
          8.078847885131836,
          8.08899712562561,
          8.099210977554321,
          8.109360456466675,
          8.119574546813965,
          8.129746913909912,
          8.139896392822266,
          8.150112628936768,
          8.160325050354004,
          8.170539140701294,
          8.180771112442017,
          8.190983772277832,
          8.201132535934448,
          8.211347818374634,
          8.221496820449829,
          8.23172903060913,
          8.241880655288696,
          8.252092361450195,
          8.262307405471802,
          8.272521018981934,
          8.282754898071289,
          8.292903900146484,
          8.303120136260986,
          8.31326937675476,
          8.323485136032104,
          8.333635091781616,
          8.343846321105957,
          8.353995323181152,
          8.364209175109863,
          8.374426126480103,
          8.38463807106018,
          8.39485239982605,
          8.405000925064087,
          8.415215969085693,
          8.425366878509521,
          8.43558144569397,
          8.445738315582275,
          8.456122875213623,
          8.466521978378296,
          8.476961374282837,
          8.487373113632202,
          8.4977548122406,
          8.508161067962646,
          8.518560886383057,
          8.528984308242798,
          8.539408922195435,
          8.54976749420166,
          8.560172319412231,
          8.570577621459961,
          8.581018686294556,
          8.591432571411133,
          8.601790189743042,
          8.612194776535034,
          8.622530698776245,
          8.632962703704834,
          8.643378734588623,
          8.65373706817627,
          8.664146423339844,
          8.674565315246582,
          8.684997081756592,
          8.695410251617432,
          8.705765724182129,
          8.716180801391602,
          8.726595640182495,
          8.737000465393066,
          8.747419118881226,
          8.75775146484375,
          8.768161058425903,
          8.778567552566528,
          8.788993835449219,
          8.7994065284729,
          8.809764862060547,
          8.820172309875488,
          8.830582618713379,
          8.841015100479126,
          8.851427793502808,
          8.861776351928711,
          8.872185707092285,
          8.88259243965149,
          8.893011569976807,
          8.903427362442017,
          8.913782358169556,
          8.924194812774658,
          8.934598207473755,
          8.945015907287598,
          8.955416917800903,
          8.965620517730713,
          8.975846529006958,
          8.986000776290894,
          8.99621868133545,
          9.006443977355957,
          9.016663312911987,
          9.026883363723755,
          9.03704023361206,
          9.047258615493774,
          9.057413339614868,
          9.067627191543579,
          9.077785015106201,
          9.087997913360596,
          9.098215341567993,
          9.108428239822388,
          9.118645906448364,
          9.128833770751953,
          9.139052152633667,
          9.149207353591919,
          9.159353971481323,
          9.169509410858154,
          9.179742097854614,
          9.189909219741821,
          9.200121641159058,
          9.210338354110718,
          9.2205491065979,
          9.230784177780151,
          9.240939140319824,
          9.251156091690063,
          9.261378049850464,
          9.271595001220703,
          9.28175973892212,
          9.291971683502197,
          9.302122116088867,
          9.312272548675537,
          9.322484254837036,
          9.332702159881592,
          9.342928886413574,
          9.353083372116089,
          9.363300323486328,
          9.373453855514526,
          9.383683681488037,
          9.393897533416748,
          9.404110193252563,
          9.41432499885559,
          9.42453908920288,
          9.434775590896606,
          9.44492793083191,
          9.455145359039307,
          9.465295314788818,
          9.475508451461792,
          9.48566198348999,
          9.495872974395752,
          9.506023168563843,
          9.516173839569092,
          9.526391744613647,
          9.536606311798096,
          9.54682183265686,
          9.556975841522217,
          9.567188262939453,
          9.57734203338623,
          9.587555170059204,
          9.59771466255188,
          9.6079261302948,
          9.618075847625732,
          9.62822699546814,
          9.638442039489746,
          9.648656845092773,
          9.658871173858643,
          9.669024467468262,
          9.679240465164185,
          9.689393758773804,
          9.699605226516724,
          9.709397554397583
         ],
         "y": [
          0,
          7.53125,
          17.53125,
          25.53125,
          35.73046875,
          43.73046875,
          53.73046875,
          61.73046875,
          71.73046875,
          79.73046875,
          89.73046875,
          99.73046875,
          107.73046875,
          117.73046875,
          125.73046875,
          135.73046875,
          143.73046875,
          153.73046875,
          161.73046875,
          171.73046875,
          179.73046875,
          189.73046875,
          197.73046875,
          207.73046875,
          215.73046875,
          225.73046875,
          233.73046875,
          243.73046875,
          253.73046875,
          261.73046875,
          271.73046875,
          279.73046875,
          289.73046875,
          297.73046875,
          307.73046875,
          315.73046875,
          325.73046875,
          333.73046875,
          343.73046875,
          351.73046875,
          361.73046875,
          371.73046875,
          379.73046875,
          389.73046875,
          397.73046875,
          407.73046875,
          415.73046875,
          425.73046875,
          433.73046875,
          443.73046875,
          453.73046875,
          461.73046875,
          471.73046875,
          479.73046875,
          489.73046875,
          499.73046875,
          507.73046875,
          517.73046875,
          525.73046875,
          535.73046875,
          543.73046875,
          553.73046875,
          563.73046875,
          571.73046875,
          581.73046875,
          589.73046875,
          599.73046875,
          607.73046875,
          617.73046875,
          627.73046875,
          635.73046875,
          645.73046875,
          653.73046875,
          663.73046875,
          671.73046875,
          681.73046875,
          691.73046875,
          699.73046875,
          709.73046875,
          717.73046875,
          727.73046875,
          735.73046875,
          745.73046875,
          755.73046875,
          763.73046875,
          773.73046875,
          781.73046875,
          791.73046875,
          799.73046875,
          809.73046875,
          819.73046875,
          827.73046875,
          837.73046875,
          845.73046875,
          855.73046875,
          863.73046875,
          873.73046875,
          881.73046875,
          891.73046875,
          899.73046875,
          909.73046875,
          917.73046875,
          927.73046875,
          937.73046875,
          945.73046875,
          955.73046875,
          963.73046875,
          973.73046875,
          981.73046875,
          991.73046875,
          999.73046875,
          1009.73046875,
          1017.73046875,
          1027.73046875,
          1037.73046875,
          1045.73046875,
          1055.73046875,
          1063.73046875,
          1073.73046875,
          1083.73046875,
          1091.73046875,
          1101.73046875,
          1109.73046875,
          1119.73046875,
          1127.73046875,
          1137.73046875,
          1147.73046875,
          1155.73046875,
          1165.73046875,
          1173.73046875,
          1183.73046875,
          1191.73046875,
          1201.73046875,
          1209.73046875,
          1219.73046875,
          1227.73046875,
          1237.73046875,
          1247.73046875,
          1255.73046875,
          1265.73046875,
          1273.73046875,
          1283.73046875,
          1291.73046875,
          1301.73046875,
          1309.73046875,
          1319.73046875,
          1327.73046875,
          1337.73046875,
          1347.73046875,
          1355.73046875,
          1365.73046875,
          1373.73046875,
          1383.73046875,
          1391.73046875,
          1401.73046875,
          1409.73046875,
          1419.73046875,
          1427.73046875,
          1437.73046875,
          1445.73046875,
          1455.73046875,
          1463.73046875,
          1473.73046875,
          1483.73046875,
          1491.73046875,
          1501.73046875,
          1509.73046875,
          1519.73046875,
          1527.73046875,
          1537.73046875,
          1545.73046875,
          1555.73046875,
          1563.73046875,
          1573.73046875,
          1583.73046875,
          1591.73046875,
          1601.73046875,
          1609.73046875,
          1619.73046875,
          1627.73046875,
          1637.73046875,
          1645.73046875,
          1655.73046875,
          1665.73046875,
          1673.73046875,
          1683.73046875,
          1691.73046875,
          1701.73046875,
          1709.73046875,
          1719.73046875,
          1729.73046875,
          1737.73046875,
          1747.73046875,
          1755.73046875,
          1765.73046875,
          1773.73046875,
          1783.73046875,
          1793.73046875,
          1801.73046875,
          1811.73046875,
          1819.73046875,
          1829.73046875,
          1837.73046875,
          1847.73046875,
          1855.73046875,
          1865.73046875,
          1875.73046875,
          1883.73046875,
          1893.73046875,
          1901.73046875,
          1911.73046875,
          1919.73046875,
          1929.73046875,
          1937.73046875,
          1947.73046875,
          1955.73046875,
          1965.73046875,
          1975.73046875,
          1983.73046875,
          1993.73046875,
          2001.73046875,
          2011.73046875,
          2019.73046875,
          2029.73046875,
          2037.73046875,
          2047.73046875,
          2057.73046875,
          2065.73046875,
          2075.73046875,
          2083.73046875,
          2093.73046875,
          2101.73046875,
          2111.73046875,
          2121.73046875,
          2129.73046875,
          2139.73046875,
          2147.73046875,
          2157.73046875,
          2165.73046875,
          2175.73046875,
          2183.73046875,
          2193.73046875,
          2203.73046875,
          2211.73046875,
          2221.73046875,
          2229.73046875,
          2239.73046875,
          2247.73046875,
          2257.73046875,
          2267.73046875,
          2275.73046875,
          2285.73046875,
          2293.73046875,
          2303.73046875,
          2311.73046875,
          2321.73046875,
          2329.73046875,
          2339.73046875,
          2349.73046875,
          2357.73046875,
          2367.73046875,
          2375.73046875,
          2385.73046875,
          2395.73046875,
          2403.73046875,
          2413.73046875,
          2421.73046875,
          2431.73046875,
          2439.73046875,
          2449.73046875,
          2457.73046875,
          2467.73046875,
          2477.73046875,
          2485.73046875,
          2495.73046875,
          2503.73046875,
          2513.73046875,
          2521.73046875,
          2531.73046875,
          2541.73046875,
          2549.73046875,
          2559.73046875,
          2567.73046875,
          2577.73046875,
          2585.73046875,
          2595.73046875,
          2605.73046875,
          2613.73046875,
          2623.73046875,
          2631.73046875,
          2641.73046875,
          2649.73046875,
          2659.73046875,
          2669.73046875,
          2677.73046875,
          2687.73046875,
          2695.73046875,
          2705.73046875,
          2713.73046875,
          2723.73046875,
          2731.73046875,
          2741.73046875,
          2751.73046875,
          2759.73046875,
          2769.73046875,
          2777.73046875,
          2787.73046875,
          2795.73046875,
          2805.73046875,
          2815.73046875,
          2823.73046875,
          2833.73046875,
          2843.73046875,
          2850.671875,
          2882.95703125,
          2918.95703125,
          2954.95703125,
          2990.95703125,
          3026.95703125,
          3060.95703125,
          3098.95703125,
          3132.95703125,
          3168.95703125,
          3204.95703125,
          3240.95703125,
          3276.95703125,
          3312.95703125,
          3348.95703125,
          3384.95703125,
          3418.95703125,
          3454.95703125,
          3490.95703125,
          3526.95703125,
          3562.95703125,
          3598.95703125,
          3634.95703125,
          3668.95703125,
          3704.95703125,
          3740.95703125,
          3776.95703125,
          3812.95703125,
          3848.95703125,
          3884.95703125,
          3920.95703125,
          3956.95703125,
          3992.95703125,
          4028.95703125,
          4064.95703125,
          4100.95703125,
          4136.95703125,
          4172.95703125,
          4208.95703125,
          4244.95703125,
          4280.95703125,
          4316.95703125,
          4350.95703125,
          4386.95703125,
          4422.95703125,
          4458.95703125,
          4494.95703125,
          4530.95703125,
          4566.95703125,
          4602.95703125,
          4638.95703125,
          4674.95703125,
          4710.95703125,
          4746.95703125,
          4782.95703125,
          4804.95703125,
          4836.95703125,
          4868.95703125,
          4902.95703125,
          4938.95703125,
          4974.95703125,
          4998.95703125,
          5012.95703125,
          5024.95703125,
          5038.95703125,
          5056.95703125,
          5068.95703125,
          5080.95703125,
          5104.95703125,
          5140.95703125,
          5176.95703125,
          5198.95703125,
          5212.95703125,
          5226.95703125,
          5242.95703125,
          5258.95703125,
          5270.95703125,
          5286.95703125,
          5300.95703125,
          5328.95703125,
          5364.95703125,
          5400.95703125,
          5416.95703125,
          5432.95703125,
          5448.95703125,
          5464.95703125,
          5480.95703125,
          5484.95703125,
          5506.95703125,
          5542.95703125,
          5574.95703125,
          5610.95703125,
          5642.95703125,
          5658.95703125,
          5670.95703125,
          5680.95703125,
          5696.95703125,
          5716.125,
          5736.125,
          5750.125,
          5761.96484375,
          5773.96484375,
          5775.9921875,
          5790.1171875,
          5804.1171875,
          5806.1171875,
          5820.046875,
          5834.171875,
          5856.18359375,
          5878.18359375,
          5898.18359375,
          5916.18359375,
          5936.18359375,
          5954.18359375,
          5974.18359375,
          5996.18359375,
          6018.18359375,
          6040.18359375,
          6062.18359375,
          6082.18359375,
          6104.18359375,
          6126.18359375,
          6144.18359375,
          6166.18359375,
          6186.18359375,
          6206.18359375,
          6226.18359375,
          6248.18359375,
          6268.18359375,
          6290.18359375,
          6312.18359375,
          6334.18359375,
          6356.18359375,
          6376.18359375,
          6400.18359375,
          6420.18359375,
          6442.18359375,
          6462.18359375,
          6464.0859375,
          6480.0859375,
          6514.0859375,
          6548.18359375,
          6582.18359375,
          6616.18359375,
          6648.18359375,
          6672.18359375,
          6690.1015625,
          6701.9609375,
          6713.9609375,
          6730.18359375,
          6746.18359375,
          6756.18359375,
          6766.18359375,
          6780.18359375,
          6786.18359375,
          6791.984375,
          6805.984375,
          6812.078125,
          6826.1328125,
          6846.1328125,
          6862.1328125,
          6882.1328125,
          6898.1328125,
          6912.1328125,
          6914.01953125,
          6927.94140625,
          6944.12890625,
          6956.12890625,
          6959.953125,
          6975.6796875,
          6990.1171875,
          7000.171875,
          7018.171875,
          7032.171875,
          7044.171875,
          7056.171875,
          7066.171875,
          7072.09765625,
          7083.96484375,
          7094.00390625,
          7104.31640625,
          7119.52734375,
          7127.96875,
          7142.1484375,
          7158.0078125,
          7172.171875,
          7188.171875,
          7204.171875,
          7218.171875,
          7234.171875,
          7250.171875,
          7266.171875,
          7280.171875,
          7306.18359375,
          7338.18359375,
          7356.18359375,
          7363.99609375,
          7374.2421875,
          7386.1015625,
          7401.50390625,
          7418.07421875,
          7442.07421875,
          7466.07421875,
          7482.07421875,
          7500.18359375,
          7512.18359375,
          7526.18359375,
          7542.18359375,
          7554.18359375,
          7572.18359375,
          7592.18359375,
          7610.18359375,
          7626.18359375,
          7648.18359375,
          7666.18359375,
          7688.18359375,
          7694.18359375,
          7705.96875,
          7728.18359375,
          7748.18359375,
          7759.7265625,
          7772.6171875,
          7788.1640625,
          7796.51171875,
          7811.98046875,
          7824.16796875,
          7841.9375,
          7857.1484375,
          7868.109375,
          7886.109375,
          7902.109375,
          7916.109375,
          7930.109375,
          7937.515625,
          7948.0859375,
          7959.9453125,
          7978.18359375,
          7998.18359375,
          8004.05859375,
          8015.40234375,
          8024.875,
          8040.0859375,
          8051.9453125,
          8064,
          8066,
          8100,
          8134.18359375,
          8168.18359375,
          8202.18359375,
          8223.94921875,
          8238.38671875,
          8248.18359375,
          8260.18359375,
          8270.18359375,
          8286.18359375,
          8304.18359375,
          8322.18359375,
          8340.18359375,
          8358.18359375,
          8374.18359375,
          8392.18359375,
          8410.18359375,
          8428.18359375,
          8444.18359375,
          8462.18359375,
          8478.18359375,
          8496.18359375,
          8512.18359375,
          8528.18359375,
          8546.18359375,
          8554.85546875,
          8554.85546875,
          8554.85546875,
          8554.85546875,
          8554.85546875,
          8554.85546875,
          8554.85546875,
          8554.85546875,
          8554.85546875,
          8554.85546875,
          8554.85546875,
          8554.85546875,
          8554.85546875,
          8554.85546875,
          8554.85546875,
          8554.85546875,
          8554.85546875,
          8554.85546875,
          8554.85546875,
          8554.85546875,
          8554.85546875,
          8554.85546875,
          8554.85546875,
          8554.85546875,
          8554.85546875,
          8554.85546875,
          8554.85546875,
          8554.85546875,
          8554.85546875,
          8554.85546875,
          8554.85546875,
          8554.85546875,
          8554.85546875,
          8554.85546875,
          8554.85546875,
          8554.85546875,
          8554.85546875,
          8554.85546875,
          8554.85546875,
          8554.85546875,
          8554.85546875,
          8554.85546875,
          8554.85546875,
          8554.85546875,
          8554.85546875,
          8554.85546875,
          8554.85546875,
          8554.85546875,
          8554.85546875,
          8554.85546875,
          7143.9140625,
          6022.328125,
          5734,
          5770.18359375,
          5806.18359375,
          5842.18359375,
          5880.18359375,
          5916.18359375,
          5952.18359375,
          5988.18359375,
          6024.18359375,
          6060.18359375,
          6096.18359375,
          6132.18359375,
          6168.18359375,
          6204.18359375,
          6240.18359375,
          6276.18359375,
          6312.18359375,
          6348.18359375,
          6384.18359375,
          6420.18359375,
          6458.18359375,
          6494.18359375,
          6528.18359375,
          6564.18359375,
          6600.18359375,
          6636.18359375,
          6672.18359375,
          6708.18359375,
          6744.18359375,
          6780.18359375,
          6816.18359375,
          6854.18359375,
          6890.18359375,
          6924.18359375,
          6960.18359375,
          6996.18359375,
          7032.18359375,
          7068.18359375,
          7104.18359375,
          7140.18359375,
          7176.18359375,
          7212.18359375,
          7248.18359375,
          7286.18359375,
          7322.18359375,
          7358.18359375,
          7394.18359375,
          7430.18359375,
          7466.18359375,
          7502.18359375,
          7538.18359375,
          7574.18359375,
          7610.18359375,
          7646.18359375,
          7682.18359375,
          7720.18359375,
          7756.18359375,
          7792.18359375,
          7828.18359375,
          7864.18359375,
          7900.18359375,
          7936.18359375,
          7972.18359375,
          8008.18359375,
          8044.18359375,
          8080.18359375,
          8116.18359375,
          8152.18359375,
          8188.18359375,
          8208.18359375,
          8226.18359375,
          8240.18359375,
          8256.18359375,
          8272.18359375,
          8290.18359375,
          8294.18359375,
          8310.16015625,
          8338.16015625,
          8372.16015625,
          8404.16015625,
          8438.18359375,
          8472.18359375,
          8502.18359375,
          8536.18359375,
          8554.6875,
          8554.6875,
          8554.6875,
          8554.6875,
          8554.6875,
          8554.6875,
          8554.6875,
          8554.6875,
          8554.6875,
          8554.6875,
          8554.6875,
          8554.6875,
          8554.6875,
          8554.6875,
          8554.6875,
          8554.6875,
          8554.6875,
          8554.6875,
          8554.6875,
          8554.6875,
          8554.6875,
          8554.6875,
          8554.6875,
          8554.6875,
          8554.6875,
          8554.6875,
          8554.6875,
          8554.6875,
          8554.6875,
          8554.6875,
          8554.6875,
          8554.6875,
          8554.6875,
          8554.6875,
          8554.6875,
          8554.6875,
          8554.6875,
          8554.6875,
          8554.6875,
          8554.6875,
          8554.6875,
          8554.6875,
          8554.6875,
          8554.6875,
          8554.6875,
          8554.6875,
          8554.6875,
          8554.6875,
          8554.6875,
          8554.6875,
          5703.2421875,
          5703.2421875,
          5703.2421875,
          5703.2421875,
          5703.2421875,
          5703.2421875,
          5703.2421875,
          5703.2421875,
          5703.2421875,
          5703.2421875,
          5703.2421875,
          5703.2421875,
          5703.2421875,
          5703.2421875,
          5703.2421875,
          5703.2421875,
          5703.2421875,
          5703.2421875,
          5703.2421875,
          5703.2421875,
          5703.2421875,
          5703.2421875,
          5703.2421875,
          5703.2421875,
          5703.2421875,
          5703.2421875,
          5703.2421875,
          5703.2421875,
          5703.2421875,
          5703.2421875,
          5703.2421875,
          5703.2421875,
          5703.2421875,
          5703.2421875,
          5703.2421875,
          5703.2421875,
          5703.2421875,
          5703.2421875,
          5703.2421875,
          5703.2421875,
          5703.2421875,
          5703.2421875,
          5703.2421875,
          5703.2421875,
          5703.2421875,
          5703.2421875,
          5703.2421875,
          5703.2421875,
          5703.2421875,
          5703.2421875,
          5703.2421875,
          2858.91015625,
          2916.91015625,
          2974.95703125,
          3032.95703125,
          3092.95703125,
          3150.95703125,
          3208.95703125,
          3266.95703125,
          3326.95703125,
          3384.95703125,
          3442.95703125,
          3500.95703125,
          3558.95703125,
          3618.95703125,
          3676.95703125,
          3734.95703125,
          3792.95703125,
          3850.95703125,
          3910.95703125,
          3968.95703125,
          4026.95703125,
          4084.95703125,
          4144.95703125,
          4202.95703125,
          4260.95703125,
          4318.95703125,
          4378.95703125,
          4436.95703125,
          4494.95703125,
          4554.95703125,
          4612.95703125,
          4670.95703125,
          4728.95703125,
          4788.95703125,
          4846.95703125,
          4904.95703125,
          4962.95703125,
          5022.95703125,
          5080.95703125,
          5138.95703125,
          5196.95703125,
          5256.95703125,
          5314.95703125,
          5372.95703125,
          5430.95703125,
          5490.95703125,
          5548.95703125,
          5606.95703125,
          5664.95703125,
          5703.015625,
          5703.015625,
          5703.015625,
          5703.015625,
          5703.015625,
          5703.015625,
          5703.015625,
          5703.015625,
          5703.015625,
          5703.015625,
          5703.015625,
          5703.015625,
          5703.015625,
          5703.015625,
          5703.015625,
          5703.015625,
          5703.015625,
          5703.015625,
          5703.015625,
          5703.015625,
          5703.015625,
          5703.015625,
          5703.015625,
          5703.015625,
          5703.015625,
          5703.015625,
          5703.015625,
          5703.015625,
          5703.015625,
          5703.015625,
          5703.015625,
          5703.015625,
          5703.015625,
          5703.015625,
          5703.015625,
          5703.015625,
          5703.015625,
          5703.015625,
          5703.015625,
          5703.015625,
          5703.015625,
          5703.015625,
          5703.015625,
          5703.015625,
          5703.015625,
          5703.015625,
          5703.015625,
          5703.015625,
          5703.015625,
          5703.015625,
          5703.015625,
          5703.015625,
          5703.015625,
          5703.015625,
          5703.015625,
          5703.015625,
          5703.015625,
          5703.015625,
          5703.015625,
          5703.015625,
          5703.015625,
          5703.015625,
          5703.015625,
          5703.015625,
          5703.015625,
          5703.015625,
          5703.015625,
          5703.015625,
          5703.015625,
          5703.015625,
          5703.015625,
          5703.015625,
          5703.015625,
          5703.015625,
          2851.62890625
         ]
        }
       ],
       "layout": {
        "template": {
         "data": {
          "bar": [
           {
            "error_x": {
             "color": "#2a3f5f"
            },
            "error_y": {
             "color": "#2a3f5f"
            },
            "marker": {
             "line": {
              "color": "#E5ECF6",
              "width": 0.5
             }
            },
            "type": "bar"
           }
          ],
          "barpolar": [
           {
            "marker": {
             "line": {
              "color": "#E5ECF6",
              "width": 0.5
             }
            },
            "type": "barpolar"
           }
          ],
          "carpet": [
           {
            "aaxis": {
             "endlinecolor": "#2a3f5f",
             "gridcolor": "white",
             "linecolor": "white",
             "minorgridcolor": "white",
             "startlinecolor": "#2a3f5f"
            },
            "baxis": {
             "endlinecolor": "#2a3f5f",
             "gridcolor": "white",
             "linecolor": "white",
             "minorgridcolor": "white",
             "startlinecolor": "#2a3f5f"
            },
            "type": "carpet"
           }
          ],
          "choropleth": [
           {
            "colorbar": {
             "outlinewidth": 0,
             "ticks": ""
            },
            "type": "choropleth"
           }
          ],
          "contour": [
           {
            "colorbar": {
             "outlinewidth": 0,
             "ticks": ""
            },
            "colorscale": [
             [
              0,
              "#0d0887"
             ],
             [
              0.1111111111111111,
              "#46039f"
             ],
             [
              0.2222222222222222,
              "#7201a8"
             ],
             [
              0.3333333333333333,
              "#9c179e"
             ],
             [
              0.4444444444444444,
              "#bd3786"
             ],
             [
              0.5555555555555556,
              "#d8576b"
             ],
             [
              0.6666666666666666,
              "#ed7953"
             ],
             [
              0.7777777777777778,
              "#fb9f3a"
             ],
             [
              0.8888888888888888,
              "#fdca26"
             ],
             [
              1,
              "#f0f921"
             ]
            ],
            "type": "contour"
           }
          ],
          "contourcarpet": [
           {
            "colorbar": {
             "outlinewidth": 0,
             "ticks": ""
            },
            "type": "contourcarpet"
           }
          ],
          "heatmap": [
           {
            "colorbar": {
             "outlinewidth": 0,
             "ticks": ""
            },
            "colorscale": [
             [
              0,
              "#0d0887"
             ],
             [
              0.1111111111111111,
              "#46039f"
             ],
             [
              0.2222222222222222,
              "#7201a8"
             ],
             [
              0.3333333333333333,
              "#9c179e"
             ],
             [
              0.4444444444444444,
              "#bd3786"
             ],
             [
              0.5555555555555556,
              "#d8576b"
             ],
             [
              0.6666666666666666,
              "#ed7953"
             ],
             [
              0.7777777777777778,
              "#fb9f3a"
             ],
             [
              0.8888888888888888,
              "#fdca26"
             ],
             [
              1,
              "#f0f921"
             ]
            ],
            "type": "heatmap"
           }
          ],
          "heatmapgl": [
           {
            "colorbar": {
             "outlinewidth": 0,
             "ticks": ""
            },
            "colorscale": [
             [
              0,
              "#0d0887"
             ],
             [
              0.1111111111111111,
              "#46039f"
             ],
             [
              0.2222222222222222,
              "#7201a8"
             ],
             [
              0.3333333333333333,
              "#9c179e"
             ],
             [
              0.4444444444444444,
              "#bd3786"
             ],
             [
              0.5555555555555556,
              "#d8576b"
             ],
             [
              0.6666666666666666,
              "#ed7953"
             ],
             [
              0.7777777777777778,
              "#fb9f3a"
             ],
             [
              0.8888888888888888,
              "#fdca26"
             ],
             [
              1,
              "#f0f921"
             ]
            ],
            "type": "heatmapgl"
           }
          ],
          "histogram": [
           {
            "marker": {
             "colorbar": {
              "outlinewidth": 0,
              "ticks": ""
             }
            },
            "type": "histogram"
           }
          ],
          "histogram2d": [
           {
            "colorbar": {
             "outlinewidth": 0,
             "ticks": ""
            },
            "colorscale": [
             [
              0,
              "#0d0887"
             ],
             [
              0.1111111111111111,
              "#46039f"
             ],
             [
              0.2222222222222222,
              "#7201a8"
             ],
             [
              0.3333333333333333,
              "#9c179e"
             ],
             [
              0.4444444444444444,
              "#bd3786"
             ],
             [
              0.5555555555555556,
              "#d8576b"
             ],
             [
              0.6666666666666666,
              "#ed7953"
             ],
             [
              0.7777777777777778,
              "#fb9f3a"
             ],
             [
              0.8888888888888888,
              "#fdca26"
             ],
             [
              1,
              "#f0f921"
             ]
            ],
            "type": "histogram2d"
           }
          ],
          "histogram2dcontour": [
           {
            "colorbar": {
             "outlinewidth": 0,
             "ticks": ""
            },
            "colorscale": [
             [
              0,
              "#0d0887"
             ],
             [
              0.1111111111111111,
              "#46039f"
             ],
             [
              0.2222222222222222,
              "#7201a8"
             ],
             [
              0.3333333333333333,
              "#9c179e"
             ],
             [
              0.4444444444444444,
              "#bd3786"
             ],
             [
              0.5555555555555556,
              "#d8576b"
             ],
             [
              0.6666666666666666,
              "#ed7953"
             ],
             [
              0.7777777777777778,
              "#fb9f3a"
             ],
             [
              0.8888888888888888,
              "#fdca26"
             ],
             [
              1,
              "#f0f921"
             ]
            ],
            "type": "histogram2dcontour"
           }
          ],
          "mesh3d": [
           {
            "colorbar": {
             "outlinewidth": 0,
             "ticks": ""
            },
            "type": "mesh3d"
           }
          ],
          "parcoords": [
           {
            "line": {
             "colorbar": {
              "outlinewidth": 0,
              "ticks": ""
             }
            },
            "type": "parcoords"
           }
          ],
          "pie": [
           {
            "automargin": true,
            "type": "pie"
           }
          ],
          "scatter": [
           {
            "marker": {
             "colorbar": {
              "outlinewidth": 0,
              "ticks": ""
             }
            },
            "type": "scatter"
           }
          ],
          "scatter3d": [
           {
            "line": {
             "colorbar": {
              "outlinewidth": 0,
              "ticks": ""
             }
            },
            "marker": {
             "colorbar": {
              "outlinewidth": 0,
              "ticks": ""
             }
            },
            "type": "scatter3d"
           }
          ],
          "scattercarpet": [
           {
            "marker": {
             "colorbar": {
              "outlinewidth": 0,
              "ticks": ""
             }
            },
            "type": "scattercarpet"
           }
          ],
          "scattergeo": [
           {
            "marker": {
             "colorbar": {
              "outlinewidth": 0,
              "ticks": ""
             }
            },
            "type": "scattergeo"
           }
          ],
          "scattergl": [
           {
            "marker": {
             "colorbar": {
              "outlinewidth": 0,
              "ticks": ""
             }
            },
            "type": "scattergl"
           }
          ],
          "scattermapbox": [
           {
            "marker": {
             "colorbar": {
              "outlinewidth": 0,
              "ticks": ""
             }
            },
            "type": "scattermapbox"
           }
          ],
          "scatterpolar": [
           {
            "marker": {
             "colorbar": {
              "outlinewidth": 0,
              "ticks": ""
             }
            },
            "type": "scatterpolar"
           }
          ],
          "scatterpolargl": [
           {
            "marker": {
             "colorbar": {
              "outlinewidth": 0,
              "ticks": ""
             }
            },
            "type": "scatterpolargl"
           }
          ],
          "scatterternary": [
           {
            "marker": {
             "colorbar": {
              "outlinewidth": 0,
              "ticks": ""
             }
            },
            "type": "scatterternary"
           }
          ],
          "surface": [
           {
            "colorbar": {
             "outlinewidth": 0,
             "ticks": ""
            },
            "colorscale": [
             [
              0,
              "#0d0887"
             ],
             [
              0.1111111111111111,
              "#46039f"
             ],
             [
              0.2222222222222222,
              "#7201a8"
             ],
             [
              0.3333333333333333,
              "#9c179e"
             ],
             [
              0.4444444444444444,
              "#bd3786"
             ],
             [
              0.5555555555555556,
              "#d8576b"
             ],
             [
              0.6666666666666666,
              "#ed7953"
             ],
             [
              0.7777777777777778,
              "#fb9f3a"
             ],
             [
              0.8888888888888888,
              "#fdca26"
             ],
             [
              1,
              "#f0f921"
             ]
            ],
            "type": "surface"
           }
          ],
          "table": [
           {
            "cells": {
             "fill": {
              "color": "#EBF0F8"
             },
             "line": {
              "color": "white"
             }
            },
            "header": {
             "fill": {
              "color": "#C8D4E3"
             },
             "line": {
              "color": "white"
             }
            },
            "type": "table"
           }
          ]
         },
         "layout": {
          "annotationdefaults": {
           "arrowcolor": "#2a3f5f",
           "arrowhead": 0,
           "arrowwidth": 1
          },
          "autotypenumbers": "strict",
          "coloraxis": {
           "colorbar": {
            "outlinewidth": 0,
            "ticks": ""
           }
          },
          "colorscale": {
           "diverging": [
            [
             0,
             "#8e0152"
            ],
            [
             0.1,
             "#c51b7d"
            ],
            [
             0.2,
             "#de77ae"
            ],
            [
             0.3,
             "#f1b6da"
            ],
            [
             0.4,
             "#fde0ef"
            ],
            [
             0.5,
             "#f7f7f7"
            ],
            [
             0.6,
             "#e6f5d0"
            ],
            [
             0.7,
             "#b8e186"
            ],
            [
             0.8,
             "#7fbc41"
            ],
            [
             0.9,
             "#4d9221"
            ],
            [
             1,
             "#276419"
            ]
           ],
           "sequential": [
            [
             0,
             "#0d0887"
            ],
            [
             0.1111111111111111,
             "#46039f"
            ],
            [
             0.2222222222222222,
             "#7201a8"
            ],
            [
             0.3333333333333333,
             "#9c179e"
            ],
            [
             0.4444444444444444,
             "#bd3786"
            ],
            [
             0.5555555555555556,
             "#d8576b"
            ],
            [
             0.6666666666666666,
             "#ed7953"
            ],
            [
             0.7777777777777778,
             "#fb9f3a"
            ],
            [
             0.8888888888888888,
             "#fdca26"
            ],
            [
             1,
             "#f0f921"
            ]
           ],
           "sequentialminus": [
            [
             0,
             "#0d0887"
            ],
            [
             0.1111111111111111,
             "#46039f"
            ],
            [
             0.2222222222222222,
             "#7201a8"
            ],
            [
             0.3333333333333333,
             "#9c179e"
            ],
            [
             0.4444444444444444,
             "#bd3786"
            ],
            [
             0.5555555555555556,
             "#d8576b"
            ],
            [
             0.6666666666666666,
             "#ed7953"
            ],
            [
             0.7777777777777778,
             "#fb9f3a"
            ],
            [
             0.8888888888888888,
             "#fdca26"
            ],
            [
             1,
             "#f0f921"
            ]
           ]
          },
          "colorway": [
           "#636efa",
           "#EF553B",
           "#00cc96",
           "#ab63fa",
           "#FFA15A",
           "#19d3f3",
           "#FF6692",
           "#B6E880",
           "#FF97FF",
           "#FECB52"
          ],
          "font": {
           "color": "#2a3f5f"
          },
          "geo": {
           "bgcolor": "white",
           "lakecolor": "white",
           "landcolor": "#E5ECF6",
           "showlakes": true,
           "showland": true,
           "subunitcolor": "white"
          },
          "hoverlabel": {
           "align": "left"
          },
          "hovermode": "closest",
          "mapbox": {
           "style": "light"
          },
          "paper_bgcolor": "white",
          "plot_bgcolor": "#E5ECF6",
          "polar": {
           "angularaxis": {
            "gridcolor": "white",
            "linecolor": "white",
            "ticks": ""
           },
           "bgcolor": "#E5ECF6",
           "radialaxis": {
            "gridcolor": "white",
            "linecolor": "white",
            "ticks": ""
           }
          },
          "scene": {
           "xaxis": {
            "backgroundcolor": "#E5ECF6",
            "gridcolor": "white",
            "gridwidth": 2,
            "linecolor": "white",
            "showbackground": true,
            "ticks": "",
            "zerolinecolor": "white"
           },
           "yaxis": {
            "backgroundcolor": "#E5ECF6",
            "gridcolor": "white",
            "gridwidth": 2,
            "linecolor": "white",
            "showbackground": true,
            "ticks": "",
            "zerolinecolor": "white"
           },
           "zaxis": {
            "backgroundcolor": "#E5ECF6",
            "gridcolor": "white",
            "gridwidth": 2,
            "linecolor": "white",
            "showbackground": true,
            "ticks": "",
            "zerolinecolor": "white"
           }
          },
          "shapedefaults": {
           "line": {
            "color": "#2a3f5f"
           }
          },
          "ternary": {
           "aaxis": {
            "gridcolor": "white",
            "linecolor": "white",
            "ticks": ""
           },
           "baxis": {
            "gridcolor": "white",
            "linecolor": "white",
            "ticks": ""
           },
           "bgcolor": "#E5ECF6",
           "caxis": {
            "gridcolor": "white",
            "linecolor": "white",
            "ticks": ""
           }
          },
          "title": {
           "x": 0.05
          },
          "xaxis": {
           "automargin": true,
           "gridcolor": "white",
           "linecolor": "white",
           "ticks": "",
           "title": {
            "standoff": 15
           },
           "zerolinecolor": "white",
           "zerolinewidth": 2
          },
          "yaxis": {
           "automargin": true,
           "gridcolor": "white",
           "linecolor": "white",
           "ticks": "",
           "title": {
            "standoff": 15
           },
           "zerolinecolor": "white",
           "zerolinewidth": 2
          }
         }
        },
        "title": {
         "text": "Transcendental expression",
         "x": 0.5,
         "xanchor": "center",
         "y": 0.9,
         "yanchor": "top"
        },
        "xaxis": {
         "title": {
          "text": "Time (in seconds)"
         }
        },
        "yaxis": {
         "title": {
          "text": "Memory used (in MiB)"
         }
        }
       }
      },
      "text/html": [
       "<div>                            <div id=\"d7845745-3868-4e4c-ad31-5160e33ad1ac\" class=\"plotly-graph-div\" style=\"height:525px; width:100%;\"></div>            <script type=\"text/javascript\">                require([\"plotly\"], function(Plotly) {                    window.PLOTLYENV=window.PLOTLYENV || {};                                    if (document.getElementById(\"d7845745-3868-4e4c-ad31-5160e33ad1ac\")) {                    Plotly.newPlot(                        \"d7845745-3868-4e4c-ad31-5160e33ad1ac\",                        [{\"mode\": \"lines\", \"name\": \"ia_trans\", \"type\": \"scatter\", \"x\": [0.0003597736358642578, 0.010820627212524414, 0.02101421356201172, 0.031218528747558594, 0.041573286056518555, 0.05222439765930176, 0.06315279006958008, 0.07383513450622559, 0.084442138671875, 0.09567999839782715, 0.10658836364746094, 0.11723184585571289, 0.12796664237976074, 0.13867855072021484, 0.1495652198791504, 0.16032743453979492, 0.17101740837097168, 0.1816272735595703, 0.19207119941711426, 0.20265460014343262, 0.21342825889587402, 0.22409677505493164, 0.23476314544677734, 0.24537301063537598, 0.25582194328308105, 0.26642656326293945, 0.2771432399749756, 0.28823041915893555, 0.2988014221191406, 0.30942773818969727, 0.3206803798675537, 0.3314247131347656, 0.34237098693847656, 0.35303258895874023, 0.36399412155151367, 0.37497735023498535, 0.3856525421142578, 0.39632177352905273, 0.4069974422454834, 0.4183046817779541, 0.42893433570861816, 0.43958258628845215, 0.45012784004211426, 0.46045422554016113, 0.47274160385131836, 0.4834411144256592, 0.49430108070373535, 0.5055005550384521, 0.5162363052368164, 0.5268704891204834, 0.5376596450805664, 0.548215389251709, 0.5588533878326416, 0.569695234298706, 0.5805768966674805, 0.5911738872528076, 0.6017153263092041, 0.6123335361480713, 0.6229934692382812, 0.6336071491241455, 0.6443443298339844, 0.6547243595123291, 0.6654438972473145, 0.6759624481201172, 0.6865012645721436, 0.6972372531890869, 0.7079341411590576, 0.7190780639648438, 0.7299671173095703, 0.7405331134796143, 0.7510852813720703, 0.7616875171661377, 0.7721579074859619, 0.7829339504241943, 0.7934608459472656, 0.8040115833282471, 0.8146665096282959, 0.8255734443664551, 0.8363900184631348, 0.8472180366516113, 0.8579120635986328, 0.868567943572998, 0.8797457218170166, 0.8903627395629883, 0.9012603759765625, 0.9121289253234863, 0.9232790470123291, 0.9338090419769287, 0.9443800449371338, 0.9548380374908447, 0.9661357402801514, 0.9768176078796387, 0.9874780178070068, 0.9981284141540527, 1.009181261062622, 1.0197460651397705, 1.0301995277404785, 1.040693998336792, 1.051133155822754, 1.0623629093170166, 1.0730879306793213, 1.0838017463684082, 1.0948801040649414, 1.1061453819274902, 1.1168475151062012, 1.127568006515503, 1.1382544040679932, 1.14898681640625, 1.1603412628173828, 1.1711504459381104, 1.1818146705627441, 1.1922857761383057, 1.2031569480895996, 1.2141554355621338, 1.2250275611877441, 1.235755205154419, 1.2463104724884033, 1.257068157196045, 1.267756700515747, 1.2785420417785645, 1.2891006469726562, 1.2998392581939697, 1.3105854988098145, 1.3213937282562256, 1.3320989608764648, 1.3430135250091553, 1.353884220123291, 1.3645286560058594, 1.375032901763916, 1.3853578567504883, 1.3873844146728516], \"y\": [0.0, 0.00390625, 0.00390625, 0.01171875, 51.34765625, 106.17578125, 110.68359375, 112.9375, 116.9375, 122.75, 126.75, 132.75, 136.75, 142.75, 148.05078125, 152.3046875, 156.3046875, 162.3046875, 166.3046875, 171.40234375, 179.40234375, 185.40234375, 193.40234375, 199.40234375, 206.29296875, 212.29296875, 220.29296875, 228.29296875, 234.29296875, 242.29296875, 248.33203125, 254.58203125, 260.58203125, 266.58203125, 272.58203125, 274.68359375, 278.68359375, 282.68359375, 286.68359375, 288.65625, 292.65625, 296.65625, 300.65625, 301.0, 307.25390625, 309.25390625, 313.25390625, 314.84375, 318.84375, 322.84375, 326.84375, 328.84375, 331.9296875, 335.9296875, 341.9296875, 345.9296875, 349.9296875, 354.33203125, 358.8359375, 362.8359375, 368.8359375, 372.8359375, 376.84375, 382.84375, 390.84375, 396.84375, 402.84375, 408.03515625, 416.03515625, 424.03515625, 432.03515625, 440.03515625, 448.03515625, 452.5234375, 458.5234375, 464.5234375, 470.5234375, 476.5234375, 478.890625, 482.890625, 484.890625, 488.890625, 490.75390625, 494.75390625, 498.75390625, 502.75390625, 506.40234375, 508.6484375, 512.6484375, 514.6484375, 516.79296875, 520.79296875, 524.79296875, 526.79296875, 528.296875, 532.296875, 538.296875, 542.296875, 546.296875, 548.265625, 552.51953125, 556.51953125, 562.51953125, 564.265625, 570.51953125, 576.51953125, 582.51953125, 588.51953125, 592.1640625, 598.1640625, 606.1640625, 614.1640625, 622.1640625, 623.99609375, 630.49609375, 634.49609375, 640.49609375, 646.49609375, 646.98046875, 650.98046875, 654.98046875, 656.98046875, 658.47265625, 662.47265625, 668.47265625, 670.47265625, 670.89453125, 674.89453125, 676.89453125, 674.53125, 674.53125]}, {\"mode\": \"lines\", \"name\": \"np_trans\", \"type\": \"scatter\", \"x\": [0.0003795623779296875, 0.010702371597290039, 0.020943403244018555, 0.03131365776062012, 0.04155135154724121, 0.05185413360595703, 0.062087297439575195, 0.07240176200866699, 0.0827333927154541, 0.09297871589660645, 0.10329055786132812, 0.11353683471679688, 0.12385940551757812, 0.1341099739074707, 0.14441609382629395, 0.1547541618347168, 0.1650066375732422, 0.17531824111938477, 0.18557357788085938, 0.1958913803100586, 0.2061307430267334, 0.21638011932373047, 0.2266995906829834, 0.2369687557220459, 0.247283935546875, 0.25754284858703613, 0.2678711414337158, 0.27813053131103516, 0.2884490489959717, 0.2987797260284424, 0.3090360164642334, 0.3193471431732178, 0.3296029567718506, 0.3399205207824707, 0.35016894340515137, 0.3604767322540283, 0.37081217765808105, 0.3811161518096924, 0.39142847061157227, 0.4016761779785156, 0.41199254989624023, 0.42230796813964844, 0.4326143264770508, 0.44292712211608887, 0.4531748294830322, 0.46349024772644043, 0.47374701499938965, 0.4840657711029053, 0.4943821430206299, 0.504723072052002, 0.5150439739227295, 0.525299072265625, 0.5356130599975586, 0.5459120273590088, 0.5562276840209961, 0.566535234451294, 0.5768678188323975, 0.5871787071228027, 0.5974242687225342, 0.6077775955200195, 0.6180369853973389, 0.628354549407959, 0.6386687755584717, 0.6489968299865723, 0.6593124866485596, 0.6695477962493896, 0.6798818111419678, 0.6901276111602783, 0.7004501819610596, 0.710787296295166, 0.7210409641265869, 0.7313616275787354, 0.7416172027587891, 0.7519359588623047, 0.762176513671875, 0.7724854946136475, 0.7828159332275391, 0.7930660247802734, 0.803380012512207, 0.8136250972747803, 0.8239400386810303, 0.8341948986053467, 0.8445243835449219, 0.8548626899719238, 0.8651115894317627, 0.8754348754882812, 0.8856961727142334, 0.8960256576538086, 0.9063529968261719, 0.9166646003723145, 0.9269859790802002, 0.9372453689575195, 0.9475622177124023, 0.9578111171722412, 0.9681596755981445, 0.9784753322601318, 0.9888129234313965, 0.9991202354431152, 1.009371280670166, 1.019690752029419, 1.0300164222717285, 1.0403311252593994, 1.0506458282470703, 1.0609614849090576, 1.0712740421295166, 1.081533670425415, 1.0918803215026855, 1.1021347045898438, 1.1124448776245117, 1.1227893829345703, 1.133040428161621, 1.14335036277771, 1.153599500656128, 1.1639182567596436, 1.1741726398468018, 1.184483528137207, 1.1948227882385254, 1.2050707340240479, 1.2153935432434082, 1.225642442703247, 1.2359585762023926, 1.246216058731079, 1.2565300464630127, 1.266857385635376, 1.2771100997924805, 1.2874276638031006, 1.2977066040039062, 1.308037519454956, 1.3183600902557373, 1.3286857604980469, 1.3390140533447266, 1.3492660522460938, 1.3595786094665527, 1.369837999343872, 1.3801546096801758, 1.3904662132263184, 1.400804042816162, 1.4111390113830566, 1.421391487121582, 1.4317376613616943, 1.4419937133789062, 1.4523146152496338, 1.462625503540039, 1.4729530811309814, 1.4832706451416016, 1.4935321807861328, 1.5038564205169678, 1.5141160488128662, 1.5244359970092773, 1.5346949100494385, 1.5450317859649658, 1.5553545951843262, 1.5656182765960693, 1.575927495956421, 1.5861825942993164, 1.5964908599853516, 1.6068243980407715, 1.6170783042907715, 1.627394676208496, 1.6376361846923828, 1.6479535102844238, 1.6582021713256836, 1.668513536453247, 1.67885422706604, 1.6891131401062012, 1.6994318962097168, 1.709691047668457, 1.7200088500976562, 1.730323314666748, 1.740630865097046, 1.750941514968872, 1.7612016201019287, 1.7715106010437012, 1.7817838191986084, 1.792102336883545, 1.8024110794067383, 1.8127515316009521, 1.8230690956115723, 1.8333261013031006, 1.8436245918273926, 1.8538739681243896, 1.864185094833374, 1.8744988441467285, 1.884833574295044, 1.8951404094696045, 1.9053897857666016, 1.9157261848449707, 1.925987958908081, 1.9362950325012207, 1.9466092586517334, 1.9569149017333984, 1.9672248363494873, 1.9774837493896484, 1.9878201484680176, 1.9981286525726318, 2.0084376335144043, 2.018773317337036, 2.0290942192077637, 2.0394155979156494, 2.0496718883514404, 2.059994697570801, 2.0703094005584717, 2.0806169509887695, 2.0909340381622314, 2.101189613342285, 2.111501932144165, 2.121762752532959, 2.1320719718933105, 2.1424050331115723, 2.152738332748413, 2.1630501747131348, 2.1732993125915527, 2.1836154460906982, 2.193868637084961, 2.2041893005371094, 2.2144935131073, 2.2248263359069824, 2.2351491451263428, 2.2454094886779785, 2.2557480335235596, 2.266011953353882, 2.2763283252716064, 2.2866363525390625, 2.2969470024108887, 2.3072640895843506, 2.317521333694458, 2.3278636932373047, 2.3381612300872803, 2.3484692573547363, 2.3588151931762695, 2.369126081466675, 2.3794374465942383, 2.3897104263305664, 2.400041103363037, 2.4103636741638184, 2.4206743240356445, 2.430997133255005, 2.441260576248169, 2.451561450958252, 2.4618208408355713, 2.4721341133117676, 2.482442617416382, 2.4927866458892822, 2.503103733062744, 2.513359785079956, 2.5236754417419434, 2.534010648727417, 2.544325351715088, 2.554640293121338, 2.564932107925415, 2.575244903564453, 2.5855047702789307, 2.595837354660034, 2.6061112880706787, 2.6164186000823975, 2.626753330230713, 2.637007474899292, 2.64731764793396, 2.657575845718384, 2.6678872108459473, 2.6781327724456787, 2.6884515285491943, 2.6987838745117188, 2.7090394496917725, 2.719353675842285, 2.729611396789551, 2.739922523498535, 2.7501742839813232, 2.7604830265045166, 2.770817756652832, 2.7810933589935303, 2.7914183139801025, 2.8016867637634277, 2.812000036239624, 2.822322368621826, 2.832634449005127, 2.8429458141326904, 2.853200674057007, 2.8635244369506836, 2.8737900257110596, 2.8840999603271484, 2.894421339035034, 2.904768466949463, 2.9150843620300293, 2.9253385066986084, 2.9356577396392822, 2.9459750652313232, 2.9562888145446777, 2.9665961265563965, 2.9769115447998047, 2.987229108810425, 2.9974896907806396, 3.0078279972076416, 3.0180866718292236, 3.0284032821655273, 3.0387609004974365, 3.0490214824676514, 3.0593440532684326, 3.0695865154266357, 3.0798940658569336, 3.0901432037353516, 3.1004579067230225, 3.110788583755493, 3.121034860610962, 3.1313514709472656, 3.1415975093841553, 3.1519155502319336, 3.162166118621826, 3.1724765300750732, 3.1828200817108154, 3.1930758953094482, 3.2033884525299072, 3.2136483192443848, 3.223968505859375, 3.2342944145202637, 3.2446281909942627, 3.255018472671509, 3.265366554260254, 3.275818347930908, 3.286160945892334, 3.2965517044067383, 3.306952953338623, 3.3172926902770996, 3.3277018070220947, 3.3380722999572754, 3.348465919494629, 3.358886480331421, 3.369224786758423, 3.37962007522583, 3.38997483253479, 3.400383710861206, 3.410806894302368, 3.421144485473633, 3.431541681289673, 3.4418959617614746, 3.4522969722747803, 3.462705135345459, 3.4730453491210938, 3.4834482669830322, 3.4937984943389893, 3.504194736480713, 3.5145881175994873, 3.5250113010406494, 3.535414695739746, 3.545755624771118, 3.5561439990997314, 3.5665512084960938, 3.5769712924957275, 3.5873711109161377, 3.5977370738983154, 3.608128070831299, 3.6185216903686523, 3.6288809776306152, 3.6392812728881836, 3.649634838104248, 3.660043716430664, 3.6704351902008057, 3.680870532989502, 3.6912662982940674, 3.7016055583953857, 3.7119927406311035, 3.722383499145508, 3.7328033447265625, 3.74318790435791, 3.7535204887390137, 3.7639381885528564, 3.77426815032959, 3.7846717834472656, 3.7950375080108643, 3.80525279045105, 3.8155786991119385, 3.8259270191192627, 3.836388111114502, 3.8467702865600586, 3.857126235961914, 3.867532730102539, 3.8778696060180664, 3.8882498741149902, 3.898660898208618, 3.9090118408203125, 3.9193148612976074, 3.9295289516448975, 3.9399657249450684, 3.950289487838745, 3.960700273513794, 3.971100091934204, 3.9814751148223877, 3.9917824268341064, 4.002120733261108, 4.012444019317627, 4.022768974304199, 4.033075571060181, 4.0434112548828125, 4.053757429122925, 4.06415057182312, 4.07455849647522, 4.084961414337158, 4.095251083374023, 4.105559587478638, 4.115888595581055, 4.12611985206604, 4.136443614959717, 4.146888017654419, 4.1572206020355225, 4.167561054229736, 4.177936553955078, 4.188333749771118, 4.198633193969727, 4.209009885787964, 4.2193169593811035, 4.229537010192871, 4.239910125732422, 4.2502121925354, 4.260551691055298, 4.27090859413147, 4.281204462051392, 4.291506767272949, 4.301811933517456, 4.31218147277832, 4.322476625442505, 4.332773923873901, 4.343088388442993, 4.3534040451049805, 4.36374044418335, 4.374147415161133, 4.384453296661377, 4.394793748855591, 4.4051008224487305, 4.415482997894287, 4.425833225250244, 4.436166524887085, 4.446491003036499, 4.456830263137817, 4.467030763626099, 4.477319717407227, 4.487605094909668, 4.497938871383667, 4.508257865905762, 4.518580198287964, 4.528919696807861, 4.539238929748535, 4.54954195022583, 4.559860467910767, 4.570058822631836, 4.580358982086182, 4.590670347213745, 4.6009321212768555, 4.611242771148682, 4.621572732925415, 4.63191819190979, 4.642239570617676, 4.6525232791900635, 4.662861585617065, 4.673212766647339, 4.683567762374878, 4.693918943405151, 4.704128742218018, 4.714498519897461, 4.724898099899292, 4.735267877578735, 4.745590448379517, 4.755929470062256, 4.766240835189819, 4.7765772342681885, 4.786933898925781, 4.797225475311279, 4.807621479034424, 4.817952394485474, 4.8282928466796875, 4.838606357574463, 4.848878860473633, 4.859110355377197, 4.869474172592163, 4.879802465438843, 4.890125513076782, 4.900514841079712, 4.9109086990356445, 4.921209335327148, 4.931484222412109, 4.941728353500366, 4.952041864395142, 4.962398290634155, 4.972694158554077, 4.982959270477295, 4.993143320083618, 5.003500938415527, 5.013817310333252, 5.024181127548218, 5.034563064575195, 5.044948101043701, 5.0552778244018555, 5.065598726272583, 5.075850963592529, 5.08606743812561, 5.0963287353515625, 5.106648921966553, 5.1168763637542725, 5.127086877822876, 5.137292385101318, 5.147665977478027, 5.158053398132324, 5.168470859527588, 5.1788718700408936, 5.1892030239105225, 5.199592113494873, 5.209926605224609, 5.220273494720459, 5.230636835098267, 5.240969657897949, 5.2512428760528564, 5.261514663696289, 5.271825790405273, 5.282058477401733, 5.29237174987793, 5.302797079086304, 5.313040733337402, 5.323411226272583, 5.333818435668945, 5.344107627868652, 5.354490756988525, 5.364905595779419, 5.3752055168151855, 5.385528326034546, 5.395862817764282, 5.406175851821899, 5.4164862632751465, 5.42685079574585, 5.43717098236084, 5.447493076324463, 5.457830429077148, 5.4681077003479, 5.47843337059021, 5.488779067993164, 5.4991655349731445, 5.509413957595825, 5.519742250442505, 5.530035495758057, 5.540334463119507, 5.55060076713562, 5.560964107513428, 5.571260929107666, 5.581465721130371, 5.591841220855713, 5.60216498374939, 5.612530946731567, 5.6229212284088135, 5.633203744888306, 5.643524169921875, 5.6538214683532715, 5.664110422134399, 5.674419164657593, 5.684805870056152, 5.695091962814331, 5.7053728103637695, 5.715647459030151, 5.7258079051971436, 5.736101150512695, 5.746382713317871, 5.756623029708862, 5.7669358253479, 5.777290105819702, 5.787765264511108, 5.7980852127075195, 5.808396339416504, 5.81872820854187, 5.829022407531738, 5.8393096923828125, 5.849549770355225, 5.8598527908325195, 5.8701701164245605, 5.880367040634155, 5.890668153762817, 5.900980234146118, 5.911283016204834, 5.92162823677063, 5.931988716125488, 5.942176342010498, 5.9524829387664795, 5.962804794311523, 5.973003387451172, 5.98328709602356, 5.993481159210205, 6.003814697265625, 6.014045000076294, 6.024282693862915, 6.034510850906372, 6.044772386550903, 6.054992914199829, 6.065154075622559, 6.075375556945801, 6.085536479949951, 6.095779180526733, 6.106053113937378, 6.116274356842041, 6.126495838165283, 6.136733293533325, 6.146954774856567, 6.157113313674927, 6.167344331741333, 6.177506923675537, 6.187748908996582, 6.197921276092529, 6.208138704299927, 6.218360185623169, 6.228594779968262, 6.238816499710083, 6.248974561691284, 6.259195566177368, 6.269354343414307, 6.2795751094818115, 6.289755582809448, 6.29993748664856, 6.310070276260376, 6.320207834243774, 6.3304526805877686, 6.3407323360443115, 6.350952625274658, 6.361111164093018, 6.371331453323364, 6.3814873695373535, 6.39173150062561, 6.4019036293029785, 6.412121057510376, 6.422341823577881, 6.432563066482544, 6.442782640457153, 6.452940225601196, 6.4631617069244385, 6.473319053649902, 6.4835381507873535, 6.493704319000244, 6.503920078277588, 6.514075756072998, 6.524293899536133, 6.534516096115112, 6.544893026351929, 6.555285215377808, 6.565621614456177, 6.576030015945435, 6.586427211761475, 6.596864700317383, 6.607263565063477, 6.617589473724365, 6.6279895305633545, 6.638386011123657, 6.648818016052246, 6.6592116355896, 6.6695475578308105, 6.6799609661102295, 6.6903135776519775, 6.700733661651611, 6.711128234863281, 6.721461534500122, 6.731882333755493, 6.742219686508179, 6.75262713432312, 6.763025283813477, 6.7733659744262695, 6.783792734146118, 6.794193267822266, 6.804530143737793, 6.814946174621582, 6.8252854347229, 6.835692644119263, 6.846107006072998, 6.856502532958984, 6.866932153701782, 6.877269268035889, 6.887675523757935, 6.898106098175049, 6.9085071086883545, 6.918921709060669, 6.929262399673462, 6.939664125442505, 6.950048446655273, 6.960452079772949, 6.970867156982422, 6.981271028518677, 6.991671085357666, 7.002108335494995, 7.012522459030151, 7.022936820983887, 7.033275365829468, 7.043691873550415, 7.054107189178467, 7.064508438110352, 7.074923038482666, 7.085259437561035, 7.095667839050293, 7.106096982955933, 7.116499662399292, 7.126930475234985, 7.13727879524231, 7.147706508636475, 7.158074855804443, 7.168477535247803, 7.178900480270386, 7.189301490783691, 7.199643850326538, 7.209996938705444, 7.220403432846069, 7.23084020614624, 7.241187810897827, 7.251592636108398, 7.262007236480713, 7.272389888763428, 7.282694101333618, 7.293011903762817, 7.303201198577881, 7.313333511352539, 7.323690891265869, 7.3340160846710205, 7.3442559242248535, 7.3545002937316895, 7.364836931228638, 7.375072956085205, 7.385262966156006, 7.395413875579834, 7.405729532241821, 7.416082859039307, 7.426329135894775, 7.4365622997283936, 7.446852922439575, 7.457007646560669, 7.467225790023804, 7.47737979888916, 7.487596750259399, 7.497754096984863, 7.507967948913574, 7.518117666244507, 7.528268814086914, 7.538481950759888, 7.548705101013184, 7.558930397033691, 7.569084882736206, 7.579299688339233, 7.589452743530273, 7.599665880203247, 7.609882593154907, 7.6200971603393555, 7.630312919616699, 7.6405229568481445, 7.6507651805877686, 7.660918951034546, 7.671133756637573, 7.681287050247192, 7.691500902175903, 7.701655149459839, 7.711867332458496, 7.72201681137085, 7.732229948043823, 7.742442846298218, 7.7526538372039795, 7.762872695922852, 7.773025989532471, 7.783240556716919, 7.793393135070801, 7.803607940673828, 7.813761472702026, 7.823975563049316, 7.834126949310303, 7.844339847564697, 7.854553937911987, 7.864788055419922, 7.874998092651367, 7.885152578353882, 7.89536714553833, 7.905520439147949, 7.915754795074463, 7.925920724868774, 7.936062335968018, 7.946290969848633, 7.956452369689941, 7.966670513153076, 7.976889371871948, 7.987110376358032, 7.997265577316284, 8.007479429244995, 8.017631530761719, 8.02784276008606, 8.037991046905518, 8.048205852508545, 8.058419942855835, 8.068633317947388, 8.078847885131836, 8.08899712562561, 8.099210977554321, 8.109360456466675, 8.119574546813965, 8.129746913909912, 8.139896392822266, 8.150112628936768, 8.160325050354004, 8.170539140701294, 8.180771112442017, 8.190983772277832, 8.201132535934448, 8.211347818374634, 8.221496820449829, 8.23172903060913, 8.241880655288696, 8.252092361450195, 8.262307405471802, 8.272521018981934, 8.282754898071289, 8.292903900146484, 8.303120136260986, 8.31326937675476, 8.323485136032104, 8.333635091781616, 8.343846321105957, 8.353995323181152, 8.364209175109863, 8.374426126480103, 8.38463807106018, 8.39485239982605, 8.405000925064087, 8.415215969085693, 8.425366878509521, 8.43558144569397, 8.445738315582275, 8.456122875213623, 8.466521978378296, 8.476961374282837, 8.487373113632202, 8.4977548122406, 8.508161067962646, 8.518560886383057, 8.528984308242798, 8.539408922195435, 8.54976749420166, 8.560172319412231, 8.570577621459961, 8.581018686294556, 8.591432571411133, 8.601790189743042, 8.612194776535034, 8.622530698776245, 8.632962703704834, 8.643378734588623, 8.65373706817627, 8.664146423339844, 8.674565315246582, 8.684997081756592, 8.695410251617432, 8.705765724182129, 8.716180801391602, 8.726595640182495, 8.737000465393066, 8.747419118881226, 8.75775146484375, 8.768161058425903, 8.778567552566528, 8.788993835449219, 8.7994065284729, 8.809764862060547, 8.820172309875488, 8.830582618713379, 8.841015100479126, 8.851427793502808, 8.861776351928711, 8.872185707092285, 8.88259243965149, 8.893011569976807, 8.903427362442017, 8.913782358169556, 8.924194812774658, 8.934598207473755, 8.945015907287598, 8.955416917800903, 8.965620517730713, 8.975846529006958, 8.986000776290894, 8.99621868133545, 9.006443977355957, 9.016663312911987, 9.026883363723755, 9.03704023361206, 9.047258615493774, 9.057413339614868, 9.067627191543579, 9.077785015106201, 9.087997913360596, 9.098215341567993, 9.108428239822388, 9.118645906448364, 9.128833770751953, 9.139052152633667, 9.149207353591919, 9.159353971481323, 9.169509410858154, 9.179742097854614, 9.189909219741821, 9.200121641159058, 9.210338354110718, 9.2205491065979, 9.230784177780151, 9.240939140319824, 9.251156091690063, 9.261378049850464, 9.271595001220703, 9.28175973892212, 9.291971683502197, 9.302122116088867, 9.312272548675537, 9.322484254837036, 9.332702159881592, 9.342928886413574, 9.353083372116089, 9.363300323486328, 9.373453855514526, 9.383683681488037, 9.393897533416748, 9.404110193252563, 9.41432499885559, 9.42453908920288, 9.434775590896606, 9.44492793083191, 9.455145359039307, 9.465295314788818, 9.475508451461792, 9.48566198348999, 9.495872974395752, 9.506023168563843, 9.516173839569092, 9.526391744613647, 9.536606311798096, 9.54682183265686, 9.556975841522217, 9.567188262939453, 9.57734203338623, 9.587555170059204, 9.59771466255188, 9.6079261302948, 9.618075847625732, 9.62822699546814, 9.638442039489746, 9.648656845092773, 9.658871173858643, 9.669024467468262, 9.679240465164185, 9.689393758773804, 9.699605226516724, 9.709397554397583], \"y\": [0.0, 7.53125, 17.53125, 25.53125, 35.73046875, 43.73046875, 53.73046875, 61.73046875, 71.73046875, 79.73046875, 89.73046875, 99.73046875, 107.73046875, 117.73046875, 125.73046875, 135.73046875, 143.73046875, 153.73046875, 161.73046875, 171.73046875, 179.73046875, 189.73046875, 197.73046875, 207.73046875, 215.73046875, 225.73046875, 233.73046875, 243.73046875, 253.73046875, 261.73046875, 271.73046875, 279.73046875, 289.73046875, 297.73046875, 307.73046875, 315.73046875, 325.73046875, 333.73046875, 343.73046875, 351.73046875, 361.73046875, 371.73046875, 379.73046875, 389.73046875, 397.73046875, 407.73046875, 415.73046875, 425.73046875, 433.73046875, 443.73046875, 453.73046875, 461.73046875, 471.73046875, 479.73046875, 489.73046875, 499.73046875, 507.73046875, 517.73046875, 525.73046875, 535.73046875, 543.73046875, 553.73046875, 563.73046875, 571.73046875, 581.73046875, 589.73046875, 599.73046875, 607.73046875, 617.73046875, 627.73046875, 635.73046875, 645.73046875, 653.73046875, 663.73046875, 671.73046875, 681.73046875, 691.73046875, 699.73046875, 709.73046875, 717.73046875, 727.73046875, 735.73046875, 745.73046875, 755.73046875, 763.73046875, 773.73046875, 781.73046875, 791.73046875, 799.73046875, 809.73046875, 819.73046875, 827.73046875, 837.73046875, 845.73046875, 855.73046875, 863.73046875, 873.73046875, 881.73046875, 891.73046875, 899.73046875, 909.73046875, 917.73046875, 927.73046875, 937.73046875, 945.73046875, 955.73046875, 963.73046875, 973.73046875, 981.73046875, 991.73046875, 999.73046875, 1009.73046875, 1017.73046875, 1027.73046875, 1037.73046875, 1045.73046875, 1055.73046875, 1063.73046875, 1073.73046875, 1083.73046875, 1091.73046875, 1101.73046875, 1109.73046875, 1119.73046875, 1127.73046875, 1137.73046875, 1147.73046875, 1155.73046875, 1165.73046875, 1173.73046875, 1183.73046875, 1191.73046875, 1201.73046875, 1209.73046875, 1219.73046875, 1227.73046875, 1237.73046875, 1247.73046875, 1255.73046875, 1265.73046875, 1273.73046875, 1283.73046875, 1291.73046875, 1301.73046875, 1309.73046875, 1319.73046875, 1327.73046875, 1337.73046875, 1347.73046875, 1355.73046875, 1365.73046875, 1373.73046875, 1383.73046875, 1391.73046875, 1401.73046875, 1409.73046875, 1419.73046875, 1427.73046875, 1437.73046875, 1445.73046875, 1455.73046875, 1463.73046875, 1473.73046875, 1483.73046875, 1491.73046875, 1501.73046875, 1509.73046875, 1519.73046875, 1527.73046875, 1537.73046875, 1545.73046875, 1555.73046875, 1563.73046875, 1573.73046875, 1583.73046875, 1591.73046875, 1601.73046875, 1609.73046875, 1619.73046875, 1627.73046875, 1637.73046875, 1645.73046875, 1655.73046875, 1665.73046875, 1673.73046875, 1683.73046875, 1691.73046875, 1701.73046875, 1709.73046875, 1719.73046875, 1729.73046875, 1737.73046875, 1747.73046875, 1755.73046875, 1765.73046875, 1773.73046875, 1783.73046875, 1793.73046875, 1801.73046875, 1811.73046875, 1819.73046875, 1829.73046875, 1837.73046875, 1847.73046875, 1855.73046875, 1865.73046875, 1875.73046875, 1883.73046875, 1893.73046875, 1901.73046875, 1911.73046875, 1919.73046875, 1929.73046875, 1937.73046875, 1947.73046875, 1955.73046875, 1965.73046875, 1975.73046875, 1983.73046875, 1993.73046875, 2001.73046875, 2011.73046875, 2019.73046875, 2029.73046875, 2037.73046875, 2047.73046875, 2057.73046875, 2065.73046875, 2075.73046875, 2083.73046875, 2093.73046875, 2101.73046875, 2111.73046875, 2121.73046875, 2129.73046875, 2139.73046875, 2147.73046875, 2157.73046875, 2165.73046875, 2175.73046875, 2183.73046875, 2193.73046875, 2203.73046875, 2211.73046875, 2221.73046875, 2229.73046875, 2239.73046875, 2247.73046875, 2257.73046875, 2267.73046875, 2275.73046875, 2285.73046875, 2293.73046875, 2303.73046875, 2311.73046875, 2321.73046875, 2329.73046875, 2339.73046875, 2349.73046875, 2357.73046875, 2367.73046875, 2375.73046875, 2385.73046875, 2395.73046875, 2403.73046875, 2413.73046875, 2421.73046875, 2431.73046875, 2439.73046875, 2449.73046875, 2457.73046875, 2467.73046875, 2477.73046875, 2485.73046875, 2495.73046875, 2503.73046875, 2513.73046875, 2521.73046875, 2531.73046875, 2541.73046875, 2549.73046875, 2559.73046875, 2567.73046875, 2577.73046875, 2585.73046875, 2595.73046875, 2605.73046875, 2613.73046875, 2623.73046875, 2631.73046875, 2641.73046875, 2649.73046875, 2659.73046875, 2669.73046875, 2677.73046875, 2687.73046875, 2695.73046875, 2705.73046875, 2713.73046875, 2723.73046875, 2731.73046875, 2741.73046875, 2751.73046875, 2759.73046875, 2769.73046875, 2777.73046875, 2787.73046875, 2795.73046875, 2805.73046875, 2815.73046875, 2823.73046875, 2833.73046875, 2843.73046875, 2850.671875, 2882.95703125, 2918.95703125, 2954.95703125, 2990.95703125, 3026.95703125, 3060.95703125, 3098.95703125, 3132.95703125, 3168.95703125, 3204.95703125, 3240.95703125, 3276.95703125, 3312.95703125, 3348.95703125, 3384.95703125, 3418.95703125, 3454.95703125, 3490.95703125, 3526.95703125, 3562.95703125, 3598.95703125, 3634.95703125, 3668.95703125, 3704.95703125, 3740.95703125, 3776.95703125, 3812.95703125, 3848.95703125, 3884.95703125, 3920.95703125, 3956.95703125, 3992.95703125, 4028.95703125, 4064.95703125, 4100.95703125, 4136.95703125, 4172.95703125, 4208.95703125, 4244.95703125, 4280.95703125, 4316.95703125, 4350.95703125, 4386.95703125, 4422.95703125, 4458.95703125, 4494.95703125, 4530.95703125, 4566.95703125, 4602.95703125, 4638.95703125, 4674.95703125, 4710.95703125, 4746.95703125, 4782.95703125, 4804.95703125, 4836.95703125, 4868.95703125, 4902.95703125, 4938.95703125, 4974.95703125, 4998.95703125, 5012.95703125, 5024.95703125, 5038.95703125, 5056.95703125, 5068.95703125, 5080.95703125, 5104.95703125, 5140.95703125, 5176.95703125, 5198.95703125, 5212.95703125, 5226.95703125, 5242.95703125, 5258.95703125, 5270.95703125, 5286.95703125, 5300.95703125, 5328.95703125, 5364.95703125, 5400.95703125, 5416.95703125, 5432.95703125, 5448.95703125, 5464.95703125, 5480.95703125, 5484.95703125, 5506.95703125, 5542.95703125, 5574.95703125, 5610.95703125, 5642.95703125, 5658.95703125, 5670.95703125, 5680.95703125, 5696.95703125, 5716.125, 5736.125, 5750.125, 5761.96484375, 5773.96484375, 5775.9921875, 5790.1171875, 5804.1171875, 5806.1171875, 5820.046875, 5834.171875, 5856.18359375, 5878.18359375, 5898.18359375, 5916.18359375, 5936.18359375, 5954.18359375, 5974.18359375, 5996.18359375, 6018.18359375, 6040.18359375, 6062.18359375, 6082.18359375, 6104.18359375, 6126.18359375, 6144.18359375, 6166.18359375, 6186.18359375, 6206.18359375, 6226.18359375, 6248.18359375, 6268.18359375, 6290.18359375, 6312.18359375, 6334.18359375, 6356.18359375, 6376.18359375, 6400.18359375, 6420.18359375, 6442.18359375, 6462.18359375, 6464.0859375, 6480.0859375, 6514.0859375, 6548.18359375, 6582.18359375, 6616.18359375, 6648.18359375, 6672.18359375, 6690.1015625, 6701.9609375, 6713.9609375, 6730.18359375, 6746.18359375, 6756.18359375, 6766.18359375, 6780.18359375, 6786.18359375, 6791.984375, 6805.984375, 6812.078125, 6826.1328125, 6846.1328125, 6862.1328125, 6882.1328125, 6898.1328125, 6912.1328125, 6914.01953125, 6927.94140625, 6944.12890625, 6956.12890625, 6959.953125, 6975.6796875, 6990.1171875, 7000.171875, 7018.171875, 7032.171875, 7044.171875, 7056.171875, 7066.171875, 7072.09765625, 7083.96484375, 7094.00390625, 7104.31640625, 7119.52734375, 7127.96875, 7142.1484375, 7158.0078125, 7172.171875, 7188.171875, 7204.171875, 7218.171875, 7234.171875, 7250.171875, 7266.171875, 7280.171875, 7306.18359375, 7338.18359375, 7356.18359375, 7363.99609375, 7374.2421875, 7386.1015625, 7401.50390625, 7418.07421875, 7442.07421875, 7466.07421875, 7482.07421875, 7500.18359375, 7512.18359375, 7526.18359375, 7542.18359375, 7554.18359375, 7572.18359375, 7592.18359375, 7610.18359375, 7626.18359375, 7648.18359375, 7666.18359375, 7688.18359375, 7694.18359375, 7705.96875, 7728.18359375, 7748.18359375, 7759.7265625, 7772.6171875, 7788.1640625, 7796.51171875, 7811.98046875, 7824.16796875, 7841.9375, 7857.1484375, 7868.109375, 7886.109375, 7902.109375, 7916.109375, 7930.109375, 7937.515625, 7948.0859375, 7959.9453125, 7978.18359375, 7998.18359375, 8004.05859375, 8015.40234375, 8024.875, 8040.0859375, 8051.9453125, 8064.0, 8066.0, 8100.0, 8134.18359375, 8168.18359375, 8202.18359375, 8223.94921875, 8238.38671875, 8248.18359375, 8260.18359375, 8270.18359375, 8286.18359375, 8304.18359375, 8322.18359375, 8340.18359375, 8358.18359375, 8374.18359375, 8392.18359375, 8410.18359375, 8428.18359375, 8444.18359375, 8462.18359375, 8478.18359375, 8496.18359375, 8512.18359375, 8528.18359375, 8546.18359375, 8554.85546875, 8554.85546875, 8554.85546875, 8554.85546875, 8554.85546875, 8554.85546875, 8554.85546875, 8554.85546875, 8554.85546875, 8554.85546875, 8554.85546875, 8554.85546875, 8554.85546875, 8554.85546875, 8554.85546875, 8554.85546875, 8554.85546875, 8554.85546875, 8554.85546875, 8554.85546875, 8554.85546875, 8554.85546875, 8554.85546875, 8554.85546875, 8554.85546875, 8554.85546875, 8554.85546875, 8554.85546875, 8554.85546875, 8554.85546875, 8554.85546875, 8554.85546875, 8554.85546875, 8554.85546875, 8554.85546875, 8554.85546875, 8554.85546875, 8554.85546875, 8554.85546875, 8554.85546875, 8554.85546875, 8554.85546875, 8554.85546875, 8554.85546875, 8554.85546875, 8554.85546875, 8554.85546875, 8554.85546875, 8554.85546875, 8554.85546875, 7143.9140625, 6022.328125, 5734.0, 5770.18359375, 5806.18359375, 5842.18359375, 5880.18359375, 5916.18359375, 5952.18359375, 5988.18359375, 6024.18359375, 6060.18359375, 6096.18359375, 6132.18359375, 6168.18359375, 6204.18359375, 6240.18359375, 6276.18359375, 6312.18359375, 6348.18359375, 6384.18359375, 6420.18359375, 6458.18359375, 6494.18359375, 6528.18359375, 6564.18359375, 6600.18359375, 6636.18359375, 6672.18359375, 6708.18359375, 6744.18359375, 6780.18359375, 6816.18359375, 6854.18359375, 6890.18359375, 6924.18359375, 6960.18359375, 6996.18359375, 7032.18359375, 7068.18359375, 7104.18359375, 7140.18359375, 7176.18359375, 7212.18359375, 7248.18359375, 7286.18359375, 7322.18359375, 7358.18359375, 7394.18359375, 7430.18359375, 7466.18359375, 7502.18359375, 7538.18359375, 7574.18359375, 7610.18359375, 7646.18359375, 7682.18359375, 7720.18359375, 7756.18359375, 7792.18359375, 7828.18359375, 7864.18359375, 7900.18359375, 7936.18359375, 7972.18359375, 8008.18359375, 8044.18359375, 8080.18359375, 8116.18359375, 8152.18359375, 8188.18359375, 8208.18359375, 8226.18359375, 8240.18359375, 8256.18359375, 8272.18359375, 8290.18359375, 8294.18359375, 8310.16015625, 8338.16015625, 8372.16015625, 8404.16015625, 8438.18359375, 8472.18359375, 8502.18359375, 8536.18359375, 8554.6875, 8554.6875, 8554.6875, 8554.6875, 8554.6875, 8554.6875, 8554.6875, 8554.6875, 8554.6875, 8554.6875, 8554.6875, 8554.6875, 8554.6875, 8554.6875, 8554.6875, 8554.6875, 8554.6875, 8554.6875, 8554.6875, 8554.6875, 8554.6875, 8554.6875, 8554.6875, 8554.6875, 8554.6875, 8554.6875, 8554.6875, 8554.6875, 8554.6875, 8554.6875, 8554.6875, 8554.6875, 8554.6875, 8554.6875, 8554.6875, 8554.6875, 8554.6875, 8554.6875, 8554.6875, 8554.6875, 8554.6875, 8554.6875, 8554.6875, 8554.6875, 8554.6875, 8554.6875, 8554.6875, 8554.6875, 8554.6875, 8554.6875, 5703.2421875, 5703.2421875, 5703.2421875, 5703.2421875, 5703.2421875, 5703.2421875, 5703.2421875, 5703.2421875, 5703.2421875, 5703.2421875, 5703.2421875, 5703.2421875, 5703.2421875, 5703.2421875, 5703.2421875, 5703.2421875, 5703.2421875, 5703.2421875, 5703.2421875, 5703.2421875, 5703.2421875, 5703.2421875, 5703.2421875, 5703.2421875, 5703.2421875, 5703.2421875, 5703.2421875, 5703.2421875, 5703.2421875, 5703.2421875, 5703.2421875, 5703.2421875, 5703.2421875, 5703.2421875, 5703.2421875, 5703.2421875, 5703.2421875, 5703.2421875, 5703.2421875, 5703.2421875, 5703.2421875, 5703.2421875, 5703.2421875, 5703.2421875, 5703.2421875, 5703.2421875, 5703.2421875, 5703.2421875, 5703.2421875, 5703.2421875, 5703.2421875, 2858.91015625, 2916.91015625, 2974.95703125, 3032.95703125, 3092.95703125, 3150.95703125, 3208.95703125, 3266.95703125, 3326.95703125, 3384.95703125, 3442.95703125, 3500.95703125, 3558.95703125, 3618.95703125, 3676.95703125, 3734.95703125, 3792.95703125, 3850.95703125, 3910.95703125, 3968.95703125, 4026.95703125, 4084.95703125, 4144.95703125, 4202.95703125, 4260.95703125, 4318.95703125, 4378.95703125, 4436.95703125, 4494.95703125, 4554.95703125, 4612.95703125, 4670.95703125, 4728.95703125, 4788.95703125, 4846.95703125, 4904.95703125, 4962.95703125, 5022.95703125, 5080.95703125, 5138.95703125, 5196.95703125, 5256.95703125, 5314.95703125, 5372.95703125, 5430.95703125, 5490.95703125, 5548.95703125, 5606.95703125, 5664.95703125, 5703.015625, 5703.015625, 5703.015625, 5703.015625, 5703.015625, 5703.015625, 5703.015625, 5703.015625, 5703.015625, 5703.015625, 5703.015625, 5703.015625, 5703.015625, 5703.015625, 5703.015625, 5703.015625, 5703.015625, 5703.015625, 5703.015625, 5703.015625, 5703.015625, 5703.015625, 5703.015625, 5703.015625, 5703.015625, 5703.015625, 5703.015625, 5703.015625, 5703.015625, 5703.015625, 5703.015625, 5703.015625, 5703.015625, 5703.015625, 5703.015625, 5703.015625, 5703.015625, 5703.015625, 5703.015625, 5703.015625, 5703.015625, 5703.015625, 5703.015625, 5703.015625, 5703.015625, 5703.015625, 5703.015625, 5703.015625, 5703.015625, 5703.015625, 5703.015625, 5703.015625, 5703.015625, 5703.015625, 5703.015625, 5703.015625, 5703.015625, 5703.015625, 5703.015625, 5703.015625, 5703.015625, 5703.015625, 5703.015625, 5703.015625, 5703.015625, 5703.015625, 5703.015625, 5703.015625, 5703.015625, 5703.015625, 5703.015625, 5703.015625, 5703.015625, 5703.015625, 2851.62890625]}],                        {\"template\": {\"data\": {\"bar\": [{\"error_x\": {\"color\": \"#2a3f5f\"}, \"error_y\": {\"color\": \"#2a3f5f\"}, \"marker\": {\"line\": {\"color\": \"#E5ECF6\", \"width\": 0.5}}, \"type\": \"bar\"}], \"barpolar\": [{\"marker\": {\"line\": {\"color\": \"#E5ECF6\", \"width\": 0.5}}, \"type\": \"barpolar\"}], \"carpet\": [{\"aaxis\": {\"endlinecolor\": \"#2a3f5f\", \"gridcolor\": \"white\", \"linecolor\": \"white\", \"minorgridcolor\": \"white\", \"startlinecolor\": \"#2a3f5f\"}, \"baxis\": {\"endlinecolor\": \"#2a3f5f\", \"gridcolor\": \"white\", \"linecolor\": \"white\", \"minorgridcolor\": \"white\", \"startlinecolor\": \"#2a3f5f\"}, \"type\": \"carpet\"}], \"choropleth\": [{\"colorbar\": {\"outlinewidth\": 0, \"ticks\": \"\"}, \"type\": \"choropleth\"}], \"contour\": [{\"colorbar\": {\"outlinewidth\": 0, \"ticks\": \"\"}, \"colorscale\": [[0.0, \"#0d0887\"], [0.1111111111111111, \"#46039f\"], [0.2222222222222222, \"#7201a8\"], [0.3333333333333333, \"#9c179e\"], [0.4444444444444444, \"#bd3786\"], [0.5555555555555556, \"#d8576b\"], [0.6666666666666666, \"#ed7953\"], [0.7777777777777778, \"#fb9f3a\"], [0.8888888888888888, \"#fdca26\"], [1.0, \"#f0f921\"]], \"type\": \"contour\"}], \"contourcarpet\": [{\"colorbar\": {\"outlinewidth\": 0, \"ticks\": \"\"}, \"type\": \"contourcarpet\"}], \"heatmap\": [{\"colorbar\": {\"outlinewidth\": 0, \"ticks\": \"\"}, \"colorscale\": [[0.0, \"#0d0887\"], [0.1111111111111111, \"#46039f\"], [0.2222222222222222, \"#7201a8\"], [0.3333333333333333, \"#9c179e\"], [0.4444444444444444, \"#bd3786\"], [0.5555555555555556, \"#d8576b\"], [0.6666666666666666, \"#ed7953\"], [0.7777777777777778, \"#fb9f3a\"], [0.8888888888888888, \"#fdca26\"], [1.0, \"#f0f921\"]], \"type\": \"heatmap\"}], \"heatmapgl\": [{\"colorbar\": {\"outlinewidth\": 0, \"ticks\": \"\"}, \"colorscale\": [[0.0, \"#0d0887\"], [0.1111111111111111, \"#46039f\"], [0.2222222222222222, \"#7201a8\"], [0.3333333333333333, \"#9c179e\"], [0.4444444444444444, \"#bd3786\"], [0.5555555555555556, \"#d8576b\"], [0.6666666666666666, \"#ed7953\"], [0.7777777777777778, \"#fb9f3a\"], [0.8888888888888888, \"#fdca26\"], [1.0, \"#f0f921\"]], \"type\": \"heatmapgl\"}], \"histogram\": [{\"marker\": {\"colorbar\": {\"outlinewidth\": 0, \"ticks\": \"\"}}, \"type\": \"histogram\"}], \"histogram2d\": [{\"colorbar\": {\"outlinewidth\": 0, \"ticks\": \"\"}, \"colorscale\": [[0.0, \"#0d0887\"], [0.1111111111111111, \"#46039f\"], [0.2222222222222222, \"#7201a8\"], [0.3333333333333333, \"#9c179e\"], [0.4444444444444444, \"#bd3786\"], [0.5555555555555556, \"#d8576b\"], [0.6666666666666666, \"#ed7953\"], [0.7777777777777778, \"#fb9f3a\"], [0.8888888888888888, \"#fdca26\"], [1.0, \"#f0f921\"]], \"type\": \"histogram2d\"}], \"histogram2dcontour\": [{\"colorbar\": {\"outlinewidth\": 0, \"ticks\": \"\"}, \"colorscale\": [[0.0, \"#0d0887\"], [0.1111111111111111, \"#46039f\"], [0.2222222222222222, \"#7201a8\"], [0.3333333333333333, \"#9c179e\"], [0.4444444444444444, \"#bd3786\"], [0.5555555555555556, \"#d8576b\"], [0.6666666666666666, \"#ed7953\"], [0.7777777777777778, \"#fb9f3a\"], [0.8888888888888888, \"#fdca26\"], [1.0, \"#f0f921\"]], \"type\": \"histogram2dcontour\"}], \"mesh3d\": [{\"colorbar\": {\"outlinewidth\": 0, \"ticks\": \"\"}, \"type\": \"mesh3d\"}], \"parcoords\": [{\"line\": {\"colorbar\": {\"outlinewidth\": 0, \"ticks\": \"\"}}, \"type\": \"parcoords\"}], \"pie\": [{\"automargin\": true, \"type\": \"pie\"}], \"scatter\": [{\"marker\": {\"colorbar\": {\"outlinewidth\": 0, \"ticks\": \"\"}}, \"type\": \"scatter\"}], \"scatter3d\": [{\"line\": {\"colorbar\": {\"outlinewidth\": 0, \"ticks\": \"\"}}, \"marker\": {\"colorbar\": {\"outlinewidth\": 0, \"ticks\": \"\"}}, \"type\": \"scatter3d\"}], \"scattercarpet\": [{\"marker\": {\"colorbar\": {\"outlinewidth\": 0, \"ticks\": \"\"}}, \"type\": \"scattercarpet\"}], \"scattergeo\": [{\"marker\": {\"colorbar\": {\"outlinewidth\": 0, \"ticks\": \"\"}}, \"type\": \"scattergeo\"}], \"scattergl\": [{\"marker\": {\"colorbar\": {\"outlinewidth\": 0, \"ticks\": \"\"}}, \"type\": \"scattergl\"}], \"scattermapbox\": [{\"marker\": {\"colorbar\": {\"outlinewidth\": 0, \"ticks\": \"\"}}, \"type\": \"scattermapbox\"}], \"scatterpolar\": [{\"marker\": {\"colorbar\": {\"outlinewidth\": 0, \"ticks\": \"\"}}, \"type\": \"scatterpolar\"}], \"scatterpolargl\": [{\"marker\": {\"colorbar\": {\"outlinewidth\": 0, \"ticks\": \"\"}}, \"type\": \"scatterpolargl\"}], \"scatterternary\": [{\"marker\": {\"colorbar\": {\"outlinewidth\": 0, \"ticks\": \"\"}}, \"type\": \"scatterternary\"}], \"surface\": [{\"colorbar\": {\"outlinewidth\": 0, \"ticks\": \"\"}, \"colorscale\": [[0.0, \"#0d0887\"], [0.1111111111111111, \"#46039f\"], [0.2222222222222222, \"#7201a8\"], [0.3333333333333333, \"#9c179e\"], [0.4444444444444444, \"#bd3786\"], [0.5555555555555556, \"#d8576b\"], [0.6666666666666666, \"#ed7953\"], [0.7777777777777778, \"#fb9f3a\"], [0.8888888888888888, \"#fdca26\"], [1.0, \"#f0f921\"]], \"type\": \"surface\"}], \"table\": [{\"cells\": {\"fill\": {\"color\": \"#EBF0F8\"}, \"line\": {\"color\": \"white\"}}, \"header\": {\"fill\": {\"color\": \"#C8D4E3\"}, \"line\": {\"color\": \"white\"}}, \"type\": \"table\"}]}, \"layout\": {\"annotationdefaults\": {\"arrowcolor\": \"#2a3f5f\", \"arrowhead\": 0, \"arrowwidth\": 1}, \"autotypenumbers\": \"strict\", \"coloraxis\": {\"colorbar\": {\"outlinewidth\": 0, \"ticks\": \"\"}}, \"colorscale\": {\"diverging\": [[0, \"#8e0152\"], [0.1, \"#c51b7d\"], [0.2, \"#de77ae\"], [0.3, \"#f1b6da\"], [0.4, \"#fde0ef\"], [0.5, \"#f7f7f7\"], [0.6, \"#e6f5d0\"], [0.7, \"#b8e186\"], [0.8, \"#7fbc41\"], [0.9, \"#4d9221\"], [1, \"#276419\"]], \"sequential\": [[0.0, \"#0d0887\"], [0.1111111111111111, \"#46039f\"], [0.2222222222222222, \"#7201a8\"], [0.3333333333333333, \"#9c179e\"], [0.4444444444444444, \"#bd3786\"], [0.5555555555555556, \"#d8576b\"], [0.6666666666666666, \"#ed7953\"], [0.7777777777777778, \"#fb9f3a\"], [0.8888888888888888, \"#fdca26\"], [1.0, \"#f0f921\"]], \"sequentialminus\": [[0.0, \"#0d0887\"], [0.1111111111111111, \"#46039f\"], [0.2222222222222222, \"#7201a8\"], [0.3333333333333333, \"#9c179e\"], [0.4444444444444444, \"#bd3786\"], [0.5555555555555556, \"#d8576b\"], [0.6666666666666666, \"#ed7953\"], [0.7777777777777778, \"#fb9f3a\"], [0.8888888888888888, \"#fdca26\"], [1.0, \"#f0f921\"]]}, \"colorway\": [\"#636efa\", \"#EF553B\", \"#00cc96\", \"#ab63fa\", \"#FFA15A\", \"#19d3f3\", \"#FF6692\", \"#B6E880\", \"#FF97FF\", \"#FECB52\"], \"font\": {\"color\": \"#2a3f5f\"}, \"geo\": {\"bgcolor\": \"white\", \"lakecolor\": \"white\", \"landcolor\": \"#E5ECF6\", \"showlakes\": true, \"showland\": true, \"subunitcolor\": \"white\"}, \"hoverlabel\": {\"align\": \"left\"}, \"hovermode\": \"closest\", \"mapbox\": {\"style\": \"light\"}, \"paper_bgcolor\": \"white\", \"plot_bgcolor\": \"#E5ECF6\", \"polar\": {\"angularaxis\": {\"gridcolor\": \"white\", \"linecolor\": \"white\", \"ticks\": \"\"}, \"bgcolor\": \"#E5ECF6\", \"radialaxis\": {\"gridcolor\": \"white\", \"linecolor\": \"white\", \"ticks\": \"\"}}, \"scene\": {\"xaxis\": {\"backgroundcolor\": \"#E5ECF6\", \"gridcolor\": \"white\", \"gridwidth\": 2, \"linecolor\": \"white\", \"showbackground\": true, \"ticks\": \"\", \"zerolinecolor\": \"white\"}, \"yaxis\": {\"backgroundcolor\": \"#E5ECF6\", \"gridcolor\": \"white\", \"gridwidth\": 2, \"linecolor\": \"white\", \"showbackground\": true, \"ticks\": \"\", \"zerolinecolor\": \"white\"}, \"zaxis\": {\"backgroundcolor\": \"#E5ECF6\", \"gridcolor\": \"white\", \"gridwidth\": 2, \"linecolor\": \"white\", \"showbackground\": true, \"ticks\": \"\", \"zerolinecolor\": \"white\"}}, \"shapedefaults\": {\"line\": {\"color\": \"#2a3f5f\"}}, \"ternary\": {\"aaxis\": {\"gridcolor\": \"white\", \"linecolor\": \"white\", \"ticks\": \"\"}, \"baxis\": {\"gridcolor\": \"white\", \"linecolor\": \"white\", \"ticks\": \"\"}, \"bgcolor\": \"#E5ECF6\", \"caxis\": {\"gridcolor\": \"white\", \"linecolor\": \"white\", \"ticks\": \"\"}}, \"title\": {\"x\": 0.05}, \"xaxis\": {\"automargin\": true, \"gridcolor\": \"white\", \"linecolor\": \"white\", \"ticks\": \"\", \"title\": {\"standoff\": 15}, \"zerolinecolor\": \"white\", \"zerolinewidth\": 2}, \"yaxis\": {\"automargin\": true, \"gridcolor\": \"white\", \"linecolor\": \"white\", \"ticks\": \"\", \"title\": {\"standoff\": 15}, \"zerolinecolor\": \"white\", \"zerolinewidth\": 2}}}, \"title\": {\"text\": \"Transcendental expression\", \"x\": 0.5, \"xanchor\": \"center\", \"y\": 0.9, \"yanchor\": \"top\"}, \"xaxis\": {\"title\": {\"text\": \"Time (in seconds)\"}}, \"yaxis\": {\"title\": {\"text\": \"Memory used (in MiB)\"}}},                        {\"responsive\": true}                    ).then(function(){\n",
       "                            \n",
       "var gd = document.getElementById('d7845745-3868-4e4c-ad31-5160e33ad1ac');\n",
       "var x = new MutationObserver(function (mutations, observer) {{\n",
       "        var display = window.getComputedStyle(gd).display;\n",
       "        if (!display || display === 'none') {{\n",
       "            console.log([gd, 'removed!']);\n",
       "            Plotly.purge(gd);\n",
       "            observer.disconnect();\n",
       "        }}\n",
       "}});\n",
       "\n",
       "// Listen for the removal of the full notebook cells\n",
       "var notebookContainer = gd.closest('#notebook-container');\n",
       "if (notebookContainer) {{\n",
       "    x.observe(notebookContainer, {childList: true});\n",
       "}}\n",
       "\n",
       "// Listen for the clearing of the current output cell\n",
       "var outputEl = gd.closest('.output');\n",
       "if (outputEl) {{\n",
       "    x.observe(outputEl, {childList: true});\n",
       "}}\n",
       "\n",
       "                        })                };                });            </script>        </div>"
      ]
     },
     "metadata": {},
     "output_type": "display_data"
    }
   ],
   "source": [
    "%mprof_plot ia_trans np_trans -t \"Transcendental expression\""
   ]
  },
  {
   "cell_type": "markdown",
   "metadata": {},
   "source": [
    "The picture is quite different for the transcendental expression.  This time ironArray is way faster while consuming *much* less memory."
   ]
  },
  {
   "cell_type": "markdown",
   "metadata": {},
   "source": [
    "### In-deep memory consumption analysis"
   ]
  },
  {
   "cell_type": "markdown",
   "metadata": {
    "pycharm": {
     "name": "#%% md\n"
    }
   },
   "source": [
    "Memory efficiency is critical for ironArray, so let's dig a bit more on the pattern of the memory used for both types of computations.\n",
    "\n",
    "Measuring memory consumption of a Python code in a notebook is challenging because the Python interpreter may decide to free memory at any time, so it is always better to isolate the code that we want to measure in a standalone script and make use of the `mprof` module that comes with the nice `memory_profiler` package.\n",
    "\n",
    "Let's start with ironArray:"
   ]
  },
  {
   "cell_type": "code",
   "execution_count": 14,
   "metadata": {
    "pycharm": {
     "name": "#%%\n"
    }
   },
   "outputs": [
    {
     "name": "stdout",
     "output_type": "stream",
     "text": [
      "mprof.py: Sampling memory every 0.1s\n",
      "running new process\n",
      "running as a Python program...\n"
     ]
    },
    {
     "data": {
      "image/png": "[encoded data removed]",
      "text/plain": [
       "<Figure size 1260x540 with 1 Axes>"
      ]
     },
     "metadata": {
      "needs_background": "light"
     },
     "output_type": "display_data"
    }
   ],
   "source": [
    "%rm iarray_mean_memory.dat\n",
    "%run -m mprof run -o iarray_mean_memory.dat iarray_mean_memory.py\n",
    "%run -m mprof plot iarray_mean_memory.dat -t \"ironArray memory consumption\""
   ]
  },
  {
   "cell_type": "markdown",
   "metadata": {
    "pycharm": {
     "name": "#%% md\n"
    }
   },
   "source": [
    "The first part of the plot is the loading process of the 3 months of precipitation arrays from disk.  This process stops when the 600 MB mark is reached, meaning that the (compressed) data takes that storage in memory.  The part between blue brackets corresponds to the actual mean computation and ~500 MB were needed to host the mean array.  Finally, the yellow brackets show the computation of the transcendental expression (around 700 MB more).  In the end, ironArray has needed a grand total of 1.6 GB so as to evaluate the *two* expresions.\n",
    "\n",
    "Now, let's see what is the memory consumption for NumPy:"
   ]
  },
  {
   "cell_type": "code",
   "execution_count": 15,
   "metadata": {
    "pycharm": {
     "name": "#%%\n"
    },
    "scrolled": false
   },
   "outputs": [
    {
     "name": "stdout",
     "output_type": "stream",
     "text": [
      "mprof.py: Sampling memory every 0.1s\n",
      "running new process\n",
      "running as a Python program...\n"
     ]
    },
    {
     "data": {
      "image/png": "[encoded data removed]",
      "text/plain": [
       "<Figure size 1260x540 with 1 Axes>"
      ]
     },
     "metadata": {
      "needs_background": "light"
     },
     "output_type": "display_data"
    }
   ],
   "source": [
    "%rm numpy_mean_memory.dat\n",
    "%run -m mprof run -o numpy_mean_memory.dat numpy_mean_memory.py\n",
    "%run -m mprof plot numpy_mean_memory.dat -t \"NumPy memory consumption\""
   ]
  },
  {
   "cell_type": "markdown",
   "metadata": {},
   "source": [
    "In this case, the first part of the plot stops around 8.5 GB (the size of the uncompressed dataset).  The section between blue brackets is where the mean is computed.  In this case, NumPy is well optimized, as it does not seem to use big temporaries (and this is part of the reason on why its computation speed is pretty good).  However, the section for the transcendental evaluation (yellow brackets) shows a more complex pattern, with 2 peaks before reaching the end of the computation.  These peaks clearly correspond to the big temporaries that are needed during the evaluation.  In the end, NumPy has needed around 20 GB so as to evaluate the two expressions.  In comparison, ironArray consumes more than 10x less memory for the same task."
   ]
  },
  {
   "cell_type": "markdown",
   "metadata": {
    "pycharm": {
     "name": "#%% md\n"
    }
   },
   "source": [
    "In general, this means that ironArray can perform operations requiring less memory than using non-compressed arrays, while using a similar time (or much less, like e.g. expressions requiring large temporaries or intermediate function evaluation).\n",
    "\n",
    "Finally, when we want to minimize the amount of memory during computations, ironArray can also perform evaluations on arrays that are resident on disk (aka out-of-core) in a completely transparent way.  This is the subject of the 'on-disk' counterpart of this tutorial."
   ]
  },
  {
   "cell_type": "markdown",
   "metadata": {},
   "source": [
    "## Optimization Tips\n",
    "\n",
    "Even if ironArray has been very competitive in terms of speed and memory consumption, so far the computations have been done using just the default values.  Let's see how we can accelerate things here, even at the expense of using more memory.\n",
    "\n",
    "If you remember from the tutorial on reductions, we already reached to kind of 'optimal' chunks for reductions,\n",
    "so let's reuse this:"
   ]
  },
  {
   "cell_type": "code",
   "execution_count": 16,
   "metadata": {},
   "outputs": [
    {
     "name": "stdout",
     "output_type": "stream",
     "text": [
      "type                : IArray\n",
      "shape               : (3, 720, 721, 1440)\n",
      "chunkshape          : (1, 360, 128, 1440)\n",
      "blockshape          : (1, 8, 8, 720)\n",
      "memprofiler: used 0.00 MiB RAM (peak of 0.00 MiB) in 0.0040 s, total RAM usage 17039.86 MiB\n"
     ]
    }
   ],
   "source": [
    "%%mprof_run _\n",
    "ia_precip_opt = ia.open(\"precip-3m-optimal.iarr\")\n",
    "ia_precip_opt.info"
   ]
  },
  {
   "cell_type": "markdown",
   "metadata": {},
   "source": [
    "In this case, the chunks and blocks were considerably larger.  Let's reuse these and see how this effects to our computations.  For this, we are going to recreate the operands but with the setup for speed and optimal chunks and blocks:"
   ]
  },
  {
   "cell_type": "code",
   "execution_count": 17,
   "metadata": {},
   "outputs": [
    {
     "name": "stdout",
     "output_type": "stream",
     "text": [
      "memprofiler: used 1747.14 MiB RAM (peak of 2757.41 MiB) in 9.7788 s, total RAM usage 18787.00 MiB\n"
     ]
    }
   ],
   "source": [
    "%%mprof_run _\n",
    "ia.set_config(favor=ia.Favors.SPEED, chunkshape=(360, 128, 1440), blockshape=(8, 8, 720))\n",
    "precip1_sp = ia_precip_opt[0].copy()\n",
    "precip2_sp = ia_precip_opt[1].copy()\n",
    "precip3_sp = ia_precip_opt[2].copy()"
   ]
  },
  {
   "cell_type": "code",
   "execution_count": 18,
   "metadata": {},
   "outputs": [
    {
     "name": "stdout",
     "output_type": "stream",
     "text": [
      "memprofiler: used 1039.92 MiB RAM (peak of 1039.93 MiB) in 0.6272 s, total RAM usage 19826.93 MiB\n"
     ]
    }
   ],
   "source": [
    "%%mprof_run ia_mean_speed\n",
    "precip_mean = (precip1_sp + precip2_sp + precip3_sp) / 3\n",
    "precip_mean_speed = precip_mean.eval()"
   ]
  },
  {
   "cell_type": "markdown",
   "metadata": {},
   "source": [
    "Now, this is almost 2x faster than our original computation with ironArray and even more than NumPy:"
   ]
  },
  {
   "cell_type": "code",
   "execution_count": 19,
   "metadata": {},
   "outputs": [
    {
     "data": {
      "application/vnd.plotly.v1+json": {
       "config": {
        "plotlyServerURL": "https://plot.ly"
       },
       "data": [
        {
         "mode": "lines",
         "name": "ia_mean",
         "type": "scatter",
         "x": [
          0.0003695487976074219,
          0.011218786239624023,
          0.022401094436645508,
          0.03365302085876465,
          0.04471540451049805,
          0.056205034255981445,
          0.06738686561584473,
          0.07847142219543457,
          0.08945631980895996,
          0.10082721710205078,
          0.11211752891540527,
          0.12304091453552246,
          0.13408398628234863,
          0.14549899101257324,
          0.15659761428833008,
          0.16756272315979004,
          0.17860674858093262,
          0.1890270709991455,
          0.2000293731689453,
          0.21110010147094727,
          0.22191429138183594,
          0.23320579528808594,
          0.24469399452209473,
          0.2558920383453369,
          0.2669055461883545,
          0.27788233757019043,
          0.2883157730102539,
          0.3012888431549072,
          0.31182861328125,
          0.3229854106903076,
          0.33423280715942383,
          0.34546732902526855,
          0.3567044734954834,
          0.36765074729919434,
          0.3785421848297119,
          0.38979482650756836,
          0.4008605480194092,
          0.4120640754699707,
          0.42331910133361816,
          0.43385958671569824,
          0.44500064849853516,
          0.456404447555542,
          0.4676179885864258,
          0.47876644134521484,
          0.48980712890625,
          0.500777006149292,
          0.5118377208709717,
          0.5230674743652344,
          0.5340001583099365,
          0.545062780380249,
          0.556117057800293,
          0.5668444633483887,
          0.5776195526123047,
          0.5891106128692627,
          0.6002402305603027,
          0.6110105514526367,
          0.6214847564697266,
          0.6320865154266357,
          0.6429052352905273,
          0.6543521881103516,
          0.6656758785247803,
          0.6767480373382568,
          0.688246488571167,
          0.6993272304534912,
          0.7105631828308105,
          0.72188401222229,
          0.7330458164215088,
          0.7440869808197021,
          0.7553720474243164,
          0.7668170928955078,
          0.7779076099395752,
          0.7886025905609131,
          0.799048900604248,
          0.8102309703826904,
          0.8213307857513428,
          0.8325080871582031,
          0.843803882598877,
          0.854874849319458,
          0.8657331466674805,
          0.8768701553344727,
          0.8881206512451172,
          0.8991191387176514,
          0.910362720489502,
          0.9217488765716553,
          0.9329483509063721,
          0.9440052509307861,
          0.9550604820251465,
          0.9663927555084229,
          0.9776883125305176,
          0.9886713027954102,
          0.9997577667236328,
          1.0109508037567139,
          1.0221083164215088,
          1.0333094596862793,
          1.044449806213379,
          1.055696964263916,
          1.0663304328918457,
          1.077479362487793,
          1.088646411895752,
          1.0990879535675049,
          1.1096746921539307,
          1.1208245754241943,
          1.1323115825653076,
          1.1432912349700928,
          1.1544620990753174,
          1.1649274826049805,
          1.165330410003662
         ],
         "y": [
          0,
          85.3046875,
          95.234375,
          99.984375,
          104.19140625,
          108.0078125,
          112.0078125,
          116.0078125,
          120.05078125,
          124.6328125,
          127.140625,
          131.140625,
          135.140625,
          139.65625,
          143.65625,
          149.65625,
          155.65625,
          159.65625,
          163.98828125,
          169.98828125,
          175.98828125,
          181.98828125,
          185.5390625,
          190.046875,
          196.046875,
          200.046875,
          206.046875,
          208.68359375,
          210.68359375,
          214.68359375,
          217.09765625,
          221.09765625,
          223.09765625,
          227.09765625,
          228.82421875,
          232.82421875,
          234.82421875,
          237.5625,
          239.5625,
          243.5625,
          247.5625,
          249.8671875,
          253.8671875,
          257.8671875,
          261.8671875,
          265.61328125,
          269.8671875,
          273.8671875,
          277.8671875,
          281.546875,
          287.546875,
          291.546875,
          297.546875,
          301.09765625,
          307.09765625,
          313.09765625,
          319.09765625,
          325.09765625,
          328.5625,
          334.81640625,
          338.81640625,
          344.81640625,
          347.1640625,
          349.1640625,
          353.1640625,
          354.83203125,
          358.83203125,
          362.83203125,
          364.83203125,
          367.84765625,
          369.84765625,
          373.84765625,
          376.09375,
          377.3515625,
          381.3515625,
          385.3515625,
          386.94140625,
          390.94140625,
          394.94140625,
          398.94140625,
          399.19140625,
          403.69140625,
          407.69140625,
          408.70703125,
          414.70703125,
          418.70703125,
          424.70703125,
          427.4609375,
          433.4609375,
          439.4609375,
          445.4609375,
          447.0078125,
          451.26171875,
          457.26171875,
          461.26171875,
          462.2109375,
          466.2109375,
          470.2109375,
          472.2109375,
          472.55078125,
          476.55078125,
          480.55078125,
          481.66015625,
          483.9140625,
          487.9140625,
          485.421875,
          485.421875
         ]
        },
        {
         "mode": "lines",
         "name": "ia_mean_speed",
         "type": "scatter",
         "x": [
          0.00031256675720214844,
          0.010650873184204102,
          0.02080702781677246,
          0.03191089630126953,
          0.04227566719055176,
          0.05256533622741699,
          0.06280684471130371,
          0.07327485084533691,
          0.08372259140014648,
          0.0944371223449707,
          0.10484695434570312,
          0.11545038223266602,
          0.1258373260498047,
          0.13628578186035156,
          0.14677047729492188,
          0.1572413444519043,
          0.16776680946350098,
          0.1782069206237793,
          0.18879342079162598,
          0.1995842456817627,
          0.2101905345916748,
          0.2206251621246338,
          0.23137402534484863,
          0.24205493927001953,
          0.2526862621307373,
          0.26305437088012695,
          0.2735271453857422,
          0.28397083282470703,
          0.2942173480987549,
          0.3047146797180176,
          0.3151967525482178,
          0.32562828063964844,
          0.33642029762268066,
          0.3468320369720459,
          0.35741257667541504,
          0.3677983283996582,
          0.37826013565063477,
          0.3887443542480469,
          0.3991990089416504,
          0.409618616104126,
          0.42017459869384766,
          0.4309225082397461,
          0.4413621425628662,
          0.452009916305542,
          0.4624781608581543,
          0.4729475975036621,
          0.48335909843444824,
          0.49384593963623047,
          0.5043196678161621,
          0.5147440433502197,
          0.5251200199127197,
          0.5355544090270996,
          0.5459308624267578,
          0.5571427345275879,
          0.5676002502441406,
          0.5780587196350098,
          0.5885169506072998,
          0.5992817878723145,
          0.6097474098205566,
          0.6202266216278076,
          0.6271703243255615
         ],
         "y": [
          0,
          4.00390625,
          4.26171875,
          33.4375,
          49.6640625,
          63.6640625,
          75.6640625,
          86.46875,
          106.46875,
          126.46875,
          144.46875,
          164.46875,
          182.46875,
          199.93359375,
          223.93359375,
          245.93359375,
          269.93359375,
          292.09765625,
          311.875,
          331.875,
          351.875,
          371.875,
          391.875,
          411.875,
          428.15234375,
          446.15234375,
          464.15234375,
          482.15234375,
          498.15234375,
          518.15234375,
          529.7109375,
          537.7109375,
          547.84765625,
          561.84765625,
          577.84765625,
          591.84765625,
          609.39453125,
          627.39453125,
          647.39453125,
          665.39453125,
          685.39453125,
          699.69921875,
          721.69921875,
          743.69921875,
          763.69921875,
          785.69921875,
          807.69921875,
          824.25390625,
          844.25390625,
          864.25390625,
          884.25390625,
          904.25390625,
          919.4296875,
          941.4296875,
          959.4296875,
          979.4296875,
          999.4296875,
          1019.4296875,
          1031.93359375,
          1039.93359375,
          1039.91796875
         ]
        },
        {
         "mode": "lines",
         "name": "np_mean",
         "type": "scatter",
         "x": [
          0.0003724098205566406,
          0.010831356048583984,
          0.02123427391052246,
          0.031672000885009766,
          0.042014360427856445,
          0.05242609977722168,
          0.06277775764465332,
          0.0731809139251709,
          0.08358311653137207,
          0.0940251350402832,
          0.1044607162475586,
          0.11479902267456055,
          0.1252150535583496,
          0.13565564155578613,
          0.14600062370300293,
          0.15642237663269043,
          0.16677522659301758,
          0.1771841049194336,
          0.18759989738464355,
          0.19802403450012207,
          0.20843219757080078,
          0.21879124641418457,
          0.2292025089263916,
          0.2396378517150879,
          0.2499864101409912,
          0.2604033946990967,
          0.27076077461242676,
          0.2811713218688965,
          0.2915761470794678,
          0.3019852638244629,
          0.3123958110809326,
          0.3227560520172119,
          0.33316826820373535,
          0.34360218048095703,
          0.35402584075927734,
          0.3644399642944336,
          0.3748018741607666,
          0.38521456718444824,
          0.3956429958343506,
          0.4059910774230957,
          0.4163937568664551,
          0.42675113677978516,
          0.4371664524078369,
          0.4475703239440918,
          0.45799970626831055,
          0.46841979026794434,
          0.4787728786468506,
          0.489194393157959,
          0.49961256980895996,
          0.509974479675293,
          0.5203871726989746,
          0.530735969543457,
          0.541151762008667,
          0.5515627861022949,
          0.5619792938232422,
          0.5723845958709717,
          0.5827436447143555,
          0.5931456089019775,
          0.6035406589508057,
          0.6139583587646484,
          0.6243762969970703,
          0.6347293853759766,
          0.6451401710510254,
          0.6555476188659668,
          0.6659657955169678,
          0.6763784885406494,
          0.6867353916168213,
          0.6971430778503418,
          0.7075483798980713,
          0.7179524898529053,
          0.7283632755279541,
          0.7387216091156006,
          0.7491276264190674,
          0.7595477104187012,
          0.7699398994445801,
          0.7802021503448486,
          0.7903625965118408,
          0.800584077835083,
          0.8108053207397461,
          0.8210196495056152,
          0.8312397003173828,
          0.8414537906646729,
          0.8516919612884521,
          0.8618459701538086,
          0.8720619678497314,
          0.8822164535522461,
          0.8924312591552734,
          0.9026584625244141,
          0.9128742218017578,
          0.9230303764343262,
          0.9332449436187744,
          0.9434587955474854,
          0.9536921977996826,
          0.9638607501983643,
          0.9740128517150879,
          0.9842259883880615,
          0.9943792819976807,
          1.0045974254608154,
          1.014754295349121,
          1.0249648094177246,
          1.0351812839508057,
          1.0453941822052002,
          1.0556142330169678,
          1.0657832622528076,
          1.0759975910186768,
          1.086151361465454,
          1.0963685512542725,
          1.1065268516540527,
          1.1167428493499756,
          1.1268928050994873,
          1.1371057033538818,
          1.1473228931427002,
          1.1575355529785156,
          1.1677489280700684,
          1.1779015064239502,
          1.1881153583526611,
          1.1982669830322266,
          1.2084801197052002,
          1.2186377048492432,
          1.2288475036621094,
          1.238997220993042,
          1.2491483688354492,
          1.259364366531372,
          1.2695775032043457,
          1.2797954082489014,
          1.2899482250213623,
          1.300161600112915,
          1.310314416885376,
          1.3205311298370361,
          1.3306884765625,
          1.340900182723999,
          1.3510496616363525,
          1.3612639904022217,
          1.3714799880981445,
          1.381711721420288,
          1.3919265270233154,
          1.4020800590515137,
          1.4122989177703857,
          1.4224514961242676,
          1.4326837062835693,
          1.4428510665893555,
          1.4530677795410156,
          1.4632837772369385,
          1.4678831100463867
         ],
         "y": [
          0,
          35.42578125,
          73.61328125,
          113.61328125,
          151.61328125,
          189.61328125,
          229.61328125,
          267.61328125,
          305.61328125,
          345.61328125,
          385.61328125,
          423.61328125,
          463.61328125,
          501.61328125,
          539.61328125,
          579.61328125,
          617.61328125,
          655.61328125,
          695.61328125,
          733.6171875,
          771.6171875,
          811.6171875,
          849.6171875,
          889.6171875,
          927.6171875,
          967.6171875,
          1005.6171875,
          1045.6171875,
          1083.6171875,
          1123.6171875,
          1161.6171875,
          1201.6171875,
          1239.6171875,
          1277.6171875,
          1317.6171875,
          1355.6171875,
          1393.6171875,
          1433.6171875,
          1471.6171875,
          1511.6171875,
          1549.6171875,
          1589.6171875,
          1627.6171875,
          1667.6171875,
          1705.6171875,
          1745.6171875,
          1783.6171875,
          1823.6171875,
          1861.6171875,
          1901.6171875,
          1939.6171875,
          1977.6171875,
          2017.6171875,
          2055.6171875,
          2095.6171875,
          2133.6171875,
          2173.6171875,
          2211.6171875,
          2249.6171875,
          2289.6171875,
          2327.6171875,
          2367.6171875,
          2405.6171875,
          2445.6171875,
          2485.6171875,
          2523.6171875,
          2561.6171875,
          2601.6171875,
          2641.6171875,
          2679.6171875,
          2719.6171875,
          2757.6171875,
          2797.6171875,
          2835.6171875,
          2851.6171875,
          2851.6171875,
          2851.6171875,
          2851.6171875,
          2851.6171875,
          2851.6171875,
          2851.6171875,
          2851.6171875,
          2851.6171875,
          2851.6171875,
          2851.6171875,
          2851.6171875,
          2851.6171875,
          2851.6171875,
          2851.6171875,
          2851.6171875,
          2851.6171875,
          2851.6171875,
          2851.6171875,
          2851.6171875,
          2851.6171875,
          2851.6171875,
          2851.6171875,
          2851.6171875,
          2851.6171875,
          2851.6171875,
          2851.6171875,
          2851.6171875,
          2851.6171875,
          2851.6171875,
          2851.6171875,
          2851.6171875,
          2851.6171875,
          2851.6171875,
          2851.6171875,
          2851.6171875,
          2851.6171875,
          2851.6171875,
          2851.6171875,
          2851.6171875,
          2851.6171875,
          2851.6171875,
          2851.6171875,
          2851.6171875,
          2851.6171875,
          2851.6171875,
          2851.6171875,
          2851.6171875,
          2851.6171875,
          2851.6171875,
          2851.6171875,
          2851.6171875,
          2851.6171875,
          2851.6171875,
          2851.6171875,
          2851.6171875,
          2851.6171875,
          2851.6171875,
          2851.6171875,
          2851.6171875,
          2851.6171875,
          2851.6171875,
          2851.6171875,
          2851.6171875,
          2851.6171875,
          2851.6171875,
          2851.6171875,
          2851.6171875,
          2851.6171875,
          2852.11328125
         ]
        }
       ],
       "layout": {
        "template": {
         "data": {
          "bar": [
           {
            "error_x": {
             "color": "#2a3f5f"
            },
            "error_y": {
             "color": "#2a3f5f"
            },
            "marker": {
             "line": {
              "color": "#E5ECF6",
              "width": 0.5
             }
            },
            "type": "bar"
           }
          ],
          "barpolar": [
           {
            "marker": {
             "line": {
              "color": "#E5ECF6",
              "width": 0.5
             }
            },
            "type": "barpolar"
           }
          ],
          "carpet": [
           {
            "aaxis": {
             "endlinecolor": "#2a3f5f",
             "gridcolor": "white",
             "linecolor": "white",
             "minorgridcolor": "white",
             "startlinecolor": "#2a3f5f"
            },
            "baxis": {
             "endlinecolor": "#2a3f5f",
             "gridcolor": "white",
             "linecolor": "white",
             "minorgridcolor": "white",
             "startlinecolor": "#2a3f5f"
            },
            "type": "carpet"
           }
          ],
          "choropleth": [
           {
            "colorbar": {
             "outlinewidth": 0,
             "ticks": ""
            },
            "type": "choropleth"
           }
          ],
          "contour": [
           {
            "colorbar": {
             "outlinewidth": 0,
             "ticks": ""
            },
            "colorscale": [
             [
              0,
              "#0d0887"
             ],
             [
              0.1111111111111111,
              "#46039f"
             ],
             [
              0.2222222222222222,
              "#7201a8"
             ],
             [
              0.3333333333333333,
              "#9c179e"
             ],
             [
              0.4444444444444444,
              "#bd3786"
             ],
             [
              0.5555555555555556,
              "#d8576b"
             ],
             [
              0.6666666666666666,
              "#ed7953"
             ],
             [
              0.7777777777777778,
              "#fb9f3a"
             ],
             [
              0.8888888888888888,
              "#fdca26"
             ],
             [
              1,
              "#f0f921"
             ]
            ],
            "type": "contour"
           }
          ],
          "contourcarpet": [
           {
            "colorbar": {
             "outlinewidth": 0,
             "ticks": ""
            },
            "type": "contourcarpet"
           }
          ],
          "heatmap": [
           {
            "colorbar": {
             "outlinewidth": 0,
             "ticks": ""
            },
            "colorscale": [
             [
              0,
              "#0d0887"
             ],
             [
              0.1111111111111111,
              "#46039f"
             ],
             [
              0.2222222222222222,
              "#7201a8"
             ],
             [
              0.3333333333333333,
              "#9c179e"
             ],
             [
              0.4444444444444444,
              "#bd3786"
             ],
             [
              0.5555555555555556,
              "#d8576b"
             ],
             [
              0.6666666666666666,
              "#ed7953"
             ],
             [
              0.7777777777777778,
              "#fb9f3a"
             ],
             [
              0.8888888888888888,
              "#fdca26"
             ],
             [
              1,
              "#f0f921"
             ]
            ],
            "type": "heatmap"
           }
          ],
          "heatmapgl": [
           {
            "colorbar": {
             "outlinewidth": 0,
             "ticks": ""
            },
            "colorscale": [
             [
              0,
              "#0d0887"
             ],
             [
              0.1111111111111111,
              "#46039f"
             ],
             [
              0.2222222222222222,
              "#7201a8"
             ],
             [
              0.3333333333333333,
              "#9c179e"
             ],
             [
              0.4444444444444444,
              "#bd3786"
             ],
             [
              0.5555555555555556,
              "#d8576b"
             ],
             [
              0.6666666666666666,
              "#ed7953"
             ],
             [
              0.7777777777777778,
              "#fb9f3a"
             ],
             [
              0.8888888888888888,
              "#fdca26"
             ],
             [
              1,
              "#f0f921"
             ]
            ],
            "type": "heatmapgl"
           }
          ],
          "histogram": [
           {
            "marker": {
             "colorbar": {
              "outlinewidth": 0,
              "ticks": ""
             }
            },
            "type": "histogram"
           }
          ],
          "histogram2d": [
           {
            "colorbar": {
             "outlinewidth": 0,
             "ticks": ""
            },
            "colorscale": [
             [
              0,
              "#0d0887"
             ],
             [
              0.1111111111111111,
              "#46039f"
             ],
             [
              0.2222222222222222,
              "#7201a8"
             ],
             [
              0.3333333333333333,
              "#9c179e"
             ],
             [
              0.4444444444444444,
              "#bd3786"
             ],
             [
              0.5555555555555556,
              "#d8576b"
             ],
             [
              0.6666666666666666,
              "#ed7953"
             ],
             [
              0.7777777777777778,
              "#fb9f3a"
             ],
             [
              0.8888888888888888,
              "#fdca26"
             ],
             [
              1,
              "#f0f921"
             ]
            ],
            "type": "histogram2d"
           }
          ],
          "histogram2dcontour": [
           {
            "colorbar": {
             "outlinewidth": 0,
             "ticks": ""
            },
            "colorscale": [
             [
              0,
              "#0d0887"
             ],
             [
              0.1111111111111111,
              "#46039f"
             ],
             [
              0.2222222222222222,
              "#7201a8"
             ],
             [
              0.3333333333333333,
              "#9c179e"
             ],
             [
              0.4444444444444444,
              "#bd3786"
             ],
             [
              0.5555555555555556,
              "#d8576b"
             ],
             [
              0.6666666666666666,
              "#ed7953"
             ],
             [
              0.7777777777777778,
              "#fb9f3a"
             ],
             [
              0.8888888888888888,
              "#fdca26"
             ],
             [
              1,
              "#f0f921"
             ]
            ],
            "type": "histogram2dcontour"
           }
          ],
          "mesh3d": [
           {
            "colorbar": {
             "outlinewidth": 0,
             "ticks": ""
            },
            "type": "mesh3d"
           }
          ],
          "parcoords": [
           {
            "line": {
             "colorbar": {
              "outlinewidth": 0,
              "ticks": ""
             }
            },
            "type": "parcoords"
           }
          ],
          "pie": [
           {
            "automargin": true,
            "type": "pie"
           }
          ],
          "scatter": [
           {
            "marker": {
             "colorbar": {
              "outlinewidth": 0,
              "ticks": ""
             }
            },
            "type": "scatter"
           }
          ],
          "scatter3d": [
           {
            "line": {
             "colorbar": {
              "outlinewidth": 0,
              "ticks": ""
             }
            },
            "marker": {
             "colorbar": {
              "outlinewidth": 0,
              "ticks": ""
             }
            },
            "type": "scatter3d"
           }
          ],
          "scattercarpet": [
           {
            "marker": {
             "colorbar": {
              "outlinewidth": 0,
              "ticks": ""
             }
            },
            "type": "scattercarpet"
           }
          ],
          "scattergeo": [
           {
            "marker": {
             "colorbar": {
              "outlinewidth": 0,
              "ticks": ""
             }
            },
            "type": "scattergeo"
           }
          ],
          "scattergl": [
           {
            "marker": {
             "colorbar": {
              "outlinewidth": 0,
              "ticks": ""
             }
            },
            "type": "scattergl"
           }
          ],
          "scattermapbox": [
           {
            "marker": {
             "colorbar": {
              "outlinewidth": 0,
              "ticks": ""
             }
            },
            "type": "scattermapbox"
           }
          ],
          "scatterpolar": [
           {
            "marker": {
             "colorbar": {
              "outlinewidth": 0,
              "ticks": ""
             }
            },
            "type": "scatterpolar"
           }
          ],
          "scatterpolargl": [
           {
            "marker": {
             "colorbar": {
              "outlinewidth": 0,
              "ticks": ""
             }
            },
            "type": "scatterpolargl"
           }
          ],
          "scatterternary": [
           {
            "marker": {
             "colorbar": {
              "outlinewidth": 0,
              "ticks": ""
             }
            },
            "type": "scatterternary"
           }
          ],
          "surface": [
           {
            "colorbar": {
             "outlinewidth": 0,
             "ticks": ""
            },
            "colorscale": [
             [
              0,
              "#0d0887"
             ],
             [
              0.1111111111111111,
              "#46039f"
             ],
             [
              0.2222222222222222,
              "#7201a8"
             ],
             [
              0.3333333333333333,
              "#9c179e"
             ],
             [
              0.4444444444444444,
              "#bd3786"
             ],
             [
              0.5555555555555556,
              "#d8576b"
             ],
             [
              0.6666666666666666,
              "#ed7953"
             ],
             [
              0.7777777777777778,
              "#fb9f3a"
             ],
             [
              0.8888888888888888,
              "#fdca26"
             ],
             [
              1,
              "#f0f921"
             ]
            ],
            "type": "surface"
           }
          ],
          "table": [
           {
            "cells": {
             "fill": {
              "color": "#EBF0F8"
             },
             "line": {
              "color": "white"
             }
            },
            "header": {
             "fill": {
              "color": "#C8D4E3"
             },
             "line": {
              "color": "white"
             }
            },
            "type": "table"
           }
          ]
         },
         "layout": {
          "annotationdefaults": {
           "arrowcolor": "#2a3f5f",
           "arrowhead": 0,
           "arrowwidth": 1
          },
          "autotypenumbers": "strict",
          "coloraxis": {
           "colorbar": {
            "outlinewidth": 0,
            "ticks": ""
           }
          },
          "colorscale": {
           "diverging": [
            [
             0,
             "#8e0152"
            ],
            [
             0.1,
             "#c51b7d"
            ],
            [
             0.2,
             "#de77ae"
            ],
            [
             0.3,
             "#f1b6da"
            ],
            [
             0.4,
             "#fde0ef"
            ],
            [
             0.5,
             "#f7f7f7"
            ],
            [
             0.6,
             "#e6f5d0"
            ],
            [
             0.7,
             "#b8e186"
            ],
            [
             0.8,
             "#7fbc41"
            ],
            [
             0.9,
             "#4d9221"
            ],
            [
             1,
             "#276419"
            ]
           ],
           "sequential": [
            [
             0,
             "#0d0887"
            ],
            [
             0.1111111111111111,
             "#46039f"
            ],
            [
             0.2222222222222222,
             "#7201a8"
            ],
            [
             0.3333333333333333,
             "#9c179e"
            ],
            [
             0.4444444444444444,
             "#bd3786"
            ],
            [
             0.5555555555555556,
             "#d8576b"
            ],
            [
             0.6666666666666666,
             "#ed7953"
            ],
            [
             0.7777777777777778,
             "#fb9f3a"
            ],
            [
             0.8888888888888888,
             "#fdca26"
            ],
            [
             1,
             "#f0f921"
            ]
           ],
           "sequentialminus": [
            [
             0,
             "#0d0887"
            ],
            [
             0.1111111111111111,
             "#46039f"
            ],
            [
             0.2222222222222222,
             "#7201a8"
            ],
            [
             0.3333333333333333,
             "#9c179e"
            ],
            [
             0.4444444444444444,
             "#bd3786"
            ],
            [
             0.5555555555555556,
             "#d8576b"
            ],
            [
             0.6666666666666666,
             "#ed7953"
            ],
            [
             0.7777777777777778,
             "#fb9f3a"
            ],
            [
             0.8888888888888888,
             "#fdca26"
            ],
            [
             1,
             "#f0f921"
            ]
           ]
          },
          "colorway": [
           "#636efa",
           "#EF553B",
           "#00cc96",
           "#ab63fa",
           "#FFA15A",
           "#19d3f3",
           "#FF6692",
           "#B6E880",
           "#FF97FF",
           "#FECB52"
          ],
          "font": {
           "color": "#2a3f5f"
          },
          "geo": {
           "bgcolor": "white",
           "lakecolor": "white",
           "landcolor": "#E5ECF6",
           "showlakes": true,
           "showland": true,
           "subunitcolor": "white"
          },
          "hoverlabel": {
           "align": "left"
          },
          "hovermode": "closest",
          "mapbox": {
           "style": "light"
          },
          "paper_bgcolor": "white",
          "plot_bgcolor": "#E5ECF6",
          "polar": {
           "angularaxis": {
            "gridcolor": "white",
            "linecolor": "white",
            "ticks": ""
           },
           "bgcolor": "#E5ECF6",
           "radialaxis": {
            "gridcolor": "white",
            "linecolor": "white",
            "ticks": ""
           }
          },
          "scene": {
           "xaxis": {
            "backgroundcolor": "#E5ECF6",
            "gridcolor": "white",
            "gridwidth": 2,
            "linecolor": "white",
            "showbackground": true,
            "ticks": "",
            "zerolinecolor": "white"
           },
           "yaxis": {
            "backgroundcolor": "#E5ECF6",
            "gridcolor": "white",
            "gridwidth": 2,
            "linecolor": "white",
            "showbackground": true,
            "ticks": "",
            "zerolinecolor": "white"
           },
           "zaxis": {
            "backgroundcolor": "#E5ECF6",
            "gridcolor": "white",
            "gridwidth": 2,
            "linecolor": "white",
            "showbackground": true,
            "ticks": "",
            "zerolinecolor": "white"
           }
          },
          "shapedefaults": {
           "line": {
            "color": "#2a3f5f"
           }
          },
          "ternary": {
           "aaxis": {
            "gridcolor": "white",
            "linecolor": "white",
            "ticks": ""
           },
           "baxis": {
            "gridcolor": "white",
            "linecolor": "white",
            "ticks": ""
           },
           "bgcolor": "#E5ECF6",
           "caxis": {
            "gridcolor": "white",
            "linecolor": "white",
            "ticks": ""
           }
          },
          "title": {
           "x": 0.05
          },
          "xaxis": {
           "automargin": true,
           "gridcolor": "white",
           "linecolor": "white",
           "ticks": "",
           "title": {
            "standoff": 15
           },
           "zerolinecolor": "white",
           "zerolinewidth": 2
          },
          "yaxis": {
           "automargin": true,
           "gridcolor": "white",
           "linecolor": "white",
           "ticks": "",
           "title": {
            "standoff": 15
           },
           "zerolinecolor": "white",
           "zerolinewidth": 2
          }
         }
        },
        "title": {
         "text": "Mean computation",
         "x": 0.5,
         "xanchor": "center",
         "y": 0.9,
         "yanchor": "top"
        },
        "xaxis": {
         "title": {
          "text": "Time (in seconds)"
         }
        },
        "yaxis": {
         "title": {
          "text": "Memory used (in MiB)"
         }
        }
       }
      },
      "text/html": [
       "<div>                            <div id=\"5f6f4087-3a13-4db2-b6ef-77e416a49706\" class=\"plotly-graph-div\" style=\"height:525px; width:100%;\"></div>            <script type=\"text/javascript\">                require([\"plotly\"], function(Plotly) {                    window.PLOTLYENV=window.PLOTLYENV || {};                                    if (document.getElementById(\"5f6f4087-3a13-4db2-b6ef-77e416a49706\")) {                    Plotly.newPlot(                        \"5f6f4087-3a13-4db2-b6ef-77e416a49706\",                        [{\"mode\": \"lines\", \"name\": \"ia_mean\", \"type\": \"scatter\", \"x\": [0.0003695487976074219, 0.011218786239624023, 0.022401094436645508, 0.03365302085876465, 0.04471540451049805, 0.056205034255981445, 0.06738686561584473, 0.07847142219543457, 0.08945631980895996, 0.10082721710205078, 0.11211752891540527, 0.12304091453552246, 0.13408398628234863, 0.14549899101257324, 0.15659761428833008, 0.16756272315979004, 0.17860674858093262, 0.1890270709991455, 0.2000293731689453, 0.21110010147094727, 0.22191429138183594, 0.23320579528808594, 0.24469399452209473, 0.2558920383453369, 0.2669055461883545, 0.27788233757019043, 0.2883157730102539, 0.3012888431549072, 0.31182861328125, 0.3229854106903076, 0.33423280715942383, 0.34546732902526855, 0.3567044734954834, 0.36765074729919434, 0.3785421848297119, 0.38979482650756836, 0.4008605480194092, 0.4120640754699707, 0.42331910133361816, 0.43385958671569824, 0.44500064849853516, 0.456404447555542, 0.4676179885864258, 0.47876644134521484, 0.48980712890625, 0.500777006149292, 0.5118377208709717, 0.5230674743652344, 0.5340001583099365, 0.545062780380249, 0.556117057800293, 0.5668444633483887, 0.5776195526123047, 0.5891106128692627, 0.6002402305603027, 0.6110105514526367, 0.6214847564697266, 0.6320865154266357, 0.6429052352905273, 0.6543521881103516, 0.6656758785247803, 0.6767480373382568, 0.688246488571167, 0.6993272304534912, 0.7105631828308105, 0.72188401222229, 0.7330458164215088, 0.7440869808197021, 0.7553720474243164, 0.7668170928955078, 0.7779076099395752, 0.7886025905609131, 0.799048900604248, 0.8102309703826904, 0.8213307857513428, 0.8325080871582031, 0.843803882598877, 0.854874849319458, 0.8657331466674805, 0.8768701553344727, 0.8881206512451172, 0.8991191387176514, 0.910362720489502, 0.9217488765716553, 0.9329483509063721, 0.9440052509307861, 0.9550604820251465, 0.9663927555084229, 0.9776883125305176, 0.9886713027954102, 0.9997577667236328, 1.0109508037567139, 1.0221083164215088, 1.0333094596862793, 1.044449806213379, 1.055696964263916, 1.0663304328918457, 1.077479362487793, 1.088646411895752, 1.0990879535675049, 1.1096746921539307, 1.1208245754241943, 1.1323115825653076, 1.1432912349700928, 1.1544620990753174, 1.1649274826049805, 1.165330410003662], \"y\": [0.0, 85.3046875, 95.234375, 99.984375, 104.19140625, 108.0078125, 112.0078125, 116.0078125, 120.05078125, 124.6328125, 127.140625, 131.140625, 135.140625, 139.65625, 143.65625, 149.65625, 155.65625, 159.65625, 163.98828125, 169.98828125, 175.98828125, 181.98828125, 185.5390625, 190.046875, 196.046875, 200.046875, 206.046875, 208.68359375, 210.68359375, 214.68359375, 217.09765625, 221.09765625, 223.09765625, 227.09765625, 228.82421875, 232.82421875, 234.82421875, 237.5625, 239.5625, 243.5625, 247.5625, 249.8671875, 253.8671875, 257.8671875, 261.8671875, 265.61328125, 269.8671875, 273.8671875, 277.8671875, 281.546875, 287.546875, 291.546875, 297.546875, 301.09765625, 307.09765625, 313.09765625, 319.09765625, 325.09765625, 328.5625, 334.81640625, 338.81640625, 344.81640625, 347.1640625, 349.1640625, 353.1640625, 354.83203125, 358.83203125, 362.83203125, 364.83203125, 367.84765625, 369.84765625, 373.84765625, 376.09375, 377.3515625, 381.3515625, 385.3515625, 386.94140625, 390.94140625, 394.94140625, 398.94140625, 399.19140625, 403.69140625, 407.69140625, 408.70703125, 414.70703125, 418.70703125, 424.70703125, 427.4609375, 433.4609375, 439.4609375, 445.4609375, 447.0078125, 451.26171875, 457.26171875, 461.26171875, 462.2109375, 466.2109375, 470.2109375, 472.2109375, 472.55078125, 476.55078125, 480.55078125, 481.66015625, 483.9140625, 487.9140625, 485.421875, 485.421875]}, {\"mode\": \"lines\", \"name\": \"ia_mean_speed\", \"type\": \"scatter\", \"x\": [0.00031256675720214844, 0.010650873184204102, 0.02080702781677246, 0.03191089630126953, 0.04227566719055176, 0.05256533622741699, 0.06280684471130371, 0.07327485084533691, 0.08372259140014648, 0.0944371223449707, 0.10484695434570312, 0.11545038223266602, 0.1258373260498047, 0.13628578186035156, 0.14677047729492188, 0.1572413444519043, 0.16776680946350098, 0.1782069206237793, 0.18879342079162598, 0.1995842456817627, 0.2101905345916748, 0.2206251621246338, 0.23137402534484863, 0.24205493927001953, 0.2526862621307373, 0.26305437088012695, 0.2735271453857422, 0.28397083282470703, 0.2942173480987549, 0.3047146797180176, 0.3151967525482178, 0.32562828063964844, 0.33642029762268066, 0.3468320369720459, 0.35741257667541504, 0.3677983283996582, 0.37826013565063477, 0.3887443542480469, 0.3991990089416504, 0.409618616104126, 0.42017459869384766, 0.4309225082397461, 0.4413621425628662, 0.452009916305542, 0.4624781608581543, 0.4729475975036621, 0.48335909843444824, 0.49384593963623047, 0.5043196678161621, 0.5147440433502197, 0.5251200199127197, 0.5355544090270996, 0.5459308624267578, 0.5571427345275879, 0.5676002502441406, 0.5780587196350098, 0.5885169506072998, 0.5992817878723145, 0.6097474098205566, 0.6202266216278076, 0.6271703243255615], \"y\": [0.0, 4.00390625, 4.26171875, 33.4375, 49.6640625, 63.6640625, 75.6640625, 86.46875, 106.46875, 126.46875, 144.46875, 164.46875, 182.46875, 199.93359375, 223.93359375, 245.93359375, 269.93359375, 292.09765625, 311.875, 331.875, 351.875, 371.875, 391.875, 411.875, 428.15234375, 446.15234375, 464.15234375, 482.15234375, 498.15234375, 518.15234375, 529.7109375, 537.7109375, 547.84765625, 561.84765625, 577.84765625, 591.84765625, 609.39453125, 627.39453125, 647.39453125, 665.39453125, 685.39453125, 699.69921875, 721.69921875, 743.69921875, 763.69921875, 785.69921875, 807.69921875, 824.25390625, 844.25390625, 864.25390625, 884.25390625, 904.25390625, 919.4296875, 941.4296875, 959.4296875, 979.4296875, 999.4296875, 1019.4296875, 1031.93359375, 1039.93359375, 1039.91796875]}, {\"mode\": \"lines\", \"name\": \"np_mean\", \"type\": \"scatter\", \"x\": [0.0003724098205566406, 0.010831356048583984, 0.02123427391052246, 0.031672000885009766, 0.042014360427856445, 0.05242609977722168, 0.06277775764465332, 0.0731809139251709, 0.08358311653137207, 0.0940251350402832, 0.1044607162475586, 0.11479902267456055, 0.1252150535583496, 0.13565564155578613, 0.14600062370300293, 0.15642237663269043, 0.16677522659301758, 0.1771841049194336, 0.18759989738464355, 0.19802403450012207, 0.20843219757080078, 0.21879124641418457, 0.2292025089263916, 0.2396378517150879, 0.2499864101409912, 0.2604033946990967, 0.27076077461242676, 0.2811713218688965, 0.2915761470794678, 0.3019852638244629, 0.3123958110809326, 0.3227560520172119, 0.33316826820373535, 0.34360218048095703, 0.35402584075927734, 0.3644399642944336, 0.3748018741607666, 0.38521456718444824, 0.3956429958343506, 0.4059910774230957, 0.4163937568664551, 0.42675113677978516, 0.4371664524078369, 0.4475703239440918, 0.45799970626831055, 0.46841979026794434, 0.4787728786468506, 0.489194393157959, 0.49961256980895996, 0.509974479675293, 0.5203871726989746, 0.530735969543457, 0.541151762008667, 0.5515627861022949, 0.5619792938232422, 0.5723845958709717, 0.5827436447143555, 0.5931456089019775, 0.6035406589508057, 0.6139583587646484, 0.6243762969970703, 0.6347293853759766, 0.6451401710510254, 0.6555476188659668, 0.6659657955169678, 0.6763784885406494, 0.6867353916168213, 0.6971430778503418, 0.7075483798980713, 0.7179524898529053, 0.7283632755279541, 0.7387216091156006, 0.7491276264190674, 0.7595477104187012, 0.7699398994445801, 0.7802021503448486, 0.7903625965118408, 0.800584077835083, 0.8108053207397461, 0.8210196495056152, 0.8312397003173828, 0.8414537906646729, 0.8516919612884521, 0.8618459701538086, 0.8720619678497314, 0.8822164535522461, 0.8924312591552734, 0.9026584625244141, 0.9128742218017578, 0.9230303764343262, 0.9332449436187744, 0.9434587955474854, 0.9536921977996826, 0.9638607501983643, 0.9740128517150879, 0.9842259883880615, 0.9943792819976807, 1.0045974254608154, 1.014754295349121, 1.0249648094177246, 1.0351812839508057, 1.0453941822052002, 1.0556142330169678, 1.0657832622528076, 1.0759975910186768, 1.086151361465454, 1.0963685512542725, 1.1065268516540527, 1.1167428493499756, 1.1268928050994873, 1.1371057033538818, 1.1473228931427002, 1.1575355529785156, 1.1677489280700684, 1.1779015064239502, 1.1881153583526611, 1.1982669830322266, 1.2084801197052002, 1.2186377048492432, 1.2288475036621094, 1.238997220993042, 1.2491483688354492, 1.259364366531372, 1.2695775032043457, 1.2797954082489014, 1.2899482250213623, 1.300161600112915, 1.310314416885376, 1.3205311298370361, 1.3306884765625, 1.340900182723999, 1.3510496616363525, 1.3612639904022217, 1.3714799880981445, 1.381711721420288, 1.3919265270233154, 1.4020800590515137, 1.4122989177703857, 1.4224514961242676, 1.4326837062835693, 1.4428510665893555, 1.4530677795410156, 1.4632837772369385, 1.4678831100463867], \"y\": [0.0, 35.42578125, 73.61328125, 113.61328125, 151.61328125, 189.61328125, 229.61328125, 267.61328125, 305.61328125, 345.61328125, 385.61328125, 423.61328125, 463.61328125, 501.61328125, 539.61328125, 579.61328125, 617.61328125, 655.61328125, 695.61328125, 733.6171875, 771.6171875, 811.6171875, 849.6171875, 889.6171875, 927.6171875, 967.6171875, 1005.6171875, 1045.6171875, 1083.6171875, 1123.6171875, 1161.6171875, 1201.6171875, 1239.6171875, 1277.6171875, 1317.6171875, 1355.6171875, 1393.6171875, 1433.6171875, 1471.6171875, 1511.6171875, 1549.6171875, 1589.6171875, 1627.6171875, 1667.6171875, 1705.6171875, 1745.6171875, 1783.6171875, 1823.6171875, 1861.6171875, 1901.6171875, 1939.6171875, 1977.6171875, 2017.6171875, 2055.6171875, 2095.6171875, 2133.6171875, 2173.6171875, 2211.6171875, 2249.6171875, 2289.6171875, 2327.6171875, 2367.6171875, 2405.6171875, 2445.6171875, 2485.6171875, 2523.6171875, 2561.6171875, 2601.6171875, 2641.6171875, 2679.6171875, 2719.6171875, 2757.6171875, 2797.6171875, 2835.6171875, 2851.6171875, 2851.6171875, 2851.6171875, 2851.6171875, 2851.6171875, 2851.6171875, 2851.6171875, 2851.6171875, 2851.6171875, 2851.6171875, 2851.6171875, 2851.6171875, 2851.6171875, 2851.6171875, 2851.6171875, 2851.6171875, 2851.6171875, 2851.6171875, 2851.6171875, 2851.6171875, 2851.6171875, 2851.6171875, 2851.6171875, 2851.6171875, 2851.6171875, 2851.6171875, 2851.6171875, 2851.6171875, 2851.6171875, 2851.6171875, 2851.6171875, 2851.6171875, 2851.6171875, 2851.6171875, 2851.6171875, 2851.6171875, 2851.6171875, 2851.6171875, 2851.6171875, 2851.6171875, 2851.6171875, 2851.6171875, 2851.6171875, 2851.6171875, 2851.6171875, 2851.6171875, 2851.6171875, 2851.6171875, 2851.6171875, 2851.6171875, 2851.6171875, 2851.6171875, 2851.6171875, 2851.6171875, 2851.6171875, 2851.6171875, 2851.6171875, 2851.6171875, 2851.6171875, 2851.6171875, 2851.6171875, 2851.6171875, 2851.6171875, 2851.6171875, 2851.6171875, 2851.6171875, 2851.6171875, 2851.6171875, 2851.6171875, 2852.11328125]}],                        {\"template\": {\"data\": {\"bar\": [{\"error_x\": {\"color\": \"#2a3f5f\"}, \"error_y\": {\"color\": \"#2a3f5f\"}, \"marker\": {\"line\": {\"color\": \"#E5ECF6\", \"width\": 0.5}}, \"type\": \"bar\"}], \"barpolar\": [{\"marker\": {\"line\": {\"color\": \"#E5ECF6\", \"width\": 0.5}}, \"type\": \"barpolar\"}], \"carpet\": [{\"aaxis\": {\"endlinecolor\": \"#2a3f5f\", \"gridcolor\": \"white\", \"linecolor\": \"white\", \"minorgridcolor\": \"white\", \"startlinecolor\": \"#2a3f5f\"}, \"baxis\": {\"endlinecolor\": \"#2a3f5f\", \"gridcolor\": \"white\", \"linecolor\": \"white\", \"minorgridcolor\": \"white\", \"startlinecolor\": \"#2a3f5f\"}, \"type\": \"carpet\"}], \"choropleth\": [{\"colorbar\": {\"outlinewidth\": 0, \"ticks\": \"\"}, \"type\": \"choropleth\"}], \"contour\": [{\"colorbar\": {\"outlinewidth\": 0, \"ticks\": \"\"}, \"colorscale\": [[0.0, \"#0d0887\"], [0.1111111111111111, \"#46039f\"], [0.2222222222222222, \"#7201a8\"], [0.3333333333333333, \"#9c179e\"], [0.4444444444444444, \"#bd3786\"], [0.5555555555555556, \"#d8576b\"], [0.6666666666666666, \"#ed7953\"], [0.7777777777777778, \"#fb9f3a\"], [0.8888888888888888, \"#fdca26\"], [1.0, \"#f0f921\"]], \"type\": \"contour\"}], \"contourcarpet\": [{\"colorbar\": {\"outlinewidth\": 0, \"ticks\": \"\"}, \"type\": \"contourcarpet\"}], \"heatmap\": [{\"colorbar\": {\"outlinewidth\": 0, \"ticks\": \"\"}, \"colorscale\": [[0.0, \"#0d0887\"], [0.1111111111111111, \"#46039f\"], [0.2222222222222222, \"#7201a8\"], [0.3333333333333333, \"#9c179e\"], [0.4444444444444444, \"#bd3786\"], [0.5555555555555556, \"#d8576b\"], [0.6666666666666666, \"#ed7953\"], [0.7777777777777778, \"#fb9f3a\"], [0.8888888888888888, \"#fdca26\"], [1.0, \"#f0f921\"]], \"type\": \"heatmap\"}], \"heatmapgl\": [{\"colorbar\": {\"outlinewidth\": 0, \"ticks\": \"\"}, \"colorscale\": [[0.0, \"#0d0887\"], [0.1111111111111111, \"#46039f\"], [0.2222222222222222, \"#7201a8\"], [0.3333333333333333, \"#9c179e\"], [0.4444444444444444, \"#bd3786\"], [0.5555555555555556, \"#d8576b\"], [0.6666666666666666, \"#ed7953\"], [0.7777777777777778, \"#fb9f3a\"], [0.8888888888888888, \"#fdca26\"], [1.0, \"#f0f921\"]], \"type\": \"heatmapgl\"}], \"histogram\": [{\"marker\": {\"colorbar\": {\"outlinewidth\": 0, \"ticks\": \"\"}}, \"type\": \"histogram\"}], \"histogram2d\": [{\"colorbar\": {\"outlinewidth\": 0, \"ticks\": \"\"}, \"colorscale\": [[0.0, \"#0d0887\"], [0.1111111111111111, \"#46039f\"], [0.2222222222222222, \"#7201a8\"], [0.3333333333333333, \"#9c179e\"], [0.4444444444444444, \"#bd3786\"], [0.5555555555555556, \"#d8576b\"], [0.6666666666666666, \"#ed7953\"], [0.7777777777777778, \"#fb9f3a\"], [0.8888888888888888, \"#fdca26\"], [1.0, \"#f0f921\"]], \"type\": \"histogram2d\"}], \"histogram2dcontour\": [{\"colorbar\": {\"outlinewidth\": 0, \"ticks\": \"\"}, \"colorscale\": [[0.0, \"#0d0887\"], [0.1111111111111111, \"#46039f\"], [0.2222222222222222, \"#7201a8\"], [0.3333333333333333, \"#9c179e\"], [0.4444444444444444, \"#bd3786\"], [0.5555555555555556, \"#d8576b\"], [0.6666666666666666, \"#ed7953\"], [0.7777777777777778, \"#fb9f3a\"], [0.8888888888888888, \"#fdca26\"], [1.0, \"#f0f921\"]], \"type\": \"histogram2dcontour\"}], \"mesh3d\": [{\"colorbar\": {\"outlinewidth\": 0, \"ticks\": \"\"}, \"type\": \"mesh3d\"}], \"parcoords\": [{\"line\": {\"colorbar\": {\"outlinewidth\": 0, \"ticks\": \"\"}}, \"type\": \"parcoords\"}], \"pie\": [{\"automargin\": true, \"type\": \"pie\"}], \"scatter\": [{\"marker\": {\"colorbar\": {\"outlinewidth\": 0, \"ticks\": \"\"}}, \"type\": \"scatter\"}], \"scatter3d\": [{\"line\": {\"colorbar\": {\"outlinewidth\": 0, \"ticks\": \"\"}}, \"marker\": {\"colorbar\": {\"outlinewidth\": 0, \"ticks\": \"\"}}, \"type\": \"scatter3d\"}], \"scattercarpet\": [{\"marker\": {\"colorbar\": {\"outlinewidth\": 0, \"ticks\": \"\"}}, \"type\": \"scattercarpet\"}], \"scattergeo\": [{\"marker\": {\"colorbar\": {\"outlinewidth\": 0, \"ticks\": \"\"}}, \"type\": \"scattergeo\"}], \"scattergl\": [{\"marker\": {\"colorbar\": {\"outlinewidth\": 0, \"ticks\": \"\"}}, \"type\": \"scattergl\"}], \"scattermapbox\": [{\"marker\": {\"colorbar\": {\"outlinewidth\": 0, \"ticks\": \"\"}}, \"type\": \"scattermapbox\"}], \"scatterpolar\": [{\"marker\": {\"colorbar\": {\"outlinewidth\": 0, \"ticks\": \"\"}}, \"type\": \"scatterpolar\"}], \"scatterpolargl\": [{\"marker\": {\"colorbar\": {\"outlinewidth\": 0, \"ticks\": \"\"}}, \"type\": \"scatterpolargl\"}], \"scatterternary\": [{\"marker\": {\"colorbar\": {\"outlinewidth\": 0, \"ticks\": \"\"}}, \"type\": \"scatterternary\"}], \"surface\": [{\"colorbar\": {\"outlinewidth\": 0, \"ticks\": \"\"}, \"colorscale\": [[0.0, \"#0d0887\"], [0.1111111111111111, \"#46039f\"], [0.2222222222222222, \"#7201a8\"], [0.3333333333333333, \"#9c179e\"], [0.4444444444444444, \"#bd3786\"], [0.5555555555555556, \"#d8576b\"], [0.6666666666666666, \"#ed7953\"], [0.7777777777777778, \"#fb9f3a\"], [0.8888888888888888, \"#fdca26\"], [1.0, \"#f0f921\"]], \"type\": \"surface\"}], \"table\": [{\"cells\": {\"fill\": {\"color\": \"#EBF0F8\"}, \"line\": {\"color\": \"white\"}}, \"header\": {\"fill\": {\"color\": \"#C8D4E3\"}, \"line\": {\"color\": \"white\"}}, \"type\": \"table\"}]}, \"layout\": {\"annotationdefaults\": {\"arrowcolor\": \"#2a3f5f\", \"arrowhead\": 0, \"arrowwidth\": 1}, \"autotypenumbers\": \"strict\", \"coloraxis\": {\"colorbar\": {\"outlinewidth\": 0, \"ticks\": \"\"}}, \"colorscale\": {\"diverging\": [[0, \"#8e0152\"], [0.1, \"#c51b7d\"], [0.2, \"#de77ae\"], [0.3, \"#f1b6da\"], [0.4, \"#fde0ef\"], [0.5, \"#f7f7f7\"], [0.6, \"#e6f5d0\"], [0.7, \"#b8e186\"], [0.8, \"#7fbc41\"], [0.9, \"#4d9221\"], [1, \"#276419\"]], \"sequential\": [[0.0, \"#0d0887\"], [0.1111111111111111, \"#46039f\"], [0.2222222222222222, \"#7201a8\"], [0.3333333333333333, \"#9c179e\"], [0.4444444444444444, \"#bd3786\"], [0.5555555555555556, \"#d8576b\"], [0.6666666666666666, \"#ed7953\"], [0.7777777777777778, \"#fb9f3a\"], [0.8888888888888888, \"#fdca26\"], [1.0, \"#f0f921\"]], \"sequentialminus\": [[0.0, \"#0d0887\"], [0.1111111111111111, \"#46039f\"], [0.2222222222222222, \"#7201a8\"], [0.3333333333333333, \"#9c179e\"], [0.4444444444444444, \"#bd3786\"], [0.5555555555555556, \"#d8576b\"], [0.6666666666666666, \"#ed7953\"], [0.7777777777777778, \"#fb9f3a\"], [0.8888888888888888, \"#fdca26\"], [1.0, \"#f0f921\"]]}, \"colorway\": [\"#636efa\", \"#EF553B\", \"#00cc96\", \"#ab63fa\", \"#FFA15A\", \"#19d3f3\", \"#FF6692\", \"#B6E880\", \"#FF97FF\", \"#FECB52\"], \"font\": {\"color\": \"#2a3f5f\"}, \"geo\": {\"bgcolor\": \"white\", \"lakecolor\": \"white\", \"landcolor\": \"#E5ECF6\", \"showlakes\": true, \"showland\": true, \"subunitcolor\": \"white\"}, \"hoverlabel\": {\"align\": \"left\"}, \"hovermode\": \"closest\", \"mapbox\": {\"style\": \"light\"}, \"paper_bgcolor\": \"white\", \"plot_bgcolor\": \"#E5ECF6\", \"polar\": {\"angularaxis\": {\"gridcolor\": \"white\", \"linecolor\": \"white\", \"ticks\": \"\"}, \"bgcolor\": \"#E5ECF6\", \"radialaxis\": {\"gridcolor\": \"white\", \"linecolor\": \"white\", \"ticks\": \"\"}}, \"scene\": {\"xaxis\": {\"backgroundcolor\": \"#E5ECF6\", \"gridcolor\": \"white\", \"gridwidth\": 2, \"linecolor\": \"white\", \"showbackground\": true, \"ticks\": \"\", \"zerolinecolor\": \"white\"}, \"yaxis\": {\"backgroundcolor\": \"#E5ECF6\", \"gridcolor\": \"white\", \"gridwidth\": 2, \"linecolor\": \"white\", \"showbackground\": true, \"ticks\": \"\", \"zerolinecolor\": \"white\"}, \"zaxis\": {\"backgroundcolor\": \"#E5ECF6\", \"gridcolor\": \"white\", \"gridwidth\": 2, \"linecolor\": \"white\", \"showbackground\": true, \"ticks\": \"\", \"zerolinecolor\": \"white\"}}, \"shapedefaults\": {\"line\": {\"color\": \"#2a3f5f\"}}, \"ternary\": {\"aaxis\": {\"gridcolor\": \"white\", \"linecolor\": \"white\", \"ticks\": \"\"}, \"baxis\": {\"gridcolor\": \"white\", \"linecolor\": \"white\", \"ticks\": \"\"}, \"bgcolor\": \"#E5ECF6\", \"caxis\": {\"gridcolor\": \"white\", \"linecolor\": \"white\", \"ticks\": \"\"}}, \"title\": {\"x\": 0.05}, \"xaxis\": {\"automargin\": true, \"gridcolor\": \"white\", \"linecolor\": \"white\", \"ticks\": \"\", \"title\": {\"standoff\": 15}, \"zerolinecolor\": \"white\", \"zerolinewidth\": 2}, \"yaxis\": {\"automargin\": true, \"gridcolor\": \"white\", \"linecolor\": \"white\", \"ticks\": \"\", \"title\": {\"standoff\": 15}, \"zerolinecolor\": \"white\", \"zerolinewidth\": 2}}}, \"title\": {\"text\": \"Mean computation\", \"x\": 0.5, \"xanchor\": \"center\", \"y\": 0.9, \"yanchor\": \"top\"}, \"xaxis\": {\"title\": {\"text\": \"Time (in seconds)\"}}, \"yaxis\": {\"title\": {\"text\": \"Memory used (in MiB)\"}}},                        {\"responsive\": true}                    ).then(function(){\n",
       "                            \n",
       "var gd = document.getElementById('5f6f4087-3a13-4db2-b6ef-77e416a49706');\n",
       "var x = new MutationObserver(function (mutations, observer) {{\n",
       "        var display = window.getComputedStyle(gd).display;\n",
       "        if (!display || display === 'none') {{\n",
       "            console.log([gd, 'removed!']);\n",
       "            Plotly.purge(gd);\n",
       "            observer.disconnect();\n",
       "        }}\n",
       "}});\n",
       "\n",
       "// Listen for the removal of the full notebook cells\n",
       "var notebookContainer = gd.closest('#notebook-container');\n",
       "if (notebookContainer) {{\n",
       "    x.observe(notebookContainer, {childList: true});\n",
       "}}\n",
       "\n",
       "// Listen for the clearing of the current output cell\n",
       "var outputEl = gd.closest('.output');\n",
       "if (outputEl) {{\n",
       "    x.observe(outputEl, {childList: true});\n",
       "}}\n",
       "\n",
       "                        })                };                });            </script>        </div>"
      ]
     },
     "metadata": {},
     "output_type": "display_data"
    }
   ],
   "source": [
    "%mprof_plot ia_mean ia_mean_speed np_mean -t \"Mean computation\""
   ]
  },
  {
   "cell_type": "markdown",
   "metadata": {},
   "source": [
    "Of course having more speed has been at the cost of using more memory.  In general, you will normally have to choose between using more memory or speed.  The nice thing about ironArray is that it lets you choosing what you favor very easily."
   ]
  },
  {
   "cell_type": "markdown",
   "metadata": {},
   "source": [
    "Finally, let's suppose that we want to favor compression ratio for the output, instead of speed.  We can achieve that by asking for just 3 decimals of precision; it should help to favor compression ratio via `ia.Favors.CRATIO` too:"
   ]
  },
  {
   "cell_type": "code",
   "execution_count": 20,
   "metadata": {},
   "outputs": [
    {
     "name": "stdout",
     "output_type": "stream",
     "text": [
      "memprofiler: used 783.83 MiB RAM (peak of 783.83 MiB) in 0.5972 s, total RAM usage 20610.94 MiB\n"
     ]
    }
   ],
   "source": [
    "%%mprof_run ia_mean_cratio\n",
    "\n",
    "precip_mean = (precip1_sp + precip2_sp + precip3_sp) / 3\n",
    "# eval but just keep 3 digits in precision (10 bits in mantissa)\n",
    "precip_mean_cratio = precip_mean.eval(fp_mantissa_bits=10, favor=ia.Favors.CRATIO)"
   ]
  },
  {
   "cell_type": "code",
   "execution_count": 21,
   "metadata": {},
   "outputs": [
    {
     "data": {
      "application/vnd.plotly.v1+json": {
       "config": {
        "plotlyServerURL": "https://plot.ly"
       },
       "data": [
        {
         "mode": "lines",
         "name": "ia_mean",
         "type": "scatter",
         "x": [
          0.0003695487976074219,
          0.011218786239624023,
          0.022401094436645508,
          0.03365302085876465,
          0.04471540451049805,
          0.056205034255981445,
          0.06738686561584473,
          0.07847142219543457,
          0.08945631980895996,
          0.10082721710205078,
          0.11211752891540527,
          0.12304091453552246,
          0.13408398628234863,
          0.14549899101257324,
          0.15659761428833008,
          0.16756272315979004,
          0.17860674858093262,
          0.1890270709991455,
          0.2000293731689453,
          0.21110010147094727,
          0.22191429138183594,
          0.23320579528808594,
          0.24469399452209473,
          0.2558920383453369,
          0.2669055461883545,
          0.27788233757019043,
          0.2883157730102539,
          0.3012888431549072,
          0.31182861328125,
          0.3229854106903076,
          0.33423280715942383,
          0.34546732902526855,
          0.3567044734954834,
          0.36765074729919434,
          0.3785421848297119,
          0.38979482650756836,
          0.4008605480194092,
          0.4120640754699707,
          0.42331910133361816,
          0.43385958671569824,
          0.44500064849853516,
          0.456404447555542,
          0.4676179885864258,
          0.47876644134521484,
          0.48980712890625,
          0.500777006149292,
          0.5118377208709717,
          0.5230674743652344,
          0.5340001583099365,
          0.545062780380249,
          0.556117057800293,
          0.5668444633483887,
          0.5776195526123047,
          0.5891106128692627,
          0.6002402305603027,
          0.6110105514526367,
          0.6214847564697266,
          0.6320865154266357,
          0.6429052352905273,
          0.6543521881103516,
          0.6656758785247803,
          0.6767480373382568,
          0.688246488571167,
          0.6993272304534912,
          0.7105631828308105,
          0.72188401222229,
          0.7330458164215088,
          0.7440869808197021,
          0.7553720474243164,
          0.7668170928955078,
          0.7779076099395752,
          0.7886025905609131,
          0.799048900604248,
          0.8102309703826904,
          0.8213307857513428,
          0.8325080871582031,
          0.843803882598877,
          0.854874849319458,
          0.8657331466674805,
          0.8768701553344727,
          0.8881206512451172,
          0.8991191387176514,
          0.910362720489502,
          0.9217488765716553,
          0.9329483509063721,
          0.9440052509307861,
          0.9550604820251465,
          0.9663927555084229,
          0.9776883125305176,
          0.9886713027954102,
          0.9997577667236328,
          1.0109508037567139,
          1.0221083164215088,
          1.0333094596862793,
          1.044449806213379,
          1.055696964263916,
          1.0663304328918457,
          1.077479362487793,
          1.088646411895752,
          1.0990879535675049,
          1.1096746921539307,
          1.1208245754241943,
          1.1323115825653076,
          1.1432912349700928,
          1.1544620990753174,
          1.1649274826049805,
          1.165330410003662
         ],
         "y": [
          0,
          85.3046875,
          95.234375,
          99.984375,
          104.19140625,
          108.0078125,
          112.0078125,
          116.0078125,
          120.05078125,
          124.6328125,
          127.140625,
          131.140625,
          135.140625,
          139.65625,
          143.65625,
          149.65625,
          155.65625,
          159.65625,
          163.98828125,
          169.98828125,
          175.98828125,
          181.98828125,
          185.5390625,
          190.046875,
          196.046875,
          200.046875,
          206.046875,
          208.68359375,
          210.68359375,
          214.68359375,
          217.09765625,
          221.09765625,
          223.09765625,
          227.09765625,
          228.82421875,
          232.82421875,
          234.82421875,
          237.5625,
          239.5625,
          243.5625,
          247.5625,
          249.8671875,
          253.8671875,
          257.8671875,
          261.8671875,
          265.61328125,
          269.8671875,
          273.8671875,
          277.8671875,
          281.546875,
          287.546875,
          291.546875,
          297.546875,
          301.09765625,
          307.09765625,
          313.09765625,
          319.09765625,
          325.09765625,
          328.5625,
          334.81640625,
          338.81640625,
          344.81640625,
          347.1640625,
          349.1640625,
          353.1640625,
          354.83203125,
          358.83203125,
          362.83203125,
          364.83203125,
          367.84765625,
          369.84765625,
          373.84765625,
          376.09375,
          377.3515625,
          381.3515625,
          385.3515625,
          386.94140625,
          390.94140625,
          394.94140625,
          398.94140625,
          399.19140625,
          403.69140625,
          407.69140625,
          408.70703125,
          414.70703125,
          418.70703125,
          424.70703125,
          427.4609375,
          433.4609375,
          439.4609375,
          445.4609375,
          447.0078125,
          451.26171875,
          457.26171875,
          461.26171875,
          462.2109375,
          466.2109375,
          470.2109375,
          472.2109375,
          472.55078125,
          476.55078125,
          480.55078125,
          481.66015625,
          483.9140625,
          487.9140625,
          485.421875,
          485.421875
         ]
        },
        {
         "mode": "lines",
         "name": "ia_mean_cratio",
         "type": "scatter",
         "x": [
          0.0003523826599121094,
          0.010766029357910156,
          0.021015644073486328,
          0.0333254337310791,
          0.04376959800720215,
          0.05423927307128906,
          0.06460332870483398,
          0.07520747184753418,
          0.08575844764709473,
          0.09630346298217773,
          0.10705399513244629,
          0.11765289306640625,
          0.1282060146331787,
          0.1390209197998047,
          0.14981889724731445,
          0.16072368621826172,
          0.17145252227783203,
          0.18254446983337402,
          0.1929950714111328,
          0.20340776443481445,
          0.21401071548461914,
          0.22475528717041016,
          0.2351396083831787,
          0.2460334300994873,
          0.25655055046081543,
          0.2673635482788086,
          0.27784156799316406,
          0.28838062286376953,
          0.2991750240325928,
          0.3103358745574951,
          0.3208801746368408,
          0.3313558101654053,
          0.3419051170349121,
          0.3528439998626709,
          0.36381983757019043,
          0.37429118156433105,
          0.3850560188293457,
          0.395780086517334,
          0.40656256675720215,
          0.41718220710754395,
          0.42769789695739746,
          0.4382593631744385,
          0.44889140129089355,
          0.4594247341156006,
          0.4702785015106201,
          0.4806971549987793,
          0.49164724349975586,
          0.5021243095397949,
          0.5127604007720947,
          0.5234594345092773,
          0.5341193675994873,
          0.544539213180542,
          0.5555095672607422,
          0.566112756729126,
          0.5764639377593994,
          0.5868709087371826,
          0.5971770286560059,
          0.5972230434417725
         ],
         "y": [
          0,
          1.24609375,
          1.24609375,
          16.734375,
          28.85546875,
          42.85546875,
          54.85546875,
          65.72265625,
          81.72265625,
          99.72265625,
          115.72265625,
          129.8984375,
          144.73828125,
          164.73828125,
          180.73828125,
          196.73828125,
          214.73828125,
          227.3359375,
          243.3359375,
          259.3359375,
          277.3359375,
          293.3359375,
          311.4296875,
          322.05078125,
          338.05078125,
          354.05078125,
          370.05078125,
          386.05078125,
          396.9765625,
          402.9765625,
          410.26953125,
          422.26953125,
          436.26953125,
          446.78125,
          462.78125,
          476.78125,
          492.78125,
          508.78125,
          521.01953125,
          535.01953125,
          553.01953125,
          571.01953125,
          589.01953125,
          605.1875,
          619.47265625,
          635.47265625,
          653.47265625,
          669.47265625,
          685.47265625,
          698.53125,
          714.53125,
          730.53125,
          746.53125,
          762.70703125,
          776.89453125,
          782.6484375,
          783.828125,
          783.828125
         ]
        },
        {
         "mode": "lines",
         "name": "ia_mean_speed",
         "type": "scatter",
         "x": [
          0.00031256675720214844,
          0.010650873184204102,
          0.02080702781677246,
          0.03191089630126953,
          0.04227566719055176,
          0.05256533622741699,
          0.06280684471130371,
          0.07327485084533691,
          0.08372259140014648,
          0.0944371223449707,
          0.10484695434570312,
          0.11545038223266602,
          0.1258373260498047,
          0.13628578186035156,
          0.14677047729492188,
          0.1572413444519043,
          0.16776680946350098,
          0.1782069206237793,
          0.18879342079162598,
          0.1995842456817627,
          0.2101905345916748,
          0.2206251621246338,
          0.23137402534484863,
          0.24205493927001953,
          0.2526862621307373,
          0.26305437088012695,
          0.2735271453857422,
          0.28397083282470703,
          0.2942173480987549,
          0.3047146797180176,
          0.3151967525482178,
          0.32562828063964844,
          0.33642029762268066,
          0.3468320369720459,
          0.35741257667541504,
          0.3677983283996582,
          0.37826013565063477,
          0.3887443542480469,
          0.3991990089416504,
          0.409618616104126,
          0.42017459869384766,
          0.4309225082397461,
          0.4413621425628662,
          0.452009916305542,
          0.4624781608581543,
          0.4729475975036621,
          0.48335909843444824,
          0.49384593963623047,
          0.5043196678161621,
          0.5147440433502197,
          0.5251200199127197,
          0.5355544090270996,
          0.5459308624267578,
          0.5571427345275879,
          0.5676002502441406,
          0.5780587196350098,
          0.5885169506072998,
          0.5992817878723145,
          0.6097474098205566,
          0.6202266216278076,
          0.6271703243255615
         ],
         "y": [
          0,
          4.00390625,
          4.26171875,
          33.4375,
          49.6640625,
          63.6640625,
          75.6640625,
          86.46875,
          106.46875,
          126.46875,
          144.46875,
          164.46875,
          182.46875,
          199.93359375,
          223.93359375,
          245.93359375,
          269.93359375,
          292.09765625,
          311.875,
          331.875,
          351.875,
          371.875,
          391.875,
          411.875,
          428.15234375,
          446.15234375,
          464.15234375,
          482.15234375,
          498.15234375,
          518.15234375,
          529.7109375,
          537.7109375,
          547.84765625,
          561.84765625,
          577.84765625,
          591.84765625,
          609.39453125,
          627.39453125,
          647.39453125,
          665.39453125,
          685.39453125,
          699.69921875,
          721.69921875,
          743.69921875,
          763.69921875,
          785.69921875,
          807.69921875,
          824.25390625,
          844.25390625,
          864.25390625,
          884.25390625,
          904.25390625,
          919.4296875,
          941.4296875,
          959.4296875,
          979.4296875,
          999.4296875,
          1019.4296875,
          1031.93359375,
          1039.93359375,
          1039.91796875
         ]
        },
        {
         "mode": "lines",
         "name": "np_mean",
         "type": "scatter",
         "x": [
          0.0003724098205566406,
          0.010831356048583984,
          0.02123427391052246,
          0.031672000885009766,
          0.042014360427856445,
          0.05242609977722168,
          0.06277775764465332,
          0.0731809139251709,
          0.08358311653137207,
          0.0940251350402832,
          0.1044607162475586,
          0.11479902267456055,
          0.1252150535583496,
          0.13565564155578613,
          0.14600062370300293,
          0.15642237663269043,
          0.16677522659301758,
          0.1771841049194336,
          0.18759989738464355,
          0.19802403450012207,
          0.20843219757080078,
          0.21879124641418457,
          0.2292025089263916,
          0.2396378517150879,
          0.2499864101409912,
          0.2604033946990967,
          0.27076077461242676,
          0.2811713218688965,
          0.2915761470794678,
          0.3019852638244629,
          0.3123958110809326,
          0.3227560520172119,
          0.33316826820373535,
          0.34360218048095703,
          0.35402584075927734,
          0.3644399642944336,
          0.3748018741607666,
          0.38521456718444824,
          0.3956429958343506,
          0.4059910774230957,
          0.4163937568664551,
          0.42675113677978516,
          0.4371664524078369,
          0.4475703239440918,
          0.45799970626831055,
          0.46841979026794434,
          0.4787728786468506,
          0.489194393157959,
          0.49961256980895996,
          0.509974479675293,
          0.5203871726989746,
          0.530735969543457,
          0.541151762008667,
          0.5515627861022949,
          0.5619792938232422,
          0.5723845958709717,
          0.5827436447143555,
          0.5931456089019775,
          0.6035406589508057,
          0.6139583587646484,
          0.6243762969970703,
          0.6347293853759766,
          0.6451401710510254,
          0.6555476188659668,
          0.6659657955169678,
          0.6763784885406494,
          0.6867353916168213,
          0.6971430778503418,
          0.7075483798980713,
          0.7179524898529053,
          0.7283632755279541,
          0.7387216091156006,
          0.7491276264190674,
          0.7595477104187012,
          0.7699398994445801,
          0.7802021503448486,
          0.7903625965118408,
          0.800584077835083,
          0.8108053207397461,
          0.8210196495056152,
          0.8312397003173828,
          0.8414537906646729,
          0.8516919612884521,
          0.8618459701538086,
          0.8720619678497314,
          0.8822164535522461,
          0.8924312591552734,
          0.9026584625244141,
          0.9128742218017578,
          0.9230303764343262,
          0.9332449436187744,
          0.9434587955474854,
          0.9536921977996826,
          0.9638607501983643,
          0.9740128517150879,
          0.9842259883880615,
          0.9943792819976807,
          1.0045974254608154,
          1.014754295349121,
          1.0249648094177246,
          1.0351812839508057,
          1.0453941822052002,
          1.0556142330169678,
          1.0657832622528076,
          1.0759975910186768,
          1.086151361465454,
          1.0963685512542725,
          1.1065268516540527,
          1.1167428493499756,
          1.1268928050994873,
          1.1371057033538818,
          1.1473228931427002,
          1.1575355529785156,
          1.1677489280700684,
          1.1779015064239502,
          1.1881153583526611,
          1.1982669830322266,
          1.2084801197052002,
          1.2186377048492432,
          1.2288475036621094,
          1.238997220993042,
          1.2491483688354492,
          1.259364366531372,
          1.2695775032043457,
          1.2797954082489014,
          1.2899482250213623,
          1.300161600112915,
          1.310314416885376,
          1.3205311298370361,
          1.3306884765625,
          1.340900182723999,
          1.3510496616363525,
          1.3612639904022217,
          1.3714799880981445,
          1.381711721420288,
          1.3919265270233154,
          1.4020800590515137,
          1.4122989177703857,
          1.4224514961242676,
          1.4326837062835693,
          1.4428510665893555,
          1.4530677795410156,
          1.4632837772369385,
          1.4678831100463867
         ],
         "y": [
          0,
          35.42578125,
          73.61328125,
          113.61328125,
          151.61328125,
          189.61328125,
          229.61328125,
          267.61328125,
          305.61328125,
          345.61328125,
          385.61328125,
          423.61328125,
          463.61328125,
          501.61328125,
          539.61328125,
          579.61328125,
          617.61328125,
          655.61328125,
          695.61328125,
          733.6171875,
          771.6171875,
          811.6171875,
          849.6171875,
          889.6171875,
          927.6171875,
          967.6171875,
          1005.6171875,
          1045.6171875,
          1083.6171875,
          1123.6171875,
          1161.6171875,
          1201.6171875,
          1239.6171875,
          1277.6171875,
          1317.6171875,
          1355.6171875,
          1393.6171875,
          1433.6171875,
          1471.6171875,
          1511.6171875,
          1549.6171875,
          1589.6171875,
          1627.6171875,
          1667.6171875,
          1705.6171875,
          1745.6171875,
          1783.6171875,
          1823.6171875,
          1861.6171875,
          1901.6171875,
          1939.6171875,
          1977.6171875,
          2017.6171875,
          2055.6171875,
          2095.6171875,
          2133.6171875,
          2173.6171875,
          2211.6171875,
          2249.6171875,
          2289.6171875,
          2327.6171875,
          2367.6171875,
          2405.6171875,
          2445.6171875,
          2485.6171875,
          2523.6171875,
          2561.6171875,
          2601.6171875,
          2641.6171875,
          2679.6171875,
          2719.6171875,
          2757.6171875,
          2797.6171875,
          2835.6171875,
          2851.6171875,
          2851.6171875,
          2851.6171875,
          2851.6171875,
          2851.6171875,
          2851.6171875,
          2851.6171875,
          2851.6171875,
          2851.6171875,
          2851.6171875,
          2851.6171875,
          2851.6171875,
          2851.6171875,
          2851.6171875,
          2851.6171875,
          2851.6171875,
          2851.6171875,
          2851.6171875,
          2851.6171875,
          2851.6171875,
          2851.6171875,
          2851.6171875,
          2851.6171875,
          2851.6171875,
          2851.6171875,
          2851.6171875,
          2851.6171875,
          2851.6171875,
          2851.6171875,
          2851.6171875,
          2851.6171875,
          2851.6171875,
          2851.6171875,
          2851.6171875,
          2851.6171875,
          2851.6171875,
          2851.6171875,
          2851.6171875,
          2851.6171875,
          2851.6171875,
          2851.6171875,
          2851.6171875,
          2851.6171875,
          2851.6171875,
          2851.6171875,
          2851.6171875,
          2851.6171875,
          2851.6171875,
          2851.6171875,
          2851.6171875,
          2851.6171875,
          2851.6171875,
          2851.6171875,
          2851.6171875,
          2851.6171875,
          2851.6171875,
          2851.6171875,
          2851.6171875,
          2851.6171875,
          2851.6171875,
          2851.6171875,
          2851.6171875,
          2851.6171875,
          2851.6171875,
          2851.6171875,
          2851.6171875,
          2851.6171875,
          2851.6171875,
          2851.6171875,
          2852.11328125
         ]
        }
       ],
       "layout": {
        "template": {
         "data": {
          "bar": [
           {
            "error_x": {
             "color": "#2a3f5f"
            },
            "error_y": {
             "color": "#2a3f5f"
            },
            "marker": {
             "line": {
              "color": "#E5ECF6",
              "width": 0.5
             }
            },
            "type": "bar"
           }
          ],
          "barpolar": [
           {
            "marker": {
             "line": {
              "color": "#E5ECF6",
              "width": 0.5
             }
            },
            "type": "barpolar"
           }
          ],
          "carpet": [
           {
            "aaxis": {
             "endlinecolor": "#2a3f5f",
             "gridcolor": "white",
             "linecolor": "white",
             "minorgridcolor": "white",
             "startlinecolor": "#2a3f5f"
            },
            "baxis": {
             "endlinecolor": "#2a3f5f",
             "gridcolor": "white",
             "linecolor": "white",
             "minorgridcolor": "white",
             "startlinecolor": "#2a3f5f"
            },
            "type": "carpet"
           }
          ],
          "choropleth": [
           {
            "colorbar": {
             "outlinewidth": 0,
             "ticks": ""
            },
            "type": "choropleth"
           }
          ],
          "contour": [
           {
            "colorbar": {
             "outlinewidth": 0,
             "ticks": ""
            },
            "colorscale": [
             [
              0,
              "#0d0887"
             ],
             [
              0.1111111111111111,
              "#46039f"
             ],
             [
              0.2222222222222222,
              "#7201a8"
             ],
             [
              0.3333333333333333,
              "#9c179e"
             ],
             [
              0.4444444444444444,
              "#bd3786"
             ],
             [
              0.5555555555555556,
              "#d8576b"
             ],
             [
              0.6666666666666666,
              "#ed7953"
             ],
             [
              0.7777777777777778,
              "#fb9f3a"
             ],
             [
              0.8888888888888888,
              "#fdca26"
             ],
             [
              1,
              "#f0f921"
             ]
            ],
            "type": "contour"
           }
          ],
          "contourcarpet": [
           {
            "colorbar": {
             "outlinewidth": 0,
             "ticks": ""
            },
            "type": "contourcarpet"
           }
          ],
          "heatmap": [
           {
            "colorbar": {
             "outlinewidth": 0,
             "ticks": ""
            },
            "colorscale": [
             [
              0,
              "#0d0887"
             ],
             [
              0.1111111111111111,
              "#46039f"
             ],
             [
              0.2222222222222222,
              "#7201a8"
             ],
             [
              0.3333333333333333,
              "#9c179e"
             ],
             [
              0.4444444444444444,
              "#bd3786"
             ],
             [
              0.5555555555555556,
              "#d8576b"
             ],
             [
              0.6666666666666666,
              "#ed7953"
             ],
             [
              0.7777777777777778,
              "#fb9f3a"
             ],
             [
              0.8888888888888888,
              "#fdca26"
             ],
             [
              1,
              "#f0f921"
             ]
            ],
            "type": "heatmap"
           }
          ],
          "heatmapgl": [
           {
            "colorbar": {
             "outlinewidth": 0,
             "ticks": ""
            },
            "colorscale": [
             [
              0,
              "#0d0887"
             ],
             [
              0.1111111111111111,
              "#46039f"
             ],
             [
              0.2222222222222222,
              "#7201a8"
             ],
             [
              0.3333333333333333,
              "#9c179e"
             ],
             [
              0.4444444444444444,
              "#bd3786"
             ],
             [
              0.5555555555555556,
              "#d8576b"
             ],
             [
              0.6666666666666666,
              "#ed7953"
             ],
             [
              0.7777777777777778,
              "#fb9f3a"
             ],
             [
              0.8888888888888888,
              "#fdca26"
             ],
             [
              1,
              "#f0f921"
             ]
            ],
            "type": "heatmapgl"
           }
          ],
          "histogram": [
           {
            "marker": {
             "colorbar": {
              "outlinewidth": 0,
              "ticks": ""
             }
            },
            "type": "histogram"
           }
          ],
          "histogram2d": [
           {
            "colorbar": {
             "outlinewidth": 0,
             "ticks": ""
            },
            "colorscale": [
             [
              0,
              "#0d0887"
             ],
             [
              0.1111111111111111,
              "#46039f"
             ],
             [
              0.2222222222222222,
              "#7201a8"
             ],
             [
              0.3333333333333333,
              "#9c179e"
             ],
             [
              0.4444444444444444,
              "#bd3786"
             ],
             [
              0.5555555555555556,
              "#d8576b"
             ],
             [
              0.6666666666666666,
              "#ed7953"
             ],
             [
              0.7777777777777778,
              "#fb9f3a"
             ],
             [
              0.8888888888888888,
              "#fdca26"
             ],
             [
              1,
              "#f0f921"
             ]
            ],
            "type": "histogram2d"
           }
          ],
          "histogram2dcontour": [
           {
            "colorbar": {
             "outlinewidth": 0,
             "ticks": ""
            },
            "colorscale": [
             [
              0,
              "#0d0887"
             ],
             [
              0.1111111111111111,
              "#46039f"
             ],
             [
              0.2222222222222222,
              "#7201a8"
             ],
             [
              0.3333333333333333,
              "#9c179e"
             ],
             [
              0.4444444444444444,
              "#bd3786"
             ],
             [
              0.5555555555555556,
              "#d8576b"
             ],
             [
              0.6666666666666666,
              "#ed7953"
             ],
             [
              0.7777777777777778,
              "#fb9f3a"
             ],
             [
              0.8888888888888888,
              "#fdca26"
             ],
             [
              1,
              "#f0f921"
             ]
            ],
            "type": "histogram2dcontour"
           }
          ],
          "mesh3d": [
           {
            "colorbar": {
             "outlinewidth": 0,
             "ticks": ""
            },
            "type": "mesh3d"
           }
          ],
          "parcoords": [
           {
            "line": {
             "colorbar": {
              "outlinewidth": 0,
              "ticks": ""
             }
            },
            "type": "parcoords"
           }
          ],
          "pie": [
           {
            "automargin": true,
            "type": "pie"
           }
          ],
          "scatter": [
           {
            "marker": {
             "colorbar": {
              "outlinewidth": 0,
              "ticks": ""
             }
            },
            "type": "scatter"
           }
          ],
          "scatter3d": [
           {
            "line": {
             "colorbar": {
              "outlinewidth": 0,
              "ticks": ""
             }
            },
            "marker": {
             "colorbar": {
              "outlinewidth": 0,
              "ticks": ""
             }
            },
            "type": "scatter3d"
           }
          ],
          "scattercarpet": [
           {
            "marker": {
             "colorbar": {
              "outlinewidth": 0,
              "ticks": ""
             }
            },
            "type": "scattercarpet"
           }
          ],
          "scattergeo": [
           {
            "marker": {
             "colorbar": {
              "outlinewidth": 0,
              "ticks": ""
             }
            },
            "type": "scattergeo"
           }
          ],
          "scattergl": [
           {
            "marker": {
             "colorbar": {
              "outlinewidth": 0,
              "ticks": ""
             }
            },
            "type": "scattergl"
           }
          ],
          "scattermapbox": [
           {
            "marker": {
             "colorbar": {
              "outlinewidth": 0,
              "ticks": ""
             }
            },
            "type": "scattermapbox"
           }
          ],
          "scatterpolar": [
           {
            "marker": {
             "colorbar": {
              "outlinewidth": 0,
              "ticks": ""
             }
            },
            "type": "scatterpolar"
           }
          ],
          "scatterpolargl": [
           {
            "marker": {
             "colorbar": {
              "outlinewidth": 0,
              "ticks": ""
             }
            },
            "type": "scatterpolargl"
           }
          ],
          "scatterternary": [
           {
            "marker": {
             "colorbar": {
              "outlinewidth": 0,
              "ticks": ""
             }
            },
            "type": "scatterternary"
           }
          ],
          "surface": [
           {
            "colorbar": {
             "outlinewidth": 0,
             "ticks": ""
            },
            "colorscale": [
             [
              0,
              "#0d0887"
             ],
             [
              0.1111111111111111,
              "#46039f"
             ],
             [
              0.2222222222222222,
              "#7201a8"
             ],
             [
              0.3333333333333333,
              "#9c179e"
             ],
             [
              0.4444444444444444,
              "#bd3786"
             ],
             [
              0.5555555555555556,
              "#d8576b"
             ],
             [
              0.6666666666666666,
              "#ed7953"
             ],
             [
              0.7777777777777778,
              "#fb9f3a"
             ],
             [
              0.8888888888888888,
              "#fdca26"
             ],
             [
              1,
              "#f0f921"
             ]
            ],
            "type": "surface"
           }
          ],
          "table": [
           {
            "cells": {
             "fill": {
              "color": "#EBF0F8"
             },
             "line": {
              "color": "white"
             }
            },
            "header": {
             "fill": {
              "color": "#C8D4E3"
             },
             "line": {
              "color": "white"
             }
            },
            "type": "table"
           }
          ]
         },
         "layout": {
          "annotationdefaults": {
           "arrowcolor": "#2a3f5f",
           "arrowhead": 0,
           "arrowwidth": 1
          },
          "autotypenumbers": "strict",
          "coloraxis": {
           "colorbar": {
            "outlinewidth": 0,
            "ticks": ""
           }
          },
          "colorscale": {
           "diverging": [
            [
             0,
             "#8e0152"
            ],
            [
             0.1,
             "#c51b7d"
            ],
            [
             0.2,
             "#de77ae"
            ],
            [
             0.3,
             "#f1b6da"
            ],
            [
             0.4,
             "#fde0ef"
            ],
            [
             0.5,
             "#f7f7f7"
            ],
            [
             0.6,
             "#e6f5d0"
            ],
            [
             0.7,
             "#b8e186"
            ],
            [
             0.8,
             "#7fbc41"
            ],
            [
             0.9,
             "#4d9221"
            ],
            [
             1,
             "#276419"
            ]
           ],
           "sequential": [
            [
             0,
             "#0d0887"
            ],
            [
             0.1111111111111111,
             "#46039f"
            ],
            [
             0.2222222222222222,
             "#7201a8"
            ],
            [
             0.3333333333333333,
             "#9c179e"
            ],
            [
             0.4444444444444444,
             "#bd3786"
            ],
            [
             0.5555555555555556,
             "#d8576b"
            ],
            [
             0.6666666666666666,
             "#ed7953"
            ],
            [
             0.7777777777777778,
             "#fb9f3a"
            ],
            [
             0.8888888888888888,
             "#fdca26"
            ],
            [
             1,
             "#f0f921"
            ]
           ],
           "sequentialminus": [
            [
             0,
             "#0d0887"
            ],
            [
             0.1111111111111111,
             "#46039f"
            ],
            [
             0.2222222222222222,
             "#7201a8"
            ],
            [
             0.3333333333333333,
             "#9c179e"
            ],
            [
             0.4444444444444444,
             "#bd3786"
            ],
            [
             0.5555555555555556,
             "#d8576b"
            ],
            [
             0.6666666666666666,
             "#ed7953"
            ],
            [
             0.7777777777777778,
             "#fb9f3a"
            ],
            [
             0.8888888888888888,
             "#fdca26"
            ],
            [
             1,
             "#f0f921"
            ]
           ]
          },
          "colorway": [
           "#636efa",
           "#EF553B",
           "#00cc96",
           "#ab63fa",
           "#FFA15A",
           "#19d3f3",
           "#FF6692",
           "#B6E880",
           "#FF97FF",
           "#FECB52"
          ],
          "font": {
           "color": "#2a3f5f"
          },
          "geo": {
           "bgcolor": "white",
           "lakecolor": "white",
           "landcolor": "#E5ECF6",
           "showlakes": true,
           "showland": true,
           "subunitcolor": "white"
          },
          "hoverlabel": {
           "align": "left"
          },
          "hovermode": "closest",
          "mapbox": {
           "style": "light"
          },
          "paper_bgcolor": "white",
          "plot_bgcolor": "#E5ECF6",
          "polar": {
           "angularaxis": {
            "gridcolor": "white",
            "linecolor": "white",
            "ticks": ""
           },
           "bgcolor": "#E5ECF6",
           "radialaxis": {
            "gridcolor": "white",
            "linecolor": "white",
            "ticks": ""
           }
          },
          "scene": {
           "xaxis": {
            "backgroundcolor": "#E5ECF6",
            "gridcolor": "white",
            "gridwidth": 2,
            "linecolor": "white",
            "showbackground": true,
            "ticks": "",
            "zerolinecolor": "white"
           },
           "yaxis": {
            "backgroundcolor": "#E5ECF6",
            "gridcolor": "white",
            "gridwidth": 2,
            "linecolor": "white",
            "showbackground": true,
            "ticks": "",
            "zerolinecolor": "white"
           },
           "zaxis": {
            "backgroundcolor": "#E5ECF6",
            "gridcolor": "white",
            "gridwidth": 2,
            "linecolor": "white",
            "showbackground": true,
            "ticks": "",
            "zerolinecolor": "white"
           }
          },
          "shapedefaults": {
           "line": {
            "color": "#2a3f5f"
           }
          },
          "ternary": {
           "aaxis": {
            "gridcolor": "white",
            "linecolor": "white",
            "ticks": ""
           },
           "baxis": {
            "gridcolor": "white",
            "linecolor": "white",
            "ticks": ""
           },
           "bgcolor": "#E5ECF6",
           "caxis": {
            "gridcolor": "white",
            "linecolor": "white",
            "ticks": ""
           }
          },
          "title": {
           "x": 0.05
          },
          "xaxis": {
           "automargin": true,
           "gridcolor": "white",
           "linecolor": "white",
           "ticks": "",
           "title": {
            "standoff": 15
           },
           "zerolinecolor": "white",
           "zerolinewidth": 2
          },
          "yaxis": {
           "automargin": true,
           "gridcolor": "white",
           "linecolor": "white",
           "ticks": "",
           "title": {
            "standoff": 15
           },
           "zerolinecolor": "white",
           "zerolinewidth": 2
          }
         }
        },
        "title": {
         "text": "Mean computation",
         "x": 0.5,
         "xanchor": "center",
         "y": 0.9,
         "yanchor": "top"
        },
        "xaxis": {
         "title": {
          "text": "Time (in seconds)"
         }
        },
        "yaxis": {
         "title": {
          "text": "Memory used (in MiB)"
         }
        }
       }
      },
      "text/html": [
       "<div>                            <div id=\"ce33bb86-b46f-459c-8412-4a4b88671073\" class=\"plotly-graph-div\" style=\"height:525px; width:100%;\"></div>            <script type=\"text/javascript\">                require([\"plotly\"], function(Plotly) {                    window.PLOTLYENV=window.PLOTLYENV || {};                                    if (document.getElementById(\"ce33bb86-b46f-459c-8412-4a4b88671073\")) {                    Plotly.newPlot(                        \"ce33bb86-b46f-459c-8412-4a4b88671073\",                        [{\"mode\": \"lines\", \"name\": \"ia_mean\", \"type\": \"scatter\", \"x\": [0.0003695487976074219, 0.011218786239624023, 0.022401094436645508, 0.03365302085876465, 0.04471540451049805, 0.056205034255981445, 0.06738686561584473, 0.07847142219543457, 0.08945631980895996, 0.10082721710205078, 0.11211752891540527, 0.12304091453552246, 0.13408398628234863, 0.14549899101257324, 0.15659761428833008, 0.16756272315979004, 0.17860674858093262, 0.1890270709991455, 0.2000293731689453, 0.21110010147094727, 0.22191429138183594, 0.23320579528808594, 0.24469399452209473, 0.2558920383453369, 0.2669055461883545, 0.27788233757019043, 0.2883157730102539, 0.3012888431549072, 0.31182861328125, 0.3229854106903076, 0.33423280715942383, 0.34546732902526855, 0.3567044734954834, 0.36765074729919434, 0.3785421848297119, 0.38979482650756836, 0.4008605480194092, 0.4120640754699707, 0.42331910133361816, 0.43385958671569824, 0.44500064849853516, 0.456404447555542, 0.4676179885864258, 0.47876644134521484, 0.48980712890625, 0.500777006149292, 0.5118377208709717, 0.5230674743652344, 0.5340001583099365, 0.545062780380249, 0.556117057800293, 0.5668444633483887, 0.5776195526123047, 0.5891106128692627, 0.6002402305603027, 0.6110105514526367, 0.6214847564697266, 0.6320865154266357, 0.6429052352905273, 0.6543521881103516, 0.6656758785247803, 0.6767480373382568, 0.688246488571167, 0.6993272304534912, 0.7105631828308105, 0.72188401222229, 0.7330458164215088, 0.7440869808197021, 0.7553720474243164, 0.7668170928955078, 0.7779076099395752, 0.7886025905609131, 0.799048900604248, 0.8102309703826904, 0.8213307857513428, 0.8325080871582031, 0.843803882598877, 0.854874849319458, 0.8657331466674805, 0.8768701553344727, 0.8881206512451172, 0.8991191387176514, 0.910362720489502, 0.9217488765716553, 0.9329483509063721, 0.9440052509307861, 0.9550604820251465, 0.9663927555084229, 0.9776883125305176, 0.9886713027954102, 0.9997577667236328, 1.0109508037567139, 1.0221083164215088, 1.0333094596862793, 1.044449806213379, 1.055696964263916, 1.0663304328918457, 1.077479362487793, 1.088646411895752, 1.0990879535675049, 1.1096746921539307, 1.1208245754241943, 1.1323115825653076, 1.1432912349700928, 1.1544620990753174, 1.1649274826049805, 1.165330410003662], \"y\": [0.0, 85.3046875, 95.234375, 99.984375, 104.19140625, 108.0078125, 112.0078125, 116.0078125, 120.05078125, 124.6328125, 127.140625, 131.140625, 135.140625, 139.65625, 143.65625, 149.65625, 155.65625, 159.65625, 163.98828125, 169.98828125, 175.98828125, 181.98828125, 185.5390625, 190.046875, 196.046875, 200.046875, 206.046875, 208.68359375, 210.68359375, 214.68359375, 217.09765625, 221.09765625, 223.09765625, 227.09765625, 228.82421875, 232.82421875, 234.82421875, 237.5625, 239.5625, 243.5625, 247.5625, 249.8671875, 253.8671875, 257.8671875, 261.8671875, 265.61328125, 269.8671875, 273.8671875, 277.8671875, 281.546875, 287.546875, 291.546875, 297.546875, 301.09765625, 307.09765625, 313.09765625, 319.09765625, 325.09765625, 328.5625, 334.81640625, 338.81640625, 344.81640625, 347.1640625, 349.1640625, 353.1640625, 354.83203125, 358.83203125, 362.83203125, 364.83203125, 367.84765625, 369.84765625, 373.84765625, 376.09375, 377.3515625, 381.3515625, 385.3515625, 386.94140625, 390.94140625, 394.94140625, 398.94140625, 399.19140625, 403.69140625, 407.69140625, 408.70703125, 414.70703125, 418.70703125, 424.70703125, 427.4609375, 433.4609375, 439.4609375, 445.4609375, 447.0078125, 451.26171875, 457.26171875, 461.26171875, 462.2109375, 466.2109375, 470.2109375, 472.2109375, 472.55078125, 476.55078125, 480.55078125, 481.66015625, 483.9140625, 487.9140625, 485.421875, 485.421875]}, {\"mode\": \"lines\", \"name\": \"ia_mean_cratio\", \"type\": \"scatter\", \"x\": [0.0003523826599121094, 0.010766029357910156, 0.021015644073486328, 0.0333254337310791, 0.04376959800720215, 0.05423927307128906, 0.06460332870483398, 0.07520747184753418, 0.08575844764709473, 0.09630346298217773, 0.10705399513244629, 0.11765289306640625, 0.1282060146331787, 0.1390209197998047, 0.14981889724731445, 0.16072368621826172, 0.17145252227783203, 0.18254446983337402, 0.1929950714111328, 0.20340776443481445, 0.21401071548461914, 0.22475528717041016, 0.2351396083831787, 0.2460334300994873, 0.25655055046081543, 0.2673635482788086, 0.27784156799316406, 0.28838062286376953, 0.2991750240325928, 0.3103358745574951, 0.3208801746368408, 0.3313558101654053, 0.3419051170349121, 0.3528439998626709, 0.36381983757019043, 0.37429118156433105, 0.3850560188293457, 0.395780086517334, 0.40656256675720215, 0.41718220710754395, 0.42769789695739746, 0.4382593631744385, 0.44889140129089355, 0.4594247341156006, 0.4702785015106201, 0.4806971549987793, 0.49164724349975586, 0.5021243095397949, 0.5127604007720947, 0.5234594345092773, 0.5341193675994873, 0.544539213180542, 0.5555095672607422, 0.566112756729126, 0.5764639377593994, 0.5868709087371826, 0.5971770286560059, 0.5972230434417725], \"y\": [0.0, 1.24609375, 1.24609375, 16.734375, 28.85546875, 42.85546875, 54.85546875, 65.72265625, 81.72265625, 99.72265625, 115.72265625, 129.8984375, 144.73828125, 164.73828125, 180.73828125, 196.73828125, 214.73828125, 227.3359375, 243.3359375, 259.3359375, 277.3359375, 293.3359375, 311.4296875, 322.05078125, 338.05078125, 354.05078125, 370.05078125, 386.05078125, 396.9765625, 402.9765625, 410.26953125, 422.26953125, 436.26953125, 446.78125, 462.78125, 476.78125, 492.78125, 508.78125, 521.01953125, 535.01953125, 553.01953125, 571.01953125, 589.01953125, 605.1875, 619.47265625, 635.47265625, 653.47265625, 669.47265625, 685.47265625, 698.53125, 714.53125, 730.53125, 746.53125, 762.70703125, 776.89453125, 782.6484375, 783.828125, 783.828125]}, {\"mode\": \"lines\", \"name\": \"ia_mean_speed\", \"type\": \"scatter\", \"x\": [0.00031256675720214844, 0.010650873184204102, 0.02080702781677246, 0.03191089630126953, 0.04227566719055176, 0.05256533622741699, 0.06280684471130371, 0.07327485084533691, 0.08372259140014648, 0.0944371223449707, 0.10484695434570312, 0.11545038223266602, 0.1258373260498047, 0.13628578186035156, 0.14677047729492188, 0.1572413444519043, 0.16776680946350098, 0.1782069206237793, 0.18879342079162598, 0.1995842456817627, 0.2101905345916748, 0.2206251621246338, 0.23137402534484863, 0.24205493927001953, 0.2526862621307373, 0.26305437088012695, 0.2735271453857422, 0.28397083282470703, 0.2942173480987549, 0.3047146797180176, 0.3151967525482178, 0.32562828063964844, 0.33642029762268066, 0.3468320369720459, 0.35741257667541504, 0.3677983283996582, 0.37826013565063477, 0.3887443542480469, 0.3991990089416504, 0.409618616104126, 0.42017459869384766, 0.4309225082397461, 0.4413621425628662, 0.452009916305542, 0.4624781608581543, 0.4729475975036621, 0.48335909843444824, 0.49384593963623047, 0.5043196678161621, 0.5147440433502197, 0.5251200199127197, 0.5355544090270996, 0.5459308624267578, 0.5571427345275879, 0.5676002502441406, 0.5780587196350098, 0.5885169506072998, 0.5992817878723145, 0.6097474098205566, 0.6202266216278076, 0.6271703243255615], \"y\": [0.0, 4.00390625, 4.26171875, 33.4375, 49.6640625, 63.6640625, 75.6640625, 86.46875, 106.46875, 126.46875, 144.46875, 164.46875, 182.46875, 199.93359375, 223.93359375, 245.93359375, 269.93359375, 292.09765625, 311.875, 331.875, 351.875, 371.875, 391.875, 411.875, 428.15234375, 446.15234375, 464.15234375, 482.15234375, 498.15234375, 518.15234375, 529.7109375, 537.7109375, 547.84765625, 561.84765625, 577.84765625, 591.84765625, 609.39453125, 627.39453125, 647.39453125, 665.39453125, 685.39453125, 699.69921875, 721.69921875, 743.69921875, 763.69921875, 785.69921875, 807.69921875, 824.25390625, 844.25390625, 864.25390625, 884.25390625, 904.25390625, 919.4296875, 941.4296875, 959.4296875, 979.4296875, 999.4296875, 1019.4296875, 1031.93359375, 1039.93359375, 1039.91796875]}, {\"mode\": \"lines\", \"name\": \"np_mean\", \"type\": \"scatter\", \"x\": [0.0003724098205566406, 0.010831356048583984, 0.02123427391052246, 0.031672000885009766, 0.042014360427856445, 0.05242609977722168, 0.06277775764465332, 0.0731809139251709, 0.08358311653137207, 0.0940251350402832, 0.1044607162475586, 0.11479902267456055, 0.1252150535583496, 0.13565564155578613, 0.14600062370300293, 0.15642237663269043, 0.16677522659301758, 0.1771841049194336, 0.18759989738464355, 0.19802403450012207, 0.20843219757080078, 0.21879124641418457, 0.2292025089263916, 0.2396378517150879, 0.2499864101409912, 0.2604033946990967, 0.27076077461242676, 0.2811713218688965, 0.2915761470794678, 0.3019852638244629, 0.3123958110809326, 0.3227560520172119, 0.33316826820373535, 0.34360218048095703, 0.35402584075927734, 0.3644399642944336, 0.3748018741607666, 0.38521456718444824, 0.3956429958343506, 0.4059910774230957, 0.4163937568664551, 0.42675113677978516, 0.4371664524078369, 0.4475703239440918, 0.45799970626831055, 0.46841979026794434, 0.4787728786468506, 0.489194393157959, 0.49961256980895996, 0.509974479675293, 0.5203871726989746, 0.530735969543457, 0.541151762008667, 0.5515627861022949, 0.5619792938232422, 0.5723845958709717, 0.5827436447143555, 0.5931456089019775, 0.6035406589508057, 0.6139583587646484, 0.6243762969970703, 0.6347293853759766, 0.6451401710510254, 0.6555476188659668, 0.6659657955169678, 0.6763784885406494, 0.6867353916168213, 0.6971430778503418, 0.7075483798980713, 0.7179524898529053, 0.7283632755279541, 0.7387216091156006, 0.7491276264190674, 0.7595477104187012, 0.7699398994445801, 0.7802021503448486, 0.7903625965118408, 0.800584077835083, 0.8108053207397461, 0.8210196495056152, 0.8312397003173828, 0.8414537906646729, 0.8516919612884521, 0.8618459701538086, 0.8720619678497314, 0.8822164535522461, 0.8924312591552734, 0.9026584625244141, 0.9128742218017578, 0.9230303764343262, 0.9332449436187744, 0.9434587955474854, 0.9536921977996826, 0.9638607501983643, 0.9740128517150879, 0.9842259883880615, 0.9943792819976807, 1.0045974254608154, 1.014754295349121, 1.0249648094177246, 1.0351812839508057, 1.0453941822052002, 1.0556142330169678, 1.0657832622528076, 1.0759975910186768, 1.086151361465454, 1.0963685512542725, 1.1065268516540527, 1.1167428493499756, 1.1268928050994873, 1.1371057033538818, 1.1473228931427002, 1.1575355529785156, 1.1677489280700684, 1.1779015064239502, 1.1881153583526611, 1.1982669830322266, 1.2084801197052002, 1.2186377048492432, 1.2288475036621094, 1.238997220993042, 1.2491483688354492, 1.259364366531372, 1.2695775032043457, 1.2797954082489014, 1.2899482250213623, 1.300161600112915, 1.310314416885376, 1.3205311298370361, 1.3306884765625, 1.340900182723999, 1.3510496616363525, 1.3612639904022217, 1.3714799880981445, 1.381711721420288, 1.3919265270233154, 1.4020800590515137, 1.4122989177703857, 1.4224514961242676, 1.4326837062835693, 1.4428510665893555, 1.4530677795410156, 1.4632837772369385, 1.4678831100463867], \"y\": [0.0, 35.42578125, 73.61328125, 113.61328125, 151.61328125, 189.61328125, 229.61328125, 267.61328125, 305.61328125, 345.61328125, 385.61328125, 423.61328125, 463.61328125, 501.61328125, 539.61328125, 579.61328125, 617.61328125, 655.61328125, 695.61328125, 733.6171875, 771.6171875, 811.6171875, 849.6171875, 889.6171875, 927.6171875, 967.6171875, 1005.6171875, 1045.6171875, 1083.6171875, 1123.6171875, 1161.6171875, 1201.6171875, 1239.6171875, 1277.6171875, 1317.6171875, 1355.6171875, 1393.6171875, 1433.6171875, 1471.6171875, 1511.6171875, 1549.6171875, 1589.6171875, 1627.6171875, 1667.6171875, 1705.6171875, 1745.6171875, 1783.6171875, 1823.6171875, 1861.6171875, 1901.6171875, 1939.6171875, 1977.6171875, 2017.6171875, 2055.6171875, 2095.6171875, 2133.6171875, 2173.6171875, 2211.6171875, 2249.6171875, 2289.6171875, 2327.6171875, 2367.6171875, 2405.6171875, 2445.6171875, 2485.6171875, 2523.6171875, 2561.6171875, 2601.6171875, 2641.6171875, 2679.6171875, 2719.6171875, 2757.6171875, 2797.6171875, 2835.6171875, 2851.6171875, 2851.6171875, 2851.6171875, 2851.6171875, 2851.6171875, 2851.6171875, 2851.6171875, 2851.6171875, 2851.6171875, 2851.6171875, 2851.6171875, 2851.6171875, 2851.6171875, 2851.6171875, 2851.6171875, 2851.6171875, 2851.6171875, 2851.6171875, 2851.6171875, 2851.6171875, 2851.6171875, 2851.6171875, 2851.6171875, 2851.6171875, 2851.6171875, 2851.6171875, 2851.6171875, 2851.6171875, 2851.6171875, 2851.6171875, 2851.6171875, 2851.6171875, 2851.6171875, 2851.6171875, 2851.6171875, 2851.6171875, 2851.6171875, 2851.6171875, 2851.6171875, 2851.6171875, 2851.6171875, 2851.6171875, 2851.6171875, 2851.6171875, 2851.6171875, 2851.6171875, 2851.6171875, 2851.6171875, 2851.6171875, 2851.6171875, 2851.6171875, 2851.6171875, 2851.6171875, 2851.6171875, 2851.6171875, 2851.6171875, 2851.6171875, 2851.6171875, 2851.6171875, 2851.6171875, 2851.6171875, 2851.6171875, 2851.6171875, 2851.6171875, 2851.6171875, 2851.6171875, 2851.6171875, 2851.6171875, 2851.6171875, 2852.11328125]}],                        {\"template\": {\"data\": {\"bar\": [{\"error_x\": {\"color\": \"#2a3f5f\"}, \"error_y\": {\"color\": \"#2a3f5f\"}, \"marker\": {\"line\": {\"color\": \"#E5ECF6\", \"width\": 0.5}}, \"type\": \"bar\"}], \"barpolar\": [{\"marker\": {\"line\": {\"color\": \"#E5ECF6\", \"width\": 0.5}}, \"type\": \"barpolar\"}], \"carpet\": [{\"aaxis\": {\"endlinecolor\": \"#2a3f5f\", \"gridcolor\": \"white\", \"linecolor\": \"white\", \"minorgridcolor\": \"white\", \"startlinecolor\": \"#2a3f5f\"}, \"baxis\": {\"endlinecolor\": \"#2a3f5f\", \"gridcolor\": \"white\", \"linecolor\": \"white\", \"minorgridcolor\": \"white\", \"startlinecolor\": \"#2a3f5f\"}, \"type\": \"carpet\"}], \"choropleth\": [{\"colorbar\": {\"outlinewidth\": 0, \"ticks\": \"\"}, \"type\": \"choropleth\"}], \"contour\": [{\"colorbar\": {\"outlinewidth\": 0, \"ticks\": \"\"}, \"colorscale\": [[0.0, \"#0d0887\"], [0.1111111111111111, \"#46039f\"], [0.2222222222222222, \"#7201a8\"], [0.3333333333333333, \"#9c179e\"], [0.4444444444444444, \"#bd3786\"], [0.5555555555555556, \"#d8576b\"], [0.6666666666666666, \"#ed7953\"], [0.7777777777777778, \"#fb9f3a\"], [0.8888888888888888, \"#fdca26\"], [1.0, \"#f0f921\"]], \"type\": \"contour\"}], \"contourcarpet\": [{\"colorbar\": {\"outlinewidth\": 0, \"ticks\": \"\"}, \"type\": \"contourcarpet\"}], \"heatmap\": [{\"colorbar\": {\"outlinewidth\": 0, \"ticks\": \"\"}, \"colorscale\": [[0.0, \"#0d0887\"], [0.1111111111111111, \"#46039f\"], [0.2222222222222222, \"#7201a8\"], [0.3333333333333333, \"#9c179e\"], [0.4444444444444444, \"#bd3786\"], [0.5555555555555556, \"#d8576b\"], [0.6666666666666666, \"#ed7953\"], [0.7777777777777778, \"#fb9f3a\"], [0.8888888888888888, \"#fdca26\"], [1.0, \"#f0f921\"]], \"type\": \"heatmap\"}], \"heatmapgl\": [{\"colorbar\": {\"outlinewidth\": 0, \"ticks\": \"\"}, \"colorscale\": [[0.0, \"#0d0887\"], [0.1111111111111111, \"#46039f\"], [0.2222222222222222, \"#7201a8\"], [0.3333333333333333, \"#9c179e\"], [0.4444444444444444, \"#bd3786\"], [0.5555555555555556, \"#d8576b\"], [0.6666666666666666, \"#ed7953\"], [0.7777777777777778, \"#fb9f3a\"], [0.8888888888888888, \"#fdca26\"], [1.0, \"#f0f921\"]], \"type\": \"heatmapgl\"}], \"histogram\": [{\"marker\": {\"colorbar\": {\"outlinewidth\": 0, \"ticks\": \"\"}}, \"type\": \"histogram\"}], \"histogram2d\": [{\"colorbar\": {\"outlinewidth\": 0, \"ticks\": \"\"}, \"colorscale\": [[0.0, \"#0d0887\"], [0.1111111111111111, \"#46039f\"], [0.2222222222222222, \"#7201a8\"], [0.3333333333333333, \"#9c179e\"], [0.4444444444444444, \"#bd3786\"], [0.5555555555555556, \"#d8576b\"], [0.6666666666666666, \"#ed7953\"], [0.7777777777777778, \"#fb9f3a\"], [0.8888888888888888, \"#fdca26\"], [1.0, \"#f0f921\"]], \"type\": \"histogram2d\"}], \"histogram2dcontour\": [{\"colorbar\": {\"outlinewidth\": 0, \"ticks\": \"\"}, \"colorscale\": [[0.0, \"#0d0887\"], [0.1111111111111111, \"#46039f\"], [0.2222222222222222, \"#7201a8\"], [0.3333333333333333, \"#9c179e\"], [0.4444444444444444, \"#bd3786\"], [0.5555555555555556, \"#d8576b\"], [0.6666666666666666, \"#ed7953\"], [0.7777777777777778, \"#fb9f3a\"], [0.8888888888888888, \"#fdca26\"], [1.0, \"#f0f921\"]], \"type\": \"histogram2dcontour\"}], \"mesh3d\": [{\"colorbar\": {\"outlinewidth\": 0, \"ticks\": \"\"}, \"type\": \"mesh3d\"}], \"parcoords\": [{\"line\": {\"colorbar\": {\"outlinewidth\": 0, \"ticks\": \"\"}}, \"type\": \"parcoords\"}], \"pie\": [{\"automargin\": true, \"type\": \"pie\"}], \"scatter\": [{\"marker\": {\"colorbar\": {\"outlinewidth\": 0, \"ticks\": \"\"}}, \"type\": \"scatter\"}], \"scatter3d\": [{\"line\": {\"colorbar\": {\"outlinewidth\": 0, \"ticks\": \"\"}}, \"marker\": {\"colorbar\": {\"outlinewidth\": 0, \"ticks\": \"\"}}, \"type\": \"scatter3d\"}], \"scattercarpet\": [{\"marker\": {\"colorbar\": {\"outlinewidth\": 0, \"ticks\": \"\"}}, \"type\": \"scattercarpet\"}], \"scattergeo\": [{\"marker\": {\"colorbar\": {\"outlinewidth\": 0, \"ticks\": \"\"}}, \"type\": \"scattergeo\"}], \"scattergl\": [{\"marker\": {\"colorbar\": {\"outlinewidth\": 0, \"ticks\": \"\"}}, \"type\": \"scattergl\"}], \"scattermapbox\": [{\"marker\": {\"colorbar\": {\"outlinewidth\": 0, \"ticks\": \"\"}}, \"type\": \"scattermapbox\"}], \"scatterpolar\": [{\"marker\": {\"colorbar\": {\"outlinewidth\": 0, \"ticks\": \"\"}}, \"type\": \"scatterpolar\"}], \"scatterpolargl\": [{\"marker\": {\"colorbar\": {\"outlinewidth\": 0, \"ticks\": \"\"}}, \"type\": \"scatterpolargl\"}], \"scatterternary\": [{\"marker\": {\"colorbar\": {\"outlinewidth\": 0, \"ticks\": \"\"}}, \"type\": \"scatterternary\"}], \"surface\": [{\"colorbar\": {\"outlinewidth\": 0, \"ticks\": \"\"}, \"colorscale\": [[0.0, \"#0d0887\"], [0.1111111111111111, \"#46039f\"], [0.2222222222222222, \"#7201a8\"], [0.3333333333333333, \"#9c179e\"], [0.4444444444444444, \"#bd3786\"], [0.5555555555555556, \"#d8576b\"], [0.6666666666666666, \"#ed7953\"], [0.7777777777777778, \"#fb9f3a\"], [0.8888888888888888, \"#fdca26\"], [1.0, \"#f0f921\"]], \"type\": \"surface\"}], \"table\": [{\"cells\": {\"fill\": {\"color\": \"#EBF0F8\"}, \"line\": {\"color\": \"white\"}}, \"header\": {\"fill\": {\"color\": \"#C8D4E3\"}, \"line\": {\"color\": \"white\"}}, \"type\": \"table\"}]}, \"layout\": {\"annotationdefaults\": {\"arrowcolor\": \"#2a3f5f\", \"arrowhead\": 0, \"arrowwidth\": 1}, \"autotypenumbers\": \"strict\", \"coloraxis\": {\"colorbar\": {\"outlinewidth\": 0, \"ticks\": \"\"}}, \"colorscale\": {\"diverging\": [[0, \"#8e0152\"], [0.1, \"#c51b7d\"], [0.2, \"#de77ae\"], [0.3, \"#f1b6da\"], [0.4, \"#fde0ef\"], [0.5, \"#f7f7f7\"], [0.6, \"#e6f5d0\"], [0.7, \"#b8e186\"], [0.8, \"#7fbc41\"], [0.9, \"#4d9221\"], [1, \"#276419\"]], \"sequential\": [[0.0, \"#0d0887\"], [0.1111111111111111, \"#46039f\"], [0.2222222222222222, \"#7201a8\"], [0.3333333333333333, \"#9c179e\"], [0.4444444444444444, \"#bd3786\"], [0.5555555555555556, \"#d8576b\"], [0.6666666666666666, \"#ed7953\"], [0.7777777777777778, \"#fb9f3a\"], [0.8888888888888888, \"#fdca26\"], [1.0, \"#f0f921\"]], \"sequentialminus\": [[0.0, \"#0d0887\"], [0.1111111111111111, \"#46039f\"], [0.2222222222222222, \"#7201a8\"], [0.3333333333333333, \"#9c179e\"], [0.4444444444444444, \"#bd3786\"], [0.5555555555555556, \"#d8576b\"], [0.6666666666666666, \"#ed7953\"], [0.7777777777777778, \"#fb9f3a\"], [0.8888888888888888, \"#fdca26\"], [1.0, \"#f0f921\"]]}, \"colorway\": [\"#636efa\", \"#EF553B\", \"#00cc96\", \"#ab63fa\", \"#FFA15A\", \"#19d3f3\", \"#FF6692\", \"#B6E880\", \"#FF97FF\", \"#FECB52\"], \"font\": {\"color\": \"#2a3f5f\"}, \"geo\": {\"bgcolor\": \"white\", \"lakecolor\": \"white\", \"landcolor\": \"#E5ECF6\", \"showlakes\": true, \"showland\": true, \"subunitcolor\": \"white\"}, \"hoverlabel\": {\"align\": \"left\"}, \"hovermode\": \"closest\", \"mapbox\": {\"style\": \"light\"}, \"paper_bgcolor\": \"white\", \"plot_bgcolor\": \"#E5ECF6\", \"polar\": {\"angularaxis\": {\"gridcolor\": \"white\", \"linecolor\": \"white\", \"ticks\": \"\"}, \"bgcolor\": \"#E5ECF6\", \"radialaxis\": {\"gridcolor\": \"white\", \"linecolor\": \"white\", \"ticks\": \"\"}}, \"scene\": {\"xaxis\": {\"backgroundcolor\": \"#E5ECF6\", \"gridcolor\": \"white\", \"gridwidth\": 2, \"linecolor\": \"white\", \"showbackground\": true, \"ticks\": \"\", \"zerolinecolor\": \"white\"}, \"yaxis\": {\"backgroundcolor\": \"#E5ECF6\", \"gridcolor\": \"white\", \"gridwidth\": 2, \"linecolor\": \"white\", \"showbackground\": true, \"ticks\": \"\", \"zerolinecolor\": \"white\"}, \"zaxis\": {\"backgroundcolor\": \"#E5ECF6\", \"gridcolor\": \"white\", \"gridwidth\": 2, \"linecolor\": \"white\", \"showbackground\": true, \"ticks\": \"\", \"zerolinecolor\": \"white\"}}, \"shapedefaults\": {\"line\": {\"color\": \"#2a3f5f\"}}, \"ternary\": {\"aaxis\": {\"gridcolor\": \"white\", \"linecolor\": \"white\", \"ticks\": \"\"}, \"baxis\": {\"gridcolor\": \"white\", \"linecolor\": \"white\", \"ticks\": \"\"}, \"bgcolor\": \"#E5ECF6\", \"caxis\": {\"gridcolor\": \"white\", \"linecolor\": \"white\", \"ticks\": \"\"}}, \"title\": {\"x\": 0.05}, \"xaxis\": {\"automargin\": true, \"gridcolor\": \"white\", \"linecolor\": \"white\", \"ticks\": \"\", \"title\": {\"standoff\": 15}, \"zerolinecolor\": \"white\", \"zerolinewidth\": 2}, \"yaxis\": {\"automargin\": true, \"gridcolor\": \"white\", \"linecolor\": \"white\", \"ticks\": \"\", \"title\": {\"standoff\": 15}, \"zerolinecolor\": \"white\", \"zerolinewidth\": 2}}}, \"title\": {\"text\": \"Mean computation\", \"x\": 0.5, \"xanchor\": \"center\", \"y\": 0.9, \"yanchor\": \"top\"}, \"xaxis\": {\"title\": {\"text\": \"Time (in seconds)\"}}, \"yaxis\": {\"title\": {\"text\": \"Memory used (in MiB)\"}}},                        {\"responsive\": true}                    ).then(function(){\n",
       "                            \n",
       "var gd = document.getElementById('ce33bb86-b46f-459c-8412-4a4b88671073');\n",
       "var x = new MutationObserver(function (mutations, observer) {{\n",
       "        var display = window.getComputedStyle(gd).display;\n",
       "        if (!display || display === 'none') {{\n",
       "            console.log([gd, 'removed!']);\n",
       "            Plotly.purge(gd);\n",
       "            observer.disconnect();\n",
       "        }}\n",
       "}});\n",
       "\n",
       "// Listen for the removal of the full notebook cells\n",
       "var notebookContainer = gd.closest('#notebook-container');\n",
       "if (notebookContainer) {{\n",
       "    x.observe(notebookContainer, {childList: true});\n",
       "}}\n",
       "\n",
       "// Listen for the clearing of the current output cell\n",
       "var outputEl = gd.closest('.output');\n",
       "if (outputEl) {{\n",
       "    x.observe(outputEl, {childList: true});\n",
       "}}\n",
       "\n",
       "                        })                };                });            </script>        </div>"
      ]
     },
     "metadata": {},
     "output_type": "display_data"
    }
   ],
   "source": [
    "%mprof_plot ia_mean ia_mean_speed ia_mean_cratio np_mean -t \"Mean computation\""
   ]
  },
  {
   "cell_type": "markdown",
   "metadata": {},
   "source": [
    "Here we saved some good couple of hundreds of MBs for performing the operation and hosting the new output.  As you see, ironArray offers you a wide range of functionality to fight memory scarcity, while keeping execution times very reasonable."
   ]
  },
  {
   "cell_type": "code",
   "execution_count": null,
   "metadata": {},
   "outputs": [],
   "source": []
  }
 ],
 "metadata": {
  "kernelspec": {
   "display_name": "Python 3",
   "language": "python",
   "name": "python3"
  },
  "language_info": {
   "codemirror_mode": {
    "name": "ipython",
    "version": 3
   },
   "file_extension": ".py",
   "mimetype": "text/x-python",
   "name": "python",
   "nbconvert_exporter": "python",
   "pygments_lexer": "ipython3",
   "version": "3.8.5"
  }
 },
 "nbformat": 4,
 "nbformat_minor": 1
}
