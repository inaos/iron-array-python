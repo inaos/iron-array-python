{
 "cells": [
  {
   "cell_type": "markdown",
   "metadata": {},
   "source": [
    "# Expression Evaluation (User Defined Functions)\n",
    "\n",
    "So far we have seen that ironArray has support for evaluating expressions that are passed as strings or as simple Python statements.  There is another, more flexible way for evaluating expressions called User Defined Functions, or UDFs for short.\n",
    "\n",
    "UDFs are small functions that can be expressed in a simple subset of Python.  These functions are then passed to the internal LLVM compiler in ironArray and a binary specific and optimized for the local machine is generated.  This binary is optimized for the CPU and in addition, it will make use of the [Intel SVML library](https://software.intel.com/content/www/us/en/develop/documentation/cpp-compiler-developer-guide-and-reference/top/compiler-reference/intrinsics/intrinsics-for-short-vector-math-library-operations/overview-intrinsics-for-short-vector-math-library-svml-functions.html) for accelerating the evaluation of transcendental functions.\n",
    "\n",
    "Let's see how this works."
   ]
  },
  {
   "cell_type": "code",
   "execution_count": 1,
   "metadata": {
    "pycharm": {
     "name": "#%%\n"
    }
   },
   "outputs": [],
   "source": [
    "%load_ext memprofiler\n",
    "%matplotlib inline\n",
    "import matplotlib.pyplot as plt\n",
    "import numpy as np\n",
    "import iarray as ia"
   ]
  },
  {
   "cell_type": "code",
   "execution_count": 2,
   "metadata": {
    "pycharm": {
     "name": "#%%\n"
    }
   },
   "outputs": [
    {
     "name": "stdout",
     "output_type": "stream",
     "text": [
      "CPU times: user 28 s, sys: 3.05 s, total: 31 s\n",
      "Wall time: 6.2 s\n"
     ]
    }
   ],
   "source": [
    "%%time\n",
    "precip1 = ia.load(\"precip1.iarr\")\n",
    "precip2 = ia.load(\"precip2.iarr\")\n",
    "precip3 = ia.load(\"precip3.iarr\")"
   ]
  },
  {
   "cell_type": "markdown",
   "metadata": {
    "pycharm": {
     "name": "#%% md\n"
    }
   },
   "source": [
    "Now, let's define a simple function that computes the mean for this data:"
   ]
  },
  {
   "cell_type": "code",
   "execution_count": 3,
   "metadata": {
    "pycharm": {
     "name": "#%%\n"
    }
   },
   "outputs": [],
   "source": [
    "from iarray.udf import jit, Array, float32, float64\n",
    "\n",
    "@jit()\n",
    "def mean(out: Array(float32, 3),\n",
    "         p1: Array(float32, 3),\n",
    "         p2: Array(float32, 3),\n",
    "         p3: Array(float32, 3)) -> int:\n",
    "\n",
    "    l = out.shape[0]\n",
    "    m = out.shape[1]\n",
    "    n = out.shape[2]\n",
    "\n",
    "    for i in range(l):\n",
    "        for j in range(m):\n",
    "            for k in range(n):\n",
    "                value = p1[i,j,k] + p2[i,j,k] + p3[i,j,k]\n",
    "                out[i,j,k] = value / 3\n",
    "\n",
    "    return 0"
   ]
  },
  {
   "cell_type": "markdown",
   "metadata": {},
   "source": [
    "This function is known as a _User Defined Function_ (_UDF_ for short) and it has a syntax that is a small subset of Python.  The order of the parameters passed matters: first comes the output and then a variable number of inputs (3 in this case).  The type of the parameters is always an `Array`, where you specify the data type (currently `float32` or `float64`), and the dimensions (3 in this case).\n",
    "\n",
    "Finally, you can make use of the `shape` attribute of the parameters so as to access the _window_ to which the UDF will apply.  It is important to have in mind that the parameters do not have access to whole arrays passed to the function, but only to one part (also known as _window_).  Later we will see an example where we will work more explictly with windows."
   ]
  },
  {
   "cell_type": "markdown",
   "metadata": {},
   "source": [
    "Let's create the ironArray expression from this User Defined Function with:"
   ]
  },
  {
   "cell_type": "code",
   "execution_count": 4,
   "metadata": {},
   "outputs": [
    {
     "name": "stdout",
     "output_type": "stream",
     "text": [
      "CPU times: user 30.9 ms, sys: 6.5 ms, total: 37.4 ms\n",
      "Wall time: 48.2 ms\n"
     ]
    }
   ],
   "source": [
    "%%time\n",
    "precip_expr = ia.expr_from_udf(mean, [precip1, precip2, precip3])"
   ]
  },
  {
   "cell_type": "markdown",
   "metadata": {
    "pycharm": {
     "name": "#%% md\n"
    }
   },
   "source": [
    "As can be seen, converting the user defined function into a native ironArray expression is pretty fast.  And as always, in order to do the actual evaluation, we have to call `.eval()` on the expression:"
   ]
  },
  {
   "cell_type": "code",
   "execution_count": 5,
   "metadata": {
    "pycharm": {
     "name": "#%%\n"
    }
   },
   "outputs": [
    {
     "data": {
      "text/plain": [
       "<IArray (720, 721, 1440) np.float32>"
      ]
     },
     "execution_count": 5,
     "metadata": {},
     "output_type": "execute_result"
    },
    {
     "name": "stdout",
     "output_type": "stream",
     "text": [
      "memprofiler: used 841.29 MiB RAM (peak of 1225.71 MiB) in 9.9544 s, total RAM usage 1891.19 MiB\n"
     ]
    }
   ],
   "source": [
    "%%mprof_run iarray-mean\n",
    "precip_mean = precip_expr.eval()\n",
    "precip_mean"
   ]
  },
  {
   "cell_type": "markdown",
   "metadata": {},
   "source": [
    "Let's compare this time with the evaluation via a regular lazy expression:"
   ]
  },
  {
   "cell_type": "code",
   "execution_count": 6,
   "metadata": {},
   "outputs": [],
   "source": [
    "precip_expr2 = (precip1 + precip2 + precip3) / 3"
   ]
  },
  {
   "cell_type": "code",
   "execution_count": 7,
   "metadata": {},
   "outputs": [
    {
     "data": {
      "text/plain": [
       "<IArray (720, 721, 1440) np.float32>"
      ]
     },
     "execution_count": 7,
     "metadata": {},
     "output_type": "execute_result"
    },
    {
     "name": "stdout",
     "output_type": "stream",
     "text": [
      "memprofiler: used 859.61 MiB RAM (peak of 1250.27 MiB) in 10.1430 s, total RAM usage 2750.87 MiB\n"
     ]
    }
   ],
   "source": [
    "%%mprof_run iarray-mean2\n",
    "precip_mean2 = precip_expr2.eval()\n",
    "precip_mean2"
   ]
  },
  {
   "cell_type": "markdown",
   "metadata": {},
   "source": [
    "Ok, so the times and memory consumption are very close.  It turns out that UDFs compile and execute in ironArray using the very same LLVM machinery, which explains times being similar.  It is up to the user to decide to use one or the other depending on the needs."
   ]
  },
  {
   "cell_type": "markdown",
   "metadata": {
    "pycharm": {
     "name": "#%% md\n"
    }
   },
   "source": [
    "User Defined Function also have access to a good assortment of math functions, and you can access them via the usual Python `math` module. Let's see an example for our dataset, and although this does not make much sense for precipitation data, we can use this as an indication of the efficiency of the computational engine inside ironArray:"
   ]
  },
  {
   "cell_type": "code",
   "execution_count": 8,
   "metadata": {},
   "outputs": [],
   "source": [
    "import math\n",
    "\n",
    "@jit()\n",
    "def trans(out: Array(float32, 3),\n",
    "          p1: Array(float32, 3),\n",
    "          p2: Array(float32, 3),\n",
    "          p3: Array(float32, 3)) -> int:\n",
    "\n",
    "    l = out.shape[0]\n",
    "    m = out.shape[1]\n",
    "    n = out.shape[2]\n",
    "\n",
    "    for i in range(l):\n",
    "        for j in range(m):\n",
    "            for k in range(n):\n",
    "                value = math.sin(p1[i,j,k]) * math.sin(p2[i,j,k]) + math.cos(p2[i,j,k])\n",
    "                value *= math.tan(p1[i,j,k])\n",
    "                value += math.sqrt(p3[i,j,k]) * 2\n",
    "                out[i,j,k] = value\n",
    "\n",
    "    return 0"
   ]
  },
  {
   "cell_type": "code",
   "execution_count": 9,
   "metadata": {},
   "outputs": [
    {
     "name": "stdout",
     "output_type": "stream",
     "text": [
      "CPU times: user 25.6 ms, sys: 8.18 ms, total: 33.8 ms\n",
      "Wall time: 45.4 ms\n"
     ]
    }
   ],
   "source": [
    "%%time\n",
    "precip_expr = ia.expr_from_udf(trans, [precip1, precip2, precip3])"
   ]
  },
  {
   "cell_type": "code",
   "execution_count": 10,
   "metadata": {
    "pycharm": {
     "name": "#%%\n"
    }
   },
   "outputs": [
    {
     "data": {
      "text/plain": [
       "<IArray (720, 721, 1440) np.float32>"
      ]
     },
     "execution_count": 10,
     "metadata": {},
     "output_type": "execute_result"
    },
    {
     "name": "stdout",
     "output_type": "stream",
     "text": [
      "memprofiler: used 1027.07 MiB RAM (peak of 1422.16 MiB) in 10.2859 s, total RAM usage 3782.40 MiB\n"
     ]
    }
   ],
   "source": [
    "%%mprof_run iarray-trans\n",
    "precip_mean = precip_expr.eval()\n",
    "precip_mean"
   ]
  },
  {
   "cell_type": "markdown",
   "metadata": {
    "pycharm": {
     "name": "#%% md\n"
    }
   },
   "source": [
    "In this case we see that the overhead of using transcendental functions is pretty the same than plain arithmetic operations (sum, rest, mult, division...).  This is a very significant fact because traditionally transcendental functions took really long time compared with plain arithmetic; not anymore thanks to the combination of LLVML and Intel SVML.  The good mix between compiler optimization (via LLVM) and SIMD usage (via SVML) makes this couple shine."
   ]
  },
  {
   "cell_type": "markdown",
   "metadata": {},
   "source": [
    "For the sake of comparison, let's compute the same expression with NumPy:"
   ]
  },
  {
   "cell_type": "code",
   "execution_count": 11,
   "metadata": {},
   "outputs": [
    {
     "name": "stdout",
     "output_type": "stream",
     "text": [
      "CPU times: user 11.4 s, sys: 2.34 s, total: 13.7 s\n",
      "Wall time: 4.52 s\n"
     ]
    }
   ],
   "source": [
    "%%time\n",
    "p1_ = precip1.data\n",
    "p2_ = precip2.data\n",
    "p3_ = precip3.data"
   ]
  },
  {
   "cell_type": "code",
   "execution_count": 12,
   "metadata": {
    "pycharm": {
     "name": "#%%\n"
    }
   },
   "outputs": [
    {
     "name": "stdout",
     "output_type": "stream",
     "text": [
      "memprofiler: used 2852.11 MiB RAM (peak of 8555.11 MiB) in 8.4014 s, total RAM usage 15191.24 MiB\n"
     ]
    }
   ],
   "source": [
    "%%mprof_run np_trans\n",
    "np_result = (np.tan(p1_) * (np.sin(p1_) * np.sin(p2_) + np.cos(p2_)) + np.sqrt(p3_) * 2)"
   ]
  },
  {
   "cell_type": "markdown",
   "metadata": {
    "pycharm": {
     "name": "#%% md\n"
    }
   },
   "source": [
    "This is really slow, but this is kind of expected because NumPy does not have support for SVML or multithreading (at this time at least), and we all know that transcendental functions always took quite a lot to execute on a regular CPU."
   ]
  },
  {
   "cell_type": "markdown",
   "metadata": {},
   "source": [
    "## Working with data windows"
   ]
  },
  {
   "cell_type": "markdown",
   "metadata": {},
   "source": [
    "We already mentioned that User Defined Functions can access only a part (a window) of the dataset.  Here we will have a more in deep look at how this works and how to squeeze all the functionality out of it.\n",
    "\n",
    "Let's start by creating an empty array, and let's populate it with a UDF:"
   ]
  },
  {
   "cell_type": "code",
   "execution_count": 13,
   "metadata": {},
   "outputs": [],
   "source": [
    "dtshape = ia.DTShape((10, 10), np.float64)\n",
    "e = ia.empty(dtshape, chunkshape=(5, 5), blockshape=(2, 2))"
   ]
  },
  {
   "cell_type": "markdown",
   "metadata": {},
   "source": [
    "The UDF used:"
   ]
  },
  {
   "cell_type": "code",
   "execution_count": 21,
   "metadata": {},
   "outputs": [],
   "source": [
    "@jit\n",
    "def fill_diag(out: Array(float64, 2)) -> int:\n",
    "    n = out.shape[0]\n",
    "    m = out.shape[1]\n",
    "    start_n = out.window_start[0]\n",
    "    start_m = out.window_start[1]\n",
    "    for i in range(n):\n",
    "        for j in range(m):\n",
    "            out[i, j] = 1. if i + start_n == j + start_m else 0.\n",
    "\n",
    "    return 0"
   ]
  },
  {
   "cell_type": "code",
   "execution_count": 22,
   "metadata": {},
   "outputs": [
    {
     "ename": "IArrayError",
     "evalue": "b'ARGUMENT NOT VALID - 0x800a000000938002 - error=1,ver=0,rev=10,os=0,neg=1,adj=147,subject=2,code=9633792,ubits=0x0'",
     "output_type": "error",
     "traceback": [
      "\u001b[0;31m---------------------------------------------------------------------------\u001b[0m",
      "\u001b[0;31mIArrayError\u001b[0m                               Traceback (most recent call last)",
      "\u001b[0;32m<ipython-input-22-e0957b0be7fd>\u001b[0m in \u001b[0;36m<module>\u001b[0;34m\u001b[0m\n\u001b[1;32m      1\u001b[0m \u001b[0mfill_expr\u001b[0m \u001b[0;34m=\u001b[0m \u001b[0mia\u001b[0m\u001b[0;34m.\u001b[0m\u001b[0mexpr_from_udf\u001b[0m\u001b[0;34m(\u001b[0m\u001b[0mfill_diag\u001b[0m\u001b[0;34m,\u001b[0m \u001b[0;34m[\u001b[0m\u001b[0me\u001b[0m\u001b[0;34m]\u001b[0m\u001b[0;34m)\u001b[0m\u001b[0;34m\u001b[0m\u001b[0;34m\u001b[0m\u001b[0m\n\u001b[0;32m----> 2\u001b[0;31m \u001b[0mresult\u001b[0m \u001b[0;34m=\u001b[0m \u001b[0mfill_expr\u001b[0m\u001b[0;34m.\u001b[0m\u001b[0meval\u001b[0m\u001b[0;34m(\u001b[0m\u001b[0;34m)\u001b[0m\u001b[0;34m\u001b[0m\u001b[0;34m\u001b[0m\u001b[0m\n\u001b[0m",
      "\u001b[0;32m~/inaos/iron-array-python/iarray/expression.py\u001b[0m in \u001b[0;36meval\u001b[0;34m(self)\u001b[0m\n\u001b[1;32m     41\u001b[0m             \u001b[0mThe\u001b[0m \u001b[0moutput\u001b[0m \u001b[0marray\u001b[0m\u001b[0;34m.\u001b[0m\u001b[0;34m\u001b[0m\u001b[0;34m\u001b[0m\u001b[0m\n\u001b[1;32m     42\u001b[0m         \"\"\"\n\u001b[0;32m---> 43\u001b[0;31m         \u001b[0;32mreturn\u001b[0m \u001b[0msuper\u001b[0m\u001b[0;34m(\u001b[0m\u001b[0;34m)\u001b[0m\u001b[0;34m.\u001b[0m\u001b[0meval\u001b[0m\u001b[0;34m(\u001b[0m\u001b[0;34m)\u001b[0m\u001b[0;34m\u001b[0m\u001b[0;34m\u001b[0m\u001b[0m\n\u001b[0m\u001b[1;32m     44\u001b[0m \u001b[0;34m\u001b[0m\u001b[0m\n\u001b[1;32m     45\u001b[0m \u001b[0;34m\u001b[0m\u001b[0m\n",
      "\u001b[0;32miarray_ext.pyx\u001b[0m in \u001b[0;36miarray.iarray_ext.Expression.eval\u001b[0;34m()\u001b[0m\n",
      "\u001b[0;32miarray_ext.pyx\u001b[0m in \u001b[0;36miarray.iarray_ext.iarray_check\u001b[0;34m()\u001b[0m\n",
      "\u001b[0;31mIArrayError\u001b[0m: b'ARGUMENT NOT VALID - 0x800a000000938002 - error=1,ver=0,rev=10,os=0,neg=1,adj=147,subject=2,code=9633792,ubits=0x0'"
     ]
    }
   ],
   "source": [
    "fill_expr = ia.expr_from_udf(fill_diag, [e])\n",
    "result = fill_expr.eval()"
   ]
  },
  {
   "cell_type": "code",
   "execution_count": 14,
   "metadata": {},
   "outputs": [
    {
     "name": "stdout",
     "output_type": "stream",
     "text": [
      "[[ 4.65218571e-310  0.00000000e+000  6.92776014e-310 -1.08394301e+079\n",
      "   4.94065646e-323  4.65218358e-310  4.65218358e-310  1.58101007e-322\n",
      "   1.76659777e-284  4.65219065e-310]\n",
      " [ 4.65218574e-310  4.65219065e-310  4.65219090e-310  4.65219064e-310\n",
      "   4.65219090e-310  4.65219064e-310  4.65219090e-310  4.65219090e-310\n",
      "   0.00000000e+000  0.00000000e+000]\n",
      " [ 1.36727068e-176 -1.53000880e+290 -2.70239185e+194 -1.08283555e+051\n",
      "  -3.44481525e-079  2.25011719e+164 -1.58482452e-022  8.12007219e-063\n",
      "   2.06910991e-106 -9.39734896e+114]\n",
      " [-3.02172102e+210 -1.03980136e-243 -9.23194472e+157 -2.05534220e-289\n",
      "  -3.44368471e-240 -4.44589345e+282  1.05373713e-150  7.92154069e-094\n",
      "  -3.80257569e-158  2.08166544e-308]\n",
      " [-1.93198884e-299  4.94065646e-323  4.65219090e-310  0.00000000e+000\n",
      "  -6.67577469e+055  4.65218358e-310  4.94065646e-324  0.00000000e+000\n",
      "   0.00000000e+000  8.12773811e+072]\n",
      " [ 0.00000000e+000  0.00000000e+000  4.65218358e-310  4.94065646e-324\n",
      "   0.00000000e+000  0.00000000e+000  5.05556152e-181  0.00000000e+000\n",
      "   0.00000000e+000  4.94065646e-324]\n",
      " [ 0.00000000e+000  0.00000000e+000  8.10081381e-226  4.94065646e-324\n",
      "   4.65218358e-310  4.65218358e-310  1.58101007e-322 -2.62112237e+023\n",
      "   6.63728794e-192 -4.62391026e+087]\n",
      " [-1.94483904e+231  1.35940012e-184 -6.13169415e-166  1.35064416e-033\n",
      "  -2.19592306e+028  1.30296031e+305  3.61854258e-071  1.44940921e-302\n",
      "   1.32105829e-224  5.36576467e-120]\n",
      " [ 1.43901828e-088 -3.22616630e-047  1.75915507e-130 -1.86184453e+093\n",
      "   7.08546840e-187  4.01998639e+012 -6.72191035e-077 -5.23954505e+169\n",
      "   1.14665179e-301  1.60138498e-175]\n",
      " [ 4.95116790e+152  5.95049047e+276  5.60708005e+219  3.19462479e-048\n",
      "   7.44697346e+264 -5.73840166e-299  2.58071321e+228  6.13515897e-319\n",
      "   6.92785390e-310  6.92785390e-310]]\n"
     ]
    }
   ],
   "source": [
    "print(result.data)"
   ]
  },
  {
   "cell_type": "code",
   "execution_count": null,
   "metadata": {},
   "outputs": [],
   "source": []
  }
 ],
 "metadata": {
  "kernelspec": {
   "display_name": "Python 3",
   "language": "python",
   "name": "python3"
  },
  "language_info": {
   "codemirror_mode": {
    "name": "ipython",
    "version": 3
   },
   "file_extension": ".py",
   "mimetype": "text/x-python",
   "name": "python",
   "nbconvert_exporter": "python",
   "pygments_lexer": "ipython3",
   "version": "3.7.9"
  }
 },
 "nbformat": 4,
 "nbformat_minor": 1
}
