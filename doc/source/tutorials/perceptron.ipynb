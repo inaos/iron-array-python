{
 "cells": [
  {
   "cell_type": "markdown",
   "metadata": {
    "collapsed": true
   },
   "source": [
    "# Perceptron"
   ]
  },
  {
   "cell_type": "code",
   "execution_count": 1,
   "metadata": {},
   "outputs": [],
   "source": [
    "import numpy as np\n",
    "\n",
    "from sklearn.datasets import make_classification\n",
    "from sklearn.model_selection import train_test_split\n",
    "from sklearn.metrics import accuracy_score\n",
    "import iarray as ia\n",
    "from iarray.udf import jit, Array, float64, int64\n",
    "\n",
    "import matplotlib.pyplot as plt\n",
    "%matplotlib inline"
   ]
  },
  {
   "cell_type": "code",
   "execution_count": 2,
   "metadata": {},
   "outputs": [],
   "source": [
    "_ = ia.set_config(clevel=9, codec=ia.Codec.LZ4, nthreads=8)"
   ]
  },
  {
   "cell_type": "markdown",
   "metadata": {},
   "source": [
    "Create a synthetic dataset with 20000 observations and 1000 features.\n",
    "\n",
    "In addition, this dataset will form two clusters so that we can identify them with a neural network."
   ]
  },
  {
   "cell_type": "code",
   "execution_count": 3,
   "metadata": {},
   "outputs": [],
   "source": [
    "coord, cl = make_classification(20000, 1000)\n",
    "X, Xt, y, yt = train_test_split(coord, cl, test_size=0.3)"
   ]
  },
  {
   "cell_type": "markdown",
   "metadata": {},
   "source": [
    "Define de neural network class"
   ]
  },
  {
   "cell_type": "code",
   "execution_count": 4,
   "metadata": {},
   "outputs": [],
   "source": [
    "class NN(object):\n",
    "    \n",
    "    def __init__(self, input_layer, hidden_layer, output_layer, random_seed=1):\n",
    "        ia.set_config(seed=random_seed)\n",
    "        self.l1_weights = ia.random.standard_normal(ia.DTShape((input_layer, hidden_layer)))\n",
    "        self.l2_weights = ia.random.standard_normal(ia.DTShape((hidden_layer, output_layer)))\n",
    "\n",
    "    def _sigmoid(self, x):\n",
    "        return ia.expr_from_string(\"1 / (1 + exp(-x))\", {\"x\": x}).eval()\n",
    "\n",
    "    def _sigmoid_prime(self, x):\n",
    "        return ia.expr_from_string(\"x * (1 - x)\", {\"x\": x}).eval()\n",
    "    \n",
    "    def feed_forward(self, X):\n",
    "        l1_output = ia.matmul(X, self.l1_weights)\n",
    "        l1_output = self._sigmoid(l1_output)\n",
    "\n",
    "        l2_output = ia.matmul(l1_output, self.l2_weights)\n",
    "        l2_output = self._sigmoid(l2_output)\n",
    "\n",
    "        return l1_output, l2_output\n",
    "    \n",
    "    def backpropagation(self, l1, l2, y):\n",
    "        \n",
    "        l2_error = (y - l2).eval()\n",
    "        \n",
    "        l2_delta = (l2_error * self._sigmoid_prime(l2)).eval()\n",
    "\n",
    "        l1_error = ia.matmul(l2_delta, self.l2_weights.T)\n",
    "\n",
    "        l1_delta = (l1_error * self._sigmoid_prime(l1)).eval()\n",
    "        \n",
    "        return l2_error, l1_delta, l2_delta\n",
    "\n",
    "    def update_weights(self, X, l1, l1_delta, l2_delta, alpha=1.0):\n",
    "        expr = f\"w + {alpha} * d\"\n",
    "        d2 = ia.matmul(l1.T, l2_delta)\n",
    "        d1 = ia.matmul(X.T, l1_delta)\n",
    "\n",
    "        self.l2_weights = ia.expr_from_string(expr, {\"w\": self.l2_weights, \"d\": d2}).eval()\n",
    "        self.l1_weights = ia.expr_from_string(expr, {\"w\": self.l1_weights, \"d\": d1}).eval()\n",
    "\n",
    "    def predict(self, X):\n",
    "        _, l2 = self.feed_forward(X)\n",
    "        return l2\n",
    "\n",
    "    def train(self, X, y, threshold=400, alpha=0.01):\n",
    "        for j in range(threshold + 1):\n",
    "            l1, l2 = self.feed_forward(X)\n",
    "            l2_error, l1_delta, l2_delta = self.backpropagation(l1, l2, y)\n",
    "            self.update_weights(X, l1, l1_delta, l2_delta, alpha=0.01)\n",
    "            if(j % 100 == 0):\n",
    "                train_error = ia.mean(ia.abs(l2_error).eval())\n",
    "                print(\"epoch {:5} \".format(j),end='-')\n",
    "                print(' error: {:0.4f} '.format(train_error))\n"
   ]
  },
  {
   "cell_type": "markdown",
   "metadata": {},
   "source": [
    "Convert numpy datasets to iarray containers."
   ]
  },
  {
   "cell_type": "code",
   "execution_count": 5,
   "metadata": {},
   "outputs": [],
   "source": [
    "training_inputs = ia.numpy2iarray(X.astype(np.float64))\n",
    "training_labels = ia.numpy2iarray(y.astype(np.float64).reshape(-1, 1))\n",
    "inputs = ia.numpy2iarray(Xt.astype(np.float64))"
   ]
  },
  {
   "cell_type": "markdown",
   "metadata": {},
   "source": [
    "Create a neural network with one hidden layer."
   ]
  },
  {
   "cell_type": "code",
   "execution_count": 6,
   "metadata": {},
   "outputs": [
    {
     "ename": "TypeError",
     "evalue": "object of type 'DTShape' has no len()",
     "output_type": "error",
     "traceback": [
      "\u001B[0;31m---------------------------------------------------------------------------\u001B[0m",
      "\u001B[0;31mTypeError\u001B[0m                                 Traceback (most recent call last)",
      "\u001B[0;32m/var/folders/s2/7xckwnmd493cqgj23nn7qv4m0000gn/T/ipykernel_750/3419792904.py\u001B[0m in \u001B[0;36m<module>\u001B[0;34m\u001B[0m\n\u001B[0;32m----> 1\u001B[0;31m \u001B[0mnn\u001B[0m \u001B[0;34m=\u001B[0m \u001B[0mNN\u001B[0m\u001B[0;34m(\u001B[0m\u001B[0mX\u001B[0m\u001B[0;34m.\u001B[0m\u001B[0mshape\u001B[0m\u001B[0;34m[\u001B[0m\u001B[0;36m1\u001B[0m\u001B[0;34m]\u001B[0m\u001B[0;34m,\u001B[0m \u001B[0;36m5\u001B[0m\u001B[0;34m,\u001B[0m \u001B[0;36m1\u001B[0m\u001B[0;34m)\u001B[0m\u001B[0;34m\u001B[0m\u001B[0;34m\u001B[0m\u001B[0m\n\u001B[0m\u001B[1;32m      2\u001B[0m \u001B[0;34m\u001B[0m\u001B[0m\n",
      "\u001B[0;32m/var/folders/s2/7xckwnmd493cqgj23nn7qv4m0000gn/T/ipykernel_750/2574616510.py\u001B[0m in \u001B[0;36m__init__\u001B[0;34m(self, input_layer, hidden_layer, output_layer, random_seed)\u001B[0m\n\u001B[1;32m      3\u001B[0m     \u001B[0;32mdef\u001B[0m \u001B[0m__init__\u001B[0m\u001B[0;34m(\u001B[0m\u001B[0mself\u001B[0m\u001B[0;34m,\u001B[0m \u001B[0minput_layer\u001B[0m\u001B[0;34m,\u001B[0m \u001B[0mhidden_layer\u001B[0m\u001B[0;34m,\u001B[0m \u001B[0moutput_layer\u001B[0m\u001B[0;34m,\u001B[0m \u001B[0mrandom_seed\u001B[0m\u001B[0;34m=\u001B[0m\u001B[0;36m1\u001B[0m\u001B[0;34m)\u001B[0m\u001B[0;34m:\u001B[0m\u001B[0;34m\u001B[0m\u001B[0;34m\u001B[0m\u001B[0m\n\u001B[1;32m      4\u001B[0m         \u001B[0mia\u001B[0m\u001B[0;34m.\u001B[0m\u001B[0mset_config\u001B[0m\u001B[0;34m(\u001B[0m\u001B[0mseed\u001B[0m\u001B[0;34m=\u001B[0m\u001B[0mrandom_seed\u001B[0m\u001B[0;34m)\u001B[0m\u001B[0;34m\u001B[0m\u001B[0;34m\u001B[0m\u001B[0m\n\u001B[0;32m----> 5\u001B[0;31m         \u001B[0mself\u001B[0m\u001B[0;34m.\u001B[0m\u001B[0ml1_weights\u001B[0m \u001B[0;34m=\u001B[0m \u001B[0mia\u001B[0m\u001B[0;34m.\u001B[0m\u001B[0mrandom\u001B[0m\u001B[0;34m.\u001B[0m\u001B[0mstandard_normal\u001B[0m\u001B[0;34m(\u001B[0m\u001B[0mia\u001B[0m\u001B[0;34m.\u001B[0m\u001B[0mDTShape\u001B[0m\u001B[0;34m(\u001B[0m\u001B[0;34m(\u001B[0m\u001B[0minput_layer\u001B[0m\u001B[0;34m,\u001B[0m \u001B[0mhidden_layer\u001B[0m\u001B[0;34m)\u001B[0m\u001B[0;34m)\u001B[0m\u001B[0;34m)\u001B[0m\u001B[0;34m\u001B[0m\u001B[0;34m\u001B[0m\u001B[0m\n\u001B[0m\u001B[1;32m      6\u001B[0m         \u001B[0mself\u001B[0m\u001B[0;34m.\u001B[0m\u001B[0ml2_weights\u001B[0m \u001B[0;34m=\u001B[0m \u001B[0mia\u001B[0m\u001B[0;34m.\u001B[0m\u001B[0mrandom\u001B[0m\u001B[0;34m.\u001B[0m\u001B[0mstandard_normal\u001B[0m\u001B[0;34m(\u001B[0m\u001B[0mia\u001B[0m\u001B[0;34m.\u001B[0m\u001B[0mDTShape\u001B[0m\u001B[0;34m(\u001B[0m\u001B[0;34m(\u001B[0m\u001B[0mhidden_layer\u001B[0m\u001B[0;34m,\u001B[0m \u001B[0moutput_layer\u001B[0m\u001B[0;34m)\u001B[0m\u001B[0;34m)\u001B[0m\u001B[0;34m)\u001B[0m\u001B[0;34m\u001B[0m\u001B[0;34m\u001B[0m\u001B[0m\n\u001B[1;32m      7\u001B[0m \u001B[0;34m\u001B[0m\u001B[0m\n",
      "\u001B[0;32m~/iron-array-python/iarray/random.py\u001B[0m in \u001B[0;36mstandard_normal\u001B[0;34m(shape, cfg, **kwargs)\u001B[0m\n\u001B[1;32m     72\u001B[0m         \u001B[0mcfg\u001B[0m \u001B[0;34m=\u001B[0m \u001B[0mia\u001B[0m\u001B[0;34m.\u001B[0m\u001B[0mget_config\u001B[0m\u001B[0;34m(\u001B[0m\u001B[0;34m)\u001B[0m\u001B[0;34m\u001B[0m\u001B[0;34m\u001B[0m\u001B[0m\n\u001B[1;32m     73\u001B[0m \u001B[0;34m\u001B[0m\u001B[0m\n\u001B[0;32m---> 74\u001B[0;31m     \u001B[0;32mwith\u001B[0m \u001B[0mia\u001B[0m\u001B[0;34m.\u001B[0m\u001B[0mconfig\u001B[0m\u001B[0;34m(\u001B[0m\u001B[0mshape\u001B[0m\u001B[0;34m=\u001B[0m\u001B[0mshape\u001B[0m\u001B[0;34m,\u001B[0m \u001B[0mcfg\u001B[0m\u001B[0;34m=\u001B[0m\u001B[0mcfg\u001B[0m\u001B[0;34m,\u001B[0m \u001B[0;34m**\u001B[0m\u001B[0mkwargs\u001B[0m\u001B[0;34m)\u001B[0m \u001B[0;32mas\u001B[0m \u001B[0mcfg\u001B[0m\u001B[0;34m:\u001B[0m\u001B[0;34m\u001B[0m\u001B[0;34m\u001B[0m\u001B[0m\n\u001B[0m\u001B[1;32m     75\u001B[0m         \u001B[0mdtshape\u001B[0m \u001B[0;34m=\u001B[0m \u001B[0mia\u001B[0m\u001B[0;34m.\u001B[0m\u001B[0mDTShape\u001B[0m\u001B[0;34m(\u001B[0m\u001B[0mshape\u001B[0m\u001B[0;34m,\u001B[0m \u001B[0mcfg\u001B[0m\u001B[0;34m.\u001B[0m\u001B[0mdtype\u001B[0m\u001B[0;34m)\u001B[0m\u001B[0;34m\u001B[0m\u001B[0;34m\u001B[0m\u001B[0m\n\u001B[1;32m     76\u001B[0m         \u001B[0;32mreturn\u001B[0m \u001B[0mext\u001B[0m\u001B[0;34m.\u001B[0m\u001B[0mrandom_randn\u001B[0m\u001B[0;34m(\u001B[0m\u001B[0mcfg\u001B[0m\u001B[0;34m,\u001B[0m \u001B[0mdtshape\u001B[0m\u001B[0;34m)\u001B[0m\u001B[0;34m\u001B[0m\u001B[0;34m\u001B[0m\u001B[0m\n",
      "\u001B[0;32m~/.conda/envs/iron-array-python/lib/python3.9/contextlib.py\u001B[0m in \u001B[0;36m__enter__\u001B[0;34m(self)\u001B[0m\n\u001B[1;32m    115\u001B[0m         \u001B[0;32mdel\u001B[0m \u001B[0mself\u001B[0m\u001B[0;34m.\u001B[0m\u001B[0margs\u001B[0m\u001B[0;34m,\u001B[0m \u001B[0mself\u001B[0m\u001B[0;34m.\u001B[0m\u001B[0mkwds\u001B[0m\u001B[0;34m,\u001B[0m \u001B[0mself\u001B[0m\u001B[0;34m.\u001B[0m\u001B[0mfunc\u001B[0m\u001B[0;34m\u001B[0m\u001B[0;34m\u001B[0m\u001B[0m\n\u001B[1;32m    116\u001B[0m         \u001B[0;32mtry\u001B[0m\u001B[0;34m:\u001B[0m\u001B[0;34m\u001B[0m\u001B[0;34m\u001B[0m\u001B[0m\n\u001B[0;32m--> 117\u001B[0;31m             \u001B[0;32mreturn\u001B[0m \u001B[0mnext\u001B[0m\u001B[0;34m(\u001B[0m\u001B[0mself\u001B[0m\u001B[0;34m.\u001B[0m\u001B[0mgen\u001B[0m\u001B[0;34m)\u001B[0m\u001B[0;34m\u001B[0m\u001B[0;34m\u001B[0m\u001B[0m\n\u001B[0m\u001B[1;32m    118\u001B[0m         \u001B[0;32mexcept\u001B[0m \u001B[0mStopIteration\u001B[0m\u001B[0;34m:\u001B[0m\u001B[0;34m\u001B[0m\u001B[0;34m\u001B[0m\u001B[0m\n\u001B[1;32m    119\u001B[0m             \u001B[0;32mraise\u001B[0m \u001B[0mRuntimeError\u001B[0m\u001B[0;34m(\u001B[0m\u001B[0;34m\"generator didn't yield\"\u001B[0m\u001B[0;34m)\u001B[0m \u001B[0;32mfrom\u001B[0m \u001B[0;32mNone\u001B[0m\u001B[0;34m\u001B[0m\u001B[0;34m\u001B[0m\u001B[0m\n",
      "\u001B[0;32m~/iron-array-python/iarray/config_params.py\u001B[0m in \u001B[0;36mconfig\u001B[0;34m(cfg, shape, **kwargs)\u001B[0m\n\u001B[1;32m    616\u001B[0m     \u001B[0;32mglobal\u001B[0m \u001B[0mdefaults\u001B[0m\u001B[0;34m\u001B[0m\u001B[0;34m\u001B[0m\u001B[0m\n\u001B[1;32m    617\u001B[0m \u001B[0;34m\u001B[0m\u001B[0m\n\u001B[0;32m--> 618\u001B[0;31m     \u001B[0mcfg\u001B[0m \u001B[0;34m=\u001B[0m \u001B[0mset_config\u001B[0m\u001B[0;34m(\u001B[0m\u001B[0mcfg\u001B[0m\u001B[0;34m,\u001B[0m \u001B[0mshape\u001B[0m\u001B[0;34m,\u001B[0m \u001B[0;34m**\u001B[0m\u001B[0mkwargs\u001B[0m\u001B[0;34m)\u001B[0m\u001B[0;34m\u001B[0m\u001B[0;34m\u001B[0m\u001B[0m\n\u001B[0m\u001B[1;32m    619\u001B[0m \u001B[0;34m\u001B[0m\u001B[0m\n\u001B[1;32m    620\u001B[0m     \u001B[0;32mtry\u001B[0m\u001B[0;34m:\u001B[0m\u001B[0;34m\u001B[0m\u001B[0;34m\u001B[0m\u001B[0m\n",
      "\u001B[0;32m~/iron-array-python/iarray/config_params.py\u001B[0m in \u001B[0;36mset_config\u001B[0;34m(cfg, shape, **kwargs)\u001B[0m\n\u001B[1;32m    582\u001B[0m         \u001B[0mcfg\u001B[0m \u001B[0;34m=\u001B[0m \u001B[0mcfg\u001B[0m\u001B[0;34m.\u001B[0m\u001B[0m_replace\u001B[0m\u001B[0;34m(\u001B[0m\u001B[0;34m**\u001B[0m\u001B[0mkwargs\u001B[0m\u001B[0;34m)\u001B[0m\u001B[0;34m\u001B[0m\u001B[0;34m\u001B[0m\u001B[0m\n\u001B[1;32m    583\u001B[0m     \u001B[0;32mif\u001B[0m \u001B[0mshape\u001B[0m \u001B[0;32mis\u001B[0m \u001B[0;32mnot\u001B[0m \u001B[0;32mNone\u001B[0m\u001B[0;34m:\u001B[0m\u001B[0;34m\u001B[0m\u001B[0;34m\u001B[0m\u001B[0m\n\u001B[0;32m--> 584\u001B[0;31m         \u001B[0mcfg\u001B[0m\u001B[0;34m.\u001B[0m\u001B[0mstore\u001B[0m\u001B[0;34m.\u001B[0m\u001B[0m_get_shape_advice\u001B[0m\u001B[0;34m(\u001B[0m\u001B[0mshape\u001B[0m\u001B[0;34m,\u001B[0m \u001B[0mcfg\u001B[0m\u001B[0;34m=\u001B[0m\u001B[0mcfg\u001B[0m\u001B[0;34m)\u001B[0m\u001B[0;34m\u001B[0m\u001B[0;34m\u001B[0m\u001B[0m\n\u001B[0m\u001B[1;32m    585\u001B[0m         \u001B[0mcfg\u001B[0m\u001B[0;34m.\u001B[0m\u001B[0m_replace\u001B[0m\u001B[0;34m(\u001B[0m\u001B[0;34m**\u001B[0m\u001B[0;34m{\u001B[0m\u001B[0;34m\"store\"\u001B[0m\u001B[0;34m:\u001B[0m \u001B[0mcfg\u001B[0m\u001B[0;34m.\u001B[0m\u001B[0mstore\u001B[0m\u001B[0;34m}\u001B[0m\u001B[0;34m)\u001B[0m\u001B[0;34m\u001B[0m\u001B[0;34m\u001B[0m\u001B[0m\n\u001B[1;32m    586\u001B[0m \u001B[0;34m\u001B[0m\u001B[0m\n",
      "\u001B[0;32m~/iron-array-python/iarray/config_params.py\u001B[0m in \u001B[0;36m_get_shape_advice\u001B[0;34m(self, shape, cfg)\u001B[0m\n\u001B[1;32m    346\u001B[0m             \u001B[0;32mreturn\u001B[0m\u001B[0;34m\u001B[0m\u001B[0;34m\u001B[0m\u001B[0m\n\u001B[1;32m    347\u001B[0m         \u001B[0;32mif\u001B[0m \u001B[0mchunks\u001B[0m \u001B[0;32mis\u001B[0m \u001B[0;32mNone\u001B[0m \u001B[0;32mand\u001B[0m \u001B[0mblocks\u001B[0m \u001B[0;32mis\u001B[0m \u001B[0;32mNone\u001B[0m\u001B[0;34m:\u001B[0m\u001B[0;34m\u001B[0m\u001B[0;34m\u001B[0m\u001B[0m\n\u001B[0;32m--> 348\u001B[0;31m             \u001B[0mchunks_\u001B[0m\u001B[0;34m,\u001B[0m \u001B[0mblocks_\u001B[0m \u001B[0;34m=\u001B[0m \u001B[0mpartition_advice\u001B[0m\u001B[0;34m(\u001B[0m\u001B[0mshape\u001B[0m\u001B[0;34m,\u001B[0m \u001B[0mcfg\u001B[0m\u001B[0;34m=\u001B[0m\u001B[0mcfg\u001B[0m\u001B[0;34m)\u001B[0m\u001B[0;34m\u001B[0m\u001B[0;34m\u001B[0m\u001B[0m\n\u001B[0m\u001B[1;32m    349\u001B[0m             \u001B[0mself\u001B[0m\u001B[0;34m.\u001B[0m\u001B[0mchunks\u001B[0m \u001B[0;34m=\u001B[0m \u001B[0mchunks_\u001B[0m\u001B[0;34m\u001B[0m\u001B[0;34m\u001B[0m\u001B[0m\n\u001B[1;32m    350\u001B[0m             \u001B[0mself\u001B[0m\u001B[0;34m.\u001B[0m\u001B[0mblocks\u001B[0m \u001B[0;34m=\u001B[0m \u001B[0mblocks_\u001B[0m\u001B[0;34m\u001B[0m\u001B[0;34m\u001B[0m\u001B[0m\n",
      "\u001B[0;32m~/iron-array-python/iarray/config_params.py\u001B[0m in \u001B[0;36mpartition_advice\u001B[0;34m(shape, min_chunksize, max_chunksize, min_blocksize, max_blocksize, cfg)\u001B[0m\n\u001B[1;32m     81\u001B[0m     \u001B[0;32mif\u001B[0m \u001B[0mdtshape\u001B[0m\u001B[0;34m.\u001B[0m\u001B[0mshape\u001B[0m \u001B[0;34m==\u001B[0m \u001B[0;34m(\u001B[0m\u001B[0;34m)\u001B[0m\u001B[0;34m:\u001B[0m\u001B[0;34m\u001B[0m\u001B[0;34m\u001B[0m\u001B[0m\n\u001B[1;32m     82\u001B[0m         \u001B[0;32mreturn\u001B[0m \u001B[0;34m(\u001B[0m\u001B[0;34m)\u001B[0m\u001B[0;34m,\u001B[0m \u001B[0;34m(\u001B[0m\u001B[0;34m)\u001B[0m\u001B[0;34m\u001B[0m\u001B[0;34m\u001B[0m\u001B[0m\n\u001B[0;32m---> 83\u001B[0;31m     chunks, blocks = ext.partition_advice(\n\u001B[0m\u001B[1;32m     84\u001B[0m         \u001B[0mdtshape\u001B[0m\u001B[0;34m,\u001B[0m \u001B[0mmin_chunksize\u001B[0m\u001B[0;34m,\u001B[0m \u001B[0mmax_chunksize\u001B[0m\u001B[0;34m,\u001B[0m \u001B[0mmin_blocksize\u001B[0m\u001B[0;34m,\u001B[0m \u001B[0mmax_blocksize\u001B[0m\u001B[0;34m,\u001B[0m \u001B[0mcfg\u001B[0m\u001B[0;34m\u001B[0m\u001B[0;34m\u001B[0m\u001B[0m\n\u001B[1;32m     85\u001B[0m     )\n",
      "\u001B[0;32miarray_ext.pyx\u001B[0m in \u001B[0;36miarray.iarray_ext.partition_advice\u001B[0;34m()\u001B[0m\n",
      "\u001B[0;32miarray_ext.pyx\u001B[0m in \u001B[0;36miarray.iarray_ext.IaDTShape.__cinit__\u001B[0;34m()\u001B[0m\n",
      "\u001B[0;31mTypeError\u001B[0m: object of type 'DTShape' has no len()"
     ]
    }
   ],
   "source": [
    "nn = NN(X.shape[1], 5, 1)"
   ]
  },
  {
   "cell_type": "markdown",
   "metadata": {},
   "source": [
    "Train the neural network using the training dataset."
   ]
  },
  {
   "cell_type": "code",
   "execution_count": null,
   "metadata": {},
   "outputs": [],
   "source": [
    "nn.train(training_inputs, training_labels, threshold=1000, alpha=0.05)"
   ]
  },
  {
   "cell_type": "markdown",
   "metadata": {},
   "source": [
    "Predict the test dataset using the fitted neural network."
   ]
  },
  {
   "cell_type": "code",
   "execution_count": null,
   "metadata": {},
   "outputs": [],
   "source": [
    "labels = nn.predict(inputs)\n",
    "labels = np.ravel((labels.data > 0.5).astype(int))"
   ]
  },
  {
   "cell_type": "code",
   "execution_count": null,
   "metadata": {},
   "outputs": [],
   "source": [
    "accuracy_score(labels, yt)"
   ]
  }
 ],
 "metadata": {
  "kernelspec": {
   "display_name": "Python 3",
   "language": "python",
   "name": "python3"
  },
  "language_info": {
   "codemirror_mode": {
    "name": "ipython",
    "version": 3
   },
   "file_extension": ".py",
   "mimetype": "text/x-python",
   "name": "python",
   "nbconvert_exporter": "python",
   "pygments_lexer": "ipython3",
   "version": "3.8.8"
  }
 },
 "nbformat": 4,
 "nbformat_minor": 1
}