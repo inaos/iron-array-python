{
 "cells": [
  {
   "cell_type": "markdown",
   "metadata": {
    "collapsed": true
   },
   "source": [
    "# Perceptron"
   ]
  },
  {
   "cell_type": "code",
   "execution_count": 1,
   "metadata": {},
   "outputs": [],
   "source": [
    "import numpy as np\n",
    "\n",
    "from sklearn.datasets import make_classification\n",
    "from sklearn.model_selection import train_test_split\n",
    "from sklearn.metrics import accuracy_score\n",
    "import iarray as ia\n",
    "from iarray.udf import jit, Array, float64, int64\n",
    "\n",
    "import matplotlib.pyplot as plt\n",
    "%matplotlib inline"
   ]
  },
  {
   "cell_type": "markdown",
   "metadata": {},
   "source": [
    "Create a synthetic dataset with 1000 observations and 10 features.\n",
    "\n",
    "In addition, this dataset will form two clusters so that we can identify them with a neural network."
   ]
  },
  {
   "cell_type": "code",
   "execution_count": 2,
   "metadata": {},
   "outputs": [],
   "source": [
    "coord, cl = make_classification(1000, 10, random_state=0)\n",
    "X, Xt, y, yt = train_test_split(coord, cl, test_size=0.3, random_state=0)"
   ]
  },
  {
   "cell_type": "markdown",
   "metadata": {},
   "source": [
    "Define de neural network class"
   ]
  },
  {
   "cell_type": "code",
   "execution_count": 3,
   "metadata": {},
   "outputs": [],
   "source": [
    "class NN(object):\n",
    "    \n",
    "    def __init__(self, input_layer, hidden_layer, output_layer, random_seed=0):\n",
    "        ia.set_config(seed=0)\n",
    "        self.l1_weights = ia.irandom.standard_normal(ia.DTShape((input_layer, hidden_layer)))\n",
    "        self.l2_weights = ia.irandom.standard_normal(ia.DTShape((hidden_layer, output_layer)))\n",
    "\n",
    "    def _sigmoid(self, x):\n",
    "        return ia.expr_from_string(\"1 / (1 + exp(-x))\", {\"x\": x}).eval()\n",
    "\n",
    "    def _sigmoid_prime(self, x):\n",
    "        return ia.expr_from_string(\"x * (1 - x)\", {\"x\": x}).eval()\n",
    "    \n",
    "    def feed_forward(self, X):\n",
    "        l1_output = ia.matmul(X, self.l1_weights)\n",
    "        l1_output = self._sigmoid(l1_output)\n",
    "\n",
    "        l2_output = ia.matmul(l1_output, self.l2_weights)\n",
    "        l2_output = self._sigmoid(l2_output)\n",
    "\n",
    "        return l1_output, l2_output\n",
    "    \n",
    "    def backpropagation(self, l1, l2, y):\n",
    "        \n",
    "        l2_error = (y - l2).eval()\n",
    "        \n",
    "        l2_delta = (l2_error * self._sigmoid_prime(l2)).eval()\n",
    "\n",
    "        l1_error = ia.matmul(l2_delta, self.l2_weights.T)\n",
    "\n",
    "        l1_delta = (l1_error * self._sigmoid_prime(l1)).eval()\n",
    "        \n",
    "        return l2_error, l1_delta, l2_delta\n",
    "\n",
    "    def update_weights(self, X, l1, l1_delta, l2_delta, alpha=1.0):\n",
    "        expr = f\"w + {alpha} * d\"\n",
    "        d2 = ia.matmul(l1.T, l2_delta)\n",
    "        d1 = ia.matmul(X.T, l1_delta)\n",
    "\n",
    "        self.l2_weights = ia.expr_from_string(expr, {\"w\": self.l2_weights, \"d\": d2}).eval()\n",
    "        self.l1_weights = ia.expr_from_string(expr, {\"w\": self.l1_weights, \"d\": d1}).eval()\n",
    "\n",
    "    def predict(self, X):\n",
    "        _, l2 = self.feed_forward(X)\n",
    "        return l2\n",
    "\n",
    "    def train(self, X, y, threshold=400):\n",
    "        for j in range(threshold + 1):\n",
    "            l1, l2 = self.feed_forward(X)\n",
    "            l2_error, l1_delta, l2_delta = self.backpropagation(l1, l2, y)\n",
    "            self.update_weights(X, l1, l1_delta, l2_delta, alpha=0.01)\n",
    "            if(j % 100 == 0):\n",
    "                train_error = ia.mean(ia.abs(l2_error).eval())\n",
    "                print(\"epoch {:5} \".format(j),end='-')\n",
    "                print(' error: {:0.4f} '.format(train_error))\n"
   ]
  },
  {
   "cell_type": "markdown",
   "metadata": {},
   "source": [
    "Convert numpy datasets to iarray containers."
   ]
  },
  {
   "cell_type": "code",
   "execution_count": 4,
   "metadata": {},
   "outputs": [],
   "source": [
    "training_inputs = ia.numpy2iarray(X.astype(np.float64))\n",
    "training_labels = ia.numpy2iarray(y.astype(np.float64).reshape(-1, 1))\n",
    "inputs = ia.numpy2iarray(Xt.astype(np.float64))"
   ]
  },
  {
   "cell_type": "markdown",
   "metadata": {},
   "source": [
    "Create a neural network with one hidden layer."
   ]
  },
  {
   "cell_type": "code",
   "execution_count": 5,
   "metadata": {},
   "outputs": [],
   "source": [
    "nn = NN(X.shape[1], 5, 1)"
   ]
  },
  {
   "cell_type": "markdown",
   "metadata": {},
   "source": [
    "Train the neural network using the training dataset."
   ]
  },
  {
   "cell_type": "code",
   "execution_count": 6,
   "metadata": {},
   "outputs": [
    {
     "name": "stdout",
     "output_type": "stream",
     "text": [
      "epoch     0 - error: 0.3903 \n",
      "epoch   100 - error: 0.1002 \n",
      "epoch   200 - error: 0.0868 \n",
      "epoch   300 - error: 0.0800 \n",
      "epoch   400 - error: 0.0754 \n",
      "epoch   500 - error: 0.0719 \n"
     ]
    }
   ],
   "source": [
    "nn.train(training_inputs, training_labels, threshold=500)"
   ]
  },
  {
   "cell_type": "markdown",
   "metadata": {},
   "source": [
    "Predict the test dataset using the fitted neural network."
   ]
  },
  {
   "cell_type": "code",
   "execution_count": 7,
   "metadata": {},
   "outputs": [],
   "source": [
    "labels = nn.predict(inputs)\n",
    "labels = np.ravel((labels.data > 0.5).astype(int))"
   ]
  },
  {
   "cell_type": "code",
   "execution_count": 8,
   "metadata": {},
   "outputs": [
    {
     "data": {
      "text/plain": [
       "0.9533333333333334"
      ]
     },
     "execution_count": 8,
     "metadata": {},
     "output_type": "execute_result"
    }
   ],
   "source": [
    "accuracy_score(labels, yt)"
   ]
  }
 ],
 "metadata": {
  "kernelspec": {
   "display_name": "Python 3",
   "language": "python",
   "name": "python3"
  },
  "language_info": {
   "codemirror_mode": {
    "name": "ipython",
    "version": 3
   },
   "file_extension": ".py",
   "mimetype": "text/x-python",
   "name": "python",
   "nbconvert_exporter": "python",
   "pygments_lexer": "ipython3",
   "version": "3.8.3"
  }
 },
 "nbformat": 4,
 "nbformat_minor": 1
}
