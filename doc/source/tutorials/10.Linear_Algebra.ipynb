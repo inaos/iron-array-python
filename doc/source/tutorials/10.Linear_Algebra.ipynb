{
 "cells": [
  {
   "cell_type": "markdown",
   "metadata": {
    "pycharm": {
     "name": "#%% md\n"
    }
   },
   "source": [
    "# Linear Algebra"
   ]
  },
  {
   "cell_type": "code",
   "execution_count": 1,
   "metadata": {},
   "outputs": [],
   "source": [
    "import iarray as ia\n",
    "import numpy as np"
   ]
  },
  {
   "cell_type": "markdown",
   "metadata": {},
   "source": [
    "## Matrix multiplication"
   ]
  },
  {
   "cell_type": "markdown",
   "metadata": {},
   "source": [
    "Matrix multiplication is a binary operation that produces a matrix from two matrices.\n",
    "Computing matrix products is a central operation in all computational applications of\n",
    "linear algebra.\n",
    "\n",
    "In this part of the tutorial we will see how matrix multiplication works in *ironArray*."
   ]
  },
  {
   "cell_type": "markdown",
   "metadata": {
    "pycharm": {
     "name": "#%% md\n"
    }
   },
   "source": [
    "### Matrix-Matrix multiplication\n",
    "\n",
    "First, we are going to create two chunked, compressed matrices using *ironArray*."
   ]
  },
  {
   "cell_type": "code",
   "execution_count": 2,
   "metadata": {
    "pycharm": {
     "name": "#%%\n"
    }
   },
   "outputs": [],
   "source": [
    "ia.set_config(dtype=np.float64)\n",
    "\n",
    "chunks = (1000, 1000)\n",
    "blocks = (250, 250)\n",
    "\n",
    "ashape = (3000, 5000)\n",
    "a = ia.linspace(ashape, 0, 1, chunks=chunks, blocks=blocks)\n",
    "\n",
    "bshape = (5000, 4000)\n",
    "b = ia.linspace(bshape, 0, 1, chunks=chunks, blocks=blocks)\n"
   ]
  },
  {
   "cell_type": "markdown",
   "metadata": {},
   "source": [
    "Unlike numpy, *ironArray* performs the matrix-matrix multiplication using blocks. In this way, instead\n",
    "of decompressing all the data from the two arrays, we only have to decompress the data needed in\n",
    "each block operation (allowing larger operations with less memory).\n",
    "\n",
    "If we use the operator `@` to permorm the multiplications in Iron Array, all the params of the output array will be those defined in the global configuration."
   ]
  },
  {
   "cell_type": "code",
   "execution_count": 3,
   "metadata": {
    "pycharm": {
     "name": "#%%\n"
    }
   },
   "outputs": [
    {
     "data": {
      "text/html": [
       "<table class=\"iarray-info\"><tbody><tr><th style=\"text-align: left\">type</th><td style=\"text-align: left\">IArray</td></tr><tr><th style=\"text-align: left\">shape</th><td style=\"text-align: left\">(3000, 4000)</td></tr><tr><th style=\"text-align: left\">chunks</th><td style=\"text-align: left\">(1024, 2048)</td></tr><tr><th style=\"text-align: left\">blocks</th><td style=\"text-align: left\">(64, 256)</td></tr><tr><th style=\"text-align: left\">cratio</th><td style=\"text-align: left\">2.18</td></tr></tbody></table>"
      ],
      "text/plain": [
       "type   : IArray\n",
       "shape  : (3000, 4000)\n",
       "chunks : (1024, 2048)\n",
       "blocks : (64, 256)\n",
       "cratio : 2.18"
      ]
     },
     "execution_count": 3,
     "metadata": {},
     "output_type": "execute_result"
    }
   ],
   "source": [
    "c = a @ b\n",
    "c.info"
   ]
  },
  {
   "cell_type": "markdown",
   "metadata": {},
   "source": [
    "As the chunkshape and the blockshape are not defined in the global configuration, they are automatically defined in the output array."
   ]
  },
  {
   "cell_type": "markdown",
   "metadata": {
    "pycharm": {
     "name": "#%% md\n"
    }
   },
   "source": [
    "### Matrix-Vector multiplication\n",
    "\n",
    "*ironArray* also allows users to perform matrix-vector multiplication in the same way that\n",
    "matrix-matrix multiplication is performed.\n",
    "\n",
    "However, if we want to set some parameters in the out array (for example, the chunkshape and the blockshape), we must use the `ia.matmul` function to perform the multiplication."
   ]
  },
  {
   "cell_type": "code",
   "execution_count": 4,
   "metadata": {
    "pycharm": {
     "name": "#%%\n"
    }
   },
   "outputs": [
    {
     "data": {
      "text/html": [
       "<table class=\"iarray-info\"><tbody><tr><th style=\"text-align: left\">type</th><td style=\"text-align: left\">IArray</td></tr><tr><th style=\"text-align: left\">shape</th><td style=\"text-align: left\">(3000,)</td></tr><tr><th style=\"text-align: left\">chunks</th><td style=\"text-align: left\">(1000,)</td></tr><tr><th style=\"text-align: left\">blocks</th><td style=\"text-align: left\">(200,)</td></tr><tr><th style=\"text-align: left\">cratio</th><td style=\"text-align: left\">1.75</td></tr></tbody></table>"
      ],
      "text/plain": [
       "type   : IArray\n",
       "shape  : (3000,)\n",
       "chunks : (1000,)\n",
       "blocks : (200,)\n",
       "cratio : 1.75"
      ]
     },
     "execution_count": 4,
     "metadata": {},
     "output_type": "execute_result"
    }
   ],
   "source": [
    "ashape = (3000, 5000)\n",
    "a = ia.linspace(ashape, -2, -1, chunks=(1000, 1000), blocks=(250, 250))\n",
    "\n",
    "bshape = (5000,)\n",
    "b = ia.linspace(bshape, 5, 10, chunks=(1000,), blocks=(250,))\n",
    "\n",
    "c = ia.matmul(a, b, chunks=(1000,), blocks=(200,))\n",
    "\n",
    "c.info"
   ]
  },
  {
   "cell_type": "markdown",
   "metadata": {},
   "source": [
    "Now, the array output has the chunkshape and the blockshape that we have specified in the `ia.matmul`function."
   ]
  },
  {
   "cell_type": "markdown",
   "metadata": {},
   "source": [
    "### Transpose"
   ]
  },
  {
   "cell_type": "markdown",
   "metadata": {},
   "source": [
    "In Iron Array, the transpose of an array is computed using views. It can be obtained using different methods/functions:"
   ]
  },
  {
   "cell_type": "code",
   "execution_count": 5,
   "metadata": {},
   "outputs": [
    {
     "data": {
      "text/plain": [
       "(True, True, True)"
      ]
     },
     "execution_count": 5,
     "metadata": {},
     "output_type": "execute_result"
    }
   ],
   "source": [
    "at0 = a.T\n",
    "at1 = a.transpose()\n",
    "at2 = ia.transpose(a)\n",
    "\n",
    "at0.is_view(), at1.is_view(), at2.is_view()"
   ]
  },
  {
   "cell_type": "markdown",
   "metadata": {},
   "source": [
    "If we do not want a view, we just copy the transposed array."
   ]
  },
  {
   "cell_type": "code",
   "execution_count": 6,
   "metadata": {
    "pycharm": {
     "name": "#%%\n"
    }
   },
   "outputs": [],
   "source": [
    "at = a.T.copy()"
   ]
  }
 ],
 "metadata": {
  "kernelspec": {
   "display_name": "Python 3",
   "language": "python",
   "name": "python3"
  },
  "language_info": {
   "codemirror_mode": {
    "name": "ipython",
    "version": 3
   },
   "file_extension": ".py",
   "mimetype": "text/x-python",
   "name": "python",
   "nbconvert_exporter": "python",
   "pygments_lexer": "ipython3",
   "version": "3.9.1"
  }
 },
 "nbformat": 4,
 "nbformat_minor": 1
}