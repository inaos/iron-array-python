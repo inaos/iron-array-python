{
 "cells": [
  {
   "cell_type": "markdown",
   "metadata": {
    "collapsed": true,
    "pycharm": {
     "name": "#%% md\n"
    }
   },
   "source": [
    "# Statistical distributions\n",
    "\n",
    "The generation of random samples that follow a specific data distribution is very important in many fields.\n",
    "This is why *ironArray* supports many of the most used statistical distributions (uniform, normal, exponential, binomial, bernoulli, poisson...).\n",
    "\n",
    "In this tutorial, we will see how to generate random samples of these distributions using *ironArray* and we will compare them against *numpy* library.\n",
    "\n",
    "## Generating random samples\n",
    "\n",
    "In this example, we are going to generate a random sample of the exponential distribution, whose distribution function is\n",
    "\n",
    "$$ f(x, \\lambda) = \\begin{cases} \\lambda e^{-\\lambda x} & x \\geq 0 \\\\ 0 & x < 0 \\\\ \\end{cases} $$\n",
    "\n",
    "with $\\lambda = 5$."
   ]
  },
  {
   "cell_type": "code",
   "execution_count": 1,
   "metadata": {
    "pycharm": {
     "name": "#%%\n"
    }
   },
   "outputs": [
    {
     "ename": "AttributeError",
     "evalue": "'Store' object has no attribute 'contiguous'",
     "output_type": "error",
     "traceback": [
      "\u001B[0;31m---------------------------------------------------------------------------\u001B[0m",
      "\u001B[0;31mAttributeError\u001B[0m                            Traceback (most recent call last)",
      "\u001B[0;32m/var/folders/s2/7xckwnmd493cqgj23nn7qv4m0000gn/T/ipykernel_1222/2100781356.py\u001B[0m in \u001B[0;36m<module>\u001B[0;34m\u001B[0m\n\u001B[1;32m      5\u001B[0m \u001B[0mstore\u001B[0m \u001B[0;34m=\u001B[0m \u001B[0mia\u001B[0m\u001B[0;34m.\u001B[0m\u001B[0mStore\u001B[0m\u001B[0;34m(\u001B[0m\u001B[0mchunks\u001B[0m\u001B[0;34m=\u001B[0m\u001B[0;34m(\u001B[0m\u001B[0;36m1000\u001B[0m\u001B[0;34m,\u001B[0m \u001B[0;36m1000\u001B[0m\u001B[0;34m)\u001B[0m\u001B[0;34m,\u001B[0m \u001B[0mblocks\u001B[0m\u001B[0;34m=\u001B[0m\u001B[0;34m(\u001B[0m\u001B[0;36m250\u001B[0m\u001B[0;34m,\u001B[0m \u001B[0;36m250\u001B[0m\u001B[0;34m)\u001B[0m\u001B[0;34m)\u001B[0m\u001B[0;34m\u001B[0m\u001B[0;34m\u001B[0m\u001B[0m\n\u001B[1;32m      6\u001B[0m \u001B[0;34m\u001B[0m\u001B[0m\n\u001B[0;32m----> 7\u001B[0;31m \u001B[0mx\u001B[0m \u001B[0;34m=\u001B[0m \u001B[0mia\u001B[0m\u001B[0;34m.\u001B[0m\u001B[0mrandom\u001B[0m\u001B[0;34m.\u001B[0m\u001B[0mexponential\u001B[0m\u001B[0;34m(\u001B[0m\u001B[0;34m(\u001B[0m\u001B[0;36m5000\u001B[0m\u001B[0;34m,\u001B[0m \u001B[0;36m10000\u001B[0m\u001B[0;34m)\u001B[0m\u001B[0;34m,\u001B[0m \u001B[0;36m5\u001B[0m\u001B[0;34m,\u001B[0m \u001B[0mdtype\u001B[0m\u001B[0;34m=\u001B[0m\u001B[0mnp\u001B[0m\u001B[0;34m.\u001B[0m\u001B[0mfloat64\u001B[0m\u001B[0;34m,\u001B[0m \u001B[0mstore\u001B[0m\u001B[0;34m=\u001B[0m\u001B[0mstore\u001B[0m\u001B[0;34m)\u001B[0m\u001B[0;34m\u001B[0m\u001B[0;34m\u001B[0m\u001B[0m\n\u001B[0m\u001B[1;32m      8\u001B[0m \u001B[0;34m\u001B[0m\u001B[0m\n\u001B[1;32m      9\u001B[0m \u001B[0;34m\u001B[0m\u001B[0m\n",
      "\u001B[0;32m~/iron-array-python/iarray/random.py\u001B[0m in \u001B[0;36mexponential\u001B[0;34m(shape, scale, cfg, **kwargs)\u001B[0m\n\u001B[1;32m    172\u001B[0m     \u001B[0;32mwith\u001B[0m \u001B[0mia\u001B[0m\u001B[0;34m.\u001B[0m\u001B[0mconfig\u001B[0m\u001B[0;34m(\u001B[0m\u001B[0mshape\u001B[0m\u001B[0;34m=\u001B[0m\u001B[0mshape\u001B[0m\u001B[0;34m,\u001B[0m \u001B[0mcfg\u001B[0m\u001B[0;34m=\u001B[0m\u001B[0mcfg\u001B[0m\u001B[0;34m,\u001B[0m \u001B[0;34m**\u001B[0m\u001B[0mkwargs\u001B[0m\u001B[0;34m)\u001B[0m \u001B[0;32mas\u001B[0m \u001B[0mcfg\u001B[0m\u001B[0;34m:\u001B[0m\u001B[0;34m\u001B[0m\u001B[0;34m\u001B[0m\u001B[0m\n\u001B[1;32m    173\u001B[0m         \u001B[0mdtshape\u001B[0m \u001B[0;34m=\u001B[0m \u001B[0mia\u001B[0m\u001B[0;34m.\u001B[0m\u001B[0mDTShape\u001B[0m\u001B[0;34m(\u001B[0m\u001B[0mshape\u001B[0m\u001B[0;34m,\u001B[0m \u001B[0mcfg\u001B[0m\u001B[0;34m.\u001B[0m\u001B[0mdtype\u001B[0m\u001B[0;34m)\u001B[0m\u001B[0;34m\u001B[0m\u001B[0;34m\u001B[0m\u001B[0m\n\u001B[0;32m--> 174\u001B[0;31m         \u001B[0;32mreturn\u001B[0m \u001B[0mext\u001B[0m\u001B[0;34m.\u001B[0m\u001B[0mrandom_exponential\u001B[0m\u001B[0;34m(\u001B[0m\u001B[0mcfg\u001B[0m\u001B[0;34m,\u001B[0m \u001B[0mscale\u001B[0m\u001B[0;34m,\u001B[0m \u001B[0mdtshape\u001B[0m\u001B[0;34m)\u001B[0m\u001B[0;34m\u001B[0m\u001B[0;34m\u001B[0m\u001B[0m\n\u001B[0m\u001B[1;32m    175\u001B[0m \u001B[0;34m\u001B[0m\u001B[0m\n\u001B[1;32m    176\u001B[0m \u001B[0;34m\u001B[0m\u001B[0m\n",
      "\u001B[0;32miarray_ext.pyx\u001B[0m in \u001B[0;36miarray.iarray_ext.random_exponential\u001B[0;34m()\u001B[0m\n",
      "\u001B[0;32miarray_ext.pyx\u001B[0m in \u001B[0;36miarray.iarray_ext.set_storage\u001B[0;34m()\u001B[0m\n",
      "\u001B[0;31mAttributeError\u001B[0m: 'Store' object has no attribute 'contiguous'"
     ]
    }
   ],
   "source": [
    "import iarray as ia\n",
    "import numpy as np\n",
    "\n",
    "\n",
    "store = ia.Store(chunks=(1000, 1000), blocks=(250, 250))\n",
    "\n",
    "x = ia.random.exponential((5000, 10000), 5, dtype=np.float64, store=store)\n"
   ]
  },
  {
   "cell_type": "markdown",
   "metadata": {
    "pycharm": {
     "name": "#%% md\n"
    }
   },
   "source": [
    "## Comparing against *numpy*\n",
    "\n",
    "First, we create a random sample from the same distribution using numpy."
   ]
  },
  {
   "cell_type": "code",
   "execution_count": null,
   "metadata": {
    "pycharm": {
     "name": "#%%\n"
    }
   },
   "outputs": [],
   "source": [
    "np.random.seed(123)\n",
    "y = np.random.exponential(5, 5000 * 10000).reshape(5000, 10000)"
   ]
  },
  {
   "cell_type": "markdown",
   "metadata": {
    "pycharm": {
     "name": "#%% md\n"
    }
   },
   "source": [
    "Then we extract a slice from each container to work with it (the calculations\n",
    "will be much faster)."
   ]
  },
  {
   "cell_type": "code",
   "execution_count": null,
   "metadata": {
    "pycharm": {
     "name": "#%%\n"
    }
   },
   "outputs": [],
   "source": [
    "x2 = ia.iarray2numpy( x[:500, 1000:1250]).flatten()\n",
    "y2 = y[1000:1500, 3000:3250].flatten()\n"
   ]
  },
  {
   "cell_type": "markdown",
   "metadata": {
    "pycharm": {
     "name": "#%% md\n"
    }
   },
   "source": [
    "After that, we can visually check that the two samples come from the same distribution\n",
    "by representing their histograms."
   ]
  },
  {
   "cell_type": "code",
   "execution_count": null,
   "metadata": {
    "pycharm": {
     "name": "#%%\n"
    }
   },
   "outputs": [],
   "source": [
    "import matplotlib.pyplot as plt\n",
    "\n",
    "\n",
    "_, _, _ = plt.hist(x2, histtype='step', label=\"iarray\")\n",
    "_, _, _ = plt.hist(y2, histtype='step', label=\"numpy\")\n",
    "\n",
    "plt.legend()\n",
    "\n",
    "plt.show()"
   ]
  },
  {
   "cell_type": "markdown",
   "metadata": {
    "pycharm": {
     "name": "#%% md\n"
    }
   },
   "source": [
    "Finally, we can mathematically check that the two samples come from the same distribution\n",
    "applying the Kolmogorov-Smirnov test. To apply the test, we have to assume that the two samples come\n",
    " from the same distribution."
   ]
  },
  {
   "cell_type": "code",
   "execution_count": null,
   "metadata": {
    "pycharm": {
     "name": "#%%\n"
    }
   },
   "outputs": [],
   "source": [
    "from scipy.stats import kstest\n",
    "\n",
    "\n",
    "statistic, pvalue = kstest(x2, y2)\n",
    "\n",
    "print(f\"D:       {statistic:.4f}\")\n",
    "print(f\"p-value: {pvalue:.4f}\")"
   ]
  },
  {
   "cell_type": "markdown",
   "metadata": {
    "pycharm": {
     "name": "#%% md\n"
    }
   },
   "source": [
    "As can be seen, since the p-value is very large ($>0.05$) the assumed hypothesis cannot be rejected.\n",
    "\n",
    "\n"
   ]
  }
 ],
 "metadata": {
  "kernelspec": {
   "display_name": "Python 3",
   "language": "python",
   "name": "python3"
  },
  "language_info": {
   "codemirror_mode": {
    "name": "ipython",
    "version": 3
   },
   "file_extension": ".py",
   "mimetype": "text/x-python",
   "name": "python",
   "nbconvert_exporter": "python",
   "pygments_lexer": "ipython3",
   "version": "3.8.8"
  }
 },
 "nbformat": 4,
 "nbformat_minor": 1
}