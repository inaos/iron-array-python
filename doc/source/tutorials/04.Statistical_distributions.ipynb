{
 "cells": [
  {
   "cell_type": "markdown",
   "metadata": {
    "collapsed": true,
    "pycharm": {
     "name": "#%% md\n"
    }
   },
   "source": [
    "# Statistical distributions\n",
    "\n",
    "The generation of random samples that follow a specific data distribution is very important in many fields.\n",
    "This is why *ironArray* supports many of the most used statistical distributions (uniform, normal, exponential, binomial, bernoulli, poisson...).\n",
    "\n",
    "In this tutorial, we will see how to generate random samples of these distributions using *ironArray* and we will compare them against the  *NumPy* library.\n",
    "\n",
    "## Generating random samples\n",
    "\n",
    "In this example, we are going to generate a random sample of the exponential distribution, whose distribution function is\n",
    "\n",
    "$$ f(x, \\lambda) = \\begin{cases} \\lambda e^{-\\lambda x} & x \\geq 0 \\\\ 0 & x < 0 \\\\ \\end{cases} $$\n",
    "\n",
    "with $\\lambda = 5$."
   ]
  },
  {
   "cell_type": "code",
   "execution_count": 1,
   "metadata": {
    "pycharm": {
     "name": "#%%\n"
    }
   },
   "outputs": [],
   "source": [
    "import iarray as ia\n",
    "import numpy as np\n",
    "\n",
    "\n",
    "cfg = ia.Config(chunks=(1000, 1000), blocks=(250, 250))\n",
    "\n",
    "x = ia.random.exponential((5000, 10000), 5, dtype=np.float64, cfg=cfg)"
   ]
  },
  {
   "cell_type": "markdown",
   "metadata": {
    "pycharm": {
     "name": "#%% md\n"
    }
   },
   "source": [
    "## Comparing against *numpy*\n",
    "\n",
    "First, we create a random sample from the same distribution using numpy."
   ]
  },
  {
   "cell_type": "code",
   "execution_count": 2,
   "metadata": {
    "pycharm": {
     "name": "#%%\n"
    }
   },
   "outputs": [],
   "source": [
    "np.random.seed(123)\n",
    "y = np.random.exponential(5, 5000 * 10000).reshape(5000, 10000)"
   ]
  },
  {
   "cell_type": "markdown",
   "metadata": {
    "pycharm": {
     "name": "#%% md\n"
    }
   },
   "source": [
    "Then we extract a slice from each container to work with it (the calculations\n",
    "will be much faster)."
   ]
  },
  {
   "cell_type": "code",
   "execution_count": 3,
   "metadata": {
    "pycharm": {
     "name": "#%%\n"
    }
   },
   "outputs": [],
   "source": [
    "x2 = ia.iarray2numpy( x[:500, 1000:1250]).flatten()\n",
    "y2 = y[1000:1500, 3000:3250].flatten()"
   ]
  },
  {
   "cell_type": "markdown",
   "metadata": {
    "pycharm": {
     "name": "#%% md\n"
    }
   },
   "source": [
    "After that, we can visually check that the two samples come from the same distribution\n",
    "by representing their histograms."
   ]
  },
  {
   "cell_type": "code",
   "execution_count": 4,
   "metadata": {
    "pycharm": {
     "name": "#%%\n"
    }
   },
   "outputs": [
    {
     "data": {
      "image/png": "[encoded data removed]",
      "text/plain": [
       "<Figure size 432x288 with 1 Axes>"
      ]
     },
     "metadata": {
      "needs_background": "light"
     },
     "output_type": "display_data"
    }
   ],
   "source": [
    "import matplotlib.pyplot as plt\n",
    "\n",
    "\n",
    "_, _, _ = plt.hist(x2, histtype='step', label=\"iarray\")\n",
    "_, _, _ = plt.hist(y2, histtype='step', label=\"numpy\")\n",
    "\n",
    "plt.legend()\n",
    "\n",
    "plt.show()"
   ]
  },
  {
   "cell_type": "markdown",
   "metadata": {
    "pycharm": {
     "name": "#%% md\n"
    }
   },
   "source": [
    "Finally, we can mathematically check that the two samples come from the same distribution\n",
    "applying the Kolmogorov-Smirnov test. To apply the test, we have to assume that the two samples come\n",
    " from the same distribution."
   ]
  },
  {
   "cell_type": "code",
   "execution_count": 5,
   "metadata": {
    "pycharm": {
     "name": "#%%\n"
    }
   },
   "outputs": [
    {
     "name": "stdout",
     "output_type": "stream",
     "text": [
      "D:       0.0042\n",
      "p-value: 0.2252\n"
     ]
    }
   ],
   "source": [
    "from scipy.stats import kstest\n",
    "\n",
    "\n",
    "statistic, pvalue = kstest(x2, y2)\n",
    "\n",
    "print(f\"D:       {statistic:.4f}\")\n",
    "print(f\"p-value: {pvalue:.4f}\")"
   ]
  },
  {
   "cell_type": "markdown",
   "metadata": {
    "pycharm": {
     "name": "#%% md\n"
    }
   },
   "source": [
    "As can be seen, since the p-value is very large ($>0.05$) the assumed hypothesis cannot be rejected."
   ]
  }
 ],
 "metadata": {
  "kernelspec": {
   "display_name": "Python 3 (ipykernel)",
   "language": "python",
   "name": "python3"
  },
  "language_info": {
   "codemirror_mode": {
    "name": "ipython",
    "version": 3
   },
   "file_extension": ".py",
   "mimetype": "text/x-python",
   "name": "python",
   "nbconvert_exporter": "python",
   "pygments_lexer": "ipython3",
   "version": "3.9.5"
  }
 },
 "nbformat": 4,
 "nbformat_minor": 1
}
