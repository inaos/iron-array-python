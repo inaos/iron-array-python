{
 "cells": [
  {
   "cell_type": "markdown",
   "metadata": {},
   "source": [
    "# Configuring ironArray\n",
    "\n",
    "ironArray offers a lot of configuration parameters for creating and operating with arrays.  However, setting the same compression and storage-related properties every time you create an array object can become tedious and repetitive, specially when you are dealing with datasets with stable properties.  ironArray offers you the option to set default properties in either the global configuration or within a context.\n",
    "\n",
    "## Global configuration\n",
    "\n",
    "If you will always use the same configuration parameters in your script, it might be a good idea to set default global properties as part of your script initialization:"
   ]
  },
  {
   "cell_type": "code",
   "execution_count": 4,
   "metadata": {
    "pycharm": {
     "name": "#%%\n"
    }
   },
   "outputs": [
    {
     "data": {
      "text/plain": [
       "Config(codec=<Codecs.ZSTD: 5>, clevel=1, favor=<Favors.BALANCE: 0>, filters=[<Filters.SHUFFLE: 1>], fp_mantissa_bits=0, use_dict=False, nthreads=3, eval_method=<Eval.AUTO: 1>, seed=1, random_gen=<RandomGen.MERSENNE_TWISTER: 0>, btune=False, dtype=<class 'numpy.float64'>, store=Store(chunks=None, blocks=None, urlpath=None, mode=b'r', contiguous=False, plainbuffer=False), chunks=None, blocks=None, urlpath=None, mode='r', contiguous=False, plainbuffer=False)"
      ]
     },
     "execution_count": 4,
     "metadata": {},
     "output_type": "execute_result"
    }
   ],
   "source": [
    "import iarray as ia\n",
    "\n",
    "ia.set_config(codec=ia.Codecs.ZSTD, clevel=1, btune=False)"
   ]
  },
  {
   "cell_type": "markdown",
   "metadata": {},
   "source": [
    "You can verify that the new default properties are now set:  the default compression codec has changed to ZSTD, and the default compression level has changed to 1."
   ]
  },
  {
   "cell_type": "code",
   "execution_count": 5,
   "metadata": {
    "pycharm": {
     "name": "#%%\n"
    }
   },
   "outputs": [
    {
     "name": "stdout",
     "output_type": "stream",
     "text": [
      "Config(codec=<Codecs.ZSTD: 5>, clevel=1, favor=<Favors.BALANCE: 0>, filters=[<Filters.SHUFFLE: 1>], fp_mantissa_bits=0, use_dict=False, nthreads=3, eval_method=<Eval.AUTO: 1>, seed=1, random_gen=<RandomGen.MERSENNE_TWISTER: 0>, btune=False, dtype=<class 'numpy.float64'>, store=Store(chunks=None, blocks=None, urlpath=None, mode=b'r', contiguous=False, plainbuffer=False), chunks=None, blocks=None, urlpath=None, mode=b'r', contiguous=False, plainbuffer=False)\n"
     ]
    }
   ],
   "source": [
    "cfg = ia.Config()\n",
    "print(cfg)"
   ]
  },
  {
   "cell_type": "markdown",
   "metadata": {},
   "source": [
    "These will be the defaults for *all* the ironArray functions that are called in your script."
   ]
  },
  {
   "cell_type": "markdown",
   "metadata": {},
   "source": [
    "## Contextual Configuration\n",
    "\n",
    "Sometimes you want different configuration profiles for different kinds of arrays.  In this case, you can create `ia.config` objects with custom settings that can be applied to selected arrays.  This is an example of *contextual configuration*:"
   ]
  },
  {
   "cell_type": "code",
   "execution_count": 6,
   "metadata": {
    "pycharm": {
     "name": "#%%\n"
    }
   },
   "outputs": [
    {
     "name": "stdout",
     "output_type": "stream",
     "text": [
      "a1 cratio: 5.7826\n",
      "a2 cratio: 9.5427\n"
     ]
    }
   ],
   "source": [
    "shape = [1000, 1000]\n",
    "with ia.config(clevel=9, codec=ia.Codecs.LZ4):\n",
    "    a1 = ia.linspace(shape, -1, 0)\n",
    "a2 = ia.linspace(shape, -1, 0)\n",
    "print(f\"a1 cratio: {a1.cratio:.4f}\")\n",
    "print(f\"a2 cratio: {a2.cratio:0.4f}\")"
   ]
  },
  {
   "cell_type": "markdown",
   "metadata": {},
   "source": [
    "In this case, `a1` and `a2` have different compression ratios, as they have different compression levels and compression codecs set as default properties on their array configurations.  `a1` is using the LZ4 codec with compression level 3, whereas `a2` is using ZSTD and compression level 1, the global defaults that we set in the previous example."
   ]
  },
  {
   "cell_type": "markdown",
   "metadata": {
    "pycharm": {
     "name": "#%% md\n"
    }
   },
   "source": [
    "## Conclusion\n",
    "\n",
    "Make sure to use the advanced global and contextual configurations to set often-used configuration profiles for your arrays.\n",
    "\n"
   ]
  }
 ],
 "metadata": {
  "kernelspec": {
   "display_name": "Python 3 (ipykernel)",
   "language": "python",
   "name": "python3"
  },
  "language_info": {
   "codemirror_mode": {
    "name": "ipython",
    "version": 3
   },
   "file_extension": ".py",
   "mimetype": "text/x-python",
   "name": "python",
   "nbconvert_exporter": "python",
   "pygments_lexer": "ipython3",
   "version": "3.9.6"
  }
 },
 "nbformat": 4,
 "nbformat_minor": 1
}