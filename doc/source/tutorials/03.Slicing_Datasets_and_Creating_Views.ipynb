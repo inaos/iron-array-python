{
 "cells": [
  {
   "cell_type": "markdown",
   "source": [
    "# Slicing Datasets and Creating Views"
   ],
   "metadata": {
    "collapsed": false
   }
  },
  {
   "cell_type": "markdown",
   "source": [
    "In this tutorial, we will cover the steps to load a large array of data, then *slice* it into chunks to create a *view* that can be examined and manipulated. Views are simply references to the parts of a larger array that contain the data of interest to you at the moment.\n",
    "\n",
    "In order to see how slicing works in ironArray, we'll use a [Pangeo project](https://medium.com/pangeo) open source [dataset](https://registry.opendata.aws/ecmwf-era5/) containing precipitation data. In this case, we are going to work with precipitation data covering a period of one month."
   ],
   "metadata": {
    "collapsed": false
   }
  },
  {
   "cell_type": "markdown",
   "source": [
    "## Opening the Dataset\n",
    "\n",
    "Before we can begin slicing the data and creating a view, we first need to load the data into an ironArray structure.\n",
    "We'll start by configuring our ironArray environment, as covered in the [previous tutorial](02.Configuring_ironArray.html)."
   ],
   "metadata": {
    "collapsed": false
   }
  },
  {
   "cell_type": "code",
   "execution_count": null,
   "outputs": [],
   "source": [
    "import zarr\n",
    "import h5py\n",
    "import hdf5plugin as h5plugin\n",
    "import xarray as xr\n",
    "import numpy as np\n",
    "import s3fs\n",
    "import iarray as ia\n",
    "from numcodecs import blosc, Blosc\n",
    "import random\n",
    "import os\n",
    "import shutil\n",
    "\n",
    "ia.set_config(codec=ia.Codec.LZ4, filters=[ia.Filter.SHUFFLE])\n",
    "blosc.set_nthreads(ia.get_config().nthreads)\n",
    "\n",
    "%load_ext memprofiler"
   ],
   "metadata": {
    "collapsed": false,
    "pycharm": {
     "name": "#%%\n"
    }
   }
  },
  {
   "cell_type": "markdown",
   "source": [
    "Even though it is not too important how we download the data, we are going to show how we do it. First we define a method to load data into a zarray object from a zarray file on a [S3 filesystem](https://en.wikipedia.org/wiki/Amazon_S3).\n",
    "The dataset is split into sets organized by year and month;  we'll make year and month parameters to our load method.\n",
    "\n",
    "We'll also have a starting date and ending date as parameters, so that we can further reduce the amount of data we use to populate our initial ironArray object."
   ],
   "metadata": {
    "collapsed": false
   }
  },
  {
   "cell_type": "code",
   "execution_count": null,
   "outputs": [],
   "source": [
    "def open_zarr(year, month, datestart, dateend):\n",
    "    fs = s3fs.S3FileSystem(anon=True)\n",
    "\n",
    "    datestring = 'era5-pds/zarr/{year}/{month:02d}/data/'.format(year=year, month=month)\n",
    "\n",
    "    precip_zarr = xr.open_dataset(s3fs.S3Map(datestring + 'precipitation_amount_1hour_Accumulation.zarr/',\n",
    "                                             s3=fs),\n",
    "                                 engine=\"zarr\")\n",
    "    precip_zarr = precip_zarr.sel(time1=slice(np.datetime64(datestart), np.datetime64(dateend)))\n",
    "\n",
    "    return precip_zarr.precipitation_amount_1hour_Accumulation"
   ],
   "metadata": {
    "collapsed": false,
    "pycharm": {
     "name": "#%%\n"
    }
   }
  },
  {
   "cell_type": "markdown",
   "source": [
    "Next, we'll check if we have an ironArray dataset saved to disk;  if we don't, we'll import the data from the zarray file.\n",
    "When we call our `open_zarr()` method, we'll import a file containing one-hour accumulation precipitation data for October 1987,\n",
    "then select all the data from the zarray that starts at the beginning of the month and finishes at the end of the month.\n",
    "Finally, we'll turn the loaded dataset into an ironArray object and save it to disk."
   ],
   "metadata": {
    "collapsed": false
   }
  },
  {
   "cell_type": "code",
   "execution_count": null,
   "outputs": [],
   "source": [
    "%%time\n",
    "if os.path.exists(\"precip_slicing.iarr\"):\n",
    "    precip_ia = ia.load(\"precip_slicing.iarr\")\n",
    "else:\n",
    "    precip = open_zarr(1987, 10, '1987-10-01', '1987-10-30 23:59').data\n",
    "    precip_ia = ia.numpy2iarray(precip)\n",
    "    ia.save(\"precip_slicing.iarr\", precip_ia)\n",
    "print(precip_ia.info)"
   ],
   "metadata": {
    "collapsed": false,
    "pycharm": {
     "name": "#%%\n"
    }
   }
  },
  {
   "cell_type": "markdown",
   "source": [
    "In this simple case, the chunk shape and block shape have been automatically balanced, which is the default setting for ironArray.\n",
    "Setting the appropriate chunk shape and block shape for your array is very important, as we will demonstrate below in\n",
    "[Optimizations Tips](#Optimizations-Tips)."
   ],
   "metadata": {
    "collapsed": false
   }
  },
  {
   "cell_type": "markdown",
   "source": [
    "## Slicing Notation\n",
    "\n",
    "In slicing tuples, ironArray supports integers, `start:stop` slices (the `step` is not yet implemented) and Ellipsis `...`.\n",
    "\n",
    "As in Python, all indices are zero-based: for the $i$-th index $n_i$, the valid range is $0 \\le n_i < d_i$ where $d_i$ is the $i-th$ element of the shape of the array. Negative indices are interpreted as counting from the end of the array (i.e., if $n_i < 0$, it means $d_i + n_i$).\n",
    "\n",
    "The simplest way to obtain a slice is using integers to acces a value. In this case ironArray will return a Python object."
   ],
   "metadata": {
    "collapsed": false
   }
  },
  {
   "cell_type": "code",
   "execution_count": null,
   "outputs": [],
   "source": [
    "s1 = precip_ia[5, 234, -55]\n",
    "s1, type(s1)"
   ],
   "metadata": {
    "collapsed": false,
    "pycharm": {
     "name": "#%%\n"
    }
   }
  },
  {
   "cell_type": "markdown",
   "source": [
    "As we said, ironArray also suports the `start:stop` notation. If `start` is not specified, the slice will start at the beginning of the array. In the same way, if `stop` is not specified, the slice will stop at the end of the array."
   ],
   "metadata": {
    "collapsed": false
   }
  },
  {
   "cell_type": "code",
   "execution_count": null,
   "outputs": [],
   "source": [
    "sl1 = precip_ia[34:555, 211:311, 300:]\n",
    "sl2 = precip_ia[:, :-250, 300:500]\n",
    "sl3 = precip_ia[:, :, :]\n",
    "sl1, sl2, sl3"
   ],
   "metadata": {
    "collapsed": false,
    "pycharm": {
     "name": "#%%\n"
    }
   }
  },
  {
   "cell_type": "markdown",
   "source": [
    "Another interesting feature to use in slicing is the ellipsis object (`...`). This symbol expands the number of `:` objects to index all dimensions. There may only be a single ellipsis present."
   ],
   "metadata": {
    "collapsed": false
   }
  },
  {
   "cell_type": "code",
   "execution_count": null,
   "outputs": [],
   "source": [
    "sl1 = precip_ia[...]\n",
    "sl2 = precip_ia[..., 5]\n",
    "sl3 = precip_ia[500:100, ..., 400]\n",
    "sl1, sl2, sl3"
   ],
   "metadata": {
    "collapsed": false,
    "pycharm": {
     "name": "#%%\n"
    }
   }
  },
  {
   "cell_type": "markdown",
   "source": [
    "In ironArray the slicing tuples may not be completed at all (i.e. not all dimensions are indexed). If this is the case, ironArray completes the remaining dimensions with `:`"
   ],
   "metadata": {
    "collapsed": false
   }
  },
  {
   "cell_type": "code",
   "execution_count": null,
   "outputs": [],
   "source": [
    "sl1 = precip_ia[:400, -500]\n",
    "sl2 = precip_ia[5]\n",
    "sl1, sl2"
   ],
   "metadata": {
    "collapsed": false,
    "pycharm": {
     "name": "#%%\n"
    }
   }
  },
  {
   "cell_type": "markdown",
   "source": [
    "It should be noted that if an integer is used, the dimension of the array is reduced by one unit. If we want to keep the dimension, we can specify a slice with a range of length one (e.g. `[5:6]`)."
   ],
   "metadata": {
    "collapsed": false
   }
  },
  {
   "cell_type": "code",
   "execution_count": null,
   "outputs": [],
   "source": [
    "precip_ia[5].shape, precip_ia[5:6].shape"
   ],
   "metadata": {
    "collapsed": false,
    "pycharm": {
     "name": "#%%\n"
    }
   }
  },
  {
   "cell_type": "markdown",
   "source": [
    "These two slices contain the same data. But the first dimension has been removed in the first slice since we have indexed it with an integer."
   ],
   "metadata": {
    "collapsed": false
   }
  },
  {
   "cell_type": "markdown",
   "source": [
    "### Views"
   ],
   "metadata": {
    "collapsed": false
   }
  },
  {
   "cell_type": "markdown",
   "source": [
    "When a slice is performed in ironArray, a view of the container is returned (like in numpy). You can always check whether an array is a view or not with the `is_view()` method:"
   ],
   "metadata": {
    "collapsed": false
   }
  },
  {
   "cell_type": "code",
   "execution_count": null,
   "outputs": [],
   "source": [
    "%%time\n",
    "\n",
    "s1 = precip_ia[2:300, 40:310, 500:1000]\n",
    "precip_ia.is_view(), s1.is_view()"
   ],
   "metadata": {
    "collapsed": false,
    "pycharm": {
     "name": "#%%\n"
    }
   }
  },
  {
   "cell_type": "markdown",
   "source": [
    "If we don't want a view, we can do a copy of the slice or get a numpy array using the `data` attribute:"
   ],
   "metadata": {
    "collapsed": false
   }
  },
  {
   "cell_type": "code",
   "execution_count": null,
   "outputs": [],
   "source": [
    "%%time\n",
    "\n",
    "s1 = precip_ia[2:300, 40:310, 500:1000].copy()\n",
    "type(s1)"
   ],
   "metadata": {
    "collapsed": false,
    "pycharm": {
     "name": "#%%\n"
    }
   }
  },
  {
   "cell_type": "code",
   "execution_count": null,
   "outputs": [],
   "source": [
    "%%time\n",
    "\n",
    "s1 = precip_ia[2:300, 40:310, 500:1000].data\n",
    "type(s1)"
   ],
   "metadata": {
    "collapsed": false,
    "pycharm": {
     "name": "#%%\n"
    }
   }
  },
  {
   "cell_type": "markdown",
   "source": [
    "So, retrieving the interesting data out of your IArray is pretty similar to NumPy convention.\n",
    "\n",
    "At any rate, whenever you want to use the numpy advanced slicing features, you can always get a NumPy array out of an IArray (or a view of it) and apply your desired indexing there.  Remember that ironArray is meant for handling very large arrays, so there is no shame in getting the interesting slice as a NumPy object and then do your work over it.\n",
    "\n",
    "Finally, indexing also applies to arrays that are stored persistently on disk.  ironArray will use the information about the data you want and will read and decompress only the part that is necessary. See for example:"
   ],
   "metadata": {
    "collapsed": false
   }
  },
  {
   "cell_type": "code",
   "execution_count": null,
   "outputs": [],
   "source": [
    "precip_ia2 = ia.open(\"precip_slicing.iarr\")\n",
    "sl1 = precip_ia2[:400, -500]\n",
    "sl2 = precip_ia2[5]\n",
    "sl1, sl2"
   ],
   "metadata": {
    "collapsed": false,
    "pycharm": {
     "name": "#%%\n"
    }
   }
  },
  {
   "cell_type": "markdown",
   "source": [
    "Due to the double partitioning and fast compression codecs, the slicing on disk is in general very efficient.\n"
   ],
   "metadata": {
    "collapsed": false
   }
  },
  {
   "cell_type": "markdown",
   "source": [
    "## Optimizations Tips"
   ],
   "metadata": {
    "collapsed": false
   }
  },
  {
   "cell_type": "markdown",
   "source": [
    "In this section we are going to fine-tune some of the ironArray parameters to obtain a better performance. The first thing that we can modify is the chunk shape and the block shape of the array.\n",
    "\n",
    "Let's suppose that we are going to slice the array always in the same dimension. For example, in this case we want to slice the array in the days dimension."
   ],
   "metadata": {
    "collapsed": false
   }
  },
  {
   "cell_type": "code",
   "execution_count": null,
   "outputs": [],
   "source": [
    "%%time\n",
    "for i in range(precip_ia.shape[1]):\n",
    "    _ = precip_ia[:, i, :].data"
   ],
   "metadata": {
    "collapsed": false,
    "pycharm": {
     "name": "#%%\n"
    }
   }
  },
  {
   "cell_type": "markdown",
   "source": [
    "What happens if we optimize the chunks and the blocks?"
   ],
   "metadata": {
    "collapsed": false
   }
  },
  {
   "cell_type": "code",
   "execution_count": null,
   "outputs": [],
   "source": [
    "chunks = (precip_ia.shape[0], 8, precip_ia.shape[2])\n",
    "blocks = (64, 4, 64)\n",
    "\n",
    "precip_ia_op = precip_ia.copy(chunks=chunks, blocks=blocks)"
   ],
   "metadata": {
    "collapsed": false,
    "pycharm": {
     "name": "#%%\n"
    }
   }
  },
  {
   "cell_type": "code",
   "execution_count": null,
   "outputs": [],
   "source": [
    "%%time\n",
    "for i in range(precip_ia.shape[1]):\n",
    "    _ = precip_ia_op[:, i, :].data"
   ],
   "metadata": {
    "collapsed": false,
    "pycharm": {
     "name": "#%%\n"
    }
   }
  },
  {
   "cell_type": "markdown",
   "source": [
    "As can be seen, if we are always going to access in a specific dimension, it is very important to optimize the chunks and the blocks of the array.\n"
   ],
   "metadata": {
    "collapsed": false
   }
  }
 ],
 "metadata": {
  "kernelspec": {
   "display_name": "Python 3 (ipykernel)",
   "language": "python",
   "name": "python3"
  },
  "language_info": {
   "codemirror_mode": {
    "name": "ipython",
    "version": 3
   },
   "file_extension": ".py",
   "mimetype": "text/x-python",
   "name": "python",
   "nbconvert_exporter": "python",
   "pygments_lexer": "ipython3",
   "version": "3.9.5"
  }
 },
 "nbformat": 4,
 "nbformat_minor": 1
}