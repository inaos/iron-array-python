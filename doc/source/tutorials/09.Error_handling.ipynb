{
 "cells": [
  {
   "cell_type": "markdown",
   "metadata": {
    "pycharm": {
     "name": "#%% md\n"
    }
   },
   "source": [
    "# Error handling\n",
    "\n",
    "ironArray has a sophisticated error handling machinery allowing to catch errors at multiple levels. To see how all this works, let's try to build a block iterator with a different shape than the chunk shape in an array."
   ]
  },
  {
   "cell_type": "code",
   "execution_count": 1,
   "metadata": {
    "pycharm": {
     "name": "#%%\n"
    }
   },
   "outputs": [],
   "source": [
    "import iarray as ia"
   ]
  },
  {
   "cell_type": "code",
   "execution_count": 2,
   "metadata": {
    "pycharm": {
     "name": "#%%\n"
    }
   },
   "outputs": [
    {
     "ename": "IArrayError",
     "evalue": "b'NOT VALID - 0x800a000000938414 - error=1,ver=0,rev=10,os=0,neg=1,adj=147,subject=1044,code=9633792,ubits=0x0'",
     "output_type": "error",
     "traceback": [
      "\u001b[0;31m---------------------------------------------------------------------------\u001b[0m",
      "\u001b[0;31mIArrayError\u001b[0m                               Traceback (most recent call last)",
      "\u001b[0;32m/tmp/ipykernel_80559/849519659.py\u001b[0m in \u001b[0;36m<module>\u001b[0;34m\u001b[0m\n\u001b[1;32m      1\u001b[0m \u001b[0ma\u001b[0m \u001b[0;34m=\u001b[0m \u001b[0mia\u001b[0m\u001b[0;34m.\u001b[0m\u001b[0mempty\u001b[0m\u001b[0;34m(\u001b[0m\u001b[0mshape\u001b[0m\u001b[0;34m=\u001b[0m\u001b[0;34m[\u001b[0m\u001b[0;36m10\u001b[0m\u001b[0;34m,\u001b[0m \u001b[0;36m10\u001b[0m\u001b[0;34m,\u001b[0m \u001b[0;36m10\u001b[0m\u001b[0;34m]\u001b[0m\u001b[0;34m,\u001b[0m \u001b[0murlpath\u001b[0m\u001b[0;34m=\u001b[0m\u001b[0;34m\"array.iarr\"\u001b[0m\u001b[0;34m,\u001b[0m \u001b[0mmode\u001b[0m\u001b[0;34m=\u001b[0m\u001b[0;34m\"w\"\u001b[0m\u001b[0;34m)\u001b[0m\u001b[0;34m\u001b[0m\u001b[0;34m\u001b[0m\u001b[0m\n\u001b[1;32m      2\u001b[0m \u001b[0mitershape\u001b[0m \u001b[0;34m=\u001b[0m \u001b[0;34m[\u001b[0m\u001b[0;36m4\u001b[0m\u001b[0;34m,\u001b[0m \u001b[0;36m5\u001b[0m\u001b[0;34m,\u001b[0m \u001b[0;36m6\u001b[0m\u001b[0;34m]\u001b[0m\u001b[0;34m\u001b[0m\u001b[0;34m\u001b[0m\u001b[0m\n\u001b[0;32m----> 3\u001b[0;31m \u001b[0ma\u001b[0m\u001b[0;34m.\u001b[0m\u001b[0miter_write_block\u001b[0m\u001b[0;34m(\u001b[0m\u001b[0mitershape\u001b[0m\u001b[0;34m)\u001b[0m\u001b[0;34m\u001b[0m\u001b[0;34m\u001b[0m\u001b[0m\n\u001b[0m",
      "\u001b[0;32m~/iarray/iron-array-python/iarray/iarray_container.py\u001b[0m in \u001b[0;36miter_write_block\u001b[0;34m(self, iterblock)\u001b[0m\n\u001b[1;32m    134\u001b[0m             \u001b[0;32melse\u001b[0m\u001b[0;34m:\u001b[0m\u001b[0;34m\u001b[0m\u001b[0;34m\u001b[0m\u001b[0m\n\u001b[1;32m    135\u001b[0m                 \u001b[0miterblock\u001b[0m\u001b[0;34m,\u001b[0m \u001b[0m_\u001b[0m \u001b[0;34m=\u001b[0m \u001b[0mia\u001b[0m\u001b[0;34m.\u001b[0m\u001b[0mpartition_advice\u001b[0m\u001b[0;34m(\u001b[0m\u001b[0mself\u001b[0m\u001b[0;34m.\u001b[0m\u001b[0mshape\u001b[0m\u001b[0;34m)\u001b[0m\u001b[0;34m\u001b[0m\u001b[0;34m\u001b[0m\u001b[0m\n\u001b[0;32m--> 136\u001b[0;31m         \u001b[0;32mreturn\u001b[0m \u001b[0mext\u001b[0m\u001b[0;34m.\u001b[0m\u001b[0mWriteBlockIter\u001b[0m\u001b[0;34m(\u001b[0m\u001b[0mself\u001b[0m\u001b[0;34m,\u001b[0m \u001b[0miterblock\u001b[0m\u001b[0;34m)\u001b[0m\u001b[0;34m\u001b[0m\u001b[0;34m\u001b[0m\u001b[0m\n\u001b[0m\u001b[1;32m    137\u001b[0m \u001b[0;34m\u001b[0m\u001b[0m\n\u001b[1;32m    138\u001b[0m     \u001b[0;32mdef\u001b[0m \u001b[0m__getitem__\u001b[0m\u001b[0;34m(\u001b[0m\u001b[0mself\u001b[0m\u001b[0;34m,\u001b[0m \u001b[0mkey\u001b[0m\u001b[0;34m)\u001b[0m\u001b[0;34m:\u001b[0m\u001b[0;34m\u001b[0m\u001b[0;34m\u001b[0m\u001b[0m\n",
      "\u001b[0;32miarray_ext.pyx\u001b[0m in \u001b[0;36miarray.iarray_ext.WriteBlockIter.__cinit__\u001b[0;34m()\u001b[0m\n",
      "\u001b[0;32miarray_ext.pyx\u001b[0m in \u001b[0;36miarray.iarray_ext.iarray_check\u001b[0;34m()\u001b[0m\n",
      "\u001b[0;31mIArrayError\u001b[0m: b'NOT VALID - 0x800a000000938414 - error=1,ver=0,rev=10,os=0,neg=1,adj=147,subject=1044,code=9633792,ubits=0x0'"
     ]
    }
   ],
   "source": [
    "a = ia.empty(shape=[10, 10, 10], urlpath=\"array.iarr\", mode=\"w\")\n",
    "itershape = [4, 5, 6]\n",
    "a.iter_write_block(itershape)"
   ]
  },
  {
   "cell_type": "markdown",
   "metadata": {
    "pycharm": {
     "name": "#%% md\n"
    }
   },
   "source": [
    "The ironArray error handling machinery raised a Python error called ``IArrayError``. This error returns a general error message. In this particular case, the error is ``NOT VALID`` but it does not indicate much more beyond this.\n",
    "\n",
    "In order to obtain more detailed information, we can set the environment variable ``INAC_TRACE=\"iarray.error\"``. With this, ironArray will show us a more detailed error; in particular, it will provide us with a trace of what's going on in the underlying C library.\n",
    "\n",
    "To better leverage this functionality inside a Jupyter notebook, it is convenient to use the ``wurlitzer`` extension to redirect `stdout` and `stderr` handlers to the notebook:"
   ]
  },
  {
   "cell_type": "code",
   "execution_count": 3,
   "metadata": {
    "pycharm": {
     "name": "#%%\n"
    }
   },
   "outputs": [],
   "source": [
    "%load_ext wurlitzer\n",
    "\n",
    "import os\n",
    "os.environ['INAC_TRACE'] = 'iarray.error'"
   ]
  },
  {
   "cell_type": "markdown",
   "metadata": {
    "pycharm": {
     "name": "#%% md\n"
    }
   },
   "source": [
    "and, after doing this, we can get more info on the ironArray core library (written in C):"
   ]
  },
  {
   "cell_type": "code",
   "execution_count": 4,
   "metadata": {
    "pycharm": {
     "name": "#%%\n"
    }
   },
   "outputs": [
    {
     "ename": "IArrayError",
     "evalue": "b'NOT VALID - 0x800a000000938414 - error=1,ver=0,rev=10,os=0,neg=1,adj=147,subject=1044,code=9633792,ubits=0x0'",
     "output_type": "error",
     "traceback": [
      "\u001b[0;31m---------------------------------------------------------------------------\u001b[0m",
      "\u001b[0;31mIArrayError\u001b[0m                               Traceback (most recent call last)",
      "\u001b[0;32m/tmp/ipykernel_80559/4188138722.py\u001b[0m in \u001b[0;36m<module>\u001b[0;34m\u001b[0m\n\u001b[0;32m----> 1\u001b[0;31m \u001b[0ma\u001b[0m\u001b[0;34m.\u001b[0m\u001b[0miter_write_block\u001b[0m\u001b[0;34m(\u001b[0m\u001b[0mitershape\u001b[0m\u001b[0;34m)\u001b[0m\u001b[0;34m\u001b[0m\u001b[0;34m\u001b[0m\u001b[0m\n\u001b[0m",
      "\u001b[0;32m~/iarray/iron-array-python/iarray/iarray_container.py\u001b[0m in \u001b[0;36miter_write_block\u001b[0;34m(self, iterblock)\u001b[0m\n\u001b[1;32m    134\u001b[0m             \u001b[0;32melse\u001b[0m\u001b[0;34m:\u001b[0m\u001b[0;34m\u001b[0m\u001b[0;34m\u001b[0m\u001b[0m\n\u001b[1;32m    135\u001b[0m                 \u001b[0miterblock\u001b[0m\u001b[0;34m,\u001b[0m \u001b[0m_\u001b[0m \u001b[0;34m=\u001b[0m \u001b[0mia\u001b[0m\u001b[0;34m.\u001b[0m\u001b[0mpartition_advice\u001b[0m\u001b[0;34m(\u001b[0m\u001b[0mself\u001b[0m\u001b[0;34m.\u001b[0m\u001b[0mshape\u001b[0m\u001b[0;34m)\u001b[0m\u001b[0;34m\u001b[0m\u001b[0;34m\u001b[0m\u001b[0m\n\u001b[0;32m--> 136\u001b[0;31m         \u001b[0;32mreturn\u001b[0m \u001b[0mext\u001b[0m\u001b[0;34m.\u001b[0m\u001b[0mWriteBlockIter\u001b[0m\u001b[0;34m(\u001b[0m\u001b[0mself\u001b[0m\u001b[0;34m,\u001b[0m \u001b[0miterblock\u001b[0m\u001b[0;34m)\u001b[0m\u001b[0;34m\u001b[0m\u001b[0;34m\u001b[0m\u001b[0m\n\u001b[0m\u001b[1;32m    137\u001b[0m \u001b[0;34m\u001b[0m\u001b[0m\n\u001b[1;32m    138\u001b[0m     \u001b[0;32mdef\u001b[0m \u001b[0m__getitem__\u001b[0m\u001b[0;34m(\u001b[0m\u001b[0mself\u001b[0m\u001b[0;34m,\u001b[0m \u001b[0mkey\u001b[0m\u001b[0;34m)\u001b[0m\u001b[0;34m:\u001b[0m\u001b[0;34m\u001b[0m\u001b[0;34m\u001b[0m\u001b[0m\n",
      "\u001b[0;32miarray_ext.pyx\u001b[0m in \u001b[0;36miarray.iarray_ext.WriteBlockIter.__cinit__\u001b[0;34m()\u001b[0m\n",
      "\u001b[0;32miarray_ext.pyx\u001b[0m in \u001b[0;36miarray.iarray_ext.iarray_check\u001b[0;34m()\u001b[0m\n",
      "\u001b[0;31mIArrayError\u001b[0m: b'NOT VALID - 0x800a000000938414 - error=1,ver=0,rev=10,os=0,neg=1,adj=147,subject=1044,code=9633792,ubits=0x0'"
     ]
    },
    {
     "name": "stdout",
     "output_type": "stream",
     "text": [
      "[iarray.error] - /home/faltet2/iarray/iron-array-python/iarray/iarray-c-develop/src/iarray_iterator.c:497\n",
      "The iterator iter_blockshape must be equal to the container chunkshape\n"
     ]
    }
   ],
   "source": [
    "a.iter_write_block(itershape)"
   ]
  },
  {
   "cell_type": "markdown",
   "metadata": {
    "pycharm": {
     "name": "#%% md\n"
    }
   },
   "source": [
    "Now, we get the error message ``The iterator iter_blockshape must be equal to the container chunkshape\n",
    "`` that already gives us a better idea of what we were doing wrong.\n",
    "\n",
    "In addition, we can see in which lines of the ironArray core code the error has\n",
    "occurred. In this case, the trace is:\n",
    "\n",
    "- ``iarray/iarray-c-develop/src/iarray_iterator.c:497``\n",
    "\n",
    "While those will be mostly useful for developers, it is always interesting that you can attach these  when you file possible bug reports.\n",
    "\n",
    "That's all.  Whenever you would like more info on your errors, remember to activate the `INAC_TRACE` environment variable."
   ]
  },
  {
   "cell_type": "code",
   "execution_count": null,
   "metadata": {},
   "outputs": [],
   "source": []
  }
 ],
 "metadata": {
  "kernelspec": {
   "display_name": "Python 3 (ipykernel)",
   "language": "python",
   "name": "python3"
  },
  "language_info": {
   "codemirror_mode": {
    "name": "ipython",
    "version": 3
   },
   "file_extension": ".py",
   "mimetype": "text/x-python",
   "name": "python",
   "nbconvert_exporter": "python",
   "pygments_lexer": "ipython3",
   "version": "3.9.5"
  }
 },
 "nbformat": 4,
 "nbformat_minor": 1
}
