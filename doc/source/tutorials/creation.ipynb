{
 "cells": [
  {
   "cell_type": "markdown",
   "metadata": {
    "collapsed": true,
    "pycharm": {
     "name": "#%% md\n"
    }
   },
   "source": [
    "# Creating arrays\n",
    "\n",
    "*ironArray* for Python is a package that implements a multi-dimensional, compressed data container and an optimized computational engine to manage large arrays.\n",
    "\n",
    "In this tutorial we will cover creating a simple ironArray array.  We will instantiate a simple array, then set properties on the array object.  We will also see how to set default properties by changing global and contextual configuration settings.\n"
   ]
  },
  {
   "cell_type": "markdown",
   "metadata": {
    "pycharm": {
     "name": "#%% md\n"
    }
   },
   "source": [
    "## Creating an array\n",
    "\n",
    "Let's start by creating a simple array:"
   ]
  },
  {
   "cell_type": "code",
   "execution_count": 5,
   "metadata": {
    "pycharm": {
     "is_executing": true,
     "name": "#%%\n"
    }
   },
   "outputs": [
    {
     "name": "stdout",
     "output_type": "stream",
     "text": [
      "<IArray (5, 5) np.float64>\n"
     ]
    }
   ],
   "source": [
    "import numpy as np\n",
    "import iarray as ia\n",
    "\n",
    "shape = [5, 5]\n",
    "dtype = np.float64\n",
    "\n",
    "arr = ia.linspace(shape, -1 , 1, dtype=dtype)\n",
    "print(repr(arr))"
   ]
  },
  {
   "cell_type": "markdown",
   "metadata": {
    "pycharm": {
     "name": "#%% md\n"
    }
   },
   "source": [
    "Voilà, the object `arr` contains our first ironArray array.\n",
    "\n",
    "To create an array, we first have to define its shape.  The array is then instantiated by the `linspace` constructor, where you specify the `start` and `stop` values.  Functions in ironArray are written to map closely to NumPy functions;  you can consult the [NumPy documentation](https://numpy.org/doc/) for more information on the functions and their parameters.\n",
    "\n",
    "The ironArray library is designed to operate on floating point numerical data.  Consequently, the arrays currently support two data types: `double` and `float`.\n",
    "\n",
    "Let's convert the `arr` object into a NumPy array and inspect the data:"
   ]
  },
  {
   "cell_type": "code",
   "execution_count": 6,
   "metadata": {
    "pycharm": {
     "is_executing": true,
     "name": "#%%\n"
    }
   },
   "outputs": [
    {
     "data": {
      "text/plain": [
       "array([[-1.        , -0.91666667, -0.83333333, -0.75      , -0.66666667],\n",
       "       [-0.58333333, -0.5       , -0.41666667, -0.33333333, -0.25      ],\n",
       "       [-0.16666667, -0.08333333,  0.        ,  0.08333333,  0.16666667],\n",
       "       [ 0.25      ,  0.33333333,  0.41666667,  0.5       ,  0.58333333],\n",
       "       [ 0.66666667,  0.75      ,  0.83333333,  0.91666667,  1.        ]])"
      ]
     },
     "execution_count": 6,
     "metadata": {},
     "output_type": "execute_result"
    }
   ],
   "source": [
    "ia.iarray2numpy(arr)"
   ]
  },
  {
   "cell_type": "markdown",
   "metadata": {
    "pycharm": {
     "name": "#%% md\n"
    }
   },
   "source": [
    "### Properties\n",
    "\n",
    "Besides the shape and data type, we can set more properties on the array.  For example, let's make it persistent:"
   ]
  },
  {
   "cell_type": "code",
   "execution_count": 7,
   "metadata": {
    "pycharm": {
     "is_executing": true,
     "name": "#%%\n"
    }
   },
   "outputs": [],
   "source": [
    "pers_arr = ia.linspace(shape, -1 , 1, dtype=dtype, urlpath=\"myarr.iarr\")"
   ]
  },
  {
   "cell_type": "code",
   "execution_count": 8,
   "metadata": {
    "pycharm": {
     "is_executing": true,
     "name": "#%%\n"
    }
   },
   "outputs": [
    {
     "name": "stdout",
     "output_type": "stream",
     "text": [
      "-rw-r--r-- 1 aleix aleix 633 Apr 21 08:36 myarr.iarr\n"
     ]
    }
   ],
   "source": [
    "%%bash\n",
    "ls -l myarr.iarr"
   ]
  },
  {
   "cell_type": "markdown",
   "metadata": {
    "pycharm": {
     "name": "#%% md\n"
    }
   },
   "source": [
    "and then we'll read the persistent object from disk.  We are going to use `ia.open()`instead of `ia.load()` to lazily read in the data as needed (a topic covered in a later turorial):"
   ]
  },
  {
   "cell_type": "code",
   "execution_count": 9,
   "metadata": {
    "pycharm": {
     "is_executing": true,
     "name": "#%%\n"
    }
   },
   "outputs": [
    {
     "name": "stdout",
     "output_type": "stream",
     "text": [
      "[[-1.         -0.91666667 -0.83333333 -0.75       -0.66666667]\n",
      " [-0.58333333 -0.5        -0.41666667 -0.33333333 -0.25      ]\n",
      " [-0.16666667 -0.08333333  0.          0.08333333  0.16666667]\n",
      " [ 0.25        0.33333333  0.41666667  0.5         0.58333333]\n",
      " [ 0.66666667  0.75        0.83333333  0.91666667  1.        ]]\n"
     ]
    }
   ],
   "source": [
    "arr2 = ia.open(\"myarr.iarr\")\n",
    "print(arr2.data)"
   ]
  },
  {
   "cell_type": "markdown",
   "metadata": {},
   "source": [
    "#### Store\n",
    "\n",
    "The `Store` class is used to tune the storage for your arrays.  The `urlpath` property is just one of many properties that can be set in a `Store` object.  See the [Store documentation](../reference/autofiles/config/iarray.Store.html) for more details on how ironArray storage can be optimized to improve performance and decrease array storage size."
   ]
  },
  {
   "cell_type": "code",
   "execution_count": 10,
   "metadata": {
    "pycharm": {
     "is_executing": true,
     "name": "#%%\n"
    }
   },
   "outputs": [
    {
     "name": "stdout",
     "output_type": "stream",
     "text": [
      "Store(chunks=None, blocks=None, urlpath=None, enforce_frame=False, plainbuffer=False)\n"
     ]
    }
   ],
   "source": [
    "store = ia.Store()\n",
    "print(store)"
   ]
  },
  {
   "cell_type": "markdown",
   "metadata": {
    "pycharm": {
     "name": "#%% md\n"
    }
   },
   "source": [
    "We can also set multiple properties in a single `Store` instance. For example, this `Store` object has properties for the shape of the chunks and the blocks:\n",
    "\n",
    "```\n",
    "ia.Store(chunkshape=(3000, 1000), blockshape=(100, 100))\n",
    "```\n",
    "\n",
    "The following example shows how to create a `Store` object and set its properties, then add it to a larger ironArray array object:"
   ]
  },
  {
   "cell_type": "code",
   "execution_count": 15,
   "metadata": {
    "pycharm": {
     "is_executing": true,
     "name": "#%%\n"
    }
   },
   "outputs": [],
   "source": [
    "store = ia.Store(chunks=(3000, 1000), blocks=(100, 100), urlpath=\"large_arr.iarr\")\n",
    "arr = ia.linspace((10000, 7000), -1, 1, dtype=np.float64, store=store)"
   ]
  },
  {
   "cell_type": "code",
   "execution_count": 16,
   "metadata": {
    "pycharm": {
     "is_executing": true,
     "name": "#%%\n"
    }
   },
   "outputs": [
    {
     "name": "stdout",
     "output_type": "stream",
     "text": [
      "-rw-r--r-- 1 aleix aleix 91M Apr 21 08:38 large_arr.iarr\n"
     ]
    }
   ],
   "source": [
    "%%bash\n",
    "ls -lh large_arr.iarr"
   ]
  },
  {
   "cell_type": "markdown",
   "metadata": {
    "pycharm": {
     "name": "#%% md\n"
    }
   },
   "source": [
    "We have just created an array containing about 500MB of data.  Thanks to integrated compression, the size of the serialized array on disk is only 100MB, about 5 times smaller.  In contrast to ordinary chunked and compressed data container libraries that support just a single level of data partitioning (such as HDF5 and Zarr), IronArray allows for two levels: chunks and blocks.  As we'll see later, two levels offer more flexibility and options for tuning performance on modern CPU architectures."
   ]
  },
  {
   "cell_type": "markdown",
   "metadata": {},
   "source": [
    "#### More Properties\n",
    "\n",
    "You may set many other properties when creating an ironArray array.  Here we set some compression properties:"
   ]
  },
  {
   "cell_type": "code",
   "execution_count": 19,
   "metadata": {
    "pycharm": {
     "is_executing": true,
     "name": "#%%\n"
    }
   },
   "outputs": [],
   "source": [
    "store = ia.Store(chunks=(3000, 1000), blocks=(100, 100), urlpath=\"large_arr2.iarr\")\n",
    "arr = ia.linspace((10000, 7000), -1, 1, dtype=np.float64, store=store, clevel=1, codec=ia.Codecs.ZSTD, fp_mantissa_bits=30)"
   ]
  },
  {
   "cell_type": "code",
   "execution_count": 20,
   "metadata": {
    "pycharm": {
     "is_executing": true,
     "name": "#%%\n"
    }
   },
   "outputs": [
    {
     "name": "stdout",
     "output_type": "stream",
     "text": [
      "-rw-r--r-- 1 aleix aleix 69M Apr 21 08:39 large_arr2.iarr\n"
     ]
    }
   ],
   "source": [
    "%%bash\n",
    "ls -lh large_arr2.iarr"
   ]
  },
  {
   "cell_type": "markdown",
   "metadata": {},
   "source": [
    "As you can see, we created an array that holds 500MB of data, as before.  But now the serialized data only occupies 30MB of disk space.  We changed the compression codec and mantissa bits properties to shrink the storage size:\n",
    "\n",
    "1) `codec=ia.Codecs.ZSTD`:  ZSTD offers better compression.\n",
    "\n",
    "2) `fp_mantissa_bits=30`:  We are setting just 30 significant bits in the mantissa, improving the compression ratio. You can set the `fp_mantissa_bits` to any precision between 1 and 24 bit (float32) or 53 bit (float64); the compression engine will compress the data to fit the specified precision."
   ]
  },
  {
   "cell_type": "markdown",
   "metadata": {},
   "source": [
    "You can see the complete set of supported properties and their defaults by examining an instance of `ia.Config`:"
   ]
  },
  {
   "cell_type": "code",
   "execution_count": 21,
   "metadata": {
    "pycharm": {
     "is_executing": true,
     "name": "#%%\n"
    }
   },
   "outputs": [
    {
     "name": "stdout",
     "output_type": "stream",
     "text": [
      "Config(codec=<Codecs.ZSTD: 5>, clevel=1, favor=<Favors.BALANCE: 0>, filters=[<Filters.BITSHUFFLE: 2>], fp_mantissa_bits=0, use_dict=False, nthreads=21, eval_method=<Eval.AUTO: 1>, seed=1, random_gen=<RandomGen.MERSENNE_TWISTER: 0>, btune=True, dtype=<class 'numpy.float64'>, store=Store(chunks=None, blocks=None, urlpath=None, enforce_frame=False, plainbuffer=False), chunks=None, blocks=None, urlpath=None, enforce_frame=False, plainbuffer=False)\n"
     ]
    }
   ],
   "source": [
    "cfg = ia.Config()\n",
    "print(cfg)"
   ]
  },
  {
   "cell_type": "markdown",
   "metadata": {
    "pycharm": {
     "name": "#%% md\n"
    }
   },
   "source": [
    "### Configuration\n",
    "\n",
    "Setting the same compression and storage-related properties every time you create an ironArray array object can become tedious and repetitive, if you are dealing with known datasets with stable characteristics.  You have the option to set default properties in either the global configuration or within a context.\n",
    "\n",
    "#### Global configuration\n",
    "\n",
    "If you will always use the same configuration parameters in your script, it might be a good idea to set default global properties as part of your script initialization:"
   ]
  },
  {
   "cell_type": "code",
   "execution_count": 22,
   "metadata": {
    "pycharm": {
     "is_executing": true,
     "name": "#%%\n"
    }
   },
   "outputs": [
    {
     "data": {
      "text/plain": [
       "Config(codec=<Codecs.ZSTD: 5>, clevel=1, favor=<Favors.BALANCE: 0>, filters=[<Filters.BITSHUFFLE: 2>], fp_mantissa_bits=0, use_dict=False, nthreads=21, eval_method=<Eval.AUTO: 1>, seed=1, random_gen=<RandomGen.MERSENNE_TWISTER: 0>, btune=False, dtype=<class 'numpy.float64'>, store=Store(chunks=None, blocks=None, urlpath=None, enforce_frame=False, plainbuffer=False), chunks=None, blocks=None, urlpath=None, enforce_frame=False, plainbuffer=False)"
      ]
     },
     "execution_count": 22,
     "metadata": {},
     "output_type": "execute_result"
    }
   ],
   "source": [
    "ia.set_config(codec=ia.Codecs.ZSTD, clevel=1, btune=False)"
   ]
  },
  {
   "cell_type": "markdown",
   "metadata": {
    "pycharm": {
     "name": "#%% md\n"
    }
   },
   "source": [
    "You can verify that the new default properties are now set:  the default compression codec has changed to ZSTD, and the default compression level has changed to 1."
   ]
  },
  {
   "cell_type": "code",
   "execution_count": 23,
   "metadata": {
    "pycharm": {
     "is_executing": true,
     "name": "#%%\n"
    }
   },
   "outputs": [
    {
     "name": "stdout",
     "output_type": "stream",
     "text": [
      "Config(codec=<Codecs.ZSTD: 5>, clevel=1, favor=<Favors.BALANCE: 0>, filters=[<Filters.BITSHUFFLE: 2>], fp_mantissa_bits=0, use_dict=False, nthreads=21, eval_method=<Eval.AUTO: 1>, seed=1, random_gen=<RandomGen.MERSENNE_TWISTER: 0>, btune=False, dtype=<class 'numpy.float64'>, store=Store(chunks=None, blocks=None, urlpath=None, enforce_frame=False, plainbuffer=False), chunks=None, blocks=None, urlpath=None, enforce_frame=False, plainbuffer=False)\n"
     ]
    }
   ],
   "source": [
    "cfg = ia.Config()\n",
    "print(cfg)"
   ]
  },
  {
   "cell_type": "markdown",
   "metadata": {},
   "source": [
    "These will be the defaults for *all* the ironArray functions that are called in your script."
   ]
  },
  {
   "cell_type": "markdown",
   "metadata": {
    "pycharm": {
     "name": "#%% md\n"
    }
   },
   "source": [
    "#### Contextual Configuration\n",
    "\n",
    "Sometimes you want different configuration profiles for different kinds of arrays.  In this case, you can create `ia.config` objects with custom settings that can be applied to selected arrays.  This is an example of *contextual configuration*:"
   ]
  },
  {
   "cell_type": "code",
   "execution_count": 31,
   "metadata": {
    "pycharm": {
     "is_executing": true,
     "name": "#%%\n"
    }
   },
   "outputs": [
    {
     "name": "stdout",
     "output_type": "stream",
     "text": [
      "a1 cratio: 5.7174\n",
      "a2 cratio: 14.8501\n"
     ]
    }
   ],
   "source": [
    "shape = [1000, 1000]\n",
    "with ia.config(clevel=9, codec=ia.Codecs.LZ4):\n",
    "    a1 = ia.linspace(shape, -1, 0)\n",
    "a2 = ia.linspace(shape, -1, 0)\n",
    "print(f\"a1 cratio: {a1.cratio:.4f}\")\n",
    "print(f\"a2 cratio: {a2.cratio:0.4f}\")"
   ]
  },
  {
   "cell_type": "markdown",
   "metadata": {
    "pycharm": {
     "name": "#%% md\n"
    }
   },
   "source": [
    "In this case, `a1` and `a2` have different compression ratios, as they have different compression levels and compression codecs set as default properties on their array configurations.  `a1` is using the LZ4 codec with compression level 3, whereas `a2` is using ZSTD and compression level 1, the global defaults that we set in the previous example."
   ]
  },
  {
   "cell_type": "markdown",
   "metadata": {
    "pycharm": {
     "name": "#%% md\n"
    }
   },
   "source": [
    "### Conclusion\n",
    "\n",
    "Now you can create ironArray arrays with specific properties.  You can create arbitrarily large arrays either in memory or on disk, and you can tailor arrays to your own needs using ironArray configuration properties.  Use the advanced global and contextual configurations to set often-used configuration profiles for your arrays."
   ]
  }
 ],
 "metadata": {
  "kernelspec": {
   "display_name": "Python 3",
   "language": "python",
   "name": "python3"
  },
  "language_info": {
   "codemirror_mode": {
    "name": "ipython",
    "version": 3
   },
   "file_extension": ".py",
   "mimetype": "text/x-python",
   "name": "python",
   "nbconvert_exporter": "python",
   "pygments_lexer": "ipython3",
   "version": "3.8.8"
  }
 },
 "nbformat": 4,
 "nbformat_minor": 1
}