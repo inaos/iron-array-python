{
 "cells": [
  {
   "cell_type": "markdown",
   "metadata": {
    "collapsed": true,
    "pycharm": {
     "name": "#%% md\n"
    }
   },
   "source": [
    "# Getting started\n",
    "\n",
    "*ironArray* for Python is a package implementing a multi-dimensional, compressed data container and a computational engine optimized for operating with large arrays.\n",
    "\n",
    "In this tutorial we will see some basic concepts such as the creation and the manipulation of *ironArray* arrays.\n"
   ]
  },
  {
   "cell_type": "markdown",
   "source": [
    "## Array creation\n",
    "\n",
    "In this first section, we will see how to create the main object of the library, the *ironArray* arrays, and how to specify different properties into it. Let's start by creating a simple array:"
   ],
   "metadata": {
    "collapsed": false,
    "pycharm": {
     "name": "#%% md\n"
    }
   }
  },
  {
   "cell_type": "code",
   "execution_count": 12,
   "outputs": [
    {
     "name": "stdout",
     "output_type": "stream",
     "text": [
      "DTShape(shape=[5, 5], dtype=<class 'numpy.float64'>)\n",
      "<iarray.iarray_container.IArray object at 0x7ffe595a0300>\n"
     ]
    }
   ],
   "source": [
    "import numpy as np\n",
    "import iarray as ia\n",
    "\n",
    "dtshape = ia.DTShape([5, 5], np.float64)\n",
    "print(repr(dtshape))\n",
    "arr = ia.linspace(dtshape, -1 , 1)\n",
    "print(repr(arr))"
   ],
   "metadata": {
    "collapsed": false,
    "pycharm": {
     "name": "#%%\n"
    }
   }
  },
  {
   "cell_type": "markdown",
   "source": [
    "Voilà, we have created our first ironArray array in `arr`.\n",
    "\n",
    "In order to create the array we have specified the shape and data type of the array within a `DTShape` dataclass.  Then we have called the `linspace` constructor, where you specify the `start` and `stop` values.  In general, ironArray uses the same names for functions than NumPy, so you can always check the excellent docs in NumPy so as to get more info.\n",
    "\n",
    "Right now, ironArray arrays only support two data types, `double` and `float`.  This is an indication of how it is geared towards handling numerical data, as many of the ironArray internal optimizations rely on using floating point datasets.  In addition, and thanks to `fp_mantissa_bits` property, you can use any precision between 1 and 64 bit floats and the compression engine will be in charge of getting rid of the unnecessary storage.\n",
    "\n",
    "But let's go back to our example and let's inspect the data of the array by converting it into a NumPy array:"
   ],
   "metadata": {
    "collapsed": false,
    "pycharm": {
     "name": "#%% md\n"
    }
   }
  },
  {
   "cell_type": "code",
   "execution_count": 15,
   "outputs": [
    {
     "data": {
      "text/plain": "array([[-1.        , -0.91666667, -0.83333333, -0.75      , -0.66666667],\n       [-0.58333333, -0.5       , -0.41666667, -0.33333333, -0.25      ],\n       [-0.16666667, -0.08333333,  0.        ,  0.08333333,  0.16666667],\n       [ 0.25      ,  0.33333333,  0.41666667,  0.5       ,  0.58333333],\n       [ 0.66666667,  0.75      ,  0.83333333,  0.91666667,  1.        ]])"
     },
     "execution_count": 15,
     "metadata": {},
     "output_type": "execute_result"
    }
   ],
   "source": [
    "ia.iarray2numpy(arr)"
   ],
   "metadata": {
    "collapsed": false,
    "pycharm": {
     "name": "#%%\n"
    }
   }
  },
  {
   "cell_type": "markdown",
   "source": [
    "### Creation Properties\n",
    "\n",
    "Besides the shape and data type, we can set more properties in the array.  For example, let's create it persistently:"
   ],
   "metadata": {
    "collapsed": false,
    "pycharm": {
     "name": "#%% md\n"
    }
   }
  },
  {
   "cell_type": "code",
   "execution_count": 22,
   "outputs": [],
   "source": [
    "pers_arr = ia.linspace(dtshape, -1 , 1, filename=\"myarr.iarr\")"
   ],
   "metadata": {
    "collapsed": false,
    "pycharm": {
     "name": "#%%\n"
    }
   }
  },
  {
   "cell_type": "code",
   "execution_count": 23,
   "outputs": [
    {
     "name": "stdout",
     "output_type": "stream",
     "text": [
      "-rw-r--r--  1 faltet  staff  606 Nov 26 14:16 myarr.iarr\n"
     ]
    }
   ],
   "source": [
    "%%bash\n",
    "ls -l myarr.iarr"
   ],
   "metadata": {
    "collapsed": false,
    "pycharm": {
     "name": "#%%\n"
    }
   }
  },
  {
   "cell_type": "markdown",
   "source": [
    "and we can load it from disk too:"
   ],
   "metadata": {
    "collapsed": false,
    "pycharm": {
     "name": "#%% md\n"
    }
   }
  },
  {
   "cell_type": "code",
   "execution_count": 28,
   "outputs": [
    {
     "name": "stdout",
     "output_type": "stream",
     "text": [
      "[[-1.         -0.91666667 -0.83333333 -0.75       -0.66666667]\n",
      " [-0.58333333 -0.5        -0.41666667 -0.33333333 -0.25      ]\n",
      " [-0.16666667 -0.08333333  0.          0.08333333  0.16666667]\n",
      " [ 0.25        0.33333333  0.41666667  0.5         0.58333333]\n",
      " [ 0.66666667  0.75        0.83333333  0.91666667  1.        ]]\n"
     ]
    }
   ],
   "source": [
    "arr2 = ia.load(\"myarr.iarr\")\n",
    "print(ia.iarray2numpy(arr2))"
   ],
   "metadata": {
    "collapsed": false,
    "pycharm": {
     "name": "#%%\n"
    }
   }
  },
  {
   "cell_type": "markdown",
   "source": [
    "This storage parameter can be used along with many others in the `Storage` object:"
   ],
   "metadata": {
    "collapsed": false
   }
  },
  {
   "cell_type": "code",
   "execution_count": 43,
   "outputs": [
    {
     "name": "stdout",
     "output_type": "stream",
     "text": [
      "Storage(chunkshape=None, blockshape=None, filename=None, enforce_frame=False, plainbuffer=False)\n"
     ]
    }
   ],
   "source": [
    "store = ia.Storage()\n",
    "print(store)"
   ],
   "metadata": {
    "collapsed": false,
    "pycharm": {
     "name": "#%%\n"
    }
   }
  },
  {
   "cell_type": "markdown",
   "source": [
    "For clarity, we can also group them in an Storage instance. For example, the next `Storage` object indicates the shape of both the chunks and the blocks:\n",
    "\n",
    "```\n",
    "ia.Storage(chunkshape=(3000, 1000), blockshape=(100, 100))\n",
    "```\n",
    "\n",
    "Let's use this Storage property to create a slightly larger array, more appropiate for ironArray usage:"
   ],
   "metadata": {
    "collapsed": false,
    "pycharm": {
     "name": "#%% md\n"
    }
   }
  },
  {
   "cell_type": "code",
   "execution_count": 37,
   "outputs": [],
   "source": [
    "dtshape = ia.DTShape((10000, 7000), np.float64)\n",
    "storage = ia.Storage(chunkshape=(3000, 1000), blockshape=(100, 100), filename=\"large_arr.iarr\")\n",
    "arr = ia.linspace(dtshape, -1, 1, storage=storage)"
   ],
   "metadata": {
    "collapsed": false,
    "pycharm": {
     "name": "#%%\n"
    }
   }
  },
  {
   "cell_type": "code",
   "execution_count": 38,
   "outputs": [
    {
     "name": "stdout",
     "output_type": "stream",
     "text": [
      "-rw-r--r--  1 faltet  staff   102M Nov 26 15:02 large_arr.iarr\n"
     ]
    }
   ],
   "source": [
    "%%bash\n",
    "ls -lh large_arr.iarr"
   ],
   "metadata": {
    "collapsed": false,
    "pycharm": {
     "name": "#%%\n"
    }
   }
  },
  {
   "cell_type": "markdown",
   "source": [
    "in this case, we have created an array of about 530 MB, but thanks to integrated compression, it takes just less than 5x the storage space.  Contrarily to ordinary chunked and compressed data container libraries that supports just 1 level of data partitioning (HDF5, Zarr...), ironArray allows for 2 levels: chunks and blocks.  This has important impact in the performance of modern computer architectures.  But don't get too fast for now; more on that later."
   ],
   "metadata": {
    "collapsed": false,
    "pycharm": {
     "name": "#%% md\n"
    }
   }
  },
  {
   "cell_type": "markdown",
   "source": [
    "### More Properties\n",
    "\n",
    "When creating arrays, ironArray lets you specify many other parameters such as compression related ones:"
   ],
   "metadata": {
    "collapsed": false
   }
  },
  {
   "cell_type": "code",
   "execution_count": 40,
   "outputs": [],
   "source": [
    "dtshape = ia.DTShape((10000, 7000), np.float64)\n",
    "storage = ia.Storage(chunkshape=(3000, 1000), blockshape=(100, 100), filename=\"large_arr2.iarr\")\n",
    "arr = ia.linspace(dtshape, -1, 1, storage=storage, clevel=1, codec=ia.Codecs.ZSTD, fp_mantissa_bits=30)"
   ],
   "metadata": {
    "collapsed": false,
    "pycharm": {
     "name": "#%%\n"
    }
   }
  },
  {
   "cell_type": "code",
   "execution_count": 41,
   "outputs": [
    {
     "name": "stdout",
     "output_type": "stream",
     "text": [
      "-rw-r--r--  1 faltet  staff    31M Nov 26 15:05 large_arr2.iarr\n"
     ]
    }
   ],
   "source": [
    "%%bash\n",
    "ls -lh large_arr2.iarr"
   ],
   "metadata": {
    "collapsed": false,
    "pycharm": {
     "name": "#%%\n"
    }
   }
  },
  {
   "cell_type": "markdown",
   "source": [
    "So, in this case the space required to store the array is much less than before mainly due to two reasons:\n",
    "\n",
    "1) We are using a better codec for compression (ZSTD).\n",
    "\n",
    "2) We are requiring just 30 significant bits in the mantissa, improving the compression ratio."
   ],
   "metadata": {
    "collapsed": false
   }
  },
  {
   "cell_type": "markdown",
   "source": [
    "You can see the complete set of supported arguments, as well as looking at its defaults, by printing an instance of `ia.Config`:"
   ],
   "metadata": {
    "collapsed": false
   }
  },
  {
   "cell_type": "code",
   "execution_count": 42,
   "outputs": [
    {
     "name": "stdout",
     "output_type": "stream",
     "text": [
      "Config(codec=<Codecs.LZ4: 1>, clevel=5, filters=[<Filters.SHUFFLE: 1>], fp_mantissa_bits=0, use_dict=False, nthreads=12, eval_method=<Eval.AUTO: 1>, seed=1, random_gen=<RandomGen.MERSENNE_TWISTER: 0>, storage=Storage(chunkshape=None, blockshape=None, filename=None, enforce_frame=False, plainbuffer=False), chunkshape=None, blockshape=None, filename=None, enforce_frame=False, plainbuffer=False)\n"
     ]
    }
   ],
   "source": [
    "cfg = ia.Config()\n",
    "print(cfg)"
   ],
   "metadata": {
    "collapsed": false,
    "pycharm": {
     "name": "#%%\n"
    }
   }
  },
  {
   "cell_type": "markdown",
   "source": [
    "Of course, specifying all the compression and storage related arguments for every call in ironArray can get boring pretty quickly.  For avoid this you can either modify the global configuration defaults, or doing so with a context."
   ],
   "metadata": {
    "collapsed": false
   }
  },
  {
   "cell_type": "markdown",
   "source": [
    "### Global Configuration\n",
    "\n",
    "If you are going to use the same configuration parameters in your script, it might be a good idea to change the global parameters:"
   ],
   "metadata": {
    "collapsed": false,
    "pycharm": {
     "name": "#%% md\n"
    }
   }
  },
  {
   "cell_type": "code",
   "execution_count": 44,
   "outputs": [
    {
     "data": {
      "text/plain": "Config(codec=<Codecs.ZSTD: 5>, clevel=1, filters=[<Filters.SHUFFLE: 1>], fp_mantissa_bits=0, use_dict=False, nthreads=12, eval_method=<Eval.AUTO: 1>, seed=1, random_gen=<RandomGen.MERSENNE_TWISTER: 0>, storage=Storage(chunkshape=None, blockshape=None, filename=None, enforce_frame=False, plainbuffer=False), chunkshape=None, blockshape=None, filename=None, enforce_frame=False, plainbuffer=False)"
     },
     "execution_count": 44,
     "metadata": {},
     "output_type": "execute_result"
    }
   ],
   "source": [
    "ia.set_config(codec=ia.Codecs.ZSTD, clevel=1)"
   ],
   "metadata": {
    "collapsed": false,
    "pycharm": {
     "name": "#%%\n"
    }
   }
  },
  {
   "cell_type": "markdown",
   "source": [
    "After doing that, the defaults for the global configuration changed:"
   ],
   "metadata": {
    "collapsed": false,
    "pycharm": {
     "name": "#%% md\n"
    }
   }
  },
  {
   "cell_type": "code",
   "execution_count": 45,
   "outputs": [
    {
     "name": "stdout",
     "output_type": "stream",
     "text": [
      "Config(codec=<Codecs.ZSTD: 5>, clevel=1, filters=[<Filters.SHUFFLE: 1>], fp_mantissa_bits=0, use_dict=False, nthreads=12, eval_method=<Eval.AUTO: 1>, seed=1, random_gen=<RandomGen.MERSENNE_TWISTER: 0>, storage=Storage(chunkshape=None, blockshape=None, filename=None, enforce_frame=False, plainbuffer=False), chunkshape=None, blockshape=None, filename=None, enforce_frame=False, plainbuffer=False)\n"
     ]
    }
   ],
   "source": [
    "cfg = ia.Config()\n",
    "print(cfg)"
   ],
   "metadata": {
    "collapsed": false,
    "pycharm": {
     "name": "#%%\n"
    }
   }
  },
  {
   "cell_type": "markdown",
   "source": [
    "and from then on, these will be the defaults for *all* the functions that are called in your script."
   ],
   "metadata": {
    "collapsed": false
   }
  },
  {
   "cell_type": "markdown",
   "source": [
    "### Contextual Configuration\n",
    "\n",
    "If you don't want to mess with your global configuration, `ia.config` context comes handy:"
   ],
   "metadata": {
    "collapsed": false,
    "pycharm": {
     "name": "#%% md\n"
    }
   }
  },
  {
   "cell_type": "code",
   "execution_count": 58,
   "outputs": [
    {
     "name": "stdout",
     "output_type": "stream",
     "text": [
      "a1 cratio: 5.478217370463394\n",
      "a2 cratio: 8.517036391751217\n"
     ]
    }
   ],
   "source": [
    "dtshape = ia.DTShape([1000, 1000])\n",
    "with ia.config(clevel=9, codec=ia.Codecs.LZ4) as cfg:\n",
    "    a1 = ia.linspace(dtshape, -1, 0, cfg=cfg)\n",
    "a2 = ia.linspace(dtshape, -1, 0)\n",
    "print(f\"a1 cratio: {a1.cratio}\")\n",
    "print(f\"a2 cratio: {a2.cratio}\")"
   ],
   "metadata": {
    "collapsed": false,
    "pycharm": {
     "name": "#%%\n"
    }
   }
  },
  {
   "cell_type": "markdown",
   "source": [
    "In this case, `a1` and `a2` have different compression ratios because they are using different properties.  `a1` is using the LZ4 codec with compression level 3, whereas `a2` was using ZSTD and compression level 1, which are the global defaults that we set in the previous section."
   ],
   "metadata": {
    "collapsed": false,
    "pycharm": {
     "name": "#%% md\n"
    }
   }
  },
  {
   "cell_type": "code",
   "execution_count": 52,
   "outputs": [
    {
     "name": "stdout",
     "output_type": "stream",
     "text": [
      "Config(codec=<Codecs.ZSTD: 5>, clevel=1, filters=[<Filters.SHUFFLE: 1>], fp_mantissa_bits=0, use_dict=False, nthreads=12, eval_method=<Eval.AUTO: 1>, seed=1, random_gen=<RandomGen.MERSENNE_TWISTER: 0>, storage=Storage(chunkshape=None, blockshape=None, filename=None, enforce_frame=False, plainbuffer=False), chunkshape=None, blockshape=None, filename=None, enforce_frame=False, plainbuffer=False)\n"
     ]
    }
   ],
   "source": [
    "cfg = ia.Config()\n",
    "print(cfg)\n"
   ],
   "metadata": {
    "collapsed": false,
    "pycharm": {
     "name": "#%%\n"
    }
   }
  },
  {
   "cell_type": "markdown",
   "source": [
    "## Slicing and Views\n",
    "\n",
    "TBD"
   ],
   "metadata": {
    "collapsed": false
   }
  }
 ],
 "metadata": {
  "kernelspec": {
   "display_name": "Python 3",
   "language": "python",
   "name": "python3"
  },
  "language_info": {
   "codemirror_mode": {
    "name": "ipython",
    "version": 2
   },
   "file_extension": ".py",
   "mimetype": "text/x-python",
   "name": "python",
   "nbconvert_exporter": "python",
   "pygments_lexer": "ipython2",
   "version": "2.7.6"
  }
 },
 "nbformat": 4,
 "nbformat_minor": 0
}