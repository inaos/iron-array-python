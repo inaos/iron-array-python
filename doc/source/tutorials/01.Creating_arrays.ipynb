{
 "cells": [
  {
   "cell_type": "markdown",
   "metadata": {
    "collapsed": true,
    "pycharm": {
     "name": "#%% md\n"
    }
   },
   "source": [
    "# Creating arrays\n",
    "\n",
    "*ironArray* for Python is a package that implements a multi-dimensional, compressed data container and an optimized computational engine to manage large arrays.\n",
    "\n",
    "In this tutorial we will cover creating a simple ironArray array.  We will instantiate a simple array, then set properties on the array object.  We will also see how to set default properties by changing global and contextual configuration settings.\n"
   ]
  },
  {
   "cell_type": "markdown",
   "metadata": {
    "pycharm": {
     "name": "#%% md\n"
    }
   },
   "source": [
    "## Creating an array\n",
    "\n",
    "Let's start by creating a simple array whose elements are inside the [-1, 1] interval:"
   ]
  },
  {
   "cell_type": "code",
   "execution_count": 1,
   "metadata": {
    "pycharm": {
     "name": "#%%\n"
    }
   },
   "outputs": [
    {
     "name": "stdout",
     "output_type": "stream",
     "text": [
      "<IArray (5, 5) np.float64>\n"
     ]
    }
   ],
   "source": [
    "import numpy as np\n",
    "import iarray as ia\n",
    "\n",
    "arr = ia.linspace((5, 5), -1 , 1, dtype=np.float64)\n",
    "print(arr)"
   ]
  },
  {
   "cell_type": "markdown",
   "metadata": {
    "pycharm": {
     "name": "#%% md\n"
    }
   },
   "source": [
    "Voilà, the object `arr` contains our first ironArray array.\n",
    "\n",
    "To create an array, we first have to define its shape.  The array is then instantiated by the `linspace` constructor, where you specify the `start` and `stop` values.  Functions in ironArray are written to map closely to NumPy functions;  you can consult the [NumPy documentation](https://numpy.org/doc/) for more information on the functions and their parameters.\n",
    "\n",
    "The ironArray library is designed to operate on floating point numerical data.  Consequently, the arrays currently support two data types: `double` and `float`.\n",
    "\n",
    "Let's convert the `arr` object into a NumPy array and inspect the data:"
   ]
  },
  {
   "cell_type": "code",
   "execution_count": 2,
   "metadata": {
    "pycharm": {
     "name": "#%%\n"
    }
   },
   "outputs": [
    {
     "data": {
      "text/plain": [
       "array([[-1.        , -0.91666667, -0.83333333, -0.75      , -0.66666667],\n",
       "       [-0.58333333, -0.5       , -0.41666667, -0.33333333, -0.25      ],\n",
       "       [-0.16666667, -0.08333333,  0.        ,  0.08333333,  0.16666667],\n",
       "       [ 0.25      ,  0.33333333,  0.41666667,  0.5       ,  0.58333333],\n",
       "       [ 0.66666667,  0.75      ,  0.83333333,  0.91666667,  1.        ]])"
      ]
     },
     "execution_count": 2,
     "metadata": {},
     "output_type": "execute_result"
    }
   ],
   "source": [
    "ia.iarray2numpy(arr)"
   ]
  },
  {
   "cell_type": "markdown",
   "metadata": {},
   "source": [
    "You can also use the `.data` attribute for doing the same:"
   ]
  },
  {
   "cell_type": "code",
   "execution_count": 3,
   "metadata": {},
   "outputs": [
    {
     "data": {
      "text/plain": [
       "array([[-1.        , -0.91666667, -0.83333333, -0.75      , -0.66666667],\n",
       "       [-0.58333333, -0.5       , -0.41666667, -0.33333333, -0.25      ],\n",
       "       [-0.16666667, -0.08333333,  0.        ,  0.08333333,  0.16666667],\n",
       "       [ 0.25      ,  0.33333333,  0.41666667,  0.5       ,  0.58333333],\n",
       "       [ 0.66666667,  0.75      ,  0.83333333,  0.91666667,  1.        ]])"
      ]
     },
     "execution_count": 3,
     "metadata": {},
     "output_type": "execute_result"
    }
   ],
   "source": [
    "arr.data"
   ]
  },
  {
   "cell_type": "markdown",
   "metadata": {
    "pycharm": {
     "name": "#%% md\n"
    }
   },
   "source": [
    "### Properties\n",
    "\n",
    "Besides the shape and data type, we can set more properties on the array.  For example, let's make it persistent:"
   ]
  },
  {
   "cell_type": "code",
   "execution_count": 4,
   "metadata": {
    "pycharm": {
     "name": "#%%\n"
    }
   },
   "outputs": [],
   "source": [
    "pers_arr = ia.linspace((5, 5), -1 , 1, dtype=np.float64, urlpath=\"myarr.iarr\", mode=\"w\")"
   ]
  },
  {
   "cell_type": "code",
   "execution_count": 5,
   "metadata": {
    "pycharm": {
     "name": "#%%\n"
    }
   },
   "outputs": [
    {
     "name": "stdout",
     "output_type": "stream",
     "text": [
      "-rw-rw-r-- 1 faltet2 faltet2 852 dic 22 09:08 myarr.iarr\n"
     ]
    }
   ],
   "source": [
    "%%bash\n",
    "ls -l myarr.iarr"
   ]
  },
  {
   "cell_type": "markdown",
   "metadata": {
    "pycharm": {
     "name": "#%% md\n"
    }
   },
   "source": [
    "and then we'll read the persistent object from disk.  We are going to use `open()` instead of `load()` to lazily read in the data as needed (a topic covered in a later tutorial):"
   ]
  },
  {
   "cell_type": "code",
   "execution_count": 6,
   "metadata": {
    "pycharm": {
     "name": "#%%\n"
    }
   },
   "outputs": [
    {
     "name": "stdout",
     "output_type": "stream",
     "text": [
      "[[-1.         -0.91666667 -0.83333333 -0.75       -0.66666667]\n",
      " [-0.58333333 -0.5        -0.41666667 -0.33333333 -0.25      ]\n",
      " [-0.16666667 -0.08333333  0.          0.08333333  0.16666667]\n",
      " [ 0.25        0.33333333  0.41666667  0.5         0.58333333]\n",
      " [ 0.66666667  0.75        0.83333333  0.91666667  1.        ]]\n"
     ]
    }
   ],
   "source": [
    "arr2 = ia.open(\"myarr.iarr\")\n",
    "print(arr2.data)"
   ]
  },
  {
   "cell_type": "markdown",
   "metadata": {},
   "source": [
    "#### Config\n",
    "\n",
    "The `Config` class is used to tune the storage (together with some other parameters) for your arrays.  The `urlpath` property is just one of many properties that can be set in a `Config` object.  See the [Config documentation](.../reference/autofiles/config/iarray.Config.html) for more details on how ironArray configuration can be optimized to improve performance and decrease array size."
   ]
  },
  {
   "cell_type": "code",
   "execution_count": 7,
   "metadata": {
    "pycharm": {
     "name": "#%%\n"
    }
   },
   "outputs": [
    {
     "name": "stdout",
     "output_type": "stream",
     "text": [
      "Config(codec=<Codec.LZ4: 1>, clevel=9, favor=<Favor.BALANCE: 0>, filters=[<Filter.SHUFFLE: 1>], fp_mantissa_bits=0, use_dict=False, nthreads=32, eval_method=<Eval.AUTO: 1>, seed=1, random_gen=<RandomGen.MERSENNE_TWISTER: 0>, btune=True, dtype=<class 'numpy.float64'>, split_mode=<SplitMode.AUTO_SPLIT: 3>, chunks=None, blocks=None, urlpath=None, mode='w-', contiguous=None)\n"
     ]
    }
   ],
   "source": [
    "cfg = ia.Config()\n",
    "print(cfg)"
   ]
  },
  {
   "cell_type": "markdown",
   "metadata": {
    "pycharm": {
     "name": "#%% md\n"
    }
   },
   "source": [
    "We can also set multiple properties in a single `Config` instance. For example, this `Config` object has properties for the shape of the chunks and the blocks:\n",
    "\n",
    "```\n",
    "ia.Config(chunks=(3000, 1000), blocks=(100, 100))\n",
    "```\n",
    "\n",
    "The following example shows how to create a `Config` object and set its properties, then add it to a larger ironArray array object:"
   ]
  },
  {
   "cell_type": "code",
   "execution_count": 8,
   "metadata": {
    "pycharm": {
     "name": "#%%\n"
    }
   },
   "outputs": [],
   "source": [
    "cfg = ia.Config(chunks=(3000, 1000), blocks=(100, 100), urlpath=\"large_arr.iarr\", mode=\"w\", fp_mantissa_bits=30)\n",
    "arr = ia.linspace((10000, 7000), -1, 1, dtype=np.float64, cfg=cfg)"
   ]
  },
  {
   "cell_type": "code",
   "execution_count": 9,
   "metadata": {
    "pycharm": {
     "name": "#%%\n"
    }
   },
   "outputs": [
    {
     "name": "stdout",
     "output_type": "stream",
     "text": [
      "-rw-rw-r-- 1 faltet2 faltet2 134M dic 22 09:08 large_arr.iarr\n"
     ]
    }
   ],
   "source": [
    "%%bash\n",
    "ls -lh large_arr.iarr"
   ]
  },
  {
   "cell_type": "markdown",
   "metadata": {
    "pycharm": {
     "name": "#%% md\n"
    }
   },
   "source": [
    "We have just created an array containing more than 500 MB of data.  Thanks to integrated compression, the size of the serialized array on disk is lesss than 150 MB.\n",
    "\n",
    "In addition, and in contrast to other chunked and compressed data container libraries that support just a single level of data partitioning (such as HDF5 and Zarr), IronArray allows for two levels: chunks and blocks.  As we'll see later, two levels offer more flexibility and options for tuning performance on modern CPU architectures.\n",
    "\n",
    "You may set many other properties when creating an ironArray array. Here we set some compression properties:"
   ]
  },
  {
   "cell_type": "code",
   "execution_count": 10,
   "metadata": {
    "pycharm": {
     "name": "#%%\n"
    }
   },
   "outputs": [],
   "source": [
    "cfg = ia.Config(chunks=(3000, 1000), blocks=(100, 100), urlpath=\"large_arr2.iarr\", mode=\"w\")\n",
    "arr = ia.linspace((10000, 7000), -1, 1, dtype=np.float64, cfg=cfg, btune=False, clevel=5, codec=ia.Codec.ZSTD, fp_mantissa_bits=30)"
   ]
  },
  {
   "cell_type": "markdown",
   "metadata": {},
   "source": [
    "Note that when we set `codec`, `filters` or `clevel` we have to disable `btune`, otherwise this will overwrite the latter values. However, if we want to set `favor`, `btune` will have to be enabled (the default) in order to actually favor some resource."
   ]
  },
  {
   "cell_type": "code",
   "execution_count": 11,
   "metadata": {
    "pycharm": {
     "name": "#%%\n"
    }
   },
   "outputs": [
    {
     "name": "stdout",
     "output_type": "stream",
     "text": [
      "-rw-rw-r-- 1 faltet2 faltet2 29M dic 22 09:08 large_arr2.iarr\n"
     ]
    }
   ],
   "source": [
    "%%bash\n",
    "ls -lh large_arr2.iarr"
   ]
  },
  {
   "cell_type": "markdown",
   "metadata": {},
   "source": [
    "As you can see, we created an array that holds 500 MB of data, as before.  But now the serialized data only takes less than 30 MB of disk space.  We changed the compression codec and mantissa bits properties to shrink the storage size:\n",
    "\n",
    "1) `codec=ia.Codec.ZSTD`:  ZSTD offers better compression.\n",
    "\n",
    "2) `fp_mantissa_bits=30`:  The IEEE Standard for Floating-Point Arithmetic (IEEE 754), sets the number of significand bits to 30 for float32 and 53 for float64 (including the hidden bit). By setting just 30 bits in the mantissa (or significand) instead of the usual 53 bits for float64 we are setting the other 23 bits to zero, which improves the compression ratio. You can set the `fp_mantissa_bits` to any precision between 1 and 24 bit (float32) or 53 bit (float64); the compression engine will compress the data to fit the specified precision."
   ]
  },
  {
   "cell_type": "markdown",
   "metadata": {},
   "source": [
    "You can see the complete set of supported properties and their defaults by examining an instance of `ia.Config`:"
   ]
  },
  {
   "cell_type": "code",
   "execution_count": 12,
   "metadata": {
    "pycharm": {
     "name": "#%%\n"
    }
   },
   "outputs": [
    {
     "name": "stdout",
     "output_type": "stream",
     "text": [
      "Config(codec=<Codec.LZ4: 1>, clevel=9, favor=<Favor.BALANCE: 0>, filters=[<Filter.SHUFFLE: 1>], fp_mantissa_bits=0, use_dict=False, nthreads=32, eval_method=<Eval.AUTO: 1>, seed=1, random_gen=<RandomGen.MERSENNE_TWISTER: 0>, btune=True, dtype=<class 'numpy.float64'>, split_mode=<SplitMode.AUTO_SPLIT: 3>, chunks=None, blocks=None, urlpath=None, mode='w-', contiguous=None)\n"
     ]
    }
   ],
   "source": [
    "cfg = ia.Config()\n",
    "print(cfg)"
   ]
  },
  {
   "cell_type": "markdown",
   "metadata": {
    "pycharm": {
     "name": "#%% md\n"
    }
   },
   "source": [
    "## Conclusion\n",
    "\n",
    "You can create arbitrarily large arrays either in memory or on disk, and you can tailor arrays to your own needs using ironArray configuration properties.  There is a dedicated tutorial about [Configuring ironArray](02.Configuring_ironArray.html) that is important to read in order to comfortably deal with the rich set of properties in ironArray."
   ]
  },
  {
   "cell_type": "code",
   "execution_count": null,
   "metadata": {},
   "outputs": [],
   "source": []
  }
 ],
 "metadata": {
  "kernelspec": {
   "display_name": "Python 3 (ipykernel)",
   "language": "python",
   "name": "python3"
  },
  "language_info": {
   "codemirror_mode": {
    "name": "ipython",
    "version": 3
   },
   "file_extension": ".py",
   "mimetype": "text/x-python",
   "name": "python",
   "nbconvert_exporter": "python",
   "pygments_lexer": "ipython3",
   "version": "3.9.5"
  }
 },
 "nbformat": 4,
 "nbformat_minor": 1
}
