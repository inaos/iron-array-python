{
 "cells": [
  {
   "cell_type": "markdown",
   "metadata": {},
   "source": [
    "# Reductions\n",
    "\n",
    "ironArray supports a broad range of reduction facilities, like `sum`, `min`, `max`, `mean` and others.  Also, they work on any (or group of) dimensions.  One interesting aspect of these is that the implementation leverages the multi-threading capabilities of ironArray, so they can be pretty fast (although some times they need some help from the user).\n",
    "\n",
    "In order to exercise some of this functionality, let's download some open data from the network.  In this case, we are interested in downloading precipitation data from a period of 3 months.  With a decent connection, this should not take more than a minute to download.  Let's go:"
   ]
  },
  {
   "cell_type": "code",
   "execution_count": 1,
   "metadata": {
    "collapsed": true
   },
   "outputs": [],
   "source": [
    "import xarray as xr\n",
    "import numpy as np\n",
    "import s3fs\n",
    "import iarray as ia"
   ]
  },
  {
   "cell_type": "code",
   "execution_count": 2,
   "metadata": {
    "pycharm": {
     "name": "#%%\n"
    }
   },
   "outputs": [],
   "source": [
    "def open_zarr(year, month, datestart, dateend):\n",
    "    fs = s3fs.S3FileSystem(anon=True)\n",
    "\n",
    "    datestring = 'era5-pds/zarr/{year}/{month:02d}/data/'.format(year=year, month=month)\n",
    "\n",
    "    precip_zarr = xr.open_zarr(s3fs.S3Map(datestring + 'precipitation_amount_1hour_Accumulation.zarr/', s3=fs))\n",
    "    precip_zarr = precip_zarr.sel(time1=slice(np.datetime64(datestart), np.datetime64(dateend)))\n",
    "\n",
    "    return precip_zarr.precipitation_amount_1hour_Accumulation"
   ]
  },
  {
   "cell_type": "code",
   "execution_count": 3,
   "metadata": {
    "pycharm": {
     "name": "#%%\n"
    }
   },
   "outputs": [
    {
     "name": "stdout",
     "output_type": "stream",
     "text": [
      "CPU times: user 937 ms, sys: 72.3 ms, total: 1.01 s\n",
      "Wall time: 37.3 s\n"
     ]
    }
   ],
   "source": [
    "%%time\n",
    "\n",
    "precip_m1 = open_zarr(1987, 10, '1987-10-01', '1987-10-30 23:59')\n",
    "precip_m2 = open_zarr(1987, 11, '1987-11-01', '1987-11-30 23:59')\n",
    "precip_m3 = open_zarr(1987, 12, '1987-12-01', '1987-12-30 23:59')"
   ]
  },
  {
   "cell_type": "markdown",
   "metadata": {},
   "source": [
    "Let's see how one of these arrays of monthly precipitation looks like:"
   ]
  },
  {
   "cell_type": "code",
   "execution_count": 4,
   "metadata": {
    "pycharm": {
     "name": "#%%\n"
    }
   },
   "outputs": [
    {
     "data": {
      "text/plain": "<xarray.DataArray 'precipitation_amount_1hour_Accumulation' (time1: 720, lat: 721, lon: 1440)>\ndask.array<getitem, shape=(720, 721, 1440), dtype=float32, chunksize=(372, 150, 150), chunktype=numpy.ndarray>\nCoordinates:\n  * lat      (lat) float32 90.0 89.75 89.5 89.25 ... -89.25 -89.5 -89.75 -90.0\n  * lon      (lon) float32 0.0 0.25 0.5 0.75 1.0 ... 359.0 359.2 359.5 359.8\n  * time1    (time1) datetime64[ns] 1987-10-01 ... 1987-10-30T23:00:00\nAttributes:\n    long_name:       Total precipitation\n    nameCDM:         Total_precipitation_1hour_Accumulation\n    nameECMWF:       Total precipitation\n    product_type:    forecast\n    shortNameECMWF:  tp\n    standard_name:   precipitation_amount\n    units:           m",
      "text/html": "<div><svg style=\"position: absolute; width: 0; height: 0; overflow: hidden\">\n<defs>\n<symbol id=\"icon-database\" viewBox=\"0 0 32 32\">\n<path d=\"M16 0c-8.837 0-16 2.239-16 5v4c0 2.761 7.163 5 16 5s16-2.239 16-5v-4c0-2.761-7.163-5-16-5z\"></path>\n<path d=\"M16 17c-8.837 0-16-2.239-16-5v6c0 2.761 7.163 5 16 5s16-2.239 16-5v-6c0 2.761-7.163 5-16 5z\"></path>\n<path d=\"M16 26c-8.837 0-16-2.239-16-5v6c0 2.761 7.163 5 16 5s16-2.239 16-5v-6c0 2.761-7.163 5-16 5z\"></path>\n</symbol>\n<symbol id=\"icon-file-text2\" viewBox=\"0 0 32 32\">\n<path d=\"M28.681 7.159c-0.694-0.947-1.662-2.053-2.724-3.116s-2.169-2.030-3.116-2.724c-1.612-1.182-2.393-1.319-2.841-1.319h-15.5c-1.378 0-2.5 1.121-2.5 2.5v27c0 1.378 1.122 2.5 2.5 2.5h23c1.378 0 2.5-1.122 2.5-2.5v-19.5c0-0.448-0.137-1.23-1.319-2.841zM24.543 5.457c0.959 0.959 1.712 1.825 2.268 2.543h-4.811v-4.811c0.718 0.556 1.584 1.309 2.543 2.268zM28 29.5c0 0.271-0.229 0.5-0.5 0.5h-23c-0.271 0-0.5-0.229-0.5-0.5v-27c0-0.271 0.229-0.5 0.5-0.5 0 0 15.499-0 15.5 0v7c0 0.552 0.448 1 1 1h7v19.5z\"></path>\n<path d=\"M23 26h-14c-0.552 0-1-0.448-1-1s0.448-1 1-1h14c0.552 0 1 0.448 1 1s-0.448 1-1 1z\"></path>\n<path d=\"M23 22h-14c-0.552 0-1-0.448-1-1s0.448-1 1-1h14c0.552 0 1 0.448 1 1s-0.448 1-1 1z\"></path>\n<path d=\"M23 18h-14c-0.552 0-1-0.448-1-1s0.448-1 1-1h14c0.552 0 1 0.448 1 1s-0.448 1-1 1z\"></path>\n</symbol>\n</defs>\n</svg>\n<style>/* CSS stylesheet for displaying xarray objects in jupyterlab.\n *\n */\n\n:root {\n  --xr-font-color0: var(--jp-content-font-color0, rgba(0, 0, 0, 1));\n  --xr-font-color2: var(--jp-content-font-color2, rgba(0, 0, 0, 0.54));\n  --xr-font-color3: var(--jp-content-font-color3, rgba(0, 0, 0, 0.38));\n  --xr-border-color: var(--jp-border-color2, #e0e0e0);\n  --xr-disabled-color: var(--jp-layout-color3, #bdbdbd);\n  --xr-background-color: var(--jp-layout-color0, white);\n  --xr-background-color-row-even: var(--jp-layout-color1, white);\n  --xr-background-color-row-odd: var(--jp-layout-color2, #eeeeee);\n}\n\nhtml[theme=dark],\nbody.vscode-dark {\n  --xr-font-color0: rgba(255, 255, 255, 1);\n  --xr-font-color2: rgba(255, 255, 255, 0.54);\n  --xr-font-color3: rgba(255, 255, 255, 0.38);\n  --xr-border-color: #1F1F1F;\n  --xr-disabled-color: #515151;\n  --xr-background-color: #111111;\n  --xr-background-color-row-even: #111111;\n  --xr-background-color-row-odd: #313131;\n}\n\n.xr-wrap {\n  display: block;\n  min-width: 300px;\n  max-width: 700px;\n}\n\n.xr-text-repr-fallback {\n  /* fallback to plain text repr when CSS is not injected (untrusted notebook) */\n  display: none;\n}\n\n.xr-header {\n  padding-top: 6px;\n  padding-bottom: 6px;\n  margin-bottom: 4px;\n  border-bottom: solid 1px var(--xr-border-color);\n}\n\n.xr-header > div,\n.xr-header > ul {\n  display: inline;\n  margin-top: 0;\n  margin-bottom: 0;\n}\n\n.xr-obj-type,\n.xr-array-name {\n  margin-left: 2px;\n  margin-right: 10px;\n}\n\n.xr-obj-type {\n  color: var(--xr-font-color2);\n}\n\n.xr-sections {\n  padding-left: 0 !important;\n  display: grid;\n  grid-template-columns: 150px auto auto 1fr 20px 20px;\n}\n\n.xr-section-item {\n  display: contents;\n}\n\n.xr-section-item input {\n  display: none;\n}\n\n.xr-section-item input + label {\n  color: var(--xr-disabled-color);\n}\n\n.xr-section-item input:enabled + label {\n  cursor: pointer;\n  color: var(--xr-font-color2);\n}\n\n.xr-section-item input:enabled + label:hover {\n  color: var(--xr-font-color0);\n}\n\n.xr-section-summary {\n  grid-column: 1;\n  color: var(--xr-font-color2);\n  font-weight: 500;\n}\n\n.xr-section-summary > span {\n  display: inline-block;\n  padding-left: 0.5em;\n}\n\n.xr-section-summary-in:disabled + label {\n  color: var(--xr-font-color2);\n}\n\n.xr-section-summary-in + label:before {\n  display: inline-block;\n  content: '►';\n  font-size: 11px;\n  width: 15px;\n  text-align: center;\n}\n\n.xr-section-summary-in:disabled + label:before {\n  color: var(--xr-disabled-color);\n}\n\n.xr-section-summary-in:checked + label:before {\n  content: '▼';\n}\n\n.xr-section-summary-in:checked + label > span {\n  display: none;\n}\n\n.xr-section-summary,\n.xr-section-inline-details {\n  padding-top: 4px;\n  padding-bottom: 4px;\n}\n\n.xr-section-inline-details {\n  grid-column: 2 / -1;\n}\n\n.xr-section-details {\n  display: none;\n  grid-column: 1 / -1;\n  margin-bottom: 5px;\n}\n\n.xr-section-summary-in:checked ~ .xr-section-details {\n  display: contents;\n}\n\n.xr-array-wrap {\n  grid-column: 1 / -1;\n  display: grid;\n  grid-template-columns: 20px auto;\n}\n\n.xr-array-wrap > label {\n  grid-column: 1;\n  vertical-align: top;\n}\n\n.xr-preview {\n  color: var(--xr-font-color3);\n}\n\n.xr-array-preview,\n.xr-array-data {\n  padding: 0 5px !important;\n  grid-column: 2;\n}\n\n.xr-array-data,\n.xr-array-in:checked ~ .xr-array-preview {\n  display: none;\n}\n\n.xr-array-in:checked ~ .xr-array-data,\n.xr-array-preview {\n  display: inline-block;\n}\n\n.xr-dim-list {\n  display: inline-block !important;\n  list-style: none;\n  padding: 0 !important;\n  margin: 0;\n}\n\n.xr-dim-list li {\n  display: inline-block;\n  padding: 0;\n  margin: 0;\n}\n\n.xr-dim-list:before {\n  content: '(';\n}\n\n.xr-dim-list:after {\n  content: ')';\n}\n\n.xr-dim-list li:not(:last-child):after {\n  content: ',';\n  padding-right: 5px;\n}\n\n.xr-has-index {\n  font-weight: bold;\n}\n\n.xr-var-list,\n.xr-var-item {\n  display: contents;\n}\n\n.xr-var-item > div,\n.xr-var-item label,\n.xr-var-item > .xr-var-name span {\n  background-color: var(--xr-background-color-row-even);\n  margin-bottom: 0;\n}\n\n.xr-var-item > .xr-var-name:hover span {\n  padding-right: 5px;\n}\n\n.xr-var-list > li:nth-child(odd) > div,\n.xr-var-list > li:nth-child(odd) > label,\n.xr-var-list > li:nth-child(odd) > .xr-var-name span {\n  background-color: var(--xr-background-color-row-odd);\n}\n\n.xr-var-name {\n  grid-column: 1;\n}\n\n.xr-var-dims {\n  grid-column: 2;\n}\n\n.xr-var-dtype {\n  grid-column: 3;\n  text-align: right;\n  color: var(--xr-font-color2);\n}\n\n.xr-var-preview {\n  grid-column: 4;\n}\n\n.xr-var-name,\n.xr-var-dims,\n.xr-var-dtype,\n.xr-preview,\n.xr-attrs dt {\n  white-space: nowrap;\n  overflow: hidden;\n  text-overflow: ellipsis;\n  padding-right: 10px;\n}\n\n.xr-var-name:hover,\n.xr-var-dims:hover,\n.xr-var-dtype:hover,\n.xr-attrs dt:hover {\n  overflow: visible;\n  width: auto;\n  z-index: 1;\n}\n\n.xr-var-attrs,\n.xr-var-data {\n  display: none;\n  background-color: var(--xr-background-color) !important;\n  padding-bottom: 5px !important;\n}\n\n.xr-var-attrs-in:checked ~ .xr-var-attrs,\n.xr-var-data-in:checked ~ .xr-var-data {\n  display: block;\n}\n\n.xr-var-data > table {\n  float: right;\n}\n\n.xr-var-name span,\n.xr-var-data,\n.xr-attrs {\n  padding-left: 25px !important;\n}\n\n.xr-attrs,\n.xr-var-attrs,\n.xr-var-data {\n  grid-column: 1 / -1;\n}\n\ndl.xr-attrs {\n  padding: 0;\n  margin: 0;\n  display: grid;\n  grid-template-columns: 125px auto;\n}\n\n.xr-attrs dt,\n.xr-attrs dd {\n  padding: 0;\n  margin: 0;\n  float: left;\n  padding-right: 10px;\n  width: auto;\n}\n\n.xr-attrs dt {\n  font-weight: normal;\n  grid-column: 1;\n}\n\n.xr-attrs dt:hover span {\n  display: inline-block;\n  background: var(--xr-background-color);\n  padding-right: 10px;\n}\n\n.xr-attrs dd {\n  grid-column: 2;\n  white-space: pre-wrap;\n  word-break: break-all;\n}\n\n.xr-icon-database,\n.xr-icon-file-text2 {\n  display: inline-block;\n  vertical-align: middle;\n  width: 1em;\n  height: 1.5em !important;\n  stroke-width: 0;\n  stroke: currentColor;\n  fill: currentColor;\n}\n</style><pre class='xr-text-repr-fallback'>&lt;xarray.DataArray &#x27;precipitation_amount_1hour_Accumulation&#x27; (time1: 720, lat: 721, lon: 1440)&gt;\ndask.array&lt;getitem, shape=(720, 721, 1440), dtype=float32, chunksize=(372, 150, 150), chunktype=numpy.ndarray&gt;\nCoordinates:\n  * lat      (lat) float32 90.0 89.75 89.5 89.25 ... -89.25 -89.5 -89.75 -90.0\n  * lon      (lon) float32 0.0 0.25 0.5 0.75 1.0 ... 359.0 359.2 359.5 359.8\n  * time1    (time1) datetime64[ns] 1987-10-01 ... 1987-10-30T23:00:00\nAttributes:\n    long_name:       Total precipitation\n    nameCDM:         Total_precipitation_1hour_Accumulation\n    nameECMWF:       Total precipitation\n    product_type:    forecast\n    shortNameECMWF:  tp\n    standard_name:   precipitation_amount\n    units:           m</pre><div class='xr-wrap' hidden><div class='xr-header'><div class='xr-obj-type'>xarray.DataArray</div><div class='xr-array-name'>'precipitation_amount_1hour_Accumulation'</div><ul class='xr-dim-list'><li><span class='xr-has-index'>time1</span>: 720</li><li><span class='xr-has-index'>lat</span>: 721</li><li><span class='xr-has-index'>lon</span>: 1440</li></ul></div><ul class='xr-sections'><li class='xr-section-item'><div class='xr-array-wrap'><input id='section-807e0658-7aae-4f54-bacd-439539fc7cb7' class='xr-array-in' type='checkbox' checked><label for='section-807e0658-7aae-4f54-bacd-439539fc7cb7' title='Show/hide data repr'><svg class='icon xr-icon-database'><use xlink:href='#icon-database'></use></svg></label><div class='xr-array-preview xr-preview'><span>dask.array&lt;chunksize=(372, 150, 150), meta=np.ndarray&gt;</span></div><div class='xr-array-data'><table>\n<tr>\n<td>\n<table>\n  <thead>\n    <tr><td> </td><th> Array </th><th> Chunk </th></tr>\n  </thead>\n  <tbody>\n    <tr><th> Bytes </th><td> 2.99 GB </td> <td> 33.48 MB </td></tr>\n    <tr><th> Shape </th><td> (720, 721, 1440) </td> <td> (372, 150, 150) </td></tr>\n    <tr><th> Count </th><td> 201 Tasks </td><td> 100 Chunks </td></tr>\n    <tr><th> Type </th><td> float32 </td><td> numpy.ndarray </td></tr>\n  </tbody>\n</table>\n</td>\n<td>\n<svg width=\"215\" height=\"145\" style=\"stroke:rgb(0,0,0);stroke-width:1\" >\n\n  <!-- Horizontal lines -->\n  <line x1=\"10\" y1=\"0\" x2=\"45\" y2=\"35\" style=\"stroke-width:2\" />\n  <line x1=\"10\" y1=\"12\" x2=\"45\" y2=\"47\" />\n  <line x1=\"10\" y1=\"25\" x2=\"45\" y2=\"60\" />\n  <line x1=\"10\" y1=\"37\" x2=\"45\" y2=\"72\" />\n  <line x1=\"10\" y1=\"50\" x2=\"45\" y2=\"85\" />\n  <line x1=\"10\" y1=\"60\" x2=\"45\" y2=\"95\" style=\"stroke-width:2\" />\n\n  <!-- Vertical lines -->\n  <line x1=\"10\" y1=\"0\" x2=\"10\" y2=\"60\" style=\"stroke-width:2\" />\n  <line x1=\"28\" y1=\"18\" x2=\"28\" y2=\"78\" />\n  <line x1=\"45\" y1=\"35\" x2=\"45\" y2=\"95\" style=\"stroke-width:2\" />\n\n  <!-- Colored Rectangle -->\n  <polygon points=\"10.000000,0.000000 45.294118,35.294118 45.294118,95.377451 10.000000,60.083333\" style=\"fill:#ECB172A0;stroke-width:0\"/>\n\n  <!-- Horizontal lines -->\n  <line x1=\"10\" y1=\"0\" x2=\"130\" y2=\"0\" style=\"stroke-width:2\" />\n  <line x1=\"28\" y1=\"18\" x2=\"148\" y2=\"18\" />\n  <line x1=\"45\" y1=\"35\" x2=\"165\" y2=\"35\" style=\"stroke-width:2\" />\n\n  <!-- Vertical lines -->\n  <line x1=\"10\" y1=\"0\" x2=\"45\" y2=\"35\" style=\"stroke-width:2\" />\n  <line x1=\"22\" y1=\"0\" x2=\"57\" y2=\"35\" />\n  <line x1=\"35\" y1=\"0\" x2=\"70\" y2=\"35\" />\n  <line x1=\"47\" y1=\"0\" x2=\"82\" y2=\"35\" />\n  <line x1=\"60\" y1=\"0\" x2=\"95\" y2=\"35\" />\n  <line x1=\"72\" y1=\"0\" x2=\"107\" y2=\"35\" />\n  <line x1=\"85\" y1=\"0\" x2=\"120\" y2=\"35\" />\n  <line x1=\"97\" y1=\"0\" x2=\"132\" y2=\"35\" />\n  <line x1=\"110\" y1=\"0\" x2=\"145\" y2=\"35\" />\n  <line x1=\"122\" y1=\"0\" x2=\"157\" y2=\"35\" />\n  <line x1=\"130\" y1=\"0\" x2=\"165\" y2=\"35\" style=\"stroke-width:2\" />\n\n  <!-- Colored Rectangle -->\n  <polygon points=\"10.000000,0.000000 130.000000,0.000000 165.294118,35.294118 45.294118,35.294118\" style=\"fill:#ECB172A0;stroke-width:0\"/>\n\n  <!-- Horizontal lines -->\n  <line x1=\"45\" y1=\"35\" x2=\"165\" y2=\"35\" style=\"stroke-width:2\" />\n  <line x1=\"45\" y1=\"47\" x2=\"165\" y2=\"47\" />\n  <line x1=\"45\" y1=\"60\" x2=\"165\" y2=\"60\" />\n  <line x1=\"45\" y1=\"72\" x2=\"165\" y2=\"72\" />\n  <line x1=\"45\" y1=\"85\" x2=\"165\" y2=\"85\" />\n  <line x1=\"45\" y1=\"95\" x2=\"165\" y2=\"95\" style=\"stroke-width:2\" />\n\n  <!-- Vertical lines -->\n  <line x1=\"45\" y1=\"35\" x2=\"45\" y2=\"95\" style=\"stroke-width:2\" />\n  <line x1=\"57\" y1=\"35\" x2=\"57\" y2=\"95\" />\n  <line x1=\"70\" y1=\"35\" x2=\"70\" y2=\"95\" />\n  <line x1=\"82\" y1=\"35\" x2=\"82\" y2=\"95\" />\n  <line x1=\"95\" y1=\"35\" x2=\"95\" y2=\"95\" />\n  <line x1=\"107\" y1=\"35\" x2=\"107\" y2=\"95\" />\n  <line x1=\"120\" y1=\"35\" x2=\"120\" y2=\"95\" />\n  <line x1=\"132\" y1=\"35\" x2=\"132\" y2=\"95\" />\n  <line x1=\"145\" y1=\"35\" x2=\"145\" y2=\"95\" />\n  <line x1=\"157\" y1=\"35\" x2=\"157\" y2=\"95\" />\n  <line x1=\"165\" y1=\"35\" x2=\"165\" y2=\"95\" style=\"stroke-width:2\" />\n\n  <!-- Colored Rectangle -->\n  <polygon points=\"45.294118,35.294118 165.294118,35.294118 165.294118,95.377451 45.294118,95.377451\" style=\"fill:#ECB172A0;stroke-width:0\"/>\n\n  <!-- Text -->\n  <text x=\"105.294118\" y=\"115.377451\" font-size=\"1.0rem\" font-weight=\"100\" text-anchor=\"middle\" >1440</text>\n  <text x=\"185.294118\" y=\"65.335784\" font-size=\"1.0rem\" font-weight=\"100\" text-anchor=\"middle\" transform=\"rotate(-90,185.294118,65.335784)\">721</text>\n  <text x=\"17.647059\" y=\"97.730392\" font-size=\"1.0rem\" font-weight=\"100\" text-anchor=\"middle\" transform=\"rotate(45,17.647059,97.730392)\">720</text>\n</svg>\n</td>\n</tr>\n</table></div></div></li><li class='xr-section-item'><input id='section-e25ebc70-abe7-4317-9ba2-f93d594e4d05' class='xr-section-summary-in' type='checkbox'  checked><label for='section-e25ebc70-abe7-4317-9ba2-f93d594e4d05' class='xr-section-summary' >Coordinates: <span>(3)</span></label><div class='xr-section-inline-details'></div><div class='xr-section-details'><ul class='xr-var-list'><li class='xr-var-item'><div class='xr-var-name'><span class='xr-has-index'>lat</span></div><div class='xr-var-dims'>(lat)</div><div class='xr-var-dtype'>float32</div><div class='xr-var-preview xr-preview'>90.0 89.75 89.5 ... -89.75 -90.0</div><input id='attrs-ff92e2ca-e8d7-433f-8251-318cd94bb2c1' class='xr-var-attrs-in' type='checkbox' ><label for='attrs-ff92e2ca-e8d7-433f-8251-318cd94bb2c1' title='Show/Hide attributes'><svg class='icon xr-icon-file-text2'><use xlink:href='#icon-file-text2'></use></svg></label><input id='data-5610d912-a458-4ce4-ae99-a2466cc2f533' class='xr-var-data-in' type='checkbox'><label for='data-5610d912-a458-4ce4-ae99-a2466cc2f533' title='Show/Hide data repr'><svg class='icon xr-icon-database'><use xlink:href='#icon-database'></use></svg></label><div class='xr-var-attrs'><dl class='xr-attrs'><dt><span>long_name :</span></dt><dd>latitude</dd><dt><span>standard_name :</span></dt><dd>latitude</dd><dt><span>units :</span></dt><dd>degrees_north</dd></dl></div><div class='xr-var-data'><pre>array([ 90.  ,  89.75,  89.5 , ..., -89.5 , -89.75, -90.  ], dtype=float32)</pre></div></li><li class='xr-var-item'><div class='xr-var-name'><span class='xr-has-index'>lon</span></div><div class='xr-var-dims'>(lon)</div><div class='xr-var-dtype'>float32</div><div class='xr-var-preview xr-preview'>0.0 0.25 0.5 ... 359.2 359.5 359.8</div><input id='attrs-0b558fa1-3b96-4e5b-ab16-072b0dff77ab' class='xr-var-attrs-in' type='checkbox' ><label for='attrs-0b558fa1-3b96-4e5b-ab16-072b0dff77ab' title='Show/Hide attributes'><svg class='icon xr-icon-file-text2'><use xlink:href='#icon-file-text2'></use></svg></label><input id='data-dab05d74-2646-4c3f-b4b0-82af731bd5db' class='xr-var-data-in' type='checkbox'><label for='data-dab05d74-2646-4c3f-b4b0-82af731bd5db' title='Show/Hide data repr'><svg class='icon xr-icon-database'><use xlink:href='#icon-database'></use></svg></label><div class='xr-var-attrs'><dl class='xr-attrs'><dt><span>long_name :</span></dt><dd>longitude</dd><dt><span>standard_name :</span></dt><dd>longitude</dd><dt><span>units :</span></dt><dd>degrees_east</dd></dl></div><div class='xr-var-data'><pre>array([0.0000e+00, 2.5000e-01, 5.0000e-01, ..., 3.5925e+02, 3.5950e+02,\n       3.5975e+02], dtype=float32)</pre></div></li><li class='xr-var-item'><div class='xr-var-name'><span class='xr-has-index'>time1</span></div><div class='xr-var-dims'>(time1)</div><div class='xr-var-dtype'>datetime64[ns]</div><div class='xr-var-preview xr-preview'>1987-10-01 ... 1987-10-30T23:00:00</div><input id='attrs-b4eb738d-6ad6-4176-b03f-9729e1788926' class='xr-var-attrs-in' type='checkbox' ><label for='attrs-b4eb738d-6ad6-4176-b03f-9729e1788926' title='Show/Hide attributes'><svg class='icon xr-icon-file-text2'><use xlink:href='#icon-file-text2'></use></svg></label><input id='data-b459ecd6-bc6d-49a4-bfbf-3eea78fe3096' class='xr-var-data-in' type='checkbox'><label for='data-b459ecd6-bc6d-49a4-bfbf-3eea78fe3096' title='Show/Hide data repr'><svg class='icon xr-icon-database'><use xlink:href='#icon-database'></use></svg></label><div class='xr-var-attrs'><dl class='xr-attrs'><dt><span>bounds :</span></dt><dd>time1_bounds</dd><dt><span>standard_name :</span></dt><dd>time</dd></dl></div><div class='xr-var-data'><pre>array([&#x27;1987-10-01T00:00:00.000000000&#x27;, &#x27;1987-10-01T01:00:00.000000000&#x27;,\n       &#x27;1987-10-01T02:00:00.000000000&#x27;, ..., &#x27;1987-10-30T21:00:00.000000000&#x27;,\n       &#x27;1987-10-30T22:00:00.000000000&#x27;, &#x27;1987-10-30T23:00:00.000000000&#x27;],\n      dtype=&#x27;datetime64[ns]&#x27;)</pre></div></li></ul></div></li><li class='xr-section-item'><input id='section-b0e8cd43-1799-403f-8a23-ed6e39d545bc' class='xr-section-summary-in' type='checkbox'  checked><label for='section-b0e8cd43-1799-403f-8a23-ed6e39d545bc' class='xr-section-summary' >Attributes: <span>(7)</span></label><div class='xr-section-inline-details'></div><div class='xr-section-details'><dl class='xr-attrs'><dt><span>long_name :</span></dt><dd>Total precipitation</dd><dt><span>nameCDM :</span></dt><dd>Total_precipitation_1hour_Accumulation</dd><dt><span>nameECMWF :</span></dt><dd>Total precipitation</dd><dt><span>product_type :</span></dt><dd>forecast</dd><dt><span>shortNameECMWF :</span></dt><dd>tp</dd><dt><span>standard_name :</span></dt><dd>precipitation_amount</dd><dt><span>units :</span></dt><dd>m</dd></dl></div></li></ul></div></div>"
     },
     "execution_count": 4,
     "metadata": {},
     "output_type": "execute_result"
    }
   ],
   "source": [
    "precip_m1"
   ]
  },
  {
   "cell_type": "markdown",
   "metadata": {},
   "source": [
    "Ok, so that's about 3 GB per month, so the full dataset is about 9 GB.  Now, let's build a NumPy array out of this (be careful if you plan to run this in your local machine, as you will need at least 12 GB of free memory):"
   ]
  },
  {
   "cell_type": "code",
   "execution_count": 5,
   "metadata": {
    "pycharm": {
     "name": "#%%\n"
    }
   },
   "outputs": [
    {
     "name": "stdout",
     "output_type": "stream",
     "text": [
      "CPU times: user 19.2 s, sys: 8.84 s, total: 28 s\n",
      "Wall time: 41.9 s\n"
     ]
    },
    {
     "data": {
      "text/plain": "(3, 720, 721, 1440)"
     },
     "execution_count": 5,
     "metadata": {},
     "output_type": "execute_result"
    }
   ],
   "source": [
    "%%time\n",
    "\n",
    "precip = np.stack((precip_m1.values, precip_m2.values, precip_m3.values))\n",
    "precip.shape"
   ]
  },
  {
   "cell_type": "markdown",
   "metadata": {
    "pycharm": {
     "name": "#%% md\n"
    }
   },
   "source": [
    "Now, let's suppose that we want to compute the mean for the precipitation per hour during our period of time.  As the time axis is 1 in our new `precip` array, we want to reduce on all axis, except the first.  That is:"
   ]
  },
  {
   "cell_type": "code",
   "execution_count": 6,
   "metadata": {
    "pycharm": {
     "name": "#%%\n"
    }
   },
   "outputs": [
    {
     "name": "stdout",
     "output_type": "stream",
     "text": [
      "CPU times: user 1.42 s, sys: 1.44 s, total: 2.85 s\n",
      "Wall time: 2.86 s\n"
     ]
    }
   ],
   "source": [
    "%%time\n",
    "\n",
    "reduc0 = np.mean(precip, axis=(0, 2, 3))"
   ]
  },
  {
   "cell_type": "markdown",
   "metadata": {
    "pycharm": {
     "name": "#%% md\n"
    }
   },
   "source": [
    "Ok.  Now, let's import this data into ironArray before proceeding with reductions:"
   ]
  },
  {
   "cell_type": "code",
   "execution_count": 7,
   "metadata": {
    "pycharm": {
     "name": "#%%\n"
    }
   },
   "outputs": [
    {
     "name": "stdout",
     "output_type": "stream",
     "text": [
      "<IArray (3, 720, 721, 1440) np.float32>\n",
      "9.711491423121984\n",
      "CPU times: user 14.5 s, sys: 1.99 s, total: 16.5 s\n",
      "Wall time: 9.19 s\n"
     ]
    }
   ],
   "source": [
    "%%time\n",
    "\n",
    "ia_precip = ia.numpy2iarray(precip)\n",
    "print(ia_precip)\n",
    "print(ia_precip.cratio)"
   ]
  },
  {
   "cell_type": "markdown",
   "metadata": {
    "pycharm": {
     "name": "#%% md\n"
    }
   },
   "source": [
    "Ok, so ironArray achieves a compression ratio of almost 10x, which is a big win in terms of memory consumption.  Now, let's have a look at how reduction works:"
   ]
  },
  {
   "cell_type": "code",
   "execution_count": 8,
   "metadata": {
    "pycharm": {
     "name": "#%%\n"
    }
   },
   "outputs": [
    {
     "name": "stdout",
     "output_type": "stream",
     "text": [
      "CPU times: user 6min 22s, sys: 3.41 s, total: 6min 26s\n",
      "Wall time: 38.1 s\n"
     ]
    }
   ],
   "source": [
    "%%time\n",
    "reduc1 = ia.mean(ia_precip, axis=(0, 2, 3))"
   ]
  },
  {
   "cell_type": "markdown",
   "metadata": {
    "pycharm": {
     "name": "#%% md\n"
    }
   },
   "source": [
    "Ok, so that's pretty slow.  Now, it is time to remember that ironArray uses chunked storage, even when it holds data in-memory.  In this case, we have been traversing the array in a very innefficient way.  In general, in chunked storage, it is always better to start reducing by the dimension that is the largest, and we took the inverse order.  With this in mind, let's try with a more reasonable order:"
   ]
  },
  {
   "cell_type": "code",
   "execution_count": 9,
   "metadata": {
    "pycharm": {
     "name": "#%%\n"
    }
   },
   "outputs": [
    {
     "name": "stdout",
     "output_type": "stream",
     "text": [
      "CPU times: user 9.24 s, sys: 516 ms, total: 9.76 s\n",
      "Wall time: 1.26 s\n"
     ]
    }
   ],
   "source": [
    "%%time\n",
    "reduc1 = ia.mean(ia_precip, axis=(3, 2, 0)).data"
   ]
  },
  {
   "cell_type": "markdown",
   "metadata": {
    "pycharm": {
     "name": "#%% md\n"
    }
   },
   "source": [
    "Ok, that's much better.  This time is pretty competitive.  Now, let's compare actual data with NumPy (just in case):"
   ]
  },
  {
   "cell_type": "code",
   "execution_count": 10,
   "metadata": {
    "pycharm": {
     "name": "#%%\n"
    }
   },
   "outputs": [],
   "source": [
    "np.testing.assert_almost_equal(reduc0, reduc1)"
   ]
  },
  {
   "cell_type": "markdown",
   "metadata": {
    "pycharm": {
     "name": "#%% md\n"
    }
   },
   "source": [
    "Ok, so the mean calculation has worked correctly.\n",
    "\n",
    "If you need to compute this sort of reductions lots of times, you may want to fine tune your ironArray array parameters.  If so, just keep reading.  But before proceeding further, let's save our data for later reload it:"
   ]
  },
  {
   "cell_type": "code",
   "execution_count": 11,
   "metadata": {
    "pycharm": {
     "name": "#%%\n"
    }
   },
   "outputs": [
    {
     "name": "stdout",
     "output_type": "stream",
     "text": [
      "-rw-r--r--  1 faltet  staff   1.0G Dec 10 13:29 precip-3m.iarr\r\n",
      "CPU times: user 71.8 ms, sys: 1.16 s, total: 1.23 s\n",
      "Wall time: 1.8 s\n"
     ]
    }
   ],
   "source": [
    "%%time\n",
    "\n",
    "ia.save(ia_precip, \"precip-3m.iarr\")\n",
    "%ls -lh precip-3m.iarr"
   ]
  },
  {
   "cell_type": "markdown",
   "metadata": {
    "pycharm": {
     "name": "#%% md\n"
    }
   },
   "source": [
    "The dataset is stored now on a single file of 1 GB, which is almost 10x less that the original dataset thanks to compression, and ready to be used later on."
   ]
  },
  {
   "cell_type": "markdown",
   "metadata": {
    "pycharm": {
     "name": "#%% md\n"
    }
   },
   "source": [
    "## Optimization Tips\n",
    "\n",
    "As we know, most of ironArray optimization stems from their two levels of partitioning.  Previously, we have been using automatic values for chunkshape and blockshape (based on CPU's cache sizes).  But for maximum speed, there is no replacement for fine tuning chunk and block shapes manually.\n",
    "\n",
    "Let's start by loading the array that we previously stored on-disk:"
   ]
  },
  {
   "cell_type": "code",
   "execution_count": 12,
   "metadata": {
    "pycharm": {
     "name": "#%%\n"
    }
   },
   "outputs": [
    {
     "name": "stdout",
     "output_type": "stream",
     "text": [
      "CPU times: user 4.88 ms, sys: 115 ms, total: 120 ms\n",
      "Wall time: 118 ms\n"
     ]
    }
   ],
   "source": [
    "%%time\n",
    "import iarray as ia\n",
    "ia_precip = ia.load(\"precip-3m.iarr\")"
   ]
  },
  {
   "cell_type": "markdown",
   "metadata": {
    "pycharm": {
     "name": "#%% md\n"
    }
   },
   "source": [
    "So, not too much for loading a 9 GB large array from disk, uh?  Well, the thing is that `load()` just loads data when it needs it by default (but see its `load_in_mem` argument).  So, only a tiny portion of the file (the metadata) is read in order to figure out how access the data.\n",
    "\n",
    "Now, let's see the current chunk and block shapes:"
   ]
  },
  {
   "cell_type": "code",
   "execution_count": 13,
   "metadata": {
    "pycharm": {
     "name": "#%%\n"
    }
   },
   "outputs": [
    {
     "name": "stdout",
     "output_type": "stream",
     "text": [
      "(1, 64, 64, 128)\n",
      "(1, 16, 16, 64)\n"
     ]
    }
   ],
   "source": [
    "print(ia_precip.chunkshape)\n",
    "print(ia_precip.blockshape)"
   ]
  },
  {
   "cell_type": "markdown",
   "metadata": {
    "pycharm": {
     "name": "#%% md\n"
    }
   },
   "source": [
    "Now, let's start with a first attempt to find out the chunk and block shapes that can optimize the reductions.  Initially one may think that making the last dimension (the largest) as large as possible could be good decision.  Let's try that by creating another container:"
   ]
  },
  {
   "cell_type": "code",
   "execution_count": 14,
   "metadata": {
    "pycharm": {
     "name": "#%%\n"
    }
   },
   "outputs": [
    {
     "name": "stdout",
     "output_type": "stream",
     "text": [
      "CPU times: user 19.6 s, sys: 4.85 s, total: 24.4 s\n",
      "Wall time: 12.8 s\n"
     ]
    }
   ],
   "source": [
    "%%time\n",
    "with ia.config(chunkshape=(1, 64, 64, 1440), blockshape=(1, 16, 16, 360)) as cfg:\n",
    "    new_precip = ia_precip.copy(cfg=cfg)"
   ]
  },
  {
   "cell_type": "markdown",
   "metadata": {
    "pycharm": {
     "name": "#%% md\n"
    }
   },
   "source": [
    "Ok, let's try the reduction with the new array:"
   ]
  },
  {
   "cell_type": "code",
   "execution_count": 15,
   "metadata": {
    "pycharm": {
     "name": "#%%\n"
    }
   },
   "outputs": [
    {
     "name": "stdout",
     "output_type": "stream",
     "text": [
      "CPU times: user 6.52 s, sys: 702 ms, total: 7.23 s\n",
      "Wall time: 966 ms\n"
     ]
    }
   ],
   "source": [
    "%%time\n",
    "reduc1 = ia.mean(new_precip, axis=(3, 2, 0)).data"
   ]
  },
  {
   "cell_type": "markdown",
   "metadata": {
    "pycharm": {
     "name": "#%% md\n"
    }
   },
   "source": [
    "Well, we have got some improvement, which is not bad for a first attempt.  After several iterations, one can arrive a sort of optimal configuration:"
   ]
  },
  {
   "cell_type": "code",
   "execution_count": 16,
   "metadata": {
    "pycharm": {
     "name": "#%%\n"
    }
   },
   "outputs": [
    {
     "name": "stdout",
     "output_type": "stream",
     "text": [
      "CPU times: user 16.7 s, sys: 3.46 s, total: 20.1 s\n",
      "Wall time: 13 s\n"
     ]
    }
   ],
   "source": [
    "%%time\n",
    "with ia.config(chunkshape=(1, 360, 128, 1440), blockshape=(1, 8, 8, 720)) as cfg:\n",
    "    new_precip = ia_precip.copy(cfg=cfg)\n"
   ]
  },
  {
   "cell_type": "code",
   "execution_count": 17,
   "metadata": {
    "pycharm": {
     "name": "#%%\n"
    }
   },
   "outputs": [
    {
     "name": "stdout",
     "output_type": "stream",
     "text": [
      "CPU times: user 6.69 s, sys: 565 ms, total: 7.25 s\n",
      "Wall time: 679 ms\n"
     ]
    }
   ],
   "source": [
    "%%time\n",
    "reduc1 = ia.mean(new_precip, axis=(3, 2, 0)).data"
   ]
  },
  {
   "cell_type": "markdown",
   "metadata": {
    "pycharm": {
     "name": "#%% md\n"
    }
   },
   "source": [
    "So, this new time is competitive with NumPy (a bit better, in fact).  That means that, when you have to deal with large arrays you should not assume that working with NumPy arrays is the fast thing you can get.  With the right tools, and a bit of manual tuning, you can end with very fast solutions for this scenario too."
   ]
  },
  {
   "cell_type": "markdown",
   "metadata": {
    "pycharm": {
     "name": "#%% md\n"
    }
   },
   "source": [
    "But we have tested just in-memory ironArrays.  What's up with on-disk arrays?  Let's create one and use it for reductions:"
   ]
  },
  {
   "cell_type": "code",
   "execution_count": 18,
   "metadata": {
    "pycharm": {
     "name": "#%%\n"
    }
   },
   "outputs": [
    {
     "name": "stdout",
     "output_type": "stream",
     "text": [
      "CPU times: user 62.2 ms, sys: 1.05 s, total: 1.11 s\n",
      "Wall time: 1.44 s\n"
     ]
    }
   ],
   "source": [
    "%%time\n",
    "ia.save(new_precip, \"precip-3m-optimal.iarr\")"
   ]
  },
  {
   "cell_type": "markdown",
   "metadata": {
    "pycharm": {
     "name": "#%% md\n"
    }
   },
   "source": [
    "and let's re-open again but in 'lazy' mode and do the reduction from disk:"
   ]
  },
  {
   "cell_type": "code",
   "execution_count": 19,
   "metadata": {
    "pycharm": {
     "name": "#%%\n"
    }
   },
   "outputs": [
    {
     "data": {
      "text/plain": "<IArray (3, 720, 721, 1440) np.float32>"
     },
     "execution_count": 19,
     "metadata": {},
     "output_type": "execute_result"
    }
   ],
   "source": [
    "new_precip_opt = ia.load(\"precip-3m-optimal.iarr\")\n",
    "new_precip_opt"
   ]
  },
  {
   "cell_type": "code",
   "execution_count": 20,
   "metadata": {
    "pycharm": {
     "name": "#%%\n"
    }
   },
   "outputs": [
    {
     "name": "stdout",
     "output_type": "stream",
     "text": [
      "CPU times: user 9.71 s, sys: 33 s, total: 42.7 s\n",
      "Wall time: 3.95 s\n"
     ]
    }
   ],
   "source": [
    "%%time\n",
    "reduc1 = ia.mean(new_precip_opt, axis=(3, 2, 0)).data"
   ]
  },
  {
   "cell_type": "markdown",
   "source": [
    "So, although this on-disk time is considerable slower than the in-memory one, it is still not bad.  This is interesting because that means that doing out-of-core operations on modern SSDs (our case here) will consume far less memory, while still keeping reasonable times.\n",
    "\n",
    "TODO: add a comparison with xarray or dask, for out-of-core reductions"
   ],
   "metadata": {
    "collapsed": false,
    "pycharm": {
     "name": "#%% md\n"
    }
   }
  }
 ],
 "metadata": {
  "kernelspec": {
   "display_name": "Python 3",
   "language": "python",
   "name": "python3"
  },
  "language_info": {
   "codemirror_mode": {
    "name": "ipython",
    "version": 3
   },
   "file_extension": ".py",
   "mimetype": "text/x-python",
   "name": "python",
   "nbconvert_exporter": "python",
   "pygments_lexer": "ipython3",
   "version": "3.8.5"
  }
 },
 "nbformat": 4,
 "nbformat_minor": 1
}