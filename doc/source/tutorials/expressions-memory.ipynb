{
 "cells": [
  {
   "cell_type": "markdown",
   "metadata": {},
   "source": [
    "# Expression Evaluation (In-Memory)\n",
    "\n",
    "ironArray has a strong support for expression evaluation.  Things like sums, products, divisions or a pretty complete range of transcendental functions (e.g. `exp`, `sin`, `asin`, `tanh`...).  Fast evaluation of (large) arrays is one of the features that received more love during the development.  Performance comes from a balance between:\n",
    "\n",
    "1. Use of [Intel MKL](https://software.intel.com/content/www/us/en/develop/tools/oneapi/components/onemkl.html) for accelerating transcendental functions.\n",
    "\n",
    "2. Use of [Intel SVML](https://software.intel.com/content/www/us/en/develop/documentation/cpp-compiler-developer-guide-and-reference/top/compiler-reference/intrinsics/intrinsics-for-short-vector-math-library-operations/overview-intrinsics-for-short-vector-math-library-svml-functions.html) for computing vector math functions.\n",
    "\n",
    "3. Use of multi-threading capabilities.\n",
    "\n",
    "4. Leveraging the 2-level partitioning in ironArray arrays so that most of the computation intensive happens inside private caches (L1, L2), which benefits multi-threading performance.\n",
    "\n",
    "You can access to the powerful evaluation capabilities in ironArray in different ways, which we are going to succinctly expose in this tutorial.  In order to do that, we are going to make use of the dataset that we created in our reductions tutorial.  Let's go:"
   ]
  },
  {
   "cell_type": "code",
   "execution_count": 1,
   "metadata": {
    "pycharm": {
     "name": "#%%\n"
    }
   },
   "outputs": [],
   "source": [
    "%load_ext memprofiler\n",
    "%matplotlib inline\n",
    "import matplotlib.pyplot as plt\n",
    "import numpy as np\n",
    "import iarray as ia"
   ]
  },
  {
   "cell_type": "markdown",
   "metadata": {
    "pycharm": {
     "name": "#%% md\n"
    }
   },
   "source": [
    "Now, in order to evaluate some expressions on this, let's put the data for each month on a different array:"
   ]
  },
  {
   "cell_type": "code",
   "execution_count": 2,
   "metadata": {
    "pycharm": {
     "name": "#%%\n"
    }
   },
   "outputs": [
    {
     "name": "stdout",
     "output_type": "stream",
     "text": [
      "Memory profiler: Used 457.7070 MiB (peak of 393.4414 MiB) in 0.2348 s\n"
     ]
    }
   ],
   "source": [
    "%%mprof_run -i 0.1 load\n",
    "precip1 = ia.load(\"precip1.iarr\")\n",
    "precip2 = ia.load(\"precip2.iarr\")\n",
    "precip3 = ia.load(\"precip3.iarr\")"
   ]
  },
  {
   "cell_type": "markdown",
   "metadata": {
    "pycharm": {
     "name": "#%% md\n"
    }
   },
   "source": [
    "Here we can see how the memory is being used during the load process:"
   ]
  },
  {
   "cell_type": "code",
   "execution_count": 20,
   "metadata": {
    "pycharm": {
     "name": "#%%\n"
    }
   },
   "outputs": [
    {
     "data": {
      "application/vnd.plotly.v1+json": {
       "config": {
        "plotlyServerURL": "https://plot.ly"
       },
       "data": [
        {
         "mode": "lines",
         "name": "load",
         "type": "scatter",
         "x": [
          0.00034546852111816406,
          0.10081195831298828,
          0.20122051239013672
         ],
         "y": [
          0,
          193.84765625,
          393.44140625
         ]
        }
       ],
       "layout": {
        "template": {
         "data": {
          "bar": [
           {
            "error_x": {
             "color": "#2a3f5f"
            },
            "error_y": {
             "color": "#2a3f5f"
            },
            "marker": {
             "line": {
              "color": "#E5ECF6",
              "width": 0.5
             }
            },
            "type": "bar"
           }
          ],
          "barpolar": [
           {
            "marker": {
             "line": {
              "color": "#E5ECF6",
              "width": 0.5
             }
            },
            "type": "barpolar"
           }
          ],
          "carpet": [
           {
            "aaxis": {
             "endlinecolor": "#2a3f5f",
             "gridcolor": "white",
             "linecolor": "white",
             "minorgridcolor": "white",
             "startlinecolor": "#2a3f5f"
            },
            "baxis": {
             "endlinecolor": "#2a3f5f",
             "gridcolor": "white",
             "linecolor": "white",
             "minorgridcolor": "white",
             "startlinecolor": "#2a3f5f"
            },
            "type": "carpet"
           }
          ],
          "choropleth": [
           {
            "colorbar": {
             "outlinewidth": 0,
             "ticks": ""
            },
            "type": "choropleth"
           }
          ],
          "contour": [
           {
            "colorbar": {
             "outlinewidth": 0,
             "ticks": ""
            },
            "colorscale": [
             [
              0,
              "#0d0887"
             ],
             [
              0.1111111111111111,
              "#46039f"
             ],
             [
              0.2222222222222222,
              "#7201a8"
             ],
             [
              0.3333333333333333,
              "#9c179e"
             ],
             [
              0.4444444444444444,
              "#bd3786"
             ],
             [
              0.5555555555555556,
              "#d8576b"
             ],
             [
              0.6666666666666666,
              "#ed7953"
             ],
             [
              0.7777777777777778,
              "#fb9f3a"
             ],
             [
              0.8888888888888888,
              "#fdca26"
             ],
             [
              1,
              "#f0f921"
             ]
            ],
            "type": "contour"
           }
          ],
          "contourcarpet": [
           {
            "colorbar": {
             "outlinewidth": 0,
             "ticks": ""
            },
            "type": "contourcarpet"
           }
          ],
          "heatmap": [
           {
            "colorbar": {
             "outlinewidth": 0,
             "ticks": ""
            },
            "colorscale": [
             [
              0,
              "#0d0887"
             ],
             [
              0.1111111111111111,
              "#46039f"
             ],
             [
              0.2222222222222222,
              "#7201a8"
             ],
             [
              0.3333333333333333,
              "#9c179e"
             ],
             [
              0.4444444444444444,
              "#bd3786"
             ],
             [
              0.5555555555555556,
              "#d8576b"
             ],
             [
              0.6666666666666666,
              "#ed7953"
             ],
             [
              0.7777777777777778,
              "#fb9f3a"
             ],
             [
              0.8888888888888888,
              "#fdca26"
             ],
             [
              1,
              "#f0f921"
             ]
            ],
            "type": "heatmap"
           }
          ],
          "heatmapgl": [
           {
            "colorbar": {
             "outlinewidth": 0,
             "ticks": ""
            },
            "colorscale": [
             [
              0,
              "#0d0887"
             ],
             [
              0.1111111111111111,
              "#46039f"
             ],
             [
              0.2222222222222222,
              "#7201a8"
             ],
             [
              0.3333333333333333,
              "#9c179e"
             ],
             [
              0.4444444444444444,
              "#bd3786"
             ],
             [
              0.5555555555555556,
              "#d8576b"
             ],
             [
              0.6666666666666666,
              "#ed7953"
             ],
             [
              0.7777777777777778,
              "#fb9f3a"
             ],
             [
              0.8888888888888888,
              "#fdca26"
             ],
             [
              1,
              "#f0f921"
             ]
            ],
            "type": "heatmapgl"
           }
          ],
          "histogram": [
           {
            "marker": {
             "colorbar": {
              "outlinewidth": 0,
              "ticks": ""
             }
            },
            "type": "histogram"
           }
          ],
          "histogram2d": [
           {
            "colorbar": {
             "outlinewidth": 0,
             "ticks": ""
            },
            "colorscale": [
             [
              0,
              "#0d0887"
             ],
             [
              0.1111111111111111,
              "#46039f"
             ],
             [
              0.2222222222222222,
              "#7201a8"
             ],
             [
              0.3333333333333333,
              "#9c179e"
             ],
             [
              0.4444444444444444,
              "#bd3786"
             ],
             [
              0.5555555555555556,
              "#d8576b"
             ],
             [
              0.6666666666666666,
              "#ed7953"
             ],
             [
              0.7777777777777778,
              "#fb9f3a"
             ],
             [
              0.8888888888888888,
              "#fdca26"
             ],
             [
              1,
              "#f0f921"
             ]
            ],
            "type": "histogram2d"
           }
          ],
          "histogram2dcontour": [
           {
            "colorbar": {
             "outlinewidth": 0,
             "ticks": ""
            },
            "colorscale": [
             [
              0,
              "#0d0887"
             ],
             [
              0.1111111111111111,
              "#46039f"
             ],
             [
              0.2222222222222222,
              "#7201a8"
             ],
             [
              0.3333333333333333,
              "#9c179e"
             ],
             [
              0.4444444444444444,
              "#bd3786"
             ],
             [
              0.5555555555555556,
              "#d8576b"
             ],
             [
              0.6666666666666666,
              "#ed7953"
             ],
             [
              0.7777777777777778,
              "#fb9f3a"
             ],
             [
              0.8888888888888888,
              "#fdca26"
             ],
             [
              1,
              "#f0f921"
             ]
            ],
            "type": "histogram2dcontour"
           }
          ],
          "mesh3d": [
           {
            "colorbar": {
             "outlinewidth": 0,
             "ticks": ""
            },
            "type": "mesh3d"
           }
          ],
          "parcoords": [
           {
            "line": {
             "colorbar": {
              "outlinewidth": 0,
              "ticks": ""
             }
            },
            "type": "parcoords"
           }
          ],
          "pie": [
           {
            "automargin": true,
            "type": "pie"
           }
          ],
          "scatter": [
           {
            "marker": {
             "colorbar": {
              "outlinewidth": 0,
              "ticks": ""
             }
            },
            "type": "scatter"
           }
          ],
          "scatter3d": [
           {
            "line": {
             "colorbar": {
              "outlinewidth": 0,
              "ticks": ""
             }
            },
            "marker": {
             "colorbar": {
              "outlinewidth": 0,
              "ticks": ""
             }
            },
            "type": "scatter3d"
           }
          ],
          "scattercarpet": [
           {
            "marker": {
             "colorbar": {
              "outlinewidth": 0,
              "ticks": ""
             }
            },
            "type": "scattercarpet"
           }
          ],
          "scattergeo": [
           {
            "marker": {
             "colorbar": {
              "outlinewidth": 0,
              "ticks": ""
             }
            },
            "type": "scattergeo"
           }
          ],
          "scattergl": [
           {
            "marker": {
             "colorbar": {
              "outlinewidth": 0,
              "ticks": ""
             }
            },
            "type": "scattergl"
           }
          ],
          "scattermapbox": [
           {
            "marker": {
             "colorbar": {
              "outlinewidth": 0,
              "ticks": ""
             }
            },
            "type": "scattermapbox"
           }
          ],
          "scatterpolar": [
           {
            "marker": {
             "colorbar": {
              "outlinewidth": 0,
              "ticks": ""
             }
            },
            "type": "scatterpolar"
           }
          ],
          "scatterpolargl": [
           {
            "marker": {
             "colorbar": {
              "outlinewidth": 0,
              "ticks": ""
             }
            },
            "type": "scatterpolargl"
           }
          ],
          "scatterternary": [
           {
            "marker": {
             "colorbar": {
              "outlinewidth": 0,
              "ticks": ""
             }
            },
            "type": "scatterternary"
           }
          ],
          "surface": [
           {
            "colorbar": {
             "outlinewidth": 0,
             "ticks": ""
            },
            "colorscale": [
             [
              0,
              "#0d0887"
             ],
             [
              0.1111111111111111,
              "#46039f"
             ],
             [
              0.2222222222222222,
              "#7201a8"
             ],
             [
              0.3333333333333333,
              "#9c179e"
             ],
             [
              0.4444444444444444,
              "#bd3786"
             ],
             [
              0.5555555555555556,
              "#d8576b"
             ],
             [
              0.6666666666666666,
              "#ed7953"
             ],
             [
              0.7777777777777778,
              "#fb9f3a"
             ],
             [
              0.8888888888888888,
              "#fdca26"
             ],
             [
              1,
              "#f0f921"
             ]
            ],
            "type": "surface"
           }
          ],
          "table": [
           {
            "cells": {
             "fill": {
              "color": "#EBF0F8"
             },
             "line": {
              "color": "white"
             }
            },
            "header": {
             "fill": {
              "color": "#C8D4E3"
             },
             "line": {
              "color": "white"
             }
            },
            "type": "table"
           }
          ]
         },
         "layout": {
          "annotationdefaults": {
           "arrowcolor": "#2a3f5f",
           "arrowhead": 0,
           "arrowwidth": 1
          },
          "autotypenumbers": "strict",
          "coloraxis": {
           "colorbar": {
            "outlinewidth": 0,
            "ticks": ""
           }
          },
          "colorscale": {
           "diverging": [
            [
             0,
             "#8e0152"
            ],
            [
             0.1,
             "#c51b7d"
            ],
            [
             0.2,
             "#de77ae"
            ],
            [
             0.3,
             "#f1b6da"
            ],
            [
             0.4,
             "#fde0ef"
            ],
            [
             0.5,
             "#f7f7f7"
            ],
            [
             0.6,
             "#e6f5d0"
            ],
            [
             0.7,
             "#b8e186"
            ],
            [
             0.8,
             "#7fbc41"
            ],
            [
             0.9,
             "#4d9221"
            ],
            [
             1,
             "#276419"
            ]
           ],
           "sequential": [
            [
             0,
             "#0d0887"
            ],
            [
             0.1111111111111111,
             "#46039f"
            ],
            [
             0.2222222222222222,
             "#7201a8"
            ],
            [
             0.3333333333333333,
             "#9c179e"
            ],
            [
             0.4444444444444444,
             "#bd3786"
            ],
            [
             0.5555555555555556,
             "#d8576b"
            ],
            [
             0.6666666666666666,
             "#ed7953"
            ],
            [
             0.7777777777777778,
             "#fb9f3a"
            ],
            [
             0.8888888888888888,
             "#fdca26"
            ],
            [
             1,
             "#f0f921"
            ]
           ],
           "sequentialminus": [
            [
             0,
             "#0d0887"
            ],
            [
             0.1111111111111111,
             "#46039f"
            ],
            [
             0.2222222222222222,
             "#7201a8"
            ],
            [
             0.3333333333333333,
             "#9c179e"
            ],
            [
             0.4444444444444444,
             "#bd3786"
            ],
            [
             0.5555555555555556,
             "#d8576b"
            ],
            [
             0.6666666666666666,
             "#ed7953"
            ],
            [
             0.7777777777777778,
             "#fb9f3a"
            ],
            [
             0.8888888888888888,
             "#fdca26"
            ],
            [
             1,
             "#f0f921"
            ]
           ]
          },
          "colorway": [
           "#636efa",
           "#EF553B",
           "#00cc96",
           "#ab63fa",
           "#FFA15A",
           "#19d3f3",
           "#FF6692",
           "#B6E880",
           "#FF97FF",
           "#FECB52"
          ],
          "font": {
           "color": "#2a3f5f"
          },
          "geo": {
           "bgcolor": "white",
           "lakecolor": "white",
           "landcolor": "#E5ECF6",
           "showlakes": true,
           "showland": true,
           "subunitcolor": "white"
          },
          "hoverlabel": {
           "align": "left"
          },
          "hovermode": "closest",
          "mapbox": {
           "style": "light"
          },
          "paper_bgcolor": "white",
          "plot_bgcolor": "#E5ECF6",
          "polar": {
           "angularaxis": {
            "gridcolor": "white",
            "linecolor": "white",
            "ticks": ""
           },
           "bgcolor": "#E5ECF6",
           "radialaxis": {
            "gridcolor": "white",
            "linecolor": "white",
            "ticks": ""
           }
          },
          "scene": {
           "xaxis": {
            "backgroundcolor": "#E5ECF6",
            "gridcolor": "white",
            "gridwidth": 2,
            "linecolor": "white",
            "showbackground": true,
            "ticks": "",
            "zerolinecolor": "white"
           },
           "yaxis": {
            "backgroundcolor": "#E5ECF6",
            "gridcolor": "white",
            "gridwidth": 2,
            "linecolor": "white",
            "showbackground": true,
            "ticks": "",
            "zerolinecolor": "white"
           },
           "zaxis": {
            "backgroundcolor": "#E5ECF6",
            "gridcolor": "white",
            "gridwidth": 2,
            "linecolor": "white",
            "showbackground": true,
            "ticks": "",
            "zerolinecolor": "white"
           }
          },
          "shapedefaults": {
           "line": {
            "color": "#2a3f5f"
           }
          },
          "ternary": {
           "aaxis": {
            "gridcolor": "white",
            "linecolor": "white",
            "ticks": ""
           },
           "baxis": {
            "gridcolor": "white",
            "linecolor": "white",
            "ticks": ""
           },
           "bgcolor": "#E5ECF6",
           "caxis": {
            "gridcolor": "white",
            "linecolor": "white",
            "ticks": ""
           }
          },
          "title": {
           "x": 0.05
          },
          "xaxis": {
           "automargin": true,
           "gridcolor": "white",
           "linecolor": "white",
           "ticks": "",
           "title": {
            "standoff": 15
           },
           "zerolinecolor": "white",
           "zerolinewidth": 2
          },
          "yaxis": {
           "automargin": true,
           "gridcolor": "white",
           "linecolor": "white",
           "ticks": "",
           "title": {
            "standoff": 15
           },
           "zerolinecolor": "white",
           "zerolinewidth": 2
          }
         }
        },
        "title": {
         "text": "Memory usage for loading ironArray data",
         "x": 0.5,
         "xanchor": "center",
         "y": 0.9,
         "yanchor": "top"
        },
        "xaxis": {
         "title": {
          "text": "Time (in seconds)"
         }
        },
        "yaxis": {
         "title": {
          "text": "Memory used (in MiB)"
         }
        }
       }
      },
      "text/html": [
       "<div>                            <div id=\"46d0bf26-6574-4762-9758-c24651fd2ec8\" class=\"plotly-graph-div\" style=\"height:525px; width:100%;\"></div>            <script type=\"text/javascript\">                require([\"plotly\"], function(Plotly) {                    window.PLOTLYENV=window.PLOTLYENV || {};                                    if (document.getElementById(\"46d0bf26-6574-4762-9758-c24651fd2ec8\")) {                    Plotly.newPlot(                        \"46d0bf26-6574-4762-9758-c24651fd2ec8\",                        [{\"mode\": \"lines\", \"name\": \"load\", \"type\": \"scatter\", \"x\": [0.00034546852111816406, 0.10081195831298828, 0.20122051239013672], \"y\": [0.0, 193.84765625, 393.44140625]}],                        {\"template\": {\"data\": {\"bar\": [{\"error_x\": {\"color\": \"#2a3f5f\"}, \"error_y\": {\"color\": \"#2a3f5f\"}, \"marker\": {\"line\": {\"color\": \"#E5ECF6\", \"width\": 0.5}}, \"type\": \"bar\"}], \"barpolar\": [{\"marker\": {\"line\": {\"color\": \"#E5ECF6\", \"width\": 0.5}}, \"type\": \"barpolar\"}], \"carpet\": [{\"aaxis\": {\"endlinecolor\": \"#2a3f5f\", \"gridcolor\": \"white\", \"linecolor\": \"white\", \"minorgridcolor\": \"white\", \"startlinecolor\": \"#2a3f5f\"}, \"baxis\": {\"endlinecolor\": \"#2a3f5f\", \"gridcolor\": \"white\", \"linecolor\": \"white\", \"minorgridcolor\": \"white\", \"startlinecolor\": \"#2a3f5f\"}, \"type\": \"carpet\"}], \"choropleth\": [{\"colorbar\": {\"outlinewidth\": 0, \"ticks\": \"\"}, \"type\": \"choropleth\"}], \"contour\": [{\"colorbar\": {\"outlinewidth\": 0, \"ticks\": \"\"}, \"colorscale\": [[0.0, \"#0d0887\"], [0.1111111111111111, \"#46039f\"], [0.2222222222222222, \"#7201a8\"], [0.3333333333333333, \"#9c179e\"], [0.4444444444444444, \"#bd3786\"], [0.5555555555555556, \"#d8576b\"], [0.6666666666666666, \"#ed7953\"], [0.7777777777777778, \"#fb9f3a\"], [0.8888888888888888, \"#fdca26\"], [1.0, \"#f0f921\"]], \"type\": \"contour\"}], \"contourcarpet\": [{\"colorbar\": {\"outlinewidth\": 0, \"ticks\": \"\"}, \"type\": \"contourcarpet\"}], \"heatmap\": [{\"colorbar\": {\"outlinewidth\": 0, \"ticks\": \"\"}, \"colorscale\": [[0.0, \"#0d0887\"], [0.1111111111111111, \"#46039f\"], [0.2222222222222222, \"#7201a8\"], [0.3333333333333333, \"#9c179e\"], [0.4444444444444444, \"#bd3786\"], [0.5555555555555556, \"#d8576b\"], [0.6666666666666666, \"#ed7953\"], [0.7777777777777778, \"#fb9f3a\"], [0.8888888888888888, \"#fdca26\"], [1.0, \"#f0f921\"]], \"type\": \"heatmap\"}], \"heatmapgl\": [{\"colorbar\": {\"outlinewidth\": 0, \"ticks\": \"\"}, \"colorscale\": [[0.0, \"#0d0887\"], [0.1111111111111111, \"#46039f\"], [0.2222222222222222, \"#7201a8\"], [0.3333333333333333, \"#9c179e\"], [0.4444444444444444, \"#bd3786\"], [0.5555555555555556, \"#d8576b\"], [0.6666666666666666, \"#ed7953\"], [0.7777777777777778, \"#fb9f3a\"], [0.8888888888888888, \"#fdca26\"], [1.0, \"#f0f921\"]], \"type\": \"heatmapgl\"}], \"histogram\": [{\"marker\": {\"colorbar\": {\"outlinewidth\": 0, \"ticks\": \"\"}}, \"type\": \"histogram\"}], \"histogram2d\": [{\"colorbar\": {\"outlinewidth\": 0, \"ticks\": \"\"}, \"colorscale\": [[0.0, \"#0d0887\"], [0.1111111111111111, \"#46039f\"], [0.2222222222222222, \"#7201a8\"], [0.3333333333333333, \"#9c179e\"], [0.4444444444444444, \"#bd3786\"], [0.5555555555555556, \"#d8576b\"], [0.6666666666666666, \"#ed7953\"], [0.7777777777777778, \"#fb9f3a\"], [0.8888888888888888, \"#fdca26\"], [1.0, \"#f0f921\"]], \"type\": \"histogram2d\"}], \"histogram2dcontour\": [{\"colorbar\": {\"outlinewidth\": 0, \"ticks\": \"\"}, \"colorscale\": [[0.0, \"#0d0887\"], [0.1111111111111111, \"#46039f\"], [0.2222222222222222, \"#7201a8\"], [0.3333333333333333, \"#9c179e\"], [0.4444444444444444, \"#bd3786\"], [0.5555555555555556, \"#d8576b\"], [0.6666666666666666, \"#ed7953\"], [0.7777777777777778, \"#fb9f3a\"], [0.8888888888888888, \"#fdca26\"], [1.0, \"#f0f921\"]], \"type\": \"histogram2dcontour\"}], \"mesh3d\": [{\"colorbar\": {\"outlinewidth\": 0, \"ticks\": \"\"}, \"type\": \"mesh3d\"}], \"parcoords\": [{\"line\": {\"colorbar\": {\"outlinewidth\": 0, \"ticks\": \"\"}}, \"type\": \"parcoords\"}], \"pie\": [{\"automargin\": true, \"type\": \"pie\"}], \"scatter\": [{\"marker\": {\"colorbar\": {\"outlinewidth\": 0, \"ticks\": \"\"}}, \"type\": \"scatter\"}], \"scatter3d\": [{\"line\": {\"colorbar\": {\"outlinewidth\": 0, \"ticks\": \"\"}}, \"marker\": {\"colorbar\": {\"outlinewidth\": 0, \"ticks\": \"\"}}, \"type\": \"scatter3d\"}], \"scattercarpet\": [{\"marker\": {\"colorbar\": {\"outlinewidth\": 0, \"ticks\": \"\"}}, \"type\": \"scattercarpet\"}], \"scattergeo\": [{\"marker\": {\"colorbar\": {\"outlinewidth\": 0, \"ticks\": \"\"}}, \"type\": \"scattergeo\"}], \"scattergl\": [{\"marker\": {\"colorbar\": {\"outlinewidth\": 0, \"ticks\": \"\"}}, \"type\": \"scattergl\"}], \"scattermapbox\": [{\"marker\": {\"colorbar\": {\"outlinewidth\": 0, \"ticks\": \"\"}}, \"type\": \"scattermapbox\"}], \"scatterpolar\": [{\"marker\": {\"colorbar\": {\"outlinewidth\": 0, \"ticks\": \"\"}}, \"type\": \"scatterpolar\"}], \"scatterpolargl\": [{\"marker\": {\"colorbar\": {\"outlinewidth\": 0, \"ticks\": \"\"}}, \"type\": \"scatterpolargl\"}], \"scatterternary\": [{\"marker\": {\"colorbar\": {\"outlinewidth\": 0, \"ticks\": \"\"}}, \"type\": \"scatterternary\"}], \"surface\": [{\"colorbar\": {\"outlinewidth\": 0, \"ticks\": \"\"}, \"colorscale\": [[0.0, \"#0d0887\"], [0.1111111111111111, \"#46039f\"], [0.2222222222222222, \"#7201a8\"], [0.3333333333333333, \"#9c179e\"], [0.4444444444444444, \"#bd3786\"], [0.5555555555555556, \"#d8576b\"], [0.6666666666666666, \"#ed7953\"], [0.7777777777777778, \"#fb9f3a\"], [0.8888888888888888, \"#fdca26\"], [1.0, \"#f0f921\"]], \"type\": \"surface\"}], \"table\": [{\"cells\": {\"fill\": {\"color\": \"#EBF0F8\"}, \"line\": {\"color\": \"white\"}}, \"header\": {\"fill\": {\"color\": \"#C8D4E3\"}, \"line\": {\"color\": \"white\"}}, \"type\": \"table\"}]}, \"layout\": {\"annotationdefaults\": {\"arrowcolor\": \"#2a3f5f\", \"arrowhead\": 0, \"arrowwidth\": 1}, \"autotypenumbers\": \"strict\", \"coloraxis\": {\"colorbar\": {\"outlinewidth\": 0, \"ticks\": \"\"}}, \"colorscale\": {\"diverging\": [[0, \"#8e0152\"], [0.1, \"#c51b7d\"], [0.2, \"#de77ae\"], [0.3, \"#f1b6da\"], [0.4, \"#fde0ef\"], [0.5, \"#f7f7f7\"], [0.6, \"#e6f5d0\"], [0.7, \"#b8e186\"], [0.8, \"#7fbc41\"], [0.9, \"#4d9221\"], [1, \"#276419\"]], \"sequential\": [[0.0, \"#0d0887\"], [0.1111111111111111, \"#46039f\"], [0.2222222222222222, \"#7201a8\"], [0.3333333333333333, \"#9c179e\"], [0.4444444444444444, \"#bd3786\"], [0.5555555555555556, \"#d8576b\"], [0.6666666666666666, \"#ed7953\"], [0.7777777777777778, \"#fb9f3a\"], [0.8888888888888888, \"#fdca26\"], [1.0, \"#f0f921\"]], \"sequentialminus\": [[0.0, \"#0d0887\"], [0.1111111111111111, \"#46039f\"], [0.2222222222222222, \"#7201a8\"], [0.3333333333333333, \"#9c179e\"], [0.4444444444444444, \"#bd3786\"], [0.5555555555555556, \"#d8576b\"], [0.6666666666666666, \"#ed7953\"], [0.7777777777777778, \"#fb9f3a\"], [0.8888888888888888, \"#fdca26\"], [1.0, \"#f0f921\"]]}, \"colorway\": [\"#636efa\", \"#EF553B\", \"#00cc96\", \"#ab63fa\", \"#FFA15A\", \"#19d3f3\", \"#FF6692\", \"#B6E880\", \"#FF97FF\", \"#FECB52\"], \"font\": {\"color\": \"#2a3f5f\"}, \"geo\": {\"bgcolor\": \"white\", \"lakecolor\": \"white\", \"landcolor\": \"#E5ECF6\", \"showlakes\": true, \"showland\": true, \"subunitcolor\": \"white\"}, \"hoverlabel\": {\"align\": \"left\"}, \"hovermode\": \"closest\", \"mapbox\": {\"style\": \"light\"}, \"paper_bgcolor\": \"white\", \"plot_bgcolor\": \"#E5ECF6\", \"polar\": {\"angularaxis\": {\"gridcolor\": \"white\", \"linecolor\": \"white\", \"ticks\": \"\"}, \"bgcolor\": \"#E5ECF6\", \"radialaxis\": {\"gridcolor\": \"white\", \"linecolor\": \"white\", \"ticks\": \"\"}}, \"scene\": {\"xaxis\": {\"backgroundcolor\": \"#E5ECF6\", \"gridcolor\": \"white\", \"gridwidth\": 2, \"linecolor\": \"white\", \"showbackground\": true, \"ticks\": \"\", \"zerolinecolor\": \"white\"}, \"yaxis\": {\"backgroundcolor\": \"#E5ECF6\", \"gridcolor\": \"white\", \"gridwidth\": 2, \"linecolor\": \"white\", \"showbackground\": true, \"ticks\": \"\", \"zerolinecolor\": \"white\"}, \"zaxis\": {\"backgroundcolor\": \"#E5ECF6\", \"gridcolor\": \"white\", \"gridwidth\": 2, \"linecolor\": \"white\", \"showbackground\": true, \"ticks\": \"\", \"zerolinecolor\": \"white\"}}, \"shapedefaults\": {\"line\": {\"color\": \"#2a3f5f\"}}, \"ternary\": {\"aaxis\": {\"gridcolor\": \"white\", \"linecolor\": \"white\", \"ticks\": \"\"}, \"baxis\": {\"gridcolor\": \"white\", \"linecolor\": \"white\", \"ticks\": \"\"}, \"bgcolor\": \"#E5ECF6\", \"caxis\": {\"gridcolor\": \"white\", \"linecolor\": \"white\", \"ticks\": \"\"}}, \"title\": {\"x\": 0.05}, \"xaxis\": {\"automargin\": true, \"gridcolor\": \"white\", \"linecolor\": \"white\", \"ticks\": \"\", \"title\": {\"standoff\": 15}, \"zerolinecolor\": \"white\", \"zerolinewidth\": 2}, \"yaxis\": {\"automargin\": true, \"gridcolor\": \"white\", \"linecolor\": \"white\", \"ticks\": \"\", \"title\": {\"standoff\": 15}, \"zerolinecolor\": \"white\", \"zerolinewidth\": 2}}}, \"title\": {\"text\": \"Memory usage for loading ironArray data\", \"x\": 0.5, \"xanchor\": \"center\", \"y\": 0.9, \"yanchor\": \"top\"}, \"xaxis\": {\"title\": {\"text\": \"Time (in seconds)\"}}, \"yaxis\": {\"title\": {\"text\": \"Memory used (in MiB)\"}}},                        {\"responsive\": true}                    ).then(function(){\n",
       "                            \n",
       "var gd = document.getElementById('46d0bf26-6574-4762-9758-c24651fd2ec8');\n",
       "var x = new MutationObserver(function (mutations, observer) {{\n",
       "        var display = window.getComputedStyle(gd).display;\n",
       "        if (!display || display === 'none') {{\n",
       "            console.log([gd, 'removed!']);\n",
       "            Plotly.purge(gd);\n",
       "            observer.disconnect();\n",
       "        }}\n",
       "}});\n",
       "\n",
       "// Listen for the removal of the full notebook cells\n",
       "var notebookContainer = gd.closest('#notebook-container');\n",
       "if (notebookContainer) {{\n",
       "    x.observe(notebookContainer, {childList: true});\n",
       "}}\n",
       "\n",
       "// Listen for the clearing of the current output cell\n",
       "var outputEl = gd.closest('.output');\n",
       "if (outputEl) {{\n",
       "    x.observe(outputEl, {childList: true});\n",
       "}}\n",
       "\n",
       "                        })                };                });            </script>        </div>"
      ]
     },
     "metadata": {},
     "output_type": "display_data"
    }
   ],
   "source": [
    "%mprof_plot load -t \"Memory usage for loading ironArray data\""
   ]
  },
  {
   "cell_type": "markdown",
   "metadata": {
    "pycharm": {
     "name": "#%% md\n"
    }
   },
   "source": [
    "Note how, even if the data for all the three months takes almost 9 GB uncompressed, ironArray has used just a bit more than 300 MB for holding them in RAM.  This is compression at work.\n",
    "\n",
    "With that, let's compute something easy, like a new array with the mean of these.  For that, we are going to use the internal evaluation engine:"
   ]
  },
  {
   "cell_type": "code",
   "execution_count": 4,
   "metadata": {
    "pycharm": {
     "name": "#%%\n"
    }
   },
   "outputs": [],
   "source": [
    "precip_expr = ia.expr_from_string(\"(p1 + p2 + p3) / 3\", {'p1': precip1, 'p2': precip2, 'p3': precip3})"
   ]
  },
  {
   "cell_type": "markdown",
   "metadata": {
    "pycharm": {
     "name": "#%% md\n"
    }
   },
   "source": [
    "Ok, that was fast, but we did not quite evaluate anything yet.  In order to do the actual evaluation, we have to call `.eval()` on the expression:"
   ]
  },
  {
   "cell_type": "code",
   "execution_count": 5,
   "metadata": {
    "pycharm": {
     "name": "#%%\n"
    }
   },
   "outputs": [
    {
     "data": {
      "text/plain": [
       "<IArray (720, 721, 1440) np.float32>"
      ]
     },
     "execution_count": 5,
     "metadata": {},
     "output_type": "execute_result"
    },
    {
     "name": "stdout",
     "output_type": "stream",
     "text": [
      "Memory profiler: Used 435.1133 MiB (peak of 431.3203 MiB) in 0.9304 s\n"
     ]
    }
   ],
   "source": [
    "%%mprof_run -i 0.1 ia_mean\n",
    "precip_mean = precip_expr.eval()\n",
    "precip_mean"
   ]
  },
  {
   "cell_type": "markdown",
   "metadata": {
    "pycharm": {
     "name": "#%% md\n"
    }
   },
   "source": [
    "Cool, so we have our first evaluation done.  But let's see how it performs against NumPy, and especially, whether our outcome is correct:"
   ]
  },
  {
   "cell_type": "code",
   "execution_count": 6,
   "metadata": {
    "pycharm": {
     "name": "#%%\n"
    }
   },
   "outputs": [
    {
     "name": "stdout",
     "output_type": "stream",
     "text": [
      "Memory profiler: Used 8555.9062 MiB (peak of 8587.5156 MiB) in 7.0632 s\n"
     ]
    }
   ],
   "source": [
    "%%mprof_run -i 0.1 _\n",
    "np_precip1 = precip1.data\n",
    "np_precip2 = precip2.data\n",
    "np_precip3 = precip3.data"
   ]
  },
  {
   "cell_type": "markdown",
   "metadata": {
    "pycharm": {
     "name": "#%% md\n"
    }
   },
   "source": [
    "Here we see how the data takes around 8 ~ 9 GB of RAM.  Now, let's do the actual mean:"
   ]
  },
  {
   "cell_type": "code",
   "execution_count": 7,
   "metadata": {
    "pycharm": {
     "name": "#%%\n"
    }
   },
   "outputs": [
    {
     "name": "stdout",
     "output_type": "stream",
     "text": [
      "Memory profiler: Used 2852.1484 MiB (peak of 2851.5977 MiB) in 1.5094 s\n"
     ]
    }
   ],
   "source": [
    "%%mprof_run np_mean\n",
    "np_precip_mean = (np_precip1 + np_precip2 + np_precip3) / 3"
   ]
  },
  {
   "cell_type": "markdown",
   "metadata": {
    "pycharm": {
     "name": "#%% md\n"
    }
   },
   "source": [
    "So, ironArray times are quite competitive with NumPy.  How about the correctness of the outcome?.  Let's see:"
   ]
  },
  {
   "cell_type": "code",
   "execution_count": 8,
   "metadata": {
    "pycharm": {
     "name": "#%%\n"
    }
   },
   "outputs": [
    {
     "name": "stdout",
     "output_type": "stream",
     "text": [
      "CPU times: user 10.9 s, sys: 1.57 s, total: 12.5 s\n",
      "Wall time: 9.64 s\n"
     ]
    }
   ],
   "source": [
    "%%time\n",
    "np.testing.assert_almost_equal(np_precip_mean, precip_mean.data)"
   ]
  },
  {
   "cell_type": "markdown",
   "metadata": {
    "pycharm": {
     "name": "#%% md\n"
    }
   },
   "source": [
    "Cool, results are the same. That means that ironArray can run generally faster than NumPy, even if the former uses data in compressed form by default.\n",
    "\n",
    "Now, let's use expressions with some transcendental functions.  This does not make sense for this case (precipitation data), but we are doing this just as an indication of the efficiency of ironArray:"
   ]
  },
  {
   "cell_type": "code",
   "execution_count": 9,
   "metadata": {
    "pycharm": {
     "name": "#%%\n"
    }
   },
   "outputs": [
    {
     "data": {
      "text/plain": [
       "<IArray (720, 721, 1440) np.float32>"
      ]
     },
     "execution_count": 9,
     "metadata": {},
     "output_type": "execute_result"
    },
    {
     "name": "stdout",
     "output_type": "stream",
     "text": [
      "Memory profiler: Used 614.0742 MiB (peak of 625.7383 MiB) in 1.4146 s\n"
     ]
    }
   ],
   "source": [
    "%%mprof_run ia_trans\n",
    "result = ia.expr_from_string(\"(tan(p1) * (sin(p1) * sin(p2) + cos(p2)) + sqrt(p3) * 2)\",\n",
    "                             {'p1': precip1, 'p2': precip2, 'p3': precip3}\n",
    "                             ).eval()\n",
    "result"
   ]
  },
  {
   "cell_type": "markdown",
   "metadata": {
    "pycharm": {
     "name": "#%% md\n"
    }
   },
   "source": [
    "In this case we see that the overhead of using transcendental functions is pretty low compared with plain arithmetic operations (sum, rest, mult, division...). Let's compare this against NumPy:"
   ]
  },
  {
   "cell_type": "code",
   "execution_count": 10,
   "metadata": {
    "pycharm": {
     "name": "#%%\n"
    }
   },
   "outputs": [
    {
     "name": "stdout",
     "output_type": "stream",
     "text": [
      "Memory profiler: Used 2851.7070 MiB (peak of 8554.7383 MiB) in 7.9935 s\n"
     ]
    }
   ],
   "source": [
    "%%mprof_run np_trans\n",
    "p1_ = np_precip1\n",
    "p2_ = np_precip2\n",
    "p3_ = np_precip3\n",
    "np_result = (np.tan(p1_) * (np.sin(p1_) * np.sin(p2_) + np.cos(p2_)) + np.sqrt(p3_) * 2)"
   ]
  },
  {
   "cell_type": "markdown",
   "metadata": {
    "pycharm": {
     "name": "#%% md\n"
    }
   },
   "source": [
    "Ok, this is really slow, but this is kind of expected, as ironArray comes with support for evaluating transcendental functions via MKL, while NumPy does not.\n",
    "\n",
    "But do not forget to check for correctness:"
   ]
  },
  {
   "cell_type": "code",
   "execution_count": 11,
   "metadata": {
    "pycharm": {
     "name": "#%%\n"
    }
   },
   "outputs": [
    {
     "name": "stdout",
     "output_type": "stream",
     "text": [
      "CPU times: user 11.9 s, sys: 1.56 s, total: 13.5 s\n",
      "Wall time: 9.54 s\n"
     ]
    }
   ],
   "source": [
    "%%time\n",
    "np.testing.assert_almost_equal(np_result, result.data)"
   ]
  },
  {
   "cell_type": "markdown",
   "metadata": {
    "pycharm": {
     "name": "#%% md\n"
    }
   },
   "source": [
    "So not a noticeable difference, as expected."
   ]
  },
  {
   "cell_type": "markdown",
   "metadata": {
    "pycharm": {
     "name": "#%% md\n"
    }
   },
   "source": [
    "## Lazy expressions\n",
    "\n",
    "So far we have been using strings as the way to build expressions.  However, there is a handier (and perhaps more elegant) way to build expressions via the so-called lazy expressions.  With lazy expressions you just express your computations in terms of `IArray` objects.\n",
    "\n",
    "For example, the mean of the precipitation would be expressed as:"
   ]
  },
  {
   "cell_type": "code",
   "execution_count": 12,
   "metadata": {
    "pycharm": {
     "name": "#%%\n"
    }
   },
   "outputs": [
    {
     "data": {
      "text/plain": [
       "<IArray (720, 721, 1440) np.float32>"
      ]
     },
     "execution_count": 12,
     "metadata": {},
     "output_type": "execute_result"
    },
    {
     "name": "stdout",
     "output_type": "stream",
     "text": [
      "Memory profiler: Used 426.1992 MiB (peak of 437.3750 MiB) in 0.9803 s\n"
     ]
    }
   ],
   "source": [
    "%%mprof_run _\n",
    "precip_expr = (precip1 + precip2 + precip3) / 3\n",
    "precip_mean = precip_expr.eval()\n",
    "precip_mean"
   ]
  },
  {
   "cell_type": "markdown",
   "metadata": {
    "pycharm": {
     "name": "#%% md\n"
    }
   },
   "source": [
    "Lazy expressions are similar to how you use NumPy to evaluate expressions with some differences:\n",
    "\n",
    "1. You need to be explicit when you want to `.eval()`-uate the expressions.\n",
    "\n",
    "2. There are no big temporaries involved.  The expression is compiled on the flight and large temporaries are avoided.  This means not only that we require less memory, but more importantly, that expressions evaluate faster (memory access is always expensive).\n",
    "\n",
    "For evaluating expressions with transcendental functions you need to use ironArray methods:"
   ]
  },
  {
   "cell_type": "code",
   "execution_count": 13,
   "metadata": {
    "pycharm": {
     "name": "#%%\n"
    }
   },
   "outputs": [
    {
     "data": {
      "text/plain": [
       "<IArray (720, 721, 1440) np.float32>"
      ]
     },
     "execution_count": 13,
     "metadata": {},
     "output_type": "execute_result"
    },
    {
     "name": "stdout",
     "output_type": "stream",
     "text": [
      "Memory profiler: Used 582.5625 MiB (peak of 591.8594 MiB) in 1.3950 s\n"
     ]
    }
   ],
   "source": [
    "%%mprof_run _\n",
    "lazy_expr = ia.tan(precip1) * (ia.sin(precip1) * ia.sin(precip2) + ia.cos(precip2)) + ia.sqrt(precip3) * 2\n",
    "# Yoy can also use the next idiom, which is not as close to NumPy, but a hair more concise\n",
    "#lazy_expr = precip1.tan() * (precip1.sin() * precip2.sin() + precip2.cos()) + precip3.sqrt() * 2\n",
    "lazy_result = lazy_expr.eval()\n",
    "lazy_result"
   ]
  },
  {
   "cell_type": "markdown",
   "metadata": {
    "pycharm": {
     "name": "#%% md\n"
    }
   },
   "source": [
    "Note how execution times and memory usage are very similar to the string expressions evaluator.\n",
    "\n",
    "As you can see, lazy expressions allow for a more Pythonic way to integrate ironArray operands in expressions, just like NumPy (only more memory efficient and faster).  In general, you can use the method you like the most, although evaluation of string expressions tends to be a hair faster, especially when using small arrays."
   ]
  },
  {
   "cell_type": "markdown",
   "metadata": {
    "pycharm": {
     "name": "#%% md\n"
    }
   },
   "source": [
    "As always, let's check that the result is correct:"
   ]
  },
  {
   "cell_type": "code",
   "execution_count": 14,
   "metadata": {
    "pycharm": {
     "name": "#%%\n"
    }
   },
   "outputs": [
    {
     "name": "stdout",
     "output_type": "stream",
     "text": [
      "CPU times: user 11.9 s, sys: 1.6 s, total: 13.5 s\n",
      "Wall time: 9.58 s\n"
     ]
    }
   ],
   "source": [
    "%%time\n",
    "np.testing.assert_almost_equal(np_result, lazy_result.data)"
   ]
  },
  {
   "cell_type": "markdown",
   "metadata": {
    "pycharm": {
     "name": "#%% md\n"
    }
   },
   "source": [
    "## Resource consumption\n",
    "\n",
    "(Update this when memprof would support accessing to measurements)\n",
    "As a summary, let's do a plot on the speed for the different kind of computations:"
   ]
  },
  {
   "cell_type": "code",
   "execution_count": 21,
   "metadata": {},
   "outputs": [
    {
     "data": {
      "application/vnd.plotly.v1+json": {
       "config": {
        "plotlyServerURL": "https://plot.ly"
       },
       "data": [
        {
         "mode": "lines",
         "name": "np_mean",
         "type": "scatter",
         "x": [
          0.0003695487976074219,
          0.010841608047485352,
          0.021234512329101562,
          0.031661272048950195,
          0.04204869270324707,
          0.05238199234008789,
          0.06280374526977539,
          0.07313418388366699,
          0.08348631858825684,
          0.09387803077697754,
          0.10421156883239746,
          0.11460065841674805,
          0.12490129470825195,
          0.1351943016052246,
          0.14550042152404785,
          0.1558396816253662,
          0.1661388874053955,
          0.17643499374389648,
          0.18662023544311523,
          0.1969459056854248,
          0.20713424682617188,
          0.21740150451660156,
          0.22772955894470215,
          0.2380542755126953,
          0.24835610389709473,
          0.2585875988006592,
          0.26874423027038574,
          0.27902913093566895,
          0.28925061225891113,
          0.29958057403564453,
          0.3099660873413086,
          0.32028865814208984,
          0.33069491386413574,
          0.3410327434539795,
          0.3513369560241699,
          0.3614926338195801,
          0.37190771102905273,
          0.38230419158935547,
          0.3926517963409424,
          0.40305280685424805,
          0.4134542942047119,
          0.42385220527648926,
          0.43424105644226074,
          0.4445919990539551,
          0.45498085021972656,
          0.46537017822265625,
          0.47578907012939453,
          0.48618030548095703,
          0.49651551246643066,
          0.5069127082824707,
          0.5173137187957764,
          0.5277340412139893,
          0.5381331443786621,
          0.548471212387085,
          0.558873176574707,
          0.5692598819732666,
          0.5797035694122314,
          0.5901122093200684,
          0.6004526615142822,
          0.6108677387237549,
          0.621267557144165,
          0.6316924095153809,
          0.642096757888794,
          0.6524393558502197,
          0.6628577709197998,
          0.673253059387207,
          0.6836864948272705,
          0.6940808296203613,
          0.7044212818145752,
          0.7148232460021973,
          0.7251572608947754,
          0.7355763912200928,
          0.7459802627563477,
          0.7563292980194092,
          0.7667617797851562,
          0.7770848274230957,
          0.7873396873474121,
          0.7975847721099854,
          0.807741641998291,
          0.8179585933685303,
          0.8281164169311523,
          0.8383352756500244,
          0.8484902381896973,
          0.8587090969085693,
          0.8688738346099854,
          0.8790905475616455,
          0.8893063068389893,
          0.8995254039764404,
          0.9097495079040527,
          0.9199135303497314,
          0.9301292896270752,
          0.94028639793396,
          0.9505043029785156,
          0.9606623649597168,
          0.9708833694458008,
          0.9810991287231445,
          0.9913139343261719,
          1.001537561416626,
          1.011751413345337,
          1.0219659805297852,
          1.0321283340454102,
          1.0423471927642822,
          1.0524990558624268,
          1.0627164840698242,
          1.0729329586029053,
          1.0831458568572998,
          1.0933620929718018,
          1.1036179065704346,
          1.1138346195220947,
          1.1239867210388184,
          1.1342039108276367,
          1.144360065460205,
          1.1545965671539307,
          1.1648101806640625,
          1.1749627590179443,
          1.1851806640625,
          1.1953957080841064,
          1.205634355545044,
          1.2157890796661377,
          1.2260043621063232,
          1.236159324645996,
          1.246375322341919,
          1.2565395832061768,
          1.2667512893676758,
          1.2769036293029785,
          1.2871155738830566,
          1.2973425388336182,
          1.3075792789459229,
          1.317798137664795,
          1.3280203342437744,
          1.3382375240325928,
          1.3483943939208984,
          1.358635663986206,
          1.3688077926635742,
          1.3790206909179688,
          1.389240026473999,
          1.3994550704956055,
          1.4096698760986328,
          1.419825553894043,
          1.4300408363342285,
          1.4401967525482178,
          1.4504165649414062,
          1.4605791568756104,
          1.4707915782928467,
          1.4809434413909912,
          1.4910964965820312,
          1.5012493133544922
         ],
         "y": [
          0,
          36.71875,
          74.71875,
          112.83203125,
          150.83203125,
          188.83203125,
          228.83203125,
          266.83203125,
          302.83203125,
          340.83203125,
          378.83203125,
          414.83203125,
          450.83203125,
          484.83203125,
          522.83203125,
          556.83203125,
          590.83203125,
          624.83203125,
          656.83203125,
          688.83203125,
          720.83203125,
          752.83203125,
          786.83203125,
          824.83203125,
          858.83203125,
          892.83203125,
          926.83203125,
          960.83203125,
          998.83203125,
          1038.83203125,
          1078.83203125,
          1118.83203125,
          1158.83203125,
          1196.83203125,
          1236.83203125,
          1276.83203125,
          1316.83203125,
          1356.83203125,
          1396.83203125,
          1436.83203125,
          1476.83203125,
          1516.83203125,
          1556.83203125,
          1596.83203125,
          1634.83203125,
          1674.83203125,
          1714.83203125,
          1754.83203125,
          1792.83203125,
          1832.83203125,
          1872.83203125,
          1912.83203125,
          1952.83203125,
          1992.83203125,
          2030.83203125,
          2070.83203125,
          2112.83203125,
          2152.83203125,
          2190.83203125,
          2230.83203125,
          2270.83203125,
          2312.83203125,
          2352.83203125,
          2390.83203125,
          2430.83203125,
          2470.83203125,
          2510.83203125,
          2552.83203125,
          2590.83203125,
          2630.83203125,
          2670.83203125,
          2710.83203125,
          2750.83203125,
          2790.83203125,
          2830.83203125,
          2851.59765625,
          2851.59765625,
          2851.59765625,
          2851.59765625,
          2851.59765625,
          2851.59765625,
          2851.59765625,
          2851.59765625,
          2851.59765625,
          2851.59765625,
          2851.59765625,
          2851.59765625,
          2851.59765625,
          2851.59765625,
          2851.59765625,
          2851.59765625,
          2851.59765625,
          2851.59765625,
          2851.59765625,
          2851.59765625,
          2851.59765625,
          2851.59765625,
          2851.59765625,
          2851.59765625,
          2851.59765625,
          2851.59765625,
          2851.59765625,
          2851.59765625,
          2851.59765625,
          2851.59765625,
          2851.59765625,
          2851.59765625,
          2851.59765625,
          2851.59765625,
          2851.59765625,
          2851.59765625,
          2851.59765625,
          2851.59765625,
          2851.59765625,
          2851.59765625,
          2851.59765625,
          2851.59765625,
          2851.59765625,
          2851.59765625,
          2851.59765625,
          2851.59765625,
          2851.59765625,
          2851.59765625,
          2851.59765625,
          2851.59765625,
          2851.59765625,
          2851.59765625,
          2851.59765625,
          2851.59765625,
          2851.59765625,
          2851.59765625,
          2851.59765625,
          2851.59765625,
          2851.59765625,
          2851.59765625,
          2851.59765625,
          2851.59765625,
          2851.59765625,
          2851.59765625,
          2851.59765625,
          2851.59765625,
          2851.59765625,
          2851.59765625,
          2851.59765625,
          2851.59765625,
          2851.59765625,
          2851.59765625
         ]
        },
        {
         "mode": "lines",
         "name": "ia_mean",
         "type": "scatter",
         "x": [
          0.00034689903259277344,
          0.10135936737060547,
          0.20206427574157715,
          0.30288076400756836,
          0.4037761688232422,
          0.5042746067047119,
          0.6049447059631348,
          0.7063510417938232,
          0.8067994117736816,
          0.9073009490966797
         ],
         "y": [
          0,
          90.890625,
          124.66796875,
          179.171875,
          221.6328125,
          260.62109375,
          315.5703125,
          353.984375,
          386.5078125,
          431.3203125
         ]
        }
       ],
       "layout": {
        "template": {
         "data": {
          "bar": [
           {
            "error_x": {
             "color": "#2a3f5f"
            },
            "error_y": {
             "color": "#2a3f5f"
            },
            "marker": {
             "line": {
              "color": "#E5ECF6",
              "width": 0.5
             }
            },
            "type": "bar"
           }
          ],
          "barpolar": [
           {
            "marker": {
             "line": {
              "color": "#E5ECF6",
              "width": 0.5
             }
            },
            "type": "barpolar"
           }
          ],
          "carpet": [
           {
            "aaxis": {
             "endlinecolor": "#2a3f5f",
             "gridcolor": "white",
             "linecolor": "white",
             "minorgridcolor": "white",
             "startlinecolor": "#2a3f5f"
            },
            "baxis": {
             "endlinecolor": "#2a3f5f",
             "gridcolor": "white",
             "linecolor": "white",
             "minorgridcolor": "white",
             "startlinecolor": "#2a3f5f"
            },
            "type": "carpet"
           }
          ],
          "choropleth": [
           {
            "colorbar": {
             "outlinewidth": 0,
             "ticks": ""
            },
            "type": "choropleth"
           }
          ],
          "contour": [
           {
            "colorbar": {
             "outlinewidth": 0,
             "ticks": ""
            },
            "colorscale": [
             [
              0,
              "#0d0887"
             ],
             [
              0.1111111111111111,
              "#46039f"
             ],
             [
              0.2222222222222222,
              "#7201a8"
             ],
             [
              0.3333333333333333,
              "#9c179e"
             ],
             [
              0.4444444444444444,
              "#bd3786"
             ],
             [
              0.5555555555555556,
              "#d8576b"
             ],
             [
              0.6666666666666666,
              "#ed7953"
             ],
             [
              0.7777777777777778,
              "#fb9f3a"
             ],
             [
              0.8888888888888888,
              "#fdca26"
             ],
             [
              1,
              "#f0f921"
             ]
            ],
            "type": "contour"
           }
          ],
          "contourcarpet": [
           {
            "colorbar": {
             "outlinewidth": 0,
             "ticks": ""
            },
            "type": "contourcarpet"
           }
          ],
          "heatmap": [
           {
            "colorbar": {
             "outlinewidth": 0,
             "ticks": ""
            },
            "colorscale": [
             [
              0,
              "#0d0887"
             ],
             [
              0.1111111111111111,
              "#46039f"
             ],
             [
              0.2222222222222222,
              "#7201a8"
             ],
             [
              0.3333333333333333,
              "#9c179e"
             ],
             [
              0.4444444444444444,
              "#bd3786"
             ],
             [
              0.5555555555555556,
              "#d8576b"
             ],
             [
              0.6666666666666666,
              "#ed7953"
             ],
             [
              0.7777777777777778,
              "#fb9f3a"
             ],
             [
              0.8888888888888888,
              "#fdca26"
             ],
             [
              1,
              "#f0f921"
             ]
            ],
            "type": "heatmap"
           }
          ],
          "heatmapgl": [
           {
            "colorbar": {
             "outlinewidth": 0,
             "ticks": ""
            },
            "colorscale": [
             [
              0,
              "#0d0887"
             ],
             [
              0.1111111111111111,
              "#46039f"
             ],
             [
              0.2222222222222222,
              "#7201a8"
             ],
             [
              0.3333333333333333,
              "#9c179e"
             ],
             [
              0.4444444444444444,
              "#bd3786"
             ],
             [
              0.5555555555555556,
              "#d8576b"
             ],
             [
              0.6666666666666666,
              "#ed7953"
             ],
             [
              0.7777777777777778,
              "#fb9f3a"
             ],
             [
              0.8888888888888888,
              "#fdca26"
             ],
             [
              1,
              "#f0f921"
             ]
            ],
            "type": "heatmapgl"
           }
          ],
          "histogram": [
           {
            "marker": {
             "colorbar": {
              "outlinewidth": 0,
              "ticks": ""
             }
            },
            "type": "histogram"
           }
          ],
          "histogram2d": [
           {
            "colorbar": {
             "outlinewidth": 0,
             "ticks": ""
            },
            "colorscale": [
             [
              0,
              "#0d0887"
             ],
             [
              0.1111111111111111,
              "#46039f"
             ],
             [
              0.2222222222222222,
              "#7201a8"
             ],
             [
              0.3333333333333333,
              "#9c179e"
             ],
             [
              0.4444444444444444,
              "#bd3786"
             ],
             [
              0.5555555555555556,
              "#d8576b"
             ],
             [
              0.6666666666666666,
              "#ed7953"
             ],
             [
              0.7777777777777778,
              "#fb9f3a"
             ],
             [
              0.8888888888888888,
              "#fdca26"
             ],
             [
              1,
              "#f0f921"
             ]
            ],
            "type": "histogram2d"
           }
          ],
          "histogram2dcontour": [
           {
            "colorbar": {
             "outlinewidth": 0,
             "ticks": ""
            },
            "colorscale": [
             [
              0,
              "#0d0887"
             ],
             [
              0.1111111111111111,
              "#46039f"
             ],
             [
              0.2222222222222222,
              "#7201a8"
             ],
             [
              0.3333333333333333,
              "#9c179e"
             ],
             [
              0.4444444444444444,
              "#bd3786"
             ],
             [
              0.5555555555555556,
              "#d8576b"
             ],
             [
              0.6666666666666666,
              "#ed7953"
             ],
             [
              0.7777777777777778,
              "#fb9f3a"
             ],
             [
              0.8888888888888888,
              "#fdca26"
             ],
             [
              1,
              "#f0f921"
             ]
            ],
            "type": "histogram2dcontour"
           }
          ],
          "mesh3d": [
           {
            "colorbar": {
             "outlinewidth": 0,
             "ticks": ""
            },
            "type": "mesh3d"
           }
          ],
          "parcoords": [
           {
            "line": {
             "colorbar": {
              "outlinewidth": 0,
              "ticks": ""
             }
            },
            "type": "parcoords"
           }
          ],
          "pie": [
           {
            "automargin": true,
            "type": "pie"
           }
          ],
          "scatter": [
           {
            "marker": {
             "colorbar": {
              "outlinewidth": 0,
              "ticks": ""
             }
            },
            "type": "scatter"
           }
          ],
          "scatter3d": [
           {
            "line": {
             "colorbar": {
              "outlinewidth": 0,
              "ticks": ""
             }
            },
            "marker": {
             "colorbar": {
              "outlinewidth": 0,
              "ticks": ""
             }
            },
            "type": "scatter3d"
           }
          ],
          "scattercarpet": [
           {
            "marker": {
             "colorbar": {
              "outlinewidth": 0,
              "ticks": ""
             }
            },
            "type": "scattercarpet"
           }
          ],
          "scattergeo": [
           {
            "marker": {
             "colorbar": {
              "outlinewidth": 0,
              "ticks": ""
             }
            },
            "type": "scattergeo"
           }
          ],
          "scattergl": [
           {
            "marker": {
             "colorbar": {
              "outlinewidth": 0,
              "ticks": ""
             }
            },
            "type": "scattergl"
           }
          ],
          "scattermapbox": [
           {
            "marker": {
             "colorbar": {
              "outlinewidth": 0,
              "ticks": ""
             }
            },
            "type": "scattermapbox"
           }
          ],
          "scatterpolar": [
           {
            "marker": {
             "colorbar": {
              "outlinewidth": 0,
              "ticks": ""
             }
            },
            "type": "scatterpolar"
           }
          ],
          "scatterpolargl": [
           {
            "marker": {
             "colorbar": {
              "outlinewidth": 0,
              "ticks": ""
             }
            },
            "type": "scatterpolargl"
           }
          ],
          "scatterternary": [
           {
            "marker": {
             "colorbar": {
              "outlinewidth": 0,
              "ticks": ""
             }
            },
            "type": "scatterternary"
           }
          ],
          "surface": [
           {
            "colorbar": {
             "outlinewidth": 0,
             "ticks": ""
            },
            "colorscale": [
             [
              0,
              "#0d0887"
             ],
             [
              0.1111111111111111,
              "#46039f"
             ],
             [
              0.2222222222222222,
              "#7201a8"
             ],
             [
              0.3333333333333333,
              "#9c179e"
             ],
             [
              0.4444444444444444,
              "#bd3786"
             ],
             [
              0.5555555555555556,
              "#d8576b"
             ],
             [
              0.6666666666666666,
              "#ed7953"
             ],
             [
              0.7777777777777778,
              "#fb9f3a"
             ],
             [
              0.8888888888888888,
              "#fdca26"
             ],
             [
              1,
              "#f0f921"
             ]
            ],
            "type": "surface"
           }
          ],
          "table": [
           {
            "cells": {
             "fill": {
              "color": "#EBF0F8"
             },
             "line": {
              "color": "white"
             }
            },
            "header": {
             "fill": {
              "color": "#C8D4E3"
             },
             "line": {
              "color": "white"
             }
            },
            "type": "table"
           }
          ]
         },
         "layout": {
          "annotationdefaults": {
           "arrowcolor": "#2a3f5f",
           "arrowhead": 0,
           "arrowwidth": 1
          },
          "autotypenumbers": "strict",
          "coloraxis": {
           "colorbar": {
            "outlinewidth": 0,
            "ticks": ""
           }
          },
          "colorscale": {
           "diverging": [
            [
             0,
             "#8e0152"
            ],
            [
             0.1,
             "#c51b7d"
            ],
            [
             0.2,
             "#de77ae"
            ],
            [
             0.3,
             "#f1b6da"
            ],
            [
             0.4,
             "#fde0ef"
            ],
            [
             0.5,
             "#f7f7f7"
            ],
            [
             0.6,
             "#e6f5d0"
            ],
            [
             0.7,
             "#b8e186"
            ],
            [
             0.8,
             "#7fbc41"
            ],
            [
             0.9,
             "#4d9221"
            ],
            [
             1,
             "#276419"
            ]
           ],
           "sequential": [
            [
             0,
             "#0d0887"
            ],
            [
             0.1111111111111111,
             "#46039f"
            ],
            [
             0.2222222222222222,
             "#7201a8"
            ],
            [
             0.3333333333333333,
             "#9c179e"
            ],
            [
             0.4444444444444444,
             "#bd3786"
            ],
            [
             0.5555555555555556,
             "#d8576b"
            ],
            [
             0.6666666666666666,
             "#ed7953"
            ],
            [
             0.7777777777777778,
             "#fb9f3a"
            ],
            [
             0.8888888888888888,
             "#fdca26"
            ],
            [
             1,
             "#f0f921"
            ]
           ],
           "sequentialminus": [
            [
             0,
             "#0d0887"
            ],
            [
             0.1111111111111111,
             "#46039f"
            ],
            [
             0.2222222222222222,
             "#7201a8"
            ],
            [
             0.3333333333333333,
             "#9c179e"
            ],
            [
             0.4444444444444444,
             "#bd3786"
            ],
            [
             0.5555555555555556,
             "#d8576b"
            ],
            [
             0.6666666666666666,
             "#ed7953"
            ],
            [
             0.7777777777777778,
             "#fb9f3a"
            ],
            [
             0.8888888888888888,
             "#fdca26"
            ],
            [
             1,
             "#f0f921"
            ]
           ]
          },
          "colorway": [
           "#636efa",
           "#EF553B",
           "#00cc96",
           "#ab63fa",
           "#FFA15A",
           "#19d3f3",
           "#FF6692",
           "#B6E880",
           "#FF97FF",
           "#FECB52"
          ],
          "font": {
           "color": "#2a3f5f"
          },
          "geo": {
           "bgcolor": "white",
           "lakecolor": "white",
           "landcolor": "#E5ECF6",
           "showlakes": true,
           "showland": true,
           "subunitcolor": "white"
          },
          "hoverlabel": {
           "align": "left"
          },
          "hovermode": "closest",
          "mapbox": {
           "style": "light"
          },
          "paper_bgcolor": "white",
          "plot_bgcolor": "#E5ECF6",
          "polar": {
           "angularaxis": {
            "gridcolor": "white",
            "linecolor": "white",
            "ticks": ""
           },
           "bgcolor": "#E5ECF6",
           "radialaxis": {
            "gridcolor": "white",
            "linecolor": "white",
            "ticks": ""
           }
          },
          "scene": {
           "xaxis": {
            "backgroundcolor": "#E5ECF6",
            "gridcolor": "white",
            "gridwidth": 2,
            "linecolor": "white",
            "showbackground": true,
            "ticks": "",
            "zerolinecolor": "white"
           },
           "yaxis": {
            "backgroundcolor": "#E5ECF6",
            "gridcolor": "white",
            "gridwidth": 2,
            "linecolor": "white",
            "showbackground": true,
            "ticks": "",
            "zerolinecolor": "white"
           },
           "zaxis": {
            "backgroundcolor": "#E5ECF6",
            "gridcolor": "white",
            "gridwidth": 2,
            "linecolor": "white",
            "showbackground": true,
            "ticks": "",
            "zerolinecolor": "white"
           }
          },
          "shapedefaults": {
           "line": {
            "color": "#2a3f5f"
           }
          },
          "ternary": {
           "aaxis": {
            "gridcolor": "white",
            "linecolor": "white",
            "ticks": ""
           },
           "baxis": {
            "gridcolor": "white",
            "linecolor": "white",
            "ticks": ""
           },
           "bgcolor": "#E5ECF6",
           "caxis": {
            "gridcolor": "white",
            "linecolor": "white",
            "ticks": ""
           }
          },
          "title": {
           "x": 0.05
          },
          "xaxis": {
           "automargin": true,
           "gridcolor": "white",
           "linecolor": "white",
           "ticks": "",
           "title": {
            "standoff": 15
           },
           "zerolinecolor": "white",
           "zerolinewidth": 2
          },
          "yaxis": {
           "automargin": true,
           "gridcolor": "white",
           "linecolor": "white",
           "ticks": "",
           "title": {
            "standoff": 15
           },
           "zerolinecolor": "white",
           "zerolinewidth": 2
          }
         }
        },
        "title": {
         "text": "Mean computation",
         "x": 0.5,
         "xanchor": "center",
         "y": 0.9,
         "yanchor": "top"
        },
        "xaxis": {
         "title": {
          "text": "Time (in seconds)"
         }
        },
        "yaxis": {
         "title": {
          "text": "Memory used (in MiB)"
         }
        }
       }
      },
      "text/html": [
       "<div>                            <div id=\"e8c5143b-7b79-4cf3-8e8f-540655f837cd\" class=\"plotly-graph-div\" style=\"height:525px; width:100%;\"></div>            <script type=\"text/javascript\">                require([\"plotly\"], function(Plotly) {                    window.PLOTLYENV=window.PLOTLYENV || {};                                    if (document.getElementById(\"e8c5143b-7b79-4cf3-8e8f-540655f837cd\")) {                    Plotly.newPlot(                        \"e8c5143b-7b79-4cf3-8e8f-540655f837cd\",                        [{\"mode\": \"lines\", \"name\": \"np_mean\", \"type\": \"scatter\", \"x\": [0.0003695487976074219, 0.010841608047485352, 0.021234512329101562, 0.031661272048950195, 0.04204869270324707, 0.05238199234008789, 0.06280374526977539, 0.07313418388366699, 0.08348631858825684, 0.09387803077697754, 0.10421156883239746, 0.11460065841674805, 0.12490129470825195, 0.1351943016052246, 0.14550042152404785, 0.1558396816253662, 0.1661388874053955, 0.17643499374389648, 0.18662023544311523, 0.1969459056854248, 0.20713424682617188, 0.21740150451660156, 0.22772955894470215, 0.2380542755126953, 0.24835610389709473, 0.2585875988006592, 0.26874423027038574, 0.27902913093566895, 0.28925061225891113, 0.29958057403564453, 0.3099660873413086, 0.32028865814208984, 0.33069491386413574, 0.3410327434539795, 0.3513369560241699, 0.3614926338195801, 0.37190771102905273, 0.38230419158935547, 0.3926517963409424, 0.40305280685424805, 0.4134542942047119, 0.42385220527648926, 0.43424105644226074, 0.4445919990539551, 0.45498085021972656, 0.46537017822265625, 0.47578907012939453, 0.48618030548095703, 0.49651551246643066, 0.5069127082824707, 0.5173137187957764, 0.5277340412139893, 0.5381331443786621, 0.548471212387085, 0.558873176574707, 0.5692598819732666, 0.5797035694122314, 0.5901122093200684, 0.6004526615142822, 0.6108677387237549, 0.621267557144165, 0.6316924095153809, 0.642096757888794, 0.6524393558502197, 0.6628577709197998, 0.673253059387207, 0.6836864948272705, 0.6940808296203613, 0.7044212818145752, 0.7148232460021973, 0.7251572608947754, 0.7355763912200928, 0.7459802627563477, 0.7563292980194092, 0.7667617797851562, 0.7770848274230957, 0.7873396873474121, 0.7975847721099854, 0.807741641998291, 0.8179585933685303, 0.8281164169311523, 0.8383352756500244, 0.8484902381896973, 0.8587090969085693, 0.8688738346099854, 0.8790905475616455, 0.8893063068389893, 0.8995254039764404, 0.9097495079040527, 0.9199135303497314, 0.9301292896270752, 0.94028639793396, 0.9505043029785156, 0.9606623649597168, 0.9708833694458008, 0.9810991287231445, 0.9913139343261719, 1.001537561416626, 1.011751413345337, 1.0219659805297852, 1.0321283340454102, 1.0423471927642822, 1.0524990558624268, 1.0627164840698242, 1.0729329586029053, 1.0831458568572998, 1.0933620929718018, 1.1036179065704346, 1.1138346195220947, 1.1239867210388184, 1.1342039108276367, 1.144360065460205, 1.1545965671539307, 1.1648101806640625, 1.1749627590179443, 1.1851806640625, 1.1953957080841064, 1.205634355545044, 1.2157890796661377, 1.2260043621063232, 1.236159324645996, 1.246375322341919, 1.2565395832061768, 1.2667512893676758, 1.2769036293029785, 1.2871155738830566, 1.2973425388336182, 1.3075792789459229, 1.317798137664795, 1.3280203342437744, 1.3382375240325928, 1.3483943939208984, 1.358635663986206, 1.3688077926635742, 1.3790206909179688, 1.389240026473999, 1.3994550704956055, 1.4096698760986328, 1.419825553894043, 1.4300408363342285, 1.4401967525482178, 1.4504165649414062, 1.4605791568756104, 1.4707915782928467, 1.4809434413909912, 1.4910964965820312, 1.5012493133544922], \"y\": [0.0, 36.71875, 74.71875, 112.83203125, 150.83203125, 188.83203125, 228.83203125, 266.83203125, 302.83203125, 340.83203125, 378.83203125, 414.83203125, 450.83203125, 484.83203125, 522.83203125, 556.83203125, 590.83203125, 624.83203125, 656.83203125, 688.83203125, 720.83203125, 752.83203125, 786.83203125, 824.83203125, 858.83203125, 892.83203125, 926.83203125, 960.83203125, 998.83203125, 1038.83203125, 1078.83203125, 1118.83203125, 1158.83203125, 1196.83203125, 1236.83203125, 1276.83203125, 1316.83203125, 1356.83203125, 1396.83203125, 1436.83203125, 1476.83203125, 1516.83203125, 1556.83203125, 1596.83203125, 1634.83203125, 1674.83203125, 1714.83203125, 1754.83203125, 1792.83203125, 1832.83203125, 1872.83203125, 1912.83203125, 1952.83203125, 1992.83203125, 2030.83203125, 2070.83203125, 2112.83203125, 2152.83203125, 2190.83203125, 2230.83203125, 2270.83203125, 2312.83203125, 2352.83203125, 2390.83203125, 2430.83203125, 2470.83203125, 2510.83203125, 2552.83203125, 2590.83203125, 2630.83203125, 2670.83203125, 2710.83203125, 2750.83203125, 2790.83203125, 2830.83203125, 2851.59765625, 2851.59765625, 2851.59765625, 2851.59765625, 2851.59765625, 2851.59765625, 2851.59765625, 2851.59765625, 2851.59765625, 2851.59765625, 2851.59765625, 2851.59765625, 2851.59765625, 2851.59765625, 2851.59765625, 2851.59765625, 2851.59765625, 2851.59765625, 2851.59765625, 2851.59765625, 2851.59765625, 2851.59765625, 2851.59765625, 2851.59765625, 2851.59765625, 2851.59765625, 2851.59765625, 2851.59765625, 2851.59765625, 2851.59765625, 2851.59765625, 2851.59765625, 2851.59765625, 2851.59765625, 2851.59765625, 2851.59765625, 2851.59765625, 2851.59765625, 2851.59765625, 2851.59765625, 2851.59765625, 2851.59765625, 2851.59765625, 2851.59765625, 2851.59765625, 2851.59765625, 2851.59765625, 2851.59765625, 2851.59765625, 2851.59765625, 2851.59765625, 2851.59765625, 2851.59765625, 2851.59765625, 2851.59765625, 2851.59765625, 2851.59765625, 2851.59765625, 2851.59765625, 2851.59765625, 2851.59765625, 2851.59765625, 2851.59765625, 2851.59765625, 2851.59765625, 2851.59765625, 2851.59765625, 2851.59765625, 2851.59765625, 2851.59765625, 2851.59765625, 2851.59765625]}, {\"mode\": \"lines\", \"name\": \"ia_mean\", \"type\": \"scatter\", \"x\": [0.00034689903259277344, 0.10135936737060547, 0.20206427574157715, 0.30288076400756836, 0.4037761688232422, 0.5042746067047119, 0.6049447059631348, 0.7063510417938232, 0.8067994117736816, 0.9073009490966797], \"y\": [0.0, 90.890625, 124.66796875, 179.171875, 221.6328125, 260.62109375, 315.5703125, 353.984375, 386.5078125, 431.3203125]}],                        {\"template\": {\"data\": {\"bar\": [{\"error_x\": {\"color\": \"#2a3f5f\"}, \"error_y\": {\"color\": \"#2a3f5f\"}, \"marker\": {\"line\": {\"color\": \"#E5ECF6\", \"width\": 0.5}}, \"type\": \"bar\"}], \"barpolar\": [{\"marker\": {\"line\": {\"color\": \"#E5ECF6\", \"width\": 0.5}}, \"type\": \"barpolar\"}], \"carpet\": [{\"aaxis\": {\"endlinecolor\": \"#2a3f5f\", \"gridcolor\": \"white\", \"linecolor\": \"white\", \"minorgridcolor\": \"white\", \"startlinecolor\": \"#2a3f5f\"}, \"baxis\": {\"endlinecolor\": \"#2a3f5f\", \"gridcolor\": \"white\", \"linecolor\": \"white\", \"minorgridcolor\": \"white\", \"startlinecolor\": \"#2a3f5f\"}, \"type\": \"carpet\"}], \"choropleth\": [{\"colorbar\": {\"outlinewidth\": 0, \"ticks\": \"\"}, \"type\": \"choropleth\"}], \"contour\": [{\"colorbar\": {\"outlinewidth\": 0, \"ticks\": \"\"}, \"colorscale\": [[0.0, \"#0d0887\"], [0.1111111111111111, \"#46039f\"], [0.2222222222222222, \"#7201a8\"], [0.3333333333333333, \"#9c179e\"], [0.4444444444444444, \"#bd3786\"], [0.5555555555555556, \"#d8576b\"], [0.6666666666666666, \"#ed7953\"], [0.7777777777777778, \"#fb9f3a\"], [0.8888888888888888, \"#fdca26\"], [1.0, \"#f0f921\"]], \"type\": \"contour\"}], \"contourcarpet\": [{\"colorbar\": {\"outlinewidth\": 0, \"ticks\": \"\"}, \"type\": \"contourcarpet\"}], \"heatmap\": [{\"colorbar\": {\"outlinewidth\": 0, \"ticks\": \"\"}, \"colorscale\": [[0.0, \"#0d0887\"], [0.1111111111111111, \"#46039f\"], [0.2222222222222222, \"#7201a8\"], [0.3333333333333333, \"#9c179e\"], [0.4444444444444444, \"#bd3786\"], [0.5555555555555556, \"#d8576b\"], [0.6666666666666666, \"#ed7953\"], [0.7777777777777778, \"#fb9f3a\"], [0.8888888888888888, \"#fdca26\"], [1.0, \"#f0f921\"]], \"type\": \"heatmap\"}], \"heatmapgl\": [{\"colorbar\": {\"outlinewidth\": 0, \"ticks\": \"\"}, \"colorscale\": [[0.0, \"#0d0887\"], [0.1111111111111111, \"#46039f\"], [0.2222222222222222, \"#7201a8\"], [0.3333333333333333, \"#9c179e\"], [0.4444444444444444, \"#bd3786\"], [0.5555555555555556, \"#d8576b\"], [0.6666666666666666, \"#ed7953\"], [0.7777777777777778, \"#fb9f3a\"], [0.8888888888888888, \"#fdca26\"], [1.0, \"#f0f921\"]], \"type\": \"heatmapgl\"}], \"histogram\": [{\"marker\": {\"colorbar\": {\"outlinewidth\": 0, \"ticks\": \"\"}}, \"type\": \"histogram\"}], \"histogram2d\": [{\"colorbar\": {\"outlinewidth\": 0, \"ticks\": \"\"}, \"colorscale\": [[0.0, \"#0d0887\"], [0.1111111111111111, \"#46039f\"], [0.2222222222222222, \"#7201a8\"], [0.3333333333333333, \"#9c179e\"], [0.4444444444444444, \"#bd3786\"], [0.5555555555555556, \"#d8576b\"], [0.6666666666666666, \"#ed7953\"], [0.7777777777777778, \"#fb9f3a\"], [0.8888888888888888, \"#fdca26\"], [1.0, \"#f0f921\"]], \"type\": \"histogram2d\"}], \"histogram2dcontour\": [{\"colorbar\": {\"outlinewidth\": 0, \"ticks\": \"\"}, \"colorscale\": [[0.0, \"#0d0887\"], [0.1111111111111111, \"#46039f\"], [0.2222222222222222, \"#7201a8\"], [0.3333333333333333, \"#9c179e\"], [0.4444444444444444, \"#bd3786\"], [0.5555555555555556, \"#d8576b\"], [0.6666666666666666, \"#ed7953\"], [0.7777777777777778, \"#fb9f3a\"], [0.8888888888888888, \"#fdca26\"], [1.0, \"#f0f921\"]], \"type\": \"histogram2dcontour\"}], \"mesh3d\": [{\"colorbar\": {\"outlinewidth\": 0, \"ticks\": \"\"}, \"type\": \"mesh3d\"}], \"parcoords\": [{\"line\": {\"colorbar\": {\"outlinewidth\": 0, \"ticks\": \"\"}}, \"type\": \"parcoords\"}], \"pie\": [{\"automargin\": true, \"type\": \"pie\"}], \"scatter\": [{\"marker\": {\"colorbar\": {\"outlinewidth\": 0, \"ticks\": \"\"}}, \"type\": \"scatter\"}], \"scatter3d\": [{\"line\": {\"colorbar\": {\"outlinewidth\": 0, \"ticks\": \"\"}}, \"marker\": {\"colorbar\": {\"outlinewidth\": 0, \"ticks\": \"\"}}, \"type\": \"scatter3d\"}], \"scattercarpet\": [{\"marker\": {\"colorbar\": {\"outlinewidth\": 0, \"ticks\": \"\"}}, \"type\": \"scattercarpet\"}], \"scattergeo\": [{\"marker\": {\"colorbar\": {\"outlinewidth\": 0, \"ticks\": \"\"}}, \"type\": \"scattergeo\"}], \"scattergl\": [{\"marker\": {\"colorbar\": {\"outlinewidth\": 0, \"ticks\": \"\"}}, \"type\": \"scattergl\"}], \"scattermapbox\": [{\"marker\": {\"colorbar\": {\"outlinewidth\": 0, \"ticks\": \"\"}}, \"type\": \"scattermapbox\"}], \"scatterpolar\": [{\"marker\": {\"colorbar\": {\"outlinewidth\": 0, \"ticks\": \"\"}}, \"type\": \"scatterpolar\"}], \"scatterpolargl\": [{\"marker\": {\"colorbar\": {\"outlinewidth\": 0, \"ticks\": \"\"}}, \"type\": \"scatterpolargl\"}], \"scatterternary\": [{\"marker\": {\"colorbar\": {\"outlinewidth\": 0, \"ticks\": \"\"}}, \"type\": \"scatterternary\"}], \"surface\": [{\"colorbar\": {\"outlinewidth\": 0, \"ticks\": \"\"}, \"colorscale\": [[0.0, \"#0d0887\"], [0.1111111111111111, \"#46039f\"], [0.2222222222222222, \"#7201a8\"], [0.3333333333333333, \"#9c179e\"], [0.4444444444444444, \"#bd3786\"], [0.5555555555555556, \"#d8576b\"], [0.6666666666666666, \"#ed7953\"], [0.7777777777777778, \"#fb9f3a\"], [0.8888888888888888, \"#fdca26\"], [1.0, \"#f0f921\"]], \"type\": \"surface\"}], \"table\": [{\"cells\": {\"fill\": {\"color\": \"#EBF0F8\"}, \"line\": {\"color\": \"white\"}}, \"header\": {\"fill\": {\"color\": \"#C8D4E3\"}, \"line\": {\"color\": \"white\"}}, \"type\": \"table\"}]}, \"layout\": {\"annotationdefaults\": {\"arrowcolor\": \"#2a3f5f\", \"arrowhead\": 0, \"arrowwidth\": 1}, \"autotypenumbers\": \"strict\", \"coloraxis\": {\"colorbar\": {\"outlinewidth\": 0, \"ticks\": \"\"}}, \"colorscale\": {\"diverging\": [[0, \"#8e0152\"], [0.1, \"#c51b7d\"], [0.2, \"#de77ae\"], [0.3, \"#f1b6da\"], [0.4, \"#fde0ef\"], [0.5, \"#f7f7f7\"], [0.6, \"#e6f5d0\"], [0.7, \"#b8e186\"], [0.8, \"#7fbc41\"], [0.9, \"#4d9221\"], [1, \"#276419\"]], \"sequential\": [[0.0, \"#0d0887\"], [0.1111111111111111, \"#46039f\"], [0.2222222222222222, \"#7201a8\"], [0.3333333333333333, \"#9c179e\"], [0.4444444444444444, \"#bd3786\"], [0.5555555555555556, \"#d8576b\"], [0.6666666666666666, \"#ed7953\"], [0.7777777777777778, \"#fb9f3a\"], [0.8888888888888888, \"#fdca26\"], [1.0, \"#f0f921\"]], \"sequentialminus\": [[0.0, \"#0d0887\"], [0.1111111111111111, \"#46039f\"], [0.2222222222222222, \"#7201a8\"], [0.3333333333333333, \"#9c179e\"], [0.4444444444444444, \"#bd3786\"], [0.5555555555555556, \"#d8576b\"], [0.6666666666666666, \"#ed7953\"], [0.7777777777777778, \"#fb9f3a\"], [0.8888888888888888, \"#fdca26\"], [1.0, \"#f0f921\"]]}, \"colorway\": [\"#636efa\", \"#EF553B\", \"#00cc96\", \"#ab63fa\", \"#FFA15A\", \"#19d3f3\", \"#FF6692\", \"#B6E880\", \"#FF97FF\", \"#FECB52\"], \"font\": {\"color\": \"#2a3f5f\"}, \"geo\": {\"bgcolor\": \"white\", \"lakecolor\": \"white\", \"landcolor\": \"#E5ECF6\", \"showlakes\": true, \"showland\": true, \"subunitcolor\": \"white\"}, \"hoverlabel\": {\"align\": \"left\"}, \"hovermode\": \"closest\", \"mapbox\": {\"style\": \"light\"}, \"paper_bgcolor\": \"white\", \"plot_bgcolor\": \"#E5ECF6\", \"polar\": {\"angularaxis\": {\"gridcolor\": \"white\", \"linecolor\": \"white\", \"ticks\": \"\"}, \"bgcolor\": \"#E5ECF6\", \"radialaxis\": {\"gridcolor\": \"white\", \"linecolor\": \"white\", \"ticks\": \"\"}}, \"scene\": {\"xaxis\": {\"backgroundcolor\": \"#E5ECF6\", \"gridcolor\": \"white\", \"gridwidth\": 2, \"linecolor\": \"white\", \"showbackground\": true, \"ticks\": \"\", \"zerolinecolor\": \"white\"}, \"yaxis\": {\"backgroundcolor\": \"#E5ECF6\", \"gridcolor\": \"white\", \"gridwidth\": 2, \"linecolor\": \"white\", \"showbackground\": true, \"ticks\": \"\", \"zerolinecolor\": \"white\"}, \"zaxis\": {\"backgroundcolor\": \"#E5ECF6\", \"gridcolor\": \"white\", \"gridwidth\": 2, \"linecolor\": \"white\", \"showbackground\": true, \"ticks\": \"\", \"zerolinecolor\": \"white\"}}, \"shapedefaults\": {\"line\": {\"color\": \"#2a3f5f\"}}, \"ternary\": {\"aaxis\": {\"gridcolor\": \"white\", \"linecolor\": \"white\", \"ticks\": \"\"}, \"baxis\": {\"gridcolor\": \"white\", \"linecolor\": \"white\", \"ticks\": \"\"}, \"bgcolor\": \"#E5ECF6\", \"caxis\": {\"gridcolor\": \"white\", \"linecolor\": \"white\", \"ticks\": \"\"}}, \"title\": {\"x\": 0.05}, \"xaxis\": {\"automargin\": true, \"gridcolor\": \"white\", \"linecolor\": \"white\", \"ticks\": \"\", \"title\": {\"standoff\": 15}, \"zerolinecolor\": \"white\", \"zerolinewidth\": 2}, \"yaxis\": {\"automargin\": true, \"gridcolor\": \"white\", \"linecolor\": \"white\", \"ticks\": \"\", \"title\": {\"standoff\": 15}, \"zerolinecolor\": \"white\", \"zerolinewidth\": 2}}}, \"title\": {\"text\": \"Mean computation\", \"x\": 0.5, \"xanchor\": \"center\", \"y\": 0.9, \"yanchor\": \"top\"}, \"xaxis\": {\"title\": {\"text\": \"Time (in seconds)\"}}, \"yaxis\": {\"title\": {\"text\": \"Memory used (in MiB)\"}}},                        {\"responsive\": true}                    ).then(function(){\n",
       "                            \n",
       "var gd = document.getElementById('e8c5143b-7b79-4cf3-8e8f-540655f837cd');\n",
       "var x = new MutationObserver(function (mutations, observer) {{\n",
       "        var display = window.getComputedStyle(gd).display;\n",
       "        if (!display || display === 'none') {{\n",
       "            console.log([gd, 'removed!']);\n",
       "            Plotly.purge(gd);\n",
       "            observer.disconnect();\n",
       "        }}\n",
       "}});\n",
       "\n",
       "// Listen for the removal of the full notebook cells\n",
       "var notebookContainer = gd.closest('#notebook-container');\n",
       "if (notebookContainer) {{\n",
       "    x.observe(notebookContainer, {childList: true});\n",
       "}}\n",
       "\n",
       "// Listen for the clearing of the current output cell\n",
       "var outputEl = gd.closest('.output');\n",
       "if (outputEl) {{\n",
       "    x.observe(outputEl, {childList: true});\n",
       "}}\n",
       "\n",
       "                        })                };                });            </script>        </div>"
      ]
     },
     "metadata": {},
     "output_type": "display_data"
    }
   ],
   "source": [
    "%mprof_plot ia_mean np_mean -t \"Mean computation\""
   ]
  },
  {
   "cell_type": "markdown",
   "metadata": {},
   "source": [
    "As we can see iron_array not only makes computations faster, but specially requiring much less memory."
   ]
  },
  {
   "cell_type": "code",
   "execution_count": 23,
   "metadata": {},
   "outputs": [
    {
     "data": {
      "application/vnd.plotly.v1+json": {
       "config": {
        "plotlyServerURL": "https://plot.ly"
       },
       "data": [
        {
         "mode": "lines",
         "name": "ia_trans",
         "type": "scatter",
         "x": [
          0.000377655029296875,
          0.010696887969970703,
          0.02097344398498535,
          0.03129744529724121,
          0.04164695739746094,
          0.05202937126159668,
          0.06271004676818848,
          0.07340574264526367,
          0.08377695083618164,
          0.09415054321289062,
          0.10454773902893066,
          0.11495137214660645,
          0.12533807754516602,
          0.13578414916992188,
          0.14619851112365723,
          0.1565992832183838,
          0.16699576377868652,
          0.1773056983947754,
          0.18767094612121582,
          0.19798874855041504,
          0.20828604698181152,
          0.21904611587524414,
          0.22942304611206055,
          0.2398216724395752,
          0.2502169609069824,
          0.2605254650115967,
          0.2714271545410156,
          0.2818164825439453,
          0.292482852935791,
          0.30316853523254395,
          0.3135840892791748,
          0.324033260345459,
          0.3343932628631592,
          0.3447842597961426,
          0.3551456928253174,
          0.3657650947570801,
          0.37628650665283203,
          0.38666462898254395,
          0.39704036712646484,
          0.4074211120605469,
          0.4177854061126709,
          0.42815256118774414,
          0.4385385513305664,
          0.44922947883605957,
          0.4597153663635254,
          0.4700894355773926,
          0.48047399520874023,
          0.4907979965209961,
          0.501288890838623,
          0.5117261409759521,
          0.5221188068389893,
          0.5325009822845459,
          0.5428788661956787,
          0.553272008895874,
          0.5636591911315918,
          0.5740270614624023,
          0.584414005279541,
          0.594874382019043,
          0.60528564453125,
          0.6156861782073975,
          0.6264550685882568,
          0.6369061470031738,
          0.6472868919372559,
          0.6576712131500244,
          0.6680388450622559,
          0.6784095764160156,
          0.6888210773468018,
          0.699195146560669,
          0.7095780372619629,
          0.7199723720550537,
          0.7303493022918701,
          0.7407503128051758,
          0.75105881690979,
          0.7614338397979736,
          0.7717819213867188,
          0.7821130752563477,
          0.7930195331573486,
          0.8034155368804932,
          0.8138036727905273,
          0.8241794109344482,
          0.8347165584564209,
          0.8451189994812012,
          0.855644702911377,
          0.8660330772399902,
          0.8764371871948242,
          0.8868753910064697,
          0.8973150253295898,
          0.90769362449646,
          0.9181017875671387,
          0.9284877777099609,
          0.9388861656188965,
          0.9492578506469727,
          0.9595522880554199,
          0.9699263572692871,
          0.9805419445037842,
          0.9909775257110596,
          1.0013597011566162,
          1.011749505996704,
          1.0221195220947266,
          1.0324985980987549,
          1.0428948402404785,
          1.0532913208007812,
          1.063706636428833,
          1.0740342140197754,
          1.084420919418335,
          1.0948255062103271,
          1.1051557064056396,
          1.1155812740325928,
          1.1259593963623047,
          1.1362543106079102,
          1.146620273590088,
          1.1570179462432861,
          1.1678135395050049,
          1.1782441139221191,
          1.1886811256408691,
          1.199042558670044,
          1.209963321685791,
          1.220557689666748,
          1.231003761291504,
          1.2420268058776855,
          1.2524421215057373,
          1.262815237045288,
          1.2733001708984375,
          1.2837274074554443,
          1.2940478324890137,
          1.3044307231903076,
          1.3148436546325684,
          1.3252427577972412,
          1.3357162475585938,
          1.3461153507232666,
          1.356705665588379,
          1.36708402633667,
          1.3774464130401611,
          1.3878276348114014,
          1.3982586860656738,
          1.4086191654205322
         ],
         "y": [
          0,
          0.015625,
          0.015625,
          0.109375,
          45.140625,
          46.125,
          56.16796875,
          49.18359375,
          58.26171875,
          64.18359375,
          70.5859375,
          77.09375,
          83.67578125,
          90.7890625,
          98.7890625,
          108.30078125,
          111.7890625,
          117.7890625,
          121.7265625,
          127.16015625,
          125.2421875,
          137.05078125,
          141.03125,
          149.0546875,
          155.0546875,
          141.72265625,
          154.1796875,
          156.984375,
          156.9921875,
          158.5078125,
          156.7734375,
          166.58203125,
          170.2421875,
          179.7421875,
          185.7421875,
          189.859375,
          197.015625,
          205.015625,
          211.15234375,
          219.64453125,
          221.1328125,
          226.59375,
          234.71484375,
          236.09765625,
          240.3515625,
          248.61328125,
          251.50390625,
          256.01171875,
          259.1328125,
          256.734375,
          260.31640625,
          260.87109375,
          266.15234375,
          264.80078125,
          272.94140625,
          278.94140625,
          281.99609375,
          286.8984375,
          295.15234375,
          305.2421875,
          308.9453125,
          315.19921875,
          322.54296875,
          324.40625,
          332.66015625,
          336.765625,
          343.6953125,
          342.8125,
          349.828125,
          359.04296875,
          357.18359375,
          362.015625,
          359.1875,
          365.1875,
          366.75390625,
          368.75390625,
          369.375,
          377.390625,
          375.53515625,
          385.8515625,
          396.80859375,
          398.453125,
          408.7109375,
          416.50390625,
          418.02734375,
          426.90234375,
          434.90234375,
          435.36328125,
          434.2578125,
          445.58984375,
          453.22265625,
          454.6953125,
          454.0390625,
          461.37890625,
          461.8515625,
          461.7578125,
          467.94140625,
          467.39453125,
          472.3359375,
          473.19921875,
          479.453125,
          484.43359375,
          489.9609375,
          498.21484375,
          508.9921875,
          510,
          519.2578125,
          525.2578125,
          527.11328125,
          521.5859375,
          537.1796875,
          546.71875,
          548.51171875,
          554.51171875,
          558.83984375,
          563.05859375,
          561.57421875,
          555.40625,
          565.47265625,
          566.50390625,
          570.32421875,
          569.81640625,
          579.734375,
          573.9453125,
          584.50390625,
          596.50390625,
          595.48046875,
          604.49609375,
          605.15234375,
          610.16015625,
          612.5546875,
          616.9765625,
          622.9765625,
          624.1484375,
          623.203125,
          625.73828125
         ]
        },
        {
         "mode": "lines",
         "name": "np_trans",
         "type": "scatter",
         "x": [
          0.0003745555877685547,
          0.010729551315307617,
          0.021030187606811523,
          0.03127765655517578,
          0.0415799617767334,
          0.05182027816772461,
          0.062071800231933594,
          0.07237887382507324,
          0.08269238471984863,
          0.09301185607910156,
          0.10325431823730469,
          0.1135859489440918,
          0.12384533882141113,
          0.13416218757629395,
          0.14450454711914062,
          0.1547679901123047,
          0.16508841514587402,
          0.1753535270690918,
          0.18555068969726562,
          0.19582581520080566,
          0.20615196228027344,
          0.21649384498596191,
          0.22675347328186035,
          0.23706865310668945,
          0.24733448028564453,
          0.25766706466674805,
          0.267927885055542,
          0.2782588005065918,
          0.28859543800354004,
          0.2988600730895996,
          0.30917954444885254,
          0.3194401264190674,
          0.32976245880126953,
          0.3400871753692627,
          0.3504180908203125,
          0.360759973526001,
          0.3710293769836426,
          0.3813602924346924,
          0.3916914463043213,
          0.40201592445373535,
          0.4123373031616211,
          0.4226548671722412,
          0.4329843521118164,
          0.4432520866394043,
          0.45360636711120605,
          0.4639315605163574,
          0.4742543697357178,
          0.48459959030151367,
          0.4949302673339844,
          0.5052614212036133,
          0.5155293941497803,
          0.525862455368042,
          0.5361871719360352,
          0.5465278625488281,
          0.5568592548370361,
          0.5671219825744629,
          0.5774705410003662,
          0.5877583026885986,
          0.5980937480926514,
          0.6084599494934082,
          0.6187331676483154,
          0.6290688514709473,
          0.6393380165100098,
          0.6496593952178955,
          0.6599249839782715,
          0.6702675819396973,
          0.6806085109710693,
          0.6908886432647705,
          0.7012252807617188,
          0.7114994525909424,
          0.7218232154846191,
          0.7321522235870361,
          0.7425000667572021,
          0.7528400421142578,
          0.763115406036377,
          0.773470401763916,
          0.7837541103363037,
          0.7940859794616699,
          0.8044140338897705,
          0.8146891593933105,
          0.8250131607055664,
          0.8352823257446289,
          0.8456201553344727,
          0.8558797836303711,
          0.8662259578704834,
          0.8765819072723389,
          0.8868627548217773,
          0.8971974849700928,
          0.907498836517334,
          0.917832612991333,
          0.9281549453735352,
          0.9384269714355469,
          0.9487709999084473,
          0.9590377807617188,
          0.9693772792816162,
          0.9797167778015137,
          0.9900398254394531,
          1.0003726482391357,
          1.0107052326202393,
          1.021026611328125,
          1.0312974452972412,
          1.0416362285614014,
          1.0519073009490967,
          1.0622467994689941,
          1.0725834369659424,
          1.0828490257263184,
          1.0931780338287354,
          1.1034753322601318,
          1.113800048828125,
          1.124129295349121,
          1.1344895362854004,
          1.1448209285736084,
          1.1550958156585693,
          1.1654579639434814,
          1.1757404804229736,
          1.186072826385498,
          1.196404218673706,
          1.2067415714263916,
          1.2170705795288086,
          1.227346658706665,
          1.2376878261566162,
          1.2480227947235107,
          1.2583613395690918,
          1.2687041759490967,
          1.2789783477783203,
          1.2893078327178955,
          1.2995781898498535,
          1.309924840927124,
          1.3202576637268066,
          1.3306269645690918,
          1.3409676551818848,
          1.3512463569641113,
          1.3615992069244385,
          1.3718740940093994,
          1.3822097778320312,
          1.392554521560669,
          1.4028370380401611,
          1.4132380485534668,
          1.4235129356384277,
          1.4338514804840088,
          1.444124460220337,
          1.4544827938079834,
          1.4647443294525146,
          1.475017786026001,
          1.4853453636169434,
          1.4956281185150146,
          1.5059773921966553,
          1.516312599182129,
          1.5266525745391846,
          1.5370020866394043,
          1.5472688674926758,
          1.5576002597808838,
          1.5678684711456299,
          1.5781996250152588,
          1.5885388851165771,
          1.5988714694976807,
          1.6092140674591064,
          1.6194970607757568,
          1.6298272609710693,
          1.6401524543762207,
          1.650505781173706,
          1.6608469486236572,
          1.6711275577545166,
          1.681467056274414,
          1.6917510032653809,
          1.7020759582519531,
          1.712414026260376,
          1.7227637767791748,
          1.7331061363220215,
          1.7433803081512451,
          1.7537150382995605,
          1.7640557289123535,
          1.7743878364562988,
          1.7847387790679932,
          1.7950794696807861,
          1.805443286895752,
          1.8157391548156738,
          1.8260774612426758,
          1.8364393711090088,
          1.8467128276824951,
          1.857050895690918,
          1.8673386573791504,
          1.8776803016662598,
          1.8880245685577393,
          1.8983633518218994,
          1.9086947441101074,
          1.9189677238464355,
          1.9293007850646973,
          1.9395840167999268,
          1.949920654296875,
          1.960254430770874,
          1.9706084728240967,
          1.9809505939483643,
          1.9912188053131104,
          2.0015783309936523,
          2.011850118637085,
          2.022190570831299,
          2.032533645629883,
          2.0428032875061035,
          2.053154468536377,
          2.063458204269409,
          2.073794364929199,
          2.0841317176818848,
          2.0944838523864746,
          2.1048219203948975,
          2.1150994300842285,
          2.1254689693450928,
          2.1357662677764893,
          2.1461069583892822,
          2.1564595699310303,
          2.1667284965515137,
          2.1770846843719482,
          2.1873435974121094,
          2.19766902923584,
          2.207932949066162,
          2.218262195587158,
          2.228598117828369,
          2.238863945007324,
          2.249194860458374,
          2.259467363357544,
          2.2697858810424805,
          2.280123472213745,
          2.2904751300811768,
          2.300800323486328,
          2.3110692501068115,
          2.321406126022339,
          2.3317477703094482,
          2.3420815467834473,
          2.3524186611175537,
          2.362708806991577,
          2.373040199279785,
          2.3833112716674805,
          2.3936409950256348,
          2.4039242267608643,
          2.4142520427703857,
          2.4246044158935547,
          2.434880495071411,
          2.4452168941497803,
          2.455496072769165,
          2.465825080871582,
          2.476165533065796,
          2.4865198135375977,
          2.4968438148498535,
          2.5071072578430176,
          2.5174672603607178,
          2.5277607440948486,
          2.538100481033325,
          2.548459529876709,
          2.558730125427246,
          2.5690622329711914,
          2.5793299674987793,
          2.589658498764038,
          2.5999338626861572,
          2.6102659702301025,
          2.620595932006836,
          2.6308765411376953,
          2.6412112712860107,
          2.6515090465545654,
          2.661839485168457,
          2.672168731689453,
          2.6824607849121094,
          2.6927835941314697,
          2.7030575275421143,
          2.7134056091308594,
          2.7237586975097656,
          2.7340919971466064,
          2.744440793991089,
          2.7547154426574707,
          2.7650585174560547,
          2.7753357887268066,
          2.785682201385498,
          2.796015501022339,
          2.8063480854034424,
          2.8167033195495605,
          2.8269896507263184,
          2.8373286724090576,
          2.847614049911499,
          2.8579511642456055,
          2.8682773113250732,
          2.878671646118164,
          2.889065980911255,
          2.899413824081421,
          2.909794569015503,
          2.920191764831543,
          2.9306037425994873,
          2.9409918785095215,
          2.9513399600982666,
          2.961738348007202,
          2.972139358520508,
          2.982555866241455,
          2.992955207824707,
          3.0032966136932373,
          3.0136966705322266,
          3.0240285396575928,
          3.0344624519348145,
          3.044858694076538,
          3.0551886558532715,
          3.0656044483184814,
          3.075939655303955,
          3.086268663406372,
          3.0966622829437256,
          3.1069958209991455,
          3.11738920211792,
          3.127812147140503,
          3.1382124423980713,
          3.1486239433288574,
          3.158956289291382,
          3.1693506240844727,
          3.1797537803649902,
          3.190157175064087,
          3.2005667686462402,
          3.2109038829803467,
          3.2213079929351807,
          3.2316603660583496,
          3.242058038711548,
          3.252479076385498,
          3.2628138065338135,
          3.2732114791870117,
          3.283574104309082,
          3.293973922729492,
          3.304365873336792,
          3.3147904872894287,
          3.325218677520752,
          3.3355712890625,
          3.3459651470184326,
          3.356351852416992,
          3.3667454719543457,
          3.3771402835845947,
          3.3874826431274414,
          3.397878408432007,
          3.4082798957824707,
          3.4186925888061523,
          3.429091453552246,
          3.4394407272338867,
          3.4498305320739746,
          3.460218906402588,
          3.4706437587738037,
          3.4810409545898438,
          3.49137020111084,
          3.5017738342285156,
          3.512176752090454,
          3.5225884914398193,
          3.5329818725585938,
          3.543323040008545,
          3.5537238121032715,
          3.564119338989258,
          3.5745365619659424,
          3.584925413131714,
          3.5952610969543457,
          3.6056597232818604,
          3.615994691848755,
          3.6264054775238037,
          3.6368279457092285,
          3.6471643447875977,
          3.657595634460449,
          3.6680123805999756,
          3.6784183979034424,
          3.6888272762298584,
          3.6991665363311768,
          3.709595203399658,
          3.719923496246338,
          3.730323076248169,
          3.740718126296997,
          3.7510554790496826,
          3.7614810466766357,
          3.771834373474121,
          3.7822439670562744,
          3.7926642894744873,
          3.8030099868774414,
          3.8134119510650635,
          3.82383131980896,
          3.834228992462158,
          3.8446428775787354,
          3.854978322982788,
          3.8653807640075684,
          3.875802755355835,
          3.8862037658691406,
          3.8966166973114014,
          3.9069480895996094,
          3.9173471927642822,
          3.9277541637420654,
          3.9381601810455322,
          3.9485785961151123,
          3.9589264392852783,
          3.9693315029144287,
          3.9797327518463135,
          3.990121364593506,
          4.00053858757019,
          4.01093864440918,
          4.021342039108276,
          4.031735181808472,
          4.042139768600464,
          4.052555561065674,
          4.062894344329834,
          4.0732808113098145,
          4.083622694015503,
          4.094032526016235,
          4.104451894760132,
          4.114790201187134,
          4.1251935958862305,
          4.1355390548706055,
          4.145931243896484,
          4.156323432922363,
          4.1667234897613525,
          4.177126884460449,
          4.187504053115845,
          4.197909116744995,
          4.2083117961883545,
          4.218724727630615,
          4.229116916656494,
          4.239487886428833,
          4.249882459640503,
          4.26027250289917,
          4.270697116851807,
          4.281101703643799,
          4.291463136672974,
          4.3018598556518555,
          4.3122570514678955,
          4.322675704956055,
          4.333065032958984,
          4.343415975570679,
          4.353807687759399,
          4.36420750617981,
          4.374624252319336,
          4.385012626647949,
          4.395359039306641,
          4.405766010284424,
          4.416125059127808,
          4.42637038230896,
          4.436594486236572,
          4.446749448776245,
          4.456966876983643,
          4.467120170593262,
          4.4773337841033936,
          4.487489700317383,
          4.497705459594727,
          4.5079185962677,
          4.518130540847778,
          4.528342008590698,
          4.538547515869141,
          4.548760175704956,
          4.558911323547363,
          4.569127798080444,
          4.57927942276001,
          4.589501857757568,
          4.599670648574829,
          4.6098833084106445,
          4.62009859085083,
          4.630310297012329,
          4.640525817871094,
          4.650678873062134,
          4.660890102386475,
          4.671042203903198,
          4.681257963180542,
          4.691419839859009,
          4.701633453369141,
          4.711781740188599,
          4.721930742263794,
          4.732146739959717,
          4.742357015609741,
          4.752569913864136,
          4.762723207473755,
          4.772938013076782,
          4.783097267150879,
          4.79331111907959,
          4.803467273712158,
          4.813676118850708,
          4.823824882507324,
          4.833974361419678,
          4.844188690185547,
          4.854408502578735,
          4.86463737487793,
          4.874786376953125,
          4.885000467300415,
          4.8951497077941895,
          4.905360698699951,
          4.915499925613403,
          4.925869941711426,
          4.936263799667358,
          4.946676015853882,
          4.957066059112549,
          4.967407464981079,
          4.977797985076904,
          4.988187789916992,
          4.9986186027526855,
          5.009022951126099,
          5.019353151321411,
          5.029750347137451,
          5.040149927139282,
          5.050567388534546,
          5.0609519481658936,
          5.071287393569946,
          5.081639528274536,
          5.091970920562744,
          5.102362632751465,
          5.112762212753296,
          5.123102426528931,
          5.133530616760254,
          5.143873691558838,
          5.154266119003296,
          5.164666652679443,
          5.175000905990601,
          5.185391664505005,
          5.195811033248901,
          5.206219911575317,
          5.216629505157471,
          5.226965427398682,
          5.237360715866089,
          5.247753858566284,
          5.258084535598755,
          5.268503189086914,
          5.278840065002441,
          5.28924298286438,
          5.2995898723602295,
          5.309987306594849,
          5.320389032363892,
          5.330806493759155,
          5.341202259063721,
          5.351533651351929,
          5.361927509307861,
          5.372315406799316,
          5.382704496383667,
          5.393094778060913,
          5.403437614440918,
          5.4138288497924805,
          5.424225807189941,
          5.434652328491211,
          5.445053577423096,
          5.455376148223877,
          5.46577000617981,
          5.47616171836853,
          5.486579895019531,
          5.496915817260742,
          5.507250785827637,
          5.5176568031311035,
          5.527992248535156,
          5.538404703140259,
          5.548807144165039,
          5.559138536453247,
          5.569551944732666,
          5.579884767532349,
          5.590280055999756,
          5.600674390792847,
          5.611013412475586,
          5.621418714523315,
          5.631793975830078,
          5.642192125320435,
          5.652602910995483,
          5.662936687469482,
          5.673326015472412,
          5.683681964874268,
          5.694080114364624,
          5.704372406005859,
          5.7145915031433105,
          5.724807024002075,
          5.7349607944488525,
          5.745174884796143,
          5.755327224731445,
          5.765540361404419,
          5.775694847106934,
          5.785905838012695,
          5.796120643615723,
          5.8063342571258545,
          5.816549777984619,
          5.826701402664185,
          5.836914777755737,
          5.847066879272461,
          5.857279062271118,
          5.867437124252319,
          5.8776490688323975,
          5.887802839279175,
          5.897952079772949,
          5.908165216445923,
          5.9183759689331055,
          5.928587913513184,
          5.938739061355591,
          5.948951721191406,
          5.959104061126709,
          5.969316005706787,
          5.979471206665039,
          5.989681243896484,
          5.999829053878784,
          6.009977102279663,
          6.020186424255371,
          6.0304036140441895,
          6.040615797042847,
          6.05076789855957,
          6.060982942581177,
          6.071131944656372,
          6.081347703933716,
          6.091501235961914,
          6.101712465286255,
          6.111925840377808,
          6.122137784957886,
          6.13234806060791,
          6.142545461654663,
          6.152753591537476,
          6.162907838821411,
          6.173130035400391,
          6.183288335800171,
          6.193503379821777,
          6.2036683559417725,
          6.213876962661743,
          6.224088430404663,
          6.2342963218688965,
          6.244514465332031,
          6.254677057266235,
          6.26488995552063,
          6.27504301071167,
          6.285257816314697,
          6.2954185009002686,
          6.30562949180603,
          6.315777063369751,
          6.325926303863525,
          6.336139440536499,
          6.346348524093628,
          6.3565590381622314,
          6.366711854934692,
          6.3769237995147705,
          6.387075662612915,
          6.397290945053101,
          6.407447814941406,
          6.41765832901001,
          6.42780613899231,
          6.437954425811768,
          6.448167324066162,
          6.458376169204712,
          6.468587398529053,
          6.478739023208618,
          6.488897323608398,
          6.499048709869385,
          6.509257793426514,
          6.519418001174927,
          6.529659271240234,
          6.539808988571167,
          6.550021648406982,
          6.560307264328003,
          6.570540189743042,
          6.5807530879974365,
          6.590903043746948,
          6.601114273071289,
          6.611265420913696,
          6.621494770050049,
          6.631660223007202,
          6.6418702602386475,
          6.652102470397949,
          6.662312746047974,
          6.672528266906738,
          6.682679176330566,
          6.6928911209106445,
          6.703042268753052,
          6.71325421333313,
          6.723572254180908,
          6.733976125717163,
          6.744377374649048,
          6.754802227020264,
          6.765210866928101,
          6.775568246841431,
          6.785969972610474,
          6.796376466751099,
          6.806786775588989,
          6.817188024520874,
          6.8275368213653564,
          6.8378870487213135,
          6.848288059234619,
          6.858705759048462,
          6.869110822677612,
          6.879472017288208,
          6.8898842334747314,
          6.900282859802246,
          6.910699129104614,
          6.9211039543151855,
          6.931466579437256,
          6.9418721199035645,
          6.952280044555664,
          6.962698221206665,
          6.973105192184448,
          6.983452558517456,
          6.9938578605651855,
          7.004277229309082,
          7.014703035354614,
          7.025114297866821,
          7.035475969314575,
          7.0458855628967285,
          7.056287527084351,
          7.066718339920044,
          7.077131271362305,
          7.087496995925903,
          7.097899913787842,
          7.108303546905518,
          7.11871600151062,
          7.129128456115723,
          7.139490842819214,
          7.149902582168579,
          7.160309553146362,
          7.170721769332886,
          7.1811418533325195,
          7.191497564315796,
          7.201901197433472,
          7.21230411529541,
          7.222713470458984,
          7.2331225872039795,
          7.2434704303741455,
          7.253725051879883,
          7.2639429569244385,
          7.2741618156433105,
          7.28437614440918,
          7.294586420059204,
          7.304798603057861,
          7.314950942993164,
          7.325167894363403,
          7.335320949554443,
          7.345532417297363,
          7.3557448387146,
          7.365957498550415,
          7.376172065734863,
          7.3863844871521,
          7.396602153778076,
          7.406754732131958,
          7.41696834564209,
          7.427120208740234,
          7.437334060668945,
          7.447489023208618,
          7.457700729370117,
          7.467912673950195,
          7.4781248569488525,
          7.4883339405059814,
          7.498548746109009,
          7.508764743804932,
          7.518916368484497,
          7.529130220413208,
          7.5392820835113525,
          7.549492597579956,
          7.559659004211426,
          7.5698676109313965,
          7.580100059509277,
          7.590311527252197,
          7.600523233413696,
          7.610674142837524,
          7.6208882331848145,
          7.631040573120117,
          7.6412513256073,
          7.651410102844238,
          7.661622047424316,
          7.671771049499512,
          7.681919574737549,
          7.692134380340576,
          7.702347040176392,
          7.7125585079193115,
          7.72270941734314,
          7.732923984527588,
          7.743074178695679,
          7.7532854080200195,
          7.763442516326904,
          7.77365517616272,
          7.783802509307861,
          7.794013977050781,
          7.804229259490967,
          7.814460754394531,
          7.824682235717773,
          7.834834337234497,
          7.845048666000366,
          7.855201244354248,
          7.8654398918151855,
          7.875593662261963,
          7.8858113288879395,
          7.89602518081665,
          7.906237363815308,
          7.9164674282073975,
          7.926619529724121,
          7.936830997467041,
          7.946994781494141,
          7.957215785980225,
          7.967369318008423,
          7.977579593658447,
          7.987730264663696
         ],
         "y": [
          0,
          9.77734375,
          19.77734375,
          29.98828125,
          39.98828125,
          49.98828125,
          59.98828125,
          69.98828125,
          79.98828125,
          89.98828125,
          99.98828125,
          109.98828125,
          119.98828125,
          131.98828125,
          141.98828125,
          151.98828125,
          161.98828125,
          171.98828125,
          181.9921875,
          191.9921875,
          201.9921875,
          211.9921875,
          221.9921875,
          231.9921875,
          243.9921875,
          253.9921875,
          263.9921875,
          273.9921875,
          283.9921875,
          293.9921875,
          303.9921875,
          313.9921875,
          323.9921875,
          335.9921875,
          345.9921875,
          355.9921875,
          365.9921875,
          375.9921875,
          385.9921875,
          395.9921875,
          405.9921875,
          417.9921875,
          427.9921875,
          437.9921875,
          447.9921875,
          457.9921875,
          467.9921875,
          477.9921875,
          489.9921875,
          499.9921875,
          509.9921875,
          519.9921875,
          529.9921875,
          539.9921875,
          549.9921875,
          559.9921875,
          569.9921875,
          581.9921875,
          591.9921875,
          601.9921875,
          611.9921875,
          621.9921875,
          631.9921875,
          641.9921875,
          651.9921875,
          663.9921875,
          673.9921875,
          683.9921875,
          693.9921875,
          703.9921875,
          713.9921875,
          723.9921875,
          733.9921875,
          743.9921875,
          755.9921875,
          765.9921875,
          775.9921875,
          785.9921875,
          795.9921875,
          805.9921875,
          815.9921875,
          825.9921875,
          835.9921875,
          845.9921875,
          857.9921875,
          867.9921875,
          877.9921875,
          887.9921875,
          897.9921875,
          907.9921875,
          917.9921875,
          927.9921875,
          937.9921875,
          949.9921875,
          959.9921875,
          969.9921875,
          979.9921875,
          989.9921875,
          999.9921875,
          1009.9921875,
          1019.9921875,
          1031.9921875,
          1041.9921875,
          1051.9921875,
          1061.9921875,
          1071.9921875,
          1081.9921875,
          1091.9921875,
          1101.9921875,
          1111.9921875,
          1123.9921875,
          1133.9921875,
          1143.9921875,
          1153.9921875,
          1163.9921875,
          1173.9921875,
          1183.9921875,
          1193.9921875,
          1203.9921875,
          1213.9921875,
          1225.9921875,
          1235.9921875,
          1245.9921875,
          1255.9921875,
          1265.9921875,
          1275.9921875,
          1285.9921875,
          1295.9921875,
          1305.9921875,
          1317.9921875,
          1327.9921875,
          1337.9921875,
          1347.9921875,
          1357.9921875,
          1367.9921875,
          1377.9921875,
          1387.9921875,
          1397.9921875,
          1409.9921875,
          1419.9921875,
          1429.9921875,
          1439.9921875,
          1449.9921875,
          1459.9921875,
          1469.9921875,
          1479.9921875,
          1491.9921875,
          1501.9921875,
          1511.9921875,
          1521.9921875,
          1531.9921875,
          1541.9921875,
          1551.9921875,
          1561.9921875,
          1571.9921875,
          1583.9921875,
          1593.9921875,
          1603.9921875,
          1613.9921875,
          1623.9921875,
          1633.9921875,
          1645.9921875,
          1655.9921875,
          1665.9921875,
          1675.9921875,
          1685.9921875,
          1695.9921875,
          1705.9921875,
          1717.9921875,
          1727.9921875,
          1737.9921875,
          1747.9921875,
          1757.9921875,
          1767.9921875,
          1777.9921875,
          1789.9921875,
          1799.9921875,
          1809.9921875,
          1819.9921875,
          1829.9921875,
          1839.9921875,
          1851.9921875,
          1861.9921875,
          1871.9921875,
          1881.9921875,
          1891.9921875,
          1901.9921875,
          1913.9921875,
          1923.9921875,
          1933.9921875,
          1943.9921875,
          1953.9921875,
          1963.9921875,
          1973.9921875,
          1985.9921875,
          1995.9921875,
          2005.9921875,
          2015.9921875,
          2025.9921875,
          2037.9921875,
          2047.9921875,
          2057.9921875,
          2067.9921875,
          2077.9921875,
          2087.9921875,
          2097.9921875,
          2109.9921875,
          2119.9921875,
          2129.9921875,
          2139.9921875,
          2149.9921875,
          2159.9921875,
          2169.9921875,
          2181.9921875,
          2191.9921875,
          2201.9921875,
          2211.9921875,
          2221.9921875,
          2231.9921875,
          2241.9921875,
          2251.9921875,
          2263.9921875,
          2273.9921875,
          2283.9921875,
          2293.9921875,
          2303.9921875,
          2313.9921875,
          2325.9921875,
          2335.9921875,
          2345.9921875,
          2355.9921875,
          2365.9921875,
          2375.9921875,
          2387.9921875,
          2397.9921875,
          2407.9921875,
          2417.9921875,
          2427.9921875,
          2437.9921875,
          2449.9921875,
          2459.9921875,
          2469.9921875,
          2479.9921875,
          2489.9921875,
          2499.9921875,
          2511.9921875,
          2521.9921875,
          2531.9921875,
          2541.9921875,
          2551.9921875,
          2561.9921875,
          2571.9921875,
          2583.9921875,
          2593.9921875,
          2603.9921875,
          2613.9921875,
          2623.9921875,
          2635.9921875,
          2645.9921875,
          2655.9921875,
          2665.9921875,
          2675.9921875,
          2687.9921875,
          2697.9921875,
          2707.9921875,
          2717.9921875,
          2727.9921875,
          2737.9921875,
          2749.9921875,
          2759.9921875,
          2769.9921875,
          2779.9921875,
          2789.9921875,
          2799.9921875,
          2811.9921875,
          2821.9921875,
          2831.9921875,
          2841.9921875,
          2851.1796875,
          2887.21875,
          2925.21875,
          2963.21875,
          3001.21875,
          3041.21875,
          3079.21875,
          3117.21875,
          3157.21875,
          3195.21875,
          3233.21875,
          3271.21875,
          3309.21875,
          3349.21875,
          3387.21875,
          3427.21875,
          3467.21875,
          3505.21875,
          3543.21875,
          3581.21875,
          3619.21875,
          3657.21875,
          3697.21875,
          3735.21875,
          3773.21875,
          3811.21875,
          3851.21875,
          3889.21875,
          3927.21875,
          3965.21875,
          4005.21875,
          4043.21875,
          4081.21875,
          4119.21875,
          4159.21875,
          4197.21875,
          4235.21875,
          4273.21875,
          4313.21875,
          4351.21875,
          4389.21875,
          4429.21875,
          4467.21875,
          4507.21875,
          4545.21875,
          4583.21875,
          4621.21875,
          4659.21875,
          4697.21875,
          4735.21875,
          4773.21875,
          4813.21875,
          4851.21875,
          4889.21875,
          4927.21875,
          4965.21875,
          5003.21875,
          5041.21875,
          5081.21875,
          5119.21875,
          5159.21875,
          5197.21875,
          5235.21875,
          5273.21875,
          5311.21875,
          5349.21875,
          5389.21875,
          5427.21875,
          5465.21875,
          5503.21875,
          5541.21875,
          5579.21875,
          5617.21875,
          5657.21875,
          5695.21875,
          5732.375,
          5770.375,
          5810.4453125,
          5848.4453125,
          5886.4453125,
          5926.4453125,
          5964.4453125,
          6002.4453125,
          6042.4453125,
          6080.4453125,
          6118.4453125,
          6156.4453125,
          6194.4453125,
          6232.4453125,
          6272.4453125,
          6310.4453125,
          6348.4453125,
          6386.4453125,
          6426.4453125,
          6464.4453125,
          6502.4453125,
          6540.4453125,
          6580.4453125,
          6618.4453125,
          6656.4453125,
          6694.4453125,
          6732.4453125,
          6772.4453125,
          6810.4453125,
          6848.4453125,
          6888.4453125,
          6926.4453125,
          6964.4453125,
          7002.4453125,
          7040.4453125,
          7080.4453125,
          7118.4453125,
          7156.4453125,
          7196.4453125,
          7234.4453125,
          7272.4453125,
          7310.4453125,
          7348.4453125,
          7388.4453125,
          7426.4453125,
          7464.4453125,
          7504.4453125,
          7542.4453125,
          7580.4453125,
          7618.4453125,
          7656.4453125,
          7696.4453125,
          7734.4453125,
          7774.4453125,
          7812.4453125,
          7850.4453125,
          7888.4453125,
          7928.4453125,
          7966.4453125,
          8004.4453125,
          8044.4453125,
          8082.4453125,
          8120.4453125,
          8160.4453125,
          8198.4453125,
          8236.4453125,
          8274.4453125,
          8312.4453125,
          8350.4453125,
          8390.4453125,
          8428.4453125,
          8466.4453125,
          8506.4453125,
          8544.4453125,
          8554.73828125,
          8554.73828125,
          8554.73828125,
          8554.73828125,
          8554.73828125,
          8554.73828125,
          8554.73828125,
          8554.73828125,
          8554.73828125,
          8554.73828125,
          8554.73828125,
          8554.73828125,
          8554.73828125,
          8554.73828125,
          8554.73828125,
          8554.73828125,
          8554.73828125,
          8554.73828125,
          8554.73828125,
          8554.73828125,
          8554.73828125,
          8554.73828125,
          8554.73828125,
          8554.73828125,
          8554.73828125,
          8554.73828125,
          8554.73828125,
          8554.73828125,
          8554.73828125,
          8554.73828125,
          8554.73828125,
          8554.73828125,
          8554.73828125,
          8554.73828125,
          8554.73828125,
          8554.73828125,
          8554.73828125,
          8554.73828125,
          8554.73828125,
          8554.73828125,
          8554.73828125,
          8554.73828125,
          8554.73828125,
          8554.73828125,
          8554.73828125,
          8554.73828125,
          8554.73828125,
          8554.73828125,
          8554.73828125,
          5708.3359375,
          5746.3359375,
          5784.5078125,
          5822.5078125,
          5860.5078125,
          5898.5078125,
          5936.5078125,
          5974.5078125,
          6012.5078125,
          6052.5078125,
          6090.5078125,
          6128.5078125,
          6168.5078125,
          6206.5078125,
          6244.5078125,
          6282.5078125,
          6318.5078125,
          6356.5078125,
          6394.5078125,
          6432.5078125,
          6470.5078125,
          6508.5078125,
          6546.5078125,
          6584.5078125,
          6622.5078125,
          6660.5078125,
          6698.5078125,
          6736.5078125,
          6776.5078125,
          6812.5078125,
          6850.5078125,
          6888.5078125,
          6926.5078125,
          6964.5078125,
          7002.5078125,
          7040.5078125,
          7078.5078125,
          7116.5078125,
          7154.5078125,
          7192.5078125,
          7230.5078125,
          7268.5078125,
          7306.5078125,
          7344.5078125,
          7382.5078125,
          7420.5078125,
          7458.5078125,
          7496.5078125,
          7536.5078125,
          7572.5078125,
          7610.5078125,
          7648.5078125,
          7686.5078125,
          7724.5078125,
          7762.5078125,
          7800.5078125,
          7838.5078125,
          7876.5078125,
          7914.5078125,
          7952.5078125,
          7990.5078125,
          8028.5078125,
          8066.5078125,
          8104.5078125,
          8142.5078125,
          8180.5078125,
          8218.5078125,
          8256.5078125,
          8294.5078125,
          8332.5078125,
          8370.5078125,
          8408.5078125,
          8446.5078125,
          8484.5078125,
          8522.5078125,
          8554.69921875,
          8554.69921875,
          8554.69921875,
          8554.69921875,
          8554.69921875,
          8554.69921875,
          8554.69921875,
          8554.69921875,
          8554.69921875,
          8554.69921875,
          8554.69921875,
          8554.69921875,
          8554.69921875,
          8554.69921875,
          8554.69921875,
          8554.69921875,
          8554.69921875,
          8554.69921875,
          8554.69921875,
          8554.69921875,
          8554.69921875,
          8554.69921875,
          8554.69921875,
          8554.69921875,
          8554.69921875,
          8554.69921875,
          8554.69921875,
          8554.69921875,
          8554.69921875,
          8554.69921875,
          8554.69921875,
          8554.69921875,
          8554.69921875,
          8554.69921875,
          8554.69921875,
          8554.69921875,
          8554.69921875,
          8554.69921875,
          8554.69921875,
          8554.69921875,
          8554.69921875,
          8554.69921875,
          8554.69921875,
          8554.69921875,
          8554.69921875,
          8554.69921875,
          8554.69921875,
          8554.69921875,
          8554.69921875,
          8554.69921875,
          5703.3203125,
          5703.3203125,
          5703.3203125,
          5703.3203125,
          5703.3203125,
          5703.3203125,
          5703.3203125,
          5703.3203125,
          5703.3203125,
          5703.3203125,
          5703.3203125,
          5703.3203125,
          5703.3203125,
          5703.3203125,
          5703.3203125,
          5703.3203125,
          5703.3203125,
          5703.3203125,
          5703.3203125,
          5703.3203125,
          5703.3203125,
          5703.3203125,
          5703.3203125,
          5703.3203125,
          5703.3203125,
          5703.3203125,
          5703.3203125,
          5703.3203125,
          5703.3203125,
          5703.3203125,
          5703.3203125,
          5703.3203125,
          5703.3203125,
          5703.3203125,
          5703.3203125,
          5703.3203125,
          5703.3203125,
          5703.3203125,
          5703.3203125,
          5703.3203125,
          5703.3203125,
          5703.3203125,
          5703.3203125,
          5703.3203125,
          5703.3203125,
          5703.3203125,
          5703.3203125,
          5703.3203125,
          5703.3203125,
          5703.3203125,
          2851.70703125,
          2881.25,
          2939.25,
          2995.28125,
          3053.28125,
          3111.28125,
          3167.28125,
          3223.28125,
          3281.28125,
          3337.28125,
          3395.28125,
          3451.28125,
          3509.28125,
          3565.28125,
          3623.28125,
          3679.28125,
          3735.28125,
          3793.28125,
          3849.28125,
          3907.28125,
          3965.28125,
          4021.28125,
          4079.28125,
          4135.28125,
          4193.28125,
          4249.28125,
          4305.28125,
          4363.28125,
          4419.28125,
          4477.28125,
          4535.28125,
          4591.28125,
          4649.28125,
          4705.28125,
          4763.28125,
          4821.28125,
          4877.28125,
          4935.28125,
          4991.28125,
          5049.28125,
          5105.28125,
          5161.28125,
          5219.28125,
          5275.28125,
          5333.28125,
          5389.28125,
          5447.28125,
          5503.28125,
          5561.28125,
          5619.28125,
          5675.28125,
          5703.28125,
          5703.28125,
          5703.28125,
          5703.28125,
          5703.28125,
          5703.28125,
          5703.28125,
          5703.28125,
          5703.28125,
          5703.28125,
          5703.28125,
          5703.28125,
          5703.28125,
          5703.28125,
          5703.28125,
          5703.28125,
          5703.28125,
          5703.28125,
          5703.28125,
          5703.28125,
          5703.28125,
          5703.28125,
          5703.28125,
          5703.28125,
          5703.28125,
          5703.28125,
          5703.28125,
          5703.28125,
          5703.28125,
          5703.28125,
          5703.28125,
          5703.28125,
          5703.28125,
          5703.28125,
          5703.28125,
          5703.28125,
          5703.28125,
          5703.28125,
          5703.28125,
          5703.28125,
          5703.28125,
          5703.28125,
          5703.28125,
          5703.28125,
          5703.28125,
          5703.28125,
          5703.28125,
          5703.28125,
          5703.28125,
          5703.28125,
          5703.28125,
          5703.28125,
          5703.28125,
          5703.28125,
          5703.28125,
          5703.28125,
          5703.28125,
          5703.28125,
          5703.28125,
          5703.28125,
          5703.28125,
          5703.28125,
          5703.28125,
          5703.28125,
          5703.28125,
          5703.28125,
          5703.28125,
          5703.28125,
          5703.28125,
          5703.28125,
          5703.28125,
          5703.28125,
          5703.28125,
          5703.28125
         ]
        }
       ],
       "layout": {
        "template": {
         "data": {
          "bar": [
           {
            "error_x": {
             "color": "#2a3f5f"
            },
            "error_y": {
             "color": "#2a3f5f"
            },
            "marker": {
             "line": {
              "color": "#E5ECF6",
              "width": 0.5
             }
            },
            "type": "bar"
           }
          ],
          "barpolar": [
           {
            "marker": {
             "line": {
              "color": "#E5ECF6",
              "width": 0.5
             }
            },
            "type": "barpolar"
           }
          ],
          "carpet": [
           {
            "aaxis": {
             "endlinecolor": "#2a3f5f",
             "gridcolor": "white",
             "linecolor": "white",
             "minorgridcolor": "white",
             "startlinecolor": "#2a3f5f"
            },
            "baxis": {
             "endlinecolor": "#2a3f5f",
             "gridcolor": "white",
             "linecolor": "white",
             "minorgridcolor": "white",
             "startlinecolor": "#2a3f5f"
            },
            "type": "carpet"
           }
          ],
          "choropleth": [
           {
            "colorbar": {
             "outlinewidth": 0,
             "ticks": ""
            },
            "type": "choropleth"
           }
          ],
          "contour": [
           {
            "colorbar": {
             "outlinewidth": 0,
             "ticks": ""
            },
            "colorscale": [
             [
              0,
              "#0d0887"
             ],
             [
              0.1111111111111111,
              "#46039f"
             ],
             [
              0.2222222222222222,
              "#7201a8"
             ],
             [
              0.3333333333333333,
              "#9c179e"
             ],
             [
              0.4444444444444444,
              "#bd3786"
             ],
             [
              0.5555555555555556,
              "#d8576b"
             ],
             [
              0.6666666666666666,
              "#ed7953"
             ],
             [
              0.7777777777777778,
              "#fb9f3a"
             ],
             [
              0.8888888888888888,
              "#fdca26"
             ],
             [
              1,
              "#f0f921"
             ]
            ],
            "type": "contour"
           }
          ],
          "contourcarpet": [
           {
            "colorbar": {
             "outlinewidth": 0,
             "ticks": ""
            },
            "type": "contourcarpet"
           }
          ],
          "heatmap": [
           {
            "colorbar": {
             "outlinewidth": 0,
             "ticks": ""
            },
            "colorscale": [
             [
              0,
              "#0d0887"
             ],
             [
              0.1111111111111111,
              "#46039f"
             ],
             [
              0.2222222222222222,
              "#7201a8"
             ],
             [
              0.3333333333333333,
              "#9c179e"
             ],
             [
              0.4444444444444444,
              "#bd3786"
             ],
             [
              0.5555555555555556,
              "#d8576b"
             ],
             [
              0.6666666666666666,
              "#ed7953"
             ],
             [
              0.7777777777777778,
              "#fb9f3a"
             ],
             [
              0.8888888888888888,
              "#fdca26"
             ],
             [
              1,
              "#f0f921"
             ]
            ],
            "type": "heatmap"
           }
          ],
          "heatmapgl": [
           {
            "colorbar": {
             "outlinewidth": 0,
             "ticks": ""
            },
            "colorscale": [
             [
              0,
              "#0d0887"
             ],
             [
              0.1111111111111111,
              "#46039f"
             ],
             [
              0.2222222222222222,
              "#7201a8"
             ],
             [
              0.3333333333333333,
              "#9c179e"
             ],
             [
              0.4444444444444444,
              "#bd3786"
             ],
             [
              0.5555555555555556,
              "#d8576b"
             ],
             [
              0.6666666666666666,
              "#ed7953"
             ],
             [
              0.7777777777777778,
              "#fb9f3a"
             ],
             [
              0.8888888888888888,
              "#fdca26"
             ],
             [
              1,
              "#f0f921"
             ]
            ],
            "type": "heatmapgl"
           }
          ],
          "histogram": [
           {
            "marker": {
             "colorbar": {
              "outlinewidth": 0,
              "ticks": ""
             }
            },
            "type": "histogram"
           }
          ],
          "histogram2d": [
           {
            "colorbar": {
             "outlinewidth": 0,
             "ticks": ""
            },
            "colorscale": [
             [
              0,
              "#0d0887"
             ],
             [
              0.1111111111111111,
              "#46039f"
             ],
             [
              0.2222222222222222,
              "#7201a8"
             ],
             [
              0.3333333333333333,
              "#9c179e"
             ],
             [
              0.4444444444444444,
              "#bd3786"
             ],
             [
              0.5555555555555556,
              "#d8576b"
             ],
             [
              0.6666666666666666,
              "#ed7953"
             ],
             [
              0.7777777777777778,
              "#fb9f3a"
             ],
             [
              0.8888888888888888,
              "#fdca26"
             ],
             [
              1,
              "#f0f921"
             ]
            ],
            "type": "histogram2d"
           }
          ],
          "histogram2dcontour": [
           {
            "colorbar": {
             "outlinewidth": 0,
             "ticks": ""
            },
            "colorscale": [
             [
              0,
              "#0d0887"
             ],
             [
              0.1111111111111111,
              "#46039f"
             ],
             [
              0.2222222222222222,
              "#7201a8"
             ],
             [
              0.3333333333333333,
              "#9c179e"
             ],
             [
              0.4444444444444444,
              "#bd3786"
             ],
             [
              0.5555555555555556,
              "#d8576b"
             ],
             [
              0.6666666666666666,
              "#ed7953"
             ],
             [
              0.7777777777777778,
              "#fb9f3a"
             ],
             [
              0.8888888888888888,
              "#fdca26"
             ],
             [
              1,
              "#f0f921"
             ]
            ],
            "type": "histogram2dcontour"
           }
          ],
          "mesh3d": [
           {
            "colorbar": {
             "outlinewidth": 0,
             "ticks": ""
            },
            "type": "mesh3d"
           }
          ],
          "parcoords": [
           {
            "line": {
             "colorbar": {
              "outlinewidth": 0,
              "ticks": ""
             }
            },
            "type": "parcoords"
           }
          ],
          "pie": [
           {
            "automargin": true,
            "type": "pie"
           }
          ],
          "scatter": [
           {
            "marker": {
             "colorbar": {
              "outlinewidth": 0,
              "ticks": ""
             }
            },
            "type": "scatter"
           }
          ],
          "scatter3d": [
           {
            "line": {
             "colorbar": {
              "outlinewidth": 0,
              "ticks": ""
             }
            },
            "marker": {
             "colorbar": {
              "outlinewidth": 0,
              "ticks": ""
             }
            },
            "type": "scatter3d"
           }
          ],
          "scattercarpet": [
           {
            "marker": {
             "colorbar": {
              "outlinewidth": 0,
              "ticks": ""
             }
            },
            "type": "scattercarpet"
           }
          ],
          "scattergeo": [
           {
            "marker": {
             "colorbar": {
              "outlinewidth": 0,
              "ticks": ""
             }
            },
            "type": "scattergeo"
           }
          ],
          "scattergl": [
           {
            "marker": {
             "colorbar": {
              "outlinewidth": 0,
              "ticks": ""
             }
            },
            "type": "scattergl"
           }
          ],
          "scattermapbox": [
           {
            "marker": {
             "colorbar": {
              "outlinewidth": 0,
              "ticks": ""
             }
            },
            "type": "scattermapbox"
           }
          ],
          "scatterpolar": [
           {
            "marker": {
             "colorbar": {
              "outlinewidth": 0,
              "ticks": ""
             }
            },
            "type": "scatterpolar"
           }
          ],
          "scatterpolargl": [
           {
            "marker": {
             "colorbar": {
              "outlinewidth": 0,
              "ticks": ""
             }
            },
            "type": "scatterpolargl"
           }
          ],
          "scatterternary": [
           {
            "marker": {
             "colorbar": {
              "outlinewidth": 0,
              "ticks": ""
             }
            },
            "type": "scatterternary"
           }
          ],
          "surface": [
           {
            "colorbar": {
             "outlinewidth": 0,
             "ticks": ""
            },
            "colorscale": [
             [
              0,
              "#0d0887"
             ],
             [
              0.1111111111111111,
              "#46039f"
             ],
             [
              0.2222222222222222,
              "#7201a8"
             ],
             [
              0.3333333333333333,
              "#9c179e"
             ],
             [
              0.4444444444444444,
              "#bd3786"
             ],
             [
              0.5555555555555556,
              "#d8576b"
             ],
             [
              0.6666666666666666,
              "#ed7953"
             ],
             [
              0.7777777777777778,
              "#fb9f3a"
             ],
             [
              0.8888888888888888,
              "#fdca26"
             ],
             [
              1,
              "#f0f921"
             ]
            ],
            "type": "surface"
           }
          ],
          "table": [
           {
            "cells": {
             "fill": {
              "color": "#EBF0F8"
             },
             "line": {
              "color": "white"
             }
            },
            "header": {
             "fill": {
              "color": "#C8D4E3"
             },
             "line": {
              "color": "white"
             }
            },
            "type": "table"
           }
          ]
         },
         "layout": {
          "annotationdefaults": {
           "arrowcolor": "#2a3f5f",
           "arrowhead": 0,
           "arrowwidth": 1
          },
          "autotypenumbers": "strict",
          "coloraxis": {
           "colorbar": {
            "outlinewidth": 0,
            "ticks": ""
           }
          },
          "colorscale": {
           "diverging": [
            [
             0,
             "#8e0152"
            ],
            [
             0.1,
             "#c51b7d"
            ],
            [
             0.2,
             "#de77ae"
            ],
            [
             0.3,
             "#f1b6da"
            ],
            [
             0.4,
             "#fde0ef"
            ],
            [
             0.5,
             "#f7f7f7"
            ],
            [
             0.6,
             "#e6f5d0"
            ],
            [
             0.7,
             "#b8e186"
            ],
            [
             0.8,
             "#7fbc41"
            ],
            [
             0.9,
             "#4d9221"
            ],
            [
             1,
             "#276419"
            ]
           ],
           "sequential": [
            [
             0,
             "#0d0887"
            ],
            [
             0.1111111111111111,
             "#46039f"
            ],
            [
             0.2222222222222222,
             "#7201a8"
            ],
            [
             0.3333333333333333,
             "#9c179e"
            ],
            [
             0.4444444444444444,
             "#bd3786"
            ],
            [
             0.5555555555555556,
             "#d8576b"
            ],
            [
             0.6666666666666666,
             "#ed7953"
            ],
            [
             0.7777777777777778,
             "#fb9f3a"
            ],
            [
             0.8888888888888888,
             "#fdca26"
            ],
            [
             1,
             "#f0f921"
            ]
           ],
           "sequentialminus": [
            [
             0,
             "#0d0887"
            ],
            [
             0.1111111111111111,
             "#46039f"
            ],
            [
             0.2222222222222222,
             "#7201a8"
            ],
            [
             0.3333333333333333,
             "#9c179e"
            ],
            [
             0.4444444444444444,
             "#bd3786"
            ],
            [
             0.5555555555555556,
             "#d8576b"
            ],
            [
             0.6666666666666666,
             "#ed7953"
            ],
            [
             0.7777777777777778,
             "#fb9f3a"
            ],
            [
             0.8888888888888888,
             "#fdca26"
            ],
            [
             1,
             "#f0f921"
            ]
           ]
          },
          "colorway": [
           "#636efa",
           "#EF553B",
           "#00cc96",
           "#ab63fa",
           "#FFA15A",
           "#19d3f3",
           "#FF6692",
           "#B6E880",
           "#FF97FF",
           "#FECB52"
          ],
          "font": {
           "color": "#2a3f5f"
          },
          "geo": {
           "bgcolor": "white",
           "lakecolor": "white",
           "landcolor": "#E5ECF6",
           "showlakes": true,
           "showland": true,
           "subunitcolor": "white"
          },
          "hoverlabel": {
           "align": "left"
          },
          "hovermode": "closest",
          "mapbox": {
           "style": "light"
          },
          "paper_bgcolor": "white",
          "plot_bgcolor": "#E5ECF6",
          "polar": {
           "angularaxis": {
            "gridcolor": "white",
            "linecolor": "white",
            "ticks": ""
           },
           "bgcolor": "#E5ECF6",
           "radialaxis": {
            "gridcolor": "white",
            "linecolor": "white",
            "ticks": ""
           }
          },
          "scene": {
           "xaxis": {
            "backgroundcolor": "#E5ECF6",
            "gridcolor": "white",
            "gridwidth": 2,
            "linecolor": "white",
            "showbackground": true,
            "ticks": "",
            "zerolinecolor": "white"
           },
           "yaxis": {
            "backgroundcolor": "#E5ECF6",
            "gridcolor": "white",
            "gridwidth": 2,
            "linecolor": "white",
            "showbackground": true,
            "ticks": "",
            "zerolinecolor": "white"
           },
           "zaxis": {
            "backgroundcolor": "#E5ECF6",
            "gridcolor": "white",
            "gridwidth": 2,
            "linecolor": "white",
            "showbackground": true,
            "ticks": "",
            "zerolinecolor": "white"
           }
          },
          "shapedefaults": {
           "line": {
            "color": "#2a3f5f"
           }
          },
          "ternary": {
           "aaxis": {
            "gridcolor": "white",
            "linecolor": "white",
            "ticks": ""
           },
           "baxis": {
            "gridcolor": "white",
            "linecolor": "white",
            "ticks": ""
           },
           "bgcolor": "#E5ECF6",
           "caxis": {
            "gridcolor": "white",
            "linecolor": "white",
            "ticks": ""
           }
          },
          "title": {
           "x": 0.05
          },
          "xaxis": {
           "automargin": true,
           "gridcolor": "white",
           "linecolor": "white",
           "ticks": "",
           "title": {
            "standoff": 15
           },
           "zerolinecolor": "white",
           "zerolinewidth": 2
          },
          "yaxis": {
           "automargin": true,
           "gridcolor": "white",
           "linecolor": "white",
           "ticks": "",
           "title": {
            "standoff": 15
           },
           "zerolinecolor": "white",
           "zerolinewidth": 2
          }
         }
        },
        "title": {
         "text": "Transcendental expression",
         "x": 0.5,
         "xanchor": "center",
         "y": 0.9,
         "yanchor": "top"
        },
        "xaxis": {
         "title": {
          "text": "Time (in seconds)"
         }
        },
        "yaxis": {
         "title": {
          "text": "Memory used (in MiB)"
         }
        }
       }
      },
      "text/html": [
       "<div>                            <div id=\"0a1eb3ac-a25a-4d34-9f0b-07c2236eb22b\" class=\"plotly-graph-div\" style=\"height:525px; width:100%;\"></div>            <script type=\"text/javascript\">                require([\"plotly\"], function(Plotly) {                    window.PLOTLYENV=window.PLOTLYENV || {};                                    if (document.getElementById(\"0a1eb3ac-a25a-4d34-9f0b-07c2236eb22b\")) {                    Plotly.newPlot(                        \"0a1eb3ac-a25a-4d34-9f0b-07c2236eb22b\",                        [{\"mode\": \"lines\", \"name\": \"ia_trans\", \"type\": \"scatter\", \"x\": [0.000377655029296875, 0.010696887969970703, 0.02097344398498535, 0.03129744529724121, 0.04164695739746094, 0.05202937126159668, 0.06271004676818848, 0.07340574264526367, 0.08377695083618164, 0.09415054321289062, 0.10454773902893066, 0.11495137214660645, 0.12533807754516602, 0.13578414916992188, 0.14619851112365723, 0.1565992832183838, 0.16699576377868652, 0.1773056983947754, 0.18767094612121582, 0.19798874855041504, 0.20828604698181152, 0.21904611587524414, 0.22942304611206055, 0.2398216724395752, 0.2502169609069824, 0.2605254650115967, 0.2714271545410156, 0.2818164825439453, 0.292482852935791, 0.30316853523254395, 0.3135840892791748, 0.324033260345459, 0.3343932628631592, 0.3447842597961426, 0.3551456928253174, 0.3657650947570801, 0.37628650665283203, 0.38666462898254395, 0.39704036712646484, 0.4074211120605469, 0.4177854061126709, 0.42815256118774414, 0.4385385513305664, 0.44922947883605957, 0.4597153663635254, 0.4700894355773926, 0.48047399520874023, 0.4907979965209961, 0.501288890838623, 0.5117261409759521, 0.5221188068389893, 0.5325009822845459, 0.5428788661956787, 0.553272008895874, 0.5636591911315918, 0.5740270614624023, 0.584414005279541, 0.594874382019043, 0.60528564453125, 0.6156861782073975, 0.6264550685882568, 0.6369061470031738, 0.6472868919372559, 0.6576712131500244, 0.6680388450622559, 0.6784095764160156, 0.6888210773468018, 0.699195146560669, 0.7095780372619629, 0.7199723720550537, 0.7303493022918701, 0.7407503128051758, 0.75105881690979, 0.7614338397979736, 0.7717819213867188, 0.7821130752563477, 0.7930195331573486, 0.8034155368804932, 0.8138036727905273, 0.8241794109344482, 0.8347165584564209, 0.8451189994812012, 0.855644702911377, 0.8660330772399902, 0.8764371871948242, 0.8868753910064697, 0.8973150253295898, 0.90769362449646, 0.9181017875671387, 0.9284877777099609, 0.9388861656188965, 0.9492578506469727, 0.9595522880554199, 0.9699263572692871, 0.9805419445037842, 0.9909775257110596, 1.0013597011566162, 1.011749505996704, 1.0221195220947266, 1.0324985980987549, 1.0428948402404785, 1.0532913208007812, 1.063706636428833, 1.0740342140197754, 1.084420919418335, 1.0948255062103271, 1.1051557064056396, 1.1155812740325928, 1.1259593963623047, 1.1362543106079102, 1.146620273590088, 1.1570179462432861, 1.1678135395050049, 1.1782441139221191, 1.1886811256408691, 1.199042558670044, 1.209963321685791, 1.220557689666748, 1.231003761291504, 1.2420268058776855, 1.2524421215057373, 1.262815237045288, 1.2733001708984375, 1.2837274074554443, 1.2940478324890137, 1.3044307231903076, 1.3148436546325684, 1.3252427577972412, 1.3357162475585938, 1.3461153507232666, 1.356705665588379, 1.36708402633667, 1.3774464130401611, 1.3878276348114014, 1.3982586860656738, 1.4086191654205322], \"y\": [0.0, 0.015625, 0.015625, 0.109375, 45.140625, 46.125, 56.16796875, 49.18359375, 58.26171875, 64.18359375, 70.5859375, 77.09375, 83.67578125, 90.7890625, 98.7890625, 108.30078125, 111.7890625, 117.7890625, 121.7265625, 127.16015625, 125.2421875, 137.05078125, 141.03125, 149.0546875, 155.0546875, 141.72265625, 154.1796875, 156.984375, 156.9921875, 158.5078125, 156.7734375, 166.58203125, 170.2421875, 179.7421875, 185.7421875, 189.859375, 197.015625, 205.015625, 211.15234375, 219.64453125, 221.1328125, 226.59375, 234.71484375, 236.09765625, 240.3515625, 248.61328125, 251.50390625, 256.01171875, 259.1328125, 256.734375, 260.31640625, 260.87109375, 266.15234375, 264.80078125, 272.94140625, 278.94140625, 281.99609375, 286.8984375, 295.15234375, 305.2421875, 308.9453125, 315.19921875, 322.54296875, 324.40625, 332.66015625, 336.765625, 343.6953125, 342.8125, 349.828125, 359.04296875, 357.18359375, 362.015625, 359.1875, 365.1875, 366.75390625, 368.75390625, 369.375, 377.390625, 375.53515625, 385.8515625, 396.80859375, 398.453125, 408.7109375, 416.50390625, 418.02734375, 426.90234375, 434.90234375, 435.36328125, 434.2578125, 445.58984375, 453.22265625, 454.6953125, 454.0390625, 461.37890625, 461.8515625, 461.7578125, 467.94140625, 467.39453125, 472.3359375, 473.19921875, 479.453125, 484.43359375, 489.9609375, 498.21484375, 508.9921875, 510.0, 519.2578125, 525.2578125, 527.11328125, 521.5859375, 537.1796875, 546.71875, 548.51171875, 554.51171875, 558.83984375, 563.05859375, 561.57421875, 555.40625, 565.47265625, 566.50390625, 570.32421875, 569.81640625, 579.734375, 573.9453125, 584.50390625, 596.50390625, 595.48046875, 604.49609375, 605.15234375, 610.16015625, 612.5546875, 616.9765625, 622.9765625, 624.1484375, 623.203125, 625.73828125]}, {\"mode\": \"lines\", \"name\": \"np_trans\", \"type\": \"scatter\", \"x\": [0.0003745555877685547, 0.010729551315307617, 0.021030187606811523, 0.03127765655517578, 0.0415799617767334, 0.05182027816772461, 0.062071800231933594, 0.07237887382507324, 0.08269238471984863, 0.09301185607910156, 0.10325431823730469, 0.1135859489440918, 0.12384533882141113, 0.13416218757629395, 0.14450454711914062, 0.1547679901123047, 0.16508841514587402, 0.1753535270690918, 0.18555068969726562, 0.19582581520080566, 0.20615196228027344, 0.21649384498596191, 0.22675347328186035, 0.23706865310668945, 0.24733448028564453, 0.25766706466674805, 0.267927885055542, 0.2782588005065918, 0.28859543800354004, 0.2988600730895996, 0.30917954444885254, 0.3194401264190674, 0.32976245880126953, 0.3400871753692627, 0.3504180908203125, 0.360759973526001, 0.3710293769836426, 0.3813602924346924, 0.3916914463043213, 0.40201592445373535, 0.4123373031616211, 0.4226548671722412, 0.4329843521118164, 0.4432520866394043, 0.45360636711120605, 0.4639315605163574, 0.4742543697357178, 0.48459959030151367, 0.4949302673339844, 0.5052614212036133, 0.5155293941497803, 0.525862455368042, 0.5361871719360352, 0.5465278625488281, 0.5568592548370361, 0.5671219825744629, 0.5774705410003662, 0.5877583026885986, 0.5980937480926514, 0.6084599494934082, 0.6187331676483154, 0.6290688514709473, 0.6393380165100098, 0.6496593952178955, 0.6599249839782715, 0.6702675819396973, 0.6806085109710693, 0.6908886432647705, 0.7012252807617188, 0.7114994525909424, 0.7218232154846191, 0.7321522235870361, 0.7425000667572021, 0.7528400421142578, 0.763115406036377, 0.773470401763916, 0.7837541103363037, 0.7940859794616699, 0.8044140338897705, 0.8146891593933105, 0.8250131607055664, 0.8352823257446289, 0.8456201553344727, 0.8558797836303711, 0.8662259578704834, 0.8765819072723389, 0.8868627548217773, 0.8971974849700928, 0.907498836517334, 0.917832612991333, 0.9281549453735352, 0.9384269714355469, 0.9487709999084473, 0.9590377807617188, 0.9693772792816162, 0.9797167778015137, 0.9900398254394531, 1.0003726482391357, 1.0107052326202393, 1.021026611328125, 1.0312974452972412, 1.0416362285614014, 1.0519073009490967, 1.0622467994689941, 1.0725834369659424, 1.0828490257263184, 1.0931780338287354, 1.1034753322601318, 1.113800048828125, 1.124129295349121, 1.1344895362854004, 1.1448209285736084, 1.1550958156585693, 1.1654579639434814, 1.1757404804229736, 1.186072826385498, 1.196404218673706, 1.2067415714263916, 1.2170705795288086, 1.227346658706665, 1.2376878261566162, 1.2480227947235107, 1.2583613395690918, 1.2687041759490967, 1.2789783477783203, 1.2893078327178955, 1.2995781898498535, 1.309924840927124, 1.3202576637268066, 1.3306269645690918, 1.3409676551818848, 1.3512463569641113, 1.3615992069244385, 1.3718740940093994, 1.3822097778320312, 1.392554521560669, 1.4028370380401611, 1.4132380485534668, 1.4235129356384277, 1.4338514804840088, 1.444124460220337, 1.4544827938079834, 1.4647443294525146, 1.475017786026001, 1.4853453636169434, 1.4956281185150146, 1.5059773921966553, 1.516312599182129, 1.5266525745391846, 1.5370020866394043, 1.5472688674926758, 1.5576002597808838, 1.5678684711456299, 1.5781996250152588, 1.5885388851165771, 1.5988714694976807, 1.6092140674591064, 1.6194970607757568, 1.6298272609710693, 1.6401524543762207, 1.650505781173706, 1.6608469486236572, 1.6711275577545166, 1.681467056274414, 1.6917510032653809, 1.7020759582519531, 1.712414026260376, 1.7227637767791748, 1.7331061363220215, 1.7433803081512451, 1.7537150382995605, 1.7640557289123535, 1.7743878364562988, 1.7847387790679932, 1.7950794696807861, 1.805443286895752, 1.8157391548156738, 1.8260774612426758, 1.8364393711090088, 1.8467128276824951, 1.857050895690918, 1.8673386573791504, 1.8776803016662598, 1.8880245685577393, 1.8983633518218994, 1.9086947441101074, 1.9189677238464355, 1.9293007850646973, 1.9395840167999268, 1.949920654296875, 1.960254430770874, 1.9706084728240967, 1.9809505939483643, 1.9912188053131104, 2.0015783309936523, 2.011850118637085, 2.022190570831299, 2.032533645629883, 2.0428032875061035, 2.053154468536377, 2.063458204269409, 2.073794364929199, 2.0841317176818848, 2.0944838523864746, 2.1048219203948975, 2.1150994300842285, 2.1254689693450928, 2.1357662677764893, 2.1461069583892822, 2.1564595699310303, 2.1667284965515137, 2.1770846843719482, 2.1873435974121094, 2.19766902923584, 2.207932949066162, 2.218262195587158, 2.228598117828369, 2.238863945007324, 2.249194860458374, 2.259467363357544, 2.2697858810424805, 2.280123472213745, 2.2904751300811768, 2.300800323486328, 2.3110692501068115, 2.321406126022339, 2.3317477703094482, 2.3420815467834473, 2.3524186611175537, 2.362708806991577, 2.373040199279785, 2.3833112716674805, 2.3936409950256348, 2.4039242267608643, 2.4142520427703857, 2.4246044158935547, 2.434880495071411, 2.4452168941497803, 2.455496072769165, 2.465825080871582, 2.476165533065796, 2.4865198135375977, 2.4968438148498535, 2.5071072578430176, 2.5174672603607178, 2.5277607440948486, 2.538100481033325, 2.548459529876709, 2.558730125427246, 2.5690622329711914, 2.5793299674987793, 2.589658498764038, 2.5999338626861572, 2.6102659702301025, 2.620595932006836, 2.6308765411376953, 2.6412112712860107, 2.6515090465545654, 2.661839485168457, 2.672168731689453, 2.6824607849121094, 2.6927835941314697, 2.7030575275421143, 2.7134056091308594, 2.7237586975097656, 2.7340919971466064, 2.744440793991089, 2.7547154426574707, 2.7650585174560547, 2.7753357887268066, 2.785682201385498, 2.796015501022339, 2.8063480854034424, 2.8167033195495605, 2.8269896507263184, 2.8373286724090576, 2.847614049911499, 2.8579511642456055, 2.8682773113250732, 2.878671646118164, 2.889065980911255, 2.899413824081421, 2.909794569015503, 2.920191764831543, 2.9306037425994873, 2.9409918785095215, 2.9513399600982666, 2.961738348007202, 2.972139358520508, 2.982555866241455, 2.992955207824707, 3.0032966136932373, 3.0136966705322266, 3.0240285396575928, 3.0344624519348145, 3.044858694076538, 3.0551886558532715, 3.0656044483184814, 3.075939655303955, 3.086268663406372, 3.0966622829437256, 3.1069958209991455, 3.11738920211792, 3.127812147140503, 3.1382124423980713, 3.1486239433288574, 3.158956289291382, 3.1693506240844727, 3.1797537803649902, 3.190157175064087, 3.2005667686462402, 3.2109038829803467, 3.2213079929351807, 3.2316603660583496, 3.242058038711548, 3.252479076385498, 3.2628138065338135, 3.2732114791870117, 3.283574104309082, 3.293973922729492, 3.304365873336792, 3.3147904872894287, 3.325218677520752, 3.3355712890625, 3.3459651470184326, 3.356351852416992, 3.3667454719543457, 3.3771402835845947, 3.3874826431274414, 3.397878408432007, 3.4082798957824707, 3.4186925888061523, 3.429091453552246, 3.4394407272338867, 3.4498305320739746, 3.460218906402588, 3.4706437587738037, 3.4810409545898438, 3.49137020111084, 3.5017738342285156, 3.512176752090454, 3.5225884914398193, 3.5329818725585938, 3.543323040008545, 3.5537238121032715, 3.564119338989258, 3.5745365619659424, 3.584925413131714, 3.5952610969543457, 3.6056597232818604, 3.615994691848755, 3.6264054775238037, 3.6368279457092285, 3.6471643447875977, 3.657595634460449, 3.6680123805999756, 3.6784183979034424, 3.6888272762298584, 3.6991665363311768, 3.709595203399658, 3.719923496246338, 3.730323076248169, 3.740718126296997, 3.7510554790496826, 3.7614810466766357, 3.771834373474121, 3.7822439670562744, 3.7926642894744873, 3.8030099868774414, 3.8134119510650635, 3.82383131980896, 3.834228992462158, 3.8446428775787354, 3.854978322982788, 3.8653807640075684, 3.875802755355835, 3.8862037658691406, 3.8966166973114014, 3.9069480895996094, 3.9173471927642822, 3.9277541637420654, 3.9381601810455322, 3.9485785961151123, 3.9589264392852783, 3.9693315029144287, 3.9797327518463135, 3.990121364593506, 4.00053858757019, 4.01093864440918, 4.021342039108276, 4.031735181808472, 4.042139768600464, 4.052555561065674, 4.062894344329834, 4.0732808113098145, 4.083622694015503, 4.094032526016235, 4.104451894760132, 4.114790201187134, 4.1251935958862305, 4.1355390548706055, 4.145931243896484, 4.156323432922363, 4.1667234897613525, 4.177126884460449, 4.187504053115845, 4.197909116744995, 4.2083117961883545, 4.218724727630615, 4.229116916656494, 4.239487886428833, 4.249882459640503, 4.26027250289917, 4.270697116851807, 4.281101703643799, 4.291463136672974, 4.3018598556518555, 4.3122570514678955, 4.322675704956055, 4.333065032958984, 4.343415975570679, 4.353807687759399, 4.36420750617981, 4.374624252319336, 4.385012626647949, 4.395359039306641, 4.405766010284424, 4.416125059127808, 4.42637038230896, 4.436594486236572, 4.446749448776245, 4.456966876983643, 4.467120170593262, 4.4773337841033936, 4.487489700317383, 4.497705459594727, 4.5079185962677, 4.518130540847778, 4.528342008590698, 4.538547515869141, 4.548760175704956, 4.558911323547363, 4.569127798080444, 4.57927942276001, 4.589501857757568, 4.599670648574829, 4.6098833084106445, 4.62009859085083, 4.630310297012329, 4.640525817871094, 4.650678873062134, 4.660890102386475, 4.671042203903198, 4.681257963180542, 4.691419839859009, 4.701633453369141, 4.711781740188599, 4.721930742263794, 4.732146739959717, 4.742357015609741, 4.752569913864136, 4.762723207473755, 4.772938013076782, 4.783097267150879, 4.79331111907959, 4.803467273712158, 4.813676118850708, 4.823824882507324, 4.833974361419678, 4.844188690185547, 4.854408502578735, 4.86463737487793, 4.874786376953125, 4.885000467300415, 4.8951497077941895, 4.905360698699951, 4.915499925613403, 4.925869941711426, 4.936263799667358, 4.946676015853882, 4.957066059112549, 4.967407464981079, 4.977797985076904, 4.988187789916992, 4.9986186027526855, 5.009022951126099, 5.019353151321411, 5.029750347137451, 5.040149927139282, 5.050567388534546, 5.0609519481658936, 5.071287393569946, 5.081639528274536, 5.091970920562744, 5.102362632751465, 5.112762212753296, 5.123102426528931, 5.133530616760254, 5.143873691558838, 5.154266119003296, 5.164666652679443, 5.175000905990601, 5.185391664505005, 5.195811033248901, 5.206219911575317, 5.216629505157471, 5.226965427398682, 5.237360715866089, 5.247753858566284, 5.258084535598755, 5.268503189086914, 5.278840065002441, 5.28924298286438, 5.2995898723602295, 5.309987306594849, 5.320389032363892, 5.330806493759155, 5.341202259063721, 5.351533651351929, 5.361927509307861, 5.372315406799316, 5.382704496383667, 5.393094778060913, 5.403437614440918, 5.4138288497924805, 5.424225807189941, 5.434652328491211, 5.445053577423096, 5.455376148223877, 5.46577000617981, 5.47616171836853, 5.486579895019531, 5.496915817260742, 5.507250785827637, 5.5176568031311035, 5.527992248535156, 5.538404703140259, 5.548807144165039, 5.559138536453247, 5.569551944732666, 5.579884767532349, 5.590280055999756, 5.600674390792847, 5.611013412475586, 5.621418714523315, 5.631793975830078, 5.642192125320435, 5.652602910995483, 5.662936687469482, 5.673326015472412, 5.683681964874268, 5.694080114364624, 5.704372406005859, 5.7145915031433105, 5.724807024002075, 5.7349607944488525, 5.745174884796143, 5.755327224731445, 5.765540361404419, 5.775694847106934, 5.785905838012695, 5.796120643615723, 5.8063342571258545, 5.816549777984619, 5.826701402664185, 5.836914777755737, 5.847066879272461, 5.857279062271118, 5.867437124252319, 5.8776490688323975, 5.887802839279175, 5.897952079772949, 5.908165216445923, 5.9183759689331055, 5.928587913513184, 5.938739061355591, 5.948951721191406, 5.959104061126709, 5.969316005706787, 5.979471206665039, 5.989681243896484, 5.999829053878784, 6.009977102279663, 6.020186424255371, 6.0304036140441895, 6.040615797042847, 6.05076789855957, 6.060982942581177, 6.071131944656372, 6.081347703933716, 6.091501235961914, 6.101712465286255, 6.111925840377808, 6.122137784957886, 6.13234806060791, 6.142545461654663, 6.152753591537476, 6.162907838821411, 6.173130035400391, 6.183288335800171, 6.193503379821777, 6.2036683559417725, 6.213876962661743, 6.224088430404663, 6.2342963218688965, 6.244514465332031, 6.254677057266235, 6.26488995552063, 6.27504301071167, 6.285257816314697, 6.2954185009002686, 6.30562949180603, 6.315777063369751, 6.325926303863525, 6.336139440536499, 6.346348524093628, 6.3565590381622314, 6.366711854934692, 6.3769237995147705, 6.387075662612915, 6.397290945053101, 6.407447814941406, 6.41765832901001, 6.42780613899231, 6.437954425811768, 6.448167324066162, 6.458376169204712, 6.468587398529053, 6.478739023208618, 6.488897323608398, 6.499048709869385, 6.509257793426514, 6.519418001174927, 6.529659271240234, 6.539808988571167, 6.550021648406982, 6.560307264328003, 6.570540189743042, 6.5807530879974365, 6.590903043746948, 6.601114273071289, 6.611265420913696, 6.621494770050049, 6.631660223007202, 6.6418702602386475, 6.652102470397949, 6.662312746047974, 6.672528266906738, 6.682679176330566, 6.6928911209106445, 6.703042268753052, 6.71325421333313, 6.723572254180908, 6.733976125717163, 6.744377374649048, 6.754802227020264, 6.765210866928101, 6.775568246841431, 6.785969972610474, 6.796376466751099, 6.806786775588989, 6.817188024520874, 6.8275368213653564, 6.8378870487213135, 6.848288059234619, 6.858705759048462, 6.869110822677612, 6.879472017288208, 6.8898842334747314, 6.900282859802246, 6.910699129104614, 6.9211039543151855, 6.931466579437256, 6.9418721199035645, 6.952280044555664, 6.962698221206665, 6.973105192184448, 6.983452558517456, 6.9938578605651855, 7.004277229309082, 7.014703035354614, 7.025114297866821, 7.035475969314575, 7.0458855628967285, 7.056287527084351, 7.066718339920044, 7.077131271362305, 7.087496995925903, 7.097899913787842, 7.108303546905518, 7.11871600151062, 7.129128456115723, 7.139490842819214, 7.149902582168579, 7.160309553146362, 7.170721769332886, 7.1811418533325195, 7.191497564315796, 7.201901197433472, 7.21230411529541, 7.222713470458984, 7.2331225872039795, 7.2434704303741455, 7.253725051879883, 7.2639429569244385, 7.2741618156433105, 7.28437614440918, 7.294586420059204, 7.304798603057861, 7.314950942993164, 7.325167894363403, 7.335320949554443, 7.345532417297363, 7.3557448387146, 7.365957498550415, 7.376172065734863, 7.3863844871521, 7.396602153778076, 7.406754732131958, 7.41696834564209, 7.427120208740234, 7.437334060668945, 7.447489023208618, 7.457700729370117, 7.467912673950195, 7.4781248569488525, 7.4883339405059814, 7.498548746109009, 7.508764743804932, 7.518916368484497, 7.529130220413208, 7.5392820835113525, 7.549492597579956, 7.559659004211426, 7.5698676109313965, 7.580100059509277, 7.590311527252197, 7.600523233413696, 7.610674142837524, 7.6208882331848145, 7.631040573120117, 7.6412513256073, 7.651410102844238, 7.661622047424316, 7.671771049499512, 7.681919574737549, 7.692134380340576, 7.702347040176392, 7.7125585079193115, 7.72270941734314, 7.732923984527588, 7.743074178695679, 7.7532854080200195, 7.763442516326904, 7.77365517616272, 7.783802509307861, 7.794013977050781, 7.804229259490967, 7.814460754394531, 7.824682235717773, 7.834834337234497, 7.845048666000366, 7.855201244354248, 7.8654398918151855, 7.875593662261963, 7.8858113288879395, 7.89602518081665, 7.906237363815308, 7.9164674282073975, 7.926619529724121, 7.936830997467041, 7.946994781494141, 7.957215785980225, 7.967369318008423, 7.977579593658447, 7.987730264663696], \"y\": [0.0, 9.77734375, 19.77734375, 29.98828125, 39.98828125, 49.98828125, 59.98828125, 69.98828125, 79.98828125, 89.98828125, 99.98828125, 109.98828125, 119.98828125, 131.98828125, 141.98828125, 151.98828125, 161.98828125, 171.98828125, 181.9921875, 191.9921875, 201.9921875, 211.9921875, 221.9921875, 231.9921875, 243.9921875, 253.9921875, 263.9921875, 273.9921875, 283.9921875, 293.9921875, 303.9921875, 313.9921875, 323.9921875, 335.9921875, 345.9921875, 355.9921875, 365.9921875, 375.9921875, 385.9921875, 395.9921875, 405.9921875, 417.9921875, 427.9921875, 437.9921875, 447.9921875, 457.9921875, 467.9921875, 477.9921875, 489.9921875, 499.9921875, 509.9921875, 519.9921875, 529.9921875, 539.9921875, 549.9921875, 559.9921875, 569.9921875, 581.9921875, 591.9921875, 601.9921875, 611.9921875, 621.9921875, 631.9921875, 641.9921875, 651.9921875, 663.9921875, 673.9921875, 683.9921875, 693.9921875, 703.9921875, 713.9921875, 723.9921875, 733.9921875, 743.9921875, 755.9921875, 765.9921875, 775.9921875, 785.9921875, 795.9921875, 805.9921875, 815.9921875, 825.9921875, 835.9921875, 845.9921875, 857.9921875, 867.9921875, 877.9921875, 887.9921875, 897.9921875, 907.9921875, 917.9921875, 927.9921875, 937.9921875, 949.9921875, 959.9921875, 969.9921875, 979.9921875, 989.9921875, 999.9921875, 1009.9921875, 1019.9921875, 1031.9921875, 1041.9921875, 1051.9921875, 1061.9921875, 1071.9921875, 1081.9921875, 1091.9921875, 1101.9921875, 1111.9921875, 1123.9921875, 1133.9921875, 1143.9921875, 1153.9921875, 1163.9921875, 1173.9921875, 1183.9921875, 1193.9921875, 1203.9921875, 1213.9921875, 1225.9921875, 1235.9921875, 1245.9921875, 1255.9921875, 1265.9921875, 1275.9921875, 1285.9921875, 1295.9921875, 1305.9921875, 1317.9921875, 1327.9921875, 1337.9921875, 1347.9921875, 1357.9921875, 1367.9921875, 1377.9921875, 1387.9921875, 1397.9921875, 1409.9921875, 1419.9921875, 1429.9921875, 1439.9921875, 1449.9921875, 1459.9921875, 1469.9921875, 1479.9921875, 1491.9921875, 1501.9921875, 1511.9921875, 1521.9921875, 1531.9921875, 1541.9921875, 1551.9921875, 1561.9921875, 1571.9921875, 1583.9921875, 1593.9921875, 1603.9921875, 1613.9921875, 1623.9921875, 1633.9921875, 1645.9921875, 1655.9921875, 1665.9921875, 1675.9921875, 1685.9921875, 1695.9921875, 1705.9921875, 1717.9921875, 1727.9921875, 1737.9921875, 1747.9921875, 1757.9921875, 1767.9921875, 1777.9921875, 1789.9921875, 1799.9921875, 1809.9921875, 1819.9921875, 1829.9921875, 1839.9921875, 1851.9921875, 1861.9921875, 1871.9921875, 1881.9921875, 1891.9921875, 1901.9921875, 1913.9921875, 1923.9921875, 1933.9921875, 1943.9921875, 1953.9921875, 1963.9921875, 1973.9921875, 1985.9921875, 1995.9921875, 2005.9921875, 2015.9921875, 2025.9921875, 2037.9921875, 2047.9921875, 2057.9921875, 2067.9921875, 2077.9921875, 2087.9921875, 2097.9921875, 2109.9921875, 2119.9921875, 2129.9921875, 2139.9921875, 2149.9921875, 2159.9921875, 2169.9921875, 2181.9921875, 2191.9921875, 2201.9921875, 2211.9921875, 2221.9921875, 2231.9921875, 2241.9921875, 2251.9921875, 2263.9921875, 2273.9921875, 2283.9921875, 2293.9921875, 2303.9921875, 2313.9921875, 2325.9921875, 2335.9921875, 2345.9921875, 2355.9921875, 2365.9921875, 2375.9921875, 2387.9921875, 2397.9921875, 2407.9921875, 2417.9921875, 2427.9921875, 2437.9921875, 2449.9921875, 2459.9921875, 2469.9921875, 2479.9921875, 2489.9921875, 2499.9921875, 2511.9921875, 2521.9921875, 2531.9921875, 2541.9921875, 2551.9921875, 2561.9921875, 2571.9921875, 2583.9921875, 2593.9921875, 2603.9921875, 2613.9921875, 2623.9921875, 2635.9921875, 2645.9921875, 2655.9921875, 2665.9921875, 2675.9921875, 2687.9921875, 2697.9921875, 2707.9921875, 2717.9921875, 2727.9921875, 2737.9921875, 2749.9921875, 2759.9921875, 2769.9921875, 2779.9921875, 2789.9921875, 2799.9921875, 2811.9921875, 2821.9921875, 2831.9921875, 2841.9921875, 2851.1796875, 2887.21875, 2925.21875, 2963.21875, 3001.21875, 3041.21875, 3079.21875, 3117.21875, 3157.21875, 3195.21875, 3233.21875, 3271.21875, 3309.21875, 3349.21875, 3387.21875, 3427.21875, 3467.21875, 3505.21875, 3543.21875, 3581.21875, 3619.21875, 3657.21875, 3697.21875, 3735.21875, 3773.21875, 3811.21875, 3851.21875, 3889.21875, 3927.21875, 3965.21875, 4005.21875, 4043.21875, 4081.21875, 4119.21875, 4159.21875, 4197.21875, 4235.21875, 4273.21875, 4313.21875, 4351.21875, 4389.21875, 4429.21875, 4467.21875, 4507.21875, 4545.21875, 4583.21875, 4621.21875, 4659.21875, 4697.21875, 4735.21875, 4773.21875, 4813.21875, 4851.21875, 4889.21875, 4927.21875, 4965.21875, 5003.21875, 5041.21875, 5081.21875, 5119.21875, 5159.21875, 5197.21875, 5235.21875, 5273.21875, 5311.21875, 5349.21875, 5389.21875, 5427.21875, 5465.21875, 5503.21875, 5541.21875, 5579.21875, 5617.21875, 5657.21875, 5695.21875, 5732.375, 5770.375, 5810.4453125, 5848.4453125, 5886.4453125, 5926.4453125, 5964.4453125, 6002.4453125, 6042.4453125, 6080.4453125, 6118.4453125, 6156.4453125, 6194.4453125, 6232.4453125, 6272.4453125, 6310.4453125, 6348.4453125, 6386.4453125, 6426.4453125, 6464.4453125, 6502.4453125, 6540.4453125, 6580.4453125, 6618.4453125, 6656.4453125, 6694.4453125, 6732.4453125, 6772.4453125, 6810.4453125, 6848.4453125, 6888.4453125, 6926.4453125, 6964.4453125, 7002.4453125, 7040.4453125, 7080.4453125, 7118.4453125, 7156.4453125, 7196.4453125, 7234.4453125, 7272.4453125, 7310.4453125, 7348.4453125, 7388.4453125, 7426.4453125, 7464.4453125, 7504.4453125, 7542.4453125, 7580.4453125, 7618.4453125, 7656.4453125, 7696.4453125, 7734.4453125, 7774.4453125, 7812.4453125, 7850.4453125, 7888.4453125, 7928.4453125, 7966.4453125, 8004.4453125, 8044.4453125, 8082.4453125, 8120.4453125, 8160.4453125, 8198.4453125, 8236.4453125, 8274.4453125, 8312.4453125, 8350.4453125, 8390.4453125, 8428.4453125, 8466.4453125, 8506.4453125, 8544.4453125, 8554.73828125, 8554.73828125, 8554.73828125, 8554.73828125, 8554.73828125, 8554.73828125, 8554.73828125, 8554.73828125, 8554.73828125, 8554.73828125, 8554.73828125, 8554.73828125, 8554.73828125, 8554.73828125, 8554.73828125, 8554.73828125, 8554.73828125, 8554.73828125, 8554.73828125, 8554.73828125, 8554.73828125, 8554.73828125, 8554.73828125, 8554.73828125, 8554.73828125, 8554.73828125, 8554.73828125, 8554.73828125, 8554.73828125, 8554.73828125, 8554.73828125, 8554.73828125, 8554.73828125, 8554.73828125, 8554.73828125, 8554.73828125, 8554.73828125, 8554.73828125, 8554.73828125, 8554.73828125, 8554.73828125, 8554.73828125, 8554.73828125, 8554.73828125, 8554.73828125, 8554.73828125, 8554.73828125, 8554.73828125, 8554.73828125, 5708.3359375, 5746.3359375, 5784.5078125, 5822.5078125, 5860.5078125, 5898.5078125, 5936.5078125, 5974.5078125, 6012.5078125, 6052.5078125, 6090.5078125, 6128.5078125, 6168.5078125, 6206.5078125, 6244.5078125, 6282.5078125, 6318.5078125, 6356.5078125, 6394.5078125, 6432.5078125, 6470.5078125, 6508.5078125, 6546.5078125, 6584.5078125, 6622.5078125, 6660.5078125, 6698.5078125, 6736.5078125, 6776.5078125, 6812.5078125, 6850.5078125, 6888.5078125, 6926.5078125, 6964.5078125, 7002.5078125, 7040.5078125, 7078.5078125, 7116.5078125, 7154.5078125, 7192.5078125, 7230.5078125, 7268.5078125, 7306.5078125, 7344.5078125, 7382.5078125, 7420.5078125, 7458.5078125, 7496.5078125, 7536.5078125, 7572.5078125, 7610.5078125, 7648.5078125, 7686.5078125, 7724.5078125, 7762.5078125, 7800.5078125, 7838.5078125, 7876.5078125, 7914.5078125, 7952.5078125, 7990.5078125, 8028.5078125, 8066.5078125, 8104.5078125, 8142.5078125, 8180.5078125, 8218.5078125, 8256.5078125, 8294.5078125, 8332.5078125, 8370.5078125, 8408.5078125, 8446.5078125, 8484.5078125, 8522.5078125, 8554.69921875, 8554.69921875, 8554.69921875, 8554.69921875, 8554.69921875, 8554.69921875, 8554.69921875, 8554.69921875, 8554.69921875, 8554.69921875, 8554.69921875, 8554.69921875, 8554.69921875, 8554.69921875, 8554.69921875, 8554.69921875, 8554.69921875, 8554.69921875, 8554.69921875, 8554.69921875, 8554.69921875, 8554.69921875, 8554.69921875, 8554.69921875, 8554.69921875, 8554.69921875, 8554.69921875, 8554.69921875, 8554.69921875, 8554.69921875, 8554.69921875, 8554.69921875, 8554.69921875, 8554.69921875, 8554.69921875, 8554.69921875, 8554.69921875, 8554.69921875, 8554.69921875, 8554.69921875, 8554.69921875, 8554.69921875, 8554.69921875, 8554.69921875, 8554.69921875, 8554.69921875, 8554.69921875, 8554.69921875, 8554.69921875, 8554.69921875, 5703.3203125, 5703.3203125, 5703.3203125, 5703.3203125, 5703.3203125, 5703.3203125, 5703.3203125, 5703.3203125, 5703.3203125, 5703.3203125, 5703.3203125, 5703.3203125, 5703.3203125, 5703.3203125, 5703.3203125, 5703.3203125, 5703.3203125, 5703.3203125, 5703.3203125, 5703.3203125, 5703.3203125, 5703.3203125, 5703.3203125, 5703.3203125, 5703.3203125, 5703.3203125, 5703.3203125, 5703.3203125, 5703.3203125, 5703.3203125, 5703.3203125, 5703.3203125, 5703.3203125, 5703.3203125, 5703.3203125, 5703.3203125, 5703.3203125, 5703.3203125, 5703.3203125, 5703.3203125, 5703.3203125, 5703.3203125, 5703.3203125, 5703.3203125, 5703.3203125, 5703.3203125, 5703.3203125, 5703.3203125, 5703.3203125, 5703.3203125, 2851.70703125, 2881.25, 2939.25, 2995.28125, 3053.28125, 3111.28125, 3167.28125, 3223.28125, 3281.28125, 3337.28125, 3395.28125, 3451.28125, 3509.28125, 3565.28125, 3623.28125, 3679.28125, 3735.28125, 3793.28125, 3849.28125, 3907.28125, 3965.28125, 4021.28125, 4079.28125, 4135.28125, 4193.28125, 4249.28125, 4305.28125, 4363.28125, 4419.28125, 4477.28125, 4535.28125, 4591.28125, 4649.28125, 4705.28125, 4763.28125, 4821.28125, 4877.28125, 4935.28125, 4991.28125, 5049.28125, 5105.28125, 5161.28125, 5219.28125, 5275.28125, 5333.28125, 5389.28125, 5447.28125, 5503.28125, 5561.28125, 5619.28125, 5675.28125, 5703.28125, 5703.28125, 5703.28125, 5703.28125, 5703.28125, 5703.28125, 5703.28125, 5703.28125, 5703.28125, 5703.28125, 5703.28125, 5703.28125, 5703.28125, 5703.28125, 5703.28125, 5703.28125, 5703.28125, 5703.28125, 5703.28125, 5703.28125, 5703.28125, 5703.28125, 5703.28125, 5703.28125, 5703.28125, 5703.28125, 5703.28125, 5703.28125, 5703.28125, 5703.28125, 5703.28125, 5703.28125, 5703.28125, 5703.28125, 5703.28125, 5703.28125, 5703.28125, 5703.28125, 5703.28125, 5703.28125, 5703.28125, 5703.28125, 5703.28125, 5703.28125, 5703.28125, 5703.28125, 5703.28125, 5703.28125, 5703.28125, 5703.28125, 5703.28125, 5703.28125, 5703.28125, 5703.28125, 5703.28125, 5703.28125, 5703.28125, 5703.28125, 5703.28125, 5703.28125, 5703.28125, 5703.28125, 5703.28125, 5703.28125, 5703.28125, 5703.28125, 5703.28125, 5703.28125, 5703.28125, 5703.28125, 5703.28125, 5703.28125, 5703.28125, 5703.28125]}],                        {\"template\": {\"data\": {\"bar\": [{\"error_x\": {\"color\": \"#2a3f5f\"}, \"error_y\": {\"color\": \"#2a3f5f\"}, \"marker\": {\"line\": {\"color\": \"#E5ECF6\", \"width\": 0.5}}, \"type\": \"bar\"}], \"barpolar\": [{\"marker\": {\"line\": {\"color\": \"#E5ECF6\", \"width\": 0.5}}, \"type\": \"barpolar\"}], \"carpet\": [{\"aaxis\": {\"endlinecolor\": \"#2a3f5f\", \"gridcolor\": \"white\", \"linecolor\": \"white\", \"minorgridcolor\": \"white\", \"startlinecolor\": \"#2a3f5f\"}, \"baxis\": {\"endlinecolor\": \"#2a3f5f\", \"gridcolor\": \"white\", \"linecolor\": \"white\", \"minorgridcolor\": \"white\", \"startlinecolor\": \"#2a3f5f\"}, \"type\": \"carpet\"}], \"choropleth\": [{\"colorbar\": {\"outlinewidth\": 0, \"ticks\": \"\"}, \"type\": \"choropleth\"}], \"contour\": [{\"colorbar\": {\"outlinewidth\": 0, \"ticks\": \"\"}, \"colorscale\": [[0.0, \"#0d0887\"], [0.1111111111111111, \"#46039f\"], [0.2222222222222222, \"#7201a8\"], [0.3333333333333333, \"#9c179e\"], [0.4444444444444444, \"#bd3786\"], [0.5555555555555556, \"#d8576b\"], [0.6666666666666666, \"#ed7953\"], [0.7777777777777778, \"#fb9f3a\"], [0.8888888888888888, \"#fdca26\"], [1.0, \"#f0f921\"]], \"type\": \"contour\"}], \"contourcarpet\": [{\"colorbar\": {\"outlinewidth\": 0, \"ticks\": \"\"}, \"type\": \"contourcarpet\"}], \"heatmap\": [{\"colorbar\": {\"outlinewidth\": 0, \"ticks\": \"\"}, \"colorscale\": [[0.0, \"#0d0887\"], [0.1111111111111111, \"#46039f\"], [0.2222222222222222, \"#7201a8\"], [0.3333333333333333, \"#9c179e\"], [0.4444444444444444, \"#bd3786\"], [0.5555555555555556, \"#d8576b\"], [0.6666666666666666, \"#ed7953\"], [0.7777777777777778, \"#fb9f3a\"], [0.8888888888888888, \"#fdca26\"], [1.0, \"#f0f921\"]], \"type\": \"heatmap\"}], \"heatmapgl\": [{\"colorbar\": {\"outlinewidth\": 0, \"ticks\": \"\"}, \"colorscale\": [[0.0, \"#0d0887\"], [0.1111111111111111, \"#46039f\"], [0.2222222222222222, \"#7201a8\"], [0.3333333333333333, \"#9c179e\"], [0.4444444444444444, \"#bd3786\"], [0.5555555555555556, \"#d8576b\"], [0.6666666666666666, \"#ed7953\"], [0.7777777777777778, \"#fb9f3a\"], [0.8888888888888888, \"#fdca26\"], [1.0, \"#f0f921\"]], \"type\": \"heatmapgl\"}], \"histogram\": [{\"marker\": {\"colorbar\": {\"outlinewidth\": 0, \"ticks\": \"\"}}, \"type\": \"histogram\"}], \"histogram2d\": [{\"colorbar\": {\"outlinewidth\": 0, \"ticks\": \"\"}, \"colorscale\": [[0.0, \"#0d0887\"], [0.1111111111111111, \"#46039f\"], [0.2222222222222222, \"#7201a8\"], [0.3333333333333333, \"#9c179e\"], [0.4444444444444444, \"#bd3786\"], [0.5555555555555556, \"#d8576b\"], [0.6666666666666666, \"#ed7953\"], [0.7777777777777778, \"#fb9f3a\"], [0.8888888888888888, \"#fdca26\"], [1.0, \"#f0f921\"]], \"type\": \"histogram2d\"}], \"histogram2dcontour\": [{\"colorbar\": {\"outlinewidth\": 0, \"ticks\": \"\"}, \"colorscale\": [[0.0, \"#0d0887\"], [0.1111111111111111, \"#46039f\"], [0.2222222222222222, \"#7201a8\"], [0.3333333333333333, \"#9c179e\"], [0.4444444444444444, \"#bd3786\"], [0.5555555555555556, \"#d8576b\"], [0.6666666666666666, \"#ed7953\"], [0.7777777777777778, \"#fb9f3a\"], [0.8888888888888888, \"#fdca26\"], [1.0, \"#f0f921\"]], \"type\": \"histogram2dcontour\"}], \"mesh3d\": [{\"colorbar\": {\"outlinewidth\": 0, \"ticks\": \"\"}, \"type\": \"mesh3d\"}], \"parcoords\": [{\"line\": {\"colorbar\": {\"outlinewidth\": 0, \"ticks\": \"\"}}, \"type\": \"parcoords\"}], \"pie\": [{\"automargin\": true, \"type\": \"pie\"}], \"scatter\": [{\"marker\": {\"colorbar\": {\"outlinewidth\": 0, \"ticks\": \"\"}}, \"type\": \"scatter\"}], \"scatter3d\": [{\"line\": {\"colorbar\": {\"outlinewidth\": 0, \"ticks\": \"\"}}, \"marker\": {\"colorbar\": {\"outlinewidth\": 0, \"ticks\": \"\"}}, \"type\": \"scatter3d\"}], \"scattercarpet\": [{\"marker\": {\"colorbar\": {\"outlinewidth\": 0, \"ticks\": \"\"}}, \"type\": \"scattercarpet\"}], \"scattergeo\": [{\"marker\": {\"colorbar\": {\"outlinewidth\": 0, \"ticks\": \"\"}}, \"type\": \"scattergeo\"}], \"scattergl\": [{\"marker\": {\"colorbar\": {\"outlinewidth\": 0, \"ticks\": \"\"}}, \"type\": \"scattergl\"}], \"scattermapbox\": [{\"marker\": {\"colorbar\": {\"outlinewidth\": 0, \"ticks\": \"\"}}, \"type\": \"scattermapbox\"}], \"scatterpolar\": [{\"marker\": {\"colorbar\": {\"outlinewidth\": 0, \"ticks\": \"\"}}, \"type\": \"scatterpolar\"}], \"scatterpolargl\": [{\"marker\": {\"colorbar\": {\"outlinewidth\": 0, \"ticks\": \"\"}}, \"type\": \"scatterpolargl\"}], \"scatterternary\": [{\"marker\": {\"colorbar\": {\"outlinewidth\": 0, \"ticks\": \"\"}}, \"type\": \"scatterternary\"}], \"surface\": [{\"colorbar\": {\"outlinewidth\": 0, \"ticks\": \"\"}, \"colorscale\": [[0.0, \"#0d0887\"], [0.1111111111111111, \"#46039f\"], [0.2222222222222222, \"#7201a8\"], [0.3333333333333333, \"#9c179e\"], [0.4444444444444444, \"#bd3786\"], [0.5555555555555556, \"#d8576b\"], [0.6666666666666666, \"#ed7953\"], [0.7777777777777778, \"#fb9f3a\"], [0.8888888888888888, \"#fdca26\"], [1.0, \"#f0f921\"]], \"type\": \"surface\"}], \"table\": [{\"cells\": {\"fill\": {\"color\": \"#EBF0F8\"}, \"line\": {\"color\": \"white\"}}, \"header\": {\"fill\": {\"color\": \"#C8D4E3\"}, \"line\": {\"color\": \"white\"}}, \"type\": \"table\"}]}, \"layout\": {\"annotationdefaults\": {\"arrowcolor\": \"#2a3f5f\", \"arrowhead\": 0, \"arrowwidth\": 1}, \"autotypenumbers\": \"strict\", \"coloraxis\": {\"colorbar\": {\"outlinewidth\": 0, \"ticks\": \"\"}}, \"colorscale\": {\"diverging\": [[0, \"#8e0152\"], [0.1, \"#c51b7d\"], [0.2, \"#de77ae\"], [0.3, \"#f1b6da\"], [0.4, \"#fde0ef\"], [0.5, \"#f7f7f7\"], [0.6, \"#e6f5d0\"], [0.7, \"#b8e186\"], [0.8, \"#7fbc41\"], [0.9, \"#4d9221\"], [1, \"#276419\"]], \"sequential\": [[0.0, \"#0d0887\"], [0.1111111111111111, \"#46039f\"], [0.2222222222222222, \"#7201a8\"], [0.3333333333333333, \"#9c179e\"], [0.4444444444444444, \"#bd3786\"], [0.5555555555555556, \"#d8576b\"], [0.6666666666666666, \"#ed7953\"], [0.7777777777777778, \"#fb9f3a\"], [0.8888888888888888, \"#fdca26\"], [1.0, \"#f0f921\"]], \"sequentialminus\": [[0.0, \"#0d0887\"], [0.1111111111111111, \"#46039f\"], [0.2222222222222222, \"#7201a8\"], [0.3333333333333333, \"#9c179e\"], [0.4444444444444444, \"#bd3786\"], [0.5555555555555556, \"#d8576b\"], [0.6666666666666666, \"#ed7953\"], [0.7777777777777778, \"#fb9f3a\"], [0.8888888888888888, \"#fdca26\"], [1.0, \"#f0f921\"]]}, \"colorway\": [\"#636efa\", \"#EF553B\", \"#00cc96\", \"#ab63fa\", \"#FFA15A\", \"#19d3f3\", \"#FF6692\", \"#B6E880\", \"#FF97FF\", \"#FECB52\"], \"font\": {\"color\": \"#2a3f5f\"}, \"geo\": {\"bgcolor\": \"white\", \"lakecolor\": \"white\", \"landcolor\": \"#E5ECF6\", \"showlakes\": true, \"showland\": true, \"subunitcolor\": \"white\"}, \"hoverlabel\": {\"align\": \"left\"}, \"hovermode\": \"closest\", \"mapbox\": {\"style\": \"light\"}, \"paper_bgcolor\": \"white\", \"plot_bgcolor\": \"#E5ECF6\", \"polar\": {\"angularaxis\": {\"gridcolor\": \"white\", \"linecolor\": \"white\", \"ticks\": \"\"}, \"bgcolor\": \"#E5ECF6\", \"radialaxis\": {\"gridcolor\": \"white\", \"linecolor\": \"white\", \"ticks\": \"\"}}, \"scene\": {\"xaxis\": {\"backgroundcolor\": \"#E5ECF6\", \"gridcolor\": \"white\", \"gridwidth\": 2, \"linecolor\": \"white\", \"showbackground\": true, \"ticks\": \"\", \"zerolinecolor\": \"white\"}, \"yaxis\": {\"backgroundcolor\": \"#E5ECF6\", \"gridcolor\": \"white\", \"gridwidth\": 2, \"linecolor\": \"white\", \"showbackground\": true, \"ticks\": \"\", \"zerolinecolor\": \"white\"}, \"zaxis\": {\"backgroundcolor\": \"#E5ECF6\", \"gridcolor\": \"white\", \"gridwidth\": 2, \"linecolor\": \"white\", \"showbackground\": true, \"ticks\": \"\", \"zerolinecolor\": \"white\"}}, \"shapedefaults\": {\"line\": {\"color\": \"#2a3f5f\"}}, \"ternary\": {\"aaxis\": {\"gridcolor\": \"white\", \"linecolor\": \"white\", \"ticks\": \"\"}, \"baxis\": {\"gridcolor\": \"white\", \"linecolor\": \"white\", \"ticks\": \"\"}, \"bgcolor\": \"#E5ECF6\", \"caxis\": {\"gridcolor\": \"white\", \"linecolor\": \"white\", \"ticks\": \"\"}}, \"title\": {\"x\": 0.05}, \"xaxis\": {\"automargin\": true, \"gridcolor\": \"white\", \"linecolor\": \"white\", \"ticks\": \"\", \"title\": {\"standoff\": 15}, \"zerolinecolor\": \"white\", \"zerolinewidth\": 2}, \"yaxis\": {\"automargin\": true, \"gridcolor\": \"white\", \"linecolor\": \"white\", \"ticks\": \"\", \"title\": {\"standoff\": 15}, \"zerolinecolor\": \"white\", \"zerolinewidth\": 2}}}, \"title\": {\"text\": \"Transcendental expression\", \"x\": 0.5, \"xanchor\": \"center\", \"y\": 0.9, \"yanchor\": \"top\"}, \"xaxis\": {\"title\": {\"text\": \"Time (in seconds)\"}}, \"yaxis\": {\"title\": {\"text\": \"Memory used (in MiB)\"}}},                        {\"responsive\": true}                    ).then(function(){\n",
       "                            \n",
       "var gd = document.getElementById('0a1eb3ac-a25a-4d34-9f0b-07c2236eb22b');\n",
       "var x = new MutationObserver(function (mutations, observer) {{\n",
       "        var display = window.getComputedStyle(gd).display;\n",
       "        if (!display || display === 'none') {{\n",
       "            console.log([gd, 'removed!']);\n",
       "            Plotly.purge(gd);\n",
       "            observer.disconnect();\n",
       "        }}\n",
       "}});\n",
       "\n",
       "// Listen for the removal of the full notebook cells\n",
       "var notebookContainer = gd.closest('#notebook-container');\n",
       "if (notebookContainer) {{\n",
       "    x.observe(notebookContainer, {childList: true});\n",
       "}}\n",
       "\n",
       "// Listen for the clearing of the current output cell\n",
       "var outputEl = gd.closest('.output');\n",
       "if (outputEl) {{\n",
       "    x.observe(outputEl, {childList: true});\n",
       "}}\n",
       "\n",
       "                        })                };                });            </script>        </div>"
      ]
     },
     "metadata": {},
     "output_type": "display_data"
    }
   ],
   "source": [
    "%mprof_plot ia_trans np_trans -t \"Transcendental expression\""
   ]
  },
  {
   "cell_type": "markdown",
   "metadata": {},
   "source": [
    "And the same goes for the transcendental expression."
   ]
  },
  {
   "cell_type": "markdown",
   "metadata": {},
   "source": [
    "### In-deep memory consumption analysis"
   ]
  },
  {
   "cell_type": "markdown",
   "metadata": {
    "pycharm": {
     "name": "#%% md\n"
    }
   },
   "source": [
    "Memory efficiency is critical for ironArray, so let's dig a bit more on the pattern of the memory used for both types of computations.  Let's start with ironArray:"
   ]
  },
  {
   "cell_type": "code",
   "execution_count": 17,
   "metadata": {
    "pycharm": {
     "name": "#%%\n"
    }
   },
   "outputs": [
    {
     "name": "stdout",
     "output_type": "stream",
     "text": [
      "mprof.py: Sampling memory every 0.1s\n",
      "running new process\n",
      "running as a Python program...\n"
     ]
    },
    {
     "data": {
      "image/png": "[encoded data removed]",
      "text/plain": [
       "<Figure size 1260x540 with 1 Axes>"
      ]
     },
     "metadata": {
      "needs_background": "light"
     },
     "output_type": "display_data"
    }
   ],
   "source": [
    "%rm iarray_mean_memory.dat\n",
    "%run -m mprof run -o iarray_mean_memory.dat iarray_mean_memory.py\n",
    "%run -m mprof plot iarray_mean_memory.dat -t \"ironArray memory consumption\""
   ]
  },
  {
   "cell_type": "markdown",
   "metadata": {
    "pycharm": {
     "name": "#%% md\n"
    }
   },
   "source": [
    "The first part of the plot is the loading process of the 3 months of precipitation arrays from disk.  This process stops when the 600 MB mark is reached, meaning that the (compressed) data takes that storage in memory.  The part between blue brackets corresponds to the actual mean computation and ~500 MB were needed to host the mean array.  Finally, the yellow brackets show the computation of the transcendental expression (around 700 MB more).  In the end, ironArray has needed a grand total of 1.6 GB so as to evaluate the *two* expresions.\n",
    "\n",
    "Now, let's see what is the memory consumption for NumPy:"
   ]
  },
  {
   "cell_type": "code",
   "execution_count": 18,
   "metadata": {
    "pycharm": {
     "name": "#%%\n"
    },
    "scrolled": false
   },
   "outputs": [
    {
     "name": "stdout",
     "output_type": "stream",
     "text": [
      "mprof.py: Sampling memory every 0.1s\n",
      "running new process\n",
      "running as a Python program...\n"
     ]
    },
    {
     "data": {
      "image/png": "[encoded data removed]",
      "text/plain": [
       "<Figure size 1260x540 with 1 Axes>"
      ]
     },
     "metadata": {
      "needs_background": "light"
     },
     "output_type": "display_data"
    }
   ],
   "source": [
    "%rm numpy_mean_memory.dat\n",
    "%run -m mprof run -o numpy_mean_memory.dat numpy_mean_memory.py\n",
    "%run -m mprof plot numpy_mean_memory.dat -t \"NumPy memory consumption\""
   ]
  },
  {
   "cell_type": "markdown",
   "metadata": {},
   "source": [
    "In this case, the first part of the plot stops around 8.5 GB (the size of the uncompressed dataset).  The section between blue brackets is where the mean is computed.  In this case, NumPy is well optimized, as it does not seem to use big temporaries (and this is part of the reason on why its computation speed is pretty good).  However, the section for the transcendental evaluation (yellow brackets) shows a more complex pattern, with 2 peaks before reaching the end of the computation.  These peaks clearly correspond to the big temporaries that are needed during the evaluation.  In the end, NumPy has needed around 20 GB so as to evaluate the two expressions.  In comparison, ironArray consumes more than 10x less memory for the same task."
   ]
  },
  {
   "cell_type": "markdown",
   "metadata": {
    "pycharm": {
     "name": "#%% md\n"
    }
   },
   "source": [
    "In general, this means that ironArray can perform operations requiring less memory than using non-compressed arrays, while using a similar time (or much less, like e.g. expressions requiring large temporaries or intermediate function evaluation).\n",
    "\n",
    "Finally, when we want to minimize the amount of memory during computations, ironArray can also perform evaluations on arrays that are resident on disk (aka out-of-core) in a completely transparent way.  This is the subject of the 'on-disk' counterpart of this tutorial."
   ]
  },
  {
   "cell_type": "code",
   "execution_count": null,
   "metadata": {},
   "outputs": [],
   "source": []
  }
 ],
 "metadata": {
  "kernelspec": {
   "display_name": "Python 3",
   "language": "python",
   "name": "python3"
  },
  "language_info": {
   "codemirror_mode": {
    "name": "ipython",
    "version": 3
   },
   "file_extension": ".py",
   "mimetype": "text/x-python",
   "name": "python",
   "nbconvert_exporter": "python",
   "pygments_lexer": "ipython3",
   "version": "3.7.9"
  }
 },
 "nbformat": 4,
 "nbformat_minor": 1
}
