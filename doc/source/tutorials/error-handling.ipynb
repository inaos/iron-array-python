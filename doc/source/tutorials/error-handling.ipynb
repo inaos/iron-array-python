{
 "cells": [
  {
   "cell_type": "markdown",
   "source": [
    "# Error handling\n",
    "\n",
    "ironArray has a sophisticated error handling procedure that allows us to catch errors from both\n",
    "the C library and the Python library.\n",
    "\n",
    "To see how all this machinery works we are going to create a very simple array and deal with some\n",
    "invalid copies:"
   ],
   "metadata": {
    "collapsed": false,
    "pycharm": {
     "name": "#%% md\n"
    }
   }
  },
  {
   "cell_type": "code",
   "execution_count": 1,
   "outputs": [],
   "source": [
    "import iarray as ia\n",
    "import numpy as np"
   ],
   "metadata": {
    "collapsed": false,
    "pycharm": {
     "name": "#%%\n"
    }
   }
  },
  {
   "cell_type": "code",
   "execution_count": 2,
   "outputs": [],
   "source": [
    "dtshape = ia.DTShape((1000, 1000), dtype=np.float32)\n",
    "a = ia.linspace(dtshape, 0, 1)"
   ],
   "metadata": {
    "collapsed": false,
    "pycharm": {
     "name": "#%%\n"
    }
   }
  },
  {
   "cell_type": "code",
   "execution_count": 3,
   "outputs": [],
   "source": [
    "with ia.config(chunkshape=(100, 100), blockshape=(50, 50)) as cfg:\n",
    "    a.copy(cfg=cfg)\n"
   ],
   "metadata": {
    "collapsed": false,
    "pycharm": {
     "name": "#%%\n"
    }
   }
  },
  {
   "cell_type": "markdown",
   "source": [
    "As we can see, this first copy was created correctly.\n",
    "But what happens if we create a copy with a chunkshape bigger than the shape of the array?"
   ],
   "metadata": {
    "collapsed": false,
    "pycharm": {
     "name": "#%% md\n"
    }
   }
  },
  {
   "cell_type": "code",
   "execution_count": 4,
   "outputs": [
    {
     "ename": "IArrayError",
     "evalue": "b'CHUNK SHAPE NOT VALID - 0x800a000000938404 - error=1,ver=0,rev=10,os=0,neg=1,adj=147,subject=1028,code=9633792,ubits=0x0'",
     "output_type": "error",
     "traceback": [
      "\u001B[0;31m---------------------------------------------------------------------------\u001B[0m",
      "\u001B[0;31mIArrayError\u001B[0m                               Traceback (most recent call last)",
      "\u001B[0;32m<ipython-input-4-a27bf6299000>\u001B[0m in \u001B[0;36m<module>\u001B[0;34m\u001B[0m\n\u001B[1;32m      1\u001B[0m \u001B[0;32mwith\u001B[0m \u001B[0mia\u001B[0m\u001B[0;34m.\u001B[0m\u001B[0mconfig\u001B[0m\u001B[0;34m(\u001B[0m\u001B[0mchunkshape\u001B[0m\u001B[0;34m=\u001B[0m\u001B[0;34m(\u001B[0m\u001B[0;36m10000\u001B[0m\u001B[0;34m,\u001B[0m \u001B[0;36m10000\u001B[0m\u001B[0;34m)\u001B[0m\u001B[0;34m,\u001B[0m \u001B[0mblockshape\u001B[0m\u001B[0;34m=\u001B[0m\u001B[0;34m(\u001B[0m\u001B[0;36m1000\u001B[0m\u001B[0;34m,\u001B[0m \u001B[0;36m1000\u001B[0m\u001B[0;34m)\u001B[0m\u001B[0;34m)\u001B[0m \u001B[0;32mas\u001B[0m \u001B[0mcfg\u001B[0m\u001B[0;34m:\u001B[0m\u001B[0;34m\u001B[0m\u001B[0;34m\u001B[0m\u001B[0m\n\u001B[0;32m----> 2\u001B[0;31m     \u001B[0ma\u001B[0m\u001B[0;34m.\u001B[0m\u001B[0mcopy\u001B[0m\u001B[0;34m(\u001B[0m\u001B[0mcfg\u001B[0m\u001B[0;34m=\u001B[0m\u001B[0mcfg\u001B[0m\u001B[0;34m)\u001B[0m\u001B[0;34m\u001B[0m\u001B[0;34m\u001B[0m\u001B[0m\n\u001B[0m\u001B[1;32m      3\u001B[0m \u001B[0;34m\u001B[0m\u001B[0m\n\u001B[1;32m      4\u001B[0m \u001B[0;34m\u001B[0m\u001B[0m\n",
      "\u001B[0;32m~/Projects/iron-array/iron-array-python/iarray/iarray_container.py\u001B[0m in \u001B[0;36mcopy\u001B[0;34m(self, view, cfg, **kwargs)\u001B[0m\n\u001B[1;32m     64\u001B[0m         \"\"\"\n\u001B[1;32m     65\u001B[0m         \u001B[0;32mwith\u001B[0m \u001B[0mia\u001B[0m\u001B[0;34m.\u001B[0m\u001B[0mconfig\u001B[0m\u001B[0;34m(\u001B[0m\u001B[0mdtshape\u001B[0m\u001B[0;34m=\u001B[0m\u001B[0mself\u001B[0m\u001B[0;34m.\u001B[0m\u001B[0mdtshape\u001B[0m\u001B[0;34m,\u001B[0m \u001B[0mcfg\u001B[0m\u001B[0;34m=\u001B[0m\u001B[0mcfg\u001B[0m\u001B[0;34m,\u001B[0m \u001B[0;34m**\u001B[0m\u001B[0mkwargs\u001B[0m\u001B[0;34m)\u001B[0m \u001B[0;32mas\u001B[0m \u001B[0mcfg\u001B[0m\u001B[0;34m:\u001B[0m\u001B[0;34m\u001B[0m\u001B[0;34m\u001B[0m\u001B[0m\n\u001B[0;32m---> 66\u001B[0;31m             \u001B[0;32mreturn\u001B[0m \u001B[0mext\u001B[0m\u001B[0;34m.\u001B[0m\u001B[0mcopy\u001B[0m\u001B[0;34m(\u001B[0m\u001B[0mcfg\u001B[0m\u001B[0;34m,\u001B[0m \u001B[0mself\u001B[0m\u001B[0;34m,\u001B[0m \u001B[0mview\u001B[0m\u001B[0;34m)\u001B[0m\u001B[0;34m\u001B[0m\u001B[0;34m\u001B[0m\u001B[0m\n\u001B[0m\u001B[1;32m     67\u001B[0m \u001B[0;34m\u001B[0m\u001B[0m\n\u001B[1;32m     68\u001B[0m     \u001B[0;32mdef\u001B[0m \u001B[0mcopyto\u001B[0m\u001B[0;34m(\u001B[0m\u001B[0mself\u001B[0m\u001B[0;34m,\u001B[0m \u001B[0mdest\u001B[0m\u001B[0;34m)\u001B[0m\u001B[0;34m:\u001B[0m\u001B[0;34m\u001B[0m\u001B[0;34m\u001B[0m\u001B[0m\n",
      "\u001B[0;32miarray_ext.pyx\u001B[0m in \u001B[0;36miarray.iarray_ext.copy\u001B[0;34m()\u001B[0m\n",
      "\u001B[0;32miarray_ext.pyx\u001B[0m in \u001B[0;36miarray.iarray_ext.iarray_check\u001B[0;34m()\u001B[0m\n",
      "\u001B[0;31mIArrayError\u001B[0m: b'CHUNK SHAPE NOT VALID - 0x800a000000938404 - error=1,ver=0,rev=10,os=0,neg=1,adj=147,subject=1028,code=9633792,ubits=0x0'"
     ]
    }
   ],
   "source": [
    "with ia.config(chunkshape=(10000, 10000), blockshape=(1000, 1000)) as cfg:\n",
    "    a.copy(cfg=cfg)\n"
   ],
   "metadata": {
    "collapsed": false,
    "pycharm": {
     "name": "#%%\n"
    }
   }
  },
  {
   "cell_type": "markdown",
   "source": [
    "Now the ironArray machinery has returned us a Python error defined in ironArray called\n",
    "``IArrayError``. This error simply returns a very general error message. In this particular case,\n",
    "the error is ``CHUNK SHAPE NOT VALID`` but it does not indicate why it is not valid.\n",
    "\n",
    "In order to obtain more detailed information about the error, we can set the environment variable\n",
    "``INAC_TRACE=\"iarray.error\"``. With this environment variable activated, ironArray will show us\n",
    "a more detailed error and, in addition, it will provide us with a tracing of the C library.\n",
    "\n",
    "To use this functionality inside a jupyter notebook (as in our case), we also have to use the\n",
    "``wurlitzer`` extension to correctly handle stdout and stderr files."
   ],
   "metadata": {
    "collapsed": false,
    "pycharm": {
     "name": "#%% md\n"
    }
   }
  },
  {
   "cell_type": "code",
   "execution_count": 5,
   "outputs": [],
   "source": [
    "%load_ext wurlitzer\n",
    "\n",
    "import os\n",
    "os.environ['INAC_TRACE'] = 'iarray.error'\n"
   ],
   "metadata": {
    "collapsed": false,
    "pycharm": {
     "name": "#%%\n"
    }
   }
  },
  {
   "cell_type": "code",
   "execution_count": 6,
   "outputs": [
    {
     "name": "stdout",
     "output_type": "stream",
     "text": [
      "[iarray.error] - The chunkshape is bigger than shape /Users/aleix11alcacer/Projects/iron-array/iron-array-python/iarray/iarray-c-develop/src/iarray_container.c:271\n",
      "[iarray.error] - Tracing:  /Users/aleix11alcacer/Projects/iron-array/iron-array-python/iarray/iarray-c-develop/src/iarray_constructor.c:458\n"
     ]
    },
    {
     "ename": "IArrayError",
     "evalue": "b'CHUNK SHAPE NOT VALID - 0x800a000000938404 - error=1,ver=0,rev=10,os=0,neg=1,adj=147,subject=1028,code=9633792,ubits=0x0'",
     "output_type": "error",
     "traceback": [
      "\u001B[0;31m---------------------------------------------------------------------------\u001B[0m",
      "\u001B[0;31mIArrayError\u001B[0m                               Traceback (most recent call last)",
      "\u001B[0;32m<ipython-input-6-b858e61e47cf>\u001B[0m in \u001B[0;36m<module>\u001B[0;34m\u001B[0m\n\u001B[1;32m      1\u001B[0m \u001B[0;32mwith\u001B[0m \u001B[0mia\u001B[0m\u001B[0;34m.\u001B[0m\u001B[0mconfig\u001B[0m\u001B[0;34m(\u001B[0m\u001B[0mchunkshape\u001B[0m\u001B[0;34m=\u001B[0m\u001B[0;34m(\u001B[0m\u001B[0;36m10000\u001B[0m\u001B[0;34m,\u001B[0m \u001B[0;36m10000\u001B[0m\u001B[0;34m)\u001B[0m\u001B[0;34m,\u001B[0m \u001B[0mblockshape\u001B[0m\u001B[0;34m=\u001B[0m\u001B[0;34m(\u001B[0m\u001B[0;36m1000\u001B[0m\u001B[0;34m,\u001B[0m \u001B[0;36m1000\u001B[0m\u001B[0;34m)\u001B[0m\u001B[0;34m)\u001B[0m \u001B[0;32mas\u001B[0m \u001B[0mcfg\u001B[0m\u001B[0;34m:\u001B[0m\u001B[0;34m\u001B[0m\u001B[0;34m\u001B[0m\u001B[0m\n\u001B[0;32m----> 2\u001B[0;31m     \u001B[0ma\u001B[0m\u001B[0;34m.\u001B[0m\u001B[0mcopy\u001B[0m\u001B[0;34m(\u001B[0m\u001B[0mcfg\u001B[0m\u001B[0;34m=\u001B[0m\u001B[0mcfg\u001B[0m\u001B[0;34m)\u001B[0m\u001B[0;34m\u001B[0m\u001B[0;34m\u001B[0m\u001B[0m\n\u001B[0m",
      "\u001B[0;32m~/Projects/iron-array/iron-array-python/iarray/iarray_container.py\u001B[0m in \u001B[0;36mcopy\u001B[0;34m(self, view, cfg, **kwargs)\u001B[0m\n\u001B[1;32m     64\u001B[0m         \"\"\"\n\u001B[1;32m     65\u001B[0m         \u001B[0;32mwith\u001B[0m \u001B[0mia\u001B[0m\u001B[0;34m.\u001B[0m\u001B[0mconfig\u001B[0m\u001B[0;34m(\u001B[0m\u001B[0mdtshape\u001B[0m\u001B[0;34m=\u001B[0m\u001B[0mself\u001B[0m\u001B[0;34m.\u001B[0m\u001B[0mdtshape\u001B[0m\u001B[0;34m,\u001B[0m \u001B[0mcfg\u001B[0m\u001B[0;34m=\u001B[0m\u001B[0mcfg\u001B[0m\u001B[0;34m,\u001B[0m \u001B[0;34m**\u001B[0m\u001B[0mkwargs\u001B[0m\u001B[0;34m)\u001B[0m \u001B[0;32mas\u001B[0m \u001B[0mcfg\u001B[0m\u001B[0;34m:\u001B[0m\u001B[0;34m\u001B[0m\u001B[0;34m\u001B[0m\u001B[0m\n\u001B[0;32m---> 66\u001B[0;31m             \u001B[0;32mreturn\u001B[0m \u001B[0mext\u001B[0m\u001B[0;34m.\u001B[0m\u001B[0mcopy\u001B[0m\u001B[0;34m(\u001B[0m\u001B[0mcfg\u001B[0m\u001B[0;34m,\u001B[0m \u001B[0mself\u001B[0m\u001B[0;34m,\u001B[0m \u001B[0mview\u001B[0m\u001B[0;34m)\u001B[0m\u001B[0;34m\u001B[0m\u001B[0;34m\u001B[0m\u001B[0m\n\u001B[0m\u001B[1;32m     67\u001B[0m \u001B[0;34m\u001B[0m\u001B[0m\n\u001B[1;32m     68\u001B[0m     \u001B[0;32mdef\u001B[0m \u001B[0mcopyto\u001B[0m\u001B[0;34m(\u001B[0m\u001B[0mself\u001B[0m\u001B[0;34m,\u001B[0m \u001B[0mdest\u001B[0m\u001B[0;34m)\u001B[0m\u001B[0;34m:\u001B[0m\u001B[0;34m\u001B[0m\u001B[0;34m\u001B[0m\u001B[0m\n",
      "\u001B[0;32miarray_ext.pyx\u001B[0m in \u001B[0;36miarray.iarray_ext.copy\u001B[0;34m()\u001B[0m\n",
      "\u001B[0;32miarray_ext.pyx\u001B[0m in \u001B[0;36miarray.iarray_ext.iarray_check\u001B[0;34m()\u001B[0m\n",
      "\u001B[0;31mIArrayError\u001B[0m: b'CHUNK SHAPE NOT VALID - 0x800a000000938404 - error=1,ver=0,rev=10,os=0,neg=1,adj=147,subject=1028,code=9633792,ubits=0x0'"
     ]
    }
   ],
   "source": [
    "with ia.config(chunkshape=(10000, 10000), blockshape=(1000, 1000)) as cfg:\n",
    "    a.copy(cfg=cfg)"
   ],
   "metadata": {
    "collapsed": false,
    "pycharm": {
     "name": "#%%\n"
    }
   }
  },
  {
   "cell_type": "markdown",
   "source": [
    "On the one hand, with the INAC_TRACE environment variable set we get the error message\n",
    "``The chunkshape is bigger than shape`` that as we can see, this message\n",
    "already gives us an idea of what we are doing wrong.\n",
    "\n",
    "On the other hand, it also tells us in which lines of the code of the C library the error has\n",
    "occurred. In this case:\n",
    "- ``iarray/iarray-c-develop/src/iarray_container.c:271``\n",
    "- ``iarray/iarray-c-develop/src/iarray_constructor.c:458``"
   ],
   "metadata": {
    "collapsed": false,
    "pycharm": {
     "name": "#%% md\n"
    }
   }
  }
 ],
 "metadata": {
  "kernelspec": {
   "display_name": "Python 3",
   "language": "python",
   "name": "python3"
  },
  "language_info": {
   "codemirror_mode": {
    "name": "ipython",
    "version": 2
   },
   "file_extension": ".py",
   "mimetype": "text/x-python",
   "name": "python",
   "nbconvert_exporter": "python",
   "pygments_lexer": "ipython2",
   "version": "2.7.6"
  }
 },
 "nbformat": 4,
 "nbformat_minor": 0
}