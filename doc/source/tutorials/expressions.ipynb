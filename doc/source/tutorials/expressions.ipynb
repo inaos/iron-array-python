{
 "cells": [
  {
   "cell_type": "markdown",
   "metadata": {},
   "source": [
    "# Expressions\n",
    "\n",
    "ironArray has a strong support for expression evaluation.  Things like sums, products, divisions or a pretty complete range of transcendental functions (e.g. `exp`, `sin`, `asin`, `tanh`...).  Fast evaluation of (large) arrays is one of the features that received more love during the development.  Performance comes from a balance between:\n",
    "\n",
    "1. Use of [Intel MKL](https://software.intel.com/content/www/us/en/develop/tools/oneapi/components/onemkl.html) for accelerating transcendental functions.\n",
    "\n",
    "2. Use of [Intel SVML](https://software.intel.com/content/www/us/en/develop/documentation/cpp-compiler-developer-guide-and-reference/top/compiler-reference/intrinsics/intrinsics-for-short-vector-math-library-operations/overview-intrinsics-for-short-vector-math-library-svml-functions.html) for computing vector math functions.\n",
    "\n",
    "3. Use of multi-threading capabilities.\n",
    "\n",
    "4. Leveraging the 2-level partitioning in ironArray arrays so that most of the computation intensive happens inside private caches (L1, L2), which benefits multi-threading performance.\n",
    "\n",
    "You can access to the powerful evaluation capabilities in ironArray in different ways, which we are going to succinctly expose in this tutorial.  In order to do that, we are going to make use of the dataset that we created in our reductions tutorial.  Let's go:\n"
   ]
  },
  {
   "cell_type": "code",
   "execution_count": 1,
   "metadata": {
    "pycharm": {
     "name": "#%%\n"
    }
   },
   "outputs": [
    {
     "name": "stdout",
     "output_type": "stream",
     "text": [
      "In [1] used 0.000 MiB RAM in 0.001s, peaked 0.000 MiB above current, total RAM usage 98.812 MiB\n"
     ]
    }
   ],
   "source": [
    "import numpy as np\n",
    "import iarray as ia\n",
    "from ipython_memwatcher import MemWatcher\n",
    "mw = MemWatcher()\n",
    "mw.start_watching_memory()"
   ]
  },
  {
   "cell_type": "code",
   "execution_count": 2,
   "outputs": [
    {
     "name": "stdout",
     "output_type": "stream",
     "text": [
      "In [2] used 4.141 MiB RAM in 0.003s, peaked 0.000 MiB above current, total RAM usage 102.953 MiB\n"
     ]
    }
   ],
   "source": [
    "ia_precip = ia.load(\"precip-3m.iarr\")"
   ],
   "metadata": {
    "collapsed": false,
    "pycharm": {
     "name": "#%%\n"
    }
   }
  },
  {
   "cell_type": "markdown",
   "metadata": {
    "pycharm": {
     "name": "#%% md\n"
    }
   },
   "source": [
    "Now, in order to evaluate some expressions on this, let's put the data for each month on a different array:"
   ]
  },
  {
   "cell_type": "code",
   "execution_count": 3,
   "outputs": [
    {
     "name": "stdout",
     "output_type": "stream",
     "text": [
      "In [3] used 1586.758 MiB RAM in 20.413s, peaked 0.004 MiB above current, total RAM usage 1689.711 MiB\n"
     ]
    }
   ],
   "source": [
    "precip1 = ia_precip[0].copy()\n",
    "precip2 = ia_precip[1].copy()\n",
    "precip3 = ia_precip[2].copy()"
   ],
   "metadata": {
    "collapsed": false,
    "pycharm": {
     "name": "#%%\n"
    }
   }
  },
  {
   "cell_type": "markdown",
   "metadata": {
    "pycharm": {
     "name": "#%% md\n"
    }
   },
   "source": [
    "Note how, even if the data for all the three months takes almost 9 GB uncompressed, ironArray has used just a bit more than 1.7 GB for holding them in RAM.  This is compression at work.\n",
    "\n",
    "With that, let's compute something easy, like a new array with the mean of these.  For that, we are going to use the internal evaluation engine:"
   ]
  },
  {
   "cell_type": "code",
   "execution_count": 4,
   "metadata": {
    "pycharm": {
     "name": "#%%\n"
    }
   },
   "outputs": [
    {
     "name": "stdout",
     "output_type": "stream",
     "text": [
      "In [4] used 11.711 MiB RAM in 0.021s, peaked 0.000 MiB above current, total RAM usage 1701.422 MiB\n"
     ]
    }
   ],
   "source": [
    "precip_expr = ia.expr_from_string(\"(p1 + p2 + p3) / 3\", {'p1': precip1, 'p2': precip2, 'p3': precip3})"
   ]
  },
  {
   "cell_type": "markdown",
   "metadata": {
    "pycharm": {
     "name": "#%% md\n"
    }
   },
   "source": [
    "Ok, that was fast, but we did not quite evaluate anything yet.  In order to do the actual evaluation, we have to call `.eval()` on the expression:"
   ]
  },
  {
   "cell_type": "code",
   "execution_count": 5,
   "metadata": {
    "pycharm": {
     "name": "#%%\n"
    }
   },
   "outputs": [
    {
     "data": {
      "text/plain": "<IArray (720, 721, 1440) np.float32>"
     },
     "execution_count": 5,
     "metadata": {},
     "output_type": "execute_result"
    },
    {
     "name": "stdout",
     "output_type": "stream",
     "text": [
      "In [5] used 1249.672 MiB RAM in 1.588s, peaked 0.000 MiB above current, total RAM usage 2951.094 MiB\n"
     ]
    }
   ],
   "source": [
    "precip_mean = precip_expr.eval()\n",
    "precip_mean"
   ]
  },
  {
   "cell_type": "code",
   "execution_count": 6,
   "outputs": [
    {
     "name": "stdout",
     "output_type": "stream",
     "text": [
      "In [6] used -0.004 MiB RAM in 0.000s, peaked 0.000 MiB above current, total RAM usage 2951.090 MiB\n"
     ]
    }
   ],
   "source": [
    "meas = {}\n",
    "meas[\"ia_mean\"] = mw.measurements"
   ],
   "metadata": {
    "collapsed": false,
    "pycharm": {
     "name": "#%%\n"
    }
   }
  },
  {
   "cell_type": "markdown",
   "metadata": {
    "pycharm": {
     "name": "#%% md\n"
    }
   },
   "source": [
    "Cool, so we have our first evaluation done.  But let's see how it performs against NumPy, and especially, whether the outcome is correct:"
   ]
  },
  {
   "cell_type": "code",
   "execution_count": 7,
   "metadata": {
    "pycharm": {
     "name": "#%%\n"
    }
   },
   "outputs": [
    {
     "name": "stdout",
     "output_type": "stream",
     "text": [
      "In [7] used 8563.875 MiB RAM in 6.606s, peaked 0.000 MiB above current, total RAM usage 11514.965 MiB\n"
     ]
    }
   ],
   "source": [
    "np_precip1 = precip1.data\n",
    "np_precip2 = precip2.data\n",
    "np_precip3 = precip3.data"
   ]
  },
  {
   "cell_type": "markdown",
   "source": [
    "Here we see how the data takes about 9 GB of RAM.  Now, let's do the actual mean:"
   ],
   "metadata": {
    "collapsed": false,
    "pycharm": {
     "name": "#%% md\n"
    }
   }
  },
  {
   "cell_type": "code",
   "execution_count": 8,
   "metadata": {
    "pycharm": {
     "name": "#%%\n"
    }
   },
   "outputs": [
    {
     "name": "stdout",
     "output_type": "stream",
     "text": [
      "In [8] used 2852.660 MiB RAM in 1.787s, peaked 0.000 MiB above current, total RAM usage 14367.625 MiB\n"
     ]
    }
   ],
   "source": [
    "np_precip_mean = (np_precip1 + np_precip2 + np_precip3) / 3"
   ]
  },
  {
   "cell_type": "code",
   "execution_count": 9,
   "outputs": [
    {
     "name": "stdout",
     "output_type": "stream",
     "text": [
      "In [9] used 0.035 MiB RAM in 0.000s, peaked 0.000 MiB above current, total RAM usage 14367.660 MiB\n"
     ]
    }
   ],
   "source": [
    "meas[\"np_mean\"] = mw.measurements"
   ],
   "metadata": {
    "collapsed": false,
    "pycharm": {
     "name": "#%%\n"
    }
   }
  },
  {
   "cell_type": "markdown",
   "metadata": {
    "pycharm": {
     "name": "#%% md\n"
    }
   },
   "source": [
    "So, ironArray times are quite competitive with NumPy.  How about the correctness of the outcome?.  Let's see:"
   ]
  },
  {
   "cell_type": "code",
   "execution_count": 10,
   "outputs": [
    {
     "name": "stdout",
     "output_type": "stream",
     "text": [
      "In [10] used -5452.648 MiB RAM in 21.293s, peaked 13549.562 MiB above current, total RAM usage 8915.012 MiB\n"
     ]
    }
   ],
   "source": [
    "np.testing.assert_almost_equal(np_precip_mean, precip_mean.data)"
   ],
   "metadata": {
    "collapsed": false,
    "pycharm": {
     "name": "#%%\n"
    }
   }
  },
  {
   "cell_type": "markdown",
   "metadata": {
    "pycharm": {
     "name": "#%% md\n"
    }
   },
   "source": [
    "Cool, results are the same. That means that ironArray can run generally faster than NumPy, even if the former uses data in compressed form by default.\n",
    "\n",
    "Now, let's use expressions with some transcendental functions.  This does not make sense for this case (precipitation data), but we are doing this just as an indication of the efficiency of ironArray:"
   ]
  },
  {
   "cell_type": "code",
   "execution_count": 11,
   "metadata": {
    "pycharm": {
     "name": "#%%\n"
    }
   },
   "outputs": [
    {
     "data": {
      "text/plain": "<IArray (720, 721, 1440) np.float32>"
     },
     "execution_count": 11,
     "metadata": {},
     "output_type": "execute_result"
    },
    {
     "name": "stdout",
     "output_type": "stream",
     "text": [
      "In [11] used 1070.480 MiB RAM in 2.347s, peaked 0.000 MiB above current, total RAM usage 9985.492 MiB\n"
     ]
    }
   ],
   "source": [
    "result = ia.expr_from_string(\"(tan(p1) * (sin(p1) * sin(p2) + cos(p2)) + sqrt(p3) * 2)\",\n",
    "                             {'p1': precip1, 'p2': precip2, 'p3': precip3}\n",
    "                             ).eval()\n",
    "result"
   ]
  },
  {
   "cell_type": "code",
   "execution_count": 12,
   "outputs": [
    {
     "name": "stdout",
     "output_type": "stream",
     "text": [
      "In [12] used 0.020 MiB RAM in 0.000s, peaked 0.000 MiB above current, total RAM usage 9985.512 MiB\n"
     ]
    }
   ],
   "source": [
    "meas[\"ia_trans\"] = mw.measurements"
   ],
   "metadata": {
    "collapsed": false,
    "pycharm": {
     "name": "#%%\n"
    }
   }
  },
  {
   "cell_type": "markdown",
   "metadata": {
    "pycharm": {
     "name": "#%% md\n"
    }
   },
   "source": [
    "In this case we see that the overhead of using transcendental functions is pretty low compared with plain arithmetic operations (sum, rest, mult, division...). Let's compare this against NumPy:"
   ]
  },
  {
   "cell_type": "code",
   "execution_count": 13,
   "outputs": [
    {
     "name": "stdout",
     "output_type": "stream",
     "text": [
      "In [13] used 7430.055 MiB RAM in 17.372s, peaked 3562.102 MiB above current, total RAM usage 17415.566 MiB\n"
     ]
    }
   ],
   "source": [
    "p1_ = np_precip1\n",
    "p2_ = np_precip2\n",
    "p3_ = np_precip3\n",
    "np_result = (np.tan(p1_) * (np.sin(p1_) * np.sin(p2_) + np.cos(p2_)) + np.sqrt(p3_) * 2)"
   ],
   "metadata": {
    "collapsed": false,
    "pycharm": {
     "name": "#%%\n"
    }
   }
  },
  {
   "cell_type": "code",
   "execution_count": 14,
   "outputs": [
    {
     "name": "stdout",
     "output_type": "stream",
     "text": [
      "In [14] used 0.000 MiB RAM in 0.000s, peaked 0.000 MiB above current, total RAM usage 17415.566 MiB\n"
     ]
    }
   ],
   "source": [
    "meas[\"np_trans\"] = mw.measurements"
   ],
   "metadata": {
    "collapsed": false,
    "pycharm": {
     "name": "#%%\n"
    }
   }
  },
  {
   "cell_type": "markdown",
   "source": [
    "Ok, this is really slow, but this is kind of expected, as ironArray comes with support for evaluating transcendental functions via MKL, while NumPy does not.\n",
    "\n",
    "But do not forget to check for correctness:"
   ],
   "metadata": {
    "collapsed": false,
    "pycharm": {
     "name": "#%% md\n"
    }
   }
  },
  {
   "cell_type": "code",
   "execution_count": 15,
   "outputs": [
    {
     "name": "stdout",
     "output_type": "stream",
     "text": [
      "In [15] used -7754.230 MiB RAM in 22.260s, peaked 13480.273 MiB above current, total RAM usage 9661.336 MiB\n"
     ]
    }
   ],
   "source": [
    "np.testing.assert_almost_equal(np_result, result.data)"
   ],
   "metadata": {
    "collapsed": false,
    "pycharm": {
     "name": "#%%\n"
    }
   }
  },
  {
   "cell_type": "markdown",
   "source": [
    "Yes, not a noticeable difference, as expected."
   ],
   "metadata": {
    "collapsed": false,
    "pycharm": {
     "name": "#%% md\n"
    }
   }
  },
  {
   "cell_type": "markdown",
   "source": [
    "## Lazy expressions\n",
    "\n",
    "So far we have been using strings as the way to build expressions.  However, there is a handier (and perhaps more elegant) way to build expressions via the so-called lazy expressions.  With lazy expressions you just express your computations in terms of `IArray` objects.\n",
    "\n",
    "For example, the mean of the precipitation would be expressed as:"
   ],
   "metadata": {
    "collapsed": false,
    "pycharm": {
     "name": "#%% md\n"
    }
   }
  },
  {
   "cell_type": "code",
   "execution_count": 16,
   "outputs": [
    {
     "name": "stdout",
     "output_type": "stream",
     "text": [
      "In [16] used 1.125 MiB RAM in 0.011s, peaked 0.000 MiB above current, total RAM usage 9662.461 MiB\n"
     ]
    }
   ],
   "source": [
    "precip_expr = (precip1 + precip2 + precip3) / 3"
   ],
   "metadata": {
    "collapsed": false,
    "pycharm": {
     "name": "#%%\n"
    }
   }
  },
  {
   "cell_type": "code",
   "execution_count": 17,
   "outputs": [
    {
     "data": {
      "text/plain": "<IArray (720, 721, 1440) np.float32>"
     },
     "execution_count": 17,
     "metadata": {},
     "output_type": "execute_result"
    },
    {
     "name": "stdout",
     "output_type": "stream",
     "text": [
      "In [17] used 1315.832 MiB RAM in 1.707s, peaked 0.000 MiB above current, total RAM usage 10978.293 MiB\n"
     ]
    }
   ],
   "source": [
    "precip_mean = precip_expr.eval()\n",
    "precip_mean"
   ],
   "metadata": {
    "collapsed": false,
    "pycharm": {
     "name": "#%%\n"
    }
   }
  },
  {
   "cell_type": "code",
   "execution_count": 18,
   "outputs": [
    {
     "name": "stdout",
     "output_type": "stream",
     "text": [
      "In [18] used 0.027 MiB RAM in 0.000s, peaked 0.000 MiB above current, total RAM usage 10978.320 MiB\n"
     ]
    }
   ],
   "source": [
    "meas[\"ia_mean_lazy\"] = mw.measurements"
   ],
   "metadata": {
    "collapsed": false,
    "pycharm": {
     "name": "#%%\n"
    }
   }
  },
  {
   "cell_type": "markdown",
   "source": [
    "Lazy expressions are similar to how you use NumPy to evaluate expressions with some differences:\n",
    "\n",
    "1. You need to be explicit when you want to `.eval()`-uate the expressions.\n",
    "\n",
    "2. There are no big temporaries involved.  The expression is compiled on the flight and large temporaries are avoided.  This means not only that we require less memory, but more importantly, that expressions evaluate faster (memory access is always expensive).\n",
    "\n",
    "For evaluating expressions with transcendental functions you need to use ironArray methods:"
   ],
   "metadata": {
    "collapsed": false,
    "pycharm": {
     "name": "#%% md\n"
    }
   }
  },
  {
   "cell_type": "code",
   "execution_count": 19,
   "outputs": [
    {
     "name": "stdout",
     "output_type": "stream",
     "text": [
      "In [19] used 0.105 MiB RAM in 0.002s, peaked 0.000 MiB above current, total RAM usage 10978.426 MiB\n"
     ]
    }
   ],
   "source": [
    "lazy_expr = ia.tan(precip1) * (ia.sin(precip1) * ia.sin(precip2) + ia.cos(precip2)) + ia.sqrt(precip3) * 2\n",
    "# Yoy can also use the next idiom, which is not as close to NumPy, but a hair more concise\n",
    "#lazy_expr = precip1.tan() * (precip1.sin() * precip2.sin() + precip2.cos()) + precip3.sqrt() * 2"
   ],
   "metadata": {
    "collapsed": false,
    "pycharm": {
     "name": "#%%\n"
    }
   }
  },
  {
   "cell_type": "code",
   "execution_count": 20,
   "outputs": [
    {
     "data": {
      "text/plain": "<IArray (720, 721, 1440) np.float32>"
     },
     "execution_count": 20,
     "metadata": {},
     "output_type": "execute_result"
    },
    {
     "name": "stdout",
     "output_type": "stream",
     "text": [
      "In [20] used 1052.074 MiB RAM in 2.365s, peaked 0.000 MiB above current, total RAM usage 12030.500 MiB\n"
     ]
    }
   ],
   "source": [
    "lazy_result = lazy_expr.eval()\n",
    "lazy_result\n"
   ],
   "metadata": {
    "collapsed": false,
    "pycharm": {
     "name": "#%%\n"
    }
   }
  },
  {
   "cell_type": "code",
   "execution_count": 21,
   "outputs": [
    {
     "name": "stdout",
     "output_type": "stream",
     "text": [
      "In [21] used 0.023 MiB RAM in 0.000s, peaked 0.000 MiB above current, total RAM usage 12030.523 MiB\n"
     ]
    }
   ],
   "source": [
    "meas[\"ia_trans_lazy\"] = mw.measurements"
   ],
   "metadata": {
    "collapsed": false,
    "pycharm": {
     "name": "#%%\n"
    }
   }
  },
  {
   "cell_type": "markdown",
   "source": [
    "Note how execution times and memory usage are very similar to the string expressions evaluator.\n",
    "\n",
    "As you can see, lazy expressions allow for a more Pythonic way to integrate ironArray operands in expressions, just like NumPy (only more memory efficient and faster).  In general, you can use the method you like the most, although evaluation of string expressions tends to be a hair faster, especially when using small arrays."
   ],
   "metadata": {
    "collapsed": false,
    "pycharm": {
     "name": "#%% md\n"
    }
   }
  },
  {
   "cell_type": "markdown",
   "source": [
    "As always, let's check that the result is correct:"
   ],
   "metadata": {
    "collapsed": false,
    "pycharm": {
     "name": "#%% md\n"
    }
   }
  },
  {
   "cell_type": "code",
   "execution_count": 22,
   "outputs": [
    {
     "name": "stdout",
     "output_type": "stream",
     "text": [
      "In [22] used -4085.891 MiB RAM in 19.361s, peaked 13968.488 MiB above current, total RAM usage 7944.633 MiB\n"
     ]
    }
   ],
   "source": [
    "np.testing.assert_almost_equal(np_result, lazy_result.data)"
   ],
   "metadata": {
    "collapsed": false,
    "pycharm": {
     "name": "#%%\n"
    }
   }
  },
  {
   "cell_type": "markdown",
   "source": [
    "## Resource consumption\n",
    "\n",
    "As a summary, let's do a plot on the speed for the different kind of computations:"
   ],
   "metadata": {
    "collapsed": false,
    "pycharm": {
     "name": "#%% md\n"
    }
   }
  },
  {
   "cell_type": "code",
   "execution_count": 23,
   "outputs": [
    {
     "data": {
      "text/plain": "<matplotlib.axes._subplots.AxesSubplot at 0x7fe768882df0>"
     },
     "execution_count": 23,
     "metadata": {},
     "output_type": "execute_result"
    },
    {
     "data": {
      "text/plain": "<Figure size 864x360 with 1 Axes>",
      "image/png": "[encoded data removed]"
     },
     "metadata": {
      "needs_background": "light"
     },
     "output_type": "display_data"
    },
    {
     "name": "stdout",
     "output_type": "stream",
     "text": [
      "In [23] used 72.215 MiB RAM in 0.778s, peaked 0.000 MiB above current, total RAM usage 8016.848 MiB\n"
     ]
    }
   ],
   "source": [
    "%matplotlib inline\n",
    "import pandas as pd\n",
    "\n",
    "labels = [\"ironArray mean\",\n",
    "          \"ironArray mean (lazy)\",\n",
    "          \"NumPy mean\",\n",
    "          \"ironArray trans\",\n",
    "          \"ironArray trans (lazy)\",\n",
    "          \"NumPy trans\"]\n",
    "df = pd.DataFrame({'time (sec)': [\n",
    "    meas[\"ia_mean\"].time_delta,\n",
    "    meas[\"ia_mean_lazy\"].time_delta,\n",
    "    meas[\"np_mean\"].time_delta,\n",
    "    meas[\"ia_trans\"].time_delta,\n",
    "    meas[\"ia_trans_lazy\"].time_delta,\n",
    "    meas[\"np_trans\"].time_delta]},\n",
    "    index=labels)\n",
    "df.plot(kind='barh', figsize=(12,5), fontsize=16, title=\"Evaluation times (in-memory)\")"
   ],
   "metadata": {
    "collapsed": false,
    "pycharm": {
     "name": "#%%\n"
    }
   }
  },
  {
   "cell_type": "markdown",
   "source": [
    "and the memory used for every kind of computations:"
   ],
   "metadata": {
    "collapsed": false,
    "pycharm": {
     "name": "#%% md\n"
    }
   }
  },
  {
   "cell_type": "code",
   "execution_count": 24,
   "outputs": [
    {
     "data": {
      "text/plain": "<matplotlib.axes._subplots.AxesSubplot at 0x7fe768882700>"
     },
     "execution_count": 24,
     "metadata": {},
     "output_type": "execute_result"
    },
    {
     "data": {
      "text/plain": "<Figure size 864x360 with 1 Axes>",
      "image/png": "[encoded data removed]"
     },
     "metadata": {
      "needs_background": "light"
     },
     "output_type": "display_data"
    },
    {
     "name": "stdout",
     "output_type": "stream",
     "text": [
      "In [24] used 0.777 MiB RAM in 0.119s, peaked 0.000 MiB above current, total RAM usage 8017.625 MiB\n"
     ]
    }
   ],
   "source": [
    "labels = [\n",
    "    \"ironArray mean\",\n",
    "    \"ironArray mean (lazy)\",\n",
    "    \"NumPy mean\",\n",
    "    \"ironArray trans\",\n",
    "    \"ironArray trans (lazy)\",\n",
    "    \"NumPy trans\"]\n",
    "df = pd.DataFrame({'memory (MB)': [\n",
    "    meas[\"ia_mean\"].memory_delta,\n",
    "    meas[\"ia_mean_lazy\"].memory_delta,\n",
    "    meas[\"np_mean\"].memory_delta,\n",
    "    meas[\"ia_trans\"].memory_delta,\n",
    "    meas[\"ia_trans_lazy\"].memory_delta,\n",
    "    meas[\"np_trans\"].memory_delta]},\n",
    "    index=labels)\n",
    "df.plot(kind='barh', figsize=(12,5), fontsize=16, title=\"Memory consumption (in-memory)\")"
   ],
   "metadata": {
    "collapsed": false,
    "pycharm": {
     "name": "#%%\n"
    }
   }
  },
  {
   "cell_type": "code",
   "execution_count": 25,
   "outputs": [
    {
     "data": {
      "text/plain": "<matplotlib.axes._subplots.AxesSubplot at 0x7fe72582d670>"
     },
     "execution_count": 25,
     "metadata": {},
     "output_type": "execute_result"
    },
    {
     "data": {
      "text/plain": "<Figure size 864x360 with 1 Axes>",
      "image/png": "[encoded data removed]"
     },
     "metadata": {
      "needs_background": "light"
     },
     "output_type": "display_data"
    },
    {
     "name": "stdout",
     "output_type": "stream",
     "text": [
      "In [25] used 2.383 MiB RAM in 0.121s, peaked 0.000 MiB above current, total RAM usage 8020.008 MiB\n"
     ]
    }
   ],
   "source": [
    "labels = [\n",
    "    \"ironArray mean\",\n",
    "    \"ironArray mean (lazy)\",\n",
    "    \"NumPy mean\",\n",
    "    \"ironArray trans\",\n",
    "    \"ironArray trans (lazy)\",\n",
    "    \"NumPy trans\"]\n",
    "df = pd.DataFrame({'memory (MB)': [\n",
    "    meas[\"ia_mean\"].memory_peak,\n",
    "    meas[\"ia_mean_lazy\"].memory_peak,\n",
    "    meas[\"np_mean\"].memory_peak,\n",
    "    meas[\"ia_trans\"].memory_peak,\n",
    "    meas[\"ia_trans_lazy\"].memory_peak,\n",
    "    meas[\"np_trans\"].memory_peak]},\n",
    "    index=labels)\n",
    "df.plot(kind='barh', figsize=(12,5), fontsize=16, title=\"Peak memory consumption (temporaries)\")"
   ],
   "metadata": {
    "collapsed": false,
    "pycharm": {
     "name": "#%%\n"
    }
   }
  },
  {
   "cell_type": "markdown",
   "source": [
    "## Optimization Tips\n",
    "\n",
    "Even if ironArray has been quite competitive in terms of speed and memory consumption, so far the computations have been done using just the default values.  Let's see how we can accelerate things here.\n",
    "\n",
    "First, let's start by using larger chunks and see.  First, let's see which are our current sizes:"
   ],
   "metadata": {
    "collapsed": false,
    "pycharm": {
     "name": "#%% md\n"
    }
   }
  },
  {
   "cell_type": "code",
   "execution_count": 26,
   "outputs": [
    {
     "name": "stdout",
     "output_type": "stream",
     "text": [
      "(64, 64, 128)\n",
      "(16, 16, 64)\n",
      "In [26] used 0.035 MiB RAM in 0.000s, peaked 0.000 MiB above current, total RAM usage 8020.043 MiB\n"
     ]
    }
   ],
   "source": [
    "print(precip1.chunkshape)\n",
    "print(precip1.blockshape)"
   ],
   "metadata": {
    "collapsed": false,
    "pycharm": {
     "name": "#%%\n"
    }
   }
  },
  {
   "cell_type": "markdown",
   "source": [
    "Let's duplicate"
   ],
   "metadata": {
    "collapsed": false,
    "pycharm": {
     "name": "#%% md\n"
    }
   }
  },
  {
   "cell_type": "markdown",
   "metadata": {
    "pycharm": {
     "name": "#%% md\n"
    }
   },
   "source": [
    "TODO: Introduce UDFs, and an 'Optimization tips' section...\n",
    "\n",
    "TODO: Add a comparison with xarray or dask, for out-of-core reductions"
   ]
  },
  {
   "cell_type": "code",
   "execution_count": 27,
   "outputs": [],
   "source": [
    "mw.stop_watching_memory()"
   ],
   "metadata": {
    "collapsed": false,
    "pycharm": {
     "name": "#%%\n"
    }
   }
  }
 ],
 "metadata": {
  "kernelspec": {
   "display_name": "Python 3",
   "language": "python",
   "name": "python3"
  },
  "language_info": {
   "codemirror_mode": {
    "name": "ipython",
    "version": 3
   },
   "file_extension": ".py",
   "mimetype": "text/x-python",
   "name": "python",
   "nbconvert_exporter": "python",
   "pygments_lexer": "ipython3",
   "version": "3.8.5"
  }
 },
 "nbformat": 4,
 "nbformat_minor": 1
}