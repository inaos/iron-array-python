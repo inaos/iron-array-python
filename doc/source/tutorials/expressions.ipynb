{
 "cells": [
  {
   "cell_type": "markdown",
   "metadata": {},
   "source": [
    "# Expressions\n",
    "\n",
    "ironArray has a strong support for expression evaluation.  Things like sums, products, divisions or a pretty complete range of transcendental functions (e.g. `exp`, `sin`, `asin`, `tanh`...).  Fast evaluation of (large) arrays is one of the features that received more love during the development.  Performance comes from a balance between:\n",
    "\n",
    "1. Use of [Intel MKL](https://software.intel.com/content/www/us/en/develop/tools/oneapi/components/onemkl.html) for accelerating transcendental functions.\n",
    "\n",
    "2. Use of [Intel SVML](https://software.intel.com/content/www/us/en/develop/documentation/cpp-compiler-developer-guide-and-reference/top/compiler-reference/intrinsics/intrinsics-for-short-vector-math-library-operations/overview-intrinsics-for-short-vector-math-library-svml-functions.html) for computing vector math functions.\n",
    "\n",
    "3. Use of multi-threading capabilities.\n",
    "\n",
    "4. Leveraging the 2-level partitioning in ironArray arrays so that most of the computation intensive happens inside private caches (L1, L2), which benefits multi-threading performance.\n",
    "\n",
    "You can access to the powerful evaluation capabilities in ironArray in different ways, which we are going to succinctly expose in this tutorial.  In order to do that, we are going to make use of the dataset that we created in our reductions tutorial.  Let's go:\n"
   ]
  },
  {
   "cell_type": "code",
   "execution_count": 1,
   "metadata": {
    "pycharm": {
     "name": "#%%\n"
    }
   },
   "outputs": [
    {
     "name": "stdout",
     "output_type": "stream",
     "text": [
      "In [1] used 0.004 MiB RAM in 0.000s, peaked 0.000 MiB above current, total RAM usage 100.180 MiB\n"
     ]
    }
   ],
   "source": [
    "import numpy as np\n",
    "import iarray as ia\n",
    "from ipython_memwatcher import MemWatcher\n",
    "mw = MemWatcher()\n",
    "mw.start_watching_memory()\n",
    "meas = {}"
   ]
  },
  {
   "cell_type": "code",
   "execution_count": 2,
   "outputs": [
    {
     "data": {
      "text/plain": "<IArray (3, 720, 721, 1440) np.float32>"
     },
     "execution_count": 2,
     "metadata": {},
     "output_type": "execute_result"
    },
    {
     "name": "stdout",
     "output_type": "stream",
     "text": [
      "In [2] used 4.215 MiB RAM in 0.007s, peaked 0.000 MiB above current, total RAM usage 104.395 MiB\n"
     ]
    }
   ],
   "source": [
    "ia_precip = ia.load(\"precip-3m.iarr\")\n",
    "ia_precip"
   ],
   "metadata": {
    "collapsed": false,
    "pycharm": {
     "name": "#%%\n"
    }
   }
  },
  {
   "cell_type": "markdown",
   "metadata": {
    "pycharm": {
     "name": "#%% md\n"
    }
   },
   "source": [
    "Now, in order to evaluate some expressions on this, let's put the data for each month on a different array:"
   ]
  },
  {
   "cell_type": "code",
   "execution_count": 3,
   "outputs": [
    {
     "name": "stdout",
     "output_type": "stream",
     "text": [
      "In [3] used 1656.695 MiB RAM in 21.422s, peaked 0.000 MiB above current, total RAM usage 1761.090 MiB\n"
     ]
    }
   ],
   "source": [
    "precip1 = ia_precip[0].copy()\n",
    "precip2 = ia_precip[1].copy()\n",
    "precip3 = ia_precip[2].copy()"
   ],
   "metadata": {
    "collapsed": false,
    "pycharm": {
     "name": "#%%\n"
    }
   }
  },
  {
   "cell_type": "markdown",
   "metadata": {
    "pycharm": {
     "name": "#%% md\n"
    }
   },
   "source": [
    "Note how, even if the data for all the three months takes almost 9 GB uncompressed, ironArray has used just a bit more than 1.7 GB for holding them in RAM.  This is compression at work.\n",
    "\n",
    "With that, let's compute something easy, like a new array with the mean of these.  For that, we are going to use the internal evaluation engine:"
   ]
  },
  {
   "cell_type": "code",
   "execution_count": 4,
   "metadata": {
    "pycharm": {
     "name": "#%%\n"
    }
   },
   "outputs": [
    {
     "name": "stdout",
     "output_type": "stream",
     "text": [
      "In [4] used 14.172 MiB RAM in 0.029s, peaked 0.000 MiB above current, total RAM usage 1775.262 MiB\n"
     ]
    }
   ],
   "source": [
    "precip_expr = ia.expr_from_string(\"(p1 + p2 + p3) / 3\", {'p1': precip1, 'p2': precip2, 'p3': precip3})"
   ]
  },
  {
   "cell_type": "markdown",
   "metadata": {
    "pycharm": {
     "name": "#%% md\n"
    }
   },
   "source": [
    "Ok, that was fast, but we did not quite evaluate anything yet.  In order to do the actual evaluation, we have to call `.eval()` on the expression:"
   ]
  },
  {
   "cell_type": "code",
   "execution_count": 5,
   "metadata": {
    "pycharm": {
     "name": "#%%\n"
    }
   },
   "outputs": [
    {
     "data": {
      "text/plain": "<IArray (720, 721, 1440) np.float32>"
     },
     "execution_count": 5,
     "metadata": {},
     "output_type": "execute_result"
    },
    {
     "name": "stdout",
     "output_type": "stream",
     "text": [
      "In [5] used 1259.816 MiB RAM in 1.677s, peaked 0.000 MiB above current, total RAM usage 3035.078 MiB\n"
     ]
    }
   ],
   "source": [
    "precip_mean = precip_expr.eval()\n",
    "precip_mean"
   ]
  },
  {
   "cell_type": "code",
   "execution_count": 6,
   "outputs": [
    {
     "name": "stdout",
     "output_type": "stream",
     "text": [
      "In [6] used 0.012 MiB RAM in 0.000s, peaked 0.000 MiB above current, total RAM usage 3035.090 MiB\n"
     ]
    }
   ],
   "source": [
    "meas[\"ia_mean\"] = mw.measurements"
   ],
   "metadata": {
    "collapsed": false,
    "pycharm": {
     "name": "#%%\n"
    }
   }
  },
  {
   "cell_type": "markdown",
   "metadata": {
    "pycharm": {
     "name": "#%% md\n"
    }
   },
   "source": [
    "Cool, so we have our first evaluation done.  But let's see how it performs against NumPy, and especially, whether the outcome is correct:"
   ]
  },
  {
   "cell_type": "code",
   "execution_count": 7,
   "metadata": {
    "pycharm": {
     "name": "#%%\n"
    }
   },
   "outputs": [
    {
     "name": "stdout",
     "output_type": "stream",
     "text": [
      "In [7] used 8564.977 MiB RAM in 6.695s, peaked 0.000 MiB above current, total RAM usage 11600.066 MiB\n"
     ]
    }
   ],
   "source": [
    "np_precip1 = precip1.data\n",
    "np_precip2 = precip2.data\n",
    "np_precip3 = precip3.data"
   ]
  },
  {
   "cell_type": "markdown",
   "source": [
    "Here we see how the data takes about 9 GB of RAM.  Now, let's do the actual mean:"
   ],
   "metadata": {
    "collapsed": false,
    "pycharm": {
     "name": "#%% md\n"
    }
   }
  },
  {
   "cell_type": "code",
   "execution_count": 8,
   "metadata": {
    "pycharm": {
     "name": "#%%\n"
    }
   },
   "outputs": [
    {
     "name": "stdout",
     "output_type": "stream",
     "text": [
      "In [8] used 2852.625 MiB RAM in 2.192s, peaked 0.000 MiB above current, total RAM usage 14452.691 MiB\n"
     ]
    }
   ],
   "source": [
    "np_precip_mean = (np_precip1 + np_precip2 + np_precip3) / 3"
   ]
  },
  {
   "cell_type": "code",
   "execution_count": 9,
   "outputs": [
    {
     "name": "stdout",
     "output_type": "stream",
     "text": [
      "In [9] used 0.039 MiB RAM in 0.000s, peaked 0.000 MiB above current, total RAM usage 14452.730 MiB\n"
     ]
    }
   ],
   "source": [
    "meas[\"np_mean\"] = mw.measurements"
   ],
   "metadata": {
    "collapsed": false,
    "pycharm": {
     "name": "#%%\n"
    }
   }
  },
  {
   "cell_type": "markdown",
   "metadata": {
    "pycharm": {
     "name": "#%% md\n"
    }
   },
   "source": [
    "So, ironArray times are quite competitive with NumPy.  How about the correctness of the outcome?.  Let's see:"
   ]
  },
  {
   "cell_type": "code",
   "execution_count": 10,
   "outputs": [
    {
     "name": "stdout",
     "output_type": "stream",
     "text": [
      "In [10] used -7111.055 MiB RAM in 21.516s, peaked 12639.121 MiB above current, total RAM usage 7341.676 MiB\n"
     ]
    }
   ],
   "source": [
    "np.testing.assert_almost_equal(np_precip_mean, precip_mean.data)"
   ],
   "metadata": {
    "collapsed": false,
    "pycharm": {
     "name": "#%%\n"
    }
   }
  },
  {
   "cell_type": "markdown",
   "metadata": {
    "pycharm": {
     "name": "#%% md\n"
    }
   },
   "source": [
    "Cool, results are the same. That means that ironArray can run generally faster than NumPy, even if the former uses data in compressed form by default.\n",
    "\n",
    "Now, let's use expressions with some transcendental functions.  This does not make sense for this case (precipitation data), but we are doing this just as an indication of the efficiency of ironArray:"
   ]
  },
  {
   "cell_type": "code",
   "execution_count": 11,
   "metadata": {
    "pycharm": {
     "name": "#%%\n"
    }
   },
   "outputs": [
    {
     "data": {
      "text/plain": "<IArray (720, 721, 1440) np.float32>"
     },
     "execution_count": 11,
     "metadata": {},
     "output_type": "execute_result"
    },
    {
     "name": "stdout",
     "output_type": "stream",
     "text": [
      "In [11] used 1923.418 MiB RAM in 2.474s, peaked 0.000 MiB above current, total RAM usage 9265.094 MiB\n"
     ]
    }
   ],
   "source": [
    "result = ia.expr_from_string(\"(tan(p1) * (sin(p1) * sin(p2) + cos(p2)) + sqrt(p3) * 2)\",\n",
    "                             {'p1': precip1, 'p2': precip2, 'p3': precip3}\n",
    "                             ).eval()\n",
    "result"
   ]
  },
  {
   "cell_type": "code",
   "execution_count": 12,
   "outputs": [
    {
     "name": "stdout",
     "output_type": "stream",
     "text": [
      "In [12] used 0.121 MiB RAM in 0.000s, peaked 0.000 MiB above current, total RAM usage 9265.215 MiB\n"
     ]
    }
   ],
   "source": [
    "meas[\"ia_trans\"] = mw.measurements"
   ],
   "metadata": {
    "collapsed": false,
    "pycharm": {
     "name": "#%%\n"
    }
   }
  },
  {
   "cell_type": "markdown",
   "metadata": {
    "pycharm": {
     "name": "#%% md\n"
    }
   },
   "source": [
    "In this case we see that the overhead of using transcendental functions is pretty low compared with plain arithmetic operations (sum, rest, mult, division...). Let's compare this against NumPy:"
   ]
  },
  {
   "cell_type": "code",
   "execution_count": 13,
   "outputs": [
    {
     "name": "stdout",
     "output_type": "stream",
     "text": [
      "In [13] used 7511.871 MiB RAM in 20.759s, peaked 5270.648 MiB above current, total RAM usage 16777.086 MiB\n"
     ]
    }
   ],
   "source": [
    "p1_ = np_precip1\n",
    "p2_ = np_precip2\n",
    "p3_ = np_precip3\n",
    "np_result = (np.tan(p1_) * (np.sin(p1_) * np.sin(p2_) + np.cos(p2_)) + np.sqrt(p3_) * 2)"
   ],
   "metadata": {
    "collapsed": false,
    "pycharm": {
     "name": "#%%\n"
    }
   }
  },
  {
   "cell_type": "code",
   "execution_count": 14,
   "outputs": [
    {
     "name": "stdout",
     "output_type": "stream",
     "text": [
      "In [14] used 0.035 MiB RAM in 0.000s, peaked 0.000 MiB above current, total RAM usage 16777.121 MiB\n"
     ]
    }
   ],
   "source": [
    "meas[\"np_trans\"] = mw.measurements"
   ],
   "metadata": {
    "collapsed": false,
    "pycharm": {
     "name": "#%%\n"
    }
   }
  },
  {
   "cell_type": "markdown",
   "source": [
    "Ok, this is really slow, but this is kind of expected, as ironArray comes with support for evaluating transcendental functions via MKL, while NumPy does not.\n",
    "\n",
    "But do not forget to check for correctness:"
   ],
   "metadata": {
    "collapsed": false,
    "pycharm": {
     "name": "#%% md\n"
    }
   }
  },
  {
   "cell_type": "code",
   "execution_count": 15,
   "outputs": [
    {
     "name": "stdout",
     "output_type": "stream",
     "text": [
      "In [15] used -8166.875 MiB RAM in 22.022s, peaked 13984.164 MiB above current, total RAM usage 8610.246 MiB\n"
     ]
    }
   ],
   "source": [
    "np.testing.assert_almost_equal(np_result, result.data)"
   ],
   "metadata": {
    "collapsed": false,
    "pycharm": {
     "name": "#%%\n"
    }
   }
  },
  {
   "cell_type": "markdown",
   "source": [
    "Yes, not a noticeable difference, as expected."
   ],
   "metadata": {
    "collapsed": false,
    "pycharm": {
     "name": "#%% md\n"
    }
   }
  },
  {
   "cell_type": "markdown",
   "source": [
    "## Lazy expressions\n",
    "\n",
    "So far we have been using strings as the way to build expressions.  However, there is a handier (and perhaps more elegant) way to build expressions via the so-called lazy expressions.  With lazy expressions you just express your computations in terms of `IArray` objects.\n",
    "\n",
    "For example, the mean of the precipitation would be expressed as:"
   ],
   "metadata": {
    "collapsed": false,
    "pycharm": {
     "name": "#%% md\n"
    }
   }
  },
  {
   "cell_type": "code",
   "execution_count": 16,
   "outputs": [
    {
     "name": "stdout",
     "output_type": "stream",
     "text": [
      "In [16] used 4.582 MiB RAM in 0.015s, peaked 0.000 MiB above current, total RAM usage 8614.828 MiB\n"
     ]
    }
   ],
   "source": [
    "precip_expr = (precip1 + precip2 + precip3) / 3"
   ],
   "metadata": {
    "collapsed": false,
    "pycharm": {
     "name": "#%%\n"
    }
   }
  },
  {
   "cell_type": "code",
   "execution_count": 17,
   "outputs": [
    {
     "data": {
      "text/plain": "<IArray (720, 721, 1440) np.float32>"
     },
     "execution_count": 17,
     "metadata": {},
     "output_type": "execute_result"
    },
    {
     "name": "stdout",
     "output_type": "stream",
     "text": [
      "In [17] used 2163.219 MiB RAM in 1.888s, peaked 0.000 MiB above current, total RAM usage 10778.047 MiB\n"
     ]
    }
   ],
   "source": [
    "precip_mean = precip_expr.eval()\n",
    "precip_mean"
   ],
   "metadata": {
    "collapsed": false,
    "pycharm": {
     "name": "#%%\n"
    }
   }
  },
  {
   "cell_type": "code",
   "execution_count": 18,
   "outputs": [
    {
     "name": "stdout",
     "output_type": "stream",
     "text": [
      "In [18] used 0.113 MiB RAM in 0.001s, peaked 0.000 MiB above current, total RAM usage 10778.160 MiB\n"
     ]
    }
   ],
   "source": [
    "meas[\"ia_mean_lazy\"] = mw.measurements"
   ],
   "metadata": {
    "collapsed": false,
    "pycharm": {
     "name": "#%%\n"
    }
   }
  },
  {
   "cell_type": "markdown",
   "source": [
    "Lazy expressions are similar to how you use NumPy to evaluate expressions with some differences:\n",
    "\n",
    "1. You need to be explicit when you want to `.eval()`-uate the expressions.\n",
    "\n",
    "2. There are no big temporaries involved.  The expression is compiled on the flight and large temporaries are avoided.  This means not only that we require less memory, but more importantly, that expressions evaluate faster (memory access is always expensive).\n",
    "\n",
    "For evaluating expressions with transcendental functions you need to use ironArray methods:"
   ],
   "metadata": {
    "collapsed": false,
    "pycharm": {
     "name": "#%% md\n"
    }
   }
  },
  {
   "cell_type": "code",
   "execution_count": 19,
   "outputs": [
    {
     "name": "stdout",
     "output_type": "stream",
     "text": [
      "In [19] used 0.109 MiB RAM in 0.002s, peaked 0.000 MiB above current, total RAM usage 10778.270 MiB\n"
     ]
    }
   ],
   "source": [
    "lazy_expr = ia.tan(precip1) * (ia.sin(precip1) * ia.sin(precip2) + ia.cos(precip2)) + ia.sqrt(precip3) * 2\n",
    "# Yoy can also use the next idiom, which is not as close to NumPy, but a hair more concise\n",
    "#lazy_expr = precip1.tan() * (precip1.sin() * precip2.sin() + precip2.cos()) + precip3.sqrt() * 2"
   ],
   "metadata": {
    "collapsed": false,
    "pycharm": {
     "name": "#%%\n"
    }
   }
  },
  {
   "cell_type": "code",
   "execution_count": 20,
   "outputs": [
    {
     "data": {
      "text/plain": "<IArray (720, 721, 1440) np.float32>"
     },
     "execution_count": 20,
     "metadata": {},
     "output_type": "execute_result"
    },
    {
     "name": "stdout",
     "output_type": "stream",
     "text": [
      "In [20] used 1066.453 MiB RAM in 2.312s, peaked 0.000 MiB above current, total RAM usage 11844.723 MiB\n"
     ]
    }
   ],
   "source": [
    "lazy_result = lazy_expr.eval()\n",
    "lazy_result\n"
   ],
   "metadata": {
    "collapsed": false,
    "pycharm": {
     "name": "#%%\n"
    }
   }
  },
  {
   "cell_type": "code",
   "execution_count": 21,
   "outputs": [
    {
     "name": "stdout",
     "output_type": "stream",
     "text": [
      "In [21] used 0.008 MiB RAM in 0.000s, peaked 0.000 MiB above current, total RAM usage 11844.730 MiB\n"
     ]
    }
   ],
   "source": [
    "meas[\"ia_trans_lazy\"] = mw.measurements"
   ],
   "metadata": {
    "collapsed": false,
    "pycharm": {
     "name": "#%%\n"
    }
   }
  },
  {
   "cell_type": "markdown",
   "source": [
    "Note how execution times and memory usage are very similar to the string expressions evaluator.\n",
    "\n",
    "As you can see, lazy expressions allow for a more Pythonic way to integrate ironArray operands in expressions, just like NumPy (only more memory efficient and faster).  In general, you can use the method you like the most, although evaluation of string expressions tends to be a hair faster, especially when using small arrays."
   ],
   "metadata": {
    "collapsed": false,
    "pycharm": {
     "name": "#%% md\n"
    }
   }
  },
  {
   "cell_type": "markdown",
   "source": [
    "As always, let's check that the result is correct:"
   ],
   "metadata": {
    "collapsed": false,
    "pycharm": {
     "name": "#%% md\n"
    }
   }
  },
  {
   "cell_type": "code",
   "execution_count": 22,
   "outputs": [
    {
     "name": "stdout",
     "output_type": "stream",
     "text": [
      "In [22] used -3893.945 MiB RAM in 16.932s, peaked 13633.137 MiB above current, total RAM usage 7950.785 MiB\n"
     ]
    }
   ],
   "source": [
    "np.testing.assert_almost_equal(np_result, lazy_result.data)"
   ],
   "metadata": {
    "collapsed": false,
    "pycharm": {
     "name": "#%%\n"
    }
   }
  },
  {
   "cell_type": "markdown",
   "source": [
    "## Resource consumption\n",
    "\n",
    "As a summary, let's do a plot on the speed for the different kind of computations:"
   ],
   "metadata": {
    "collapsed": false,
    "pycharm": {
     "name": "#%% md\n"
    }
   }
  },
  {
   "cell_type": "code",
   "execution_count": 23,
   "outputs": [
    {
     "data": {
      "text/plain": "<matplotlib.axes._subplots.AxesSubplot at 0x7fd0f600fe80>"
     },
     "execution_count": 23,
     "metadata": {},
     "output_type": "execute_result"
    },
    {
     "data": {
      "text/plain": "<Figure size 864x360 with 1 Axes>",
      "image/png": "[encoded data removed]"
     },
     "metadata": {
      "needs_background": "light"
     },
     "output_type": "display_data"
    },
    {
     "name": "stdout",
     "output_type": "stream",
     "text": [
      "In [23] used 75.617 MiB RAM in 0.762s, peaked 0.000 MiB above current, total RAM usage 8026.402 MiB\n"
     ]
    }
   ],
   "source": [
    "%matplotlib inline\n",
    "import pandas as pd\n",
    "\n",
    "labels = [\"ironArray mean\",\n",
    "          \"ironArray mean (lazy)\",\n",
    "          \"NumPy mean\",\n",
    "          \"ironArray trans\",\n",
    "          \"ironArray trans (lazy)\",\n",
    "          \"NumPy trans\"]\n",
    "df = pd.DataFrame({'time (sec)': [\n",
    "    meas[\"ia_mean\"].time_delta,\n",
    "    meas[\"ia_mean_lazy\"].time_delta,\n",
    "    meas[\"np_mean\"].time_delta,\n",
    "    meas[\"ia_trans\"].time_delta,\n",
    "    meas[\"ia_trans_lazy\"].time_delta,\n",
    "    meas[\"np_trans\"].time_delta]},\n",
    "    index=labels)\n",
    "df.plot(kind='barh', figsize=(12,5), fontsize=16, title=\"Evaluation times (in-memory)\")"
   ],
   "metadata": {
    "collapsed": false,
    "pycharm": {
     "name": "#%%\n"
    }
   }
  },
  {
   "cell_type": "markdown",
   "source": [
    "and the memory used for every kind of computations:"
   ],
   "metadata": {
    "collapsed": false,
    "pycharm": {
     "name": "#%% md\n"
    }
   }
  },
  {
   "cell_type": "code",
   "execution_count": 24,
   "outputs": [
    {
     "data": {
      "text/plain": "<matplotlib.axes._subplots.AxesSubplot at 0x7fd14ed05a60>"
     },
     "execution_count": 24,
     "metadata": {},
     "output_type": "execute_result"
    },
    {
     "data": {
      "text/plain": "<Figure size 864x360 with 1 Axes>",
      "image/png": "[encoded data removed]"
     },
     "metadata": {
      "needs_background": "light"
     },
     "output_type": "display_data"
    },
    {
     "name": "stdout",
     "output_type": "stream",
     "text": [
      "In [24] used 0.562 MiB RAM in 0.135s, peaked 0.000 MiB above current, total RAM usage 8026.965 MiB\n"
     ]
    }
   ],
   "source": [
    "labels = [\n",
    "    \"ironArray mean\",\n",
    "    \"ironArray mean (lazy)\",\n",
    "    \"NumPy mean\",\n",
    "    \"ironArray trans\",\n",
    "    \"ironArray trans (lazy)\",\n",
    "    \"NumPy trans\"]\n",
    "df = pd.DataFrame({'memory (MB)': [\n",
    "    meas[\"ia_mean\"].memory_delta,\n",
    "    meas[\"ia_mean_lazy\"].memory_delta,\n",
    "    meas[\"np_mean\"].memory_delta,\n",
    "    meas[\"ia_trans\"].memory_delta,\n",
    "    meas[\"ia_trans_lazy\"].memory_delta,\n",
    "    meas[\"np_trans\"].memory_delta]},\n",
    "    index=labels)\n",
    "df.plot(kind='barh', figsize=(12,5), fontsize=16, title=\"Memory consumption (in-memory)\")"
   ],
   "metadata": {
    "collapsed": false,
    "pycharm": {
     "name": "#%%\n"
    }
   }
  },
  {
   "cell_type": "code",
   "execution_count": 25,
   "outputs": [
    {
     "data": {
      "text/plain": "<matplotlib.axes._subplots.AxesSubplot at 0x7fd20836a1c0>"
     },
     "execution_count": 25,
     "metadata": {},
     "output_type": "execute_result"
    },
    {
     "data": {
      "text/plain": "<Figure size 864x360 with 1 Axes>",
      "image/png": "[encoded data removed]"
     },
     "metadata": {
      "needs_background": "light"
     },
     "output_type": "display_data"
    },
    {
     "name": "stdout",
     "output_type": "stream",
     "text": [
      "In [25] used 0.742 MiB RAM in 0.117s, peaked 0.000 MiB above current, total RAM usage 8027.707 MiB\n"
     ]
    }
   ],
   "source": [
    "labels = [\n",
    "    \"ironArray mean\",\n",
    "    \"ironArray mean (lazy)\",\n",
    "    \"NumPy mean\",\n",
    "    \"ironArray trans\",\n",
    "    \"ironArray trans (lazy)\",\n",
    "    \"NumPy trans\"]\n",
    "df = pd.DataFrame({'memory (MB)': [\n",
    "    meas[\"ia_mean\"].memory_peak,\n",
    "    meas[\"ia_mean_lazy\"].memory_peak,\n",
    "    meas[\"np_mean\"].memory_peak,\n",
    "    meas[\"ia_trans\"].memory_peak,\n",
    "    meas[\"ia_trans_lazy\"].memory_peak,\n",
    "    meas[\"np_trans\"].memory_peak]},\n",
    "    index=labels)\n",
    "df.plot(kind='barh', figsize=(12,5), fontsize=16, title=\"Peak memory consumption (temporaries)\")"
   ],
   "metadata": {
    "collapsed": false,
    "pycharm": {
     "name": "#%%\n"
    }
   }
  },
  {
   "cell_type": "markdown",
   "source": [
    "## Out-of-Core Expressions\n",
    "\n",
    "So far we have been evaluating expressions on top of arrays that are in-memory.  One of the nice features of ironArray is that it can seamslessly handle arrays that are on-disk too; this capability is also known as out-of-core operation.\n",
    "\n",
    "So as to show this, we are going to use our original on-disk array and will create an on-disk outcome where we will put the result of our operations.  Let's start:"
   ],
   "metadata": {
    "collapsed": false,
    "pycharm": {
     "name": "#%% md\n"
    }
   }
  },
  {
   "cell_type": "code",
   "execution_count": 26,
   "outputs": [
    {
     "name": "stdout",
     "output_type": "stream",
     "text": [
      "In [26] used 0.039 MiB RAM in 0.002s, peaked 0.000 MiB above current, total RAM usage 8027.746 MiB\n"
     ]
    }
   ],
   "source": [
    "precip1 = ia_precip[0]\n",
    "precip2 = ia_precip[1]\n",
    "precip3 = ia_precip[2]"
   ],
   "metadata": {
    "collapsed": false,
    "pycharm": {
     "name": "#%%\n"
    }
   }
  },
  {
   "cell_type": "markdown",
   "source": [
    "In this case, we are just getting views of the larger array that is on-disk.  Remember that views do not create new containers, so this is why the above operation is fast.  Now, let's build the expression for the mean values:"
   ],
   "metadata": {
    "collapsed": false,
    "pycharm": {
     "name": "#%% md\n"
    }
   }
  },
  {
   "cell_type": "code",
   "execution_count": 27,
   "outputs": [
    {
     "name": "stdout",
     "output_type": "stream",
     "text": [
      "In [27] used 0.074 MiB RAM in 0.000s, peaked 0.000 MiB above current, total RAM usage 8027.820 MiB\n"
     ]
    }
   ],
   "source": [
    "precip_mean = (precip1 + precip2 + precip3) / 3"
   ],
   "metadata": {
    "collapsed": false,
    "pycharm": {
     "name": "#%%\n"
    }
   }
  },
  {
   "cell_type": "markdown",
   "source": [
    "and now let's evaluate and making sure that the result is created on-disk:"
   ],
   "metadata": {
    "collapsed": false,
    "pycharm": {
     "name": "#%% md\n"
    }
   }
  },
  {
   "cell_type": "code",
   "execution_count": 28,
   "outputs": [
    {
     "data": {
      "text/plain": "<iarray.lazy_expr.LazyExpr at 0x7fd208368970>"
     },
     "execution_count": 28,
     "metadata": {},
     "output_type": "execute_result"
    },
    {
     "name": "stdout",
     "output_type": "stream",
     "text": [
      "In [28] used 63.043 MiB RAM in 22.863s, peaked 0.000 MiB above current, total RAM usage 8090.863 MiB\n"
     ]
    }
   ],
   "source": [
    "with ia.config(storage=ia.Storage(filename=\"mean-3m.iarr\")) as cfg:\n",
    "    precip_mean_disk = precip_mean.eval(cfg=cfg)\n",
    "precip_mean"
   ],
   "metadata": {
    "collapsed": false,
    "pycharm": {
     "name": "#%%\n"
    }
   }
  },
  {
   "cell_type": "code",
   "execution_count": 29,
   "outputs": [
    {
     "name": "stdout",
     "output_type": "stream",
     "text": [
      "In [29] used -0.023 MiB RAM in 0.000s, peaked 0.000 MiB above current, total RAM usage 8090.840 MiB\n"
     ]
    }
   ],
   "source": [
    "meas[\"ia_mean_disk\"] = mw.measurements"
   ],
   "metadata": {
    "collapsed": false,
    "pycharm": {
     "name": "#%%\n"
    }
   }
  },
  {
   "cell_type": "markdown",
   "source": [
    "We see that evaluation from disk takes quite more than operating in memory, but this is kind of expected.  What we are more interested here is the amount of RAM needed to perform the evaluation has been on the order of 100 MB, whereas the output array is quite larger than this:"
   ],
   "metadata": {
    "collapsed": false,
    "pycharm": {
     "name": "#%% md\n"
    }
   }
  },
  {
   "cell_type": "code",
   "execution_count": 30,
   "outputs": [
    {
     "name": "stdout",
     "output_type": "stream",
     "text": [
      "-rw-r--r--  1 faltet  staff   1.2G Dec 15 14:46 mean-3m.iarr\r\n",
      "In [30] used 0.039 MiB RAM in 0.618s, peaked 0.000 MiB above current, total RAM usage 8090.879 MiB\n"
     ]
    }
   ],
   "source": [
    "%ls -lh mean-3m.iarr"
   ],
   "metadata": {
    "collapsed": false,
    "pycharm": {
     "name": "#%%\n"
    }
   }
  },
  {
   "cell_type": "markdown",
   "source": [
    "So, with a result size of more than 1 GB, it is more than 10x than the memory used.  In addition, the 100 MB in memory is probably being taken by temporaries that Python takes some time to release back, so in the long run this figure should be considered more a temporary peak that will be eventually reclaimed by the interpreter for other uses.  But still, it is important to realize that this memory is needed."
   ],
   "metadata": {
    "collapsed": false,
    "pycharm": {
     "name": "#%% md\n"
    }
   }
  },
  {
   "cell_type": "markdown",
   "source": [
    "For the sake of comparison, let's see how similar array libraries perform at this.  Zarr is the most obvious container because it supports the same Blosc compressor, so this will allow for a apple to apple comparison.  Let's create a Zarr container out of our current one:"
   ],
   "metadata": {
    "collapsed": false,
    "pycharm": {
     "name": "#%% md\n"
    }
   }
  },
  {
   "cell_type": "code",
   "execution_count": 31,
   "outputs": [
    {
     "name": "stdout",
     "output_type": "stream",
     "text": [
      "In [31] used 0.566 MiB RAM in 0.046s, peaked 0.000 MiB above current, total RAM usage 8091.445 MiB\n"
     ]
    }
   ],
   "source": [
    "import zarr\n",
    "from functools import reduce\n",
    "ia_defs = ia.Config()"
   ],
   "metadata": {
    "collapsed": false,
    "pycharm": {
     "name": "#%%\n"
    }
   }
  },
  {
   "cell_type": "code",
   "execution_count": 32,
   "outputs": [
    {
     "name": "stdout",
     "output_type": "stream",
     "text": [
      "In [32] used 0.047 MiB RAM in 0.027s, peaked 0.000 MiB above current, total RAM usage 8091.492 MiB\n"
     ]
    }
   ],
   "source": [
    "blocksize = reduce(lambda x, y: x * y, ia_precip.blockshape) * np.dtype(np.float32).itemsize\n",
    "zarr_precip = zarr.open(\n",
    "    \"precip-3m.zarr\", \"w\", shape=ia_precip.shape, chunks=ia_precip.chunkshape, dtype=ia_precip.dtype,\n",
    "    compressor=zarr.Blosc(clevel=ia_defs.clevel, cname=\"lz4\", blocksize=blocksize),\n",
    ")"
   ],
   "metadata": {
    "collapsed": false,
    "pycharm": {
     "name": "#%%\n"
    }
   }
  },
  {
   "cell_type": "markdown",
   "source": [
    "and do the copy:"
   ],
   "metadata": {
    "collapsed": false,
    "pycharm": {
     "name": "#%% md\n"
    }
   }
  },
  {
   "cell_type": "code",
   "execution_count": 33,
   "outputs": [
    {
     "name": "stdout",
     "output_type": "stream",
     "text": [
      "In [33] used 231.723 MiB RAM in 188.866s, peaked 1049.109 MiB above current, total RAM usage 8323.215 MiB\n"
     ]
    }
   ],
   "source": [
    "ia_precip.copyto(zarr_precip)"
   ],
   "metadata": {
    "collapsed": false,
    "pycharm": {
     "name": "#%%\n"
    }
   }
  },
  {
   "cell_type": "markdown",
   "source": [
    "and now do the mean by using Dask:"
   ],
   "metadata": {
    "collapsed": false,
    "pycharm": {
     "name": "#%% md\n"
    }
   }
  },
  {
   "cell_type": "code",
   "execution_count": 34,
   "outputs": [
    {
     "name": "stdout",
     "output_type": "stream",
     "text": [
      "In [34] used 4.664 MiB RAM in 0.180s, peaked 0.000 MiB above current, total RAM usage 8327.879 MiB\n"
     ]
    }
   ],
   "source": [
    "import dask\n",
    "import dask.array as da"
   ],
   "metadata": {
    "collapsed": false,
    "pycharm": {
     "name": "#%%\n"
    }
   }
  },
  {
   "cell_type": "code",
   "execution_count": 35,
   "outputs": [
    {
     "name": "stdout",
     "output_type": "stream",
     "text": [
      "In [35] used 0.039 MiB RAM in 0.002s, peaked 0.000 MiB above current, total RAM usage 8327.918 MiB\n"
     ]
    }
   ],
   "source": [
    "precip_mean_disk = ia.load(\"mean-3m.iarr\")\n",
    "blocksize = reduce(lambda x, y: x * y, precip_mean_disk.blockshape) * np.dtype(np.float32).itemsize\n",
    "shape = precip_mean_disk.shape\n",
    "chunks = precip_mean_disk.chunkshape\n",
    "dtype = np.float32\n",
    "clevel = ia_defs.clevel"
   ],
   "metadata": {
    "collapsed": false,
    "pycharm": {
     "name": "#%%\n"
    }
   }
  },
  {
   "cell_type": "code",
   "execution_count": 42,
   "outputs": [
    {
     "name": "stdout",
     "output_type": "stream",
     "text": [
      "In [42] used -346.070 MiB RAM in 65.711s, peaked 12377.469 MiB above current, total RAM usage 2344.012 MiB\n"
     ]
    }
   ],
   "source": [
    "with dask.config.set(scheduler=\"threads\"):\n",
    "    precip = zarr.open(\"precip-3m.zarr\")\n",
    "    d = da.from_zarr(precip)\n",
    "    precip1 = d[0]\n",
    "    precip2 = d[1]\n",
    "    precip3 = d[2]\n",
    "    res = (precip1 + precip2 + precip3) / 3\n",
    "    zarr_precip_mean_disk = zarr.open(\n",
    "        \"mean-3m.zarr\",\n",
    "        \"w\",\n",
    "        shape=shape,\n",
    "        chunks=chunks,\n",
    "        dtype=dtype,\n",
    "        compressor=zarr.Blosc(clevel=clevel, cname=\"lz4\", blocksize=blocksize),\n",
    "    )\n",
    "    da.to_zarr(res, zarr_precip_mean_disk)"
   ],
   "metadata": {
    "collapsed": false,
    "pycharm": {
     "name": "#%%\n"
    }
   }
  },
  {
   "cell_type": "code",
   "execution_count": 43,
   "outputs": [
    {
     "name": "stdout",
     "output_type": "stream",
     "text": [
      "In [43] used 12.285 MiB RAM in 0.001s, peaked 0.000 MiB above current, total RAM usage 2356.297 MiB\n"
     ]
    }
   ],
   "source": [
    "meas[\"dask_mean_disk\"] = mw.measurements"
   ],
   "metadata": {
    "collapsed": false,
    "pycharm": {
     "name": "#%%\n"
    }
   }
  },
  {
   "cell_type": "markdown",
   "source": [
    "In this case we see that Dask+Zarr took about 3x more time than ironArray in performing the operations.  But perhaps more importantly, Dask+Zarr took a considerable about of peak RAM to complete the operation (more than 10 GB), which is much more than ironArray (around 100 MB).\n",
    "\n",
    "Here it is a comparison of the times on a plot:"
   ],
   "metadata": {
    "collapsed": false,
    "pycharm": {
     "name": "#%% md\n"
    }
   }
  },
  {
   "cell_type": "code",
   "execution_count": 38,
   "outputs": [
    {
     "data": {
      "text/plain": "<matplotlib.axes._subplots.AxesSubplot at 0x7fc72a74b850>"
     },
     "execution_count": 38,
     "metadata": {},
     "output_type": "execute_result"
    },
    {
     "data": {
      "text/plain": "<Figure size 864x360 with 1 Axes>",
      "image/png": "[encoded data removed]"
     },
     "metadata": {
      "needs_background": "light"
     },
     "output_type": "display_data"
    },
    {
     "name": "stdout",
     "output_type": "stream",
     "text": [
      "In [38] used 9.434 MiB RAM in 0.130s, peaked 0.000 MiB above current, total RAM usage 4294.113 MiB\n"
     ]
    }
   ],
   "source": [
    "%matplotlib inline\n",
    "import pandas as pd\n",
    "\n",
    "labels = [\"ironArray mean (disk)\", \"Zarr+Dask mean (disk)\"]\n",
    "df = pd.DataFrame({'time (sec)': [\n",
    "    meas[\"ia_mean_disk\"].time_delta, meas[\"dask_mean_disk\"].time_delta]},\n",
    "    index=labels)\n",
    "df.plot(kind='barh', figsize=(12,5), fontsize=16, title=\"Evaluation times (on-disk)\")"
   ],
   "metadata": {
    "collapsed": false,
    "pycharm": {
     "name": "#%%\n"
    }
   }
  },
  {
   "cell_type": "code",
   "execution_count": 44,
   "outputs": [
    {
     "data": {
      "text/plain": "<matplotlib.axes._subplots.AxesSubplot at 0x7fcb6051d5b0>"
     },
     "execution_count": 44,
     "metadata": {},
     "output_type": "execute_result"
    },
    {
     "data": {
      "text/plain": "<Figure size 864x360 with 1 Axes>",
      "image/png": "[encoded data removed]"
     },
     "metadata": {
      "needs_background": "light"
     },
     "output_type": "display_data"
    },
    {
     "name": "stdout",
     "output_type": "stream",
     "text": [
      "In [44] used 0.316 MiB RAM in 0.117s, peaked 0.000 MiB above current, total RAM usage 2356.613 MiB\n"
     ]
    }
   ],
   "source": [
    "labels = [\"ironArray mean (disk)\", \"Zarr+Dask (disk)\"]\n",
    "df = pd.DataFrame({'memory (MB)': [\n",
    "    meas[\"ia_mean_disk\"].memory_delta, meas[\"dask_mean_disk\"].memory_peak]},\n",
    "    index=labels)\n",
    "df.plot(kind='barh', figsize=(12,5), fontsize=16, title=\"Memory consumption (in-memory)\")\n"
   ],
   "metadata": {
    "collapsed": false,
    "pycharm": {
     "name": "#%%\n"
    }
   }
  },
  {
   "cell_type": "markdown",
   "source": [
    "This is a general feature of ironArray: perform evaluations while keeping memory usage low.  This allows to compute operations on arbitrarily large arrays (as long as disk storage allows) without worrying about RAM capacities."
   ],
   "metadata": {
    "collapsed": false,
    "pycharm": {
     "name": "#%% md\n"
    }
   }
  },
  {
   "cell_type": "markdown",
   "source": [
    "## Optimization Tips\n",
    "\n",
    "Even if ironArray has been quite competitive in terms of speed and memory consumption, so far the computations have been done using just the default values.  Let's see how we can accelerate things here.\n",
    "\n",
    "First, let's start by using larger chunks and see.  First, let's see which are our current sizes:"
   ],
   "metadata": {
    "collapsed": false,
    "pycharm": {
     "name": "#%% md\n"
    }
   }
  },
  {
   "cell_type": "code",
   "execution_count": 40,
   "outputs": [
    {
     "ename": "AttributeError",
     "evalue": "'Array' object has no attribute 'chunkshape'",
     "output_type": "error",
     "traceback": [
      "\u001B[0;31m---------------------------------------------------------------------------\u001B[0m",
      "\u001B[0;31mAttributeError\u001B[0m                            Traceback (most recent call last)",
      "\u001B[0;32m<ipython-input-40-a5210fcebdb8>\u001B[0m in \u001B[0;36m<module>\u001B[0;34m\u001B[0m\n\u001B[0;32m----> 1\u001B[0;31m \u001B[0mprint\u001B[0m\u001B[0;34m(\u001B[0m\u001B[0mprecip1\u001B[0m\u001B[0;34m.\u001B[0m\u001B[0mchunkshape\u001B[0m\u001B[0;34m)\u001B[0m\u001B[0;34m\u001B[0m\u001B[0;34m\u001B[0m\u001B[0m\n\u001B[0m\u001B[1;32m      2\u001B[0m \u001B[0mprint\u001B[0m\u001B[0;34m(\u001B[0m\u001B[0mprecip1\u001B[0m\u001B[0;34m.\u001B[0m\u001B[0mblockshape\u001B[0m\u001B[0;34m)\u001B[0m\u001B[0;34m\u001B[0m\u001B[0;34m\u001B[0m\u001B[0m\n\u001B[1;32m      3\u001B[0m \u001B[0;34m\u001B[0m\u001B[0m\n",
      "\u001B[0;31mAttributeError\u001B[0m: 'Array' object has no attribute 'chunkshape'"
     ]
    },
    {
     "name": "stdout",
     "output_type": "stream",
     "text": [
      "In [40] used 2.578 MiB RAM in 0.231s, peaked 0.000 MiB above current, total RAM usage 4297.137 MiB\n"
     ]
    }
   ],
   "source": [
    "print(precip1.chunkshape)\n",
    "print(precip1.blockshape)"
   ],
   "metadata": {
    "collapsed": false,
    "pycharm": {
     "name": "#%%\n"
    }
   }
  },
  {
   "cell_type": "markdown",
   "source": [
    "Let's duplicate"
   ],
   "metadata": {
    "collapsed": false,
    "pycharm": {
     "name": "#%% md\n"
    }
   }
  },
  {
   "cell_type": "markdown",
   "metadata": {
    "pycharm": {
     "name": "#%% md\n"
    }
   },
   "source": [
    "TODO: Introduce UDFs, and an 'Optimization tips' section...\n",
    "\n",
    "TODO: Add a comparison with xarray or dask, for out-of-core reductions"
   ]
  },
  {
   "cell_type": "code",
   "execution_count": null,
   "outputs": [],
   "source": [
    "mw.stop_watching_memory()"
   ],
   "metadata": {
    "collapsed": false,
    "pycharm": {
     "name": "#%%\n"
    }
   }
  }
 ],
 "metadata": {
  "kernelspec": {
   "display_name": "Python 3",
   "language": "python",
   "name": "python3"
  },
  "language_info": {
   "codemirror_mode": {
    "name": "ipython",
    "version": 3
   },
   "file_extension": ".py",
   "mimetype": "text/x-python",
   "name": "python",
   "nbconvert_exporter": "python",
   "pygments_lexer": "ipython3",
   "version": "3.8.5"
  }
 },
 "nbformat": 4,
 "nbformat_minor": 1
}