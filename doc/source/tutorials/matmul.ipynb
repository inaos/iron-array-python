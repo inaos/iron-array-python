{
 "cells": [
  {
   "cell_type": "markdown",
   "source": [
    "# Matrix multiplication\n",
    "\n",
    "\n",
    "Matrix multiplication is a binary operation that produces a matrix from two matrices.\n",
    "Computing matrix products is a central operation in all computational applications of\n",
    "linear algebra.\n",
    "\n",
    "In this tutorial we will see how matrix multiplication works in *ironArray*.\n"
   ],
   "metadata": {
    "collapsed": false,
    "pycharm": {
     "name": "#%% md\n"
    }
   }
  },
  {
   "cell_type": "markdown",
   "source": [
    "## Matrix multiplication\n",
    "\n",
    "First, we are going to create two chunked, compressed matrices using *ironArray*."
   ],
   "metadata": {
    "collapsed": false,
    "pycharm": {
     "name": "#%% md\n"
    }
   }
  },
  {
   "cell_type": "code",
   "source": [
    "import iarray as ia\n",
    "import numpy as np\n",
    "\n",
    "storage = ia.StorageProperties(\"blosc\", chunkshape=(1000, 1000), blockshape=(250, 250))\n",
    "\n",
    "adtshape = ia.dtshape((3000, 5000), dtype=np.float64)\n",
    "a = ia.linspace(adtshape, 0, 1, np.prod(adtshape.shape), storage=storage)\n",
    "\n",
    "bdtshape = ia.dtshape((5000, 4000), dtype=np.float64)\n",
    "b = ia.linspace(bdtshape, 0, 1, np.prod(bdtshape.shape), storage=storage)\n"
   ],
   "metadata": {
    "collapsed": false,
    "pycharm": {
     "name": "#%%\n"
    }
   },
   "execution_count": 1,
   "outputs": []
  },
  {
   "cell_type": "markdown",
   "source": [
    "Unlike numpy, *ironArray* performs the matrix-matrix multiplication using blocks. In this way, instead\n",
    "of decompressing all the data from the two arrays, we only have to decompress the data needed in\n",
    "each block operation (allowing larger operations with less memory).\n",
    "\n",
    "To do this, *ironArray* has two parameters called `block_a` and `block_b` that allow users to\n",
    "determine the size of the blocks used in the multiplication."
   ],
   "metadata": {
    "collapsed": false
   }
  },
  {
   "cell_type": "code",
   "execution_count": 2,
   "outputs": [],
   "source": [
    "c = ia.matmul(a, b, block_a=a.chunkshape, block_b=b.chunkshape, storage=storage)\n",
    "\n",
    "# Testing against numpy\n",
    "np.testing.assert_allclose(ia.iarray2numpy(c), np.matmul(ia.iarray2numpy(a), ia.iarray2numpy(b)))\n"
   ],
   "metadata": {
    "collapsed": false,
    "pycharm": {
     "name": "#%%\n"
    }
   }
  },
  {
   "cell_type": "markdown",
   "source": [
    "## Vector multiplication\n",
    "\n",
    "*ironArray* also allows users to perform matrix-vector multiplication in the same way that\n",
    "matrix-matrix multiplication is performed."
   ],
   "metadata": {
    "collapsed": false,
    "pycharm": {
     "name": "#%% md\n"
    }
   }
  },
  {
   "cell_type": "code",
   "execution_count": 3,
   "outputs": [],
   "source": [
    "astorage = ia.StorageProperties(\"blosc\", chunkshape=(1000, 1000), blockshape=(250, 250))\n",
    "adtshape = ia.dtshape((3000, 5000), dtype=np.float64)\n",
    "a = ia.linspace(adtshape, -2, -1, np.prod(adtshape.shape), storage=astorage)\n",
    "\n",
    "bstorage = ia.StorageProperties(\"blosc\", chunkshape=(1000,), blockshape=(250,))\n",
    "bdtshape = ia.dtshape((5000,), dtype=np.float64)\n",
    "b = ia.linspace(bdtshape, 5, 10, np.prod(bdtshape.shape), storage=bstorage)\n",
    "\n",
    "cstorage = ia.StorageProperties(\"blosc\", chunkshape=(1000,), blockshape=(200,))\n",
    "c = ia.matmul(a, b, a.chunkshape, b.chunkshape, storage=cstorage)\n",
    "\n",
    "# Testing against numpy\n",
    "np.testing.assert_allclose(ia.iarray2numpy(c), np.matmul(ia.iarray2numpy(a), ia.iarray2numpy(b)))\n",
    "\n"
   ],
   "metadata": {
    "collapsed": false,
    "pycharm": {
     "name": "#%%\n"
    }
   }
  }
 ],
 "metadata": {
  "kernelspec": {
   "display_name": "Python 3",
   "language": "python",
   "name": "python3"
  },
  "language_info": {
   "codemirror_mode": {
    "name": "ipython",
    "version": 2
   },
   "file_extension": ".py",
   "mimetype": "text/x-python",
   "name": "python",
   "nbconvert_exporter": "python",
   "pygments_lexer": "ipython2",
   "version": "2.7.6"
  }
 },
 "nbformat": 4,
 "nbformat_minor": 0
}