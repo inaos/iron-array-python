{
 "cells": [
  {
   "cell_type": "markdown",
   "metadata": {
    "collapsed": true,
    "pycharm": {
     "name": "#%% md\n"
    }
   },
   "source": [
    "# Basic Usage\n",
    "\n",
    "*IronArray* is a multi-dimensional, compressed data container and computational engine optimized\n",
    "for big-data applications.\n",
    "\n",
    "In this tutorial we will see some basic concepts such as the creation or the slicing of the *ironArray*\n",
    "arrays.\n"
   ]
  },
  {
   "cell_type": "markdown",
   "source": [
    "# Creation\n",
    "\n",
    "In this first section, we will see how to create the main object of the library, the *ironArray*\n",
    "arrays. These arrays can be created in a compressed way using *Blosc* or simpy using a buffer. This storage\n",
    "parameter along with many others is determined using the `StorageProperties` object.\n",
    "\n",
    "For example, the next `StorageProperties` object indicates that the array is stored using Blosc.\n",
    "In this case, we can also indicate the shape of both the chunks and the blocks:\n",
    "\n",
    "```\n",
    "ia.StorageProperties(\"blosc\", chunkshape=(3000, 1000), blockshape=(100, 100))\n",
    "```\n",
    "\n",
    "However these options do not exist when the array is created using a buffer:\n",
    "\n",
    "```\n",
    "ia.StorageProperties(\"plainbuffer\")\n",
    "```\n",
    "\n",
    "In order to determine the shape and the data type of the arrays, the `dtshape` object is used.\n",
    "By now, *ironArray* arrays only support two types: `double` and `float`.\n",
    "\n",
    "Following previous example, if we want to create a 2-dimensional array containing *doubles*,\n",
    "the `dtshape` to use is:\n",
    "\n",
    "```\n",
    "ia.dtshape((10000, 7000), np.float64)\n",
    "```\n",
    "\n",
    "Once we have seen these necessary parameters for the creation of any array, we are going\n",
    "to build one using a linspace:"
   ],
   "metadata": {
    "collapsed": false,
    "pycharm": {
     "name": "#%% md\n"
    }
   }
  },
  {
   "cell_type": "code",
   "execution_count": 2,
   "outputs": [],
   "source": [
    "import iarray as ia\n",
    "import numpy as np\n",
    "\n",
    "dtshape = ia.dtshape((10000, 7000), np.float64)\n",
    "storage = ia.StorageProperties(\"blosc\", chunkshape=(3000, 1000), blockshape=(100, 100))\n",
    "\n",
    "array = ia.linspace(dtshape, 0, 1, storage=storage)\n"
   ],
   "metadata": {
    "collapsed": false,
    "pycharm": {
     "name": "#%%\n"
    }
   }
  },
  {
   "cell_type": "markdown",
   "source": [
    "### Extra arguments\n",
    "\n",
    "When creating the arrays, we can specify other arguments such as compression parameters."
   ],
   "metadata": {
    "collapsed": false,
    "pycharm": {
     "name": "#%% md\n"
    }
   }
  },
  {
   "cell_type": "code",
   "execution_count": 3,
   "outputs": [],
   "source": [
    "compression_params = dict(clevel=1, clib=ia.LZ4)\n",
    "\n",
    "array = ia.arange(dtshape, 0, 9, storage=storage, **compression_params)"
   ],
   "metadata": {
    "collapsed": false,
    "pycharm": {
     "name": "#%%\n"
    }
   }
  },
  {
   "cell_type": "markdown",
   "source": [
    "## Slicing\n",
    "\n",
    "### Views"
   ],
   "metadata": {
    "collapsed": false
   }
  }
 ],
 "metadata": {
  "kernelspec": {
   "display_name": "Python 3",
   "language": "python",
   "name": "python3"
  },
  "language_info": {
   "codemirror_mode": {
    "name": "ipython",
    "version": 2
   },
   "file_extension": ".py",
   "mimetype": "text/x-python",
   "name": "python",
   "nbconvert_exporter": "python",
   "pygments_lexer": "ipython2",
   "version": "2.7.6"
  }
 },
 "nbformat": 4,
 "nbformat_minor": 0
}