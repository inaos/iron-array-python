{
 "cells": [
  {
   "cell_type": "markdown",
   "metadata": {
    "collapsed": true,
    "pycharm": {
     "name": "#%% md\n"
    }
   },
   "source": [
    "# Basic Usage"
   ]
  },
  {
   "cell_type": "code",
   "source": [
    "import iarray as ia\n",
    "\n",
    "dtshape = ia.dtshape((10000, 10000), dtype=\"float\")\n",
    "storage = ia.StorageProperties(\"blosc\", chunkshape=(1000, 1000), blockshape=(250, 250))\n",
    "\n",
    "a = ia.linspace(dtshape, 0, 1, storage=storage)\n",
    "print(a.shape)\n",
    "print(a.chunkshape)\n",
    "print(a.blockshape)"
   ],
   "metadata": {
    "collapsed": false,
    "pycharm": {
     "name": "#%%\n"
    }
   },
   "execution_count": 4,
   "outputs": [
    {
     "name": "stdout",
     "output_type": "stream",
     "text": [
      "(10000, 10000)\n",
      "(1000, 1000)\n",
      "(250, 250)\n"
     ]
    }
   ]
  },
  {
   "cell_type": "code",
   "execution_count": 5,
   "outputs": [],
   "source": [
    "b = a[1:200, 1:200]\n",
    "b.chunkshape"
   ],
   "metadata": {
    "collapsed": false,
    "pycharm": {
     "name": "#%%\n"
    }
   }
  }
 ],
 "metadata": {
  "kernelspec": {
   "display_name": "Python 3",
   "language": "python",
   "name": "python3"
  },
  "language_info": {
   "codemirror_mode": {
    "name": "ipython",
    "version": 2
   },
   "file_extension": ".py",
   "mimetype": "text/x-python",
   "name": "python",
   "nbconvert_exporter": "python",
   "pygments_lexer": "ipython2",
   "version": "2.7.6"
  }
 },
 "nbformat": 4,
 "nbformat_minor": 0
}