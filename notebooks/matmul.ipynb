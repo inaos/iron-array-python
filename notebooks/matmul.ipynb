{
 "cells": [
  {
   "cell_type": "markdown",
   "metadata": {},
   "source": [
    "# Matrix matrix multiplication performance"
   ]
  },
  {
   "cell_type": "code",
   "execution_count": 1,
   "metadata": {},
   "outputs": [],
   "source": [
    "import iarray as ia\n",
    "import numpy as np\n",
    "from itertools import zip_longest as izip\n",
    "from time import time\n",
    "import ctypes\n",
    "\n",
    "\n",
    "mkl_rt = ctypes.CDLL('libmkl_rt.dylib')\n",
    "mkl_set_num_threads = mkl_rt.MKL_Set_Num_Threads\n",
    "nrep = 10"
   ]
  },
  {
   "cell_type": "markdown",
   "metadata": {},
   "source": [
    "## Sequencial"
   ]
  },
  {
   "cell_type": "code",
   "execution_count": 2,
   "metadata": {},
   "outputs": [],
   "source": [
    "mkl_set_num_threads(1)\n",
    "cfg = ia.Config(max_num_threads=1, compression_level=0)\n",
    "ctx = ia.Context(cfg)"
   ]
  },
  {
   "cell_type": "markdown",
   "metadata": {},
   "source": [
    "### Plainbuffer"
   ]
  },
  {
   "cell_type": "code",
   "execution_count": 3,
   "metadata": {},
   "outputs": [
    {
     "name": "stdout",
     "output_type": "stream",
     "text": [
      "Time to compute matmul with numpy: 0.4656 s\n",
      "Time to compute matmul with iarray: 0.4606 s\n",
      "Numpy is 0.9893x more faster than iarray\n"
     ]
    }
   ],
   "source": [
    "shape = [2000, 2000]\n",
    "pshape = None\n",
    "bshape = [2000, 2000]\n",
    "size = int(np.prod(shape))\n",
    "\n",
    "a = ia.linspace(ctx, size, -1, 1, shape=shape, pshape=pshape)\n",
    "an = ia.iarray2numpy(ctx, a)\n",
    "\n",
    "b = ia.linspace(ctx, size, -1, 1, shape=shape, pshape=pshape)\n",
    "bn = ia.iarray2numpy(ctx, b)\n",
    "\n",
    "t0 = time()\n",
    "for _ in range(nrep):\n",
    "    cn2 = np.matmul(an, bn)\n",
    "t1 = time()\n",
    "t_np = (t1 - t0)/nrep\n",
    "\n",
    "print(f\"Time to compute matmul with numpy: {round(t_np, 4)} s\")\n",
    "\n",
    "t0 = time()\n",
    "for i in range(nrep):\n",
    "    c = ia.matmul(ctx, a, b, bshape, bshape)\n",
    "t1 = time()\n",
    "t_ia = (t1 - t0)/nrep\n",
    "\n",
    "print(f\"Time to compute matmul with iarray: {round(t_ia, 4)} s\")\n",
    "\n",
    "cn = ia.iarray2numpy(ctx, c)\n",
    "\n",
    "np.testing.assert_almost_equal(cn, cn2)\n",
    "\n",
    "print(f\"Numpy is {round(t_ia/t_np, 4)}x more faster than iarray\")"
   ]
  },
  {
   "cell_type": "markdown",
   "metadata": {},
   "source": [
    "### Superchunk"
   ]
  },
  {
   "cell_type": "code",
   "execution_count": 4,
   "metadata": {
    "scrolled": true
   },
   "outputs": [
    {
     "name": "stdout",
     "output_type": "stream",
     "text": [
      "Time to compute matmul with numpy: 0.4618 s\n",
      "Time to compute matmul with iarray: 0.6456 s\n",
      "Numpy is 1.3979x more faster than iarray\n"
     ]
    }
   ],
   "source": [
    "shape = [2000, 2000]\n",
    "pshape = [200, 200]\n",
    "bshape = [200, 200]\n",
    "size = int(np.prod(shape))\n",
    "\n",
    "a = ia.linspace(ctx, size, -1, 1, shape=shape, pshape=pshape)\n",
    "an = ia.iarray2numpy(ctx, a)\n",
    "\n",
    "b = ia.linspace(ctx, size, -1, 1, shape=shape, pshape=pshape)\n",
    "bn = ia.iarray2numpy(ctx, b)\n",
    "\n",
    "t0 = time()\n",
    "for _ in range(nrep):\n",
    "    cn2 = np.matmul(an, bn)\n",
    "t1 = time()\n",
    "t_np = (t1 - t0)/nrep\n",
    "\n",
    "print(f\"Time to compute matmul with numpy: {round(t_np, 4)} s\")\n",
    "\n",
    "t0 = time()\n",
    "for i in range(nrep):\n",
    "    c = ia.matmul(ctx, a, b, bshape, bshape)\n",
    "t1 = time()\n",
    "t_ia = (t1 - t0)/nrep\n",
    "\n",
    "print(f\"Time to compute matmul with iarray: {round(t_ia, 4)} s\")\n",
    "\n",
    "cn = ia.iarray2numpy(ctx, c)\n",
    "\n",
    "np.testing.assert_almost_equal(cn, cn2)\n",
    "\n",
    "print(f\"Numpy is {round(t_ia/t_np, 4)}x more faster than iarray\")"
   ]
  },
  {
   "cell_type": "markdown",
   "metadata": {},
   "source": [
    "## Multithreading"
   ]
  },
  {
   "cell_type": "code",
   "execution_count": 5,
   "metadata": {},
   "outputs": [],
   "source": [
    "mkl_set_num_threads(2)\n",
    "cfg = ia.Config(max_num_threads=2, compression_level=0)\n",
    "ctx = ia.Context(cfg)"
   ]
  },
  {
   "cell_type": "markdown",
   "metadata": {},
   "source": [
    "### Plainbuffer"
   ]
  },
  {
   "cell_type": "code",
   "execution_count": 8,
   "metadata": {},
   "outputs": [
    {
     "name": "stdout",
     "output_type": "stream",
     "text": [
      "Time to compute matmul with numpy: 0.2224 s\n",
      "Time to compute matmul with iarray: 0.2407 s\n",
      "Numpy is 1.082x more faster than iarray\n"
     ]
    }
   ],
   "source": [
    "shape = [2000, 2000]\n",
    "pshape = None\n",
    "bshape = [2000, 2000]\n",
    "size = int(np.prod(shape))\n",
    "\n",
    "a = ia.linspace(ctx, size, -1, 1, shape=shape, pshape=pshape)\n",
    "an = ia.iarray2numpy(ctx, a)\n",
    "\n",
    "b = ia.linspace(ctx, size, -1, 1, shape=shape, pshape=pshape)\n",
    "bn = ia.iarray2numpy(ctx, b)\n",
    "\n",
    "t0 = time()\n",
    "for _ in range(nrep):\n",
    "    cn2 = np.matmul(an, bn)\n",
    "t1 = time()\n",
    "t_np = (t1 - t0)/nrep\n",
    "\n",
    "print(f\"Time to compute matmul with numpy: {round(t_np, 4)} s\")\n",
    "\n",
    "t0 = time()\n",
    "for i in range(nrep):\n",
    "    c = ia.matmul(ctx, a, b, bshape, bshape)\n",
    "t1 = time()\n",
    "t_ia = (t1 - t0)/nrep\n",
    "\n",
    "print(f\"Time to compute matmul with iarray: {round(t_ia, 4)} s\")\n",
    "\n",
    "cn = ia.iarray2numpy(ctx, c)\n",
    "\n",
    "np.testing.assert_almost_equal(cn, cn2)\n",
    "\n",
    "print(f\"Numpy is {round(t_ia/t_np, 4)}x more faster than iarray\")"
   ]
  },
  {
   "cell_type": "markdown",
   "metadata": {},
   "source": [
    "### Superchunk"
   ]
  },
  {
   "cell_type": "code",
   "execution_count": 10,
   "metadata": {},
   "outputs": [
    {
     "name": "stdout",
     "output_type": "stream",
     "text": [
      "Time to compute matmul with numpy: 0.2241 s\n",
      "Time to compute matmul with iarray: 0.4427 s\n",
      "Numpy is 1.9754x more faster than iarray\n"
     ]
    }
   ],
   "source": [
    "shape = [2000, 2000]\n",
    "pshape = [200, 200]\n",
    "bshape = [200, 200]\n",
    "size = int(np.prod(shape))\n",
    "\n",
    "a = ia.linspace(ctx, size, -1, 1, shape=shape, pshape=pshape)\n",
    "an = ia.iarray2numpy(ctx, a)\n",
    "\n",
    "b = ia.linspace(ctx, size, -1, 1, shape=shape, pshape=pshape)\n",
    "bn = ia.iarray2numpy(ctx, b)\n",
    "\n",
    "t0 = time()\n",
    "for _ in range(nrep):\n",
    "    cn2 = np.matmul(an, bn)\n",
    "t1 = time()\n",
    "t_np = (t1 - t0)/nrep\n",
    "\n",
    "print(f\"Time to compute matmul with numpy: {round(t_np, 4)} s\")\n",
    "\n",
    "t0 = time()\n",
    "for i in range(nrep):\n",
    "    c = ia.matmul(ctx, a, b, bshape, bshape)\n",
    "t1 = time()\n",
    "t_ia = (t1 - t0)/nrep\n",
    "\n",
    "print(f\"Time to compute matmul with iarray: {round(t_ia, 4)} s\")\n",
    "\n",
    "cn = ia.iarray2numpy(ctx, c)\n",
    "\n",
    "np.testing.assert_almost_equal(cn, cn2)\n",
    "\n",
    "print(f\"Numpy is {round(t_ia/t_np, 4)}x more faster than iarray\")"
   ]
  },
  {
   "cell_type": "code",
   "execution_count": null,
   "metadata": {},
   "outputs": [],
   "source": []
  }
 ],
 "metadata": {
  "kernelspec": {
   "display_name": "Python 2",
   "language": "python",
   "name": "python2"
  },
  "language_info": {
   "codemirror_mode": {
    "name": "ipython",
    "version": 3
   },
   "file_extension": ".py",
   "mimetype": "text/x-python",
   "name": "python",
   "nbconvert_exporter": "python",
   "pygments_lexer": "ipython3",
   "version": "3.6.8"
  }
 },
 "nbformat": 4,
 "nbformat_minor": 1
}
