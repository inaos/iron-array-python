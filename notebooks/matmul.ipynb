{
 "cells": [
  {
   "cell_type": "markdown",
   "metadata": {},
   "source": [
    "# Matrix matrix multiplication performance"
   ]
  },
  {
   "cell_type": "code",
   "execution_count": 2,
   "metadata": {},
   "outputs": [],
   "source": [
    "import iarray as ia\n",
    "import numpy as np\n",
    "from itertools import zip_longest as izip\n",
    "from time import time\n",
    "import ctypes\n",
    "import matplotlib.pyplot as plt\n",
    "%matplotlib inline\n",
    "\n",
    "\n",
    "mkl_rt = ctypes.CDLL('libmkl_rt.dylib')\n",
    "mkl_set_num_threads = mkl_rt.MKL_Set_Num_Threads\n",
    "nrep = 10\n",
    "\n",
    "seq = []\n",
    "mul = []"
   ]
  },
  {
   "cell_type": "markdown",
   "metadata": {},
   "source": [
    "## Plainbuffer"
   ]
  },
  {
   "cell_type": "code",
   "execution_count": 3,
   "metadata": {},
   "outputs": [],
   "source": [
    "shape = [2000, 2000]\n",
    "pshape = None\n",
    "bshape = [2000, 2000]\n",
    "size = int(np.prod(shape))"
   ]
  },
  {
   "cell_type": "markdown",
   "metadata": {},
   "source": [
    "### Sequential"
   ]
  },
  {
   "cell_type": "code",
   "execution_count": 5,
   "metadata": {},
   "outputs": [
    {
     "name": "stdout",
     "output_type": "stream",
     "text": [
      "Time to compute matmul with numpy: 0.4346 s\n",
      "Time to compute matmul with iarray: 0.498 s\n",
      "Numpy is 1.1458x more faster than iarray\n"
     ]
    }
   ],
   "source": [
    "mkl_set_num_threads(1)\n",
    "cfg = ia.Config(max_num_threads=1)\n",
    "ctx = ia.Context(cfg)\n",
    "\n",
    "a = ia.linspace(ctx, size, -1, 1, shape=shape, pshape=pshape)\n",
    "an = ia.iarray2numpy(ctx, a)\n",
    "\n",
    "b = ia.linspace(ctx, size, -1, 1, shape=shape, pshape=pshape)\n",
    "bn = ia.iarray2numpy(ctx, b)\n",
    "\n",
    "t0 = time()\n",
    "for _ in range(nrep):\n",
    "    cn2 = np.matmul(an, bn)\n",
    "t1 = time()\n",
    "t_np = (t1 - t0) / nrep\n",
    "seq.append(t_np)\n",
    "\n",
    "print(f\"Time to compute matmul with numpy: {round(t_np, 4)} s\")\n",
    "\n",
    "t0 = time()\n",
    "for i in range(nrep):\n",
    "    c = ia.matmul(ctx, a, b, bshape, bshape)\n",
    "t1 = time()\n",
    "t_ia = (t1 - t0) / nrep\n",
    "seq.append(t_ia)\n",
    "\n",
    "print(f\"Time to compute matmul with iarray: {round(t_ia, 4)} s\")\n",
    "\n",
    "cn = ia.iarray2numpy(ctx, c)\n",
    "\n",
    "np.testing.assert_almost_equal(cn, cn2)\n",
    "\n",
    "print(f\"Numpy is {round(t_ia/t_np, 4)}x more faster than iarray\")"
   ]
  },
  {
   "cell_type": "markdown",
   "metadata": {},
   "source": [
    "### Multithreading"
   ]
  },
  {
   "cell_type": "code",
   "execution_count": 4,
   "metadata": {},
   "outputs": [
    {
     "name": "stdout",
     "output_type": "stream",
     "text": [
      "Time to compute matmul with numpy: 0.2187 s\n",
      "Time to compute matmul with iarray: 0.2485 s\n",
      "Numpy is 1.1363x more faster than iarray\n"
     ]
    }
   ],
   "source": [
    "mkl_set_num_threads(4)\n",
    "cfg = ia.Config(max_num_threads=4)\n",
    "ctx = ia.Context(cfg)\n",
    "\n",
    "a = ia.linspace(ctx, size, -1, 1, shape=shape, pshape=pshape)\n",
    "an = ia.iarray2numpy(ctx, a)\n",
    "\n",
    "b = ia.linspace(ctx, size, -1, 1, shape=shape, pshape=pshape)\n",
    "bn = ia.iarray2numpy(ctx, b)\n",
    "\n",
    "t0 = time()\n",
    "for _ in range(nrep):\n",
    "    cn2 = np.matmul(an, bn)\n",
    "t1 = time()\n",
    "t_np = (t1 - t0) / nrep\n",
    "mul.append(t_np)\n",
    "\n",
    "print(f\"Time to compute matmul with numpy: {round(t_np, 4)} s\")\n",
    "\n",
    "t0 = time()\n",
    "for i in range(nrep):\n",
    "    c = ia.matmul(ctx, a, b, bshape, bshape)\n",
    "t1 = time()\n",
    "t_ia = (t1 - t0) / nrep\n",
    "mul.append(t_ia)\n",
    "\n",
    "print(f\"Time to compute matmul with iarray: {round(t_ia, 4)} s\")\n",
    "\n",
    "cn = ia.iarray2numpy(ctx, c)\n",
    "\n",
    "np.testing.assert_almost_equal(cn, cn2)\n",
    "\n",
    "print(f\"Numpy is {round(t_ia/t_np, 4)}x more faster than iarray\")"
   ]
  },
  {
   "cell_type": "markdown",
   "metadata": {},
   "source": [
    "## Superchunk (without compression)"
   ]
  },
  {
   "cell_type": "code",
   "execution_count": 5,
   "metadata": {},
   "outputs": [],
   "source": [
    "shape = [2000, 2000]\n",
    "pshape = [200, 200]\n",
    "bshape = [200, 200]\n",
    "size = int(np.prod(shape))"
   ]
  },
  {
   "cell_type": "markdown",
   "metadata": {},
   "source": [
    "### Sequential"
   ]
  },
  {
   "cell_type": "code",
   "execution_count": 6,
   "metadata": {
    "scrolled": true
   },
   "outputs": [
    {
     "name": "stdout",
     "output_type": "stream",
     "text": [
      "Time to compute matmul with numpy: 0.4054 s\n",
      "Time to compute matmul with iarray: 0.7358 s\n",
      "Numpy is 1.8151x more faster than iarray\n"
     ]
    }
   ],
   "source": [
    "mkl_set_num_threads(1)\n",
    "cfg = ia.Config(max_num_threads=1, compression_level=0)\n",
    "ctx = ia.Context(cfg)\n",
    "\n",
    "a = ia.linspace(ctx, size, -1, 1, shape=shape, pshape=pshape)\n",
    "an = ia.iarray2numpy(ctx, a)\n",
    "\n",
    "b = ia.linspace(ctx, size, -1, 1, shape=shape, pshape=pshape)\n",
    "bn = ia.iarray2numpy(ctx, b)\n",
    "\n",
    "t0 = time()\n",
    "for _ in range(nrep):\n",
    "    cn2 = np.matmul(an, bn)\n",
    "t1 = time()\n",
    "t_np = (t1 - t0) / nrep\n",
    "\n",
    "print(f\"Time to compute matmul with numpy: {round(t_np, 4)} s\")\n",
    "\n",
    "t0 = time()\n",
    "for i in range(nrep):\n",
    "    c = ia.matmul(ctx, a, b, bshape, bshape)\n",
    "t1 = time()\n",
    "t_ia = (t1 - t0) / nrep\n",
    "seq.append(t_ia)\n",
    "\n",
    "print(f\"Time to compute matmul with iarray: {round(t_ia, 4)} s\")\n",
    "\n",
    "cn = ia.iarray2numpy(ctx, c)\n",
    "\n",
    "np.testing.assert_almost_equal(cn, cn2)\n",
    "\n",
    "print(f\"Numpy is {round(t_ia/t_np, 4)}x more faster than iarray\")"
   ]
  },
  {
   "cell_type": "markdown",
   "metadata": {},
   "source": [
    "### Multithreading"
   ]
  },
  {
   "cell_type": "code",
   "execution_count": 7,
   "metadata": {
    "scrolled": true
   },
   "outputs": [
    {
     "name": "stdout",
     "output_type": "stream",
     "text": [
      "Time to compute matmul with numpy: 0.2363 s\n",
      "Time to compute matmul with iarray: 0.5462 s\n",
      "Numpy is 2.3117x more faster than iarray\n"
     ]
    }
   ],
   "source": [
    "mkl_set_num_threads(4)\n",
    "cfg = ia.Config(max_num_threads=4, compression_level=0)\n",
    "ctx = ia.Context(cfg)\n",
    "\n",
    "a = ia.linspace(ctx, size, -1, 1, shape=shape, pshape=pshape)\n",
    "an = ia.iarray2numpy(ctx, a)\n",
    "\n",
    "b = ia.linspace(ctx, size, -1, 1, shape=shape, pshape=pshape)\n",
    "bn = ia.iarray2numpy(ctx, b)\n",
    "\n",
    "t0 = time()\n",
    "for _ in range(nrep):\n",
    "    cn2 = np.matmul(an, bn)\n",
    "t1 = time()\n",
    "t_np = (t1 - t0) / nrep\n",
    "\n",
    "print(f\"Time to compute matmul with numpy: {round(t_np, 4)} s\")\n",
    "\n",
    "t0 = time()\n",
    "for i in range(nrep):\n",
    "    c = ia.matmul(ctx, a, b, bshape, bshape)\n",
    "t1 = time()\n",
    "t_ia = (t1 - t0) / nrep\n",
    "mul.append(t_ia)\n",
    "\n",
    "print(f\"Time to compute matmul with iarray: {round(t_ia, 4)} s\")\n",
    "\n",
    "cn = ia.iarray2numpy(ctx, c)\n",
    "\n",
    "np.testing.assert_almost_equal(cn, cn2)\n",
    "\n",
    "print(f\"Numpy is {round(t_ia/t_np, 4)}x more faster than iarray\")"
   ]
  },
  {
   "cell_type": "markdown",
   "metadata": {},
   "source": [
    "## Superchunk (with compression)"
   ]
  },
  {
   "cell_type": "code",
   "execution_count": 8,
   "metadata": {},
   "outputs": [],
   "source": [
    "shape = [2000, 2000]\n",
    "pshape = [200, 200]\n",
    "bshape = [200, 200]\n",
    "size = int(np.prod(shape))"
   ]
  },
  {
   "cell_type": "markdown",
   "metadata": {},
   "source": [
    "### Sequential"
   ]
  },
  {
   "cell_type": "code",
   "execution_count": 9,
   "metadata": {},
   "outputs": [
    {
     "name": "stdout",
     "output_type": "stream",
     "text": [
      "Time to compute matmul with numpy: 0.4606 s\n",
      "Time to compute matmul with iarray: 0.9122 s\n",
      "Numpy is 1.9806x more faster than iarray\n"
     ]
    }
   ],
   "source": [
    "mkl_set_num_threads(1)\n",
    "cfg = ia.Config(max_num_threads=1, compression_level=5)\n",
    "ctx = ia.Context(cfg)\n",
    "\n",
    "a = ia.linspace(ctx, size, -1, 1, shape=shape, pshape=pshape)\n",
    "an = ia.iarray2numpy(ctx, a)\n",
    "\n",
    "b = ia.linspace(ctx, size, -1, 1, shape=shape, pshape=pshape)\n",
    "bn = ia.iarray2numpy(ctx, b)\n",
    "\n",
    "t0 = time()\n",
    "for _ in range(nrep):\n",
    "    cn2 = np.matmul(an, bn)\n",
    "t1 = time()\n",
    "t_np = (t1 - t0) / nrep\n",
    "\n",
    "print(f\"Time to compute matmul with numpy: {round(t_np, 4)} s\")\n",
    "\n",
    "t0 = time()\n",
    "for i in range(nrep):\n",
    "    c = ia.matmul(ctx, a, b, bshape, bshape)\n",
    "t1 = time()\n",
    "t_ia = (t1 - t0) / nrep\n",
    "seq.append(t_ia)\n",
    "\n",
    "print(f\"Time to compute matmul with iarray: {round(t_ia, 4)} s\")\n",
    "\n",
    "cn = ia.iarray2numpy(ctx, c)\n",
    "\n",
    "np.testing.assert_almost_equal(cn, cn2)\n",
    "\n",
    "print(f\"Numpy is {round(t_ia/t_np, 4)}x more faster than iarray\")"
   ]
  },
  {
   "cell_type": "markdown",
   "metadata": {},
   "source": [
    "### Multithreading"
   ]
  },
  {
   "cell_type": "code",
   "execution_count": 10,
   "metadata": {},
   "outputs": [
    {
     "name": "stdout",
     "output_type": "stream",
     "text": [
      "Time to compute matmul with numpy: 0.2543 s\n",
      "Time to compute matmul with iarray: 0.7981 s\n",
      "Numpy is 3.1382x more faster than iarray\n"
     ]
    }
   ],
   "source": [
    "mkl_set_num_threads(4)\n",
    "cfg = ia.Config(max_num_threads=4, compression_level=5)\n",
    "ctx = ia.Context(cfg)\n",
    "\n",
    "a = ia.linspace(ctx, size, -1, 1, shape=shape, pshape=pshape)\n",
    "an = ia.iarray2numpy(ctx, a)\n",
    "\n",
    "b = ia.linspace(ctx, size, -1, 1, shape=shape, pshape=pshape)\n",
    "bn = ia.iarray2numpy(ctx, b)\n",
    "\n",
    "t0 = time()\n",
    "for _ in range(nrep):\n",
    "    cn2 = np.matmul(an, bn)\n",
    "t1 = time()\n",
    "t_np = (t1 - t0) / nrep\n",
    "\n",
    "print(f\"Time to compute matmul with numpy: {round(t_np, 4)} s\")\n",
    "\n",
    "t0 = time()\n",
    "for i in range(nrep):\n",
    "    c = ia.matmul(ctx, a, b, bshape, bshape)\n",
    "t1 = time()\n",
    "t_ia = (t1 - t0) / nrep\n",
    "mul.append(t_ia)\n",
    "\n",
    "print(f\"Time to compute matmul with iarray: {round(t_ia, 4)} s\")\n",
    "\n",
    "cn = ia.iarray2numpy(ctx, c)\n",
    "\n",
    "np.testing.assert_almost_equal(cn, cn2)\n",
    "\n",
    "print(f\"Numpy is {round(t_ia/t_np, 4)}x more faster than iarray\")"
   ]
  },
  {
   "cell_type": "markdown",
   "metadata": {},
   "source": [
    "## Results"
   ]
  },
  {
   "cell_type": "code",
   "execution_count": 11,
   "metadata": {},
   "outputs": [
    {
     "data": {
      "image/png": "[encoded data removed]",
      "text/plain": [
       "<Figure size 432x288 with 1 Axes>"
      ]
     },
     "metadata": {},
     "output_type": "display_data"
    }
   ],
   "source": [
    "xticks = (\"numpy\", \"plainbuffer\", \"superchunk\\n(no comp.)\", \"superchunk\\n(comp.)\")\n",
    "plt.plot(xticks, seq, label=\"Sequential\")\n",
    "plt.plot(xticks, mul, label=\"Multithreading\")\n",
    "plt.xticks(rotation=45)\n",
    "plt.ylabel(\"Time (s)\")\n",
    "plt.legend()\n",
    "plt.show()"
   ]
  },
  {
   "cell_type": "code",
   "execution_count": null,
   "metadata": {},
   "outputs": [],
   "source": []
  }
 ],
 "metadata": {
  "kernelspec": {
   "display_name": "Python 2",
   "language": "python",
   "name": "python2"
  },
  "language_info": {
   "codemirror_mode": {
    "name": "ipython",
    "version": 3
   },
   "file_extension": ".py",
   "mimetype": "text/x-python",
   "name": "python",
   "nbconvert_exporter": "python",
   "pygments_lexer": "ipython3",
   "version": "3.6.8"
  }
 },
 "nbformat": 4,
 "nbformat_minor": 1
}
