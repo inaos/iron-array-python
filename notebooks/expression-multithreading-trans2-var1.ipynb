{
 "cells": [
  {
   "cell_type": "markdown",
   "metadata": {},
   "source": [
    "# Expression performance"
   ]
  },
  {
   "cell_type": "code",
   "execution_count": 10,
   "metadata": {},
   "outputs": [],
   "source": [
    "import math\n",
    "import iarray as ia\n",
    "import numpy as np\n",
    "from time import time\n",
    "import ctypes\n",
    "import matplotlib.pyplot as plt\n",
    "import numexpr as ne\n",
    "from iarray import udf\n",
    "from iarray.py2llvm import float64\n",
    "import numba\n",
    "\n",
    "start_nthreads = 1\n",
    "max_nthreads = 8\n",
    "step_nthreads = 4\n",
    "nrep = 4"
   ]
  },
  {
   "cell_type": "code",
   "execution_count": 11,
   "metadata": {},
   "outputs": [],
   "source": [
    "str_expr = \"(sin(x) - 1.35) * (cos(x) - 4.45) * (x - 8.5)\"\n",
    "str_expr_np = \"import numpy as np; (np.sin(x) - 1.35) * (np.cos(x) - 4.45) * (x - 8.5)\"\n",
    "\n",
    "\n",
    "@numba.jit(parallel=True)\n",
    "def poly_numba(x):\n",
    "    o = np.empty(x.shape, x.dtype)\n",
    "    for i in numba.prange(len(x)):\n",
    "        o[i] = (np.sin(x[i]) - 1.35) * (np.cos(x[i]) - 4.45) * (x[i] - 8.5)\n",
    "    return o\n",
    "\n",
    "\n",
    "@udf.jit\n",
    "def poly_udf(o: udf.Array(float64, 1), x: udf.Array(float64, 1)):\n",
    "    n = x.shape[0]\n",
    "    for i in range(n):\n",
    "        o[i] = (math.sin(x[i]) - 1.35) * (math.cos(x[i]) - 4.45) * (x[i] - 8.5)\n",
    "    return 0\n"
   ]
  },
  {
   "cell_type": "code",
   "execution_count": 12,
   "metadata": {},
   "outputs": [
    {
     "name": "stdout",
     "output_type": "stream",
     "text": [
      "Setting up inputs...\n",
      "Num. threads: 1\n",
      "Num. threads: 4\n",
      "Num. threads: 8\n"
     ]
    }
   ],
   "source": [
    "# Define array params\n",
    "shape = [60 * 1000 * 1000]\n",
    "chunkshape = [30 * 1000 * 1000]\n",
    "chunkshape2 = [30 * 1000]\n",
    "blockshape = chunkshape2\n",
    "dtshape = ia.dtshape(shape)\n",
    "size = int(np.prod(shape))\n",
    "\n",
    "bstorage = ia.StorageProperties(chunkshape, blockshape)\n",
    "pstorage = ia.StorageProperties(None, None)\n",
    "\n",
    "print(\"Setting up inputs...\")\n",
    "a1 = np.linspace(0, 10, size).reshape(shape)\n",
    "ia1 = ia.linspace(dtshape, 0, 10, storage=bstorage, clevel=0)\n",
    "iac1 = ia1.copy(storage=bstorage, clevel=9)\n",
    "\n",
    "res = []\n",
    "np_time = 0\n",
    "if start_nthreads == 1:\n",
    "    start_nthreads = 0\n",
    "for nthreads in range(start_nthreads, max_nthreads + 1, step_nthreads):\n",
    "    if nthreads == 0:\n",
    "        nthreads = 1\n",
    "    print(f\"Num. threads: {nthreads}\")\n",
    "    res_i = []\n",
    "    kwargs = dict(nthreads=nthreads, clib=ia.LZ4)\n",
    "\n",
    "    # Numpy  (not multithreaded, so execute it the first time only)\n",
    "    if np_time == 0:\n",
    "        t = []\n",
    "        for _ in range(nrep):\n",
    "            t0 = time()\n",
    "            b1 = exec(str_expr_np, {\"x\": a1})\n",
    "            t1 = time()\n",
    "            t.append(round(size / 2 ** 20 * 8 / (t1 - t0), 2))\n",
    "        t.remove(max(t))\n",
    "        np_time = np.mean(t)\n",
    "    res_i.append(np_time)\n",
    "\n",
    "    # numba\n",
    "    t = []\n",
    "    numba.set_num_threads(nthreads)\n",
    "    for _ in range(nrep):\n",
    "        t0 = time()\n",
    "        b1 = poly_numba(a1)\n",
    "        t1 = time()\n",
    "        t.append(round(size / 2 ** 20 * 8 / (t1 - t0), 2))\n",
    "    t.remove(max(t))\n",
    "    res_i.append(np.mean(t))\n",
    "\n",
    "    # Numexpr\n",
    "    t = []\n",
    "    ne.set_num_threads(nthreads)\n",
    "    for _ in range(nrep):\n",
    "        t0 = time()\n",
    "        b1 = ne.evaluate(str_expr, local_dict={'x': a1})\n",
    "        t1 = time()\n",
    "        t.append(round(size / 2 ** 20 * 8 / (t1 - t0), 2))\n",
    "    t.remove(max(t))\n",
    "    res_i.append(np.mean(t))\n",
    "\n",
    "    # Superchunk without compression\n",
    "    expr = ia.Expr(clevel=0, **kwargs)\n",
    "    expr.bind(\"x\", ia1)\n",
    "    expr.bind_out_properties(dtshape, storage=bstorage)\n",
    "    expr.compile(str_expr)\n",
    "    t = []\n",
    "    for _ in range(nrep):\n",
    "        t0 = time()\n",
    "        b1 = expr.eval()\n",
    "        t1 = time()\n",
    "        t.append(round(size / 2 ** 20 * 8 / (t1 - t0), 2))\n",
    "    t.remove(max(t))\n",
    "    res_i.append(np.mean(t))\n",
    "\n",
    "    # Superchunk with compression\n",
    "    expr = ia.Expr(clevel=9, **kwargs)\n",
    "    expr.bind(\"x\", iac1)\n",
    "    expr.bind_out_properties(dtshape, storage=bstorage)\n",
    "    expr.compile(str_expr)\n",
    "    t = []\n",
    "    for _ in range(nrep):\n",
    "        t0 = time()\n",
    "        b1 = expr.eval()\n",
    "        t1 = time()\n",
    "        t.append(round(size / 2 ** 20 * 8 / (t1 - t0), 2))\n",
    "    t.remove(max(t))\n",
    "    res_i.append(np.mean(t))\n",
    "\n",
    "    # Superchunk without compression and UDF\n",
    "    expr = poly_udf.create_expr([ia1], dtshape, storage=bstorage, clevel=0, **kwargs)\n",
    "    t = []\n",
    "    for _ in range(nrep):\n",
    "        t0 = time()\n",
    "        b1 = expr.eval()\n",
    "        t1 = time()\n",
    "        t.append(round(size / 2 ** 20 * 8 / (t1 - t0), 2))\n",
    "    t.remove(max(t))\n",
    "    res_i.append(np.mean(t))\n",
    "\n",
    "    # Superchunk with compression and UDF\n",
    "    expr = poly_udf.create_expr([iac1], dtshape, storage=bstorage, clevel=9, **kwargs)\n",
    "    t = []\n",
    "    for _ in range(nrep):\n",
    "        t0 = time()\n",
    "        b1 = expr.eval()\n",
    "        t1 = time()\n",
    "        t.append(round(size / 2 ** 20 * 8 / (t1 - t0), 2))\n",
    "    t.remove(max(t))\n",
    "    res_i.append(np.mean(t))\n",
    "    \n",
    "    res.append(res_i)\n"
   ]
  },
  {
   "cell_type": "code",
   "execution_count": 13,
   "metadata": {},
   "outputs": [
    {
     "data": {
      "text/plain": "<Figure size 432x288 with 1 Axes>",
      "image/png": "[encoded data removed]"
     },
     "metadata": {
      "needs_background": "light"
     },
     "output_type": "display_data"
    }
   ],
   "source": [
    "xticks = (\"numpy\", \"numba\", \"numexpr\", \"iarray\\n(no comp.)\", \"iarray\\n(comp.)\", \"iarray\\n(udf, no comp.)\", \"iarray\\n(udf, comp.)\")\n",
    "plt.xticks(range(len(xticks)), xticks)\n",
    "for i in range(len(res)):\n",
    "    nthreads = 1 if i == 0 and start_nthreads == 0 else i * step_nthreads + start_nthreads \n",
    "    plt.plot(xticks, res[i - start_nthreads], \"o-\", label=f\"Num. threads: {nthreads}\")\n",
    "plt.xticks(rotation=45)\n",
    "plt.ylabel(\"MB/s\")\n",
    "plt.ylim(0)\n",
    "plt.legend(bbox_to_anchor=(1, 1))\n",
    "plt.show()"
   ]
  },
  {
   "cell_type": "code",
   "execution_count": 13,
   "metadata": {},
   "outputs": [],
   "source": []
  }
 ],
 "metadata": {
  "kernelspec": {
   "display_name": "Python 3",
   "language": "python",
   "name": "python3"
  },
  "language_info": {
   "codemirror_mode": {
    "name": "ipython",
    "version": 3
   },
   "file_extension": ".py",
   "mimetype": "text/x-python",
   "name": "python",
   "nbconvert_exporter": "python",
   "pygments_lexer": "ipython3",
   "version": "3.7.7"
  }
 },
 "nbformat": 4,
 "nbformat_minor": 2
}