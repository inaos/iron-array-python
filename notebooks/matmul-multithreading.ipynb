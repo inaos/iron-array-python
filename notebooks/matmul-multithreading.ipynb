{
 "cells": [
  {
   "cell_type": "markdown",
   "metadata": {},
   "source": [
    "# Matrix matrix multiplication performance"
   ]
  },
  {
   "cell_type": "code",
   "execution_count": 1,
   "metadata": {},
   "outputs": [],
   "source": [
    "import iarray as ia\n",
    "import numpy as np\n",
    "from itertools import zip_longest as izip\n",
    "from time import time\n",
    "import ctypes\n",
    "import matplotlib.pyplot as plt\n",
    "%matplotlib inline\n",
    "\n",
    "\n",
    "mkl_rt = ctypes.CDLL('libmkl_rt.dylib')\n",
    "mkl_set_num_threads = mkl_rt.MKL_Set_Num_Threads\n",
    "nrep = 10"
   ]
  },
  {
   "cell_type": "markdown",
   "metadata": {},
   "source": [
    "## Data"
   ]
  },
  {
   "cell_type": "code",
   "execution_count": 2,
   "metadata": {},
   "outputs": [],
   "source": [
    "shape = [2000, 2000]\n",
    "\n",
    "pshape = None\n",
    "bshape = [2000, 2000]\n",
    "\n",
    "pshape2 = [200, 200]\n",
    "bshape2 = [200, 200]\n",
    "\n",
    "size = int(np.prod(shape))"
   ]
  },
  {
   "cell_type": "markdown",
   "metadata": {},
   "source": [
    "## Multithreading"
   ]
  },
  {
   "cell_type": "code",
   "execution_count": 3,
   "metadata": {},
   "outputs": [
    {
     "name": "stdout",
     "output_type": "stream",
     "text": [
      "Num. threads: 1\n",
      "Num. threads: 2\n"
     ]
    }
   ],
   "source": [
    "max_num_threads = 2\n",
    "res = []\n",
    "\n",
    "for num_threads in range(1, max_num_threads+1):\n",
    "    print(f\"Num. threads: {num_threads}\")\n",
    "    mkl_set_num_threads(num_threads)\n",
    "    cfg = ia.Config(max_num_threads=num_threads)\n",
    "    ctx = ia.Context(cfg)\n",
    "\n",
    "    # Numpy and plainbuffer\n",
    "    a = ia.linspace(ctx, size, -1, 1, shape=shape, pshape=pshape)\n",
    "    an = ia.iarray2numpy(ctx, a)\n",
    "\n",
    "    b = ia.linspace(ctx, size, -1, 1, shape=shape, pshape=pshape)\n",
    "    bn = ia.iarray2numpy(ctx, b)\n",
    "\n",
    "    t0 = time()\n",
    "    for _ in range(nrep):\n",
    "        cn2 = np.matmul(an, bn)\n",
    "    t1 = time()\n",
    "    t_np = (t1 - t0) / nrep\n",
    "\n",
    "    t0 = time()\n",
    "    for i in range(nrep):\n",
    "        c = ia.matmul(ctx, a, b, bshape, bshape)\n",
    "    t1 = time()\n",
    "    t_ia = (t1 - t0) / nrep\n",
    "\n",
    "    # Superchunk without compression\n",
    "    mkl_set_num_threads(num_threads)\n",
    "    cfg = ia.Config(max_num_threads=num_threads)\n",
    "    ctx = ia.Context(cfg)\n",
    "\n",
    "    a = ia.linspace(ctx, size, -1, 1, shape=shape, pshape=pshape2)\n",
    "\n",
    "    b = ia.linspace(ctx, size, -1, 1, shape=shape, pshape=pshape2)\n",
    "\n",
    "    t0 = time()\n",
    "    for i in range(nrep):\n",
    "        c = ia.matmul(ctx, a, b, bshape2, bshape2)\n",
    "    t1 = time()\n",
    "    t_ia_s = (t1 - t0) / nrep\n",
    "    \n",
    "    # Superchunk with compression\n",
    "    mkl_set_num_threads(num_threads)\n",
    "    cfg = ia.Config(max_num_threads=num_threads, compression_level=5)\n",
    "    ctx = ia.Context(cfg)\n",
    "\n",
    "    a = ia.linspace(ctx, size, -1, 1, shape=shape, pshape=pshape2)\n",
    "\n",
    "    b = ia.linspace(ctx, size, -1, 1, shape=shape, pshape=pshape2)\n",
    "\n",
    "    t0 = time()\n",
    "    for i in range(nrep):\n",
    "        c = ia.matmul(ctx, a, b, bshape2, bshape2)\n",
    "    t1 = time()\n",
    "    t_ia_sc = (t1 - t0) / nrep\n",
    "\n",
    "    # Append data\n",
    "    \n",
    "    res.append([t_np, t_ia, t_ia_s, t_ia_sc])"
   ]
  },
  {
   "cell_type": "markdown",
   "metadata": {},
   "source": [
    "## Results"
   ]
  },
  {
   "cell_type": "code",
   "execution_count": 4,
   "metadata": {},
   "outputs": [
    {
     "data": {
      "image/png": "[encoded data removed]",
      "text/plain": [
       "<Figure size 432x288 with 1 Axes>"
      ]
     },
     "metadata": {},
     "output_type": "display_data"
    }
   ],
   "source": [
    "xticks = (\"numpy\", \"plainbuffer\", \"superchunk\\n(no comp.)\", \"superchunk\\n(comp.)\")\n",
    "for i in range(0, max_num_threads):\n",
    "    plt.plot(xticks, res[i], label=f\"Num. threads: {i+1}\")\n",
    "plt.xticks(rotation=45)\n",
    "plt.ylabel(\"Time (s)\")\n",
    "plt.legend()\n",
    "plt.show()"
   ]
  },
  {
   "cell_type": "code",
   "execution_count": null,
   "metadata": {},
   "outputs": [],
   "source": []
  }
 ],
 "metadata": {
  "kernelspec": {
   "display_name": "Python 2",
   "language": "python",
   "name": "python2"
  },
  "language_info": {
   "codemirror_mode": {
    "name": "ipython",
    "version": 3
   },
   "file_extension": ".py",
   "mimetype": "text/x-python",
   "name": "python",
   "nbconvert_exporter": "python",
   "pygments_lexer": "ipython3",
   "version": "3.6.8"
  }
 },
 "nbformat": 4,
 "nbformat_minor": 1
}
