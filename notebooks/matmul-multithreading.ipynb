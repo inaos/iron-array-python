{
 "cells": [
  {
   "cell_type": "markdown",
   "metadata": {},
   "source": [
    "# Matrix matrix multiplication performance"
   ]
  },
  {
   "cell_type": "code",
   "execution_count": 2,
   "metadata": {},
   "outputs": [],
   "source": [
    "import iarray as ia\n",
    "import numpy as np\n",
    "from itertools import zip_longest as izip\n",
    "from time import time\n",
    "import ctypes\n",
    "import matplotlib.pyplot as plt\n",
    "%matplotlib inline\n",
    "\n",
    "\n",
    "mkl_rt = ctypes.CDLL('libmkl_rt.so')\n",
    "mkl_set_num_threads = mkl_rt.MKL_Set_Num_Threads\n",
    "nrep = 4"
   ]
  },
  {
   "cell_type": "markdown",
   "metadata": {},
   "source": [
    "## Data"
   ]
  },
  {
   "cell_type": "code",
   "execution_count": 55,
   "metadata": {},
   "outputs": [],
   "source": [
    "shape = [3000, 3000]\n",
    "\n",
    "pshape = None\n",
    "bshape = [3000, 3000]\n",
    "\n",
    "pshape2 = [300, 300]\n",
    "bshape2 = [300, 300]\n",
    "\n",
    "size = int(np.prod(shape))"
   ]
  },
  {
   "cell_type": "markdown",
   "metadata": {},
   "source": [
    "## Multithreading"
   ]
  },
  {
   "cell_type": "code",
   "execution_count": null,
   "metadata": {
    "scrolled": true
   },
   "outputs": [
    {
     "name": "stdout",
     "output_type": "stream",
     "text": [
      "Num. threads: 1\n",
      "Num. threads: 2\n",
      "Num. threads: 3\n",
      "Num. threads: 4\n"
}   
],
   "source": [
    "max_num_threads = 4\n",
    "res = []\n",
    "\n",
    "for num_threads in range(1, max_num_threads + 1):\n",
    "    print(f\"Num. threads: {num_threads}\")\n",
    "    mkl_set_num_threads(num_threads)\n",
    "    cfg = ia.Config(max_num_threads=num_threads)\n",
    "    ctx = ia.Context(cfg)\n",
    "\n",
    "    # Numpy and plainbuffer\n",
    "    a = ia.linspace(ctx, size, -1, 1, shape=shape, pshape=pshape)\n",
    "    an = ia.iarray2numpy(ctx, a)\n",
    "\n",
    "    b = ia.linspace(ctx, size, -1, 1, shape=shape, pshape=pshape)\n",
    "    bn = ia.iarray2numpy(ctx, b)\n",
    "\n",
    "    t0 = time()\n",
    "    for _ in range(nrep):\n",
    "        cn2 = np.matmul(an, bn)\n",
    "    t1 = time()\n",
    "    t_np = (t1 - t0) / nrep\n",
    "\n",
    "    t0 = time()\n",
    "    for i in range(nrep):\n",
    "        c = ia.matmul(ctx, a, b, bshape, bshape)\n",
    "    t1 = time()\n",
    "    t_ia = (t1 - t0) / nrep\n",
    "\n",
    "    # Superchunk without compression\n",
    "    mkl_set_num_threads(num_threads)\n",
    "    cfg = ia.Config(max_num_threads=num_threads)\n",
    "    ctx = ia.Context(cfg)\n",
    "\n",
    "    a = ia.linspace(ctx, size, -1, 1, shape=shape, pshape=pshape2)\n",
    "\n",
    "    b = ia.linspace(ctx, size, -1, 1, shape=shape, pshape=pshape2)\n",
    "\n",
    "    t0 = time()\n",
    "    for i in range(nrep):\n",
    "        c = ia.matmul(ctx, a, b, bshape2, bshape2)\n",
    "    t1 = time()\n",
    "    t_ia_s = (t1 - t0) / nrep\n",
    "    \n",
    "    # Superchunk with compression\n",
    "    mkl_set_num_threads(num_threads)\n",
    "    cfg = ia.Config(max_num_threads=num_threads, compression_level=5)\n",
    "    ctx = ia.Context(cfg)\n",
    "\n",
    "    a = ia.linspace(ctx, size, -1, 1, shape=shape, pshape=pshape2)\n",
    "\n",
    "    b = ia.linspace(ctx, size, -1, 1, shape=shape, pshape=pshape2)\n",
    "\n",
    "    t0 = time()\n",
    "    for i in range(nrep):\n",
    "        c = ia.matmul(ctx, a, b, bshape2, bshape2)\n",
    "    t1 = time()\n",
    "    t_ia_sc = (t1 - t0) / nrep\n",
    "\n",
    "    # Append data\n",
    "    \n",
    "    res.append([t_np, t_ia, t_ia_s, t_ia_sc])"
   ]
  },
  {
   "cell_type": "markdown",
   "metadata": {},
   "source": [
    "## Results"
   ]
  },
  {
   "cell_type": "code",
   "execution_count": 5,
   "metadata": {},
   "outputs": [
    {
     "data": {
      "image/png": "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\n",
      "text/plain": [
       "<matplotlib.figure.Figure at 0x7f43e08340b8>"
      ]
     },
     "metadata": {
      "needs_background": "light"
     },
     "output_type": "display_data"
    }
   ],
   "source": [
    "xticks = (\"numpy\", \"plainbuffer\", \"superchunk\\n(no comp.)\", \"superchunk\\n(comp.)\")\n",
    "plt.xticks(range(len(xticks)), xticks)\n",
    "for i in range(0, max_num_threads):\n",
    "    plt.plot(res[i], label=f\"Num. threads: {i+1}\")\n",
    "plt.xticks(rotation=45)\n",
    "plt.ylabel(\"Time (s)\")\n",
    "plt.ylim(0)\n",
    "plt.legend(loc=(1.02, 0))\n",
    "plt.show()"
   ]
  },
  {
   "cell_type": "code",
   "execution_count": null,
   "metadata": {},
   "outputs": [],
   "source": []
  }
 ],
 "metadata": {
  "kernelspec": {
   "display_name": "Python 3",
   "language": "python",
   "name": "python3"
  },
  "language_info": {
   "codemirror_mode": {
    "name": "ipython",
    "version": 3
   },
   "file_extension": ".py",
   "mimetype": "text/x-python",
   "name": "python",
   "nbconvert_exporter": "python",
   "pygments_lexer": "ipython3",
   "version": "3.6.6"
  }
 },
 "nbformat": 4,
 "nbformat_minor": 1
}
