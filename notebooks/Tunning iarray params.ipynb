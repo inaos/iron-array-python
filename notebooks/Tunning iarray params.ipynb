{
 "cells": [
  {
   "cell_type": "code",
   "execution_count": 1,
   "metadata": {},
   "outputs": [],
   "source": [
    "import sys\n",
    "sys.path.append(\"../\") # go to parent dir\n",
    "\n",
    "from time import time\n",
    "import iarray as ia\n",
    "\n",
    "import numpy as np\n",
    "import matplotlib.pyplot as plt"
   ]
  },
  {
   "cell_type": "code",
   "execution_count": 2,
   "metadata": {},
   "outputs": [],
   "source": [
    "DTYPE = np.float64\n",
    "NTHREADS = 8\n",
    "CLEVEL = 5\n",
    "CLIB = ia.LZ4\n",
    "\n",
    "cparams = dict(clib=CLIB, clevel=CLEVEL, nthreads=NTHREADS)"
   ]
  },
  {
   "cell_type": "code",
   "execution_count": 6,
   "metadata": {},
   "outputs": [],
   "source": [
    "shape_ = 8000\n",
    "chunkshape_ = 4000\n",
    "blockshapes_ = [200, 250, 320, 400, 500, 800, 1000, 1600, 2000]"
   ]
  },
  {
   "cell_type": "code",
   "execution_count": 7,
   "metadata": {},
   "outputs": [
    {
     "name": "stdout",
     "output_type": "stream",
     "text": [
      "- Time for computing matmul (iarray): 16.320\n",
      "- Time for computing matmul (iarray): 15.201\n",
      "- Time for computing matmul (iarray): 14.727\n",
      "- Time for computing matmul (iarray): 12.850\n",
      "- Time for computing matmul (iarray): 12.519\n",
      "- Time for computing matmul (iarray): 11.256\n",
      "- Time for computing matmul (iarray): 11.234\n",
      "- Time for computing matmul (iarray): 15.046\n",
      "- Time for computing matmul (iarray): 10.661\n",
      "- Time for computing matmul (iarray): 11.145\n"
     ]
    }
   ],
   "source": [
    "t_ia = []\n",
    "nrep = 1\n",
    "for blockshape_ in blockshapes_:\n",
    "    shape = (shape_, shape_)\n",
    "    chunkshape = (chunkshape_, chunkshape_)\n",
    "    blockshape = (blockshape_, blockshape_)\n",
    "\n",
    "    storage = ia.StorageProperties(\"blosc\", chunkshape, blockshape)\n",
    "    \n",
    "    a = ia.linspace(ia.dtshape(shape, dtype=DTYPE), 0, 1, storage=storage, **cparams)\n",
    "    b = ia.linspace(ia.dtshape(shape, dtype=DTYPE), 0, 1, storage=storage, **cparams)\n",
    "\n",
    "    \n",
    "    def ia_matmul(a, b):\n",
    "        return ia.parallel_matmul5(a, b, storage=storage, **cparams)\n",
    "\n",
    "    t0 = time()\n",
    "    for _ in range(nrep):\n",
    "        c = ia_matmul(a, b)\n",
    "    t1 = time()\n",
    "    t = (t1 - t0) / nrep\n",
    "    t_ia.append(t)\n",
    "    print(\"- Time for computing matmul (iarray): %.3f\" % (t))"
   ]
  },
  {
   "cell_type": "code",
   "execution_count": 5,
   "metadata": {},
   "outputs": [
    {
     "data": {
      "image/png": "[encoded data removed]",
      "text/plain": [
       "<Figure size 432x288 with 1 Axes>"
      ]
     },
     "metadata": {
      "needs_background": "light"
     },
     "output_type": "display_data"
    }
   ],
   "source": [
    "plt.plot(blockshapes_, t_ia, label=\"iarray\")\n",
    "\n",
    "\n",
    "plt.ylabel(\"Times (s)\")\n",
    "plt.xlabel(\"Blockshape\")\n",
    "plt.legend()\n",
    "plt.show()"
   ]
  },
  {
   "cell_type": "code",
   "execution_count": null,
   "metadata": {},
   "outputs": [],
   "source": []
  }
 ],
 "metadata": {
  "kernelspec": {
   "display_name": "Python 3",
   "language": "python",
   "name": "python3"
  },
  "language_info": {
   "codemirror_mode": {
    "name": "ipython",
    "version": 3
   },
   "file_extension": ".py",
   "mimetype": "text/x-python",
   "name": "python",
   "nbconvert_exporter": "python",
   "pygments_lexer": "ipython3",
   "version": "3.8.3"
  }
 },
 "nbformat": 4,
 "nbformat_minor": 4
}
