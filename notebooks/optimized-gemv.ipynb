{
 "cells": [
  {
   "cell_type": "markdown",
   "id": "9a972827",
   "metadata": {},
   "source": [
    "# GEMV (cortex14)"
   ]
  },
  {
   "cell_type": "code",
   "execution_count": 1,
   "id": "9fdf388c",
   "metadata": {},
   "outputs": [],
   "source": [
    "import iarray as ia\n",
    "import numpy as np\n",
    "import scipy.io\n",
    "import scipy.sparse"
   ]
  },
  {
   "cell_type": "markdown",
   "id": "9e9f12ea",
   "metadata": {},
   "source": [
    "## Dense Arrays"
   ]
  },
  {
   "cell_type": "markdown",
   "id": "5051378c",
   "metadata": {},
   "source": [
    "### In-memory"
   ]
  },
  {
   "cell_type": "markdown",
   "id": "0f68da35",
   "metadata": {},
   "source": [
    "#### ironArray"
   ]
  },
  {
   "cell_type": "code",
   "execution_count": 2,
   "id": "54f725e1",
   "metadata": {},
   "outputs": [],
   "source": [
    "_ = ia.set_config(dtype=np.float32, codec=ia.Codecs.LZ4, clevel=9, btune=False,\n",
    "                  enforce_frame=False, seed=0, nthreads=14)"
   ]
  },
  {
   "cell_type": "code",
   "execution_count": 3,
   "id": "0da3cbc0",
   "metadata": {},
   "outputs": [
    {
     "data": {
      "text/html": [
       "<table class=\"iarray-info\"><tbody><tr><th style=\"text-align: left\">type</th><td style=\"text-align: left\">IArray</td></tr><tr><th style=\"text-align: left\">shape</th><td style=\"text-align: left\">(25000, 13859)</td></tr><tr><th style=\"text-align: left\">chunks</th><td style=\"text-align: left\">(4096, 2048)</td></tr><tr><th style=\"text-align: left\">blocks</th><td style=\"text-align: left\">(64, 2048)</td></tr><tr><th style=\"text-align: left\">cratio</th><td style=\"text-align: left\">3.15</td></tr></tbody></table>"
      ],
      "text/plain": [
       "type   : IArray\n",
       "shape  : (25000, 13859)\n",
       "chunks : (4096, 2048)\n",
       "blocks : (64, 2048)\n",
       "cratio : 3.15"
      ]
     },
     "execution_count": 3,
     "metadata": {},
     "output_type": "execute_result"
    }
   ],
   "source": [
    "shape = (25000, 13859)\n",
    "chunks = (4096, 2048)\n",
    "blocks = (64, 2048)\n",
    "\n",
    "\n",
    "a_ia = ia.random.normal(shape, 3, 2, chunks=chunks, blocks=blocks, fp_mantissa_bits=4)\n",
    "\n",
    "\n",
    "a_ia.info"
   ]
  },
  {
   "cell_type": "code",
   "execution_count": 4,
   "id": "33ff6edd",
   "metadata": {},
   "outputs": [
    {
     "data": {
      "text/html": [
       "<table class=\"iarray-info\"><tbody><tr><th style=\"text-align: left\">type</th><td style=\"text-align: left\">IArray</td></tr><tr><th style=\"text-align: left\">shape</th><td style=\"text-align: left\">(13859,)</td></tr><tr><th style=\"text-align: left\">chunks</th><td style=\"text-align: left\">(2048,)</td></tr><tr><th style=\"text-align: left\">blocks</th><td style=\"text-align: left\">(2048,)</td></tr><tr><th style=\"text-align: left\">cratio</th><td style=\"text-align: left\">3.14</td></tr></tbody></table>"
      ],
      "text/plain": [
       "type   : IArray\n",
       "shape  : (13859,)\n",
       "chunks : (2048,)\n",
       "blocks : (2048,)\n",
       "cratio : 3.14"
      ]
     },
     "execution_count": 4,
     "metadata": {},
     "output_type": "execute_result"
    }
   ],
   "source": [
    "b_ia = ia.linspace((a_ia.shape[1],), 2, 10, chunks=(a_ia.chunks[1],), blocks=(a_ia.blocks[1],))\n",
    "\n",
    "b_ia.info"
   ]
  },
  {
   "cell_type": "code",
   "execution_count": 5,
   "id": "ef4ae7cf",
   "metadata": {},
   "outputs": [
    {
     "name": "stdout",
     "output_type": "stream",
     "text": [
      "50.3 ms ± 405 µs per loop (mean ± std. dev. of 7 runs, 10 loops each)\n"
     ]
    }
   ],
   "source": [
    "%%timeit\n",
    "\n",
    "c_ia = ia.gemv(a_ia, b_ia, chunks=(a_ia.chunks[0],), blocks=(a_ia.blocks[0],))"
   ]
  },
  {
   "cell_type": "code",
   "execution_count": 6,
   "id": "781fed88",
   "metadata": {},
   "outputs": [],
   "source": [
    "c_ia = ia.gemv(a_ia, b_ia, chunks=(a_ia.chunks[0],), blocks=(a_ia.blocks[0],))"
   ]
  },
  {
   "cell_type": "markdown",
   "id": "c7128438",
   "metadata": {},
   "source": [
    "#### NumPy"
   ]
  },
  {
   "cell_type": "code",
   "execution_count": 7,
   "id": "eb0218e4",
   "metadata": {},
   "outputs": [],
   "source": [
    "a_np = a_ia.data"
   ]
  },
  {
   "cell_type": "code",
   "execution_count": 8,
   "id": "65231465",
   "metadata": {},
   "outputs": [],
   "source": [
    "b_np = b_ia.data"
   ]
  },
  {
   "cell_type": "code",
   "execution_count": 9,
   "id": "ad6f9dd1",
   "metadata": {},
   "outputs": [
    {
     "name": "stdout",
     "output_type": "stream",
     "text": [
      "20.1 ms ± 118 µs per loop (mean ± std. dev. of 7 runs, 100 loops each)\n"
     ]
    }
   ],
   "source": [
    "%%timeit\n",
    "\n",
    "c_np = a_np.dot(b_np)"
   ]
  },
  {
   "cell_type": "code",
   "execution_count": 10,
   "id": "a940cc29",
   "metadata": {},
   "outputs": [],
   "source": [
    "c_np = a_np.dot(b_np)"
   ]
  },
  {
   "cell_type": "code",
   "execution_count": 11,
   "id": "c802ebdd",
   "metadata": {},
   "outputs": [],
   "source": [
    "np.testing.assert_allclose(c_np, c_ia.data, rtol=1e-5 if a_ia.dtype == np.float32 else 1e-12)"
   ]
  },
  {
   "cell_type": "markdown",
   "id": "bc811779",
   "metadata": {},
   "source": [
    "### On-disk"
   ]
  },
  {
   "cell_type": "markdown",
   "id": "cb4043a5",
   "metadata": {},
   "source": [
    "#### ironArray"
   ]
  },
  {
   "cell_type": "code",
   "execution_count": 12,
   "id": "c3a22c65",
   "metadata": {},
   "outputs": [
    {
     "data": {
      "text/html": [
       "<table class=\"iarray-info\"><tbody><tr><th style=\"text-align: left\">type</th><td style=\"text-align: left\">IArray</td></tr><tr><th style=\"text-align: left\">shape</th><td style=\"text-align: left\">(25000, 13859)</td></tr><tr><th style=\"text-align: left\">chunks</th><td style=\"text-align: left\">(4096, 2048)</td></tr><tr><th style=\"text-align: left\">blocks</th><td style=\"text-align: left\">(64, 2048)</td></tr><tr><th style=\"text-align: left\">cratio</th><td style=\"text-align: left\">3.15</td></tr></tbody></table>"
      ],
      "text/plain": [
       "type   : IArray\n",
       "shape  : (25000, 13859)\n",
       "chunks : (4096, 2048)\n",
       "blocks : (64, 2048)\n",
       "cratio : 3.15"
      ]
     },
     "execution_count": 12,
     "metadata": {},
     "output_type": "execute_result"
    }
   ],
   "source": [
    "a_ia.copy(chunks=chunks, blocks=blocks, urlpath=\"dense.iarray\", mode=\"w\")\n",
    "\n",
    "a_ia2 = ia.open(\"dense.iarray\")\n",
    "\n",
    "a_ia2.info"
   ]
  },
  {
   "cell_type": "code",
   "execution_count": 13,
   "id": "b0d0b1b1",
   "metadata": {},
   "outputs": [
    {
     "name": "stdout",
     "output_type": "stream",
     "text": [
      "54.8 ms ± 625 µs per loop (mean ± std. dev. of 7 runs, 10 loops each)\n"
     ]
    }
   ],
   "source": [
    "%%timeit\n",
    "\n",
    "c_ia2 = ia.gemv(a_ia2, b_ia, chunks=(a_ia.chunks[0],), blocks=(a_ia.blocks[0],))"
   ]
  },
  {
   "cell_type": "code",
   "execution_count": 14,
   "id": "9f6d5719",
   "metadata": {},
   "outputs": [],
   "source": [
    "c_ia2 = ia.gemv(a_ia2, b_ia, chunks=(a_ia.chunks[0],), blocks=(a_ia.blocks[0],))"
   ]
  },
  {
   "cell_type": "markdown",
   "id": "f38d1031",
   "metadata": {},
   "source": [
    "#### NumPy"
   ]
  },
  {
   "cell_type": "code",
   "execution_count": 15,
   "id": "6cbcfc9a",
   "metadata": {},
   "outputs": [],
   "source": [
    "np.save(\"dense\", a_np)"
   ]
  },
  {
   "cell_type": "code",
   "execution_count": 16,
   "id": "b754d2ec",
   "metadata": {},
   "outputs": [
    {
     "name": "stdout",
     "output_type": "stream",
     "text": [
      "331 ms ± 12.4 ms per loop (mean ± std. dev. of 7 runs, 1 loop each)\n"
     ]
    }
   ],
   "source": [
    "%%timeit\n",
    "\n",
    "a_np2 = np.load(\"dense.npy\")\n",
    "c_np2 = a_np2.dot(b_np)"
   ]
  },
  {
   "cell_type": "code",
   "execution_count": 17,
   "id": "755dacaf",
   "metadata": {},
   "outputs": [],
   "source": [
    "c_np2 = a_np.dot(b_np)"
   ]
  },
  {
   "cell_type": "code",
   "execution_count": 18,
   "id": "942ad1ac",
   "metadata": {},
   "outputs": [],
   "source": [
    "np.testing.assert_allclose(c_np2, c_ia2.data, rtol=1e-5 if a_ia.dtype == np.float32 else 1e-12)"
   ]
  },
  {
   "cell_type": "code",
   "execution_count": null,
   "id": "388cacaa",
   "metadata": {},
   "outputs": [],
   "source": []
  },
  {
   "cell_type": "markdown",
   "id": "42539cd7",
   "metadata": {},
   "source": [
    "### Bonus: High compression ratio"
   ]
  },
  {
   "cell_type": "markdown",
   "id": "70272e38",
   "metadata": {},
   "source": [
    "#### ironArray"
   ]
  },
  {
   "cell_type": "code",
   "execution_count": 19,
   "id": "a9e7b559",
   "metadata": {},
   "outputs": [
    {
     "data": {
      "text/html": [
       "<table class=\"iarray-info\"><tbody><tr><th style=\"text-align: left\">type</th><td style=\"text-align: left\">IArray</td></tr><tr><th style=\"text-align: left\">shape</th><td style=\"text-align: left\">(25000, 13859)</td></tr><tr><th style=\"text-align: left\">chunks</th><td style=\"text-align: left\">(4096, 2048)</td></tr><tr><th style=\"text-align: left\">blocks</th><td style=\"text-align: left\">(64, 2048)</td></tr><tr><th style=\"text-align: left\">cratio</th><td style=\"text-align: left\">61.45</td></tr></tbody></table>"
      ],
      "text/plain": [
       "type   : IArray\n",
       "shape  : (25000, 13859)\n",
       "chunks : (4096, 2048)\n",
       "blocks : (64, 2048)\n",
       "cratio : 61.45"
      ]
     },
     "execution_count": 19,
     "metadata": {},
     "output_type": "execute_result"
    }
   ],
   "source": [
    "a_ia = ia.linspace(shape, 3, 45.5, chunks=chunks, blocks=blocks)\n",
    "\n",
    "\n",
    "a_ia.info"
   ]
  },
  {
   "cell_type": "code",
   "execution_count": 20,
   "id": "093bebc9",
   "metadata": {
    "scrolled": true
   },
   "outputs": [
    {
     "data": {
      "text/html": [
       "<table class=\"iarray-info\"><tbody><tr><th style=\"text-align: left\">type</th><td style=\"text-align: left\">IArray</td></tr><tr><th style=\"text-align: left\">shape</th><td style=\"text-align: left\">(13859,)</td></tr><tr><th style=\"text-align: left\">chunks</th><td style=\"text-align: left\">(2048,)</td></tr><tr><th style=\"text-align: left\">blocks</th><td style=\"text-align: left\">(2048,)</td></tr><tr><th style=\"text-align: left\">cratio</th><td style=\"text-align: left\">3.14</td></tr></tbody></table>"
      ],
      "text/plain": [
       "type   : IArray\n",
       "shape  : (13859,)\n",
       "chunks : (2048,)\n",
       "blocks : (2048,)\n",
       "cratio : 3.14"
      ]
     },
     "execution_count": 20,
     "metadata": {},
     "output_type": "execute_result"
    }
   ],
   "source": [
    "b_ia = ia.linspace((a_ia.shape[1],), 2, 10, chunks=(a_ia.chunks[1],), blocks=(a_ia.blocks[1],))\n",
    "\n",
    "b_ia.info"
   ]
  },
  {
   "cell_type": "code",
   "execution_count": 21,
   "id": "89f955a6",
   "metadata": {},
   "outputs": [
    {
     "name": "stdout",
     "output_type": "stream",
     "text": [
      "31.7 ms ± 1.72 ms per loop (mean ± std. dev. of 7 runs, 10 loops each)\n"
     ]
    }
   ],
   "source": [
    "%%timeit\n",
    "\n",
    "c_ia = ia.gemv(a_ia, b_ia, chunks=(a_ia.chunks[0],), blocks=(a_ia.blocks[0],))"
   ]
  },
  {
   "cell_type": "code",
   "execution_count": 22,
   "id": "3cbd249d",
   "metadata": {},
   "outputs": [],
   "source": [
    "c_ia = ia.gemv(a_ia, b_ia, chunks=(a_ia.chunks[0],), blocks=(a_ia.blocks[0],))"
   ]
  },
  {
   "cell_type": "markdown",
   "id": "f6be0aa0",
   "metadata": {},
   "source": [
    "#### NumPy"
   ]
  },
  {
   "cell_type": "code",
   "execution_count": 23,
   "id": "1185ca7c",
   "metadata": {},
   "outputs": [],
   "source": [
    "a_np = a_ia.data"
   ]
  },
  {
   "cell_type": "code",
   "execution_count": 24,
   "id": "60428511",
   "metadata": {},
   "outputs": [],
   "source": [
    "b_np = b_ia.data"
   ]
  },
  {
   "cell_type": "code",
   "execution_count": 25,
   "id": "f375a73f",
   "metadata": {},
   "outputs": [
    {
     "name": "stdout",
     "output_type": "stream",
     "text": [
      "20.1 ms ± 247 µs per loop (mean ± std. dev. of 7 runs, 100 loops each)\n"
     ]
    }
   ],
   "source": [
    "%%timeit\n",
    "\n",
    "c_np = a_np.dot(b_np)"
   ]
  },
  {
   "cell_type": "code",
   "execution_count": 26,
   "id": "55447a03",
   "metadata": {},
   "outputs": [],
   "source": [
    "c_np = a_np.dot(b_np)"
   ]
  },
  {
   "cell_type": "code",
   "execution_count": 27,
   "id": "66d45bfd",
   "metadata": {},
   "outputs": [],
   "source": [
    "np.testing.assert_allclose(c_np, c_ia.data, rtol=1e-5 if a_ia.dtype == np.float32 else 1e-12)"
   ]
  },
  {
   "cell_type": "markdown",
   "id": "ab5917af",
   "metadata": {},
   "source": [
    "## Sparse Arrays"
   ]
  },
  {
   "cell_type": "code",
   "execution_count": 28,
   "id": "2cb1d1db",
   "metadata": {},
   "outputs": [],
   "source": [
    "_ = ia.set_config(dtype=np.float64, codec=ia.Codecs.LZ4, clevel=9, btune=False,\n",
    "                  enforce_frame=False, seed=0, nthreads=14)"
   ]
  },
  {
   "cell_type": "markdown",
   "id": "5fc89798",
   "metadata": {},
   "source": [
    "### In-memory"
   ]
  },
  {
   "cell_type": "markdown",
   "id": "b691ac94",
   "metadata": {},
   "source": [
    "#### SciPy"
   ]
  },
  {
   "cell_type": "code",
   "execution_count": 29,
   "id": "20bab8e2",
   "metadata": {},
   "outputs": [
    {
     "name": "stdout",
     "output_type": "stream",
     "text": [
      "Sparsity: 0.049683884579713435\n"
     ]
    }
   ],
   "source": [
    "urlpath = \"./human_gene1/human_gene1.mtx\"\n",
    "\n",
    "a_sp = scipy.io.mmread(urlpath)\n",
    "\n",
    "print(f\"Sparsity: {a_sp.getnnz() / np.prod(a_sp.shape)}\")"
   ]
  },
  {
   "cell_type": "code",
   "execution_count": 30,
   "id": "2fff8537",
   "metadata": {},
   "outputs": [],
   "source": [
    "shape = a_sp.shape\n",
    "\n",
    "chunks = (4096, 2048)\n",
    "blocks = (64, 2048)"
   ]
  },
  {
   "cell_type": "code",
   "execution_count": 31,
   "id": "79646c76",
   "metadata": {},
   "outputs": [],
   "source": [
    "b_sp = np.linspace(0, 1, shape[1], dtype=a_sp.dtype)"
   ]
  },
  {
   "cell_type": "code",
   "execution_count": 32,
   "id": "02df7d11",
   "metadata": {},
   "outputs": [
    {
     "name": "stdout",
     "output_type": "stream",
     "text": [
      "40.7 ms ± 105 µs per loop (mean ± std. dev. of 7 runs, 10 loops each)\n"
     ]
    }
   ],
   "source": [
    "%%timeit\n",
    "\n",
    "c_sp = a_sp.dot(b_sp)"
   ]
  },
  {
   "cell_type": "code",
   "execution_count": 33,
   "id": "6272f83c",
   "metadata": {},
   "outputs": [],
   "source": [
    "c_sp = a_sp.dot(b_sp)"
   ]
  },
  {
   "cell_type": "markdown",
   "id": "e1ad5e8e",
   "metadata": {},
   "source": [
    "#### ironArray"
   ]
  },
  {
   "cell_type": "code",
   "execution_count": 34,
   "id": "47a05afd",
   "metadata": {},
   "outputs": [
    {
     "data": {
      "text/html": [
       "<table class=\"iarray-info\"><tbody><tr><th style=\"text-align: left\">type</th><td style=\"text-align: left\">IArray</td></tr><tr><th style=\"text-align: left\">shape</th><td style=\"text-align: left\">(22283, 22283)</td></tr><tr><th style=\"text-align: left\">chunks</th><td style=\"text-align: left\">(4096, 2048)</td></tr><tr><th style=\"text-align: left\">blocks</th><td style=\"text-align: left\">(64, 2048)</td></tr><tr><th style=\"text-align: left\">cratio</th><td style=\"text-align: left\">6.81</td></tr></tbody></table>"
      ],
      "text/plain": [
       "type   : IArray\n",
       "shape  : (22283, 22283)\n",
       "chunks : (4096, 2048)\n",
       "blocks : (64, 2048)\n",
       "cratio : 6.81"
      ]
     },
     "execution_count": 34,
     "metadata": {},
     "output_type": "execute_result"
    }
   ],
   "source": [
    "a_ia = ia.numpy2iarray(a_sp.toarray(), chunks=chunks, blocks=blocks)\n",
    "\n",
    "a_ia.info"
   ]
  },
  {
   "cell_type": "code",
   "execution_count": 35,
   "id": "3f95b824",
   "metadata": {},
   "outputs": [
    {
     "data": {
      "text/html": [
       "<table class=\"iarray-info\"><tbody><tr><th style=\"text-align: left\">type</th><td style=\"text-align: left\">IArray</td></tr><tr><th style=\"text-align: left\">shape</th><td style=\"text-align: left\">(22283,)</td></tr><tr><th style=\"text-align: left\">chunks</th><td style=\"text-align: left\">(2048,)</td></tr><tr><th style=\"text-align: left\">blocks</th><td style=\"text-align: left\">(2048,)</td></tr><tr><th style=\"text-align: left\">cratio</th><td style=\"text-align: left\">2.51</td></tr></tbody></table>"
      ],
      "text/plain": [
       "type   : IArray\n",
       "shape  : (22283,)\n",
       "chunks : (2048,)\n",
       "blocks : (2048,)\n",
       "cratio : 2.51"
      ]
     },
     "execution_count": 35,
     "metadata": {},
     "output_type": "execute_result"
    }
   ],
   "source": [
    "b_ia = ia.numpy2iarray(b_sp, chunks=(chunks[1],), blocks=(blocks[1],))\n",
    "\n",
    "b_ia.info"
   ]
  },
  {
   "cell_type": "code",
   "execution_count": 36,
   "id": "cb52c97d",
   "metadata": {},
   "outputs": [
    {
     "name": "stdout",
     "output_type": "stream",
     "text": [
      "188 ms ± 3.05 ms per loop (mean ± std. dev. of 7 runs, 1 loop each)\n"
     ]
    }
   ],
   "source": [
    "%%timeit\n",
    "\n",
    "c_ia = ia.gemv(a_ia, b_ia, chunks=(chunks[0],), blocks=(blocks[0],))"
   ]
  },
  {
   "cell_type": "code",
   "execution_count": 37,
   "id": "b6ac76bc",
   "metadata": {},
   "outputs": [],
   "source": [
    "c_ia = ia.gemv(a_ia, b_ia, chunks=(chunks[0],), blocks=(blocks[0],))"
   ]
  },
  {
   "cell_type": "code",
   "execution_count": 38,
   "id": "df8047c6",
   "metadata": {},
   "outputs": [],
   "source": [
    "np.testing.assert_allclose(c_sp, c_ia.data, rtol=1e-5 if a_ia.dtype == np.float32 else 1e-12)"
   ]
  },
  {
   "cell_type": "markdown",
   "id": "2b40e781",
   "metadata": {},
   "source": [
    "### On-disk"
   ]
  },
  {
   "cell_type": "markdown",
   "id": "ed2e0b04",
   "metadata": {},
   "source": [
    "#### SciPy"
   ]
  },
  {
   "cell_type": "code",
   "execution_count": 39,
   "id": "47fec057",
   "metadata": {},
   "outputs": [
    {
     "name": "stdout",
     "output_type": "stream",
     "text": [
      "13.9 s ± 82.2 ms per loop (mean ± std. dev. of 7 runs, 1 loop each)\n"
     ]
    }
   ],
   "source": [
    "%%timeit\n",
    "\n",
    "a_sp2 = scipy.io.mmread(urlpath)\n",
    "c_sp2 = a_sp.dot(b_sp)"
   ]
  },
  {
   "cell_type": "code",
   "execution_count": 40,
   "id": "c02831fc",
   "metadata": {},
   "outputs": [],
   "source": [
    "c_sp2 = a_sp.dot(b_sp)"
   ]
  },
  {
   "cell_type": "markdown",
   "id": "a7b35bca",
   "metadata": {},
   "source": [
    "#### ironArray"
   ]
  },
  {
   "cell_type": "code",
   "execution_count": 41,
   "id": "c992f674",
   "metadata": {},
   "outputs": [
    {
     "data": {
      "text/html": [
       "<table class=\"iarray-info\"><tbody><tr><th style=\"text-align: left\">type</th><td style=\"text-align: left\">IArray</td></tr><tr><th style=\"text-align: left\">shape</th><td style=\"text-align: left\">(22283, 22283)</td></tr><tr><th style=\"text-align: left\">chunks</th><td style=\"text-align: left\">(4096, 2048)</td></tr><tr><th style=\"text-align: left\">blocks</th><td style=\"text-align: left\">(64, 2048)</td></tr><tr><th style=\"text-align: left\">cratio</th><td style=\"text-align: left\">6.81</td></tr></tbody></table>"
      ],
      "text/plain": [
       "type   : IArray\n",
       "shape  : (22283, 22283)\n",
       "chunks : (4096, 2048)\n",
       "blocks : (64, 2048)\n",
       "cratio : 6.81"
      ]
     },
     "execution_count": 41,
     "metadata": {},
     "output_type": "execute_result"
    }
   ],
   "source": [
    "a_ia.copy(chunks=chunks, blocks=blocks, urlpath=\"sparse.iarray\", mode=\"w\")\n",
    "\n",
    "a_ia2 = ia.open(\"sparse.iarray\")\n",
    "\n",
    "a_ia2.info"
   ]
  },
  {
   "cell_type": "code",
   "execution_count": 42,
   "id": "62ecda15",
   "metadata": {},
   "outputs": [
    {
     "name": "stdout",
     "output_type": "stream",
     "text": [
      "205 ms ± 4.34 ms per loop (mean ± std. dev. of 7 runs, 1 loop each)\n"
     ]
    }
   ],
   "source": [
    "%%timeit\n",
    "\n",
    "c_ia2 = ia.gemv(a_ia2, b_ia, chunks=(a_ia.chunks[0],), blocks=(a_ia.blocks[0],))"
   ]
  },
  {
   "cell_type": "code",
   "execution_count": 43,
   "id": "33dc5fa7",
   "metadata": {},
   "outputs": [],
   "source": [
    "c_ia2 = ia.gemv(a_ia2, b_ia, chunks=(a_ia.chunks[0],), blocks=(a_ia.blocks[0],))"
   ]
  },
  {
   "cell_type": "code",
   "execution_count": null,
   "id": "fa54d759",
   "metadata": {},
   "outputs": [],
   "source": []
  }
 ],
 "metadata": {
  "kernelspec": {
   "display_name": "Python 3 (ipykernel)",
   "language": "python",
   "name": "python3"
  },
  "language_info": {
   "codemirror_mode": {
    "name": "ipython",
    "version": 3
   },
   "file_extension": ".py",
   "mimetype": "text/x-python",
   "name": "python",
   "nbconvert_exporter": "python",
   "pygments_lexer": "ipython3",
   "version": "3.9.1"
  }
 },
 "nbformat": 4,
 "nbformat_minor": 5
}
