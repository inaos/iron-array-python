{
 "cells": [
  {
   "cell_type": "code",
   "execution_count": 1,
   "metadata": {},
   "outputs": [],
   "source": [
    "import sys\n",
    "sys.path.append(\"../\") # go to parent dir\n",
    "\n",
    "\n",
    "\n",
    "\n",
    "import iarray as ia\n",
    "import numpy as np\n",
    "from numcodecs import Blosc\n",
    "import zarr\n",
    "import dask\n",
    "import dask.array as da\n",
    "import matplotlib.pyplot as plt\n",
    "%matplotlib inline"
   ]
  },
  {
   "cell_type": "code",
   "execution_count": 2,
   "metadata": {},
   "outputs": [
    {
     "data": {
      "text/plain": [
       "-220680576"
      ]
     },
     "execution_count": 2,
     "metadata": {},
     "output_type": "execute_result"
    }
   ],
   "source": [
    "import ctypes\n",
    "mkl_rt = ctypes.CDLL('libmkl_rt.so')\n",
    "mkl_set_num_threads = mkl_rt.MKL_Set_Num_Threads\n",
    "\n",
    "mkl_set_num_threads(1)"
   ]
  },
  {
   "cell_type": "code",
   "execution_count": 3,
   "metadata": {},
   "outputs": [],
   "source": [
    "from ipython_memwatcher import MemWatcher"
   ]
  },
  {
   "cell_type": "code",
   "execution_count": 4,
   "metadata": {},
   "outputs": [],
   "source": [
    "DTYPE = np.float64\n",
    "NTHREADS = 8\n",
    "CLEVEL = 5\n",
    "CLIB = ia.LZ4\n",
    "NREP = 1"
   ]
  },
  {
   "cell_type": "code",
   "execution_count": 5,
   "metadata": {},
   "outputs": [],
   "source": [
    "shape = (16384, 16384)\n",
    "shape = [int(x / 1) for x in shape]\n",
    "chunkshape = (8192, 4096)\n",
    "chunkshape = [int(x / 1) for x in chunkshape]\n",
    "blockshape = (2048, 2048)\n",
    "blockshape = [int(x / 1) for x in blockshape]\n",
    "\n",
    "\n",
    "ashape = shape\n",
    "achunkshape = chunkshape\n",
    "ablockshape = blockshape\n",
    "\n",
    "bshape = shape\n",
    "bchunkshape = chunkshape\n",
    "bblockshape = blockshape\n",
    "\n",
    "cchunkshape = chunkshape\n",
    "cblockshape = blockshape\n",
    "\n",
    "daskchunks = chunkshape"
   ]
  },
  {
   "cell_type": "code",
   "execution_count": 6,
   "metadata": {},
   "outputs": [],
   "source": [
    "cparams = dict(clib=CLIB, clevel=CLEVEL, nthreads=NTHREADS)\n",
    "\n",
    "storage = ia.StorageProperties(achunkshape, ablockshape)\n",
    "\n",
    "astorage = ia.StorageProperties(achunkshape, ablockshape)\n",
    "\n",
    "\n",
    "lia = ia.linspace(ia.dtshape(ashape, dtype=DTYPE), 0, 1, storage=storage, **cparams)\n",
    "nia = ia.random_normal(ia.dtshape(ashape, dtype=DTYPE), 0, 0.0000001, storage=storage, **cparams)\n",
    "aia = (lia + nia).eval(storage=astorage, dtshape=ia.dtshape(ashape, dtype=DTYPE), **cparams)\n",
    "\n",
    "bstorage = ia.StorageProperties(bchunkshape, bblockshape)\n",
    "\n",
    "lia = ia.linspace(ia.dtshape(bshape, dtype=DTYPE), 0, 1, storage=storage, **cparams)\n",
    "nia = ia.random_normal(ia.dtshape(bshape, dtype=DTYPE), 0, 0.0000001, storage=storage, **cparams)\n",
    "bia = (lia + nia).eval(storage=bstorage, dtshape=ia.dtshape(bshape, dtype=DTYPE), **cparams)\n",
    "\n",
    "\n",
    "cstorage = ia.StorageProperties(cchunkshape, cblockshape)"
   ]
  },
  {
   "cell_type": "code",
   "execution_count": 7,
   "metadata": {},
   "outputs": [],
   "source": [
    "compressor = Blosc(cname='lz4', clevel=CLEVEL, shuffle=Blosc.SHUFFLE)\n",
    "\n",
    "\n",
    "azarr = zarr.empty(shape=ashape,\n",
    "                  chunks=daskchunks, dtype=DTYPE, compressor=compressor)\n",
    "for info, block in aia.iter_read_block(daskchunks):\n",
    "    sl = tuple([slice(i, i + s) for i, s in zip(info.elemindex, info.shape)])\n",
    "    azarr[sl] = block[:]\n",
    "\n",
    "bzarr = zarr.empty(shape=shape,\n",
    "                  chunks=daskchunks, dtype=DTYPE, compressor=compressor)\n",
    "for info, block in bia.iter_read_block(daskchunks):\n",
    "    sl = tuple([slice(i, i + s) for i, s in zip(info.elemindex, info.shape)])\n",
    "    bzarr[sl] = block[:]"
   ]
  },
  {
   "cell_type": "code",
   "execution_count": 8,
   "metadata": {},
   "outputs": [
    {
     "name": "stdout",
     "output_type": "stream",
     "text": [
      "In [8] used 0.000 MiB RAM in 0.001s, peaked 0.000 MiB above current, total RAM usage 8124.316 MiB\n"
     ]
    }
   ],
   "source": [
    "mw = MemWatcher()\n",
    "mw.start_watching_memory()"
   ]
  },
  {
   "cell_type": "code",
   "execution_count": 9,
   "metadata": {},
   "outputs": [
    {
     "name": "stdout",
     "output_type": "stream",
     "text": [
      "In [9] used 1119.270 MiB RAM in 14.504s, peaked 17448.273 MiB above current, total RAM usage 9243.586 MiB\n"
     ]
    }
   ],
   "source": [
    "scheduler = \"single-threaded\" if NTHREADS == 1 else \"threads\"\n",
    "with dask.config.set(scheduler=scheduler, num_workers=NTHREADS):\n",
    "    ad = da.from_zarr(azarr)\n",
    "    bd = da.from_zarr(bzarr)\n",
    "    cd = da.matmul(ad, bd)\n",
    "    czarr = zarr.empty(shape=(ashape[0], bshape[1]),\n",
    "                  chunks=daskchunks, dtype=DTYPE, compressor=compressor)\n",
    "    da.to_zarr(cd, czarr)"
   ]
  },
  {
   "cell_type": "code",
   "execution_count": 10,
   "metadata": {},
   "outputs": [
    {
     "name": "stdout",
     "output_type": "stream",
     "text": [
      "In [10] used 1042.312 MiB RAM in 17.311s, peaked 0.000 MiB above current, total RAM usage 10285.898 MiB\n"
     ]
    }
   ],
   "source": [
    "cia = ia.matmul(aia, bia, storage=cstorage, **cparams) #2GB"
   ]
  },
  {
   "cell_type": "code",
   "execution_count": 11,
   "metadata": {},
   "outputs": [],
   "source": [
    "mw.stop_watching_memory()"
   ]
  },
  {
   "cell_type": "code",
   "execution_count": 12,
   "metadata": {},
   "outputs": [],
   "source": [
    "np.testing.assert_allclose(czarr, ia.iarray2numpy(cia))"
   ]
  },
  {
   "cell_type": "code",
   "execution_count": null,
   "metadata": {},
   "outputs": [],
   "source": []
  }
 ],
 "metadata": {
  "kernelspec": {
   "display_name": "Python 3",
   "language": "python",
   "name": "python3"
  },
  "language_info": {
   "codemirror_mode": {
    "name": "ipython",
    "version": 3
   },
   "file_extension": ".py",
   "mimetype": "text/x-python",
   "name": "python",
   "nbconvert_exporter": "python",
   "pygments_lexer": "ipython3",
   "version": "3.8.3"
  }
 },
 "nbformat": 4,
 "nbformat_minor": 4
}
