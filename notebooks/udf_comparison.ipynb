{
 "cells": [
  {
   "cell_type": "markdown",
   "metadata": {},
   "source": [
    "# UDF comparision"
   ]
  },
  {
   "cell_type": "code",
   "execution_count": 51,
   "metadata": {
    "pycharm": {
     "name": "#%%\n"
    }
   },
   "outputs": [],
   "source": [
    "import math\n",
    "import iarray as ia\n",
    "import numpy as np\n",
    "from time import time\n",
    "from iarray.udf import Array, jit, float64, int64\n",
    "import numba as nb\n",
    "\n",
    "max_num_threads = 8\n",
    "nrep = 5"
   ]
  },
  {
   "cell_type": "code",
   "execution_count": 52,
   "metadata": {
    "pycharm": {
     "name": "#%%\n"
    }
   },
   "outputs": [],
   "source": [
    "#str_expr = \"sin(x)\"\n",
    "str_expr = \"x\"\n",
    "\n",
    "@jit\n",
    "def poly_udf(y: Array(float64, 1), x: Array(float64, 1)) -> int64:\n",
    "    n = x.shape[0]\n",
    "    for i in range(n):\n",
    "        #s = math.sin(x[i])\n",
    "        #a = math.atan(x[i])\n",
    "        #a = math.atan2(x[i], 0.5)  # try this!\n",
    "        #y[i] = s * a  # try this!\n",
    "        #y[i] = math.sin(x[i])# * math.atan(x[i])  # try combining several ufuncs\n",
    "        #y[i] = math.sin(x[i])  # try this!\n",
    "        y[i] = x[i]\n",
    "\n",
    "    return 0\n",
    "\n",
    "@nb.njit(parallel=True)\n",
    "def poly_numba(x):\n",
    "    y = np.empty(x.shape, x.dtype)\n",
    "    for i in nb.prange(len(x)):\n",
    "        #s = math.sin(x[i])\n",
    "        #a = math.atan(x[i])\n",
    "        #a = math.atan2(x[i], 0.5)\n",
    "        #y[i] = s * a\n",
    "        #y[i] = math.sin(x[i])# * math.atan(x[i])\n",
    "        y[i] = x[i]\n",
    "    return y\n"
   ]
  },
  {
   "cell_type": "code",
   "execution_count": 53,
   "metadata": {
    "pycharm": {
     "name": "#%%\n"
    }
   },
   "outputs": [],
   "source": [
    "# Define array params\n",
    "shape = [10 * 1000 * 1000]\n",
    "chunkshape = [1 * 1000 * 1000]\n",
    "blockshape = [8 * 1000]\n",
    "dtshape = ia.dtshape(shape)\n",
    "size = int(np.prod(shape))\n",
    "nthreads = 6\n",
    "clevel = 5"
   ]
  },
  {
   "cell_type": "code",
   "execution_count": 54,
   "metadata": {
    "pycharm": {
     "name": "#%%\n"
    }
   },
   "outputs": [
    {
     "name": "stdout",
     "output_type": "stream",
     "text": [
      "Time to evaluate expression with iarray.udf: 0.018\n"
     ]
    }
   ],
   "source": [
    "# iarray UDF\n",
    "bstorage = ia.StorageProperties(\"blosc\", chunkshape, blockshape)\n",
    "kwargs = dict(nthreads=nthreads, clevel=clevel, storage=bstorage)\n",
    "a1 = ia.linspace(dtshape, 0, 10, **kwargs)\n",
    "expr = poly_udf.create_expr([a1], dtshape, method=\"auto\", **kwargs)\n",
    "t0 = time()\n",
    "b1 = expr.eval()\n",
    "t1 = time()\n",
    "print(\"Time to evaluate expression with iarray.udf:\", round(t1 - t0, 3))"
   ]
  },
  {
   "cell_type": "code",
   "execution_count": 55,
   "metadata": {},
   "outputs": [
    {
     "name": "stdout",
     "output_type": "stream",
     "text": [
      "Time to evaluate expression with iarray (juggernaut): 0.017\n"
     ]
    }
   ],
   "source": [
    "# iarray juggernaut\n",
    "expr = ia.Expr(**kwargs)\n",
    "expr.bind(\"x\", a1)\n",
    "expr.bind_out_properties(dtshape, storage=bstorage)\n",
    "expr.compile(str_expr)\n",
    "t0 = time()\n",
    "b2 = expr.eval()\n",
    "t1 = time()\n",
    "print(\"Time to evaluate expression with iarray (juggernaut):\", round(t1 - t0, 3))"
   ]
  },
  {
   "cell_type": "code",
   "execution_count": 56,
   "outputs": [
    {
     "name": "stdout",
     "output_type": "stream",
     "text": [
      "Time to evaluate expression with numba: 0.276\n"
     ]
    }
   ],
   "source": [
    "# numba\n",
    "a1 = np.linspace(0, 10, size).reshape(shape)\n",
    "nb.set_num_threads(nthreads)\n",
    "t0 = time()\n",
    "np3 = poly_numba(a1)\n",
    "t1 = time()\n",
    "print(\"Time to evaluate expression with numba:\", round(t1 - t0, 3))"
   ],
   "metadata": {
    "collapsed": false,
    "pycharm": {
     "name": "#%%\n"
    }
   }
  },
  {
   "cell_type": "code",
   "execution_count": 57,
   "outputs": [],
   "source": [
    "# Compare results.  The regular juggernaut works.\n",
    "np2 = ia.iarray2numpy(b2)\n",
    "np.testing.assert_almost_equal(np2, np3, decimal=5)"
   ],
   "metadata": {
    "collapsed": false,
    "pycharm": {
     "name": "#%%\n"
    }
   }
  },
  {
   "cell_type": "code",
   "execution_count": 58,
   "outputs": [],
   "source": [
    "# The UDF result fails\n",
    "np1 = ia.iarray2numpy(b1)\n",
    "np.testing.assert_almost_equal(np1, np3, decimal=5)\n"
   ],
   "metadata": {
    "collapsed": false,
    "pycharm": {
     "name": "#%%\n"
    }
   }
  },
  {
   "cell_type": "code",
   "execution_count": 58,
   "outputs": [],
   "source": [],
   "metadata": {
    "collapsed": false,
    "pycharm": {
     "name": "#%%\n"
    }
   }
  },
  {
   "cell_type": "code",
   "execution_count": 6,
   "metadata": {
    "pycharm": {
     "name": "#%%\n"
    }
   },
   "outputs": [
    {
     "name": "stdout",
     "output_type": "stream",
     "text": [
      "Time to evaluate expression with numba: 0.262\n"
     ]
    }
   ],
   "source": []
  },
  {
   "cell_type": "code",
   "execution_count": 7,
   "metadata": {},
   "outputs": [],
   "source": [
    "# Compare results.  The regular juggernaut works.\n",
    "np2 = ia.iarray2numpy(b2)\n",
    "np.testing.assert_almost_equal(np2, np3, decimal=5)"
   ]
  },
  {
   "cell_type": "code",
   "execution_count": 8,
   "metadata": {},
   "outputs": [
    {
     "ename": "AssertionError",
     "evalue": "\nArrays are not almost equal to 5 decimals\n\nx and y nan location mismatch:\n x: array([0., 0., 0., ..., 0., 0., 0.])\n y: array([0.e+00, 1.e-06, 2.e-06, ..., 1.e+01, 1.e+01, 1.e+01])",
     "output_type": "error",
     "traceback": [
      "\u001B[0;31m---------------------------------------------------------------------------\u001B[0m",
      "\u001B[0;31mAssertionError\u001B[0m                            Traceback (most recent call last)",
      "\u001B[0;32m<ipython-input-8-96ca2b18c1f4>\u001B[0m in \u001B[0;36m<module>\u001B[0;34m\u001B[0m\n\u001B[1;32m      1\u001B[0m \u001B[0;31m# The UDF result fails\u001B[0m\u001B[0;34m\u001B[0m\u001B[0;34m\u001B[0m\u001B[0;34m\u001B[0m\u001B[0m\n\u001B[1;32m      2\u001B[0m \u001B[0mnp1\u001B[0m \u001B[0;34m=\u001B[0m \u001B[0mia\u001B[0m\u001B[0;34m.\u001B[0m\u001B[0miarray2numpy\u001B[0m\u001B[0;34m(\u001B[0m\u001B[0mb1\u001B[0m\u001B[0;34m)\u001B[0m\u001B[0;34m\u001B[0m\u001B[0;34m\u001B[0m\u001B[0m\n\u001B[0;32m----> 3\u001B[0;31m \u001B[0mnp\u001B[0m\u001B[0;34m.\u001B[0m\u001B[0mtesting\u001B[0m\u001B[0;34m.\u001B[0m\u001B[0massert_almost_equal\u001B[0m\u001B[0;34m(\u001B[0m\u001B[0mnp1\u001B[0m\u001B[0;34m,\u001B[0m \u001B[0mnp3\u001B[0m\u001B[0;34m,\u001B[0m \u001B[0mdecimal\u001B[0m\u001B[0;34m=\u001B[0m\u001B[0;36m5\u001B[0m\u001B[0;34m)\u001B[0m\u001B[0;34m\u001B[0m\u001B[0;34m\u001B[0m\u001B[0m\n\u001B[0m",
      "    \u001B[0;31m[... skipping hidden 3 frame]\u001B[0m\n",
      "\u001B[0;32m~/miniconda3/envs/iarray/lib/python3.8/site-packages/numpy/testing/_private/utils.py\u001B[0m in \u001B[0;36mfunc_assert_same_pos\u001B[0;34m(x, y, func, hasval)\u001B[0m\n\u001B[1;32m    744\u001B[0m                                 \u001B[0;34m%\u001B[0m \u001B[0;34m(\u001B[0m\u001B[0mhasval\u001B[0m\u001B[0;34m)\u001B[0m\u001B[0;34m,\u001B[0m \u001B[0mverbose\u001B[0m\u001B[0;34m=\u001B[0m\u001B[0mverbose\u001B[0m\u001B[0;34m,\u001B[0m \u001B[0mheader\u001B[0m\u001B[0;34m=\u001B[0m\u001B[0mheader\u001B[0m\u001B[0;34m,\u001B[0m\u001B[0;34m\u001B[0m\u001B[0;34m\u001B[0m\u001B[0m\n\u001B[1;32m    745\u001B[0m                                 names=('x', 'y'), precision=precision)\n\u001B[0;32m--> 746\u001B[0;31m             \u001B[0;32mraise\u001B[0m \u001B[0mAssertionError\u001B[0m\u001B[0;34m(\u001B[0m\u001B[0mmsg\u001B[0m\u001B[0;34m)\u001B[0m\u001B[0;34m\u001B[0m\u001B[0;34m\u001B[0m\u001B[0m\n\u001B[0m\u001B[1;32m    747\u001B[0m         \u001B[0;31m# If there is a scalar, then here we know the array has the same\u001B[0m\u001B[0;34m\u001B[0m\u001B[0;34m\u001B[0m\u001B[0;34m\u001B[0m\u001B[0m\n\u001B[1;32m    748\u001B[0m         \u001B[0;31m# flag as it everywhere, so we should return the scalar flag.\u001B[0m\u001B[0;34m\u001B[0m\u001B[0;34m\u001B[0m\u001B[0;34m\u001B[0m\u001B[0m\n",
      "\u001B[0;31mAssertionError\u001B[0m: \nArrays are not almost equal to 5 decimals\n\nx and y nan location mismatch:\n x: array([0., 0., 0., ..., 0., 0., 0.])\n y: array([0.e+00, 1.e-06, 2.e-06, ..., 1.e+01, 1.e+01, 1.e+01])"
     ]
    }
   ],
   "source": [
    "# The UDF result fails\n",
    "np1 = ia.iarray2numpy(b1)\n",
    "np.testing.assert_almost_equal(np1, np3, decimal=5)\n"
   ]
  },
  {
   "cell_type": "code",
   "execution_count": null,
   "metadata": {},
   "outputs": [],
   "source": []
  }
 ],
 "metadata": {
  "kernelspec": {
   "display_name": "Python 3",
   "language": "python",
   "name": "python3"
  },
  "language_info": {
   "codemirror_mode": {
    "name": "ipython",
    "version": 3
   },
   "file_extension": ".py",
   "mimetype": "text/x-python",
   "name": "python",
   "nbconvert_exporter": "python",
   "pygments_lexer": "ipython3",
   "version": "3.8.1"
  }
 },
 "nbformat": 4,
 "nbformat_minor": 1
}