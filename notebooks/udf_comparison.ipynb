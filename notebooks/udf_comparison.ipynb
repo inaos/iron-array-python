{
 "cells": [
  {
   "cell_type": "markdown",
   "metadata": {},
   "source": [
    "# UDF comparision"
   ]
  },
  {
   "cell_type": "code",
   "execution_count": 11,
   "metadata": {
    "pycharm": {
     "name": "#%%\n"
    }
   },
   "outputs": [],
   "source": [
    "import math\n",
    "import iarray as ia\n",
    "import numpy as np\n",
    "from time import time\n",
    "from iarray.udf import Array, jit, float64, int64\n",
    "import numba as nb\n",
    "\n",
    "max_num_threads = 8\n",
    "nrep = 5"
   ]
  },
  {
   "cell_type": "code",
   "execution_count": 12,
   "metadata": {
    "pycharm": {
     "name": "#%%\n"
    }
   },
   "outputs": [],
   "source": [
    "#str_expr = \"sin(x)\"\n",
    "str_expr = \"x\"\n",
    "\n",
    "@jit\n",
    "def poly_udf(y: Array(float64, 1), x: Array(float64, 1)) -> int64:\n",
    "    n = x.shape[0]\n",
    "    for i in range(n):\n",
    "        #s = math.sin(x[i])\n",
    "        #a = math.atan(x[i])\n",
    "        #a = math.atan2(x[i], 0.5)  # try this!\n",
    "        #y[i] = s * a  # try this!\n",
    "        #y[i] = math.sin(x[i])# * math.atan(x[i])  # try combining several ufuncs\n",
    "        #y[i] = math.sin(x[i])  # try this!\n",
    "        y[i] = x[i]\n",
    "\n",
    "    return 0\n",
    "\n",
    "@nb.njit(parallel=True)\n",
    "def poly_numba(x):\n",
    "    y = np.empty(x.shape, x.dtype)\n",
    "    for i in nb.prange(len(x)):\n",
    "        #s = math.sin(x[i])\n",
    "        #a = math.atan(x[i])\n",
    "        #a = math.atan2(x[i], 0.5)\n",
    "        #y[i] = s * a\n",
    "        #y[i] = math.sin(x[i])# * math.atan(x[i])\n",
    "        y[i] = x[i]\n",
    "    return y\n"
   ]
  },
  {
   "cell_type": "code",
   "execution_count": 13,
   "metadata": {
    "pycharm": {
     "name": "#%%\n"
    }
   },
   "outputs": [],
   "source": [
    "# Define array params\n",
    "shape = [10 * 1000 * 1000]\n",
    "chunkshape = [1 * 1000 * 1000]\n",
    "blockshape = [8 * 1000]\n",
    "dtshape = ia.dtshape(shape)\n",
    "size = int(np.prod(shape))\n",
    "nthreads = 6\n",
    "clevel = 5"
   ]
  },
  {
   "cell_type": "code",
   "execution_count": 14,
   "metadata": {
    "pycharm": {
     "name": "#%%\n"
    }
   },
   "outputs": [
    {
     "name": "stdout",
     "output_type": "stream",
     "text": [
      "Time to evaluate expression with iarray.udf: 0.018\n"
     ]
    }
   ],
   "source": [
    "# iarray UDF\n",
    "bstorage = ia.StorageProperties(chunkshape, blockshape)\n",
    "kwargs = dict(nthreads=nthreads, clevel=clevel, storage=bstorage)\n",
    "a1 = ia.linspace(dtshape, 0, 10, **kwargs)\n",
    "expr = poly_udf.create_expr([a1], dtshape, **kwargs)\n",
    "t0 = time()\n",
    "b1 = expr.eval()\n",
    "t1 = time()\n",
    "print(\"Time to evaluate expression with iarray.udf:\", round(t1 - t0, 3))"
   ]
  },
  {
   "cell_type": "code",
   "execution_count": 15,
   "metadata": {},
   "outputs": [
    {
     "name": "stdout",
     "output_type": "stream",
     "text": [
      "Time to evaluate expression with iarray (juggernaut): 0.016\n"
     ]
    }
   ],
   "source": [
    "# iarray juggernaut\n",
    "expr = ia.Expr(**kwargs)\n",
    "expr.bind(\"x\", a1)\n",
    "expr.bind_out_properties(dtshape)\n",
    "expr.compile(str_expr)\n",
    "t0 = time()\n",
    "b2 = expr.eval()\n",
    "t1 = time()\n",
    "print(\"Time to evaluate expression with iarray (juggernaut):\", round(t1 - t0, 3))"
   ]
  },
  {
   "cell_type": "code",
   "execution_count": 16,
   "outputs": [
    {
     "name": "stdout",
     "output_type": "stream",
     "text": [
      "Time to evaluate expression with numba: 0.212\n"
     ]
    }
   ],
   "source": [
    "# numba\n",
    "a1 = np.linspace(0, 10, size).reshape(shape)\n",
    "nb.set_num_threads(nthreads)\n",
    "t0 = time()\n",
    "np3 = poly_numba(a1)\n",
    "t1 = time()\n",
    "print(\"Time to evaluate expression with numba:\", round(t1 - t0, 3))"
   ],
   "metadata": {
    "collapsed": false,
    "pycharm": {
     "name": "#%%\n"
    }
   }
  },
  {
   "cell_type": "code",
   "execution_count": 17,
   "outputs": [],
   "source": [
    "# Compare results.  The regular juggernaut works.\n",
    "np2 = ia.iarray2numpy(b2)\n",
    "np.testing.assert_almost_equal(np2, np3, decimal=5)"
   ],
   "metadata": {
    "collapsed": false,
    "pycharm": {
     "name": "#%%\n"
    }
   }
  },
  {
   "cell_type": "code",
   "execution_count": 18,
   "outputs": [],
   "source": [
    "# The UDF result fails\n",
    "np1 = ia.iarray2numpy(b1)\n",
    "np.testing.assert_almost_equal(np1, np3, decimal=5)\n"
   ],
   "metadata": {
    "collapsed": false,
    "pycharm": {
     "name": "#%%\n"
    }
   }
  },
  {
   "cell_type": "code",
   "execution_count": 19,
   "metadata": {},
   "outputs": [],
   "source": [
    "# Compare results.  The regular juggernaut works.\n",
    "np2 = ia.iarray2numpy(b2)\n",
    "np.testing.assert_almost_equal(np2, np3, decimal=5)"
   ]
  },
  {
   "cell_type": "code",
   "execution_count": 20,
   "metadata": {},
   "outputs": [],
   "source": [
    "# The UDF result fails\n",
    "np1 = ia.iarray2numpy(b1)\n",
    "np.testing.assert_almost_equal(np1, np3, decimal=5)\n"
   ]
  },
  {
   "cell_type": "code",
   "execution_count": 20,
   "metadata": {},
   "outputs": [],
   "source": []
  }
 ],
 "metadata": {
  "kernelspec": {
   "display_name": "Python 3",
   "language": "python",
   "name": "python3"
  },
  "language_info": {
   "codemirror_mode": {
    "name": "ipython",
    "version": 3
   },
   "file_extension": ".py",
   "mimetype": "text/x-python",
   "name": "python",
   "nbconvert_exporter": "python",
   "pygments_lexer": "ipython3",
   "version": "3.8.1"
  }
 },
 "nbformat": 4,
 "nbformat_minor": 1
}