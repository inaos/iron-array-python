{
 "cells": [
  {
   "cell_type": "code",
   "execution_count": 1,
   "metadata": {},
   "outputs": [],
   "source": [
    "import sys\n",
    "sys.path.append(\"../\") # go to parent dir\n",
    "\n",
    "import iarray as ia\n",
    "import numpy as np\n",
    "from numcodecs import Blosc\n",
    "import zarr\n",
    "import dask\n",
    "import dask.array as da\n",
    "import matplotlib.pyplot as plt\n",
    "%matplotlib inline"
   ]
  },
  {
   "cell_type": "code",
   "execution_count": 2,
   "metadata": {},
   "outputs": [
    {
     "data": {
      "text/plain": [
       "-1615823232"
      ]
     },
     "execution_count": 2,
     "metadata": {},
     "output_type": "execute_result"
    }
   ],
   "source": [
    "import ctypes\n",
    "mkl_rt = ctypes.CDLL('libmkl_rt.so')\n",
    "mkl_set_num_threads = mkl_rt.MKL_Set_Num_Threads\n",
    "\n",
    "mkl_set_num_threads(1)"
   ]
  },
  {
   "cell_type": "code",
   "execution_count": 3,
   "metadata": {},
   "outputs": [],
   "source": [
    "from ipython_memwatcher import MemWatcher"
   ]
  },
  {
   "cell_type": "code",
   "execution_count": 4,
   "metadata": {},
   "outputs": [],
   "source": [
    "DTYPE = np.float64\n",
    "NTHREADS = 4\n",
    "CLEVEL = 5\n",
    "CLIB = ia.LZ4\n",
    "NREP = 1"
   ]
  },
  {
   "cell_type": "code",
   "execution_count": 5,
   "metadata": {},
   "outputs": [],
   "source": [
    "shape = (16384, 16384)\n",
    "shape = [int(x / 1) for x in shape]\n",
    "chunkshape = (8192, 4096)\n",
    "chunkshape = [int(x / 1) for x in chunkshape]\n",
    "blockshape = (2048, 2048)\n",
    "blockshape = [int(x / 1) for x in blockshape]\n",
    "\n",
    "\n",
    "ashape = shape\n",
    "achunkshape = chunkshape\n",
    "ablockshape = blockshape\n",
    "\n",
    "bshape = shape\n",
    "bchunkshape = chunkshape\n",
    "bblockshape = blockshape\n",
    "\n",
    "cchunkshape = chunkshape\n",
    "cblockshape = blockshape\n",
    "\n",
    "daskchunks = chunkshape"
   ]
  },
  {
   "cell_type": "code",
   "execution_count": 6,
   "metadata": {},
   "outputs": [
    {
     "ename": "KeyboardInterrupt",
     "evalue": "",
     "output_type": "error",
     "traceback": [
      "\u001b[0;31m---------------------------------------------------------------------------\u001b[0m",
      "\u001b[0;31mKeyboardInterrupt\u001b[0m                         Traceback (most recent call last)",
      "\u001b[0;32m<ipython-input-6-aa328c530f03>\u001b[0m in \u001b[0;36m<module>\u001b[0;34m\u001b[0m\n\u001b[1;32m      6\u001b[0m \u001b[0;34m\u001b[0m\u001b[0m\n\u001b[1;32m      7\u001b[0m \u001b[0;34m\u001b[0m\u001b[0m\n\u001b[0;32m----> 8\u001b[0;31m \u001b[0mlia\u001b[0m \u001b[0;34m=\u001b[0m \u001b[0mia\u001b[0m\u001b[0;34m.\u001b[0m\u001b[0mlinspace\u001b[0m\u001b[0;34m(\u001b[0m\u001b[0mia\u001b[0m\u001b[0;34m.\u001b[0m\u001b[0mdtshape\u001b[0m\u001b[0;34m(\u001b[0m\u001b[0mashape\u001b[0m\u001b[0;34m,\u001b[0m \u001b[0mdtype\u001b[0m\u001b[0;34m=\u001b[0m\u001b[0mDTYPE\u001b[0m\u001b[0;34m)\u001b[0m\u001b[0;34m,\u001b[0m \u001b[0;36m0\u001b[0m\u001b[0;34m,\u001b[0m \u001b[0;36m1\u001b[0m\u001b[0;34m,\u001b[0m \u001b[0mstorage\u001b[0m\u001b[0;34m=\u001b[0m\u001b[0mstorage\u001b[0m\u001b[0;34m,\u001b[0m \u001b[0;34m**\u001b[0m\u001b[0mcparams\u001b[0m\u001b[0;34m)\u001b[0m\u001b[0;34m\u001b[0m\u001b[0;34m\u001b[0m\u001b[0m\n\u001b[0m\u001b[1;32m      9\u001b[0m \u001b[0mnia\u001b[0m \u001b[0;34m=\u001b[0m \u001b[0mia\u001b[0m\u001b[0;34m.\u001b[0m\u001b[0mrandom_normal\u001b[0m\u001b[0;34m(\u001b[0m\u001b[0mia\u001b[0m\u001b[0;34m.\u001b[0m\u001b[0mdtshape\u001b[0m\u001b[0;34m(\u001b[0m\u001b[0mashape\u001b[0m\u001b[0;34m,\u001b[0m \u001b[0mdtype\u001b[0m\u001b[0;34m=\u001b[0m\u001b[0mDTYPE\u001b[0m\u001b[0;34m)\u001b[0m\u001b[0;34m,\u001b[0m \u001b[0;36m0\u001b[0m\u001b[0;34m,\u001b[0m \u001b[0;36m0.0000001\u001b[0m\u001b[0;34m,\u001b[0m \u001b[0mstorage\u001b[0m\u001b[0;34m=\u001b[0m\u001b[0mstorage\u001b[0m\u001b[0;34m,\u001b[0m \u001b[0;34m**\u001b[0m\u001b[0mcparams\u001b[0m\u001b[0;34m)\u001b[0m\u001b[0;34m\u001b[0m\u001b[0;34m\u001b[0m\u001b[0m\n\u001b[1;32m     10\u001b[0m \u001b[0maia\u001b[0m \u001b[0;34m=\u001b[0m \u001b[0;34m(\u001b[0m\u001b[0mlia\u001b[0m \u001b[0;34m+\u001b[0m \u001b[0mnia\u001b[0m\u001b[0;34m)\u001b[0m\u001b[0;34m.\u001b[0m\u001b[0meval\u001b[0m\u001b[0;34m(\u001b[0m\u001b[0mstorage\u001b[0m\u001b[0;34m=\u001b[0m\u001b[0mastorage\u001b[0m\u001b[0;34m,\u001b[0m \u001b[0mdtshape\u001b[0m\u001b[0;34m=\u001b[0m\u001b[0mia\u001b[0m\u001b[0;34m.\u001b[0m\u001b[0mdtshape\u001b[0m\u001b[0;34m(\u001b[0m\u001b[0mashape\u001b[0m\u001b[0;34m,\u001b[0m \u001b[0mdtype\u001b[0m\u001b[0;34m=\u001b[0m\u001b[0mDTYPE\u001b[0m\u001b[0;34m)\u001b[0m\u001b[0;34m,\u001b[0m \u001b[0;34m**\u001b[0m\u001b[0mcparams\u001b[0m\u001b[0;34m)\u001b[0m\u001b[0;34m\u001b[0m\u001b[0;34m\u001b[0m\u001b[0m\n",
      "\u001b[0;32m~/iron-array-python/iarray/high_level.py\u001b[0m in \u001b[0;36mlinspace\u001b[0;34m(dtshape, start, stop, nelem, **kwargs)\u001b[0m\n\u001b[1;32m    651\u001b[0m     \u001b[0mnelem\u001b[0m \u001b[0;34m=\u001b[0m \u001b[0mnp\u001b[0m\u001b[0;34m.\u001b[0m\u001b[0mprod\u001b[0m\u001b[0;34m(\u001b[0m\u001b[0mshape\u001b[0m\u001b[0;34m)\u001b[0m \u001b[0;32mif\u001b[0m \u001b[0mdtshape\u001b[0m \u001b[0;32mis\u001b[0m \u001b[0;32mnot\u001b[0m \u001b[0;32mNone\u001b[0m \u001b[0;32melse\u001b[0m \u001b[0mnelem\u001b[0m\u001b[0;34m\u001b[0m\u001b[0;34m\u001b[0m\u001b[0m\n\u001b[1;32m    652\u001b[0m \u001b[0;34m\u001b[0m\u001b[0m\n\u001b[0;32m--> 653\u001b[0;31m     \u001b[0;32mreturn\u001b[0m \u001b[0mext\u001b[0m\u001b[0;34m.\u001b[0m\u001b[0mlinspace\u001b[0m\u001b[0;34m(\u001b[0m\u001b[0mcfg\u001b[0m\u001b[0;34m,\u001b[0m \u001b[0mnelem\u001b[0m\u001b[0;34m,\u001b[0m \u001b[0mstart\u001b[0m\u001b[0;34m,\u001b[0m \u001b[0mstop\u001b[0m\u001b[0;34m,\u001b[0m \u001b[0mdtshape\u001b[0m\u001b[0;34m)\u001b[0m\u001b[0;34m\u001b[0m\u001b[0;34m\u001b[0m\u001b[0m\n\u001b[0m\u001b[1;32m    654\u001b[0m \u001b[0;34m\u001b[0m\u001b[0m\n\u001b[1;32m    655\u001b[0m \u001b[0;34m\u001b[0m\u001b[0m\n",
      "\u001b[0;31mKeyboardInterrupt\u001b[0m: "
     ]
    }
   ],
   "source": [
    "cparams = dict(clib=CLIB, clevel=CLEVEL, nthreads=NTHREADS)\n",
    "\n",
    "storage = ia.StorageProperties(achunkshape, ablockshape)\n",
    "\n",
    "astorage = ia.StorageProperties(achunkshape, ablockshape, filename=\"a.iarray\")\n",
    "\n",
    "\n",
    "lia = ia.linspace(ia.dtshape(ashape, dtype=DTYPE), 0, 1, storage=storage, **cparams)\n",
    "nia = ia.random_normal(ia.dtshape(ashape, dtype=DTYPE), 0, 0.0000001, storage=storage, **cparams)\n",
    "aia = (lia + nia).eval(storage=astorage, dtshape=ia.dtshape(ashape, dtype=DTYPE), **cparams)\n",
    "\n",
    "bstorage = ia.StorageProperties(bchunkshape, bblockshape, filename=\"b.iarray\")\n",
    "\n",
    "lia = ia.linspace(ia.dtshape(bshape, dtype=DTYPE), 0, 1, storage=storage, **cparams)\n",
    "nia = ia.random_normal(ia.dtshape(bshape, dtype=DTYPE), 0, 0.0000001, storage=storage, **cparams)\n",
    "bia = (lia + nia).eval(storage=bstorage, dtshape=ia.dtshape(bshape, dtype=DTYPE), **cparams)\n",
    "\n",
    "\n",
    "cstorage = ia.StorageProperties(cchunkshape, cblockshape, filename=\"c.iarray\")"
   ]
  },
  {
   "cell_type": "code",
   "execution_count": null,
   "metadata": {},
   "outputs": [],
   "source": [
    "compressor = Blosc(cname='lz4', clevel=CLEVEL, shuffle=Blosc.SHUFFLE)\n",
    "\n",
    "\n",
    "azarr = zarr.open('a.zarr', mode='w', shape=ashape,\n",
    "                  chunks=daskchunks, dtype=DTYPE, compressor=compressor)\n",
    "for info, block in aia.iter_read_block(daskchunks):\n",
    "    sl = tuple([slice(i, i + s) for i, s in zip(info.elemindex, info.shape)])\n",
    "    azarr[sl] = block[:]\n",
    "\n",
    "bzarr = zarr.open('b.zarr', mode='w', shape=ashape,\n",
    "                  chunks=daskchunks, dtype=DTYPE, compressor=compressor)\n",
    "for info, block in bia.iter_read_block(daskchunks):\n",
    "    sl = tuple([slice(i, i + s) for i, s in zip(info.elemindex, info.shape)])\n",
    "    bzarr[sl] = block[:]"
   ]
  },
  {
   "cell_type": "code",
   "execution_count": null,
   "metadata": {},
   "outputs": [],
   "source": [
    "mw = MemWatcher()\n",
    "mw.start_watching_memory()"
   ]
  },
  {
   "cell_type": "code",
   "execution_count": null,
   "metadata": {},
   "outputs": [],
   "source": [
    "scheduler = \"single-threaded\" if NTHREADS == 1 else \"threads\"\n",
    "with dask.config.set(scheduler=scheduler, num_workers=NTHREADS):\n",
    "    ad = da.from_zarr(azarr)\n",
    "    bd = da.from_zarr(bzarr)\n",
    "    cd = da.matmul(ad, bd)\n",
    "    czarr = zarr.open('c.zarr', mode='w', shape=(ashape[0], bshape[1]),\n",
    "                  chunks=daskchunks, dtype=DTYPE, compressor=compressor)\n",
    "    da.to_zarr(cd, czarr)"
   ]
  },
  {
   "cell_type": "code",
   "execution_count": null,
   "metadata": {},
   "outputs": [],
   "source": [
    "cia = ia.matmul(aia, bia, storage=cstorage, **cparams)"
   ]
  },
  {
   "cell_type": "code",
   "execution_count": null,
   "metadata": {},
   "outputs": [],
   "source": [
    "mw.stop_watching_memory()"
   ]
  },
  {
   "cell_type": "code",
   "execution_count": null,
   "metadata": {},
   "outputs": [],
   "source": [
    "np.testing.assert_allclose(czarr, ia.iarray2numpy(cia))"
   ]
  },
  {
   "cell_type": "code",
   "execution_count": null,
   "metadata": {},
   "outputs": [],
   "source": []
  }
 ],
 "metadata": {
  "kernelspec": {
   "display_name": "Python 3",
   "language": "python",
   "name": "python3"
  },
  "language_info": {
   "codemirror_mode": {
    "name": "ipython",
    "version": 3
   },
   "file_extension": ".py",
   "mimetype": "text/x-python",
   "name": "python",
   "nbconvert_exporter": "python",
   "pygments_lexer": "ipython3",
   "version": "3.8.3"
  }
 },
 "nbformat": 4,
 "nbformat_minor": 4
}
