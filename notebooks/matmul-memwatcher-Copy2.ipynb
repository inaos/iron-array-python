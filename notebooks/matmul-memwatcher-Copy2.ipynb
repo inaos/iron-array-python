{
 "cells": [
  {
   "cell_type": "code",
   "execution_count": 1,
   "metadata": {},
   "outputs": [],
   "source": [
    "import sys\n",
    "sys.path.append(\"../\") # go to parent dir\n",
    "\n",
    "import iarray as ia\n",
    "import numpy as np\n",
    "from numcodecs import Blosc\n",
    "import zarr\n",
    "import dask\n",
    "import dask.array as da\n",
    "import matplotlib.pyplot as plt\n",
    "%matplotlib inline"
   ]
  },
  {
   "cell_type": "code",
   "execution_count": 2,
   "metadata": {},
   "outputs": [
    {
     "ename": "OSError",
     "evalue": "dlopen(libmkl_rt.so, 6): image not found",
     "output_type": "error",
     "traceback": [
      "\u001B[0;31m---------------------------------------------------------------------------\u001B[0m",
      "\u001B[0;31mOSError\u001B[0m                                   Traceback (most recent call last)",
      "\u001B[0;32m/var/folders/s2/7xckwnmd493cqgj23nn7qv4m0000gn/T/ipykernel_4518/3799944221.py\u001B[0m in \u001B[0;36m<module>\u001B[0;34m\u001B[0m\n\u001B[1;32m      1\u001B[0m \u001B[0;32mimport\u001B[0m \u001B[0mctypes\u001B[0m\u001B[0;34m\u001B[0m\u001B[0;34m\u001B[0m\u001B[0m\n\u001B[0;32m----> 2\u001B[0;31m \u001B[0mmkl_rt\u001B[0m \u001B[0;34m=\u001B[0m \u001B[0mctypes\u001B[0m\u001B[0;34m.\u001B[0m\u001B[0mCDLL\u001B[0m\u001B[0;34m(\u001B[0m\u001B[0;34m'libmkl_rt.so'\u001B[0m\u001B[0;34m)\u001B[0m\u001B[0;34m\u001B[0m\u001B[0;34m\u001B[0m\u001B[0m\n\u001B[0m\u001B[1;32m      3\u001B[0m \u001B[0mmkl_set_num_threads\u001B[0m \u001B[0;34m=\u001B[0m \u001B[0mmkl_rt\u001B[0m\u001B[0;34m.\u001B[0m\u001B[0mMKL_Set_Num_Threads\u001B[0m\u001B[0;34m\u001B[0m\u001B[0;34m\u001B[0m\u001B[0m\n\u001B[1;32m      4\u001B[0m \u001B[0;34m\u001B[0m\u001B[0m\n\u001B[1;32m      5\u001B[0m \u001B[0mmkl_set_num_threads\u001B[0m\u001B[0;34m(\u001B[0m\u001B[0;36m1\u001B[0m\u001B[0;34m)\u001B[0m\u001B[0;34m\u001B[0m\u001B[0;34m\u001B[0m\u001B[0m\n",
      "\u001B[0;32m~/.conda/envs/iron-array-python/lib/python3.9/ctypes/__init__.py\u001B[0m in \u001B[0;36m__init__\u001B[0;34m(self, name, mode, handle, use_errno, use_last_error, winmode)\u001B[0m\n\u001B[1;32m    380\u001B[0m \u001B[0;34m\u001B[0m\u001B[0m\n\u001B[1;32m    381\u001B[0m         \u001B[0;32mif\u001B[0m \u001B[0mhandle\u001B[0m \u001B[0;32mis\u001B[0m \u001B[0;32mNone\u001B[0m\u001B[0;34m:\u001B[0m\u001B[0;34m\u001B[0m\u001B[0;34m\u001B[0m\u001B[0m\n\u001B[0;32m--> 382\u001B[0;31m             \u001B[0mself\u001B[0m\u001B[0;34m.\u001B[0m\u001B[0m_handle\u001B[0m \u001B[0;34m=\u001B[0m \u001B[0m_dlopen\u001B[0m\u001B[0;34m(\u001B[0m\u001B[0mself\u001B[0m\u001B[0;34m.\u001B[0m\u001B[0m_name\u001B[0m\u001B[0;34m,\u001B[0m \u001B[0mmode\u001B[0m\u001B[0;34m)\u001B[0m\u001B[0;34m\u001B[0m\u001B[0;34m\u001B[0m\u001B[0m\n\u001B[0m\u001B[1;32m    383\u001B[0m         \u001B[0;32melse\u001B[0m\u001B[0;34m:\u001B[0m\u001B[0;34m\u001B[0m\u001B[0;34m\u001B[0m\u001B[0m\n\u001B[1;32m    384\u001B[0m             \u001B[0mself\u001B[0m\u001B[0;34m.\u001B[0m\u001B[0m_handle\u001B[0m \u001B[0;34m=\u001B[0m \u001B[0mhandle\u001B[0m\u001B[0;34m\u001B[0m\u001B[0;34m\u001B[0m\u001B[0m\n",
      "\u001B[0;31mOSError\u001B[0m: dlopen(libmkl_rt.so, 6): image not found"
     ]
    }
   ],
   "source": [
    "import ctypes\n",
    "mkl_rt = ctypes.CDLL('libmkl_rt.so')\n",
    "mkl_set_num_threads = mkl_rt.MKL_Set_Num_Threads\n",
    "\n",
    "mkl_set_num_threads(1)"
   ]
  },
  {
   "cell_type": "code",
   "execution_count": null,
   "metadata": {},
   "outputs": [],
   "source": [
    "from ipython_memwatcher import MemWatcher"
   ]
  },
  {
   "cell_type": "code",
   "execution_count": null,
   "metadata": {},
   "outputs": [],
   "source": [
    "DTYPE = np.float64\n",
    "NTHREADS = 4\n",
    "CLEVEL = 5\n",
    "CLIB = ia.LZ4\n",
    "NREP = 1"
   ]
  },
  {
   "cell_type": "code",
   "execution_count": null,
   "metadata": {},
   "outputs": [],
   "source": [
    "shape = (16384, 16384)\n",
    "shape = [int(x / 1) for x in shape]\n",
    "chunkshape = (8192, 4096)\n",
    "chunkshape = [int(x / 1) for x in chunkshape]\n",
    "blockshape = (2048, 2048)\n",
    "blockshape = [int(x / 1) for x in blockshape]\n",
    "\n",
    "\n",
    "ashape = shape\n",
    "achunkshape = chunkshape\n",
    "ablockshape = blockshape\n",
    "\n",
    "bshape = shape\n",
    "bchunkshape = chunkshape\n",
    "bblockshape = blockshape\n",
    "\n",
    "cchunkshape = chunkshape\n",
    "cblockshape = blockshape\n",
    "\n",
    "daskchunks = chunkshape"
   ]
  },
  {
   "cell_type": "code",
   "execution_count": null,
   "metadata": {},
   "outputs": [],
   "source": [
    "cparams = dict(clib=CLIB, clevel=CLEVEL, nthreads=NTHREADS)\n",
    "\n",
    "storage = ia.StorageProperties(achunkshape, ablockshape)\n",
    "\n",
    "astorage = ia.StorageProperties(achunkshape, ablockshape, filename=\"a.iarr\")\n",
    "\n",
    "\n",
    "lia = ia.linspace(ia.dtshape(ashape, dtype=DTYPE), 0, 1, storage=storage, **cparams)\n",
    "nia = ia.random_normal(ia.dtshape(ashape, dtype=DTYPE), 0, 0.0000001, storage=storage, **cparams)\n",
    "aia = (lia + nia).eval(storage=astorage, dtshape=ia.dtshape(ashape, dtype=DTYPE), **cparams)\n",
    "\n",
    "bstorage = ia.StorageProperties(bchunkshape, bblockshape, filename=\"b.iarr\")\n",
    "\n",
    "lia = ia.linspace(ia.dtshape(bshape, dtype=DTYPE), 0, 1, storage=storage, **cparams)\n",
    "nia = ia.random_normal(ia.dtshape(bshape, dtype=DTYPE), 0, 0.0000001, storage=storage, **cparams)\n",
    "bia = (lia + nia).eval(storage=bstorage, dtshape=ia.dtshape(bshape, dtype=DTYPE), **cparams)\n",
    "\n",
    "\n",
    "cstorage = ia.StorageProperties(cchunkshape, cblockshape, filename=\"c.iarr\")"
   ]
  },
  {
   "cell_type": "code",
   "execution_count": null,
   "metadata": {},
   "outputs": [],
   "source": [
    "compressor = Blosc(cname='lz4', clevel=CLEVEL, shuffle=Blosc.SHUFFLE)\n",
    "\n",
    "\n",
    "azarr = zarr.open('a.zarr', mode='w', shape=ashape,\n",
    "                  chunks=daskchunks, dtype=DTYPE, compressor=compressor)\n",
    "for info, block in aia.iter_read_block(daskchunks):\n",
    "    sl = tuple([slice(i, i + s) for i, s in zip(info.elemindex, info.shape)])\n",
    "    azarr[sl] = block[:]\n",
    "\n",
    "bzarr = zarr.open('b.zarr', mode='w', shape=ashape,\n",
    "                  chunks=daskchunks, dtype=DTYPE, compressor=compressor)\n",
    "for info, block in bia.iter_read_block(daskchunks):\n",
    "    sl = tuple([slice(i, i + s) for i, s in zip(info.elemindex, info.shape)])\n",
    "    bzarr[sl] = block[:]"
   ]
  },
  {
   "cell_type": "code",
   "execution_count": null,
   "metadata": {},
   "outputs": [],
   "source": [
    "mw = MemWatcher()\n",
    "mw.start_watching_memory()"
   ]
  },
  {
   "cell_type": "code",
   "execution_count": null,
   "metadata": {},
   "outputs": [],
   "source": [
    "scheduler = \"single-threaded\" if NTHREADS == 1 else \"threads\"\n",
    "with dask.config.set(scheduler=scheduler, num_workers=NTHREADS):\n",
    "    ad = da.from_zarr(azarr)\n",
    "    bd = da.from_zarr(bzarr)\n",
    "    cd = da.matmul(ad, bd)\n",
    "    czarr = zarr.open('c.zarr', mode='w', shape=(ashape[0], bshape[1]),\n",
    "                  chunks=daskchunks, dtype=DTYPE, compressor=compressor)\n",
    "    da.to_zarr(cd, czarr)"
   ]
  },
  {
   "cell_type": "code",
   "execution_count": null,
   "metadata": {},
   "outputs": [],
   "source": [
    "cia = ia.matmul(aia, bia, storage=cstorage, **cparams)"
   ]
  },
  {
   "cell_type": "code",
   "execution_count": null,
   "metadata": {},
   "outputs": [],
   "source": [
    "mw.stop_watching_memory()"
   ]
  },
  {
   "cell_type": "code",
   "execution_count": null,
   "metadata": {},
   "outputs": [],
   "source": [
    "np.testing.assert_allclose(czarr, ia.iarray2numpy(cia))"
   ]
  },
  {
   "cell_type": "code",
   "execution_count": null,
   "metadata": {},
   "outputs": [],
   "source": []
  }
 ],
 "metadata": {
  "kernelspec": {
   "display_name": "Python 3",
   "language": "python",
   "name": "python3"
  },
  "language_info": {
   "codemirror_mode": {
    "name": "ipython",
    "version": 3
   },
   "file_extension": ".py",
   "mimetype": "text/x-python",
   "name": "python",
   "nbconvert_exporter": "python",
   "pygments_lexer": "ipython3",
   "version": "3.8.3"
  }
 },
 "nbformat": 4,
 "nbformat_minor": 4
}