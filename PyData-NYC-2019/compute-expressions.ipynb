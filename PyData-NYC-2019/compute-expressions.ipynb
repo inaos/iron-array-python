{
 "cells": [
  {
   "cell_type": "code",
   "execution_count": 1,
   "metadata": {},
   "outputs": [],
   "source": [
    "from time import time\n",
    "import numpy as np\n",
    "import numexpr as ne\n",
    "import iarray as ia\n",
    "from numba import jit"
   ]
  },
  {
   "cell_type": "code",
   "execution_count": 10,
   "metadata": {},
   "outputs": [],
   "source": [
    "NSLICES = 50\n",
    "SLICE_THICKNESS = 10\n",
    "NTHREADS = 4\n",
    "CLEVEL = 0\n",
    "CLIB = ia.LZ4\n",
    "BLOCKSIZE = 0\n",
    "# CLEVEL = 1\n",
    "# CLIB = ia.ZSTD\n",
    "cparams = dict(clevel=CLEVEL, clib=CLIB, nthreads=NTHREADS, blocksize=BLOCKSIZE)"
   ]
  },
  {
   "cell_type": "code",
   "execution_count": 2,
   "metadata": {},
   "outputs": [],
   "source": [
    "# The expressions to compute\n",
    "sexpr = \"(sin(x) - 3.2) * (cos(x) + 1.2)\"\n",
    "sexpr2 = \"(x - y) * (z - 3.) * (y - x - 2)\""
   ]
  },
  {
   "cell_type": "code",
   "execution_count": 3,
   "metadata": {},
   "outputs": [
    {
     "name": "stdout",
     "output_type": "stream",
     "text": [
      "Time to open file: 0.009\n"
     ]
    }
   ],
   "source": [
    "def open_datafile(filename):\n",
    "    dataset = ia.from_file(filename, load_in_mem=False)\n",
    "    return dataset\n",
    "t0 = time()\n",
    "precipitation = open_datafile(\"ia-data/rea6/tot_prec/2018.iarray\")\n",
    "t1 = time()\n",
    "print(\"Time to open file: %.3f\" % (t1 - t0))\n",
    "#print(\"dataset:\", precipitation)"
   ]
  },
  {
   "cell_type": "code",
   "execution_count": 6,
   "metadata": {},
   "outputs": [],
   "source": [
    "# Get a random number of slices\n",
    "nt, nx, ny = precipitation.shape\n",
    "shape = (NSLICES * SLICE_THICKNESS, nx, ny)\n",
    "pshape = (1, nx, ny)\n",
    "# tslices = np.random.choice(nt - SLICE_THICKNESS, NSLICES)"
   ]
  },
  {
   "cell_type": "code",
   "execution_count": 11,
   "metadata": {},
   "outputs": [],
   "source": [
    "def concatenate_slices(dataset):\n",
    "    dtshape = ia.dtshape(shape=shape, pshape=pshape, dtype=np.float32)\n",
    "    iarr = ia.empty(dtshape, **cparams)\n",
    "    for i, (_, precip_block) in enumerate(iarr.iter_write_block()):\n",
    "        slice_ia = dataset[slice(tslice + i, tslice + i + 1), :, :]\n",
    "        slice_np = ia.iarray2numpy(slice_ia)\n",
    "        precip_block[:, :, :] = slice_np\n",
    "    return iarr"
   ]
  },
  {
   "cell_type": "code",
   "execution_count": 12,
   "metadata": {},
   "outputs": [
    {
     "name": "stdout",
     "output_type": "stream",
     "text": [
      "Time for concatenating 500 slices into an ia container (1): 6.239\n",
      "cratio 0.9999885511477474\n"
     ]
    }
   ],
   "source": [
    "np.random.seed(1)\n",
    "tslice = np.random.choice(nt - NSLICES * SLICE_THICKNESS)\n",
    "t0 = time()\n",
    "prec1 = concatenate_slices(precipitation)\n",
    "t1 = time()\n",
    "print(\"Time for concatenating %d slices into an ia container (1): %.3f\" % (NSLICES * SLICE_THICKNESS, (t1 - t0)))\n",
    "print(\"cratio\", prec1.cratio)"
   ]
  },
  {
   "cell_type": "code",
   "execution_count": 13,
   "metadata": {},
   "outputs": [
    {
     "name": "stdout",
     "output_type": "stream",
     "text": [
      "Time for concatenating 500 slices into an ia container (2): 3.915\n",
      "cratio 0.9999885511477474\n"
     ]
    }
   ],
   "source": [
    "np.random.seed(2)\n",
    "tslice = np.random.choice(nt - NSLICES * SLICE_THICKNESS)\n",
    "t0 = time()\n",
    "prec2 = concatenate_slices(precipitation)\n",
    "t1 = time()\n",
    "print(\"Time for concatenating %d slices into an ia container (2): %.3f\" % (NSLICES * SLICE_THICKNESS, (t1 - t0)))\n",
    "print(\"cratio\", prec2.cratio)"
   ]
  },
  {
   "cell_type": "code",
   "execution_count": 14,
   "metadata": {},
   "outputs": [
    {
     "name": "stdout",
     "output_type": "stream",
     "text": [
      "Time for concatenating 500 slices into an ia container (3): 3.192\n",
      "cratio 0.9999885511477474\n"
     ]
    }
   ],
   "source": [
    "np.random.seed(3)\n",
    "tslice = np.random.choice(nt - NSLICES * SLICE_THICKNESS)\n",
    "t0 = time()\n",
    "prec3 = concatenate_slices(precipitation)\n",
    "t1 = time()\n",
    "print(\"Time for concatenating %d slices into an ia container (3): %.3f\" % (NSLICES * SLICE_THICKNESS, (t1 - t0)))\n",
    "print(\"cratio\", prec3.cratio)"
   ]
  },
  {
   "cell_type": "code",
   "execution_count": 39,
   "metadata": {},
   "outputs": [
    {
     "name": "stdout",
     "output_type": "stream",
     "text": [
      "Time for computing '(sin(x) - 3.2) * (cos(x) + 1.2)' expression with 1 operand (iarray): 2.853\n"
     ]
    }
   ],
   "source": [
    "def compute_slices(x):\n",
    "    expr = ia.Expr(eval_flags=\"iterblock\", **cparams)\n",
    "    expr.bind(\"x\", x)\n",
    "    expr.compile(sexpr)\n",
    "    out = expr.eval(shape, pshape, x.dtype)\n",
    "    return out\n",
    "t0 = time()\n",
    "slices_computed = compute_slices(prec1)\n",
    "t1 = time()\n",
    "print(\"Time for computing '%s' expression with 1 operand (iarray): %.3f\" % (sexpr, (t1 - t0)))"
   ]
  },
  {
   "cell_type": "code",
   "execution_count": 42,
   "metadata": {},
   "outputs": [
    {
     "name": "stdout",
     "output_type": "stream",
     "text": [
      "Time for computing '(sin(x) - 3.2) * (cos(x) + 1.2)' expression with 1 operand (via numpy): 5.828\n"
     ]
    }
   ],
   "source": [
    "def compute_numpy(x):\n",
    "    out = (np.sin(x) - 3.2) * (np.cos(x) + 1.2)\n",
    "    return out\n",
    "t0 = time()\n",
    "npslices_computed = compute_numpy(ia.iarray2numpy(prec1))\n",
    "t1 = time()\n",
    "print(\"Time for computing '%s' expression with 1 operand (via numpy): %.3f\" % (sexpr, (t1 - t0)))"
   ]
  },
  {
   "cell_type": "code",
   "execution_count": 37,
   "metadata": {},
   "outputs": [
    {
     "name": "stdout",
     "output_type": "stream",
     "text": [
      "Time for computing '(x - y) * (z - 3.) * (y - x - 2)' expression with 3 operands (iarray): 3.623\n"
     ]
    }
   ],
   "source": [
    "def compute_slices2(dset1, dset2, dset3):\n",
    "    expr = ia.Expr(eval_flags=\"iterblock\", **cparams)\n",
    "    expr.bind(\"x\", dset1)\n",
    "    expr.bind(\"y\", dset2)\n",
    "    expr.bind(\"z\", dset3)\n",
    "    expr.compile(sexpr2)\n",
    "    out = expr.eval(shape, pshape, dset1.dtype)\n",
    "    return out\n",
    "t0 = time()\n",
    "slices_computed2 = compute_slices2(prec1, prec2, prec3)\n",
    "t1 = time()\n",
    "print(\"Time for computing '%s' expression with 3 operands (iarray): %.3f\" % (sexpr2, (t1 - t0)))"
   ]
  },
  {
   "cell_type": "code",
   "execution_count": 45,
   "metadata": {},
   "outputs": [
    {
     "name": "stdout",
     "output_type": "stream",
     "text": [
      "Time for computing '(sin(x) - 3.2) * (cos(x) + 1.2)' expression with 3 operands (via numpy): 14.729\n"
     ]
    }
   ],
   "source": [
    "def compute_numpy2(x, y, z):\n",
    "    out = (x - y) * (z - 3.) * (y - x - 2)\n",
    "    return out\n",
    "t0 = time()\n",
    "npslices_computed = compute_numpy2(ia.iarray2numpy(prec1), ia.iarray2numpy(prec2), ia.iarray2numpy(prec3))\n",
    "t1 = time()\n",
    "print(\"Time for computing '%s' expression with 3 operands (via numpy): %.3f\" % (sexpr, (t1 - t0)))"
   ]
  },
  {
   "cell_type": "code",
   "execution_count": null,
   "metadata": {},
   "outputs": [],
   "source": []
  }
 ],
 "metadata": {
  "kernelspec": {
   "display_name": "Python 3",
   "language": "python",
   "name": "python3"
  },
  "language_info": {
   "codemirror_mode": {
    "name": "ipython",
    "version": 3
   },
   "file_extension": ".py",
   "mimetype": "text/x-python",
   "name": "python",
   "nbconvert_exporter": "python",
   "pygments_lexer": "ipython3",
   "version": "3.7.4"
  }
 },
 "nbformat": 4,
 "nbformat_minor": 2
}
