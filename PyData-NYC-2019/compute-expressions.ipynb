{
 "cells": [
  {
   "cell_type": "code",
   "execution_count": 10,
   "metadata": {},
   "outputs": [],
   "source": [
    "from time import time\n",
    "import numpy as np\n",
    "import numexpr as ne\n",
    "import iarray as ia\n",
    "from numba import jit"
   ]
  },
  {
   "cell_type": "code",
   "execution_count": 11,
   "metadata": {},
   "outputs": [],
   "source": [
    "NSLICES = 50\n",
    "SLICE_THICKNESS = 10\n",
    "NTHREADS = 4\n",
    "CLEVEL = 5\n",
    "CLIB = ia.LZ4\n",
    "BLOCKSIZE = 0\n",
    "# CLEVEL = 1\n",
    "# CLIB = ia.ZSTD\n",
    "\n",
    "sexpr = \"(sin(x) - 3.2) * (cos(x) + 1.2)\"\n",
    "sexpr2 = \"(x - y) * (z - 3.) * (y - x - 2)\""
   ]
  },
  {
   "cell_type": "code",
   "execution_count": 12,
   "metadata": {},
   "outputs": [
    {
     "name": "stdout",
     "output_type": "stream",
     "text": [
      "Time to open file: 0.009\n"
     ]
    }
   ],
   "source": [
    "def open_datafile(filename):\n",
    "    dataset = ia.from_file(filename, load_in_mem=False)\n",
    "    return dataset\n",
    "t0 = time()\n",
    "precipitation = open_datafile(\"ia-data/rea6/tot_prec/2018.iarray\")\n",
    "t1 = time()\n",
    "print(\"Time to open file: %.3f\" % (t1 - t0))\n",
    "#print(\"dataset:\", precipitation)\n",
    "\n",
    "# Get a random number of slices\n",
    "nt, nx, ny = precipitation.shape\n",
    "shape = (NSLICES * SLICE_THICKNESS, nx, ny)\n",
    "pshape = (1, nx, ny)\n",
    "# tslices = np.random.choice(nt - SLICE_THICKNESS, NSLICES)"
   ]
  },
  {
   "cell_type": "code",
   "execution_count": 13,
   "metadata": {},
   "outputs": [],
   "source": [
    "def get_slice(dataset, i):\n",
    "    return dataset[slice(tslice + i, tslice + i + 1), :, :]\n",
    "\n",
    "def concatenate_slices(dataset):\n",
    "    dtshape = ia.dtshape(shape=shape, pshape=pshape, dtype=np.float32)\n",
    "    iarr = ia.empty(dtshape, clevel=CLEVEL, clib=CLIB, nthreads=NTHREADS, blocksize=BLOCKSIZE)\n",
    "    for i, (_, precip_block) in enumerate(iarr.iter_write_block()):\n",
    "        slice_np = ia.iarray2numpy(get_slice(dataset, i))\n",
    "        precip_block[:, :, :] = slice_np\n",
    "    return iarr"
   ]
  },
  {
   "cell_type": "code",
   "execution_count": 14,
   "metadata": {},
   "outputs": [
    {
     "name": "stdout",
     "output_type": "stream",
     "text": [
      "Time for concatenating 50 slices into an ia container (1): 2.866\n",
      "cratio 0.9999885511477474\n"
     ]
    }
   ],
   "source": [
    "np.random.seed(1)\n",
    "tslice = np.random.choice(nt - NSLICES * SLICE_THICKNESS)\n",
    "t0 = time()\n",
    "prec1 = concatenate_slices(precipitation)\n",
    "t1 = time()\n",
    "print(\"Time for concatenating %d slices into an ia container (1): %.3f\" % (NSLICES, (t1 - t0)))\n",
    "print(\"cratio\", prec1.cratio)"
   ]
  },
  {
   "cell_type": "code",
   "execution_count": 15,
   "metadata": {},
   "outputs": [
    {
     "name": "stdout",
     "output_type": "stream",
     "text": [
      "Time for concatenating 50 slices into an ia container (2): 2.159\n",
      "cratio 0.9999885511477474\n"
     ]
    }
   ],
   "source": [
    "np.random.seed(2)\n",
    "tslice = np.random.choice(nt - NSLICES * SLICE_THICKNESS)\n",
    "t0 = time()\n",
    "prec2 = concatenate_slices(precipitation)\n",
    "t1 = time()\n",
    "print(\"Time for concatenating %d slices into an ia container (2): %.3f\" % (NSLICES, (t1 - t0)))\n",
    "print(\"cratio\", prec2.cratio)"
   ]
  },
  {
   "cell_type": "code",
   "execution_count": 16,
   "metadata": {},
   "outputs": [
    {
     "name": "stdout",
     "output_type": "stream",
     "text": [
      "Time for concatenating 50 slices into an ia container (3): 2.412\n",
      "cratio 0.9999885511477474\n"
     ]
    }
   ],
   "source": [
    "np.random.seed(3)\n",
    "tslice = np.random.choice(nt - NSLICES * SLICE_THICKNESS)\n",
    "t0 = time()\n",
    "prec3 = concatenate_slices(precipitation)\n",
    "t1 = time()\n",
    "print(\"Time for concatenating %d slices into an ia container (3): %.3f\" % (NSLICES, (t1 - t0)))\n",
    "print(\"cratio\", prec3.cratio)"
   ]
  },
  {
   "cell_type": "code",
   "execution_count": 17,
   "metadata": {},
   "outputs": [
    {
     "name": "stdout",
     "output_type": "stream",
     "text": [
      "Time for computing '(sin(x) - 3.2) * (cos(x) + 1.2)' expression with 1 operand (iarray): 2.114\n"
     ]
    }
   ],
   "source": [
    "def compute_slices(dataset):\n",
    "    expr = ia.Expr(eval_flags=\"iterblock\", clevel=CLEVEL, clib=CLIB, nthreads=NTHREADS, blocksize=BLOCKSIZE)\n",
    "    expr.bind(\"x\", dataset)\n",
    "    expr.compile(sexpr)\n",
    "    out = expr.eval(shape, pshape, dataset.dtype)\n",
    "    return out\n",
    "t0 = time()\n",
    "slices_computed = compute_slices(prec1)\n",
    "t1 = time()\n",
    "print(\"Time for computing '%s' expression with 1 operand (iarray): %.3f\" % (sexpr, (t1 - t0)))"
   ]
  },
  {
   "cell_type": "code",
   "execution_count": 18,
   "metadata": {},
   "outputs": [
    {
     "name": "stdout",
     "output_type": "stream",
     "text": [
      "Time for computing '(x - y) * (z - 3.) * (y - x - 2)' expression with 3 operands (iarray): 3.704\n"
     ]
    }
   ],
   "source": [
    "def compute_slices2(dset1, dset2, dset3):\n",
    "    expr = ia.Expr(eval_flags=\"iterblock\", clevel=CLEVEL, clib=CLIB, nthreads=NTHREADS, blocksize=BLOCKSIZE)\n",
    "    expr.bind(\"x\", dset1)\n",
    "    expr.bind(\"y\", dset2)\n",
    "    expr.bind(\"z\", dset3)\n",
    "    expr.compile(sexpr2)\n",
    "    out = expr.eval(shape, pshape, dset1.dtype)\n",
    "    return out\n",
    "t0 = time()\n",
    "slices_computed2 = compute_slices2(prec1, prec2, prec3)\n",
    "t1 = time()\n",
    "print(\"Time for computing '%s' expression with 3 operands (iarray): %.3f\" % (sexpr2, (t1 - t0)))"
   ]
  },
  {
   "cell_type": "code",
   "execution_count": null,
   "metadata": {},
   "outputs": [],
   "source": []
  }
 ],
 "metadata": {
  "kernelspec": {
   "display_name": "Python 3",
   "language": "python",
   "name": "python3"
  },
  "language_info": {
   "codemirror_mode": {
    "name": "ipython",
    "version": 3
   },
   "file_extension": ".py",
   "mimetype": "text/x-python",
   "name": "python",
   "nbconvert_exporter": "python",
   "pygments_lexer": "ipython3",
   "version": "3.7.4"
  }
 },
 "nbformat": 4,
 "nbformat_minor": 2
}
